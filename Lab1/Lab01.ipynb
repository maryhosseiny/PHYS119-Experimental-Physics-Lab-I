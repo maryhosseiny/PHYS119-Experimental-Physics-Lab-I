{
 "cells": [
  {
   "cell_type": "markdown",
   "id": "32573df8-8e9b-450f-aa6a-64c28ff8c2a2",
   "metadata": {
    "id": "32573df8-8e9b-450f-aa6a-64c28ff8c2a2"
   },
   "source": [
    "# Lab 01 - Introduction to Experimentation"
   ]
  },
  {
   "cell_type": "markdown",
   "id": "e556177f-bd50-4cf4-9492-710e564d726e",
   "metadata": {
    "id": "e556177f-bd50-4cf4-9492-710e564d726e"
   },
   "source": [
    "Today's notebook has some reminders and template 'scaffolding' in it to help you make\n",
    "sure you put all the pieces in it. As we go through the next few weeks, you'll see less and\n",
    "less of that.\n",
    "\n",
    "Please start by **running the cell below** (by clicking on it and pressing the play/triangle button, or by Shift + Return) before getting started! This cell will clear the python environment and import the necessary Python packages to run your data analysis in today's lab."
   ]
  },
  {
   "cell_type": "code",
   "execution_count": 8,
   "id": "26726484-93c7-499a-9f34-d4656ef6df5a",
   "metadata": {
    "id": "26726484-93c7-499a-9f34-d4656ef6df5a",
    "tags": []
   },
   "outputs": [],
   "source": [
    "# This clears the python workspace of any previously defined variables.:\n",
    "%reset -f \n",
    "\n",
    "# Import the numpy library:\n",
    "import numpy as np"
   ]
  },
  {
   "cell_type": "markdown",
   "id": "aac644cf-1acd-4734-9c84-029f978575a3",
   "metadata": {
    "tags": []
   },
   "source": [
    "Edit this cell and provide the information requested:\n",
    "\n",
    "- Your name: Mary\n",
    "- Your student number: \n",
    "- Partner's name: Musa\n"
   ]
  },
  {
   "cell_type": "markdown",
   "id": "1699f60d-35fb-4ea7-8dbd-83b391307428",
   "metadata": {
    "id": "1699f60d-35fb-4ea7-8dbd-83b391307428"
   },
   "source": [
    "## Part B - Familiarization with the experiment"
   ]
  },
  {
   "cell_type": "markdown",
   "id": "c91906bd-3c8d-46d1-9a0b-0cfb288fbc5f",
   "metadata": {
    "id": "c91906bd-3c8d-46d1-9a0b-0cfb288fbc5f"
   },
   "source": [
    "Double click on this cell to edit it! Write down any notes you have from the familiarization here. Consult the lab instructions for tips on what to include in your lab notes during this familiarization stage. Remember that you can use bullet points if you wish:\n",
    "- Uncompressed mass is 0.078kg\n",
    "- Height of spring when uncompressed 13cm\n",
    "- Compressed mass is 0.700\n",
    "- Height of spring when compressed 7.6cm"
   ]
  },
  {
   "cell_type": "markdown",
   "id": "377eec21",
   "metadata": {
    "tags": []
   },
   "source": [
    "#### How did you take your measurement?"
   ]
  },
  {
   "cell_type": "markdown",
   "id": "c29da620-f0b2-4ced-a47c-40d467db3187",
   "metadata": {},
   "source": [
    "First we measured the height of the spring. Since the spring was slanted on top, we took the average of the slant by measuring the highest, middle and lowest point of the slant. Then we took the average of our measurements (12.9, 13 and 13.1) and got 13cm as the average total height of the spring.\n",
    "\n",
    "Then we placed the spring on the scale to get the uncompressed mass of 0.078kg. \n",
    "\n",
    "After which I placed my hand and compressed the spring while my partner measured the height of the spring. We recorded a compressed mass of 0.700kg as the mass and a compressed height of 7.6cm.\n",
    "\n",
    "**Side Note:** When measuring the height of the spring, it is important to mention that we measured from the table and subtract the height of the scale from the measurement that we got. So the finalized measurements that we reported is the result after we subtract the height of the scale. \n",
    "\n"
   ]
  },
  {
   "cell_type": "markdown",
   "id": "72ba03be-2223-4099-a292-921436e658da",
   "metadata": {
    "id": "72ba03be-2223-4099-a292-921436e658da",
    "tags": []
   },
   "source": [
    "## Your initial measurement and calculation of $k$"
   ]
  },
  {
   "cell_type": "markdown",
   "id": "ffd7559a-a019-4b0e-b3fb-1c335931a0c5",
   "metadata": {
    "id": "ffd7559a-a019-4b0e-b3fb-1c335931a0c5"
   },
   "source": [
    "Use the Python cell below to enter your measured values for $m_1$, $m_2$, $x_1$, and $x_2$. You may then calculate $k$ from these Python variables within the same cell."
   ]
  },
  {
   "cell_type": "code",
   "execution_count": 9,
   "id": "696185dd-d5b6-46ee-81b0-66f4815b8050",
   "metadata": {
    "id": "696185dd-d5b6-46ee-81b0-66f4815b8050",
    "tags": []
   },
   "outputs": [
    {
     "data": {
      "text/plain": [
       "112.98514814814813"
      ]
     },
     "execution_count": 9,
     "metadata": {},
     "output_type": "execute_result"
    }
   ],
   "source": [
    "# type in your measured values to the right of the '=' to define each Python variable below\n",
    "m1 = 0.078 # uncompressed mass reading\n",
    "x1 = 0.13   # uncompressed height\n",
    "m2 = 0.700  # compressed mass reading\n",
    "x2 = 0.076  # compressed height\n",
    "g = 9.809   # m/s^2\n",
    "# write some code below to calculate k\n",
    "dm = np.abs(m2 - m1)\n",
    "dx = np.abs(x2 - x1)\n",
    "k = (dm/dx)*g\n",
    "k\n",
    "# it may be helpful to define intermediate variables, e.g. delta_m, to make your calculation easier to follow"
   ]
  },
  {
   "cell_type": "markdown",
   "id": "a332b72c-8553-44c0-ad0c-c2ea9267bb14",
   "metadata": {
    "id": "a332b72c-8553-44c0-ad0c-c2ea9267bb14"
   },
   "source": [
    "# Part C - Discussion with your group (Familiarization)"
   ]
  },
  {
   "cell_type": "markdown",
   "id": "05ea38a1-3a38-45e6-ab2c-965e0491c48e",
   "metadata": {
    "id": "05ea38a1-3a38-45e6-ab2c-965e0491c48e"
   },
   "source": [
    "Write down notes from comparisons/discussions with your group here. Tips below:\n",
    "- How do your methods and results compare to other members of your group? The other two groups had higher k value (160 and 180) whereas ours is lower (113). We suspect this might be due to the amount of compression of the spring between use and the other two groups. We also took the average of the slant whereas they recorded the highest point of the spring as its height.\n",
    "- Did they experience challenges or insights different from yours? We all had a similar issues/difficulties. For example we had issues on how to hold the spring when compressing it. The other groups also had some issues with unit changes for the calculations (forgot to convert cm to m) whereas we forgot to double check our measurements (added an extra 0)."
   ]
  },
  {
   "cell_type": "markdown",
   "id": "e4a6be0c-5f4d-41db-ad46-dde8814a6c8f",
   "metadata": {
    "id": "e4a6be0c-5f4d-41db-ad46-dde8814a6c8f"
   },
   "source": [
    "# Part D -  How the instructional team would perform the measurement"
   ]
  },
  {
   "cell_type": "markdown",
   "id": "f58d9929-fe2c-4d58-bb18-c270b00b9c68",
   "metadata": {
    "id": "f58d9929-fe2c-4d58-bb18-c270b00b9c68"
   },
   "source": [
    "Follow along with the slides and make some notes as you go. Make sure to also write down the most important equations and a brief note on how/when to use it (for future reference). Consult the appendix in the Lab 1 instructions document on Canvas for Markdown code for the equations, which you can copy into this cell.\n",
    "\n",
    "Below is an example of a Markdown formatted equation with notes (which you should remove and replace with your own notes).\n",
    "\n",
    "**Quadratic formula:**\n",
    "\n",
    "$$ x_{root} = \\frac{ -b \\pm \\sqrt{b^2 - 4ac} }{ 2a } $$\n",
    "\n",
    "- The quadratic formula provides a solution for the roots (or zeros) of a quadratic equation $ax^2 + bx + c = 0$\n",
    "- The discriminant, $ b^2 - 4ac $, tells us how many roots the equation has\n",
    "    - $ b^2 - 4ac < 0 $ means no roots\n",
    "    - $ b^2 - 4ac = 0 $ means one root\n",
    "    - $ b^2 - 4ac > 0 $ means two roots"
   ]
  },
  {
   "cell_type": "markdown",
   "id": "dd0452f0",
   "metadata": {},
   "source": [
    "#### New tools that you learned (there should be 4):"
   ]
  },
  {
   "cell_type": "markdown",
   "id": "7df9ed70-51c5-4225-825a-5aaac7b3302b",
   "metadata": {},
   "source": [
    "- Mean: $$\\bar{x} = \\frac{1}{N}\\sum_{i=1}^N x_i $$\n",
    "    - Basically the average of something \n",
    "- Standard Deviation Formula: $$ \\sigma = \\sqrt{\\frac{1}{N-1} \\sum_{i=1}^N (x_i - \\bar{x})^2} $$\n",
    "    - Measures how wide the distribution is\n",
    "    - Think of the average distance between each point example\n",
    "- Rectangular Probability Density Function: $$\\sigma_{rectangular}= \\frac{a}{\\sqrt{3}}$$\n",
    "    - Straightforward, no measuring involved, single numerical value\n",
    "- Gaussian Probability Density Function: $$\\sigma_{Gaussian} = (95\\% CI)/4$$\n",
    "    - Will have variability with the measurement (uncertainty, eg. human fluctuation)\n",
    "- Uncertainty: \n",
    "$$|\\Delta m| = |m_2 - m_1|$$\n",
    "$$u_{\\Delta m} = \\sqrt{(u\\_m_1)^2+(u\\_m_2)^2}$$\n",
    "    - Estimate of uncertainty in the difference"
   ]
  },
  {
   "cell_type": "markdown",
   "id": "1995e7df",
   "metadata": {},
   "source": [
    "#### Answers to the uncertainty example discussion\n",
    "\n",
    "1. Gaussian: the measurements for a ball dropping will be different every time (human fluctuation). Therefore there will different results resulting in Gaussian PDF.\n",
    "2. Rectangular: the thermometer will output one result. We wouldn't have to measure anything as the thermometer will do the measuring and output a single number. Therefore, rectangular PDF.\n",
    "3. Gaussian: There will be a similar issue as the one mentioned in 1, human fluctuation. Each person can record a different pressure causing variability. Therefore Gaussian PDF is more appropriate."
   ]
  },
  {
   "cell_type": "markdown",
   "id": "4536d2bb-9381-4bd0-989b-b2433f8a862b",
   "metadata": {
    "id": "4536d2bb-9381-4bd0-989b-b2433f8a862b"
   },
   "source": [
    "# Part E - Revisiting your spring constant measurement with measurement uncertainty characterizations and calculations "
   ]
  },
  {
   "cell_type": "markdown",
   "id": "2dd1843e-5a65-4e98-96f5-0baf02598b54",
   "metadata": {
    "id": "2dd1843e-5a65-4e98-96f5-0baf02598b54"
   },
   "source": [
    "## Notes from the investigation stage"
   ]
  },
  {
   "cell_type": "markdown",
   "id": "15bc9a02-c33e-4472-a0ed-ecb493882fe4",
   "metadata": {
    "id": "15bc9a02-c33e-4472-a0ed-ecb493882fe4"
   },
   "source": [
    "This is the main ***investigation*** after your ***familiarization***. Explain how you do your measurements in enough detail that someone else could repeat it. Tips below:\n",
    "- What type of uncertainty does each variable have? Why? How did you calculate uncertainty for each variable? Justify your uncertainty choices for each measured quantity.\n",
    "    - The compressed height is Gaussian PDF\n",
    "    - The compressed mass is Gaussian PDF\n",
    "    - as well as the uncompressed height is Gaussian PDF\n",
    "    - The uncompressed mass has is rectangular PDF\n",
    "- Read the lab instructions and questions carefully.\n",
    "- Check the grading rubric for further information on what we are looking for in this week’s grading."
   ]
  },
  {
   "cell_type": "markdown",
   "id": "91533941-87c0-44e6-9345-b12cef390ef8",
   "metadata": {
    "id": "91533941-87c0-44e6-9345-b12cef390ef8"
   },
   "source": [
    "## Measurement and data analysis"
   ]
  },
  {
   "cell_type": "markdown",
   "id": "b60c3fdb-b924-4ff8-866c-8820990766e4",
   "metadata": {
    "id": "b60c3fdb-b924-4ff8-866c-8820990766e4"
   },
   "source": [
    "Add a new Python cell below and adapt your code from Part A to perform your improved measurement of $k$, along with uncertainty calculations. Consult the Appendix in the student instructions for helpful Python code which you can adapt to perform your uncertainty propagation calculations."
   ]
  },
  {
   "cell_type": "code",
   "execution_count": 10,
   "id": "70dac82f-24c8-4d0d-8c0b-c054ddf06d66",
   "metadata": {},
   "outputs": [
    {
     "name": "stdout",
     "output_type": "stream",
     "text": [
      "0.2888752253713242 0.023755262574848546\n"
     ]
    },
    {
     "data": {
      "text/plain": [
       "173.8528362800166"
      ]
     },
     "execution_count": 10,
     "metadata": {},
     "output_type": "execute_result"
    }
   ],
   "source": [
    "g = 9.809\n",
    "\n",
    "x1_max = 0.1\n",
    "u_x1 = (x1_max*0.95)/4\n",
    "\n",
    "x2_max = 0.077\n",
    "x2_min = 0.075\n",
    "u_x2 = (x2_max - x2_min)/4\n",
    "\n",
    "u_x = np.sqrt(u_x1**2 + u_x2**2)\n",
    "\n",
    "\n",
    "u_m1 = 0.5/np.sqrt(3)\n",
    "\n",
    "m2_max = 0.743\n",
    "m2_min = 0.700\n",
    "u_m2 = (m2_max - m2_min)/4\n",
    "\n",
    "u_m = np.sqrt(u_m1**2 + u_m2**2)\n",
    "print(u_m, u_x)\n",
    "\n",
    "u_deltaX = u_m * g\n",
    "u_deltaF = u_x * g\n",
    "\n",
    "deltaX = (u_m2-u_m1) * g\n",
    "deltaF = (u_x2-u_x1) * g\n",
    "\n",
    "k = (u_m/u_x) * g\n",
    "\n",
    "#what we want is K + uncertainty of K\n",
    "u_k = k*np.sqrt((u_deltaF/deltaF)**2 + (u_deltaX/deltaX)**2)\n",
    "u_k"
   ]
  },
  {
   "cell_type": "markdown",
   "id": "ab48adcd-5007-458d-8512-9773bf78f09e",
   "metadata": {
    "id": "ab48adcd-5007-458d-8512-9773bf78f09e"
   },
   "source": [
    "# Part F - Summary of results (Start this by 2h30 after the start of the lab)"
   ]
  },
  {
   "cell_type": "markdown",
   "id": "680f7194-c38a-4c37-b8cb-6ca9e60ee8a2",
   "metadata": {
    "id": "680f7194-c38a-4c37-b8cb-6ca9e60ee8a2"
   },
   "source": [
    "You do not need to write a formal conclusion, but tips on what to include are provided below.\n",
    "\n",
    "- Restate your final result for k, with uncertainty\n",
    "- Summarize the results of any comparisons you made with others regarding your final result. Are you able to draw any conclusions from these comparisons? (*Hint: the experimental goal may be helpful here*)\n",
    "- Discuss in 1-2 sentences what you would do next to improve your results if you had additional time to work on this lab"
   ]
  },
  {
   "cell_type": "markdown",
   "id": "66514319-7cbb-4fec-abfe-0437ee0e6d1a",
   "metadata": {},
   "source": [
    "The original value of K we got was 112.9 and the new K value with the uncertainty included is 173.8. The results of the calculations vs the results that we previously got are somewhat similar. The result we got with the uncertainty seems to be more accurate as it is closer to the range of results our classmates got compared to the K value we got originally. This displays that with the uncertainty included in the K value, we are more likely to get an accurate value for K. \n",
    "\n",
    "In the next lab, it is better if we continue discussing our methods with our classmates to avoid complicating the procedures. Another way that our results would be improved is if we took a longer time to better understand the steps to get the results that we wanted. We were somewhat scattered with our steps which prolonged our time when calculating. "
   ]
  },
  {
   "cell_type": "markdown",
   "id": "7517a771-b9f8-45bd-bed6-019c5242ccb6",
   "metadata": {
    "id": "7517a771-b9f8-45bd-bed6-019c5242ccb6"
   },
   "source": [
    "# Submit your lab by 2h50m after the start of lab"
   ]
  },
  {
   "cell_type": "markdown",
   "id": "e0ef016b-4d17-4c3c-bfda-7c3ae55024a4",
   "metadata": {
    "id": "e0ef016b-4d17-4c3c-bfda-7c3ae55024a4"
   },
   "source": [
    "Steps for submission:\n",
    "\n",
    "1. Click: Run => Run_All_Cells\n",
    "2. Read through the notebook to ensure all the cells executed correctly and without error.\n",
    "3. Correct any errors you find!\n",
    "4. File => Save_and_Export_Notebook_As->HTML\n",
    "5. Upload the HTML document to the lab submission assignment on Canvas.\n",
    "\n",
    "You will receive a participation grade this week for a reasonable submission as well as feedback from a TA for next week."
   ]
  }
 ],
 "metadata": {
  "colab": {
   "collapsed_sections": [],
   "name": "Lab01_student_version_v2.ipynb",
   "provenance": []
  },
  "kernelspec": {
   "display_name": "Python 3 (ipykernel)",
   "language": "python",
   "name": "python3"
  },
  "language_info": {
   "codemirror_mode": {
    "name": "ipython",
    "version": 3
   },
   "file_extension": ".py",
   "mimetype": "text/x-python",
   "name": "python",
   "nbconvert_exporter": "python",
   "pygments_lexer": "ipython3",
   "version": "3.10.8"
  },
  "widgets": {
   "application/vnd.jupyter.widget-state+json": {
    "state": {},
    "version_major": 2,
    "version_minor": 0
   }
  }
 },
 "nbformat": 4,
 "nbformat_minor": 5
}
