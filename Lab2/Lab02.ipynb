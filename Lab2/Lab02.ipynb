{
 "cells": [
  {
   "cell_type": "markdown",
   "id": "43bb25ef-99a2-4f0f-97ef-55d301a83ebe",
   "metadata": {},
   "source": [
    "# Lab 02 - Hooke's Law"
   ]
  },
  {
   "cell_type": "markdown",
   "id": "68548ed2-c93f-45d2-9d2f-2dd1f7453557",
   "metadata": {
    "tags": []
   },
   "source": [
    "# Housekeeping Tasks before you get started:\n",
    "## Ensure Widget State Saving is enabled:\n",
    "1. Please click on Settings and ensure there is a check-mark in front of: Save Widget State Automatically. In Lab 00 you were asked to turn this setting on, but \n",
    "if there is no check-mark, then click on the setting to turn it on. (The setting is a toggle, so if you click on it when it is on, it will turn it off. Please ensure it is turned on!)\n",
    "\n",
    "2. Reload your browser tab (eg CTRL-R, or click on the URL and hit enter).\n"
   ]
  },
  {
   "cell_type": "code",
   "execution_count": 121,
   "id": "73304620-b011-449e-9a34-6cfc5988e88f",
   "metadata": {},
   "outputs": [],
   "source": [
    "# These should always be at the top (and don't forget to execute them)\n",
    "%reset -f\n",
    "import numpy as np\n",
    "import data_entry2"
   ]
  },
  {
   "cell_type": "markdown",
   "id": "3e7bbdc1-d7a1-4d96-bf6d-2d19ff732090",
   "metadata": {
    "tags": []
   },
   "source": [
    "Edit this cell and provide the information requested:\n",
    "\n",
    "- Your name: Mary Hosseini\n",
    "- Your student number: 41004235\n",
    "- Partner's name: Musa Sayeed\n"
   ]
  },
  {
   "cell_type": "markdown",
   "id": "21fdbeb6-eca3-469e-8039-275c7c8424d7",
   "metadata": {
    "tags": []
   },
   "source": [
    "## Part A - Introduction"
   ]
  },
  {
   "cell_type": "markdown",
   "id": "73c25d8d-614f-4f8e-a3f3-f3edb0531ba5",
   "metadata": {},
   "source": [
    "***TA grading feedback here:***\n",
    "- The uncertainty propagation in the code is wrong. Here is the right one for your ref:\n",
    "\n",
    "u_delta_x = np.sqrt(u_x1**2 + u_x2**2)\n",
    "\n",
    "u_delta_m = np.sqrt(u_m1**2 + u_m2**2)\n",
    "\n",
    "u_delta_f = g * u_delta_m\n",
    "\n",
    "u_k = k * np.sqrt((u_delta_f/ delta_f)**2 + (u_delta_x/ delta_x)**2)\n",
    "\n",
    "In the future I will make sure to double check my formulas to ensure that I wont make any miscalculations"
   ]
  },
  {
   "cell_type": "markdown",
   "id": "9c464e96-f995-43f8-99c8-3f1aa8a5efd9",
   "metadata": {},
   "source": [
    "## Part B - Uncertainty Discussions"
   ]
  },
  {
   "cell_type": "markdown",
   "id": "0f5cdc1a-2e78-457b-a7e8-a4ec5ff45041",
   "metadata": {},
   "source": [
    "***Include notes on class discussion here:***\n",
    "- The third row of the table had the same um2 and um1 which is very unlikely because in um2 the spring is being compressed\n",
    "- From the prelab we know $A \\pm u_A$\n",
    "- New formula: $\\frac{u_A}{A}$\n",
    "- How to reduce uncertainty in $\\frac{u_k}{k} = \\sqrt{(\\frac{u_x}{x})^2 + (\\frac{u_m}{m})^2}$? do a better job of compressing the spring so that the values are more consistent/stable. \n",
    "- Uncertainty decimal place"
   ]
  },
  {
   "cell_type": "markdown",
   "id": "674ba6dd-77e1-4e3e-b2ac-ce3c16049764",
   "metadata": {},
   "source": [
    "***Make sure to include a formula for the new tool and a description of how to use it.*** \n"
   ]
  },
  {
   "cell_type": "markdown",
   "id": "d92a7c3d-774d-412b-924a-9c4f9ecf35cc",
   "metadata": {},
   "source": [
    "- From the prelab we know $A \\pm u_A$\n",
    "- New formula: $\\frac{u_A}{A}$"
   ]
  },
  {
   "cell_type": "markdown",
   "id": "950791c5-89e9-49d9-9840-653d3e411f61",
   "metadata": {},
   "source": [
    "## Part C - First round of measurements"
   ]
  },
  {
   "cell_type": "markdown",
   "id": "060d749e-8cd0-4798-acf0-8d219b5b7b60",
   "metadata": {},
   "source": [
    "***Include your initial measurement plan in the Markdown cell below, then follow the instructions on setting up your data spreadsheet.***"
   ]
  },
  {
   "cell_type": "markdown",
   "id": "f829c3f0-937e-4ab3-81e3-8cca68b1c6db",
   "metadata": {},
   "source": [
    "First we measured the height of the spring. Since the spring was slanted on top, we took the average of the slant by measuring the highest, middle and lowest point of the slant. Then we took the average of our measurements (12.9, 13 and 13.1) and got 13cm as the average total height of the spring.\n",
    "\n",
    "Then we placed the spring on the scale to get the uncompressed mass of 0.078kg. \n",
    "\n",
    "After which I compressed the spring while my partner measured the height of the spring. We recorded the following measurements in the table. For when we were compressing the spring, we took the average of the maximum and minimum number we measured while keeping the compression relatively steady. \n",
    "\n",
    "**Side Note:** When measuring the height of the spring, it is important to mention that we measured from the table and subtract the height of the scale from the measurement that we got. So the finalized measurements that we reported is the result after we subtract the height of the scale. "
   ]
  },
  {
   "cell_type": "markdown",
   "id": "3c9f1aed-6a7d-41b0-bead-a0c4491afdd3",
   "metadata": {},
   "source": [
    "Uncomment the code below (i.e., remove the '#') to set up your initial spreadsheet 'lab02_data_round1.csv'. Any edits you make will automatically be saved. When you are finished inputting your data, press 'Generate Vectors' to transform each column into a Python vector. For instance, if you title a column 'm1', then a Python vector called 'm1Vec' will be generated. The idea is to use these generated vectors to perform the necessary calculations to obtain $k$ and $u\\_k$ for small and large compressions."
   ]
  },
  {
   "cell_type": "code",
   "execution_count": 122,
   "id": "29a8d24c-fa66-42d1-a5ac-6119fc49bb10",
   "metadata": {},
   "outputs": [
    {
     "name": "stdout",
     "output_type": "stream",
     "text": [
      "Sheet name: lab02_data_round1.csv\n"
     ]
    },
    {
     "data": {
      "application/vnd.jupyter.widget-view+json": {
       "model_id": "63e2ff1bd7a7499dab5f27d133404a7d",
       "version_major": 2,
       "version_minor": 0
      },
      "text/plain": [
       "VBox(children=(HBox(children=(Button(description='Undo', style=ButtonStyle()), Button(description='Redo', styl…"
      ]
     },
     "metadata": {},
     "output_type": "display_data"
    }
   ],
   "source": [
    " de_round1 = data_entry2.sheet(\"lab02_data_round1\")"
   ]
  },
  {
   "cell_type": "code",
   "execution_count": 123,
   "id": "0e1102d2-20e9-4cc2-b807-7320a31acd21",
   "metadata": {
    "tags": []
   },
   "outputs": [
    {
     "name": "stdout",
     "output_type": "stream",
     "text": [
      "K value (N/m) is:  [113.19464789 112.167      112.303125  ]\n",
      "Uncertainty of each k value is:  [4.4596959  4.3578935  4.36317371]\n",
      "Relative uncertainty of each k value is:  [0.03939847 0.03885183 0.03885176]\n"
     ]
    }
   ],
   "source": [
    "# Code Cell to calculate K and uK value\n",
    "g = 9.801 # acceleration due to gravity\n",
    "\n",
    "delta_m = m2Vec - m1Vec # change in mass\n",
    "delta_x = x2Vec - x1Vec # displacement\n",
    "\n",
    "\n",
    "# 95% CI is 0.01 m for x1\n",
    "ux1 = 0.01 / 4\n",
    "# 95% CI is 0.005 m\n",
    "ux2 = 0.005 / 4\n",
    "u_delta_x = np.sqrt(ux1Vec**2 + ux2Vec**2) # uncertainty displacement\n",
    "\n",
    "a = 0.0005\n",
    "um1 = (a / (np.sqrt(3)))\n",
    "# 95% CI is 0.005 kg\n",
    "um2 = 0.005 / 4\n",
    "u_delta_m = np.sqrt(um1Vec**2 + um2Vec**2) # change in uncertainty mass\n",
    "# a value for m1 is 0.0005kg\n",
    "\n",
    "kVec = g * np.abs(delta_m) / np.abs(delta_x)\n",
    "\n",
    "ukVec = kVec * np.sqrt( (u_delta_m/delta_m)**2 + (u_delta_x/delta_x)**2 )\n",
    "\n",
    "print(\"K value (N/m) is: \", kVec)\n",
    "print(\"Uncertainty of each k value is: \", ukVec)\n",
    "print(\"Relative uncertainty of each k value is: \", ukVec/kVec)"
   ]
  },
  {
   "cell_type": "markdown",
   "id": "716c733d-b549-4dac-81a9-954820d3868b",
   "metadata": {},
   "source": [
    "## Part D - Group Discussion"
   ]
  },
  {
   "cell_type": "markdown",
   "id": "89d1b174-ba68-41f1-a2ab-84343a08e7ec",
   "metadata": {},
   "source": [
    "***Comparisons can be measurement techniques and/or measured/calculated values. Don't forget to provide the names of the group members you compare to.***"
   ]
  },
  {
   "cell_type": "markdown",
   "id": "0bc55fd0-2d59-432f-a704-213cd47890a1",
   "metadata": {},
   "source": [
    "## Part 1\n",
    "### Cristiana's Group:\n",
    "\n",
    "Cristiana's Group: Compressing the spring as much as possible but not completely and compressing the spring with a notebook to keep the compression more steady/constant. Did not account for the weight of the notebook because the group assumed the weight of their hand was similar to the notebook. We suspect that their K value is somewhat higher than ours due to the weight of the notebook compared the weight of a human hand\n",
    "\n",
    "k = [131.769, 133.916]\n",
    "\n",
    "u_k = [2.087, 2.455]\n",
    "\n",
    "#### 1) Were your values and uncertainties for k different to those of other students? If not, what might have caused these differences?\n",
    " \n",
    "Cristiana's Group First Round values: k = [131.769, 133.916]\n",
    "\n",
    "Our Group First Round values: k = [113.19464789 112.167      112.303125  ]\n",
    "\n",
    "Comparing our K values to group 1's, theirs are slightly higher at ~132 N/m and ours at ~113 N/m. However, since our springs are different it doesn't matter too much.\n",
    "\n",
    "#### 2) Was the relative uncertainty in your k results similar to those of other students? What were other students' measurement strategies?\n",
    " \n",
    "Cristiana's Group First Round values: u_K [0.0158, 0.01833]\n",
    "\n",
    "Our Group First Round values: u_K = [4.4596959  4.3578935  4.36317371]\n",
    "\n",
    "Comparing our u_K values to group 1's, ours are double compared to theirs of ~2.2 and ours at ~4.3. This makes sense as they used a notebook which has a different weight compared to a human hand (the notebook was lighter).\n",
    "\n",
    "#### 3) What are various methods to improve your measurements? (Remember that we want you to improve your results by doing your best possible job of the individual measurements, not by combining your results from multiple sets of measurements.)\n",
    " \n",
    " Comparing our Relative Uncertainty of K to group 1's, ours are higher compared to theirs, ~0.038 and ~0.016 respectively.\n",
    "\n",
    "The methods we find that will help us improve our measurements is to find a more stable item/force to compress the spring, that will give us a more a accurate m2 value as well as, make is more easier/accurate for us to measure the x2 using the ruler, since the height will not be fluctuating.\n",
    "\n",
    "## Part 2\n",
    "\n",
    "### How we wish to improve our measure approach\n",
    "\n",
    "- Use a more stable weight/object to compress the spring,\n",
    "    - This will lead to more accurate measurement of x2, as well as, more stable (less fluctuating) output of the scale for m2.\n",
    "    - This will lead to a smaller uncertainty value for x2 and m2, which will provide us with a smaller relative uncertainty value due to the equation (a).\n",
    "- Use a higher weight/object to get a higher delta m and delta x.\n",
    "    - Since delta m and delta x is in the denominator of the equation (a), this will give us a lower relative uncertainty since the difference of the uncompressed spring vs the compressed spring will be higher.\n",
    "- Run more tests.\n",
    "    - By running more tests we are able to achieve an overall average and negate extremes, leading to a better/lower relative uncertainty\n",
    "- Use a pencil or a straight object to make sure our reading on the ruler is level with the weight/object holding down the spring.\n",
    "    - Making sure we use a straight object to get the proper measurement on the ruler will get us a lower uncertainty.\n",
    "\n",
    "\n",
    "Figure. (a)\n",
    "\n",
    "$$ \\frac{u_k}{k} = k\\sqrt{\\left(\\frac{u\\_\\Delta x}{\\Delta x}\\right)^2+\\left(\\frac{u\\_\\Delta m}{\\Delta m}\\right)^2}$$"
   ]
  },
  {
   "cell_type": "markdown",
   "id": "a3987179-8dc3-4e07-a566-1886f2ede8e9",
   "metadata": {},
   "source": [
    "## Part E - Cycles of Improvement"
   ]
  },
  {
   "cell_type": "markdown",
   "id": "a1a36267-483c-41e2-ab0f-45a78d2bffbe",
   "metadata": {},
   "source": [
    "Uncomment the code below to set up a new spreadsheet for your improvement round data. This code will copy your old spreadsheet so that all you have to do is overwrite the data from your initial round with your improvement round data. *IMPORTANT NOTE: do not run the code below until you are finished with your data entry in Part D.* "
   ]
  },
  {
   "cell_type": "code",
   "execution_count": 134,
   "id": "9211de0c-c33c-443c-8304-41ea35c42e96",
   "metadata": {},
   "outputs": [
    {
     "name": "stdout",
     "output_type": "stream",
     "text": [
      "Sheet name: lab02_data_round2.csv\n"
     ]
    },
    {
     "data": {
      "application/vnd.jupyter.widget-view+json": {
       "model_id": "a4eeacbc4d9846e69115bed0e9e3a6f6",
       "version_major": 2,
       "version_minor": 0
      },
      "text/plain": [
       "VBox(children=(HBox(children=(Button(description='Undo', style=ButtonStyle()), Button(description='Redo', styl…"
      ]
     },
     "metadata": {},
     "output_type": "display_data"
    }
   ],
   "source": [
    "de_round2 = data_entry2.sheet_copy(\"lab02_data_round1\", \"lab02_data_round2\")"
   ]
  },
  {
   "cell_type": "code",
   "execution_count": 135,
   "id": "1bd696a3-1562-40a2-954b-77c83be4729a",
   "metadata": {},
   "outputs": [
    {
     "name": "stdout",
     "output_type": "stream",
     "text": [
      "K value (N/min) is:  [125.07942857 122.34731461 129.86325   ]\n",
      "Uncertainty of each k value is:  [2.08254754 1.9226815  2.67080581]\n",
      "Relative uncertainty of each k value is:  [0.0166498  0.01571495 0.02056629]\n"
     ]
    }
   ],
   "source": [
    "# Code Cell to calculate K and uK value\n",
    "g = 9.801 # acceleration due to gravity\n",
    "\n",
    "delta_m = m2Vec - m1Vec # change in mass\n",
    "delta_x = x2Vec - x1Vec # displacement\n",
    "\n",
    "\n",
    "# 95% CI is 0.005 m for x1\n",
    "ux1 = 0.005 / 4\n",
    "# 95% CI is 0.0025 m\n",
    "ux2 = 0.0025 / 4\n",
    "u_delta_x = np.sqrt(ux1Vec**2 + ux2Vec**2) # uncertainty displacement\n",
    "\n",
    "a = 0.0005\n",
    "um1 = (a / (np.sqrt(3)))\n",
    "# 95% CI is 0.0025 kg\n",
    "um2 = 0.0025 / 4\n",
    "u_delta_m = np.sqrt(um1Vec**2 + um2Vec**2) # change in uncertainty mass\n",
    "# a value for m1 is 0.0005kg\n",
    "\n",
    "kVec = g * np.abs(delta_m) / np.abs(delta_x)\n",
    "\n",
    "ukVec = kVec * np.sqrt( (u_delta_m/delta_m)**2 + (u_delta_x/delta_x)**2 )\n",
    "\n",
    "print(\"K value (N/min) is: \", kVec)\n",
    "print(\"Uncertainty of each k value is: \", ukVec)\n",
    "print(\"Relative uncertainty of each k value is: \", ukVec/kVec)"
   ]
  },
  {
   "cell_type": "markdown",
   "id": "812ddb11-10f2-44e5-b981-955228163f62",
   "metadata": {
    "tags": []
   },
   "source": [
    "## Summary of Results"
   ]
  },
  {
   "cell_type": "markdown",
   "id": "7dbc0155-d839-4d2e-860b-dfe3dc02022a",
   "metadata": {},
   "source": [
    " Using a heavier and more steady object, an ipad instead of a hand, we were able to decrease the uncertainty in our calculations. We used similar measurements for the second part of our lab compared to the first part, the only difference being the ipad placed on a spring instead of the hand. \n",
    "\n",
    "#### 1) A brief summary of how your key results and the results of your comparisons evolved throughout the lab.\n",
    "\n",
    "#### 2)  Report your final spring constant following the significant figure rules.\n",
    "\n",
    "Our final spring constant is 122.35N/m with an uncertainty 0.016. This spring constant was chosen because it has the lowest relative uncertainty compared to our other values. \n",
    "\n",
    "#### 3) 1-2 sentences to describe and justify your major improvements and how they proved to be successful or unsuccessful. It may be helpful to use relative uncertainty to quantify your argument.\n",
    "\n",
    "Our improvement included using a constant weighted object to use to compress the spring with. We thought that having having an object such as a phone or an ipad would help with having more accurate results compared to compressing with a human hand because it would increase delta m and decrease delta x. We used an ipad instead of a human hand to compress the spring which gave us more accurate results as it decreased the relative uncertainty slightly. Our previous data had a relative uncertainty of [0.03939847 0.03885183 0.03885176]. Whereas our new data had a relative uncertainty of [0.0166498  0.01571495 0.02056629]. As seen from our report, the spring uncertainty decreased throughout the three trials that we did. \n",
    "\n",
    "#### 4) 1-2 sentences addressing the experimental goal and describing the conclusions you can make from the results of your comparisons.The lab notebook template already provides some tips on what to include in this section.\n",
    "\n",
    "The experimental goal of attempting to decrease the relative uncertainty of our measured spring constant was closely achieved by concluding two things from our results. Achieve a higher delta x and delta m, as well as, reducing our uncertainty for x1, x2, and m2 by using techniques to measure each respective variable more effectively, which leads to a lower Confidence Interval."
   ]
  },
  {
   "cell_type": "markdown",
   "id": "1e64390b-2f48-4a9e-a90c-f0a2299a3eec",
   "metadata": {},
   "source": [
    "# Submit\n",
    "\n",
    "Steps for submission:\n",
    "\n",
    "1. Click: Run => Run_All_Cells\n",
    "2. Read through the notebook to ensure all the cells executed correctly and without error.\n",
    "3. Correct any problems you find.\n",
    "4. File => Save_and_Export_Notebook_As->HTML\n",
    "5. Upload the HTML document to the lab submission assignment on Canvas."
   ]
  },
  {
   "cell_type": "code",
   "execution_count": null,
   "id": "2265f72b",
   "metadata": {
    "tags": []
   },
   "outputs": [],
   "source": []
  },
  {
   "cell_type": "code",
   "execution_count": 116,
   "id": "553003fb-7b55-45f2-ac58-ff105d48d6bd",
   "metadata": {},
   "outputs": [
    {
     "name": "stdout",
     "output_type": "stream",
     "text": [
      "Sheet: de_round1   File: lab02_data_round1.csv\n"
     ]
    },
    {
     "data": {
      "text/html": [
       "<div>\n",
       "<style scoped>\n",
       "    .dataframe tbody tr th:only-of-type {\n",
       "        vertical-align: middle;\n",
       "    }\n",
       "\n",
       "    .dataframe tbody tr th {\n",
       "        vertical-align: top;\n",
       "    }\n",
       "\n",
       "    .dataframe thead th {\n",
       "        text-align: right;\n",
       "    }\n",
       "</style>\n",
       "<table border=\"1\" class=\"dataframe\">\n",
       "  <thead>\n",
       "    <tr style=\"text-align: right;\">\n",
       "      <th></th>\n",
       "      <th>x2</th>\n",
       "      <th>m2</th>\n",
       "      <th>x1</th>\n",
       "      <th>m1</th>\n",
       "      <th>ux2</th>\n",
       "      <th>ux1</th>\n",
       "      <th>um1</th>\n",
       "      <th>um2</th>\n",
       "    </tr>\n",
       "  </thead>\n",
       "  <tbody>\n",
       "    <tr>\n",
       "      <th>Units</th>\n",
       "      <td>m</td>\n",
       "      <td>kg</td>\n",
       "      <td>m</td>\n",
       "      <td>kg</td>\n",
       "      <td>m</td>\n",
       "      <td>m</td>\n",
       "      <td>kg</td>\n",
       "      <td>kg</td>\n",
       "    </tr>\n",
       "    <tr>\n",
       "      <th>0</th>\n",
       "      <td>0.058</td>\n",
       "      <td>0.898</td>\n",
       "      <td>0.129</td>\n",
       "      <td>0.078</td>\n",
       "      <td>0.00125</td>\n",
       "      <td>0.0025</td>\n",
       "      <td>0.0002886751345948129</td>\n",
       "      <td>0.00125</td>\n",
       "    </tr>\n",
       "    <tr>\n",
       "      <th>1</th>\n",
       "      <td>0.057</td>\n",
       "      <td>0.902</td>\n",
       "      <td>0.129</td>\n",
       "      <td>0.078</td>\n",
       "      <td>0.00125</td>\n",
       "      <td>0.0025</td>\n",
       "      <td>0.0002886751345948129</td>\n",
       "      <td>0.00125</td>\n",
       "    </tr>\n",
       "    <tr>\n",
       "      <th>2</th>\n",
       "      <td>0.057</td>\n",
       "      <td>0.903</td>\n",
       "      <td>0.129</td>\n",
       "      <td>0.078</td>\n",
       "      <td>0.00125</td>\n",
       "      <td>0.0025</td>\n",
       "      <td>0.0002886751345948129</td>\n",
       "      <td>0.00125</td>\n",
       "    </tr>\n",
       "  </tbody>\n",
       "</table>\n",
       "</div>"
      ],
      "text/plain": [
       "          x2     m2     x1     m1      ux2     ux1                    um1  \\\n",
       "Units      m     kg      m     kg        m       m                     kg   \n",
       "0      0.058  0.898  0.129  0.078  0.00125  0.0025  0.0002886751345948129   \n",
       "1      0.057  0.902  0.129  0.078  0.00125  0.0025  0.0002886751345948129   \n",
       "2      0.057  0.903  0.129  0.078  0.00125  0.0025  0.0002886751345948129   \n",
       "\n",
       "           um2  \n",
       "Units       kg  \n",
       "0      0.00125  \n",
       "1      0.00125  \n",
       "2      0.00125  "
      ]
     },
     "metadata": {},
     "output_type": "display_data"
    },
    {
     "name": "stdout",
     "output_type": "stream",
     "text": [
      "Sheet: de_round2   File: lab02_data_round2.csv\n"
     ]
    },
    {
     "data": {
      "text/html": [
       "<div>\n",
       "<style scoped>\n",
       "    .dataframe tbody tr th:only-of-type {\n",
       "        vertical-align: middle;\n",
       "    }\n",
       "\n",
       "    .dataframe tbody tr th {\n",
       "        vertical-align: top;\n",
       "    }\n",
       "\n",
       "    .dataframe thead th {\n",
       "        text-align: right;\n",
       "    }\n",
       "</style>\n",
       "<table border=\"1\" class=\"dataframe\">\n",
       "  <thead>\n",
       "    <tr style=\"text-align: right;\">\n",
       "      <th></th>\n",
       "      <th>x2</th>\n",
       "      <th>m2</th>\n",
       "      <th>x1</th>\n",
       "      <th>m1</th>\n",
       "      <th>ux2</th>\n",
       "      <th>ux1</th>\n",
       "      <th>um1</th>\n",
       "      <th>um2</th>\n",
       "    </tr>\n",
       "  </thead>\n",
       "  <tbody>\n",
       "    <tr>\n",
       "      <th>Units</th>\n",
       "      <td>m</td>\n",
       "      <td>kg</td>\n",
       "      <td>m</td>\n",
       "      <td>kg</td>\n",
       "      <td>m</td>\n",
       "      <td>m</td>\n",
       "      <td>kg</td>\n",
       "      <td>kg</td>\n",
       "    </tr>\n",
       "    <tr>\n",
       "      <th>0</th>\n",
       "      <td>0.045</td>\n",
       "      <td>1.150</td>\n",
       "      <td>0.129</td>\n",
       "      <td>0.078</td>\n",
       "      <td>0.00125</td>\n",
       "      <td>0.0025</td>\n",
       "      <td>0.0002886751345948129</td>\n",
       "      <td>0.00125</td>\n",
       "    </tr>\n",
       "    <tr>\n",
       "      <th>1</th>\n",
       "      <td>0.040</td>\n",
       "      <td>1.189</td>\n",
       "      <td>0.129</td>\n",
       "      <td>0.078</td>\n",
       "      <td>0.00125</td>\n",
       "      <td>0.0025</td>\n",
       "      <td>0.0002886751345948129</td>\n",
       "      <td>0.00125</td>\n",
       "    </tr>\n",
       "    <tr>\n",
       "      <th>2</th>\n",
       "      <td>0.061</td>\n",
       "      <td>0.979</td>\n",
       "      <td>0.129</td>\n",
       "      <td>0.078</td>\n",
       "      <td>0.00125</td>\n",
       "      <td>0.0025</td>\n",
       "      <td>0.0002886751345948129</td>\n",
       "      <td>0.00125</td>\n",
       "    </tr>\n",
       "  </tbody>\n",
       "</table>\n",
       "</div>"
      ],
      "text/plain": [
       "          x2     m2     x1     m1      ux2     ux1                    um1  \\\n",
       "Units      m     kg      m     kg        m       m                     kg   \n",
       "0      0.045  1.150  0.129  0.078  0.00125  0.0025  0.0002886751345948129   \n",
       "1      0.040  1.189  0.129  0.078  0.00125  0.0025  0.0002886751345948129   \n",
       "2      0.061  0.979  0.129  0.078  0.00125  0.0025  0.0002886751345948129   \n",
       "\n",
       "           um2  \n",
       "Units       kg  \n",
       "0      0.00125  \n",
       "1      0.00125  \n",
       "2      0.00125  "
      ]
     },
     "metadata": {},
     "output_type": "display_data"
    }
   ],
   "source": [
    "# This cell will produce copies of any spreadsheets you have created. Please do not modify.\n",
    "display_sheets()"
   ]
  },
  {
   "cell_type": "code",
   "execution_count": null,
   "id": "1ada38f6-ee8d-49ed-9b69-c825f74fea15",
   "metadata": {},
   "outputs": [],
   "source": []
  },
  {
   "cell_type": "code",
   "execution_count": null,
   "id": "c4e014b3-a3ca-417c-bdfb-f1c8eaa24da6",
   "metadata": {},
   "outputs": [],
   "source": []
  }
 ],
 "metadata": {
  "kernelspec": {
   "display_name": "Python 3 (ipykernel)",
   "language": "python",
   "name": "python3"
  },
  "language_info": {
   "codemirror_mode": {
    "name": "ipython",
    "version": 3
   },
   "file_extension": ".py",
   "mimetype": "text/x-python",
   "name": "python",
   "nbconvert_exporter": "python",
   "pygments_lexer": "ipython3",
   "version": "3.10.8"
  },
  "widgets": {
   "application/vnd.jupyter.widget-state+json": {
    "state": {
     "0023e4bb000d4dc2b7583dd5f36a17b6": {
      "model_module": "@jupyter-widgets/controls",
      "model_module_version": "2.0.0",
      "model_name": "ButtonStyleModel",
      "state": {
       "font_family": null,
       "font_size": null,
       "font_style": null,
       "font_variant": null,
       "font_weight": null,
       "text_color": null,
       "text_decoration": null
      }
     },
     "003141ee4fbf4eee81836c0b9cc422b0": {
      "model_module": "@jupyter-widgets/base",
      "model_module_version": "2.0.0",
      "model_name": "LayoutModel",
      "state": {}
     },
     "00627cb222304aa7b3df783bc914fa9b": {
      "model_module": "@jupyter-widgets/base",
      "model_module_version": "2.0.0",
      "model_name": "LayoutModel",
      "state": {}
     },
     "0065dcfd8d4c49009567fbce52c3a7b3": {
      "model_module": "@jupyter-widgets/controls",
      "model_module_version": "2.0.0",
      "model_name": "ButtonModel",
      "state": {
       "description": "Undo",
       "layout": "IPY_MODEL_a7e793af2ec740c0abcd538d2317b2e3",
       "style": "IPY_MODEL_a2373cc14cb44c32b077c127a29f604f",
       "tooltip": null
      }
     },
     "006a3d915515459192eb7b95c0e74935": {
      "model_module": "@jupyter-widgets/controls",
      "model_module_version": "2.0.0",
      "model_name": "ButtonModel",
      "state": {
       "description": "Add Row",
       "layout": "IPY_MODEL_0488f6a5b4d6439baa28771b91562258",
       "style": "IPY_MODEL_5c17b365775444d2a28df1f3ccf129c9",
       "tooltip": null
      }
     },
     "00b2735f719c475db6bb055ae0d1f819": {
      "model_module": "@jupyter-widgets/base",
      "model_module_version": "2.0.0",
      "model_name": "LayoutModel",
      "state": {}
     },
     "00d7018732bb415989956106bd24f412": {
      "model_module": "@jupyter-widgets/base",
      "model_module_version": "2.0.0",
      "model_name": "LayoutModel",
      "state": {
       "height": "150px"
      }
     },
     "010d4d828eff4efd9414c31f65a6675e": {
      "model_module": "@jupyter-widgets/output",
      "model_module_version": "1.0.0",
      "model_name": "OutputModel",
      "state": {
       "layout": "IPY_MODEL_e59b23c8b2454e73b7b6150e3cfd9046"
      }
     },
     "012f48918cc347c29d20da4b57a78b47": {
      "model_module": "@jupyter-widgets/controls",
      "model_module_version": "2.0.0",
      "model_name": "ButtonModel",
      "state": {
       "description": "Generate Vectors",
       "layout": "IPY_MODEL_ca159d4ee5804c21a2d8520afdc8c4bf",
       "style": "IPY_MODEL_6e04b444077042bcb0e5cf944a239043",
       "tooltip": null
      }
     },
     "0150ecdfa79e4c50b0beff08823dc812": {
      "model_module": "@jupyter-widgets/controls",
      "model_module_version": "2.0.0",
      "model_name": "HBoxModel",
      "state": {
       "children": [
        "IPY_MODEL_95ab93593fd449859367e0e4d2d0a6e7",
        "IPY_MODEL_7e70828e4348401d833b23c68c23b6b4",
        "IPY_MODEL_49a82cd41ede4b89870bd7005913521c",
        "IPY_MODEL_c6653526fb0043749511af00125f081c",
        "IPY_MODEL_1387ad27245b4139afd30a8e0873cc57"
       ],
       "layout": "IPY_MODEL_bec2a094ca394d6eae38a1c188577ec7"
      }
     },
     "0175e739662442f580d876797e2e0daa": {
      "model_module": "@jupyter-widgets/base",
      "model_module_version": "2.0.0",
      "model_name": "LayoutModel",
      "state": {}
     },
     "0198e996b221484a912f43106de29f56": {
      "model_module": "@jupyter-widgets/controls",
      "model_module_version": "2.0.0",
      "model_name": "ButtonStyleModel",
      "state": {
       "font_family": null,
       "font_size": null,
       "font_style": null,
       "font_variant": null,
       "font_weight": null,
       "text_color": null,
       "text_decoration": null
      }
     },
     "02001d17bf0f4da6a72482728dd88e8f": {
      "model_module": "ipydatagrid",
      "model_module_version": "^1.2.0",
      "model_name": "DataGridModel",
      "state": {
       "_data": {
        "data": [
         {
          "0": "x2",
          "1": "m2",
          "2": "x1",
          "3": "m1",
          "4": "ux2",
          "5": "ux1",
          "6": "um1",
          "7": "um2",
          "ipydguuid": 0,
          "key": "  Variable:"
         },
         {
          "0": "m",
          "1": "kg",
          "2": "m",
          "3": "kg",
          "4": "m",
          "5": "m",
          "6": "kg",
          "7": "kg",
          "ipydguuid": 1,
          "key": " Units:"
         },
         {
          "0": "0.045",
          "1": "1.150",
          "2": "0.129",
          "3": "0.078",
          "4": "0.00125",
          "5": "0.0025",
          "6": "0.0002886751345948129",
          "7": "0.00125",
          "ipydguuid": 2,
          "key": 0
         },
         {
          "0": "0.040",
          "1": "1.189",
          "2": "0.129",
          "3": "0.078",
          "4": "0.00125",
          "5": "0.0025",
          "6": "0.0002886751345948129",
          "7": "0.00125",
          "ipydguuid": 3,
          "key": 1
         },
         {
          "0": "0.061",
          "1": "0.979",
          "2": "0.129",
          "3": "0.078",
          "4": "0.00125",
          "5": "0.0025",
          "6": "0.0002886751345948129",
          "7": "0.00125",
          "ipydguuid": 4,
          "key": 2
         }
        ],
        "fields": [
         {
          "key": null
         },
         {
          "0": null
         },
         {
          "1": null
         },
         {
          "2": null
         },
         {
          "3": null
         },
         {
          "4": null
         },
         {
          "5": null
         },
         {
          "6": null
         },
         {
          "7": null
         },
         {
          "ipydguuid": null
         }
        ],
        "schema": {
         "fields": [
          {
           "name": "key",
           "type": "string"
          },
          {
           "name": 0,
           "type": "string"
          },
          {
           "name": 1,
           "type": "string"
          },
          {
           "name": 2,
           "type": "string"
          },
          {
           "name": 3,
           "type": "string"
          },
          {
           "name": 4,
           "type": "string"
          },
          {
           "name": 5,
           "type": "string"
          },
          {
           "name": 6,
           "type": "string"
          },
          {
           "name": 7,
           "type": "string"
          },
          {
           "name": "ipydguuid",
           "type": "integer"
          }
         ],
         "pandas_version": "1.4.0",
         "primaryKey": [
          "key",
          "ipydguuid"
         ],
         "primaryKeyUuid": "ipydguuid"
        }
       },
       "_model_module_version": "^1.2.0",
       "_model_name": "DataGridModel",
       "_view_module_version": "^1.2.0",
       "auto_fit_columns": false,
       "auto_fit_params": {
        "area": "all",
        "numCols": null,
        "padding": 30
       },
       "base_column_header_size": 20,
       "base_column_size": 64,
       "base_row_header_size": 64,
       "base_row_size": 20,
       "default_renderer": "IPY_MODEL_d297c66836f042eb93bd3a86d74808f3",
       "editable": true,
       "header_visibility": "all",
       "layout": "IPY_MODEL_91f1f99dc924413cb82db80ba7c88c0c",
       "selection_mode": "cell"
      }
     },
     "0224caaaef2046939ea92028870200bf": {
      "model_module": "@jupyter-widgets/base",
      "model_module_version": "2.0.0",
      "model_name": "LayoutModel",
      "state": {}
     },
     "0245c3f7cfbf4c46b223c0e3bae438b1": {
      "model_module": "@jupyter-widgets/controls",
      "model_module_version": "2.0.0",
      "model_name": "ButtonModel",
      "state": {
       "description": "Redo",
       "layout": "IPY_MODEL_660f5aed1dc4406996bbe053c486a89f",
       "style": "IPY_MODEL_b73725493f2b40ab9c6ed1b7ed083a37",
       "tooltip": null
      }
     },
     "028de0f4718046f29396d197090a30bd": {
      "model_module": "ipydatagrid",
      "model_module_version": "^1.2.0",
      "model_name": "TextRendererModel",
      "state": {
       "_model_module_version": "^1.2.0",
       "_view_module_version": "^1.2.0",
       "background_color": "IPY_MODEL_62c5cf620b5b4b3b85b424c106df3ace",
       "text_color": "IPY_MODEL_e1daffee06c14e20b383fba1009ea661"
      }
     },
     "0292897e1bc1438ca36ffbd752af5d71": {
      "model_module": "ipydatagrid",
      "model_module_version": "^1.2.0",
      "model_name": "VegaExprModel",
      "state": {
       "_model_module_version": "^1.2.0",
       "_view_module": "ipydatagrid",
       "_view_module_version": "^1.2.0",
       "_view_name": "VegaExprView"
      }
     },
     "02c08eab8b5d4593b62090c33f5f426f": {
      "model_module": "@jupyter-widgets/base",
      "model_module_version": "2.0.0",
      "model_name": "LayoutModel",
      "state": {}
     },
     "0303036fd7cb4bff8f63b68bf9e5959d": {
      "model_module": "@jupyter-widgets/base",
      "model_module_version": "2.0.0",
      "model_name": "LayoutModel",
      "state": {}
     },
     "03164e4886d34ea9a066b99702f84f03": {
      "model_module": "@jupyter-widgets/output",
      "model_module_version": "1.0.0",
      "model_name": "OutputModel",
      "state": {
       "layout": "IPY_MODEL_3cc3da89f64446e89b1650abbaad3a2c"
      }
     },
     "031e4e4f3ac94dceb7698db96a674d08": {
      "model_module": "ipydatagrid",
      "model_module_version": "^1.2.0",
      "model_name": "VegaExprModel",
      "state": {
       "_model_module_version": "^1.2.0",
       "_view_module": "ipydatagrid",
       "_view_module_version": "^1.2.0",
       "_view_name": "VegaExprView"
      }
     },
     "036b17d5b06941c5845ff42236783fc8": {
      "model_module": "ipydatagrid",
      "model_module_version": "^1.2.0",
      "model_name": "TextRendererModel",
      "state": {
       "_model_module_version": "^1.2.0",
       "_view_module_version": "^1.2.0",
       "background_color": "IPY_MODEL_0292897e1bc1438ca36ffbd752af5d71",
       "text_color": "IPY_MODEL_5227725a13e1419a85f95871275d9188"
      }
     },
     "03f213b31d3448aa8d2c29488db8cedd": {
      "model_module": "ipydatagrid",
      "model_module_version": "^1.2.0",
      "model_name": "VegaExprModel",
      "state": {
       "_model_module_version": "^1.2.0",
       "_view_module": "ipydatagrid",
       "_view_module_version": "^1.2.0",
       "_view_name": "VegaExprView"
      }
     },
     "0404fced58d64b299cdafe8d8ec884d0": {
      "model_module": "@jupyter-widgets/controls",
      "model_module_version": "2.0.0",
      "model_name": "ButtonStyleModel",
      "state": {
       "font_family": null,
       "font_size": null,
       "font_style": null,
       "font_variant": null,
       "font_weight": null,
       "text_color": null,
       "text_decoration": null
      }
     },
     "045ceb6c7cef40af887ed607d40e8532": {
      "model_module": "@jupyter-widgets/controls",
      "model_module_version": "2.0.0",
      "model_name": "ButtonModel",
      "state": {
       "description": "Undo",
       "layout": "IPY_MODEL_97eea2a936844df390f3dd7c8f121be1",
       "style": "IPY_MODEL_34064943b30d403fbbfe7dbe0e5968f2",
       "tooltip": null
      }
     },
     "04615c8760044213af903f0e86e90e30": {
      "model_module": "@jupyter-widgets/controls",
      "model_module_version": "2.0.0",
      "model_name": "ButtonModel",
      "state": {
       "description": "Add Column",
       "layout": "IPY_MODEL_6710343e2cbd49269d949091d3269436",
       "style": "IPY_MODEL_51302ccb0f4841adb13080d525298f12",
       "tooltip": null
      }
     },
     "0488f6a5b4d6439baa28771b91562258": {
      "model_module": "@jupyter-widgets/base",
      "model_module_version": "2.0.0",
      "model_name": "LayoutModel",
      "state": {}
     },
     "04cbca0ed1c541cab6416c9f7ef914c6": {
      "model_module": "@jupyter-widgets/controls",
      "model_module_version": "2.0.0",
      "model_name": "HBoxModel",
      "state": {
       "children": [
        "IPY_MODEL_5f202b1ded8b4a93919fc7c155d1c32e",
        "IPY_MODEL_14604127ca5f4110b2e70eefce632def",
        "IPY_MODEL_65347c7a416d49cbaefa69b287b14034",
        "IPY_MODEL_f6c63746c2cf4b5caba78d3a3b37c133",
        "IPY_MODEL_fece25e7d2764e9baf088460b71a220e"
       ],
       "layout": "IPY_MODEL_5bf1577c950a4f4e907eb2a8645320a4"
      }
     },
     "04da045794444da49450f94af2e5871c": {
      "model_module": "@jupyter-widgets/controls",
      "model_module_version": "2.0.0",
      "model_name": "ButtonStyleModel",
      "state": {
       "font_family": null,
       "font_size": null,
       "font_style": null,
       "font_variant": null,
       "font_weight": null,
       "text_color": null,
       "text_decoration": null
      }
     },
     "052f88021e9c4c918ce2e942b9d87856": {
      "model_module": "@jupyter-widgets/controls",
      "model_module_version": "2.0.0",
      "model_name": "ButtonStyleModel",
      "state": {
       "font_family": null,
       "font_size": null,
       "font_style": null,
       "font_variant": null,
       "font_weight": null,
       "text_color": null,
       "text_decoration": null
      }
     },
     "05764cb7ae214ff4b5aced9fbd1d12d0": {
      "model_module": "@jupyter-widgets/base",
      "model_module_version": "2.0.0",
      "model_name": "LayoutModel",
      "state": {}
     },
     "05afcdce14984acf9c03bda7d66c0226": {
      "model_module": "@jupyter-widgets/controls",
      "model_module_version": "2.0.0",
      "model_name": "ButtonStyleModel",
      "state": {
       "font_family": null,
       "font_size": null,
       "font_style": null,
       "font_variant": null,
       "font_weight": null,
       "text_color": null,
       "text_decoration": null
      }
     },
     "05ee4ae4810849f99f9d952eb5e565e3": {
      "model_module": "ipydatagrid",
      "model_module_version": "^1.2.0",
      "model_name": "DataGridModel",
      "state": {
       "_data": {
        "data": [
         {
          "0": "x2",
          "1": "m2",
          "2": "x1",
          "3": "m1",
          "4": "ux2",
          "5": "ux1",
          "6": "um1",
          "7": "um2",
          "ipydguuid": 0,
          "key": "  Variable:"
         },
         {
          "0": "m",
          "1": "kg",
          "2": "m",
          "3": "kg",
          "4": "m",
          "5": "m",
          "6": "kg",
          "7": "kg",
          "ipydguuid": 1,
          "key": " Units:"
         },
         {
          "0": "0.058",
          "1": "0.898",
          "2": "0.129",
          "3": "0.078",
          "4": "0.00125",
          "5": "0.0025",
          "6": "0.0002886751345948129",
          "7": "0.00125",
          "ipydguuid": 2,
          "key": 0
         },
         {
          "0": "0.057",
          "1": "0.902",
          "2": "0.129",
          "3": "0.078",
          "4": "0.00125",
          "5": "0.0025",
          "6": "0.0002886751345948129",
          "7": "0.00125",
          "ipydguuid": 3,
          "key": 1
         },
         {
          "0": "0.057",
          "1": "0.903",
          "2": "0.129",
          "3": "0.078",
          "4": "0.00125",
          "5": "0.0025",
          "6": "0.0002886751345948129",
          "7": "0.00125",
          "ipydguuid": 4,
          "key": 2
         }
        ],
        "fields": [
         {
          "key": null
         },
         {
          "0": null
         },
         {
          "1": null
         },
         {
          "2": null
         },
         {
          "3": null
         },
         {
          "4": null
         },
         {
          "5": null
         },
         {
          "6": null
         },
         {
          "7": null
         },
         {
          "ipydguuid": null
         }
        ],
        "schema": {
         "fields": [
          {
           "name": "key",
           "type": "string"
          },
          {
           "name": 0,
           "type": "string"
          },
          {
           "name": 1,
           "type": "string"
          },
          {
           "name": 2,
           "type": "string"
          },
          {
           "name": 3,
           "type": "string"
          },
          {
           "name": 4,
           "type": "string"
          },
          {
           "name": 5,
           "type": "string"
          },
          {
           "name": 6,
           "type": "string"
          },
          {
           "name": 7,
           "type": "string"
          },
          {
           "name": "ipydguuid",
           "type": "integer"
          }
         ],
         "pandas_version": "1.4.0",
         "primaryKey": [
          "key",
          "ipydguuid"
         ],
         "primaryKeyUuid": "ipydguuid"
        }
       },
       "_model_module_version": "^1.2.0",
       "_model_name": "DataGridModel",
       "_view_module_version": "^1.2.0",
       "auto_fit_columns": false,
       "auto_fit_params": {
        "area": "all",
        "numCols": null,
        "padding": 30
       },
       "base_column_header_size": 20,
       "base_column_size": 64,
       "base_row_header_size": 64,
       "base_row_size": 20,
       "default_renderer": "IPY_MODEL_68e08473980e48b7889965217ee5d476",
       "editable": true,
       "header_visibility": "all",
       "layout": "IPY_MODEL_3421120d6dad4c5db0d55f69b5ed8592",
       "selection_mode": "cell"
      }
     },
     "06011a4cb2cd473a947cee68b85f0e6f": {
      "model_module": "@jupyter-widgets/controls",
      "model_module_version": "2.0.0",
      "model_name": "ButtonStyleModel",
      "state": {
       "font_family": null,
       "font_size": null,
       "font_style": null,
       "font_variant": null,
       "font_weight": null,
       "text_color": null,
       "text_decoration": null
      }
     },
     "062054af7e874474885bdc8648edbfb1": {
      "model_module": "@jupyter-widgets/base",
      "model_module_version": "2.0.0",
      "model_name": "LayoutModel",
      "state": {}
     },
     "063155d159f743cd89d42899574d6bf3": {
      "model_module": "ipydatagrid",
      "model_module_version": "^1.2.0",
      "model_name": "VegaExprModel",
      "state": {
       "_model_module_version": "^1.2.0",
       "_view_module": "ipydatagrid",
       "_view_module_version": "^1.2.0",
       "_view_name": "VegaExprView"
      }
     },
     "063ac7efd5a24af4bd7ac54e6893b8b3": {
      "model_module": "@jupyter-widgets/base",
      "model_module_version": "2.0.0",
      "model_name": "LayoutModel",
      "state": {}
     },
     "068c0711cdc347c09f52d605248d90ce": {
      "model_module": "@jupyter-widgets/controls",
      "model_module_version": "2.0.0",
      "model_name": "ButtonStyleModel",
      "state": {
       "font_family": null,
       "font_size": null,
       "font_style": null,
       "font_variant": null,
       "font_weight": null,
       "text_color": null,
       "text_decoration": null
      }
     },
     "07207b46676d49b0bdd52780a3453229": {
      "model_module": "@jupyter-widgets/base",
      "model_module_version": "2.0.0",
      "model_name": "LayoutModel",
      "state": {
       "height": "150px"
      }
     },
     "0723c8071eea46eeb04ef1a13bc4ac0b": {
      "model_module": "@jupyter-widgets/controls",
      "model_module_version": "2.0.0",
      "model_name": "ButtonStyleModel",
      "state": {
       "font_family": null,
       "font_size": null,
       "font_style": null,
       "font_variant": null,
       "font_weight": null,
       "text_color": null,
       "text_decoration": null
      }
     },
     "076626d5219648db8c3e26f34b851fdf": {
      "model_module": "@jupyter-widgets/base",
      "model_module_version": "2.0.0",
      "model_name": "LayoutModel",
      "state": {}
     },
     "0775b5fb56f94170bd41943f34200ade": {
      "model_module": "@jupyter-widgets/controls",
      "model_module_version": "2.0.0",
      "model_name": "VBoxModel",
      "state": {
       "children": [
        "IPY_MODEL_ea75e14fcc0140e89df5db43f4e1e1ab",
        "IPY_MODEL_e1f9d472525342389bb77b1bc844d8ec",
        "IPY_MODEL_c96d1f3477474560bf2ff5251054a840"
       ],
       "layout": "IPY_MODEL_0edebee9723445d4b6c0a8ee1705fbd7"
      }
     },
     "0828ac917f4f483399c97ff3dcbed5fb": {
      "model_module": "@jupyter-widgets/controls",
      "model_module_version": "2.0.0",
      "model_name": "ButtonStyleModel",
      "state": {
       "font_family": null,
       "font_size": null,
       "font_style": null,
       "font_variant": null,
       "font_weight": null,
       "text_color": null,
       "text_decoration": null
      }
     },
     "084db3afabb54ccca40a8f3c6a189c98": {
      "model_module": "@jupyter-widgets/base",
      "model_module_version": "2.0.0",
      "model_name": "LayoutModel",
      "state": {}
     },
     "08c253fbe2be45c3b8a0adcf0caa142c": {
      "model_module": "ipydatagrid",
      "model_module_version": "^1.2.0",
      "model_name": "DataGridModel",
      "state": {
       "_data": {
        "data": [
         {
          "0": "x2",
          "1": "m2",
          "2": "x1",
          "3": "m1",
          "4": "ux2",
          "5": "ux1",
          "6": "um1",
          "7": "um2",
          "ipydguuid": 0,
          "key": "  Variable:"
         },
         {
          "0": "m",
          "1": "kg",
          "2": "m",
          "3": "kg",
          "4": "m",
          "5": "m",
          "6": "kg",
          "7": "kg",
          "ipydguuid": 1,
          "key": " Units:"
         },
         {
          "0": "0.045",
          "1": "1.150",
          "2": "0.129",
          "3": "0.078",
          "4": "0.00125",
          "5": "0.0025",
          "6": "0.0002886751345948129",
          "7": "0.00125",
          "ipydguuid": 2,
          "key": 0
         },
         {
          "0": "0.040",
          "1": "1.189",
          "2": "0.129",
          "3": "0.078",
          "4": "0.00125",
          "5": "0.0025",
          "6": "0.0002886751345948129",
          "7": "0.00125",
          "ipydguuid": 3,
          "key": 1
         },
         {
          "0": "0.061",
          "1": "0.979",
          "2": "0.129",
          "3": "0.078",
          "4": "0.00125",
          "5": "0.0025",
          "6": "0.0002886751345948129",
          "7": "0.00125",
          "ipydguuid": 4,
          "key": 2
         }
        ],
        "fields": [
         {
          "key": null
         },
         {
          "0": null
         },
         {
          "1": null
         },
         {
          "2": null
         },
         {
          "3": null
         },
         {
          "4": null
         },
         {
          "5": null
         },
         {
          "6": null
         },
         {
          "7": null
         },
         {
          "ipydguuid": null
         }
        ],
        "schema": {
         "fields": [
          {
           "name": "key",
           "type": "string"
          },
          {
           "name": 0,
           "type": "string"
          },
          {
           "name": 1,
           "type": "string"
          },
          {
           "name": 2,
           "type": "string"
          },
          {
           "name": 3,
           "type": "string"
          },
          {
           "name": 4,
           "type": "string"
          },
          {
           "name": 5,
           "type": "string"
          },
          {
           "name": 6,
           "type": "string"
          },
          {
           "name": 7,
           "type": "string"
          },
          {
           "name": "ipydguuid",
           "type": "integer"
          }
         ],
         "pandas_version": "1.4.0",
         "primaryKey": [
          "key",
          "ipydguuid"
         ],
         "primaryKeyUuid": "ipydguuid"
        }
       },
       "_model_module_version": "^1.2.0",
       "_model_name": "DataGridModel",
       "_view_module_version": "^1.2.0",
       "auto_fit_columns": false,
       "auto_fit_params": {
        "area": "all",
        "numCols": null,
        "padding": 30
       },
       "base_column_header_size": 20,
       "base_column_size": 64,
       "base_row_header_size": 64,
       "base_row_size": 20,
       "default_renderer": "IPY_MODEL_e3f244f7e84d4698912129cfaf8be38f",
       "editable": true,
       "header_visibility": "all",
       "layout": "IPY_MODEL_ee7000eb2c1f4172a079f0323712ceff",
       "selection_mode": "cell"
      }
     },
     "09ce8002d9364454a0e1b0eb2e7bff01": {
      "model_module": "@jupyter-widgets/controls",
      "model_module_version": "2.0.0",
      "model_name": "ButtonModel",
      "state": {
       "description": "Add Column",
       "layout": "IPY_MODEL_82cdff7a2f594d80b93c3e83df4ca032",
       "style": "IPY_MODEL_65fd7032296c446ca47c10b43c12506b",
       "tooltip": null
      }
     },
     "0a2343a95f9e45ed804c586956d42e57": {
      "model_module": "@jupyter-widgets/base",
      "model_module_version": "2.0.0",
      "model_name": "LayoutModel",
      "state": {}
     },
     "0a38c694f3de42d1a7c6c788bff072e5": {
      "model_module": "@jupyter-widgets/base",
      "model_module_version": "2.0.0",
      "model_name": "LayoutModel",
      "state": {}
     },
     "0a6519e64af04554a6159ba28eb4353b": {
      "model_module": "@jupyter-widgets/controls",
      "model_module_version": "2.0.0",
      "model_name": "ButtonStyleModel",
      "state": {
       "font_family": null,
       "font_size": null,
       "font_style": null,
       "font_variant": null,
       "font_weight": null,
       "text_color": null,
       "text_decoration": null
      }
     },
     "0b01bf2f4ba34eb78ec6dc4e786b005c": {
      "model_module": "@jupyter-widgets/controls",
      "model_module_version": "2.0.0",
      "model_name": "ButtonStyleModel",
      "state": {
       "font_family": null,
       "font_size": null,
       "font_style": null,
       "font_variant": null,
       "font_weight": null,
       "text_color": null,
       "text_decoration": null
      }
     },
     "0b06c5f55f0b4e809c687b76cac66814": {
      "model_module": "@jupyter-widgets/controls",
      "model_module_version": "2.0.0",
      "model_name": "ButtonStyleModel",
      "state": {
       "font_family": null,
       "font_size": null,
       "font_style": null,
       "font_variant": null,
       "font_weight": null,
       "text_color": null,
       "text_decoration": null
      }
     },
     "0b1b084aa00c4c91baf08a75ed214637": {
      "model_module": "@jupyter-widgets/base",
      "model_module_version": "2.0.0",
      "model_name": "LayoutModel",
      "state": {}
     },
     "0b4c56c700f343a1aa147b179d42c0b4": {
      "model_module": "@jupyter-widgets/base",
      "model_module_version": "2.0.0",
      "model_name": "LayoutModel",
      "state": {}
     },
     "0b58b214757a44ab83bf1378d15ad321": {
      "model_module": "@jupyter-widgets/output",
      "model_module_version": "1.0.0",
      "model_name": "OutputModel",
      "state": {
       "layout": "IPY_MODEL_87d68ed514b14d709b71fd6ad6b26693"
      }
     },
     "0bf0f0fd0075407e9fc24cf01852ef0d": {
      "model_module": "@jupyter-widgets/controls",
      "model_module_version": "2.0.0",
      "model_name": "ButtonModel",
      "state": {
       "description": "Redo",
       "layout": "IPY_MODEL_d79c7603d517472184fe699e4518571b",
       "style": "IPY_MODEL_1dbfcc1246a64db8ba2f23268797acc5",
       "tooltip": null
      }
     },
     "0c21cad31c3c47b78476aca6c13cb272": {
      "model_module": "ipydatagrid",
      "model_module_version": "^1.2.0",
      "model_name": "DataGridModel",
      "state": {
       "_data": {
        "data": [
         {
          "0": "x2",
          "1": "m2",
          "2": "x1",
          "3": "m1",
          "4": "ux2",
          "5": "ux1",
          "6": "um1",
          "7": "um2",
          "ipydguuid": 0,
          "key": "  Variable:"
         },
         {
          "0": "m",
          "1": "kg",
          "2": "m",
          "3": "kg",
          "4": "m",
          "5": "m",
          "6": "kg",
          "7": "kg",
          "ipydguuid": 1,
          "key": " Units:"
         },
         {
          "0": "0.058",
          "1": "0.898",
          "2": "0.129",
          "3": "0.078",
          "4": "0.00125",
          "5": "0.0025",
          "6": "0.0002886751345948129",
          "7": "0.00125",
          "ipydguuid": 2,
          "key": 0
         },
         {
          "0": "0.057",
          "1": "0.902",
          "2": "0.129",
          "3": "0.078",
          "4": "0.00125",
          "5": "0.0025",
          "6": "0.0002886751345948129",
          "7": "0.00125",
          "ipydguuid": 3,
          "key": 1
         },
         {
          "0": "0.057",
          "1": "0.903",
          "2": "0.129",
          "3": "0.078",
          "4": "0.00125",
          "5": "0.0025",
          "6": "0.0002886751345948129",
          "7": "0.00125",
          "ipydguuid": 4,
          "key": 2
         }
        ],
        "fields": [
         {
          "key": null
         },
         {
          "0": null
         },
         {
          "1": null
         },
         {
          "2": null
         },
         {
          "3": null
         },
         {
          "4": null
         },
         {
          "5": null
         },
         {
          "6": null
         },
         {
          "7": null
         },
         {
          "ipydguuid": null
         }
        ],
        "schema": {
         "fields": [
          {
           "name": "key",
           "type": "string"
          },
          {
           "name": 0,
           "type": "string"
          },
          {
           "name": 1,
           "type": "string"
          },
          {
           "name": 2,
           "type": "string"
          },
          {
           "name": 3,
           "type": "string"
          },
          {
           "name": 4,
           "type": "string"
          },
          {
           "name": 5,
           "type": "string"
          },
          {
           "name": 6,
           "type": "string"
          },
          {
           "name": 7,
           "type": "string"
          },
          {
           "name": "ipydguuid",
           "type": "integer"
          }
         ],
         "pandas_version": "1.4.0",
         "primaryKey": [
          "key",
          "ipydguuid"
         ],
         "primaryKeyUuid": "ipydguuid"
        }
       },
       "_model_module_version": "^1.2.0",
       "_model_name": "DataGridModel",
       "_view_module_version": "^1.2.0",
       "auto_fit_columns": false,
       "auto_fit_params": {
        "area": "all",
        "numCols": null,
        "padding": 30
       },
       "base_column_header_size": 20,
       "base_column_size": 64,
       "base_row_header_size": 64,
       "base_row_size": 20,
       "default_renderer": "IPY_MODEL_5239d6a8586f4fec9a164f17bd2d5767",
       "editable": true,
       "header_visibility": "all",
       "layout": "IPY_MODEL_e06953690b6b4922b4c6290656357c21",
       "selection_mode": "cell"
      }
     },
     "0c2a77cd4abd4d0fbb7603666ae0d926": {
      "model_module": "@jupyter-widgets/controls",
      "model_module_version": "2.0.0",
      "model_name": "VBoxModel",
      "state": {
       "children": [
        "IPY_MODEL_89fec10c1ea241af941f0544773d9159",
        "IPY_MODEL_0f84be2d12fe496f9ae9d405f95af9ed",
        "IPY_MODEL_8ee1ea4b8014431789dc25090df76dcd"
       ],
       "layout": "IPY_MODEL_f974c12e0ac6434aa6269d5079abf2f2"
      }
     },
     "0c6ddcf352fa44bda5e8a0af1c2f4b17": {
      "model_module": "@jupyter-widgets/base",
      "model_module_version": "2.0.0",
      "model_name": "LayoutModel",
      "state": {
       "height": "150px"
      }
     },
     "0d2d864cf9c1409fbc1434bebe78c882": {
      "model_module": "@jupyter-widgets/controls",
      "model_module_version": "2.0.0",
      "model_name": "ButtonStyleModel",
      "state": {
       "font_family": null,
       "font_size": null,
       "font_style": null,
       "font_variant": null,
       "font_weight": null,
       "text_color": null,
       "text_decoration": null
      }
     },
     "0d48c6eb0ffb49d99c0c5fb2ea55fb8e": {
      "model_module": "@jupyter-widgets/controls",
      "model_module_version": "2.0.0",
      "model_name": "HBoxModel",
      "state": {
       "children": [
        "IPY_MODEL_b6eca1346db74109ba192ed16b43e630",
        "IPY_MODEL_540811ac7dd146a9b7f126129c73c8e8",
        "IPY_MODEL_94a4a08863d740e8a43a35b254edbc4a",
        "IPY_MODEL_79268a1b677d4bbe8c592ba2e160360b",
        "IPY_MODEL_4ca64ddd0b484b55906701c48e123a42"
       ],
       "layout": "IPY_MODEL_00627cb222304aa7b3df783bc914fa9b"
      }
     },
     "0d63f5c54787461b9d013bfd337691ff": {
      "model_module": "@jupyter-widgets/base",
      "model_module_version": "2.0.0",
      "model_name": "LayoutModel",
      "state": {}
     },
     "0d70cd152e1a4c20a35f9b39df7b03c4": {
      "model_module": "@jupyter-widgets/controls",
      "model_module_version": "2.0.0",
      "model_name": "ButtonModel",
      "state": {
       "description": "Generate Vectors",
       "layout": "IPY_MODEL_8ffbfed4aa3a437692bbc7f5f043b7c5",
       "style": "IPY_MODEL_0828ac917f4f483399c97ff3dcbed5fb",
       "tooltip": null
      }
     },
     "0d85be76531a4afbbde196bd9c188398": {
      "model_module": "@jupyter-widgets/controls",
      "model_module_version": "2.0.0",
      "model_name": "ButtonModel",
      "state": {
       "description": "Redo",
       "layout": "IPY_MODEL_7955196f407941e795425007f6cd489a",
       "style": "IPY_MODEL_f4ca88165d7f4281bbad0045f0e2fc08",
       "tooltip": null
      }
     },
     "0d8b8cddbd7949ce91fc164b099650a8": {
      "model_module": "@jupyter-widgets/controls",
      "model_module_version": "2.0.0",
      "model_name": "ButtonModel",
      "state": {
       "description": "Redo",
       "layout": "IPY_MODEL_f87d9c4300464358b37455bc5ef2733f",
       "style": "IPY_MODEL_57c14498942647f8a5521f01eabcfff0",
       "tooltip": null
      }
     },
     "0dcb0bdadf904591be4e602bc87ee89d": {
      "model_module": "@jupyter-widgets/controls",
      "model_module_version": "2.0.0",
      "model_name": "ButtonStyleModel",
      "state": {
       "font_family": null,
       "font_size": null,
       "font_style": null,
       "font_variant": null,
       "font_weight": null,
       "text_color": null,
       "text_decoration": null
      }
     },
     "0e4edcf8eeb644ba870ae78fe71cc93b": {
      "model_module": "@jupyter-widgets/controls",
      "model_module_version": "2.0.0",
      "model_name": "ButtonStyleModel",
      "state": {
       "font_family": null,
       "font_size": null,
       "font_style": null,
       "font_variant": null,
       "font_weight": null,
       "text_color": null,
       "text_decoration": null
      }
     },
     "0e7e256bad2e420f9e7f40060b5c036d": {
      "model_module": "@jupyter-widgets/base",
      "model_module_version": "2.0.0",
      "model_name": "LayoutModel",
      "state": {}
     },
     "0edbd394862c41e98f6a4f726c46b545": {
      "model_module": "@jupyter-widgets/base",
      "model_module_version": "2.0.0",
      "model_name": "LayoutModel",
      "state": {}
     },
     "0edebee9723445d4b6c0a8ee1705fbd7": {
      "model_module": "@jupyter-widgets/base",
      "model_module_version": "2.0.0",
      "model_name": "LayoutModel",
      "state": {}
     },
     "0eee88ea73be43bbbea0d710204c18f6": {
      "model_module": "@jupyter-widgets/controls",
      "model_module_version": "2.0.0",
      "model_name": "ButtonStyleModel",
      "state": {
       "font_family": null,
       "font_size": null,
       "font_style": null,
       "font_variant": null,
       "font_weight": null,
       "text_color": null,
       "text_decoration": null
      }
     },
     "0f77a18494974fad99b0ac9363d2498e": {
      "model_module": "ipydatagrid",
      "model_module_version": "^1.2.0",
      "model_name": "DataGridModel",
      "state": {
       "_data": {
        "data": [
         {
          "0": "x2",
          "1": "m2",
          "2": "x1",
          "3": "m1",
          "4": "ux2",
          "5": "ux1",
          "6": "um1",
          "7": "um2",
          "ipydguuid": 0,
          "key": "  Variable:"
         },
         {
          "0": "m",
          "1": "kg",
          "2": "m",
          "3": "kg",
          "4": "m",
          "5": "m",
          "6": "kg",
          "7": "kg",
          "ipydguuid": 1,
          "key": " Units:"
         },
         {
          "0": "0.058",
          "1": "0.898",
          "2": "0.129",
          "3": "0.078",
          "4": "0.00125",
          "5": "0.0025",
          "6": "0.0002886751345948129",
          "7": "0.00125",
          "ipydguuid": 2,
          "key": 0
         },
         {
          "0": "0.057",
          "1": "0.902",
          "2": "0.129",
          "3": "0.078",
          "4": "0.00125",
          "5": "0.0025",
          "6": "0.0002886751345948129",
          "7": "0.00125",
          "ipydguuid": 3,
          "key": 1
         },
         {
          "0": "0.057",
          "1": "0.903",
          "2": "0.129",
          "3": "0.078",
          "4": "0.00125",
          "5": "0.0025",
          "6": "0.0002886751345948129",
          "7": "0.00125",
          "ipydguuid": 4,
          "key": 2
         }
        ],
        "fields": [
         {
          "key": null
         },
         {
          "0": null
         },
         {
          "1": null
         },
         {
          "2": null
         },
         {
          "3": null
         },
         {
          "4": null
         },
         {
          "5": null
         },
         {
          "6": null
         },
         {
          "7": null
         },
         {
          "ipydguuid": null
         }
        ],
        "schema": {
         "fields": [
          {
           "name": "key",
           "type": "string"
          },
          {
           "name": 0,
           "type": "string"
          },
          {
           "name": 1,
           "type": "string"
          },
          {
           "name": 2,
           "type": "string"
          },
          {
           "name": 3,
           "type": "string"
          },
          {
           "name": 4,
           "type": "string"
          },
          {
           "name": 5,
           "type": "string"
          },
          {
           "name": 6,
           "type": "string"
          },
          {
           "name": 7,
           "type": "string"
          },
          {
           "name": "ipydguuid",
           "type": "integer"
          }
         ],
         "pandas_version": "1.4.0",
         "primaryKey": [
          "key",
          "ipydguuid"
         ],
         "primaryKeyUuid": "ipydguuid"
        }
       },
       "_model_module_version": "^1.2.0",
       "_model_name": "DataGridModel",
       "_view_module_version": "^1.2.0",
       "auto_fit_columns": false,
       "auto_fit_params": {
        "area": "all",
        "numCols": null,
        "padding": 30
       },
       "base_column_header_size": 20,
       "base_column_size": 64,
       "base_row_header_size": 64,
       "base_row_size": 20,
       "default_renderer": "IPY_MODEL_fd4ec1acd38548f38dd1d893f420f198",
       "editable": true,
       "header_visibility": "all",
       "layout": "IPY_MODEL_11e1bbf1b97f4d668dc9c0c66d88f0cd",
       "selection_mode": "cell"
      }
     },
     "0f84be2d12fe496f9ae9d405f95af9ed": {
      "model_module": "ipydatagrid",
      "model_module_version": "^1.2.0",
      "model_name": "DataGridModel",
      "state": {
       "_data": {
        "data": [
         {
          "0": "x2",
          "1": "m2",
          "2": "x1",
          "3": "m1",
          "4": "ux2",
          "5": "ux1",
          "6": "um1",
          "7": "um2",
          "ipydguuid": 0,
          "key": "  Variable:"
         },
         {
          "0": "m",
          "1": "kg",
          "2": "m",
          "3": "kg",
          "4": "m",
          "5": "m",
          "6": "kg",
          "7": "kg",
          "ipydguuid": 1,
          "key": " Units:"
         },
         {
          "0": "0.045",
          "1": "1.150",
          "2": "0.129",
          "3": "0.078",
          "4": "0.00125",
          "5": "0.0025",
          "6": "0.0002886751345948129",
          "7": "0.00125",
          "ipydguuid": 2,
          "key": 0
         },
         {
          "0": "0.040",
          "1": "1.189",
          "2": "0.129",
          "3": "0.078",
          "4": "0.00125",
          "5": "0.0025",
          "6": "0.0002886751345948129",
          "7": "0.00125",
          "ipydguuid": 3,
          "key": 1
         },
         {
          "0": "0.061",
          "1": "0.979",
          "2": "0.129",
          "3": "0.078",
          "4": "0.00125",
          "5": "0.0025",
          "6": "0.0002886751345948129",
          "7": "0.00125",
          "ipydguuid": 4,
          "key": 2
         }
        ],
        "fields": [
         {
          "key": null
         },
         {
          "0": null
         },
         {
          "1": null
         },
         {
          "2": null
         },
         {
          "3": null
         },
         {
          "4": null
         },
         {
          "5": null
         },
         {
          "6": null
         },
         {
          "7": null
         },
         {
          "ipydguuid": null
         }
        ],
        "schema": {
         "fields": [
          {
           "name": "key",
           "type": "string"
          },
          {
           "name": 0,
           "type": "string"
          },
          {
           "name": 1,
           "type": "string"
          },
          {
           "name": 2,
           "type": "string"
          },
          {
           "name": 3,
           "type": "string"
          },
          {
           "name": 4,
           "type": "string"
          },
          {
           "name": 5,
           "type": "string"
          },
          {
           "name": 6,
           "type": "string"
          },
          {
           "name": 7,
           "type": "string"
          },
          {
           "name": "ipydguuid",
           "type": "integer"
          }
         ],
         "pandas_version": "1.4.0",
         "primaryKey": [
          "key",
          "ipydguuid"
         ],
         "primaryKeyUuid": "ipydguuid"
        }
       },
       "_model_module_version": "^1.2.0",
       "_model_name": "DataGridModel",
       "_view_module_version": "^1.2.0",
       "auto_fit_columns": false,
       "auto_fit_params": {
        "area": "all",
        "numCols": null,
        "padding": 30
       },
       "base_column_header_size": 20,
       "base_column_size": 64,
       "base_row_header_size": 64,
       "base_row_size": 20,
       "default_renderer": "IPY_MODEL_d5f0207f540b466eb7d2fa67334fa820",
       "editable": true,
       "header_visibility": "all",
       "layout": "IPY_MODEL_9e3cd245ff7749bb9a6fae262f4d31f1",
       "selection_mode": "cell"
      }
     },
     "0fe7cb248e7d4e369dbc452ee1b7f725": {
      "model_module": "@jupyter-widgets/controls",
      "model_module_version": "2.0.0",
      "model_name": "ButtonModel",
      "state": {
       "description": "Generate Vectors",
       "layout": "IPY_MODEL_bd88188938cc497db43b236d526fa39b",
       "style": "IPY_MODEL_1417cbcaf4ed44e7861acae415e00a63",
       "tooltip": null
      }
     },
     "0ff51100d97a4e4e91b0c5e6bc583e21": {
      "model_module": "@jupyter-widgets/base",
      "model_module_version": "2.0.0",
      "model_name": "LayoutModel",
      "state": {}
     },
     "1034107b4636441e935d2c09420c9df0": {
      "model_module": "@jupyter-widgets/controls",
      "model_module_version": "2.0.0",
      "model_name": "ButtonModel",
      "state": {
       "description": "Add Row",
       "layout": "IPY_MODEL_1b05c0e9252043399f7515d376a43c3a",
       "style": "IPY_MODEL_84c6d4a5ed8d4af88c2ef90c6608515a",
       "tooltip": null
      }
     },
     "1078b1fe43be42aa998bb0c504041bda": {
      "model_module": "@jupyter-widgets/controls",
      "model_module_version": "2.0.0",
      "model_name": "ButtonStyleModel",
      "state": {
       "font_family": null,
       "font_size": null,
       "font_style": null,
       "font_variant": null,
       "font_weight": null,
       "text_color": null,
       "text_decoration": null
      }
     },
     "10e44443cdc740bcaac8975596a30881": {
      "model_module": "@jupyter-widgets/controls",
      "model_module_version": "2.0.0",
      "model_name": "ButtonStyleModel",
      "state": {
       "font_family": null,
       "font_size": null,
       "font_style": null,
       "font_variant": null,
       "font_weight": null,
       "text_color": null,
       "text_decoration": null
      }
     },
     "10ef22fb78a948cc991cf0360bff4338": {
      "model_module": "@jupyter-widgets/controls",
      "model_module_version": "2.0.0",
      "model_name": "ButtonStyleModel",
      "state": {
       "font_family": null,
       "font_size": null,
       "font_style": null,
       "font_variant": null,
       "font_weight": null,
       "text_color": null,
       "text_decoration": null
      }
     },
     "11062d0ba3a2411cad19fe439a703a51": {
      "model_module": "@jupyter-widgets/controls",
      "model_module_version": "2.0.0",
      "model_name": "ButtonStyleModel",
      "state": {
       "font_family": null,
       "font_size": null,
       "font_style": null,
       "font_variant": null,
       "font_weight": null,
       "text_color": null,
       "text_decoration": null
      }
     },
     "113d51c732244a0585126bc786ceb940": {
      "model_module": "@jupyter-widgets/controls",
      "model_module_version": "2.0.0",
      "model_name": "ButtonStyleModel",
      "state": {
       "font_family": null,
       "font_size": null,
       "font_style": null,
       "font_variant": null,
       "font_weight": null,
       "text_color": null,
       "text_decoration": null
      }
     },
     "11434e0d84c245768f196d13a04748b9": {
      "model_module": "@jupyter-widgets/controls",
      "model_module_version": "2.0.0",
      "model_name": "ButtonStyleModel",
      "state": {
       "font_family": null,
       "font_size": null,
       "font_style": null,
       "font_variant": null,
       "font_weight": null,
       "text_color": null,
       "text_decoration": null
      }
     },
     "115e6fa6eb034e179422a75db69621a4": {
      "model_module": "@jupyter-widgets/controls",
      "model_module_version": "2.0.0",
      "model_name": "ButtonModel",
      "state": {
       "description": "Add Row",
       "layout": "IPY_MODEL_7524465f70dd440c8adaf280c55d10e0",
       "style": "IPY_MODEL_34a087b4a8714eee92f0d52208fd086d",
       "tooltip": null
      }
     },
     "11612f383fb941eea1d74be8db18d9da": {
      "model_module": "ipydatagrid",
      "model_module_version": "^1.2.0",
      "model_name": "TextRendererModel",
      "state": {
       "_model_module_version": "^1.2.0",
       "_view_module_version": "^1.2.0",
       "background_color": "IPY_MODEL_8c6b83820d334c8db9f332a4c0236550",
       "text_color": "IPY_MODEL_8f6d3f5a96a44bbc8be4dae1156a9158"
      }
     },
     "11675b3919774a11a19630733f7d375b": {
      "model_module": "@jupyter-widgets/controls",
      "model_module_version": "2.0.0",
      "model_name": "ButtonModel",
      "state": {
       "description": "Add Row",
       "layout": "IPY_MODEL_1e15899720fb468dace50c93bf7a1d04",
       "style": "IPY_MODEL_113d51c732244a0585126bc786ceb940",
       "tooltip": null
      }
     },
     "11bb931e3de345ceb7260b7b87ffc08f": {
      "model_module": "@jupyter-widgets/base",
      "model_module_version": "2.0.0",
      "model_name": "LayoutModel",
      "state": {}
     },
     "11bdb0f99a0a4350bae8907de3fb4983": {
      "model_module": "@jupyter-widgets/base",
      "model_module_version": "2.0.0",
      "model_name": "LayoutModel",
      "state": {}
     },
     "11c47245abcb409d903e47fa6a9b10cc": {
      "model_module": "@jupyter-widgets/base",
      "model_module_version": "2.0.0",
      "model_name": "LayoutModel",
      "state": {}
     },
     "11d125fea1ff4cb4bc69c8049bf4e0f9": {
      "model_module": "@jupyter-widgets/controls",
      "model_module_version": "2.0.0",
      "model_name": "ButtonModel",
      "state": {
       "description": "Redo",
       "layout": "IPY_MODEL_ff5f87edaab04f38875d7ce03718d5ef",
       "style": "IPY_MODEL_4ca259d2e3cd4ffc89f5d423e7253215",
       "tooltip": null
      }
     },
     "11d91665eddb44f9939ee33be7b3badb": {
      "model_module": "@jupyter-widgets/controls",
      "model_module_version": "2.0.0",
      "model_name": "ButtonModel",
      "state": {
       "description": "Generate Vectors",
       "layout": "IPY_MODEL_6fb6bf9fb1a34d298936ea06179ed458",
       "style": "IPY_MODEL_63256e255d6842ba933c8b0c3c72cfd1",
       "tooltip": null
      }
     },
     "11e1bbf1b97f4d668dc9c0c66d88f0cd": {
      "model_module": "@jupyter-widgets/base",
      "model_module_version": "2.0.0",
      "model_name": "LayoutModel",
      "state": {
       "height": "150px"
      }
     },
     "11ec7ea777604e4ba4cb5b97218bd2d2": {
      "model_module": "@jupyter-widgets/controls",
      "model_module_version": "2.0.0",
      "model_name": "VBoxModel",
      "state": {
       "children": [
        "IPY_MODEL_ab0fb77336d04517a7a85e71ee2652a7",
        "IPY_MODEL_e44c46be16174a1fae91d244843ea1ac",
        "IPY_MODEL_5a863a0878e140e99138c742831b5839"
       ],
       "layout": "IPY_MODEL_422124c014b2404c9549ae720ae6d51a"
      }
     },
     "122bba0b92124126ba1bdeed90188a99": {
      "model_module": "@jupyter-widgets/controls",
      "model_module_version": "2.0.0",
      "model_name": "ButtonStyleModel",
      "state": {
       "font_family": null,
       "font_size": null,
       "font_style": null,
       "font_variant": null,
       "font_weight": null,
       "text_color": null,
       "text_decoration": null
      }
     },
     "125c2fced4024718bfae29f2acefae38": {
      "model_module": "@jupyter-widgets/controls",
      "model_module_version": "2.0.0",
      "model_name": "ButtonStyleModel",
      "state": {
       "font_family": null,
       "font_size": null,
       "font_style": null,
       "font_variant": null,
       "font_weight": null,
       "text_color": null,
       "text_decoration": null
      }
     },
     "126e589aece3460cba1bec96e092411a": {
      "model_module": "@jupyter-widgets/controls",
      "model_module_version": "2.0.0",
      "model_name": "ButtonStyleModel",
      "state": {
       "font_family": null,
       "font_size": null,
       "font_style": null,
       "font_variant": null,
       "font_weight": null,
       "text_color": null,
       "text_decoration": null
      }
     },
     "12d3cae050af4089ba9365fc0f21f836": {
      "model_module": "@jupyter-widgets/controls",
      "model_module_version": "2.0.0",
      "model_name": "ButtonStyleModel",
      "state": {
       "font_family": null,
       "font_size": null,
       "font_style": null,
       "font_variant": null,
       "font_weight": null,
       "text_color": null,
       "text_decoration": null
      }
     },
     "12de36c43d484105bac372762574a4db": {
      "model_module": "@jupyter-widgets/base",
      "model_module_version": "2.0.0",
      "model_name": "LayoutModel",
      "state": {}
     },
     "12efa5a56d0243b1a70ea239f559840a": {
      "model_module": "@jupyter-widgets/base",
      "model_module_version": "2.0.0",
      "model_name": "LayoutModel",
      "state": {}
     },
     "13102458db274d2784353aeaa2738993": {
      "model_module": "@jupyter-widgets/controls",
      "model_module_version": "2.0.0",
      "model_name": "VBoxModel",
      "state": {
       "children": [
        "IPY_MODEL_0d48c6eb0ffb49d99c0c5fb2ea55fb8e",
        "IPY_MODEL_d2334fb4d13745ea87d64f065cc0de3e",
        "IPY_MODEL_7854725ab96b4393b37686b2ac6a34b8"
       ],
       "layout": "IPY_MODEL_e27a1c3bef8d45f5aa3625e3c88f00c3"
      }
     },
     "13115983bd78447397759b7275ac9be0": {
      "model_module": "@jupyter-widgets/base",
      "model_module_version": "2.0.0",
      "model_name": "LayoutModel",
      "state": {}
     },
     "135b209b032a4cfb81fd410a95140073": {
      "model_module": "@jupyter-widgets/base",
      "model_module_version": "2.0.0",
      "model_name": "LayoutModel",
      "state": {}
     },
     "136e647f38384c2a985c15e03efe5375": {
      "model_module": "@jupyter-widgets/base",
      "model_module_version": "2.0.0",
      "model_name": "LayoutModel",
      "state": {}
     },
     "137542444f474f85bed9330457d93c42": {
      "model_module": "@jupyter-widgets/base",
      "model_module_version": "2.0.0",
      "model_name": "LayoutModel",
      "state": {}
     },
     "1387ad27245b4139afd30a8e0873cc57": {
      "model_module": "@jupyter-widgets/controls",
      "model_module_version": "2.0.0",
      "model_name": "ButtonModel",
      "state": {
       "description": "Generate Vectors",
       "layout": "IPY_MODEL_a18f51a41c604b9ea6ac0a9389cc874a",
       "style": "IPY_MODEL_76c585bf6a44484cb177505809aca860",
       "tooltip": null
      }
     },
     "138cfad2f0584dd5b2cdfb2a3a673f7c": {
      "model_module": "@jupyter-widgets/base",
      "model_module_version": "2.0.0",
      "model_name": "LayoutModel",
      "state": {}
     },
     "13cec6d41f0644e986e42ee8b43433b1": {
      "model_module": "@jupyter-widgets/base",
      "model_module_version": "2.0.0",
      "model_name": "LayoutModel",
      "state": {}
     },
     "13df6152c971482ab5e7d64fbea9aa94": {
      "model_module": "@jupyter-widgets/base",
      "model_module_version": "2.0.0",
      "model_name": "LayoutModel",
      "state": {
       "height": "150px"
      }
     },
     "1417cbcaf4ed44e7861acae415e00a63": {
      "model_module": "@jupyter-widgets/controls",
      "model_module_version": "2.0.0",
      "model_name": "ButtonStyleModel",
      "state": {
       "font_family": null,
       "font_size": null,
       "font_style": null,
       "font_variant": null,
       "font_weight": null,
       "text_color": null,
       "text_decoration": null
      }
     },
     "142a677b0b2f481a800f4ec1a3c45281": {
      "model_module": "@jupyter-widgets/controls",
      "model_module_version": "2.0.0",
      "model_name": "ButtonModel",
      "state": {
       "description": "Redo",
       "layout": "IPY_MODEL_8a9bb5d7fd1244409ccb76a601473be6",
       "style": "IPY_MODEL_157f47ce2e7c4d4fa2514d839df8bd6d",
       "tooltip": null
      }
     },
     "145d357cdb224d84b6b06910df4bd191": {
      "model_module": "@jupyter-widgets/controls",
      "model_module_version": "2.0.0",
      "model_name": "ButtonModel",
      "state": {
       "description": "Add Column",
       "layout": "IPY_MODEL_0e7e256bad2e420f9e7f40060b5c036d",
       "style": "IPY_MODEL_1d660c8a4e37406dbbf1eb87a44a76d2",
       "tooltip": null
      }
     },
     "14604127ca5f4110b2e70eefce632def": {
      "model_module": "@jupyter-widgets/controls",
      "model_module_version": "2.0.0",
      "model_name": "ButtonModel",
      "state": {
       "description": "Redo",
       "layout": "IPY_MODEL_bebee0c0b51a49f29dbbbdb1310ed711",
       "style": "IPY_MODEL_fddc56c16448409ca81fb328775651f4",
       "tooltip": null
      }
     },
     "14770d074be94c4e9bc2abe5aa34431c": {
      "model_module": "@jupyter-widgets/controls",
      "model_module_version": "2.0.0",
      "model_name": "ButtonModel",
      "state": {
       "description": "Generate Vectors",
       "layout": "IPY_MODEL_67404cbca3bf4992b3b194b8116a5856",
       "style": "IPY_MODEL_0723c8071eea46eeb04ef1a13bc4ac0b",
       "tooltip": null
      }
     },
     "148fb38eb1a141c29e72f3b5a2b23032": {
      "model_module": "@jupyter-widgets/output",
      "model_module_version": "1.0.0",
      "model_name": "OutputModel",
      "state": {
       "layout": "IPY_MODEL_7c2a9400939c4f70a344d655e258d54b",
       "outputs": [
        {
         "name": "stdout",
         "output_type": "stream",
         "text": "Data vectors need to be updated\n"
        }
       ]
      }
     },
     "15052a02c02f4630bbae119dee7641cb": {
      "model_module": "@jupyter-widgets/base",
      "model_module_version": "2.0.0",
      "model_name": "LayoutModel",
      "state": {}
     },
     "150660a2fd894f09b68872aefb182f6c": {
      "model_module": "@jupyter-widgets/base",
      "model_module_version": "2.0.0",
      "model_name": "LayoutModel",
      "state": {}
     },
     "1522323670bd44abbf4afa5cddc4c8a4": {
      "model_module": "@jupyter-widgets/base",
      "model_module_version": "2.0.0",
      "model_name": "LayoutModel",
      "state": {}
     },
     "157f47ce2e7c4d4fa2514d839df8bd6d": {
      "model_module": "@jupyter-widgets/controls",
      "model_module_version": "2.0.0",
      "model_name": "ButtonStyleModel",
      "state": {
       "font_family": null,
       "font_size": null,
       "font_style": null,
       "font_variant": null,
       "font_weight": null,
       "text_color": null,
       "text_decoration": null
      }
     },
     "15a092d72ebb4703a4a8cd27bcbba766": {
      "model_module": "@jupyter-widgets/base",
      "model_module_version": "2.0.0",
      "model_name": "LayoutModel",
      "state": {}
     },
     "161998818c964a74b8fc834595bf86a3": {
      "model_module": "@jupyter-widgets/controls",
      "model_module_version": "2.0.0",
      "model_name": "ButtonStyleModel",
      "state": {
       "font_family": null,
       "font_size": null,
       "font_style": null,
       "font_variant": null,
       "font_weight": null,
       "text_color": null,
       "text_decoration": null
      }
     },
     "16230a6b01854cee85b85c7ea8c82584": {
      "model_module": "@jupyter-widgets/controls",
      "model_module_version": "2.0.0",
      "model_name": "ButtonStyleModel",
      "state": {
       "font_family": null,
       "font_size": null,
       "font_style": null,
       "font_variant": null,
       "font_weight": null,
       "text_color": null,
       "text_decoration": null
      }
     },
     "164be3bb688f4d1a8e2b067810e5aed4": {
      "model_module": "@jupyter-widgets/controls",
      "model_module_version": "2.0.0",
      "model_name": "HBoxModel",
      "state": {
       "children": [
        "IPY_MODEL_43c0c2e96ee24ff097236bc5f3301636",
        "IPY_MODEL_3f45226205f64bc094f9b4061db699aa",
        "IPY_MODEL_c3a75ba5e7b845f5a467a890d93b0dc2",
        "IPY_MODEL_a9830e194f8d4714b4f8454cda32daf2",
        "IPY_MODEL_314cc782c6e94fb0aa88516adb5cd3de"
       ],
       "layout": "IPY_MODEL_28a7178b95154519b538093973dd2267"
      }
     },
     "165d44452602426f8cbb64322ac0b2f2": {
      "model_module": "@jupyter-widgets/controls",
      "model_module_version": "2.0.0",
      "model_name": "ButtonModel",
      "state": {
       "description": "Undo",
       "layout": "IPY_MODEL_990ff333245f4953814d96cc9fc44d53",
       "style": "IPY_MODEL_a229c11779d84b3383c7c909e2e9ac8d",
       "tooltip": null
      }
     },
     "1692911fc32b4a408d545626266919a4": {
      "model_module": "ipydatagrid",
      "model_module_version": "^1.2.0",
      "model_name": "TextRendererModel",
      "state": {
       "_model_module_version": "^1.2.0",
       "_view_module_version": "^1.2.0",
       "background_color": "IPY_MODEL_ed55a9b34cc94f069ccb0ab29ac27bdf",
       "text_color": "IPY_MODEL_e2dbb796981f46ee977985f54a09d804"
      }
     },
     "16a39289d256499b9165feff2667ad6e": {
      "model_module": "ipydatagrid",
      "model_module_version": "^1.2.0",
      "model_name": "VegaExprModel",
      "state": {
       "_model_module_version": "^1.2.0",
       "_view_module": "ipydatagrid",
       "_view_module_version": "^1.2.0",
       "_view_name": "VegaExprView"
      }
     },
     "16e80d41936f472b927ec521c0cc1fed": {
      "model_module": "@jupyter-widgets/base",
      "model_module_version": "2.0.0",
      "model_name": "LayoutModel",
      "state": {}
     },
     "17d2860214ad4720a51c61a690bd2672": {
      "model_module": "@jupyter-widgets/base",
      "model_module_version": "2.0.0",
      "model_name": "LayoutModel",
      "state": {}
     },
     "183267daf53c43278c60a79bb5653a36": {
      "model_module": "@jupyter-widgets/controls",
      "model_module_version": "2.0.0",
      "model_name": "ButtonStyleModel",
      "state": {
       "font_family": null,
       "font_size": null,
       "font_style": null,
       "font_variant": null,
       "font_weight": null,
       "text_color": null,
       "text_decoration": null
      }
     },
     "1839200f406d4d77a400947d9897b27d": {
      "model_module": "ipydatagrid",
      "model_module_version": "^1.2.0",
      "model_name": "DataGridModel",
      "state": {
       "_data": {
        "data": [
         {
          "0": "x2",
          "1": "m2",
          "2": "x1",
          "3": "m1",
          "4": "ux2",
          "5": "ux1",
          "6": "um1",
          "7": "um2",
          "ipydguuid": 0,
          "key": "  Variable:"
         },
         {
          "0": "m",
          "1": "kg",
          "2": "m",
          "3": "kg",
          "4": "m",
          "5": "m",
          "6": "kg",
          "7": "kg",
          "ipydguuid": 1,
          "key": " Units:"
         },
         {
          "0": "0.091",
          "1": "0.528",
          "2": "0.129",
          "3": "0.078",
          "4": "0.00125",
          "5": "0.0025",
          "6": "0.0002886751345948129",
          "7": "0.00125",
          "ipydguuid": 2,
          "key": 0
         },
         {
          "0": "0.070",
          "1": "0.825",
          "2": "0.129",
          "3": "0.078",
          "4": "0.00125",
          "5": "0.0025",
          "6": "0.0002886751345948129",
          "7": "0.00125",
          "ipydguuid": 3,
          "key": 1
         },
         {
          "0": "0.057",
          "1": "0.903",
          "2": "0.129",
          "3": "0.078",
          "4": "0.00125",
          "5": "0.0025",
          "6": "0.0002886751345948129",
          "7": "0.00125",
          "ipydguuid": 4,
          "key": 2
         }
        ],
        "fields": [
         {
          "key": null
         },
         {
          "0": null
         },
         {
          "1": null
         },
         {
          "2": null
         },
         {
          "3": null
         },
         {
          "4": null
         },
         {
          "5": null
         },
         {
          "6": null
         },
         {
          "7": null
         },
         {
          "ipydguuid": null
         }
        ],
        "schema": {
         "fields": [
          {
           "name": "key",
           "type": "string"
          },
          {
           "name": 0,
           "type": "string"
          },
          {
           "name": 1,
           "type": "string"
          },
          {
           "name": 2,
           "type": "string"
          },
          {
           "name": 3,
           "type": "string"
          },
          {
           "name": 4,
           "type": "string"
          },
          {
           "name": 5,
           "type": "string"
          },
          {
           "name": 6,
           "type": "string"
          },
          {
           "name": 7,
           "type": "string"
          },
          {
           "name": "ipydguuid",
           "type": "integer"
          }
         ],
         "pandas_version": "1.4.0",
         "primaryKey": [
          "key",
          "ipydguuid"
         ],
         "primaryKeyUuid": "ipydguuid"
        }
       },
       "_model_module_version": "^1.2.0",
       "_model_name": "DataGridModel",
       "_view_module_version": "^1.2.0",
       "_visible_rows": [
        0,
        1,
        2,
        3,
        4
       ],
       "auto_fit_columns": false,
       "auto_fit_params": {
        "area": "all",
        "numCols": null,
        "padding": 30
       },
       "base_column_header_size": 20,
       "base_column_size": 64,
       "base_row_header_size": 64,
       "base_row_size": 20,
       "default_renderer": "IPY_MODEL_d005dd89c54a425e9cae3d56f9ac7ef0",
       "editable": true,
       "header_visibility": "all",
       "layout": "IPY_MODEL_3e4cfe4230664821a5acec3f7f9b983c",
       "selection_mode": "cell",
       "selections": [
        {
         "c1": 0,
         "c2": 0,
         "r1": 3,
         "r2": 3
        }
       ]
      }
     },
     "185ba59092124f0589dd6b3467e26143": {
      "model_module": "@jupyter-widgets/base",
      "model_module_version": "2.0.0",
      "model_name": "LayoutModel",
      "state": {}
     },
     "186c8638da7d4991a63f4e342b0ea19c": {
      "model_module": "@jupyter-widgets/controls",
      "model_module_version": "2.0.0",
      "model_name": "ButtonStyleModel",
      "state": {
       "font_family": null,
       "font_size": null,
       "font_style": null,
       "font_variant": null,
       "font_weight": null,
       "text_color": null,
       "text_decoration": null
      }
     },
     "1890cabd8c634e18af0f8583b8cffa8e": {
      "model_module": "ipydatagrid",
      "model_module_version": "^1.2.0",
      "model_name": "VegaExprModel",
      "state": {
       "_model_module_version": "^1.2.0",
       "_view_module": "ipydatagrid",
       "_view_module_version": "^1.2.0",
       "_view_name": "VegaExprView"
      }
     },
     "18a1af10d75e41b78afea1d927bd7a24": {
      "model_module": "@jupyter-widgets/controls",
      "model_module_version": "2.0.0",
      "model_name": "ButtonStyleModel",
      "state": {
       "font_family": null,
       "font_size": null,
       "font_style": null,
       "font_variant": null,
       "font_weight": null,
       "text_color": null,
       "text_decoration": null
      }
     },
     "18a2e033b7474256ad587938b0f30960": {
      "model_module": "@jupyter-widgets/controls",
      "model_module_version": "2.0.0",
      "model_name": "HBoxModel",
      "state": {
       "children": [
        "IPY_MODEL_8769c7ce302a435d871bddbbc8a191e4",
        "IPY_MODEL_ab4d0ae9c5074fa99a2eccd3352a57af",
        "IPY_MODEL_8ee4ca2ab7044f58ab5af081fcf4cb72",
        "IPY_MODEL_d1114956369b45f29279ef6b62a89c4f",
        "IPY_MODEL_bd3a56a885154e5d89b3415e710a0a9b"
       ],
       "layout": "IPY_MODEL_185ba59092124f0589dd6b3467e26143"
      }
     },
     "18a540cae6594ba18ea72aed5e069a21": {
      "model_module": "@jupyter-widgets/controls",
      "model_module_version": "2.0.0",
      "model_name": "ButtonStyleModel",
      "state": {
       "font_family": null,
       "font_size": null,
       "font_style": null,
       "font_variant": null,
       "font_weight": null,
       "text_color": null,
       "text_decoration": null
      }
     },
     "18be13d112d64bfabb585690cc74666a": {
      "model_module": "@jupyter-widgets/base",
      "model_module_version": "2.0.0",
      "model_name": "LayoutModel",
      "state": {}
     },
     "1951933db60147438486ecbd73707991": {
      "model_module": "@jupyter-widgets/output",
      "model_module_version": "1.0.0",
      "model_name": "OutputModel",
      "state": {
       "layout": "IPY_MODEL_5765a85981634017aaf007502f7652d8"
      }
     },
     "19687bd62f03440d8d3f2ae8068aa9a3": {
      "model_module": "@jupyter-widgets/controls",
      "model_module_version": "2.0.0",
      "model_name": "ButtonStyleModel",
      "state": {
       "font_family": null,
       "font_size": null,
       "font_style": null,
       "font_variant": null,
       "font_weight": null,
       "text_color": null,
       "text_decoration": null
      }
     },
     "19827bd63b484786b8e0d9294c2c11b2": {
      "model_module": "@jupyter-widgets/base",
      "model_module_version": "2.0.0",
      "model_name": "LayoutModel",
      "state": {}
     },
     "1997a7773b6f461c8f1819cd9d128246": {
      "model_module": "@jupyter-widgets/controls",
      "model_module_version": "2.0.0",
      "model_name": "ButtonModel",
      "state": {
       "description": "Generate Vectors",
       "layout": "IPY_MODEL_3f456f40202d427fb7bf8407fbf3aad8",
       "style": "IPY_MODEL_54ef91614cb74249be28b855020cc561",
       "tooltip": null
      }
     },
     "19f0e21d1205444ea39f41c9a9e22924": {
      "model_module": "@jupyter-widgets/base",
      "model_module_version": "2.0.0",
      "model_name": "LayoutModel",
      "state": {}
     },
     "1a39d4681a4147c6b9588a7a81b9be87": {
      "model_module": "@jupyter-widgets/base",
      "model_module_version": "2.0.0",
      "model_name": "LayoutModel",
      "state": {
       "height": "130px"
      }
     },
     "1a41fd88ca584a27a901ef7c5111c75f": {
      "model_module": "@jupyter-widgets/output",
      "model_module_version": "1.0.0",
      "model_name": "OutputModel",
      "state": {
       "layout": "IPY_MODEL_3c4b8ba9cdf649a78a9f3633dcd5fa5f",
       "outputs": [
        {
         "name": "stdout",
         "output_type": "stream",
         "text": "Data vectors need to be updated\n"
        }
       ]
      }
     },
     "1a7b3bb6464449dfa7a53c1fdba2f713": {
      "model_module": "@jupyter-widgets/controls",
      "model_module_version": "2.0.0",
      "model_name": "ButtonModel",
      "state": {
       "description": "Redo",
       "layout": "IPY_MODEL_36b4a0fee820403199dd9dd8713b8a18",
       "style": "IPY_MODEL_71cfb723ac1e47ffa464544a8b2c9066",
       "tooltip": null
      }
     },
     "1a910e847f564b6fa7ac107cdcfbef9d": {
      "model_module": "@jupyter-widgets/controls",
      "model_module_version": "2.0.0",
      "model_name": "ButtonModel",
      "state": {
       "description": "Add Row",
       "layout": "IPY_MODEL_6c2c8d7174314e9f91d8e363819749db",
       "style": "IPY_MODEL_45ae2bc34c394487bc5e27afa4ff1052",
       "tooltip": null
      }
     },
     "1a9463a13c7440bcaecc9488bf8b1fa9": {
      "model_module": "@jupyter-widgets/base",
      "model_module_version": "2.0.0",
      "model_name": "LayoutModel",
      "state": {}
     },
     "1acf003709344e0d82c33f0340c9a2ba": {
      "model_module": "@jupyter-widgets/controls",
      "model_module_version": "2.0.0",
      "model_name": "ButtonModel",
      "state": {
       "description": "Undo",
       "layout": "IPY_MODEL_58ccbaea49b243799c824e1b61f2e35c",
       "style": "IPY_MODEL_12d3cae050af4089ba9365fc0f21f836",
       "tooltip": null
      }
     },
     "1af5edf9e8e54ae9a74d75f182be9192": {
      "model_module": "@jupyter-widgets/controls",
      "model_module_version": "2.0.0",
      "model_name": "ButtonModel",
      "state": {
       "description": "Undo",
       "layout": "IPY_MODEL_72802c63e9784634a79afdc268c77012",
       "style": "IPY_MODEL_68b31451481a413a8fa6f2a493b43132",
       "tooltip": null
      }
     },
     "1afb09ca270b40cfb1ee5b3fe733956f": {
      "model_module": "@jupyter-widgets/base",
      "model_module_version": "2.0.0",
      "model_name": "LayoutModel",
      "state": {}
     },
     "1b028bcac3a0438cb3b408bdb9a02ff5": {
      "model_module": "@jupyter-widgets/controls",
      "model_module_version": "2.0.0",
      "model_name": "ButtonStyleModel",
      "state": {
       "font_family": null,
       "font_size": null,
       "font_style": null,
       "font_variant": null,
       "font_weight": null,
       "text_color": null,
       "text_decoration": null
      }
     },
     "1b0298f521b84c589cccd6e1c26864ad": {
      "model_module": "@jupyter-widgets/controls",
      "model_module_version": "2.0.0",
      "model_name": "ButtonModel",
      "state": {
       "description": "Generate Vectors",
       "layout": "IPY_MODEL_3a776badb60245f395ea3c4a44c36700",
       "style": "IPY_MODEL_10ef22fb78a948cc991cf0360bff4338",
       "tooltip": null
      }
     },
     "1b04c79c94b84210b2d8bf3f83f4c7b6": {
      "model_module": "ipydatagrid",
      "model_module_version": "^1.2.0",
      "model_name": "DataGridModel",
      "state": {
       "_data": {
        "data": [
         {
          "0": "x2",
          "1": "m2",
          "2": "x1",
          "3": "m1",
          "4": "ux2",
          "5": "ux1",
          "6": "um1",
          "7": "um2",
          "ipydguuid": 0,
          "key": "  Variable:"
         },
         {
          "0": "m",
          "1": "kg",
          "2": "m",
          "3": "kg",
          "4": "m",
          "5": "m",
          "6": "kg",
          "7": "kg",
          "ipydguuid": 1,
          "key": " Units:"
         },
         {
          "0": "0.058",
          "1": "0.898",
          "2": "0.129",
          "3": "0.078",
          "4": "0.00125",
          "5": "0.0025",
          "6": "0.0002886751345948129",
          "7": "0.00125",
          "ipydguuid": 2,
          "key": 0
         },
         {
          "0": "0.057",
          "1": "0.902",
          "2": "0.129",
          "3": "0.078",
          "4": "0.00125",
          "5": "0.0025",
          "6": "0.0002886751345948129",
          "7": "0.00125",
          "ipydguuid": 3,
          "key": 1
         },
         {
          "0": "0.057",
          "1": "0.903",
          "2": "0.129",
          "3": "0.078",
          "4": "0.00125",
          "5": "0.0025",
          "6": "0.0002886751345948129",
          "7": "0.00125",
          "ipydguuid": 4,
          "key": 2
         }
        ],
        "fields": [
         {
          "key": null
         },
         {
          "0": null
         },
         {
          "1": null
         },
         {
          "2": null
         },
         {
          "3": null
         },
         {
          "4": null
         },
         {
          "5": null
         },
         {
          "6": null
         },
         {
          "7": null
         },
         {
          "ipydguuid": null
         }
        ],
        "schema": {
         "fields": [
          {
           "name": "key",
           "type": "string"
          },
          {
           "name": 0,
           "type": "string"
          },
          {
           "name": 1,
           "type": "string"
          },
          {
           "name": 2,
           "type": "string"
          },
          {
           "name": 3,
           "type": "string"
          },
          {
           "name": 4,
           "type": "string"
          },
          {
           "name": 5,
           "type": "string"
          },
          {
           "name": 6,
           "type": "string"
          },
          {
           "name": 7,
           "type": "string"
          },
          {
           "name": "ipydguuid",
           "type": "integer"
          }
         ],
         "pandas_version": "1.4.0",
         "primaryKey": [
          "key",
          "ipydguuid"
         ],
         "primaryKeyUuid": "ipydguuid"
        }
       },
       "_model_module_version": "^1.2.0",
       "_model_name": "DataGridModel",
       "_view_module_version": "^1.2.0",
       "auto_fit_columns": false,
       "auto_fit_params": {
        "area": "all",
        "numCols": null,
        "padding": 30
       },
       "base_column_header_size": 20,
       "base_column_size": 64,
       "base_row_header_size": 64,
       "base_row_size": 20,
       "default_renderer": "IPY_MODEL_5644b755874d4f33bc7151803af175eb",
       "editable": true,
       "header_visibility": "all",
       "layout": "IPY_MODEL_7e47e0e7c34e4d8c9c032bc6117bf86d",
       "selection_mode": "cell"
      }
     },
     "1b05c0e9252043399f7515d376a43c3a": {
      "model_module": "@jupyter-widgets/base",
      "model_module_version": "2.0.0",
      "model_name": "LayoutModel",
      "state": {}
     },
     "1b0ff3e77d6f4349b390f40bd271d61a": {
      "model_module": "@jupyter-widgets/controls",
      "model_module_version": "2.0.0",
      "model_name": "ButtonStyleModel",
      "state": {
       "font_family": null,
       "font_size": null,
       "font_style": null,
       "font_variant": null,
       "font_weight": null,
       "text_color": null,
       "text_decoration": null
      }
     },
     "1b1c1375c1524333a8e8db7f052f9b9d": {
      "model_module": "@jupyter-widgets/controls",
      "model_module_version": "2.0.0",
      "model_name": "ButtonModel",
      "state": {
       "description": "Undo",
       "layout": "IPY_MODEL_7170bc02cd124c6c90a81c20b3da5619",
       "style": "IPY_MODEL_f5e0761830844f2fa7e1970902f9d266",
       "tooltip": null
      }
     },
     "1b6e500ed4764844b614ded3ac959e3d": {
      "model_module": "@jupyter-widgets/controls",
      "model_module_version": "2.0.0",
      "model_name": "ButtonStyleModel",
      "state": {
       "font_family": null,
       "font_size": null,
       "font_style": null,
       "font_variant": null,
       "font_weight": null,
       "text_color": null,
       "text_decoration": null
      }
     },
     "1b7a220ab48244eb82b56fe1497d08cc": {
      "model_module": "@jupyter-widgets/controls",
      "model_module_version": "2.0.0",
      "model_name": "ButtonModel",
      "state": {
       "description": "Add Row",
       "layout": "IPY_MODEL_d43f5827f7834d43b3c87a840a929d06",
       "style": "IPY_MODEL_c12a8495e7824575a4d8c644d14351d2",
       "tooltip": null
      }
     },
     "1b7ae220c9b44185ad5bb7fb13cad3f2": {
      "model_module": "@jupyter-widgets/controls",
      "model_module_version": "2.0.0",
      "model_name": "ButtonStyleModel",
      "state": {
       "font_family": null,
       "font_size": null,
       "font_style": null,
       "font_variant": null,
       "font_weight": null,
       "text_color": null,
       "text_decoration": null
      }
     },
     "1badf70ac0d64d6db9d6d35707544a43": {
      "model_module": "@jupyter-widgets/controls",
      "model_module_version": "2.0.0",
      "model_name": "ButtonModel",
      "state": {
       "description": "Undo",
       "layout": "IPY_MODEL_084db3afabb54ccca40a8f3c6a189c98",
       "style": "IPY_MODEL_934690a8b3ec421c889822f70436a588",
       "tooltip": null
      }
     },
     "1bff21bd80a34444a7ea3c6ee8fa3a2b": {
      "model_module": "@jupyter-widgets/controls",
      "model_module_version": "2.0.0",
      "model_name": "ButtonStyleModel",
      "state": {
       "font_family": null,
       "font_size": null,
       "font_style": null,
       "font_variant": null,
       "font_weight": null,
       "text_color": null,
       "text_decoration": null
      }
     },
     "1c3c6339cc1448ada63a809dd4cece9d": {
      "model_module": "@jupyter-widgets/controls",
      "model_module_version": "2.0.0",
      "model_name": "ButtonStyleModel",
      "state": {
       "font_family": null,
       "font_size": null,
       "font_style": null,
       "font_variant": null,
       "font_weight": null,
       "text_color": null,
       "text_decoration": null
      }
     },
     "1ca4bb0e94294620bea1ecc0c2f2c010": {
      "model_module": "@jupyter-widgets/controls",
      "model_module_version": "2.0.0",
      "model_name": "ButtonStyleModel",
      "state": {
       "font_family": null,
       "font_size": null,
       "font_style": null,
       "font_variant": null,
       "font_weight": null,
       "text_color": null,
       "text_decoration": null
      }
     },
     "1cab36895e204dd4b6ed2fdc182361b9": {
      "model_module": "@jupyter-widgets/controls",
      "model_module_version": "2.0.0",
      "model_name": "ButtonModel",
      "state": {
       "description": "Redo",
       "layout": "IPY_MODEL_d68aea1f80f7476ab81dc123edbefb36",
       "style": "IPY_MODEL_fcdc8d9de6c84cb0b8c38de19ff5f142",
       "tooltip": null
      }
     },
     "1caef9d563a44f78b00e1a965a7cb415": {
      "model_module": "ipydatagrid",
      "model_module_version": "^1.2.0",
      "model_name": "DataGridModel",
      "state": {
       "_data": {
        "data": [
         {
          "0": "x2",
          "1": "m2",
          "2": "x1",
          "3": "m1",
          "4": "ux2",
          "5": "ux1",
          "6": "um1",
          "7": "um2",
          "ipydguuid": 0,
          "key": "  Variable:"
         },
         {
          "0": "m",
          "1": "kg",
          "2": "m",
          "3": "kg",
          "4": "m",
          "5": "m",
          "6": "kg",
          "7": "kg",
          "ipydguuid": 1,
          "key": " Units:"
         },
         {
          "0": "0.058",
          "1": "0.898",
          "2": "0.129",
          "3": "0.078",
          "4": "0.00125",
          "5": "0.0025",
          "6": "0.0002886751345948129",
          "7": "0.00125",
          "ipydguuid": 2,
          "key": 0
         },
         {
          "0": "0.057",
          "1": "0.902",
          "2": "0.129",
          "3": "0.078",
          "4": "0.00125",
          "5": "0.0025",
          "6": "0.0002886751345948129",
          "7": "0.00125",
          "ipydguuid": 3,
          "key": 1
         },
         {
          "0": "0.057",
          "1": "0.903",
          "2": "0.129",
          "3": "0.078",
          "4": "0.00125",
          "5": "0.0025",
          "6": "0.0002886751345948129",
          "7": "0.00125",
          "ipydguuid": 4,
          "key": 2
         }
        ],
        "fields": [
         {
          "key": null
         },
         {
          "0": null
         },
         {
          "1": null
         },
         {
          "2": null
         },
         {
          "3": null
         },
         {
          "4": null
         },
         {
          "5": null
         },
         {
          "6": null
         },
         {
          "7": null
         },
         {
          "ipydguuid": null
         }
        ],
        "schema": {
         "fields": [
          {
           "name": "key",
           "type": "string"
          },
          {
           "name": 0,
           "type": "string"
          },
          {
           "name": 1,
           "type": "string"
          },
          {
           "name": 2,
           "type": "string"
          },
          {
           "name": 3,
           "type": "string"
          },
          {
           "name": 4,
           "type": "string"
          },
          {
           "name": 5,
           "type": "string"
          },
          {
           "name": 6,
           "type": "string"
          },
          {
           "name": 7,
           "type": "string"
          },
          {
           "name": "ipydguuid",
           "type": "integer"
          }
         ],
         "pandas_version": "1.4.0",
         "primaryKey": [
          "key",
          "ipydguuid"
         ],
         "primaryKeyUuid": "ipydguuid"
        }
       },
       "_model_module_version": "^1.2.0",
       "_model_name": "DataGridModel",
       "_view_module_version": "^1.2.0",
       "auto_fit_columns": false,
       "auto_fit_params": {
        "area": "all",
        "numCols": null,
        "padding": 30
       },
       "base_column_header_size": 20,
       "base_column_size": 64,
       "base_row_header_size": 64,
       "base_row_size": 20,
       "default_renderer": "IPY_MODEL_f1ac27bcb6504080b6b1e818ebc03f27",
       "editable": true,
       "header_visibility": "all",
       "layout": "IPY_MODEL_763ef62d228046049fd3715f69c864b8",
       "selection_mode": "cell"
      }
     },
     "1ccf940b1fea49809b5c45208c09b473": {
      "model_module": "@jupyter-widgets/base",
      "model_module_version": "2.0.0",
      "model_name": "LayoutModel",
      "state": {}
     },
     "1cf61f259bc54e2cbae5e94ed51a696d": {
      "model_module": "@jupyter-widgets/controls",
      "model_module_version": "2.0.0",
      "model_name": "ButtonModel",
      "state": {
       "description": "Add Row",
       "layout": "IPY_MODEL_f59d5f12e97b462089d1be1d39af8d4f",
       "style": "IPY_MODEL_3bbd8d604fe2476dbdb45048e927b9df",
       "tooltip": null
      }
     },
     "1d101dc5e90a47f18c71e16819d6d950": {
      "model_module": "@jupyter-widgets/base",
      "model_module_version": "2.0.0",
      "model_name": "LayoutModel",
      "state": {
       "height": "150px"
      }
     },
     "1d3425caacf5419181cc84d8d2e730d8": {
      "model_module": "@jupyter-widgets/base",
      "model_module_version": "2.0.0",
      "model_name": "LayoutModel",
      "state": {}
     },
     "1d660c8a4e37406dbbf1eb87a44a76d2": {
      "model_module": "@jupyter-widgets/controls",
      "model_module_version": "2.0.0",
      "model_name": "ButtonStyleModel",
      "state": {
       "font_family": null,
       "font_size": null,
       "font_style": null,
       "font_variant": null,
       "font_weight": null,
       "text_color": null,
       "text_decoration": null
      }
     },
     "1d938ffd08474bcbb2aed06be4acb1b7": {
      "model_module": "@jupyter-widgets/controls",
      "model_module_version": "2.0.0",
      "model_name": "VBoxModel",
      "state": {
       "children": [
        "IPY_MODEL_86ee60bf655b40ceaa93f924b037887b",
        "IPY_MODEL_1839200f406d4d77a400947d9897b27d",
        "IPY_MODEL_975edd5fa2cf407da41afe8fd8364aee"
       ],
       "layout": "IPY_MODEL_969d427fe35743e5984c2f4247317f95"
      }
     },
     "1d97871768174c8781a86ca4bd1e6f29": {
      "model_module": "@jupyter-widgets/base",
      "model_module_version": "2.0.0",
      "model_name": "LayoutModel",
      "state": {}
     },
     "1db8511bfb2046ba8e5cf487402d50db": {
      "model_module": "ipydatagrid",
      "model_module_version": "^1.2.0",
      "model_name": "DataGridModel",
      "state": {
       "_data": {
        "data": [
         {
          "0": "x2",
          "1": "m2",
          "2": "x1",
          "3": "m1",
          "4": "ux2",
          "5": "ux1",
          "6": "um1",
          "7": "um2",
          "ipydguuid": 0,
          "key": "  Variable:"
         },
         {
          "0": "m",
          "1": "kg",
          "2": "m",
          "3": "kg",
          "4": "m",
          "5": "m",
          "6": "kg",
          "7": "kg",
          "ipydguuid": 1,
          "key": " Units:"
         },
         {
          "0": "0.058",
          "1": "0.898",
          "2": "0.129",
          "3": "0.078",
          "4": "0.00125",
          "5": "0.0025",
          "6": "0.0002886751345948129",
          "7": "0.00125",
          "ipydguuid": 2,
          "key": 0
         },
         {
          "0": "0.057",
          "1": "0.902",
          "2": "0.129",
          "3": "0.078",
          "4": "0.00125",
          "5": "0.0025",
          "6": "0.0002886751345948129",
          "7": "0.00125",
          "ipydguuid": 3,
          "key": 1
         },
         {
          "0": "0.057",
          "1": "0.903",
          "2": "0.129",
          "3": "0.078",
          "4": "0.00125",
          "5": "0.0025",
          "6": "0.0002886751345948129",
          "7": "0;00125",
          "ipydguuid": 4,
          "key": 2
         }
        ],
        "fields": [
         {
          "key": null
         },
         {
          "0": null
         },
         {
          "1": null
         },
         {
          "2": null
         },
         {
          "3": null
         },
         {
          "4": null
         },
         {
          "5": null
         },
         {
          "6": null
         },
         {
          "7": null
         },
         {
          "ipydguuid": null
         }
        ],
        "schema": {
         "fields": [
          {
           "name": "key",
           "type": "string"
          },
          {
           "name": 0,
           "type": "string"
          },
          {
           "name": 1,
           "type": "string"
          },
          {
           "name": 2,
           "type": "string"
          },
          {
           "name": 3,
           "type": "string"
          },
          {
           "name": 4,
           "type": "string"
          },
          {
           "name": 5,
           "type": "string"
          },
          {
           "name": 6,
           "type": "string"
          },
          {
           "name": 7,
           "type": "string"
          },
          {
           "name": "ipydguuid",
           "type": "integer"
          }
         ],
         "pandas_version": "1.4.0",
         "primaryKey": [
          "key",
          "ipydguuid"
         ],
         "primaryKeyUuid": "ipydguuid"
        }
       },
       "_model_module_version": "^1.2.0",
       "_model_name": "DataGridModel",
       "_view_module_version": "^1.2.0",
       "auto_fit_columns": false,
       "auto_fit_params": {
        "area": "all",
        "numCols": null,
        "padding": 30
       },
       "base_column_header_size": 20,
       "base_column_size": 64,
       "base_row_header_size": 64,
       "base_row_size": 20,
       "default_renderer": "IPY_MODEL_980208021d60495f8861e289f1419fb9",
       "editable": true,
       "header_visibility": "all",
       "layout": "IPY_MODEL_d37ad75722ac42baaa8710351dac7ac4",
       "selection_mode": "cell"
      }
     },
     "1dbfcc1246a64db8ba2f23268797acc5": {
      "model_module": "@jupyter-widgets/controls",
      "model_module_version": "2.0.0",
      "model_name": "ButtonStyleModel",
      "state": {
       "font_family": null,
       "font_size": null,
       "font_style": null,
       "font_variant": null,
       "font_weight": null,
       "text_color": null,
       "text_decoration": null
      }
     },
     "1e15899720fb468dace50c93bf7a1d04": {
      "model_module": "@jupyter-widgets/base",
      "model_module_version": "2.0.0",
      "model_name": "LayoutModel",
      "state": {}
     },
     "1e7a86a3a8164efa8b0feb76b61ec8ed": {
      "model_module": "@jupyter-widgets/base",
      "model_module_version": "2.0.0",
      "model_name": "LayoutModel",
      "state": {}
     },
     "1ea17535de3f4b14ac5d5addf6d30336": {
      "model_module": "@jupyter-widgets/controls",
      "model_module_version": "2.0.0",
      "model_name": "ButtonStyleModel",
      "state": {
       "font_family": null,
       "font_size": null,
       "font_style": null,
       "font_variant": null,
       "font_weight": null,
       "text_color": null,
       "text_decoration": null
      }
     },
     "1f012500d6704e6886a52503fc3d5a33": {
      "model_module": "@jupyter-widgets/base",
      "model_module_version": "2.0.0",
      "model_name": "LayoutModel",
      "state": {}
     },
     "1f0d580009244f9c86358ce22773f636": {
      "model_module": "@jupyter-widgets/base",
      "model_module_version": "2.0.0",
      "model_name": "LayoutModel",
      "state": {}
     },
     "1f7e3055ad09476bb80494874173b545": {
      "model_module": "@jupyter-widgets/controls",
      "model_module_version": "2.0.0",
      "model_name": "VBoxModel",
      "state": {
       "children": [
        "IPY_MODEL_6694f575bd2d48279685373d28565754",
        "IPY_MODEL_ba04370bf2714e238e5f500e910fb9ed",
        "IPY_MODEL_a6185ab6aee14488837aeffaad2b32fe"
       ],
       "layout": "IPY_MODEL_c7935d16ed09411686448cf71902ebf6"
      }
     },
     "1f97773085944709885cd151d7208b74": {
      "model_module": "@jupyter-widgets/controls",
      "model_module_version": "2.0.0",
      "model_name": "ButtonStyleModel",
      "state": {
       "font_family": null,
       "font_size": null,
       "font_style": null,
       "font_variant": null,
       "font_weight": null,
       "text_color": null,
       "text_decoration": null
      }
     },
     "2006f0b2670e463b94d1a4c1e9563793": {
      "model_module": "@jupyter-widgets/controls",
      "model_module_version": "2.0.0",
      "model_name": "ButtonModel",
      "state": {
       "description": "Add Row",
       "layout": "IPY_MODEL_ce6468368d9a4317b43fbc82165d5f61",
       "style": "IPY_MODEL_b3acb11cca7449f79bafffa0a60ca347",
       "tooltip": null
      }
     },
     "2010778e7314410eb8f3a89d52dbfb9f": {
      "model_module": "@jupyter-widgets/controls",
      "model_module_version": "2.0.0",
      "model_name": "ButtonStyleModel",
      "state": {
       "font_family": null,
       "font_size": null,
       "font_style": null,
       "font_variant": null,
       "font_weight": null,
       "text_color": null,
       "text_decoration": null
      }
     },
     "204d0f250c6344828533c56b0363c71b": {
      "model_module": "@jupyter-widgets/controls",
      "model_module_version": "2.0.0",
      "model_name": "ButtonModel",
      "state": {
       "description": "Add Column",
       "layout": "IPY_MODEL_d80f99805ad54f578f099ecdc5c17c24",
       "style": "IPY_MODEL_65d3ce694cc9416295146473285cce99",
       "tooltip": null
      }
     },
     "2078fd0ecc3148b4b927abb9898bfad8": {
      "model_module": "ipydatagrid",
      "model_module_version": "^1.2.0",
      "model_name": "VegaExprModel",
      "state": {
       "_model_module_version": "^1.2.0",
       "_view_module": "ipydatagrid",
       "_view_module_version": "^1.2.0",
       "_view_name": "VegaExprView"
      }
     },
     "20d6eaf0e9954f2c8a614e3d8a2d342f": {
      "model_module": "@jupyter-widgets/base",
      "model_module_version": "2.0.0",
      "model_name": "LayoutModel",
      "state": {
       "height": "150px"
      }
     },
     "20db86bda95b45d7834b2670ad6c51c8": {
      "model_module": "@jupyter-widgets/base",
      "model_module_version": "2.0.0",
      "model_name": "LayoutModel",
      "state": {}
     },
     "20f56aa3cc034b09b38642a1f649e431": {
      "model_module": "@jupyter-widgets/base",
      "model_module_version": "2.0.0",
      "model_name": "LayoutModel",
      "state": {}
     },
     "211e3cde70ef487f932179fd1a719f8c": {
      "model_module": "@jupyter-widgets/controls",
      "model_module_version": "2.0.0",
      "model_name": "ButtonStyleModel",
      "state": {
       "font_family": null,
       "font_size": null,
       "font_style": null,
       "font_variant": null,
       "font_weight": null,
       "text_color": null,
       "text_decoration": null
      }
     },
     "212d7142d5dc4b29acbfd81965e79072": {
      "model_module": "@jupyter-widgets/base",
      "model_module_version": "2.0.0",
      "model_name": "LayoutModel",
      "state": {}
     },
     "21add04ae81c4f7fbdc51bb126b759bd": {
      "model_module": "ipydatagrid",
      "model_module_version": "^1.2.0",
      "model_name": "VegaExprModel",
      "state": {
       "_model_module_version": "^1.2.0",
       "_view_module": "ipydatagrid",
       "_view_module_version": "^1.2.0",
       "_view_name": "VegaExprView"
      }
     },
     "21bedb7bff6d42fb8c9d459717d06a7f": {
      "model_module": "@jupyter-widgets/controls",
      "model_module_version": "2.0.0",
      "model_name": "VBoxModel",
      "state": {
       "children": [
        "IPY_MODEL_f27cccd4b8c44b0bb4d794925afc27d5",
        "IPY_MODEL_0f77a18494974fad99b0ac9363d2498e",
        "IPY_MODEL_d41f9eaf7ef946449a1d72dd404782a5"
       ],
       "layout": "IPY_MODEL_e03c868849a3474b95c482f753d2e41e"
      }
     },
     "2271cf40445943cea9661c030f19ef07": {
      "model_module": "@jupyter-widgets/base",
      "model_module_version": "2.0.0",
      "model_name": "LayoutModel",
      "state": {
       "height": "150px"
      }
     },
     "22a543c5bc794faeb9dcd5345222cbef": {
      "model_module": "@jupyter-widgets/base",
      "model_module_version": "2.0.0",
      "model_name": "LayoutModel",
      "state": {}
     },
     "22e76e9ff02c4d45a6f5bc9c8ef1ab17": {
      "model_module": "ipydatagrid",
      "model_module_version": "^1.2.0",
      "model_name": "DataGridModel",
      "state": {
       "_data": {
        "data": [
         {
          "0": "x2",
          "1": "m2",
          "2": "x1",
          "3": "m1",
          "4": "ux2",
          "5": "ux1",
          "6": "um1",
          "7": "um2",
          "ipydguuid": 0,
          "key": "  Variable:"
         },
         {
          "0": "m",
          "1": "kg",
          "2": "m",
          "3": "kg",
          "4": "m",
          "5": "m",
          "6": "kg",
          "7": "kg",
          "ipydguuid": 1,
          "key": " Units:"
         },
         {
          "0": "0.058",
          "1": "0.898",
          "2": "0.129",
          "3": "0.078",
          "4": "0.00125",
          "5": "0.0025",
          "6": "0.0002886751345948129",
          "7": "0.00125",
          "ipydguuid": 2,
          "key": 0
         },
         {
          "0": "0.057",
          "1": "0.902",
          "2": "0.129",
          "3": "0.078",
          "4": "0.00125",
          "5": "0.0025",
          "6": "0.0002886751345948129",
          "7": "0.00125",
          "ipydguuid": 3,
          "key": 1
         },
         {
          "0": "0.057",
          "1": "0.903",
          "2": "0.129",
          "3": "0.078",
          "4": "0.00125",
          "5": "0.0025",
          "6": "0.0002886751345948129",
          "7": "0.00125",
          "ipydguuid": 4,
          "key": 2
         }
        ],
        "fields": [
         {
          "key": null
         },
         {
          "0": null
         },
         {
          "1": null
         },
         {
          "2": null
         },
         {
          "3": null
         },
         {
          "4": null
         },
         {
          "5": null
         },
         {
          "6": null
         },
         {
          "7": null
         },
         {
          "ipydguuid": null
         }
        ],
        "schema": {
         "fields": [
          {
           "name": "key",
           "type": "string"
          },
          {
           "name": 0,
           "type": "string"
          },
          {
           "name": 1,
           "type": "string"
          },
          {
           "name": 2,
           "type": "string"
          },
          {
           "name": 3,
           "type": "string"
          },
          {
           "name": 4,
           "type": "string"
          },
          {
           "name": 5,
           "type": "string"
          },
          {
           "name": 6,
           "type": "string"
          },
          {
           "name": 7,
           "type": "string"
          },
          {
           "name": "ipydguuid",
           "type": "integer"
          }
         ],
         "pandas_version": "1.4.0",
         "primaryKey": [
          "key",
          "ipydguuid"
         ],
         "primaryKeyUuid": "ipydguuid"
        }
       },
       "_model_module_version": "^1.2.0",
       "_model_name": "DataGridModel",
       "_view_module_version": "^1.2.0",
       "auto_fit_columns": false,
       "auto_fit_params": {
        "area": "all",
        "numCols": null,
        "padding": 30
       },
       "base_column_header_size": 20,
       "base_column_size": 64,
       "base_row_header_size": 64,
       "base_row_size": 20,
       "default_renderer": "IPY_MODEL_3faeb0ed2ac94ce38ac712a06f069b1d",
       "editable": true,
       "header_visibility": "all",
       "layout": "IPY_MODEL_ab488c71ebd7419c9633d5d4d9c6b92c",
       "selection_mode": "cell"
      }
     },
     "236db25ff4d24164a2c64fc550785951": {
      "model_module": "ipydatagrid",
      "model_module_version": "^1.2.0",
      "model_name": "VegaExprModel",
      "state": {
       "_model_module_version": "^1.2.0",
       "_view_module": "ipydatagrid",
       "_view_module_version": "^1.2.0",
       "_view_name": "VegaExprView"
      }
     },
     "23984612f476489bbdf3352f8345132f": {
      "model_module": "@jupyter-widgets/controls",
      "model_module_version": "2.0.0",
      "model_name": "VBoxModel",
      "state": {
       "children": [
        "IPY_MODEL_cdddfe90d93d414eae58616162915cde",
        "IPY_MODEL_1db8511bfb2046ba8e5cf487402d50db",
        "IPY_MODEL_d89c450dfc044750817df2451d8c736f"
       ],
       "layout": "IPY_MODEL_61b20dfb90c14e3abec876a7933569de"
      }
     },
     "23a20a7082cb4c1e9da5825703f068b8": {
      "model_module": "@jupyter-widgets/controls",
      "model_module_version": "2.0.0",
      "model_name": "ButtonModel",
      "state": {
       "description": "Redo",
       "layout": "IPY_MODEL_9ee43e51c4cf49459d6bd68c25415f4c",
       "style": "IPY_MODEL_3814f7b18ad043ddb5604c6d7a50e457",
       "tooltip": null
      }
     },
     "23de8a20f566415b9ca19dffaaa36c94": {
      "model_module": "@jupyter-widgets/base",
      "model_module_version": "2.0.0",
      "model_name": "LayoutModel",
      "state": {}
     },
     "24160f6098f8477cb602ecaabf1bfaee": {
      "model_module": "@jupyter-widgets/controls",
      "model_module_version": "2.0.0",
      "model_name": "ButtonModel",
      "state": {
       "description": "Add Row",
       "layout": "IPY_MODEL_a3a0738faf74416680a198ed7e8143eb",
       "style": "IPY_MODEL_6e7721875b13441c8df4358b62af9591",
       "tooltip": null
      }
     },
     "241bfaab090d46b6a420f912af9d7727": {
      "model_module": "@jupyter-widgets/base",
      "model_module_version": "2.0.0",
      "model_name": "LayoutModel",
      "state": {
       "height": "150px"
      }
     },
     "2431673b0ca447079c66d693dc26713c": {
      "model_module": "@jupyter-widgets/controls",
      "model_module_version": "2.0.0",
      "model_name": "ButtonModel",
      "state": {
       "description": "Add Column",
       "layout": "IPY_MODEL_9415dccc214444bfb489aa0897626d32",
       "style": "IPY_MODEL_8005367a65c34618a3ec5a1254dec7d7",
       "tooltip": null
      }
     },
     "244c9c4d87ee46e8af5a6f5e074845f9": {
      "model_module": "@jupyter-widgets/controls",
      "model_module_version": "2.0.0",
      "model_name": "ButtonStyleModel",
      "state": {
       "font_family": null,
       "font_size": null,
       "font_style": null,
       "font_variant": null,
       "font_weight": null,
       "text_color": null,
       "text_decoration": null
      }
     },
     "2457ee3b8b844dd7884ae7effe84ab84": {
      "model_module": "@jupyter-widgets/base",
      "model_module_version": "2.0.0",
      "model_name": "LayoutModel",
      "state": {}
     },
     "2471cd16a76e4dd69aff02a576993e71": {
      "model_module": "@jupyter-widgets/controls",
      "model_module_version": "2.0.0",
      "model_name": "ButtonStyleModel",
      "state": {
       "font_family": null,
       "font_size": null,
       "font_style": null,
       "font_variant": null,
       "font_weight": null,
       "text_color": null,
       "text_decoration": null
      }
     },
     "249a9c73e002416cad9f945b6c4b67b4": {
      "model_module": "@jupyter-widgets/base",
      "model_module_version": "2.0.0",
      "model_name": "LayoutModel",
      "state": {}
     },
     "24b08b893bc345cdbb1bc636ec2cca33": {
      "model_module": "@jupyter-widgets/controls",
      "model_module_version": "2.0.0",
      "model_name": "HBoxModel",
      "state": {
       "children": [
        "IPY_MODEL_fb56d0ace41b4870bfc1d2da5e76222e",
        "IPY_MODEL_adbcdb1766854eb98b98e655232fd44c",
        "IPY_MODEL_73413cdaf00a4fc99d656318449139b0",
        "IPY_MODEL_c86cd47547d74289906472143bbbd863",
        "IPY_MODEL_4ebb331fda384c82bd188b351037350d"
       ],
       "layout": "IPY_MODEL_fe567de58da143338186e0b9a20116a0"
      }
     },
     "24b4266c3632458894e53467bd21ca2f": {
      "model_module": "@jupyter-widgets/controls",
      "model_module_version": "2.0.0",
      "model_name": "ButtonModel",
      "state": {
       "description": "Add Column",
       "layout": "IPY_MODEL_c99582a233b243c7acc3db9eeb66f86e",
       "style": "IPY_MODEL_5365a820c2124b36957ff91c19eaf480",
       "tooltip": null
      }
     },
     "24c6a7727e0640b2928afec901958a15": {
      "model_module": "@jupyter-widgets/base",
      "model_module_version": "2.0.0",
      "model_name": "LayoutModel",
      "state": {}
     },
     "24e9e1c832224a84aeb1d4d5ef7865c7": {
      "model_module": "@jupyter-widgets/base",
      "model_module_version": "2.0.0",
      "model_name": "LayoutModel",
      "state": {}
     },
     "2568c9ff29b04d7f9b9fd68f65160503": {
      "model_module": "@jupyter-widgets/controls",
      "model_module_version": "2.0.0",
      "model_name": "ButtonStyleModel",
      "state": {
       "font_family": null,
       "font_size": null,
       "font_style": null,
       "font_variant": null,
       "font_weight": null,
       "text_color": null,
       "text_decoration": null
      }
     },
     "257e217c03f54648990767cd488fa933": {
      "model_module": "@jupyter-widgets/controls",
      "model_module_version": "2.0.0",
      "model_name": "VBoxModel",
      "state": {
       "children": [
        "IPY_MODEL_8a6f26ba37c0447f9c0582950c5337a4",
        "IPY_MODEL_cbd4dfe00fc647b6815b802c6c8882ad",
        "IPY_MODEL_c73dc14a18da4b94b2bde5c7eaf953e5"
       ],
       "layout": "IPY_MODEL_c04c3d846570498a9f60c543262b030f"
      }
     },
     "259d8de49f35419a8916df6825b9da29": {
      "model_module": "@jupyter-widgets/output",
      "model_module_version": "1.0.0",
      "model_name": "OutputModel",
      "state": {
       "layout": "IPY_MODEL_7e952d8ac3914906a6908885136e0c26",
       "outputs": [
        {
         "name": "stdout",
         "output_type": "stream",
         "text": "Data vectors need to be updated\n"
        }
       ]
      }
     },
     "25b7bcaec8bd458da287dacf8d69c7bc": {
      "model_module": "@jupyter-widgets/controls",
      "model_module_version": "2.0.0",
      "model_name": "ButtonStyleModel",
      "state": {
       "font_family": null,
       "font_size": null,
       "font_style": null,
       "font_variant": null,
       "font_weight": null,
       "text_color": null,
       "text_decoration": null
      }
     },
     "25eefbb242b94bb586425b6a28b2eff7": {
      "model_module": "ipydatagrid",
      "model_module_version": "^1.2.0",
      "model_name": "VegaExprModel",
      "state": {
       "_model_module_version": "^1.2.0",
       "_view_module": "ipydatagrid",
       "_view_module_version": "^1.2.0",
       "_view_name": "VegaExprView"
      }
     },
     "2612cd3269de4203ac9783dc3afee133": {
      "model_module": "@jupyter-widgets/controls",
      "model_module_version": "2.0.0",
      "model_name": "ButtonModel",
      "state": {
       "description": "Add Row",
       "layout": "IPY_MODEL_2ea55d07373d44a4aa6c55fa21f27918",
       "style": "IPY_MODEL_a587920138254f698b1894986f2e09f9",
       "tooltip": null
      }
     },
     "26308e4fc6914a5087b0c226bd965c4e": {
      "model_module": "ipydatagrid",
      "model_module_version": "^1.2.0",
      "model_name": "DataGridModel",
      "state": {
       "_data": {
        "data": [
         {
          "0": "x2",
          "1": "m2",
          "2": "x1",
          "3": "m1",
          "4": "ux2",
          "5": "ux1",
          "6": "um1",
          "7": "um2",
          "ipydguuid": 0,
          "key": "  Variable:"
         },
         {
          "0": "m",
          "1": "kg",
          "2": "m",
          "3": "kg",
          "4": "m",
          "5": "m",
          "6": "kg",
          "7": "kg",
          "ipydguuid": 1,
          "key": " Units:"
         },
         {
          "0": "0.058",
          "1": "0.898",
          "2": "0.129",
          "3": "0.078",
          "4": "0.00125",
          "5": "0.0025",
          "6": "0.0002886751345948129",
          "7": "0.00125",
          "ipydguuid": 2,
          "key": 0
         },
         {
          "0": "0.057",
          "1": "0.902",
          "2": "0.129",
          "3": "0.078",
          "4": "0.00125",
          "5": "0.0025",
          "6": "0.0002886751345948129",
          "7": "0.00125",
          "ipydguuid": 3,
          "key": 1
         },
         {
          "0": "0.057",
          "1": "0.903",
          "2": "0.129",
          "3": "0.078",
          "4": "0.00125",
          "5": "0.0025",
          "6": "0.0002886751345948129",
          "7": "0.00125",
          "ipydguuid": 4,
          "key": 2
         }
        ],
        "fields": [
         {
          "key": null
         },
         {
          "0": null
         },
         {
          "1": null
         },
         {
          "2": null
         },
         {
          "3": null
         },
         {
          "4": null
         },
         {
          "5": null
         },
         {
          "6": null
         },
         {
          "7": null
         },
         {
          "ipydguuid": null
         }
        ],
        "schema": {
         "fields": [
          {
           "name": "key",
           "type": "string"
          },
          {
           "name": 0,
           "type": "string"
          },
          {
           "name": 1,
           "type": "string"
          },
          {
           "name": 2,
           "type": "string"
          },
          {
           "name": 3,
           "type": "string"
          },
          {
           "name": 4,
           "type": "string"
          },
          {
           "name": 5,
           "type": "string"
          },
          {
           "name": 6,
           "type": "string"
          },
          {
           "name": 7,
           "type": "string"
          },
          {
           "name": "ipydguuid",
           "type": "integer"
          }
         ],
         "pandas_version": "1.4.0",
         "primaryKey": [
          "key",
          "ipydguuid"
         ],
         "primaryKeyUuid": "ipydguuid"
        }
       },
       "_model_module_version": "^1.2.0",
       "_model_name": "DataGridModel",
       "_view_module_version": "^1.2.0",
       "auto_fit_columns": false,
       "auto_fit_params": {
        "area": "all",
        "numCols": null,
        "padding": 30
       },
       "base_column_header_size": 20,
       "base_column_size": 64,
       "base_row_header_size": 64,
       "base_row_size": 20,
       "default_renderer": "IPY_MODEL_e3f90f125a784bfba5c1f9fce4f66893",
       "editable": true,
       "header_visibility": "all",
       "layout": "IPY_MODEL_0c6ddcf352fa44bda5e8a0af1c2f4b17",
       "selection_mode": "cell"
      }
     },
     "2631d548f17f4a77adf099303a1e1ae2": {
      "model_module": "@jupyter-widgets/controls",
      "model_module_version": "2.0.0",
      "model_name": "ButtonStyleModel",
      "state": {
       "font_family": null,
       "font_size": null,
       "font_style": null,
       "font_variant": null,
       "font_weight": null,
       "text_color": null,
       "text_decoration": null
      }
     },
     "2681dbca40e3494e89569dcef2ce45f5": {
      "model_module": "@jupyter-widgets/controls",
      "model_module_version": "2.0.0",
      "model_name": "ButtonModel",
      "state": {
       "description": "Add Column",
       "layout": "IPY_MODEL_60bf8be74ce3428fbaf8553f70eba7fc",
       "style": "IPY_MODEL_cdb13d23e0864095b070dfc52c17076a",
       "tooltip": null
      }
     },
     "2693f5b8024b40069e19a0da405dd33a": {
      "model_module": "@jupyter-widgets/controls",
      "model_module_version": "2.0.0",
      "model_name": "ButtonModel",
      "state": {
       "description": "Generate Vectors",
       "layout": "IPY_MODEL_6e138d260f844d39ba97ca7f229faf49",
       "style": "IPY_MODEL_25b7bcaec8bd458da287dacf8d69c7bc",
       "tooltip": null
      }
     },
     "2695ae0b9e284972a1b95184277c7fa6": {
      "model_module": "@jupyter-widgets/base",
      "model_module_version": "2.0.0",
      "model_name": "LayoutModel",
      "state": {}
     },
     "270afea37dae49caba2419896bc5fe1a": {
      "model_module": "@jupyter-widgets/controls",
      "model_module_version": "2.0.0",
      "model_name": "ButtonStyleModel",
      "state": {
       "font_family": null,
       "font_size": null,
       "font_style": null,
       "font_variant": null,
       "font_weight": null,
       "text_color": null,
       "text_decoration": null
      }
     },
     "2731195ffaf8427b9a0c17a18dabde9e": {
      "model_module": "@jupyter-widgets/controls",
      "model_module_version": "2.0.0",
      "model_name": "ButtonModel",
      "state": {
       "description": "Redo",
       "layout": "IPY_MODEL_cac44a0f11a0425a8eaeaaef76648637",
       "style": "IPY_MODEL_d3af3f91cffc4796ac0e344c999a26b5",
       "tooltip": null
      }
     },
     "279bdf920369495cb9341752f6374839": {
      "model_module": "@jupyter-widgets/controls",
      "model_module_version": "2.0.0",
      "model_name": "ButtonStyleModel",
      "state": {
       "font_family": null,
       "font_size": null,
       "font_style": null,
       "font_variant": null,
       "font_weight": null,
       "text_color": null,
       "text_decoration": null
      }
     },
     "27b46cc289824a06bf35ea0fafa01baf": {
      "model_module": "@jupyter-widgets/base",
      "model_module_version": "2.0.0",
      "model_name": "LayoutModel",
      "state": {}
     },
     "27ccf64841f045bca47d2edd14b24d45": {
      "model_module": "@jupyter-widgets/controls",
      "model_module_version": "2.0.0",
      "model_name": "HBoxModel",
      "state": {
       "children": [
        "IPY_MODEL_1b1c1375c1524333a8e8db7f052f9b9d",
        "IPY_MODEL_d55337b788344d9b91c50a933b76155e",
        "IPY_MODEL_24160f6098f8477cb602ecaabf1bfaee",
        "IPY_MODEL_04615c8760044213af903f0e86e90e30",
        "IPY_MODEL_8d6e61f3489b4b9a809b7cc1cd706030"
       ],
       "layout": "IPY_MODEL_d4eaac7bfc46433a9299d2f24b9d567d"
      }
     },
     "2834c3709da14b5bb019340bb65b9e09": {
      "model_module": "@jupyter-widgets/base",
      "model_module_version": "2.0.0",
      "model_name": "LayoutModel",
      "state": {}
     },
     "28455e42949a4e63a9456c50211dc1c6": {
      "model_module": "ipydatagrid",
      "model_module_version": "^1.2.0",
      "model_name": "VegaExprModel",
      "state": {
       "_model_module_version": "^1.2.0",
       "_view_module": "ipydatagrid",
       "_view_module_version": "^1.2.0",
       "_view_name": "VegaExprView"
      }
     },
     "28459b7d60d04c6fbc78318f557d22f8": {
      "model_module": "@jupyter-widgets/base",
      "model_module_version": "2.0.0",
      "model_name": "LayoutModel",
      "state": {}
     },
     "289fd875eaba4b278733942bc408fe62": {
      "model_module": "@jupyter-widgets/controls",
      "model_module_version": "2.0.0",
      "model_name": "ButtonModel",
      "state": {
       "description": "Redo",
       "layout": "IPY_MODEL_19827bd63b484786b8e0d9294c2c11b2",
       "style": "IPY_MODEL_72ce42810820445d8d94bb1dc8f6469b",
       "tooltip": null
      }
     },
     "28a7178b95154519b538093973dd2267": {
      "model_module": "@jupyter-widgets/base",
      "model_module_version": "2.0.0",
      "model_name": "LayoutModel",
      "state": {}
     },
     "28b8f2e40348480998fa97dd92822991": {
      "model_module": "ipydatagrid",
      "model_module_version": "^1.2.0",
      "model_name": "VegaExprModel",
      "state": {
       "_model_module_version": "^1.2.0",
       "_view_module": "ipydatagrid",
       "_view_module_version": "^1.2.0",
       "_view_name": "VegaExprView"
      }
     },
     "28fe3d21f3ec4cac81d8e0f60d4486b6": {
      "model_module": "ipydatagrid",
      "model_module_version": "^1.2.0",
      "model_name": "TextRendererModel",
      "state": {
       "_model_module_version": "^1.2.0",
       "_view_module_version": "^1.2.0",
       "background_color": "IPY_MODEL_9fbefde9b9554c61b2bbeda2fc350e4d",
       "text_color": "IPY_MODEL_8aa8a17cfdc1435ea349f1294274cc07"
      }
     },
     "292dd1ded8d345e3bc5e8d622299403d": {
      "model_module": "@jupyter-widgets/base",
      "model_module_version": "2.0.0",
      "model_name": "LayoutModel",
      "state": {}
     },
     "2a19b90581174b7b8d6f0aafc72be8b8": {
      "model_module": "ipydatagrid",
      "model_module_version": "^1.2.0",
      "model_name": "TextRendererModel",
      "state": {
       "_model_module_version": "^1.2.0",
       "_view_module_version": "^1.2.0",
       "background_color": "IPY_MODEL_cbf8472943274ce384f884c6b0c33f62",
       "text_color": "IPY_MODEL_031e4e4f3ac94dceb7698db96a674d08"
      }
     },
     "2a21e577ab8a405abeb57cf71df98291": {
      "model_module": "@jupyter-widgets/base",
      "model_module_version": "2.0.0",
      "model_name": "LayoutModel",
      "state": {}
     },
     "2a7ece5ac152448f980cae395734fe13": {
      "model_module": "@jupyter-widgets/output",
      "model_module_version": "1.0.0",
      "model_name": "OutputModel",
      "state": {
       "layout": "IPY_MODEL_b05f2f5be08e49ab93f90ea20867bb2c",
       "outputs": [
        {
         "name": "stdout",
         "output_type": "stream",
         "text": "Data vectors need to be updated\n"
        }
       ]
      }
     },
     "2a86c50cd2cc42078693ce50f2988b3f": {
      "model_module": "@jupyter-widgets/controls",
      "model_module_version": "2.0.0",
      "model_name": "HBoxModel",
      "state": {
       "children": [
        "IPY_MODEL_b31bde1196754357bdda9b2458c44ad3",
        "IPY_MODEL_289fd875eaba4b278733942bc408fe62",
        "IPY_MODEL_4df2a1710f1144f7a1effbe45aa30d73",
        "IPY_MODEL_f2f0e5ae789546aaad3663fd64ca044a",
        "IPY_MODEL_343f692a0d3c4554aacb0f3b8dbc711a"
       ],
       "layout": "IPY_MODEL_facfd0e538c74dd1a10752bc87d97593"
      }
     },
     "2ab7516e2fbf4f948eaeec0592774634": {
      "model_module": "@jupyter-widgets/base",
      "model_module_version": "2.0.0",
      "model_name": "LayoutModel",
      "state": {}
     },
     "2b07d42d7640435f82c4910536de2f2b": {
      "model_module": "ipydatagrid",
      "model_module_version": "^1.2.0",
      "model_name": "VegaExprModel",
      "state": {
       "_model_module_version": "^1.2.0",
       "_view_module": "ipydatagrid",
       "_view_module_version": "^1.2.0",
       "_view_name": "VegaExprView"
      }
     },
     "2b0b8d12f36c4e8991f46c604061311b": {
      "model_module": "@jupyter-widgets/controls",
      "model_module_version": "2.0.0",
      "model_name": "ButtonStyleModel",
      "state": {
       "font_family": null,
       "font_size": null,
       "font_style": null,
       "font_variant": null,
       "font_weight": null,
       "text_color": null,
       "text_decoration": null
      }
     },
     "2b3fb2227f2849c2a01ce5bd9880e3d5": {
      "model_module": "@jupyter-widgets/base",
      "model_module_version": "2.0.0",
      "model_name": "LayoutModel",
      "state": {}
     },
     "2ba4380b168e42fcbcce36ab236c04f1": {
      "model_module": "@jupyter-widgets/controls",
      "model_module_version": "2.0.0",
      "model_name": "ButtonStyleModel",
      "state": {
       "font_family": null,
       "font_size": null,
       "font_style": null,
       "font_variant": null,
       "font_weight": null,
       "text_color": null,
       "text_decoration": null
      }
     },
     "2bd51c29c11c42eab54436861feb643b": {
      "model_module": "ipydatagrid",
      "model_module_version": "^1.2.0",
      "model_name": "VegaExprModel",
      "state": {
       "_model_module_version": "^1.2.0",
       "_view_module": "ipydatagrid",
       "_view_module_version": "^1.2.0",
       "_view_name": "VegaExprView"
      }
     },
     "2c25aed586d344e39b8f2c48e79953fa": {
      "model_module": "@jupyter-widgets/controls",
      "model_module_version": "2.0.0",
      "model_name": "ButtonModel",
      "state": {
       "description": "Add Column",
       "layout": "IPY_MODEL_e7112aa9f94b4d78a085d92069c417fb",
       "style": "IPY_MODEL_6aed02d30b774d76a14ca96ac64d5a97",
       "tooltip": null
      }
     },
     "2c5d30a8c2a848a8bea50e1b819003a5": {
      "model_module": "ipydatagrid",
      "model_module_version": "^1.2.0",
      "model_name": "DataGridModel",
      "state": {
       "_data": {
        "data": [
         {
          "0": "x2",
          "1": "m2",
          "2": "x1",
          "3": "m1",
          "4": "ux2",
          "5": "ux1",
          "6": "um1",
          "7": "um2",
          "ipydguuid": 0,
          "key": "  Variable:"
         },
         {
          "0": "m",
          "1": "kg",
          "2": "m",
          "3": "kg",
          "4": "m",
          "5": "m",
          "6": "kg",
          "7": "kg",
          "ipydguuid": 1,
          "key": " Units:"
         },
         {
          "0": "0.058",
          "1": "0.898",
          "2": "0.129",
          "3": "0.078",
          "4": "0.00125",
          "5": "0.0025",
          "6": "0.0002886751345948129",
          "7": "0.00125",
          "ipydguuid": 2,
          "key": 0
         },
         {
          "0": "0.057",
          "1": "0.902",
          "2": "0.129",
          "3": "0.078",
          "4": "0.00125",
          "5": "0.0025",
          "6": "0.0002886751345948129",
          "7": "0.00125",
          "ipydguuid": 3,
          "key": 1
         },
         {
          "0": "0.057",
          "1": "0.903",
          "2": "0.129",
          "3": "0.078",
          "4": "0.00125",
          "5": "0.0025",
          "6": "0.0002886751345948129",
          "7": "0.00125",
          "ipydguuid": 4,
          "key": 2
         }
        ],
        "fields": [
         {
          "key": null
         },
         {
          "0": null
         },
         {
          "1": null
         },
         {
          "2": null
         },
         {
          "3": null
         },
         {
          "4": null
         },
         {
          "5": null
         },
         {
          "6": null
         },
         {
          "7": null
         },
         {
          "ipydguuid": null
         }
        ],
        "schema": {
         "fields": [
          {
           "name": "key",
           "type": "string"
          },
          {
           "name": 0,
           "type": "string"
          },
          {
           "name": 1,
           "type": "string"
          },
          {
           "name": 2,
           "type": "string"
          },
          {
           "name": 3,
           "type": "string"
          },
          {
           "name": 4,
           "type": "string"
          },
          {
           "name": 5,
           "type": "string"
          },
          {
           "name": 6,
           "type": "string"
          },
          {
           "name": 7,
           "type": "string"
          },
          {
           "name": "ipydguuid",
           "type": "integer"
          }
         ],
         "pandas_version": "1.4.0",
         "primaryKey": [
          "key",
          "ipydguuid"
         ],
         "primaryKeyUuid": "ipydguuid"
        }
       },
       "_model_module_version": "^1.2.0",
       "_model_name": "DataGridModel",
       "_view_module_version": "^1.2.0",
       "auto_fit_columns": false,
       "auto_fit_params": {
        "area": "all",
        "numCols": null,
        "padding": 30
       },
       "base_column_header_size": 20,
       "base_column_size": 64,
       "base_row_header_size": 64,
       "base_row_size": 20,
       "default_renderer": "IPY_MODEL_11612f383fb941eea1d74be8db18d9da",
       "editable": true,
       "header_visibility": "all",
       "layout": "IPY_MODEL_4a0c7fde7c3d4bbbbd2464cf3d9eee21",
       "selection_mode": "cell"
      }
     },
     "2c766448cbc84a0ab8d42697fecdfbd3": {
      "model_module": "@jupyter-widgets/base",
      "model_module_version": "2.0.0",
      "model_name": "LayoutModel",
      "state": {}
     },
     "2c7da5cdedf84341b43253b3e8f046bf": {
      "model_module": "@jupyter-widgets/controls",
      "model_module_version": "2.0.0",
      "model_name": "ButtonStyleModel",
      "state": {
       "font_family": null,
       "font_size": null,
       "font_style": null,
       "font_variant": null,
       "font_weight": null,
       "text_color": null,
       "text_decoration": null
      }
     },
     "2ca00d623b5d4d72af94d7fec9c11279": {
      "model_module": "@jupyter-widgets/controls",
      "model_module_version": "2.0.0",
      "model_name": "ButtonModel",
      "state": {
       "description": "Undo",
       "layout": "IPY_MODEL_30b61b3a7b324814bfcfeab0e84e4dec",
       "style": "IPY_MODEL_b333c993a2934e7fa9938fdebf555268",
       "tooltip": null
      }
     },
     "2d3b0c1d2dcd4ce8b405835d6d603ddf": {
      "model_module": "@jupyter-widgets/controls",
      "model_module_version": "2.0.0",
      "model_name": "ButtonModel",
      "state": {
       "description": "Undo",
       "layout": "IPY_MODEL_b7ac87527df64f4983320467faf219dc",
       "style": "IPY_MODEL_0404fced58d64b299cdafe8d8ec884d0",
       "tooltip": null
      }
     },
     "2d46bc81f2cb4517b03cf87cdd644d71": {
      "model_module": "@jupyter-widgets/base",
      "model_module_version": "2.0.0",
      "model_name": "LayoutModel",
      "state": {
       "height": "150px"
      }
     },
     "2da1348e1ad64855ba2b757cb731c5c4": {
      "model_module": "@jupyter-widgets/base",
      "model_module_version": "2.0.0",
      "model_name": "LayoutModel",
      "state": {
       "height": "150px"
      }
     },
     "2daec421b1fb4b5291616d10c4582f71": {
      "model_module": "@jupyter-widgets/controls",
      "model_module_version": "2.0.0",
      "model_name": "HBoxModel",
      "state": {
       "children": [
        "IPY_MODEL_1af5edf9e8e54ae9a74d75f182be9192",
        "IPY_MODEL_0d8b8cddbd7949ce91fc164b099650a8",
        "IPY_MODEL_11675b3919774a11a19630733f7d375b",
        "IPY_MODEL_fc20ed1158f145cf9949f251f3a1a103",
        "IPY_MODEL_8ff0f2cf338942f5a5b5c7635d822dc5"
       ],
       "layout": "IPY_MODEL_2ab7516e2fbf4f948eaeec0592774634"
      }
     },
     "2dbd8acf9b7044d1a46e81f14cb245d4": {
      "model_module": "@jupyter-widgets/base",
      "model_module_version": "2.0.0",
      "model_name": "LayoutModel",
      "state": {}
     },
     "2e1a004d844143539d4e4775dc9706a5": {
      "model_module": "@jupyter-widgets/output",
      "model_module_version": "1.0.0",
      "model_name": "OutputModel",
      "state": {
       "layout": "IPY_MODEL_003141ee4fbf4eee81836c0b9cc422b0"
      }
     },
     "2e7ea7a2a63e41e5a7cd6ea3f99f045e": {
      "model_module": "@jupyter-widgets/controls",
      "model_module_version": "2.0.0",
      "model_name": "ButtonModel",
      "state": {
       "description": "Undo",
       "layout": "IPY_MODEL_2b3fb2227f2849c2a01ce5bd9880e3d5",
       "style": "IPY_MODEL_7a19e943767a47919f20a3197d00f00c",
       "tooltip": null
      }
     },
     "2ea3e828aabc4ca6a04973746c70f39f": {
      "model_module": "@jupyter-widgets/base",
      "model_module_version": "2.0.0",
      "model_name": "LayoutModel",
      "state": {}
     },
     "2ea55d07373d44a4aa6c55fa21f27918": {
      "model_module": "@jupyter-widgets/base",
      "model_module_version": "2.0.0",
      "model_name": "LayoutModel",
      "state": {}
     },
     "2eeb6aca1cdc411aa69241275b0407c4": {
      "model_module": "@jupyter-widgets/base",
      "model_module_version": "2.0.0",
      "model_name": "LayoutModel",
      "state": {
       "height": "150px"
      }
     },
     "2ef9f5e107c2492dbe21eb94e65dd4bf": {
      "model_module": "@jupyter-widgets/controls",
      "model_module_version": "2.0.0",
      "model_name": "VBoxModel",
      "state": {
       "children": [
        "IPY_MODEL_f640763632eb4eec80a301ab2b93f091",
        "IPY_MODEL_4ee35c3c9bf7485d8a0a6eb410d2372c",
        "IPY_MODEL_76e1ff457c924dfb8c18cf124266b24f"
       ],
       "layout": "IPY_MODEL_e452fe468cfc462b816d999b43e1c3fa"
      }
     },
     "2f2b93e453cd4d3eaa8599597cbcb60a": {
      "model_module": "@jupyter-widgets/controls",
      "model_module_version": "2.0.0",
      "model_name": "VBoxModel",
      "state": {
       "children": [
        "IPY_MODEL_d1e268044bf64ba1a474d377cf6d4817",
        "IPY_MODEL_1b04c79c94b84210b2d8bf3f83f4c7b6",
        "IPY_MODEL_d57a122f300e403e8c6b5e3271c0d6f6"
       ],
       "layout": "IPY_MODEL_5c9dab57975a4bc5896e2870e0243d3d"
      }
     },
     "2f5ecf24ebc74711afa66385646cf645": {
      "model_module": "@jupyter-widgets/base",
      "model_module_version": "2.0.0",
      "model_name": "LayoutModel",
      "state": {}
     },
     "2f9054ebbb444f85ba177852bcf830ab": {
      "model_module": "@jupyter-widgets/output",
      "model_module_version": "1.0.0",
      "model_name": "OutputModel",
      "state": {
       "layout": "IPY_MODEL_a870df557f2b4810b4c827859c74860b",
       "outputs": [
        {
         "name": "stdout",
         "output_type": "stream",
         "text": "Data vectors need to be updated\n"
        }
       ]
      }
     },
     "2f9d42a6ff264f3bbf2e967a6abead03": {
      "model_module": "@jupyter-widgets/controls",
      "model_module_version": "2.0.0",
      "model_name": "ButtonModel",
      "state": {
       "description": "Undo",
       "layout": "IPY_MODEL_b1df8aeddcbe4aea9bdfc86febae68c6",
       "style": "IPY_MODEL_44f1faafaf164666a1d08cbcf7a67274",
       "tooltip": null
      }
     },
     "2fa067e3e9724c0fbbeb1b0ba503297b": {
      "model_module": "@jupyter-widgets/base",
      "model_module_version": "2.0.0",
      "model_name": "LayoutModel",
      "state": {}
     },
     "2fa5a0e878dd472eac736fd416eec0e8": {
      "model_module": "@jupyter-widgets/controls",
      "model_module_version": "2.0.0",
      "model_name": "ButtonStyleModel",
      "state": {
       "font_family": null,
       "font_size": null,
       "font_style": null,
       "font_variant": null,
       "font_weight": null,
       "text_color": null,
       "text_decoration": null
      }
     },
     "30192ba43cf044b1981d25e3cd06c20f": {
      "model_module": "ipydatagrid",
      "model_module_version": "^1.2.0",
      "model_name": "DataGridModel",
      "state": {
       "_data": {
        "data": [
         {
          "0": "x2",
          "1": "m2",
          "2": "x1",
          "3": "m1",
          "4": "ux2",
          "5": "ux1",
          "6": "um1",
          "7": "um2",
          "ipydguuid": 0,
          "key": "  Variable:"
         },
         {
          "0": "m",
          "1": "kg",
          "2": "m",
          "3": "kg",
          "4": "m",
          "5": "m",
          "6": "kg",
          "7": "kg",
          "ipydguuid": 1,
          "key": " Units:"
         },
         {
          "0": "0.058",
          "1": "0.898",
          "2": "0.129",
          "3": "0.078",
          "4": "0.00125",
          "5": "0.0025",
          "6": "0.0002886751345948129",
          "7": "0.00125",
          "ipydguuid": 2,
          "key": 0
         },
         {
          "0": "0.057",
          "1": "0.902",
          "2": "0.129",
          "3": "0.078",
          "4": "0.00125",
          "5": "0.0025",
          "6": "0.0002886751345948129",
          "7": "0.00125",
          "ipydguuid": 3,
          "key": 1
         },
         {
          "0": "0.057",
          "1": "0.903",
          "2": "0.129",
          "3": "0.078",
          "4": "0.00125",
          "5": "0.0025",
          "6": "0.0002886751345948129",
          "7": "0.00125",
          "ipydguuid": 4,
          "key": 2
         }
        ],
        "fields": [
         {
          "key": null
         },
         {
          "0": null
         },
         {
          "1": null
         },
         {
          "2": null
         },
         {
          "3": null
         },
         {
          "4": null
         },
         {
          "5": null
         },
         {
          "6": null
         },
         {
          "7": null
         },
         {
          "ipydguuid": null
         }
        ],
        "schema": {
         "fields": [
          {
           "name": "key",
           "type": "string"
          },
          {
           "name": 0,
           "type": "string"
          },
          {
           "name": 1,
           "type": "string"
          },
          {
           "name": 2,
           "type": "string"
          },
          {
           "name": 3,
           "type": "string"
          },
          {
           "name": 4,
           "type": "string"
          },
          {
           "name": 5,
           "type": "string"
          },
          {
           "name": 6,
           "type": "string"
          },
          {
           "name": 7,
           "type": "string"
          },
          {
           "name": "ipydguuid",
           "type": "integer"
          }
         ],
         "pandas_version": "1.4.0",
         "primaryKey": [
          "key",
          "ipydguuid"
         ],
         "primaryKeyUuid": "ipydguuid"
        }
       },
       "_model_module_version": "^1.2.0",
       "_model_name": "DataGridModel",
       "_view_module_version": "^1.2.0",
       "auto_fit_columns": false,
       "auto_fit_params": {
        "area": "all",
        "numCols": null,
        "padding": 30
       },
       "base_column_header_size": 20,
       "base_column_size": 64,
       "base_row_header_size": 64,
       "base_row_size": 20,
       "default_renderer": "IPY_MODEL_b2c141a2f83d4cea89d4eae0da4cc3c6",
       "editable": true,
       "header_visibility": "all",
       "layout": "IPY_MODEL_00d7018732bb415989956106bd24f412",
       "selection_mode": "cell"
      }
     },
     "3031f50630bf42428b8c414fadc5bcd3": {
      "model_module": "@jupyter-widgets/base",
      "model_module_version": "2.0.0",
      "model_name": "LayoutModel",
      "state": {}
     },
     "30581ad7f5c349598f92181c8278ec37": {
      "model_module": "@jupyter-widgets/controls",
      "model_module_version": "2.0.0",
      "model_name": "ButtonStyleModel",
      "state": {
       "font_family": null,
       "font_size": null,
       "font_style": null,
       "font_variant": null,
       "font_weight": null,
       "text_color": null,
       "text_decoration": null
      }
     },
     "30b61b3a7b324814bfcfeab0e84e4dec": {
      "model_module": "@jupyter-widgets/base",
      "model_module_version": "2.0.0",
      "model_name": "LayoutModel",
      "state": {}
     },
     "30ebdd173e80467b8e48683f463e3356": {
      "model_module": "@jupyter-widgets/controls",
      "model_module_version": "2.0.0",
      "model_name": "ButtonModel",
      "state": {
       "description": "Add Column",
       "layout": "IPY_MODEL_ca647201915b415da9df46163892ac26",
       "style": "IPY_MODEL_183267daf53c43278c60a79bb5653a36",
       "tooltip": null
      }
     },
     "3132d80021674bb1ac91a889fc100c4b": {
      "model_module": "@jupyter-widgets/output",
      "model_module_version": "1.0.0",
      "model_name": "OutputModel",
      "state": {
       "layout": "IPY_MODEL_8ef1f33c2ecc46c2a8c7007779eba38b"
      }
     },
     "3136748ff8a74af0be3ec1d06d9f14a1": {
      "model_module": "@jupyter-widgets/controls",
      "model_module_version": "2.0.0",
      "model_name": "ButtonModel",
      "state": {
       "description": "Undo",
       "layout": "IPY_MODEL_97617090470842b59307e89204118d42",
       "style": "IPY_MODEL_58d9cdfd9185404097c2d9bad9e93468",
       "tooltip": null
      }
     },
     "314076ed69ec4fdbbb22dfceb97b0b54": {
      "model_module": "@jupyter-widgets/controls",
      "model_module_version": "2.0.0",
      "model_name": "ButtonModel",
      "state": {
       "description": "Redo",
       "layout": "IPY_MODEL_cacffd37bb4a461d801371fb48af2554",
       "style": "IPY_MODEL_3759f629d24241919e56e5c57ed0019d",
       "tooltip": null
      }
     },
     "314cc782c6e94fb0aa88516adb5cd3de": {
      "model_module": "@jupyter-widgets/controls",
      "model_module_version": "2.0.0",
      "model_name": "ButtonModel",
      "state": {
       "description": "Generate Vectors",
       "layout": "IPY_MODEL_9a9003aaac5c40a9a560c1a1d46f6dfa",
       "style": "IPY_MODEL_5960ddaec316412d911483d187e651ab",
       "tooltip": null
      }
     },
     "31ff03651a634249b06f0e14fe9e9ed4": {
      "model_module": "ipydatagrid",
      "model_module_version": "^1.2.0",
      "model_name": "VegaExprModel",
      "state": {
       "_model_module_version": "^1.2.0",
       "_view_module": "ipydatagrid",
       "_view_module_version": "^1.2.0",
       "_view_name": "VegaExprView"
      }
     },
     "322bbcaa6cbc49778e5731e3ab767a09": {
      "model_module": "@jupyter-widgets/base",
      "model_module_version": "2.0.0",
      "model_name": "LayoutModel",
      "state": {}
     },
     "329c14c61f1840e8adffd1428428bcc1": {
      "model_module": "ipydatagrid",
      "model_module_version": "^1.2.0",
      "model_name": "DataGridModel",
      "state": {
       "_data": {
        "data": [
         {
          "0": "x2",
          "1": "m2",
          "2": "x1",
          "3": "m1",
          "4": "ux2",
          "5": "ux1",
          "6": "um1",
          "7": "um2",
          "ipydguuid": 0,
          "key": "  Variable:"
         },
         {
          "0": "m",
          "1": "kg",
          "2": "m",
          "3": "kg",
          "4": "m",
          "5": "m",
          "6": "kg",
          "7": "kg",
          "ipydguuid": 1,
          "key": " Units:"
         },
         {
          "0": "0.058",
          "1": "0.898",
          "2": "0.129",
          "3": "0.078",
          "4": "0.00125",
          "5": "0.0025",
          "6": "0.0002886751345948129",
          "7": "0.00125",
          "ipydguuid": 2,
          "key": 0
         },
         {
          "0": "0.057",
          "1": "0.902",
          "2": "0.129",
          "3": "0.078",
          "4": "0.00125",
          "5": "0.0025",
          "6": "0.0002886751345948129",
          "7": "0.00125",
          "ipydguuid": 3,
          "key": 1
         },
         {
          "0": "0.057",
          "1": "0.903",
          "2": "0.129",
          "3": "0.078",
          "4": "0.00125",
          "5": "0.0025",
          "6": "0.0002886751345948129",
          "7": "0.00125",
          "ipydguuid": 4,
          "key": 2
         }
        ],
        "fields": [
         {
          "key": null
         },
         {
          "0": null
         },
         {
          "1": null
         },
         {
          "2": null
         },
         {
          "3": null
         },
         {
          "4": null
         },
         {
          "5": null
         },
         {
          "6": null
         },
         {
          "7": null
         },
         {
          "ipydguuid": null
         }
        ],
        "schema": {
         "fields": [
          {
           "name": "key",
           "type": "string"
          },
          {
           "name": 0,
           "type": "string"
          },
          {
           "name": 1,
           "type": "string"
          },
          {
           "name": 2,
           "type": "string"
          },
          {
           "name": 3,
           "type": "string"
          },
          {
           "name": 4,
           "type": "string"
          },
          {
           "name": 5,
           "type": "string"
          },
          {
           "name": 6,
           "type": "string"
          },
          {
           "name": 7,
           "type": "string"
          },
          {
           "name": "ipydguuid",
           "type": "integer"
          }
         ],
         "pandas_version": "1.4.0",
         "primaryKey": [
          "key",
          "ipydguuid"
         ],
         "primaryKeyUuid": "ipydguuid"
        }
       },
       "_model_module_version": "^1.2.0",
       "_model_name": "DataGridModel",
       "_view_module_version": "^1.2.0",
       "auto_fit_columns": false,
       "auto_fit_params": {
        "area": "all",
        "numCols": null,
        "padding": 30
       },
       "base_column_header_size": 20,
       "base_column_size": 64,
       "base_row_header_size": 64,
       "base_row_size": 20,
       "default_renderer": "IPY_MODEL_ef7e46430e33494aa0fe83243723a41f",
       "editable": true,
       "header_visibility": "all",
       "layout": "IPY_MODEL_d58d977c901646589212de577ae7993f",
       "selection_mode": "cell"
      }
     },
     "32b8d57ca6c94ecc899109d970b866b1": {
      "model_module": "@jupyter-widgets/controls",
      "model_module_version": "2.0.0",
      "model_name": "HBoxModel",
      "state": {
       "children": [
        "IPY_MODEL_1badf70ac0d64d6db9d6d35707544a43",
        "IPY_MODEL_ad7341359bb94648bbc309916b2c2cf8",
        "IPY_MODEL_4668f5eea8fb46dfa56652cca2c543c0",
        "IPY_MODEL_cb979877e6b743c1bd48eac2f7a91de2",
        "IPY_MODEL_11d91665eddb44f9939ee33be7b3badb"
       ],
       "layout": "IPY_MODEL_f7bd43e833254caa82894c60b74af6fa"
      }
     },
     "32d28a2d0dee45d9aca7ea6460e966a8": {
      "model_module": "@jupyter-widgets/controls",
      "model_module_version": "2.0.0",
      "model_name": "ButtonModel",
      "state": {
       "description": "Redo",
       "layout": "IPY_MODEL_d4ef2d56bb364476a30f8cc1695a69e2",
       "style": "IPY_MODEL_c8e83401a9474d3290d347a48a49cd59",
       "tooltip": null
      }
     },
     "330391dc71a54daaa6ee1ae09486f223": {
      "model_module": "@jupyter-widgets/base",
      "model_module_version": "2.0.0",
      "model_name": "LayoutModel",
      "state": {}
     },
     "3376885ea10049b5a71a2156339ec2cb": {
      "model_module": "@jupyter-widgets/base",
      "model_module_version": "2.0.0",
      "model_name": "LayoutModel",
      "state": {}
     },
     "33cd594efc54474f8a70abbac40181a0": {
      "model_module": "@jupyter-widgets/base",
      "model_module_version": "2.0.0",
      "model_name": "LayoutModel",
      "state": {
       "height": "150px"
      }
     },
     "33e41b4410264cbe8257c690c1f0681d": {
      "model_module": "ipydatagrid",
      "model_module_version": "^1.2.0",
      "model_name": "VegaExprModel",
      "state": {
       "_model_module_version": "^1.2.0",
       "_view_module": "ipydatagrid",
       "_view_module_version": "^1.2.0",
       "_view_name": "VegaExprView"
      }
     },
     "340356d1a7de433e83cd508166805a01": {
      "model_module": "@jupyter-widgets/controls",
      "model_module_version": "2.0.0",
      "model_name": "ButtonModel",
      "state": {
       "description": "Redo",
       "layout": "IPY_MODEL_076626d5219648db8c3e26f34b851fdf",
       "style": "IPY_MODEL_54ca7079ce16470ea0b36fe324e001bb",
       "tooltip": null
      }
     },
     "34064943b30d403fbbfe7dbe0e5968f2": {
      "model_module": "@jupyter-widgets/controls",
      "model_module_version": "2.0.0",
      "model_name": "ButtonStyleModel",
      "state": {
       "font_family": null,
       "font_size": null,
       "font_style": null,
       "font_variant": null,
       "font_weight": null,
       "text_color": null,
       "text_decoration": null
      }
     },
     "3421120d6dad4c5db0d55f69b5ed8592": {
      "model_module": "@jupyter-widgets/base",
      "model_module_version": "2.0.0",
      "model_name": "LayoutModel",
      "state": {
       "height": "150px"
      }
     },
     "343f692a0d3c4554aacb0f3b8dbc711a": {
      "model_module": "@jupyter-widgets/controls",
      "model_module_version": "2.0.0",
      "model_name": "ButtonModel",
      "state": {
       "description": "Generate Vectors",
       "layout": "IPY_MODEL_5624cdff7ad14b1b94fea976b70e63ed",
       "style": "IPY_MODEL_186c8638da7d4991a63f4e342b0ea19c",
       "tooltip": null
      }
     },
     "349cafbb374b4b0f8a5e31eb1b5c177f": {
      "model_module": "@jupyter-widgets/controls",
      "model_module_version": "2.0.0",
      "model_name": "ButtonModel",
      "state": {
       "description": "Add Row",
       "layout": "IPY_MODEL_58fd5644e6114b28a8a9e72ee655ff09",
       "style": "IPY_MODEL_370001fa1dfc4cf4818269b530a8e086",
       "tooltip": null
      }
     },
     "349ee0cb22264f56b7b159fff10bbd29": {
      "model_module": "@jupyter-widgets/controls",
      "model_module_version": "2.0.0",
      "model_name": "ButtonStyleModel",
      "state": {
       "font_family": null,
       "font_size": null,
       "font_style": null,
       "font_variant": null,
       "font_weight": null,
       "text_color": null,
       "text_decoration": null
      }
     },
     "34a087b4a8714eee92f0d52208fd086d": {
      "model_module": "@jupyter-widgets/controls",
      "model_module_version": "2.0.0",
      "model_name": "ButtonStyleModel",
      "state": {
       "font_family": null,
       "font_size": null,
       "font_style": null,
       "font_variant": null,
       "font_weight": null,
       "text_color": null,
       "text_decoration": null
      }
     },
     "34dad93ea83d454284afb55901eba7c3": {
      "model_module": "@jupyter-widgets/output",
      "model_module_version": "1.0.0",
      "model_name": "OutputModel",
      "state": {
       "layout": "IPY_MODEL_4c8cb96ef72946d6aa46f2551cdc89f4"
      }
     },
     "351119843c904317944377053d3b5f58": {
      "model_module": "@jupyter-widgets/controls",
      "model_module_version": "2.0.0",
      "model_name": "ButtonStyleModel",
      "state": {
       "font_family": null,
       "font_size": null,
       "font_style": null,
       "font_variant": null,
       "font_weight": null,
       "text_color": null,
       "text_decoration": null
      }
     },
     "35981a601c8241df92bce835c891613b": {
      "model_module": "@jupyter-widgets/base",
      "model_module_version": "2.0.0",
      "model_name": "LayoutModel",
      "state": {}
     },
     "35a1ebcc89dc46f2b6e5ad74b75b2c14": {
      "model_module": "@jupyter-widgets/base",
      "model_module_version": "2.0.0",
      "model_name": "LayoutModel",
      "state": {}
     },
     "35bd9becc37045a48950fa9a215510b5": {
      "model_module": "@jupyter-widgets/base",
      "model_module_version": "2.0.0",
      "model_name": "LayoutModel",
      "state": {}
     },
     "3609cf7259d34815a2d3775fba781925": {
      "model_module": "@jupyter-widgets/controls",
      "model_module_version": "2.0.0",
      "model_name": "VBoxModel",
      "state": {
       "children": [
        "IPY_MODEL_38b78da6c3434f51a6c40624b8563987",
        "IPY_MODEL_43f86b5ff36d4e04923399964a95ea5e",
        "IPY_MODEL_5a2884383c334aeaa94b6478730a53ea"
       ],
       "layout": "IPY_MODEL_1522323670bd44abbf4afa5cddc4c8a4"
      }
     },
     "360e3d6cbf914c1db57bc9992e86c7e3": {
      "model_module": "@jupyter-widgets/base",
      "model_module_version": "2.0.0",
      "model_name": "LayoutModel",
      "state": {}
     },
     "362d641c11c743adaea1d1dfc436e61b": {
      "model_module": "@jupyter-widgets/controls",
      "model_module_version": "2.0.0",
      "model_name": "ButtonModel",
      "state": {
       "description": "Undo",
       "layout": "IPY_MODEL_4afebf7caa74401fbcb5c158acb1bf41",
       "style": "IPY_MODEL_2c7da5cdedf84341b43253b3e8f046bf",
       "tooltip": null
      }
     },
     "3643249b7c90423b82c970efe3fa7925": {
      "model_module": "@jupyter-widgets/controls",
      "model_module_version": "2.0.0",
      "model_name": "ButtonModel",
      "state": {
       "description": "Add Column",
       "layout": "IPY_MODEL_bf7e91433fcc473fb0cc540af36bc9fa",
       "style": "IPY_MODEL_0e4edcf8eeb644ba870ae78fe71cc93b",
       "tooltip": null
      }
     },
     "365706e89dbb49c68eaa123e7343129c": {
      "model_module": "@jupyter-widgets/controls",
      "model_module_version": "2.0.0",
      "model_name": "ButtonModel",
      "state": {
       "description": "Generate Vectors",
       "layout": "IPY_MODEL_bc8b823421e04d0d8db128603d28b937",
       "style": "IPY_MODEL_6832d11239c54703b54df489303e8ae2",
       "tooltip": null
      }
     },
     "36b4a0fee820403199dd9dd8713b8a18": {
      "model_module": "@jupyter-widgets/base",
      "model_module_version": "2.0.0",
      "model_name": "LayoutModel",
      "state": {}
     },
     "36fb6f342ff5458cacec694651abb1dd": {
      "model_module": "@jupyter-widgets/base",
      "model_module_version": "2.0.0",
      "model_name": "LayoutModel",
      "state": {}
     },
     "370001fa1dfc4cf4818269b530a8e086": {
      "model_module": "@jupyter-widgets/controls",
      "model_module_version": "2.0.0",
      "model_name": "ButtonStyleModel",
      "state": {
       "font_family": null,
       "font_size": null,
       "font_style": null,
       "font_variant": null,
       "font_weight": null,
       "text_color": null,
       "text_decoration": null
      }
     },
     "3759f629d24241919e56e5c57ed0019d": {
      "model_module": "@jupyter-widgets/controls",
      "model_module_version": "2.0.0",
      "model_name": "ButtonStyleModel",
      "state": {
       "font_family": null,
       "font_size": null,
       "font_style": null,
       "font_variant": null,
       "font_weight": null,
       "text_color": null,
       "text_decoration": null
      }
     },
     "37725964251f4711aec673303b326676": {
      "model_module": "@jupyter-widgets/controls",
      "model_module_version": "2.0.0",
      "model_name": "ButtonModel",
      "state": {
       "description": "Add Column",
       "layout": "IPY_MODEL_0edbd394862c41e98f6a4f726c46b545",
       "style": "IPY_MODEL_4effaaa34fc94f9c800fa7c5949021a3",
       "tooltip": null
      }
     },
     "37af64fddc7a45a2be982a6eb14adc8d": {
      "model_module": "@jupyter-widgets/controls",
      "model_module_version": "2.0.0",
      "model_name": "ButtonStyleModel",
      "state": {
       "font_family": null,
       "font_size": null,
       "font_style": null,
       "font_variant": null,
       "font_weight": null,
       "text_color": null,
       "text_decoration": null
      }
     },
     "3806d7a92eb9405fa6842d02aea7e144": {
      "model_module": "ipydatagrid",
      "model_module_version": "^1.2.0",
      "model_name": "VegaExprModel",
      "state": {
       "_model_module_version": "^1.2.0",
       "_view_module": "ipydatagrid",
       "_view_module_version": "^1.2.0",
       "_view_name": "VegaExprView"
      }
     },
     "3814f7b18ad043ddb5604c6d7a50e457": {
      "model_module": "@jupyter-widgets/controls",
      "model_module_version": "2.0.0",
      "model_name": "ButtonStyleModel",
      "state": {
       "font_family": null,
       "font_size": null,
       "font_style": null,
       "font_variant": null,
       "font_weight": null,
       "text_color": null,
       "text_decoration": null
      }
     },
     "386f207fc9e8415982b3fde68ee4d546": {
      "model_module": "@jupyter-widgets/base",
      "model_module_version": "2.0.0",
      "model_name": "LayoutModel",
      "state": {}
     },
     "386f4810e28348e1bb0a8aaf38936abd": {
      "model_module": "@jupyter-widgets/controls",
      "model_module_version": "2.0.0",
      "model_name": "ButtonStyleModel",
      "state": {
       "font_family": null,
       "font_size": null,
       "font_style": null,
       "font_variant": null,
       "font_weight": null,
       "text_color": null,
       "text_decoration": null
      }
     },
     "38b78da6c3434f51a6c40624b8563987": {
      "model_module": "@jupyter-widgets/controls",
      "model_module_version": "2.0.0",
      "model_name": "HBoxModel",
      "state": {
       "children": [
        "IPY_MODEL_63c40cf1f3d1454592c774cb9be12f93",
        "IPY_MODEL_57999f1ea5cd41c5a888e4f3c087f330",
        "IPY_MODEL_e2670693af3a4b5ab7ba938616c4c27d",
        "IPY_MODEL_f1e56e019bd6455281ee6289be73cfda",
        "IPY_MODEL_91e598020bfc4f20b56cbb2004afe488"
       ],
       "layout": "IPY_MODEL_3b7a6c829d9d49fc922dcab79eaed549"
      }
     },
     "38d7fea08528479197532ca1b313e40f": {
      "model_module": "@jupyter-widgets/controls",
      "model_module_version": "2.0.0",
      "model_name": "ButtonModel",
      "state": {
       "description": "Generate Vectors",
       "layout": "IPY_MODEL_2f5ecf24ebc74711afa66385646cf645",
       "style": "IPY_MODEL_ca6eb0604eca44d1bfd7c286a8e0273d",
       "tooltip": null
      }
     },
     "38dbe7754d024feb8d156bf302fd22c3": {
      "model_module": "ipydatagrid",
      "model_module_version": "^1.2.0",
      "model_name": "DataGridModel",
      "state": {
       "_data": {
        "data": [
         {
          "0": "x2",
          "1": "m2",
          "ipydguuid": 0,
          "key": "  Variable:"
         },
         {
          "0": "m",
          "1": "kg",
          "ipydguuid": 1,
          "key": " Units:"
         },
         {
          "0": "0.093",
          "1": "0.898",
          "ipydguuid": 2,
          "key": 0
         },
         {
          "0": "0.092",
          "1": "0.902",
          "ipydguuid": 3,
          "key": 1
         },
         {
          "0": "0.092",
          "1": "0.903",
          "ipydguuid": 4,
          "key": 2
         }
        ],
        "fields": [
         {
          "key": null
         },
         {
          "0": null
         },
         {
          "1": null
         },
         {
          "ipydguuid": null
         }
        ],
        "schema": {
         "fields": [
          {
           "name": "key",
           "type": "string"
          },
          {
           "name": 0,
           "type": "string"
          },
          {
           "name": 1,
           "type": "string"
          },
          {
           "name": "ipydguuid",
           "type": "integer"
          }
         ],
         "pandas_version": "1.4.0",
         "primaryKey": [
          "key",
          "ipydguuid"
         ],
         "primaryKeyUuid": "ipydguuid"
        }
       },
       "_model_module_version": "^1.2.0",
       "_model_name": "DataGridModel",
       "_view_module_version": "^1.2.0",
       "_visible_rows": [
        0,
        1,
        2,
        3,
        4
       ],
       "auto_fit_columns": false,
       "auto_fit_params": {
        "area": "all",
        "numCols": null,
        "padding": 30
       },
       "base_column_header_size": 20,
       "base_column_size": 64,
       "base_row_header_size": 64,
       "base_row_size": 20,
       "default_renderer": "IPY_MODEL_60c61659bd4a4bde966e0fba98088821",
       "editable": true,
       "header_visibility": "all",
       "layout": "IPY_MODEL_3fe69dfc4a2049c8bf742efd852f3a09",
       "selection_mode": "cell",
       "selections": [
        {
         "c1": 0,
         "c2": 0,
         "r1": 1,
         "r2": 1
        }
       ]
      }
     },
     "38e1c5248417441db8f1f9fe12326903": {
      "model_module": "@jupyter-widgets/base",
      "model_module_version": "2.0.0",
      "model_name": "LayoutModel",
      "state": {}
     },
     "393dfc166bd74c4f8251545e97645e21": {
      "model_module": "@jupyter-widgets/controls",
      "model_module_version": "2.0.0",
      "model_name": "ButtonModel",
      "state": {
       "description": "Generate Vectors",
       "layout": "IPY_MODEL_11bdb0f99a0a4350bae8907de3fb4983",
       "style": "IPY_MODEL_dbb6e4ac963d46c2b5818f4a2274b0d7",
       "tooltip": null
      }
     },
     "3951f3a2afdd4a4189af07cdca02fecf": {
      "model_module": "@jupyter-widgets/base",
      "model_module_version": "2.0.0",
      "model_name": "LayoutModel",
      "state": {}
     },
     "39a665b842f84019ad96628556cbe66f": {
      "model_module": "ipydatagrid",
      "model_module_version": "^1.2.0",
      "model_name": "DataGridModel",
      "state": {
       "_data": {
        "data": [
         {
          "0": "x2",
          "1": "m2",
          "2": "x1",
          "3": "m1",
          "ipydguuid": 0,
          "key": "  Variable:"
         },
         {
          "0": "m",
          "1": "kg",
          "2": "m",
          "3": "kg",
          "ipydguuid": 1,
          "key": " Units:"
         },
         {
          "0": "0.058",
          "1": "0.898",
          "2": "0.129",
          "3": "0.078",
          "ipydguuid": 2,
          "key": 0
         },
         {
          "0": "0.057",
          "1": "0.902",
          "2": "0.129",
          "3": "0.078",
          "ipydguuid": 3,
          "key": 1
         },
         {
          "0": "0.057",
          "1": "0.903",
          "2": "0.129",
          "3": "0.078",
          "ipydguuid": 4,
          "key": 2
         }
        ],
        "fields": [
         {
          "key": null
         },
         {
          "0": null
         },
         {
          "1": null
         },
         {
          "2": null
         },
         {
          "3": null
         },
         {
          "ipydguuid": null
         }
        ],
        "schema": {
         "fields": [
          {
           "name": "key",
           "type": "string"
          },
          {
           "name": 0,
           "type": "string"
          },
          {
           "name": 1,
           "type": "string"
          },
          {
           "name": 2,
           "type": "string"
          },
          {
           "name": 3,
           "type": "string"
          },
          {
           "name": "ipydguuid",
           "type": "integer"
          }
         ],
         "pandas_version": "1.4.0",
         "primaryKey": [
          "key",
          "ipydguuid"
         ],
         "primaryKeyUuid": "ipydguuid"
        }
       },
       "_model_module_version": "^1.2.0",
       "_model_name": "DataGridModel",
       "_view_module_version": "^1.2.0",
       "auto_fit_columns": false,
       "auto_fit_params": {
        "area": "all",
        "numCols": null,
        "padding": 30
       },
       "base_column_header_size": 20,
       "base_column_size": 64,
       "base_row_header_size": 64,
       "base_row_size": 20,
       "default_renderer": "IPY_MODEL_f12a31db526d4bd6af2afb5db06073e8",
       "editable": true,
       "header_visibility": "all",
       "layout": "IPY_MODEL_2da1348e1ad64855ba2b757cb731c5c4",
       "selection_mode": "cell"
      }
     },
     "39bafaf8509544c5a61c6253887cc8b5": {
      "model_module": "@jupyter-widgets/controls",
      "model_module_version": "2.0.0",
      "model_name": "ButtonStyleModel",
      "state": {
       "font_family": null,
       "font_size": null,
       "font_style": null,
       "font_variant": null,
       "font_weight": null,
       "text_color": null,
       "text_decoration": null
      }
     },
     "39cc1c1b875c4347814f893fdd1aa645": {
      "model_module": "@jupyter-widgets/base",
      "model_module_version": "2.0.0",
      "model_name": "LayoutModel",
      "state": {}
     },
     "39dd6958ffbb4e1bbed2cac5769076ad": {
      "model_module": "@jupyter-widgets/controls",
      "model_module_version": "2.0.0",
      "model_name": "ButtonModel",
      "state": {
       "description": "Undo",
       "layout": "IPY_MODEL_b8e1affd30ce4cc7affd8e13a7c90dee",
       "style": "IPY_MODEL_211e3cde70ef487f932179fd1a719f8c",
       "tooltip": null
      }
     },
     "3a30de4debbf4d01bd1996ae9bf99099": {
      "model_module": "@jupyter-widgets/base",
      "model_module_version": "2.0.0",
      "model_name": "LayoutModel",
      "state": {}
     },
     "3a4d9060e26a4519b174cbb8da4bcff2": {
      "model_module": "@jupyter-widgets/controls",
      "model_module_version": "2.0.0",
      "model_name": "VBoxModel",
      "state": {
       "children": [
        "IPY_MODEL_2daec421b1fb4b5291616d10c4582f71",
        "IPY_MODEL_f96e74cbff57425c97b344d5a974c95b",
        "IPY_MODEL_b2b6be3944874cf7bb704d2a678c8af4"
       ],
       "layout": "IPY_MODEL_fc47ab9204e642909877791bdc7b6cc3"
      }
     },
     "3a776badb60245f395ea3c4a44c36700": {
      "model_module": "@jupyter-widgets/base",
      "model_module_version": "2.0.0",
      "model_name": "LayoutModel",
      "state": {}
     },
     "3aa40f948bdc4e7e9be0d8a33111b71a": {
      "model_module": "ipydatagrid",
      "model_module_version": "^1.2.0",
      "model_name": "VegaExprModel",
      "state": {
       "_model_module_version": "^1.2.0",
       "_view_module": "ipydatagrid",
       "_view_module_version": "^1.2.0",
       "_view_name": "VegaExprView"
      }
     },
     "3ad84dda998b4101a73a1639afab6257": {
      "model_module": "@jupyter-widgets/base",
      "model_module_version": "2.0.0",
      "model_name": "LayoutModel",
      "state": {}
     },
     "3b230336484b43a79dd39d83bbdf1032": {
      "model_module": "@jupyter-widgets/controls",
      "model_module_version": "2.0.0",
      "model_name": "ButtonStyleModel",
      "state": {
       "font_family": null,
       "font_size": null,
       "font_style": null,
       "font_variant": null,
       "font_weight": null,
       "text_color": null,
       "text_decoration": null
      }
     },
     "3b276a551a9a41048ef1a5da6c8a1465": {
      "model_module": "@jupyter-widgets/base",
      "model_module_version": "2.0.0",
      "model_name": "LayoutModel",
      "state": {}
     },
     "3b7a6c829d9d49fc922dcab79eaed549": {
      "model_module": "@jupyter-widgets/base",
      "model_module_version": "2.0.0",
      "model_name": "LayoutModel",
      "state": {}
     },
     "3ba25c6a7dd14b9783838168caba4318": {
      "model_module": "@jupyter-widgets/controls",
      "model_module_version": "2.0.0",
      "model_name": "ButtonStyleModel",
      "state": {
       "font_family": null,
       "font_size": null,
       "font_style": null,
       "font_variant": null,
       "font_weight": null,
       "text_color": null,
       "text_decoration": null
      }
     },
     "3bb4ac63abe0491ca8fd0d74a70ebeff": {
      "model_module": "@jupyter-widgets/controls",
      "model_module_version": "2.0.0",
      "model_name": "VBoxModel",
      "state": {
       "children": [
        "IPY_MODEL_5e3eeb048f8946298ce8dcbbd3507568",
        "IPY_MODEL_5f1be0988551411995fc78b92c2967b3",
        "IPY_MODEL_e06d561ba009441db7835293abcd56d4"
       ],
       "layout": "IPY_MODEL_3ad84dda998b4101a73a1639afab6257"
      }
     },
     "3bbd8d604fe2476dbdb45048e927b9df": {
      "model_module": "@jupyter-widgets/controls",
      "model_module_version": "2.0.0",
      "model_name": "ButtonStyleModel",
      "state": {
       "font_family": null,
       "font_size": null,
       "font_style": null,
       "font_variant": null,
       "font_weight": null,
       "text_color": null,
       "text_decoration": null
      }
     },
     "3c0050dfde1c4e02bcac36aa5331dff7": {
      "model_module": "@jupyter-widgets/base",
      "model_module_version": "2.0.0",
      "model_name": "LayoutModel",
      "state": {}
     },
     "3c4b8ba9cdf649a78a9f3633dcd5fa5f": {
      "model_module": "@jupyter-widgets/base",
      "model_module_version": "2.0.0",
      "model_name": "LayoutModel",
      "state": {}
     },
     "3c8bfd2abd664016ae4c53d21a0a6301": {
      "model_module": "@jupyter-widgets/base",
      "model_module_version": "2.0.0",
      "model_name": "LayoutModel",
      "state": {}
     },
     "3cad33f679534b0ea8af3be7684371cd": {
      "model_module": "@jupyter-widgets/base",
      "model_module_version": "2.0.0",
      "model_name": "LayoutModel",
      "state": {}
     },
     "3cbb98f567d44b1384b3c0d806eba009": {
      "model_module": "@jupyter-widgets/controls",
      "model_module_version": "2.0.0",
      "model_name": "ButtonStyleModel",
      "state": {
       "font_family": null,
       "font_size": null,
       "font_style": null,
       "font_variant": null,
       "font_weight": null,
       "text_color": null,
       "text_decoration": null
      }
     },
     "3cc3da89f64446e89b1650abbaad3a2c": {
      "model_module": "@jupyter-widgets/base",
      "model_module_version": "2.0.0",
      "model_name": "LayoutModel",
      "state": {}
     },
     "3cc9f5f00e2941ef87624c099dc13946": {
      "model_module": "@jupyter-widgets/base",
      "model_module_version": "2.0.0",
      "model_name": "LayoutModel",
      "state": {}
     },
     "3cd676bdef374d82a66b2b35cb55ee34": {
      "model_module": "@jupyter-widgets/controls",
      "model_module_version": "2.0.0",
      "model_name": "ButtonModel",
      "state": {
       "description": "Undo",
       "layout": "IPY_MODEL_912b30705db74f99a38906af6952a53c",
       "style": "IPY_MODEL_bd2633f061ff4857a3e0665deb5e68de",
       "tooltip": null
      }
     },
     "3d578c5d94b444e6b24378b78a04785a": {
      "model_module": "@jupyter-widgets/controls",
      "model_module_version": "2.0.0",
      "model_name": "VBoxModel",
      "state": {
       "children": [
        "IPY_MODEL_59a8238bce934be4a129c5a2218da0af",
        "IPY_MODEL_c4014244791d48318789fe526fb2b136",
        "IPY_MODEL_455566a3487541359ed1bc9d06024938"
       ],
       "layout": "IPY_MODEL_bf5e4f71b7ab455da72524a3492e05ee"
      }
     },
     "3dd3f5ed19d84eee99192b4ceb7f920d": {
      "model_module": "@jupyter-widgets/controls",
      "model_module_version": "2.0.0",
      "model_name": "ButtonModel",
      "state": {
       "description": "Add Row",
       "layout": "IPY_MODEL_17d2860214ad4720a51c61a690bd2672",
       "style": "IPY_MODEL_04da045794444da49450f94af2e5871c",
       "tooltip": null
      }
     },
     "3de62c57a30f490a898454deb5886083": {
      "model_module": "@jupyter-widgets/base",
      "model_module_version": "2.0.0",
      "model_name": "LayoutModel",
      "state": {}
     },
     "3df8022168224395b8100a84cc52dd2d": {
      "model_module": "@jupyter-widgets/base",
      "model_module_version": "2.0.0",
      "model_name": "LayoutModel",
      "state": {}
     },
     "3e4cfe4230664821a5acec3f7f9b983c": {
      "model_module": "@jupyter-widgets/base",
      "model_module_version": "2.0.0",
      "model_name": "LayoutModel",
      "state": {
       "height": "150px"
      }
     },
     "3e5d3f5736334895ade21cd896712ea9": {
      "model_module": "ipydatagrid",
      "model_module_version": "^1.2.0",
      "model_name": "VegaExprModel",
      "state": {
       "_model_module_version": "^1.2.0",
       "_view_module": "ipydatagrid",
       "_view_module_version": "^1.2.0",
       "_view_name": "VegaExprView"
      }
     },
     "3e845ff29a844282bdbae6ba87d6752a": {
      "model_module": "ipydatagrid",
      "model_module_version": "^1.2.0",
      "model_name": "TextRendererModel",
      "state": {
       "_model_module_version": "^1.2.0",
       "_view_module_version": "^1.2.0",
       "background_color": "IPY_MODEL_e9c08b37e8774d4c9b785d96b74a4269",
       "text_color": "IPY_MODEL_cff37646c9b744b293906b079939ebb7"
      }
     },
     "3e85f858944347a1a2492f3f4fcc9400": {
      "model_module": "@jupyter-widgets/controls",
      "model_module_version": "2.0.0",
      "model_name": "ButtonModel",
      "state": {
       "description": "Generate Vectors",
       "layout": "IPY_MODEL_7da8e2856453452fb49741ebbdaf90eb",
       "style": "IPY_MODEL_b4cb86f9676848e995ee34050abdc27f",
       "tooltip": null
      }
     },
     "3ee3aa8401ad4a1986c0efa2100940ca": {
      "model_module": "@jupyter-widgets/controls",
      "model_module_version": "2.0.0",
      "model_name": "ButtonModel",
      "state": {
       "description": "Undo",
       "layout": "IPY_MODEL_563bd5d3014e49c5a2eea54ae74566ce",
       "style": "IPY_MODEL_f83e3c83e5874fd99149ac29e861dccd",
       "tooltip": null
      }
     },
     "3efdf0eb8a394223bf0be3a9dd02a993": {
      "model_module": "@jupyter-widgets/controls",
      "model_module_version": "2.0.0",
      "model_name": "ButtonModel",
      "state": {
       "description": "Add Row",
       "layout": "IPY_MODEL_61d62a7db95e46ca9c12ebd6d5328baa",
       "style": "IPY_MODEL_fb2b3ed8908b4a8fbb6ff1ea198f3cf1",
       "tooltip": null
      }
     },
     "3f23dd7fb1b945f4a5ba678caa4ffdc4": {
      "model_module": "@jupyter-widgets/controls",
      "model_module_version": "2.0.0",
      "model_name": "ButtonStyleModel",
      "state": {
       "font_family": null,
       "font_size": null,
       "font_style": null,
       "font_variant": null,
       "font_weight": null,
       "text_color": null,
       "text_decoration": null
      }
     },
     "3f3e6406097d468691a0a31eb703149c": {
      "model_module": "@jupyter-widgets/base",
      "model_module_version": "2.0.0",
      "model_name": "LayoutModel",
      "state": {}
     },
     "3f45226205f64bc094f9b4061db699aa": {
      "model_module": "@jupyter-widgets/controls",
      "model_module_version": "2.0.0",
      "model_name": "ButtonModel",
      "state": {
       "description": "Redo",
       "layout": "IPY_MODEL_a51075c1beee4397912ab8629309c1a9",
       "style": "IPY_MODEL_6b69f05d8eb54b9fa045b7567b4d6bd8",
       "tooltip": null
      }
     },
     "3f456f40202d427fb7bf8407fbf3aad8": {
      "model_module": "@jupyter-widgets/base",
      "model_module_version": "2.0.0",
      "model_name": "LayoutModel",
      "state": {}
     },
     "3faeb0ed2ac94ce38ac712a06f069b1d": {
      "model_module": "ipydatagrid",
      "model_module_version": "^1.2.0",
      "model_name": "TextRendererModel",
      "state": {
       "_model_module_version": "^1.2.0",
       "_view_module_version": "^1.2.0",
       "background_color": "IPY_MODEL_03f213b31d3448aa8d2c29488db8cedd",
       "text_color": "IPY_MODEL_9ee7f393dbb641778f3d4ecd9056ca7b"
      }
     },
     "3fba9ee728474ba7aee4f38080d4fc82": {
      "model_module": "@jupyter-widgets/controls",
      "model_module_version": "2.0.0",
      "model_name": "HBoxModel",
      "state": {
       "children": [
        "IPY_MODEL_1acf003709344e0d82c33f0340c9a2ba",
        "IPY_MODEL_971e09127a0a47dfa38a9f0f8fc680fb",
        "IPY_MODEL_736070d953dc412889df5eeef50f19d6",
        "IPY_MODEL_2681dbca40e3494e89569dcef2ce45f5",
        "IPY_MODEL_df96b7c110ed4e7dba6268d16e61eeaf"
       ],
       "layout": "IPY_MODEL_136e647f38384c2a985c15e03efe5375"
      }
     },
     "3fe69dfc4a2049c8bf742efd852f3a09": {
      "model_module": "@jupyter-widgets/base",
      "model_module_version": "2.0.0",
      "model_name": "LayoutModel",
      "state": {
       "height": "150px"
      }
     },
     "40aab5948e2a48c898833663daa92440": {
      "model_module": "@jupyter-widgets/base",
      "model_module_version": "2.0.0",
      "model_name": "LayoutModel",
      "state": {}
     },
     "414f6695790d4f39af8a7cf36ac5457c": {
      "model_module": "@jupyter-widgets/controls",
      "model_module_version": "2.0.0",
      "model_name": "ButtonStyleModel",
      "state": {
       "font_family": null,
       "font_size": null,
       "font_style": null,
       "font_variant": null,
       "font_weight": null,
       "text_color": null,
       "text_decoration": null
      }
     },
     "4171f990ea2049a58aca533303cc7c6f": {
      "model_module": "@jupyter-widgets/base",
      "model_module_version": "2.0.0",
      "model_name": "LayoutModel",
      "state": {}
     },
     "41881d43a2214614b3405a1dd6baf5f7": {
      "model_module": "@jupyter-widgets/controls",
      "model_module_version": "2.0.0",
      "model_name": "HBoxModel",
      "state": {
       "children": [
        "IPY_MODEL_a5142854de4d4a7399f5655fd1b48fa6",
        "IPY_MODEL_f92e766596f347e8966021048fbcdd09",
        "IPY_MODEL_98027f5825204fcca81b698167ca85eb",
        "IPY_MODEL_7eeddab32ba24d75aba85c1a644cb11d",
        "IPY_MODEL_b21b977f0bb64f2395ad2bcf2441338a"
       ],
       "layout": "IPY_MODEL_c593375650a44a55a1541b9e8cf75195"
      }
     },
     "41d7656dcebe49ff9ee6910f90889ed0": {
      "model_module": "@jupyter-widgets/controls",
      "model_module_version": "2.0.0",
      "model_name": "ButtonStyleModel",
      "state": {
       "font_family": null,
       "font_size": null,
       "font_style": null,
       "font_variant": null,
       "font_weight": null,
       "text_color": null,
       "text_decoration": null
      }
     },
     "422124c014b2404c9549ae720ae6d51a": {
      "model_module": "@jupyter-widgets/base",
      "model_module_version": "2.0.0",
      "model_name": "LayoutModel",
      "state": {}
     },
     "422327173cb04c65be8adc2cb54eae8d": {
      "model_module": "@jupyter-widgets/base",
      "model_module_version": "2.0.0",
      "model_name": "LayoutModel",
      "state": {}
     },
     "4239068524a74d9a9e51103e2bbb08b9": {
      "model_module": "ipydatagrid",
      "model_module_version": "^1.2.0",
      "model_name": "TextRendererModel",
      "state": {
       "_model_module_version": "^1.2.0",
       "_view_module_version": "^1.2.0",
       "background_color": "IPY_MODEL_21add04ae81c4f7fbdc51bb126b759bd",
       "text_color": "IPY_MODEL_bb5e15a40fd4459b9b4c686ac26ee154"
      }
     },
     "4245c4fcf6924206a399c6472ac31ca5": {
      "model_module": "@jupyter-widgets/controls",
      "model_module_version": "2.0.0",
      "model_name": "HBoxModel",
      "state": {
       "children": [
        "IPY_MODEL_3136748ff8a74af0be3ec1d06d9f14a1",
        "IPY_MODEL_2731195ffaf8427b9a0c17a18dabde9e",
        "IPY_MODEL_349cafbb374b4b0f8a5e31eb1b5c177f",
        "IPY_MODEL_62199613a23a43729ddbf74754751322",
        "IPY_MODEL_9bc935f096f2493d9dad05f0bcaeb4c8"
       ],
       "layout": "IPY_MODEL_47d49e744fa44ce69f99e903691bb041"
      }
     },
     "424c434346414bbeb26fd39ad6d2cd75": {
      "model_module": "@jupyter-widgets/base",
      "model_module_version": "2.0.0",
      "model_name": "LayoutModel",
      "state": {}
     },
     "42d7241858ea488badc3f950a492df14": {
      "model_module": "@jupyter-widgets/controls",
      "model_module_version": "2.0.0",
      "model_name": "VBoxModel",
      "state": {
       "children": [
        "IPY_MODEL_a491ac8569604e789f97c5476d657725",
        "IPY_MODEL_f32fd382c7be485e928fb1d1de1bf395",
        "IPY_MODEL_9ae923d3063745419a26388888d079b8"
       ],
       "layout": "IPY_MODEL_8b8337cbbffb4d5e880db7031de685b5"
      }
     },
     "42e3f89f8a784de18cb30f12f507e528": {
      "model_module": "@jupyter-widgets/base",
      "model_module_version": "2.0.0",
      "model_name": "LayoutModel",
      "state": {
       "height": "150px"
      }
     },
     "431f3ce3fe4b4acea045c32fbc30e526": {
      "model_module": "@jupyter-widgets/controls",
      "model_module_version": "2.0.0",
      "model_name": "ButtonStyleModel",
      "state": {
       "font_family": null,
       "font_size": null,
       "font_style": null,
       "font_variant": null,
       "font_weight": null,
       "text_color": null,
       "text_decoration": null
      }
     },
     "4356b9a512d1415d88de58aa32ef3149": {
      "model_module": "@jupyter-widgets/controls",
      "model_module_version": "2.0.0",
      "model_name": "ButtonModel",
      "state": {
       "description": "Add Column",
       "layout": "IPY_MODEL_e4f082df322847c2921e2bc73e098557",
       "style": "IPY_MODEL_bc1aad6e2d384df39042d4d2144797da",
       "tooltip": null
      }
     },
     "4375b4a33f3a45d5871a7655d8bc66e7": {
      "model_module": "ipydatagrid",
      "model_module_version": "^1.2.0",
      "model_name": "DataGridModel",
      "state": {
       "_data": {
        "data": [
         {
          "0": "x2",
          "1": "m2",
          "2": "x1",
          "3": "m1",
          "ipydguuid": 0,
          "key": "  Variable:"
         },
         {
          "0": "m",
          "1": "kg",
          "2": "m",
          "3": "kg",
          "ipydguuid": 1,
          "key": " Units:"
         },
         {
          "0": "0.058",
          "1": "0.898",
          "2": "0.129",
          "3": "0.078",
          "ipydguuid": 2,
          "key": 0
         },
         {
          "0": "0.057",
          "1": "0.902",
          "2": "0.129",
          "3": "0.078",
          "ipydguuid": 3,
          "key": 1
         },
         {
          "0": "0.057",
          "1": "0.903",
          "2": "0.129",
          "3": "0.078",
          "ipydguuid": 4,
          "key": 2
         }
        ],
        "fields": [
         {
          "key": null
         },
         {
          "0": null
         },
         {
          "1": null
         },
         {
          "2": null
         },
         {
          "3": null
         },
         {
          "ipydguuid": null
         }
        ],
        "schema": {
         "fields": [
          {
           "name": "key",
           "type": "string"
          },
          {
           "name": 0,
           "type": "string"
          },
          {
           "name": 1,
           "type": "string"
          },
          {
           "name": 2,
           "type": "string"
          },
          {
           "name": 3,
           "type": "string"
          },
          {
           "name": "ipydguuid",
           "type": "integer"
          }
         ],
         "pandas_version": "1.4.0",
         "primaryKey": [
          "key",
          "ipydguuid"
         ],
         "primaryKeyUuid": "ipydguuid"
        }
       },
       "_model_module_version": "^1.2.0",
       "_model_name": "DataGridModel",
       "_view_module_version": "^1.2.0",
       "auto_fit_columns": false,
       "auto_fit_params": {
        "area": "all",
        "numCols": null,
        "padding": 30
       },
       "base_column_header_size": 20,
       "base_column_size": 64,
       "base_row_header_size": 64,
       "base_row_size": 20,
       "default_renderer": "IPY_MODEL_b55dd8acf40a40f69c59f2ee3c219aa2",
       "editable": true,
       "header_visibility": "all",
       "layout": "IPY_MODEL_948b29f7b81b4e32bdfec1febed1706a",
       "selection_mode": "cell"
      }
     },
     "43829607698c4d3db4b956b5aae5641e": {
      "model_module": "@jupyter-widgets/controls",
      "model_module_version": "2.0.0",
      "model_name": "ButtonModel",
      "state": {
       "description": "Redo",
       "layout": "IPY_MODEL_8f07c73987804bf291470107054663d3",
       "style": "IPY_MODEL_729bbf8c0b234a8e917d78b195961f04",
       "tooltip": null
      }
     },
     "43a9846d67534e8884278e2be876610d": {
      "model_module": "@jupyter-widgets/controls",
      "model_module_version": "2.0.0",
      "model_name": "ButtonStyleModel",
      "state": {
       "font_family": null,
       "font_size": null,
       "font_style": null,
       "font_variant": null,
       "font_weight": null,
       "text_color": null,
       "text_decoration": null
      }
     },
     "43c0c2e96ee24ff097236bc5f3301636": {
      "model_module": "@jupyter-widgets/controls",
      "model_module_version": "2.0.0",
      "model_name": "ButtonModel",
      "state": {
       "description": "Undo",
       "layout": "IPY_MODEL_bccfec2cc2a2419095eb4fd67c7f39a3",
       "style": "IPY_MODEL_068c0711cdc347c09f52d605248d90ce",
       "tooltip": null
      }
     },
     "43e1e41455da44e9a8af5ffa0d43deb2": {
      "model_module": "@jupyter-widgets/base",
      "model_module_version": "2.0.0",
      "model_name": "LayoutModel",
      "state": {}
     },
     "43f86b5ff36d4e04923399964a95ea5e": {
      "model_module": "ipydatagrid",
      "model_module_version": "^1.2.0",
      "model_name": "DataGridModel",
      "state": {
       "_data": {
        "data": [
         {
          "0": "x2",
          "1": "m2",
          "2": "x1",
          "3": "m1",
          "4": "ux2",
          "5": "ux1",
          "6": "um1",
          "7": "um2",
          "ipydguuid": 0,
          "key": "  Variable:"
         },
         {
          "0": "m",
          "1": "kg",
          "2": "m",
          "3": "kg",
          "4": "m",
          "5": "m",
          "6": "kg",
          "7": "kg",
          "ipydguuid": 1,
          "key": " Units:"
         },
         {
          "0": "0.045",
          "1": "1.150",
          "2": "0.129",
          "3": "0.078",
          "4": "0.00125",
          "5": "0.0025",
          "6": "0.0002886751345948129",
          "7": "0.00125",
          "ipydguuid": 2,
          "key": 0
         },
         {
          "0": "0.040",
          "1": "1.189",
          "2": "0.129",
          "3": "0.078",
          "4": "0.00125",
          "5": "0.0025",
          "6": "0.0002886751345948129",
          "7": "0.00125",
          "ipydguuid": 3,
          "key": 1
         },
         {
          "0": "0.061",
          "1": "0.979",
          "2": "0.129",
          "3": "0.078",
          "4": "0.00125",
          "5": "0.0025",
          "6": "0.0002886751345948129",
          "7": "0.00125",
          "ipydguuid": 4,
          "key": 2
         }
        ],
        "fields": [
         {
          "key": null
         },
         {
          "0": null
         },
         {
          "1": null
         },
         {
          "2": null
         },
         {
          "3": null
         },
         {
          "4": null
         },
         {
          "5": null
         },
         {
          "6": null
         },
         {
          "7": null
         },
         {
          "ipydguuid": null
         }
        ],
        "schema": {
         "fields": [
          {
           "name": "key",
           "type": "string"
          },
          {
           "name": 0,
           "type": "string"
          },
          {
           "name": 1,
           "type": "string"
          },
          {
           "name": 2,
           "type": "string"
          },
          {
           "name": 3,
           "type": "string"
          },
          {
           "name": 4,
           "type": "string"
          },
          {
           "name": 5,
           "type": "string"
          },
          {
           "name": 6,
           "type": "string"
          },
          {
           "name": 7,
           "type": "string"
          },
          {
           "name": "ipydguuid",
           "type": "integer"
          }
         ],
         "pandas_version": "1.4.0",
         "primaryKey": [
          "key",
          "ipydguuid"
         ],
         "primaryKeyUuid": "ipydguuid"
        }
       },
       "_model_module_version": "^1.2.0",
       "_model_name": "DataGridModel",
       "_view_module_version": "^1.2.0",
       "auto_fit_columns": false,
       "auto_fit_params": {
        "area": "all",
        "numCols": null,
        "padding": 30
       },
       "base_column_header_size": 20,
       "base_column_size": 64,
       "base_row_header_size": 64,
       "base_row_size": 20,
       "default_renderer": "IPY_MODEL_d0fff9c0491e4474b56ee0d2d71de280",
       "editable": true,
       "header_visibility": "all",
       "layout": "IPY_MODEL_07207b46676d49b0bdd52780a3453229",
       "selection_mode": "cell"
      }
     },
     "442aadf9045d4e8dbb0bacb508e5c1da": {
      "model_module": "@jupyter-widgets/base",
      "model_module_version": "2.0.0",
      "model_name": "LayoutModel",
      "state": {}
     },
     "448fd78b0aa642918155d7510e87a493": {
      "model_module": "@jupyter-widgets/output",
      "model_module_version": "1.0.0",
      "model_name": "OutputModel",
      "state": {
       "layout": "IPY_MODEL_f4c1e8fcf19a43378c6a0b5eca65bf07"
      }
     },
     "449ad063253e4ecda73ac2243e3827b1": {
      "model_module": "@jupyter-widgets/base",
      "model_module_version": "2.0.0",
      "model_name": "LayoutModel",
      "state": {}
     },
     "44bd6a258f254b4595c6a0d595eacbdb": {
      "model_module": "ipydatagrid",
      "model_module_version": "^1.2.0",
      "model_name": "VegaExprModel",
      "state": {
       "_model_module_version": "^1.2.0",
       "_view_module": "ipydatagrid",
       "_view_module_version": "^1.2.0",
       "_view_name": "VegaExprView"
      }
     },
     "44c948d0968f44c69749ff6661df6dae": {
      "model_module": "@jupyter-widgets/controls",
      "model_module_version": "2.0.0",
      "model_name": "ButtonStyleModel",
      "state": {
       "font_family": null,
       "font_size": null,
       "font_style": null,
       "font_variant": null,
       "font_weight": null,
       "text_color": null,
       "text_decoration": null
      }
     },
     "44d9850ee3a54ccfb3c11884b10c26f7": {
      "model_module": "@jupyter-widgets/base",
      "model_module_version": "2.0.0",
      "model_name": "LayoutModel",
      "state": {}
     },
     "44f1faafaf164666a1d08cbcf7a67274": {
      "model_module": "@jupyter-widgets/controls",
      "model_module_version": "2.0.0",
      "model_name": "ButtonStyleModel",
      "state": {
       "font_family": null,
       "font_size": null,
       "font_style": null,
       "font_variant": null,
       "font_weight": null,
       "text_color": null,
       "text_decoration": null
      }
     },
     "4515094db3f5448b84ccbce741beea5a": {
      "model_module": "@jupyter-widgets/base",
      "model_module_version": "2.0.0",
      "model_name": "LayoutModel",
      "state": {}
     },
     "455440cae0fe4f369fca1b8fcab7c3a9": {
      "model_module": "@jupyter-widgets/controls",
      "model_module_version": "2.0.0",
      "model_name": "ButtonStyleModel",
      "state": {
       "font_family": null,
       "font_size": null,
       "font_style": null,
       "font_variant": null,
       "font_weight": null,
       "text_color": null,
       "text_decoration": null
      }
     },
     "455566a3487541359ed1bc9d06024938": {
      "model_module": "@jupyter-widgets/output",
      "model_module_version": "1.0.0",
      "model_name": "OutputModel",
      "state": {
       "layout": "IPY_MODEL_9281a77386b14cf5855a1e4534183c92"
      }
     },
     "45ae2bc34c394487bc5e27afa4ff1052": {
      "model_module": "@jupyter-widgets/controls",
      "model_module_version": "2.0.0",
      "model_name": "ButtonStyleModel",
      "state": {
       "font_family": null,
       "font_size": null,
       "font_style": null,
       "font_variant": null,
       "font_weight": null,
       "text_color": null,
       "text_decoration": null
      }
     },
     "45b48586fd1448e1916417fa38131e00": {
      "model_module": "@jupyter-widgets/base",
      "model_module_version": "2.0.0",
      "model_name": "LayoutModel",
      "state": {}
     },
     "461cbe196793453fbd6834431cda9c30": {
      "model_module": "@jupyter-widgets/controls",
      "model_module_version": "2.0.0",
      "model_name": "ButtonModel",
      "state": {
       "description": "Undo",
       "layout": "IPY_MODEL_0303036fd7cb4bff8f63b68bf9e5959d",
       "style": "IPY_MODEL_4e2194b2ee274ed490faa9f8a474aea2",
       "tooltip": null
      }
     },
     "4668f5eea8fb46dfa56652cca2c543c0": {
      "model_module": "@jupyter-widgets/controls",
      "model_module_version": "2.0.0",
      "model_name": "ButtonModel",
      "state": {
       "description": "Add Row",
       "layout": "IPY_MODEL_e5578fe8197a48aa92dfb2449f08bb69",
       "style": "IPY_MODEL_455440cae0fe4f369fca1b8fcab7c3a9",
       "tooltip": null
      }
     },
     "466ccadd05234ffcb86de2018077ac2a": {
      "model_module": "@jupyter-widgets/controls",
      "model_module_version": "2.0.0",
      "model_name": "ButtonStyleModel",
      "state": {
       "font_family": null,
       "font_size": null,
       "font_style": null,
       "font_variant": null,
       "font_weight": null,
       "text_color": null,
       "text_decoration": null
      }
     },
     "46c1ea816063413a9c14b184a6175aa6": {
      "model_module": "@jupyter-widgets/controls",
      "model_module_version": "2.0.0",
      "model_name": "ButtonModel",
      "state": {
       "description": "Redo",
       "layout": "IPY_MODEL_71519c4d337f473580691955f5017a91",
       "style": "IPY_MODEL_f1af4f63439d406c809319de6251c26e",
       "tooltip": null
      }
     },
     "4701f9967b4d45d0bc9a65522545bfcd": {
      "model_module": "@jupyter-widgets/controls",
      "model_module_version": "2.0.0",
      "model_name": "ButtonStyleModel",
      "state": {
       "font_family": null,
       "font_size": null,
       "font_style": null,
       "font_variant": null,
       "font_weight": null,
       "text_color": null,
       "text_decoration": null
      }
     },
     "4732ba4d91f743fb89ffaee7d57f4b96": {
      "model_module": "@jupyter-widgets/base",
      "model_module_version": "2.0.0",
      "model_name": "LayoutModel",
      "state": {}
     },
     "474bdd2a9a174374bc40071831421fe0": {
      "model_module": "ipydatagrid",
      "model_module_version": "^1.2.0",
      "model_name": "VegaExprModel",
      "state": {
       "_model_module_version": "^1.2.0",
       "_view_module": "ipydatagrid",
       "_view_module_version": "^1.2.0",
       "_view_name": "VegaExprView"
      }
     },
     "47b8814e74f0418a814d1ab249c7a7e6": {
      "model_module": "@jupyter-widgets/controls",
      "model_module_version": "2.0.0",
      "model_name": "ButtonStyleModel",
      "state": {
       "font_family": null,
       "font_size": null,
       "font_style": null,
       "font_variant": null,
       "font_weight": null,
       "text_color": null,
       "text_decoration": null
      }
     },
     "47d49e744fa44ce69f99e903691bb041": {
      "model_module": "@jupyter-widgets/base",
      "model_module_version": "2.0.0",
      "model_name": "LayoutModel",
      "state": {}
     },
     "47f9588124dd4019a92df915ba9f6c2b": {
      "model_module": "@jupyter-widgets/controls",
      "model_module_version": "2.0.0",
      "model_name": "HBoxModel",
      "state": {
       "children": [
        "IPY_MODEL_48e6014e24bb45edb377388929ace22f",
        "IPY_MODEL_0245c3f7cfbf4c46b223c0e3bae438b1",
        "IPY_MODEL_50efe090b15a4328b523c7695203c53a",
        "IPY_MODEL_fda0a976a6d94186b9bf3d5fc6a7c6e4",
        "IPY_MODEL_fc9f308f44da487fb971ee9e0c25b199"
       ],
       "layout": "IPY_MODEL_11bb931e3de345ceb7260b7b87ffc08f"
      }
     },
     "483eefd6f06941e2ade2e9bcb7a9ee84": {
      "model_module": "@jupyter-widgets/controls",
      "model_module_version": "2.0.0",
      "model_name": "ButtonStyleModel",
      "state": {
       "font_family": null,
       "font_size": null,
       "font_style": null,
       "font_variant": null,
       "font_weight": null,
       "text_color": null,
       "text_decoration": null
      }
     },
     "48448edf6b114d9ebbe7f28a31fd50cc": {
      "model_module": "@jupyter-widgets/base",
      "model_module_version": "2.0.0",
      "model_name": "LayoutModel",
      "state": {}
     },
     "4863ebf918d44efab7daf8e1a6cb544d": {
      "model_module": "@jupyter-widgets/base",
      "model_module_version": "2.0.0",
      "model_name": "LayoutModel",
      "state": {}
     },
     "486ca56c75de4455bf86b8f4d8870d6d": {
      "model_module": "@jupyter-widgets/controls",
      "model_module_version": "2.0.0",
      "model_name": "ButtonModel",
      "state": {
       "description": "Add Column",
       "layout": "IPY_MODEL_931441be6e1948719556d925e0c8f479",
       "style": "IPY_MODEL_466ccadd05234ffcb86de2018077ac2a",
       "tooltip": null
      }
     },
     "4890993a13ba404db4511de49b82024e": {
      "model_module": "ipydatagrid",
      "model_module_version": "^1.2.0",
      "model_name": "VegaExprModel",
      "state": {
       "_model_module_version": "^1.2.0",
       "_view_module": "ipydatagrid",
       "_view_module_version": "^1.2.0",
       "_view_name": "VegaExprView"
      }
     },
     "48d33d5383494ed384fc6f02407af9e3": {
      "model_module": "@jupyter-widgets/controls",
      "model_module_version": "2.0.0",
      "model_name": "ButtonStyleModel",
      "state": {
       "font_family": null,
       "font_size": null,
       "font_style": null,
       "font_variant": null,
       "font_weight": null,
       "text_color": null,
       "text_decoration": null
      }
     },
     "48e6014e24bb45edb377388929ace22f": {
      "model_module": "@jupyter-widgets/controls",
      "model_module_version": "2.0.0",
      "model_name": "ButtonModel",
      "state": {
       "description": "Undo",
       "layout": "IPY_MODEL_2457ee3b8b844dd7884ae7effe84ab84",
       "style": "IPY_MODEL_d81f5a914f9447a48a1d0266f6823ffe",
       "tooltip": null
      }
     },
     "490679472b61429c8d256b3e60aaca55": {
      "model_module": "@jupyter-widgets/controls",
      "model_module_version": "2.0.0",
      "model_name": "ButtonStyleModel",
      "state": {
       "font_family": null,
       "font_size": null,
       "font_style": null,
       "font_variant": null,
       "font_weight": null,
       "text_color": null,
       "text_decoration": null
      }
     },
     "49a82cd41ede4b89870bd7005913521c": {
      "model_module": "@jupyter-widgets/controls",
      "model_module_version": "2.0.0",
      "model_name": "ButtonModel",
      "state": {
       "description": "Add Row",
       "layout": "IPY_MODEL_292dd1ded8d345e3bc5e8d622299403d",
       "style": "IPY_MODEL_8d88e63eccf34f59a57842a8e5ad9d81",
       "tooltip": null
      }
     },
     "49bb8812236141c587a2ef34a96679e6": {
      "model_module": "@jupyter-widgets/controls",
      "model_module_version": "2.0.0",
      "model_name": "ButtonStyleModel",
      "state": {
       "font_family": null,
       "font_size": null,
       "font_style": null,
       "font_variant": null,
       "font_weight": null,
       "text_color": null,
       "text_decoration": null
      }
     },
     "49d1203b77194b158be8e17292aa8aa8": {
      "model_module": "@jupyter-widgets/controls",
      "model_module_version": "2.0.0",
      "model_name": "ButtonStyleModel",
      "state": {
       "font_family": null,
       "font_size": null,
       "font_style": null,
       "font_variant": null,
       "font_weight": null,
       "text_color": null,
       "text_decoration": null
      }
     },
     "4a0c7fde7c3d4bbbbd2464cf3d9eee21": {
      "model_module": "@jupyter-widgets/base",
      "model_module_version": "2.0.0",
      "model_name": "LayoutModel",
      "state": {
       "height": "150px"
      }
     },
     "4a1431a56280409f9f2dfe2d791d6ddf": {
      "model_module": "@jupyter-widgets/controls",
      "model_module_version": "2.0.0",
      "model_name": "ButtonModel",
      "state": {
       "description": "Add Row",
       "layout": "IPY_MODEL_3cad33f679534b0ea8af3be7684371cd",
       "style": "IPY_MODEL_6a0bd4cbca0446c88f487886270d9fc6",
       "tooltip": null
      }
     },
     "4a167220ac4f49d2a52776d56782244b": {
      "model_module": "@jupyter-widgets/base",
      "model_module_version": "2.0.0",
      "model_name": "LayoutModel",
      "state": {}
     },
     "4a1a4f7b49994439b3bde8455f1f6348": {
      "model_module": "ipydatagrid",
      "model_module_version": "^1.2.0",
      "model_name": "TextRendererModel",
      "state": {
       "_model_module_version": "^1.2.0",
       "_view_module_version": "^1.2.0",
       "background_color": "IPY_MODEL_9bd581ca4155449ca4949ef088d9bd61",
       "text_color": "IPY_MODEL_f01e5f6f833144368d3aca8c22fd1171"
      }
     },
     "4a433d7c993441edbe5e484d0a6a6c60": {
      "model_module": "@jupyter-widgets/controls",
      "model_module_version": "2.0.0",
      "model_name": "ButtonModel",
      "state": {
       "description": "Add Row",
       "layout": "IPY_MODEL_666ff74acc334cbc8f33a56ff84cb8e4",
       "style": "IPY_MODEL_8ea6d859af404abab60c60d299aab7c6",
       "tooltip": null
      }
     },
     "4aa8fb70402b47eaa505ab1da0b2b497": {
      "model_module": "@jupyter-widgets/output",
      "model_module_version": "1.0.0",
      "model_name": "OutputModel",
      "state": {
       "layout": "IPY_MODEL_a2ef43b9e7804a9080ccf019c2421ded"
      }
     },
     "4ab289d6feda463d93ec20e031024ce1": {
      "model_module": "ipydatagrid",
      "model_module_version": "^1.2.0",
      "model_name": "TextRendererModel",
      "state": {
       "_model_module_version": "^1.2.0",
       "_view_module_version": "^1.2.0",
       "background_color": "IPY_MODEL_718a4d1156d242d6969025dceadaa4b4",
       "text_color": "IPY_MODEL_99237c66e55a42fbac38f621f0b92bfb"
      }
     },
     "4ac7f490904a49c595169a6f746d9dc2": {
      "model_module": "@jupyter-widgets/base",
      "model_module_version": "2.0.0",
      "model_name": "LayoutModel",
      "state": {}
     },
     "4ad8f341f6d6451e87fb691e36acf5e1": {
      "model_module": "@jupyter-widgets/output",
      "model_module_version": "1.0.0",
      "model_name": "OutputModel",
      "state": {
       "layout": "IPY_MODEL_7fa1958ed58944f780f7e2e2b12d5b9a",
       "outputs": [
        {
         "name": "stdout",
         "output_type": "stream",
         "text": "Data vectors need to be updated\n"
        }
       ]
      }
     },
     "4afebf7caa74401fbcb5c158acb1bf41": {
      "model_module": "@jupyter-widgets/base",
      "model_module_version": "2.0.0",
      "model_name": "LayoutModel",
      "state": {}
     },
     "4b619ff620f34c19ac4f8b219064075b": {
      "model_module": "@jupyter-widgets/controls",
      "model_module_version": "2.0.0",
      "model_name": "ButtonModel",
      "state": {
       "description": "Generate Vectors",
       "layout": "IPY_MODEL_1d97871768174c8781a86ca4bd1e6f29",
       "style": "IPY_MODEL_cb3287bba95d42c0846e3f18f496c970",
       "tooltip": null
      }
     },
     "4bc0215cb1e3438d9cd2a241c822f762": {
      "model_module": "@jupyter-widgets/base",
      "model_module_version": "2.0.0",
      "model_name": "LayoutModel",
      "state": {}
     },
     "4bca1539431a4dbca4e6c5501ce8ee8a": {
      "model_module": "@jupyter-widgets/controls",
      "model_module_version": "2.0.0",
      "model_name": "ButtonStyleModel",
      "state": {
       "font_family": null,
       "font_size": null,
       "font_style": null,
       "font_variant": null,
       "font_weight": null,
       "text_color": null,
       "text_decoration": null
      }
     },
     "4bdac549964a46fd8d789d60cadd74c6": {
      "model_module": "ipydatagrid",
      "model_module_version": "^1.2.0",
      "model_name": "VegaExprModel",
      "state": {
       "_model_module_version": "^1.2.0",
       "_view_module": "ipydatagrid",
       "_view_module_version": "^1.2.0",
       "_view_name": "VegaExprView"
      }
     },
     "4c323632b4554a798a2c24bc8068e40b": {
      "model_module": "@jupyter-widgets/base",
      "model_module_version": "2.0.0",
      "model_name": "LayoutModel",
      "state": {}
     },
     "4c441f6cba0b47cbbe6f8419bc230785": {
      "model_module": "@jupyter-widgets/base",
      "model_module_version": "2.0.0",
      "model_name": "LayoutModel",
      "state": {}
     },
     "4c6deccb2c784470b072cc22499446f1": {
      "model_module": "@jupyter-widgets/base",
      "model_module_version": "2.0.0",
      "model_name": "LayoutModel",
      "state": {}
     },
     "4c8cb96ef72946d6aa46f2551cdc89f4": {
      "model_module": "@jupyter-widgets/base",
      "model_module_version": "2.0.0",
      "model_name": "LayoutModel",
      "state": {}
     },
     "4ca259d2e3cd4ffc89f5d423e7253215": {
      "model_module": "@jupyter-widgets/controls",
      "model_module_version": "2.0.0",
      "model_name": "ButtonStyleModel",
      "state": {
       "font_family": null,
       "font_size": null,
       "font_style": null,
       "font_variant": null,
       "font_weight": null,
       "text_color": null,
       "text_decoration": null
      }
     },
     "4ca64ddd0b484b55906701c48e123a42": {
      "model_module": "@jupyter-widgets/controls",
      "model_module_version": "2.0.0",
      "model_name": "ButtonModel",
      "state": {
       "description": "Generate Vectors",
       "layout": "IPY_MODEL_bfdecaa20b5148289550aeedb5f80d10",
       "style": "IPY_MODEL_7acc7bcd6c0d45a0b461bf602ea39bb9",
       "tooltip": null
      }
     },
     "4cd5baee9ca54150b1619da3d1082a35": {
      "model_module": "@jupyter-widgets/base",
      "model_module_version": "2.0.0",
      "model_name": "LayoutModel",
      "state": {
       "height": "150px"
      }
     },
     "4d78d6704f2f42818777273d709cb810": {
      "model_module": "@jupyter-widgets/controls",
      "model_module_version": "2.0.0",
      "model_name": "ButtonModel",
      "state": {
       "description": "Add Row",
       "layout": "IPY_MODEL_20db86bda95b45d7834b2670ad6c51c8",
       "style": "IPY_MODEL_ddee3f671f504a888107239ca4495bbf",
       "tooltip": null
      }
     },
     "4d899ea671944e7dab7a523fbed898c6": {
      "model_module": "@jupyter-widgets/controls",
      "model_module_version": "2.0.0",
      "model_name": "ButtonModel",
      "state": {
       "description": "Add Row",
       "layout": "IPY_MODEL_0175e739662442f580d876797e2e0daa",
       "style": "IPY_MODEL_7bcdca621a78463d9308a38c1c02d88e",
       "tooltip": null
      }
     },
     "4dbfe6fc0fc5417b9069905a48c20dce": {
      "model_module": "ipydatagrid",
      "model_module_version": "^1.2.0",
      "model_name": "VegaExprModel",
      "state": {
       "_model_module_version": "^1.2.0",
       "_view_module": "ipydatagrid",
       "_view_module_version": "^1.2.0",
       "_view_name": "VegaExprView"
      }
     },
     "4df2a1710f1144f7a1effbe45aa30d73": {
      "model_module": "@jupyter-widgets/controls",
      "model_module_version": "2.0.0",
      "model_name": "ButtonModel",
      "state": {
       "description": "Add Row",
       "layout": "IPY_MODEL_8409bf2976574872b8509886db582b27",
       "style": "IPY_MODEL_efd9f42939c94a0fb2b5047eda999f3d",
       "tooltip": null
      }
     },
     "4df52961f01a4080ba04a86d12a900ea": {
      "model_module": "@jupyter-widgets/base",
      "model_module_version": "2.0.0",
      "model_name": "LayoutModel",
      "state": {}
     },
     "4df52cc5356e4d0d89da32b9b084cf15": {
      "model_module": "@jupyter-widgets/controls",
      "model_module_version": "2.0.0",
      "model_name": "HBoxModel",
      "state": {
       "children": [
        "IPY_MODEL_2ca00d623b5d4d72af94d7fec9c11279",
        "IPY_MODEL_7e3af2da93374c7dbd9e0e982ade9ba0",
        "IPY_MODEL_1034107b4636441e935d2c09420c9df0",
        "IPY_MODEL_b98abedc6bb64502b5fd553c508199d9",
        "IPY_MODEL_38d7fea08528479197532ca1b313e40f"
       ],
       "layout": "IPY_MODEL_b9b86442213e4435a6307f9eda993dd4"
      }
     },
     "4e2194b2ee274ed490faa9f8a474aea2": {
      "model_module": "@jupyter-widgets/controls",
      "model_module_version": "2.0.0",
      "model_name": "ButtonStyleModel",
      "state": {
       "font_family": null,
       "font_size": null,
       "font_style": null,
       "font_variant": null,
       "font_weight": null,
       "text_color": null,
       "text_decoration": null
      }
     },
     "4e26112916444857acc677a4bfbd65a1": {
      "model_module": "@jupyter-widgets/controls",
      "model_module_version": "2.0.0",
      "model_name": "ButtonStyleModel",
      "state": {
       "font_family": null,
       "font_size": null,
       "font_style": null,
       "font_variant": null,
       "font_weight": null,
       "text_color": null,
       "text_decoration": null
      }
     },
     "4e2e8e1876c54e0ca9fb851fa63caf8b": {
      "model_module": "@jupyter-widgets/controls",
      "model_module_version": "2.0.0",
      "model_name": "ButtonModel",
      "state": {
       "description": "Redo",
       "layout": "IPY_MODEL_55123039fad94f88b9892d0574fa32ca",
       "style": "IPY_MODEL_6d3f49fb7d514682b410065582974d23",
       "tooltip": null
      }
     },
     "4e444291d2894a9e93aaa1b82b552a6a": {
      "model_module": "@jupyter-widgets/base",
      "model_module_version": "2.0.0",
      "model_name": "LayoutModel",
      "state": {}
     },
     "4e7ae34a2d8e4d36af504babbc46b2a0": {
      "model_module": "@jupyter-widgets/controls",
      "model_module_version": "2.0.0",
      "model_name": "HBoxModel",
      "state": {
       "children": [
        "IPY_MODEL_ac5146a438f1456e9a67688fc921fe34",
        "IPY_MODEL_0bf0f0fd0075407e9fc24cf01852ef0d",
        "IPY_MODEL_4d899ea671944e7dab7a523fbed898c6",
        "IPY_MODEL_c5449e2bfe6c45189dbbb6f9f25ce9b1",
        "IPY_MODEL_76027651077d44d882ba902db6a900b2"
       ],
       "layout": "IPY_MODEL_40aab5948e2a48c898833663daa92440"
      }
     },
     "4ebb331fda384c82bd188b351037350d": {
      "model_module": "@jupyter-widgets/controls",
      "model_module_version": "2.0.0",
      "model_name": "ButtonModel",
      "state": {
       "description": "Generate Vectors",
       "layout": "IPY_MODEL_58eb6edc870143289586d32fc4b1b304",
       "style": "IPY_MODEL_f9a1fa3d84ef4f418897d5e668492644",
       "tooltip": null
      }
     },
     "4ee35c3c9bf7485d8a0a6eb410d2372c": {
      "model_module": "ipydatagrid",
      "model_module_version": "^1.2.0",
      "model_name": "DataGridModel",
      "state": {
       "_data": {
        "data": [
         {
          "0": "x2",
          "1": "m2",
          "2": "x1",
          "3": "m1",
          "4": "ux2",
          "5": "ux1",
          "6": "um1",
          "7": "um2",
          "ipydguuid": 0,
          "key": "  Variable:"
         },
         {
          "0": "m",
          "1": "kg",
          "2": "m",
          "3": "kg",
          "4": "m",
          "5": "m",
          "6": "kg",
          "7": "kg",
          "ipydguuid": 1,
          "key": " Units:"
         },
         {
          "0": "0.058",
          "1": "0.898",
          "2": "0.129",
          "3": "0.078",
          "4": "0.00125",
          "5": "0.0025",
          "6": "0.0002886751345948129",
          "7": "0.00125",
          "ipydguuid": 2,
          "key": 0
         },
         {
          "0": "0.057",
          "1": "0.902",
          "2": "0.129",
          "3": "0.078",
          "4": "0.00125",
          "5": "0.0025",
          "6": "0.0002886751345948129",
          "7": "0.00125",
          "ipydguuid": 3,
          "key": 1
         },
         {
          "0": "0.057",
          "1": "0.903",
          "2": "0.129",
          "3": "0.078",
          "4": "0.00125",
          "5": "0.0025",
          "6": "0.0002886751345948129",
          "7": "0.00125",
          "ipydguuid": 4,
          "key": 2
         }
        ],
        "fields": [
         {
          "key": null
         },
         {
          "0": null
         },
         {
          "1": null
         },
         {
          "2": null
         },
         {
          "3": null
         },
         {
          "4": null
         },
         {
          "5": null
         },
         {
          "6": null
         },
         {
          "7": null
         },
         {
          "ipydguuid": null
         }
        ],
        "schema": {
         "fields": [
          {
           "name": "key",
           "type": "string"
          },
          {
           "name": 0,
           "type": "string"
          },
          {
           "name": 1,
           "type": "string"
          },
          {
           "name": 2,
           "type": "string"
          },
          {
           "name": 3,
           "type": "string"
          },
          {
           "name": 4,
           "type": "string"
          },
          {
           "name": 5,
           "type": "string"
          },
          {
           "name": 6,
           "type": "string"
          },
          {
           "name": 7,
           "type": "string"
          },
          {
           "name": "ipydguuid",
           "type": "integer"
          }
         ],
         "pandas_version": "1.4.0",
         "primaryKey": [
          "key",
          "ipydguuid"
         ],
         "primaryKeyUuid": "ipydguuid"
        }
       },
       "_model_module_version": "^1.2.0",
       "_model_name": "DataGridModel",
       "_view_module_version": "^1.2.0",
       "auto_fit_columns": false,
       "auto_fit_params": {
        "area": "all",
        "numCols": null,
        "padding": 30
       },
       "base_column_header_size": 20,
       "base_column_size": 64,
       "base_row_header_size": 64,
       "base_row_size": 20,
       "default_renderer": "IPY_MODEL_bcc19a0cb3964d3e95fd1e50cb1cc85f",
       "editable": true,
       "header_visibility": "all",
       "layout": "IPY_MODEL_523802ce01da4a4ea11446c1cf9e9ada",
       "selection_mode": "cell"
      }
     },
     "4eef00b6672742908b8602a086533f0e": {
      "model_module": "@jupyter-widgets/base",
      "model_module_version": "2.0.0",
      "model_name": "LayoutModel",
      "state": {}
     },
     "4effaaa34fc94f9c800fa7c5949021a3": {
      "model_module": "@jupyter-widgets/controls",
      "model_module_version": "2.0.0",
      "model_name": "ButtonStyleModel",
      "state": {
       "font_family": null,
       "font_size": null,
       "font_style": null,
       "font_variant": null,
       "font_weight": null,
       "text_color": null,
       "text_decoration": null
      }
     },
     "4f026b809d0a40ac9acabd27121a2664": {
      "model_module": "@jupyter-widgets/controls",
      "model_module_version": "2.0.0",
      "model_name": "ButtonStyleModel",
      "state": {
       "font_family": null,
       "font_size": null,
       "font_style": null,
       "font_variant": null,
       "font_weight": null,
       "text_color": null,
       "text_decoration": null
      }
     },
     "4f50e9340aef4e7c89f9f06a508c48ee": {
      "model_module": "@jupyter-widgets/base",
      "model_module_version": "2.0.0",
      "model_name": "LayoutModel",
      "state": {}
     },
     "505091ca942f47c9a455eaa20ea05d97": {
      "model_module": "@jupyter-widgets/controls",
      "model_module_version": "2.0.0",
      "model_name": "ButtonModel",
      "state": {
       "description": "Generate Vectors",
       "layout": "IPY_MODEL_cd2a56f6c13c4e548077342e75bddeb5",
       "style": "IPY_MODEL_279bdf920369495cb9341752f6374839",
       "tooltip": null
      }
     },
     "506901e849b445e3879cc764eef873cc": {
      "model_module": "ipydatagrid",
      "model_module_version": "^1.2.0",
      "model_name": "VegaExprModel",
      "state": {
       "_model_module_version": "^1.2.0",
       "_view_module": "ipydatagrid",
       "_view_module_version": "^1.2.0",
       "_view_name": "VegaExprView"
      }
     },
     "50d6997006214664a9727beae31e73ed": {
      "model_module": "@jupyter-widgets/base",
      "model_module_version": "2.0.0",
      "model_name": "LayoutModel",
      "state": {}
     },
     "50e2ba5bbd894691bc2ae88828d69aba": {
      "model_module": "ipydatagrid",
      "model_module_version": "^1.2.0",
      "model_name": "TextRendererModel",
      "state": {
       "_model_module_version": "^1.2.0",
       "_view_module_version": "^1.2.0",
       "background_color": "IPY_MODEL_c2d4bd6fd82b4949a18e442bcb1db0a2",
       "text_color": "IPY_MODEL_d60c11a1e1ad4fba827230234e628dc0"
      }
     },
     "50efe090b15a4328b523c7695203c53a": {
      "model_module": "@jupyter-widgets/controls",
      "model_module_version": "2.0.0",
      "model_name": "ButtonModel",
      "state": {
       "description": "Add Row",
       "layout": "IPY_MODEL_1a9463a13c7440bcaecc9488bf8b1fa9",
       "style": "IPY_MODEL_d4d7e3e0773b4b838bf3b24275629f36",
       "tooltip": null
      }
     },
     "5111c063c9624cf99638909533e17be0": {
      "model_module": "@jupyter-widgets/base",
      "model_module_version": "2.0.0",
      "model_name": "LayoutModel",
      "state": {}
     },
     "51302ccb0f4841adb13080d525298f12": {
      "model_module": "@jupyter-widgets/controls",
      "model_module_version": "2.0.0",
      "model_name": "ButtonStyleModel",
      "state": {
       "font_family": null,
       "font_size": null,
       "font_style": null,
       "font_variant": null,
       "font_weight": null,
       "text_color": null,
       "text_decoration": null
      }
     },
     "51610e66491b4c62a85375543c433193": {
      "model_module": "@jupyter-widgets/output",
      "model_module_version": "1.0.0",
      "model_name": "OutputModel",
      "state": {
       "layout": "IPY_MODEL_c8ea7f817666450baf3d683a2daf7911",
       "outputs": [
        {
         "name": "stdout",
         "output_type": "stream",
         "text": "Converting Row:  0 Col:  6 with value 0.0005 / (np.sqrt(3)) Failed\nRow # 0 skipped\nConverting Row:  1 Col:  6 with value 0.0005 / (np.sqrt(3)) Failed\nRow # 1 skipped\nConverting Row:  2 Col:  6 with value 0.0005 / (np.sqrt(3)) Failed\nRow # 2 skipped\nNo valid data rows found. Giving up\n"
        }
       ]
      }
     },
     "5181798cbcbf4da7b609e657ffce7c28": {
      "model_module": "@jupyter-widgets/controls",
      "model_module_version": "2.0.0",
      "model_name": "ButtonModel",
      "state": {
       "description": "Add Row",
       "layout": "IPY_MODEL_15a092d72ebb4703a4a8cd27bcbba766",
       "style": "IPY_MODEL_0a6519e64af04554a6159ba28eb4353b",
       "tooltip": null
      }
     },
     "5182f1c0096f4ea79f02bda977dea909": {
      "model_module": "@jupyter-widgets/controls",
      "model_module_version": "2.0.0",
      "model_name": "VBoxModel",
      "state": {
       "children": [
        "IPY_MODEL_c37304bcc32d42f4b24d311ac1e74947",
        "IPY_MODEL_9310eda5f4734cecab105ff6ea6b06bf",
        "IPY_MODEL_010d4d828eff4efd9414c31f65a6675e"
       ],
       "layout": "IPY_MODEL_5afa55e0d3a34f34874a52e5500498e4"
      }
     },
     "51b175de420445309a87b793047667f7": {
      "model_module": "ipydatagrid",
      "model_module_version": "^1.2.0",
      "model_name": "TextRendererModel",
      "state": {
       "_model_module_version": "^1.2.0",
       "_view_module_version": "^1.2.0",
       "background_color": "IPY_MODEL_65016b98885a4515a798f3c7e9b965a5",
       "text_color": "IPY_MODEL_5a217b805e85476eab3a287206c66064"
      }
     },
     "5227725a13e1419a85f95871275d9188": {
      "model_module": "ipydatagrid",
      "model_module_version": "^1.2.0",
      "model_name": "VegaExprModel",
      "state": {
       "_model_module_version": "^1.2.0",
       "_view_module": "ipydatagrid",
       "_view_module_version": "^1.2.0",
       "_view_name": "VegaExprView"
      }
     },
     "523802ce01da4a4ea11446c1cf9e9ada": {
      "model_module": "@jupyter-widgets/base",
      "model_module_version": "2.0.0",
      "model_name": "LayoutModel",
      "state": {
       "height": "150px"
      }
     },
     "5239d6a8586f4fec9a164f17bd2d5767": {
      "model_module": "ipydatagrid",
      "model_module_version": "^1.2.0",
      "model_name": "TextRendererModel",
      "state": {
       "_model_module_version": "^1.2.0",
       "_view_module_version": "^1.2.0",
       "background_color": "IPY_MODEL_474bdd2a9a174374bc40071831421fe0",
       "text_color": "IPY_MODEL_31ff03651a634249b06f0e14fe9e9ed4"
      }
     },
     "525300a018944d46b431f12ec591fd74": {
      "model_module": "@jupyter-widgets/base",
      "model_module_version": "2.0.0",
      "model_name": "LayoutModel",
      "state": {}
     },
     "5254ff3230dc4741b75bde5ae2f57813": {
      "model_module": "@jupyter-widgets/base",
      "model_module_version": "2.0.0",
      "model_name": "LayoutModel",
      "state": {}
     },
     "526a1375fa2d4172827048d9e4d23529": {
      "model_module": "@jupyter-widgets/controls",
      "model_module_version": "2.0.0",
      "model_name": "ButtonStyleModel",
      "state": {
       "font_family": null,
       "font_size": null,
       "font_style": null,
       "font_variant": null,
       "font_weight": null,
       "text_color": null,
       "text_decoration": null
      }
     },
     "5274c97d2ebf43658cdc009f233066a1": {
      "model_module": "@jupyter-widgets/base",
      "model_module_version": "2.0.0",
      "model_name": "LayoutModel",
      "state": {}
     },
     "52f9860e795a4cb8a36c81daff252778": {
      "model_module": "@jupyter-widgets/controls",
      "model_module_version": "2.0.0",
      "model_name": "ButtonModel",
      "state": {
       "description": "Add Row",
       "layout": "IPY_MODEL_b735cd2d1fac4ae29d6cdf71c41494d6",
       "style": "IPY_MODEL_61207791a6944cb3b8d485f7e297fca3",
       "tooltip": null
      }
     },
     "5341403e5dd143cb989abff3a7ea920c": {
      "model_module": "@jupyter-widgets/base",
      "model_module_version": "2.0.0",
      "model_name": "LayoutModel",
      "state": {}
     },
     "5365a820c2124b36957ff91c19eaf480": {
      "model_module": "@jupyter-widgets/controls",
      "model_module_version": "2.0.0",
      "model_name": "ButtonStyleModel",
      "state": {
       "font_family": null,
       "font_size": null,
       "font_style": null,
       "font_variant": null,
       "font_weight": null,
       "text_color": null,
       "text_decoration": null
      }
     },
     "540811ac7dd146a9b7f126129c73c8e8": {
      "model_module": "@jupyter-widgets/controls",
      "model_module_version": "2.0.0",
      "model_name": "ButtonModel",
      "state": {
       "description": "Redo",
       "layout": "IPY_MODEL_e96d0041cb92493181aebaf32b5fadfb",
       "style": "IPY_MODEL_052f88021e9c4c918ce2e942b9d87856",
       "tooltip": null
      }
     },
     "54508a7e5f064a1581dcc34916b5aa7c": {
      "model_module": "@jupyter-widgets/base",
      "model_module_version": "2.0.0",
      "model_name": "LayoutModel",
      "state": {}
     },
     "548c8ba8f94b4d5faadac5af0c2470e6": {
      "model_module": "ipydatagrid",
      "model_module_version": "^1.2.0",
      "model_name": "VegaExprModel",
      "state": {
       "_model_module_version": "^1.2.0",
       "_view_module": "ipydatagrid",
       "_view_module_version": "^1.2.0",
       "_view_name": "VegaExprView"
      }
     },
     "5491f89f1a1a4ab9b9c78c4617f21f96": {
      "model_module": "ipydatagrid",
      "model_module_version": "^1.2.0",
      "model_name": "VegaExprModel",
      "state": {
       "_model_module_version": "^1.2.0",
       "_view_module": "ipydatagrid",
       "_view_module_version": "^1.2.0",
       "_view_name": "VegaExprView"
      }
     },
     "549e553194b146daacc28ae737656637": {
      "model_module": "@jupyter-widgets/controls",
      "model_module_version": "2.0.0",
      "model_name": "ButtonStyleModel",
      "state": {
       "font_family": null,
       "font_size": null,
       "font_style": null,
       "font_variant": null,
       "font_weight": null,
       "text_color": null,
       "text_decoration": null
      }
     },
     "54ca7079ce16470ea0b36fe324e001bb": {
      "model_module": "@jupyter-widgets/controls",
      "model_module_version": "2.0.0",
      "model_name": "ButtonStyleModel",
      "state": {
       "font_family": null,
       "font_size": null,
       "font_style": null,
       "font_variant": null,
       "font_weight": null,
       "text_color": null,
       "text_decoration": null
      }
     },
     "54cef2edbcca40cea1b325af0a8d1d02": {
      "model_module": "@jupyter-widgets/base",
      "model_module_version": "2.0.0",
      "model_name": "LayoutModel",
      "state": {}
     },
     "54ef91614cb74249be28b855020cc561": {
      "model_module": "@jupyter-widgets/controls",
      "model_module_version": "2.0.0",
      "model_name": "ButtonStyleModel",
      "state": {
       "font_family": null,
       "font_size": null,
       "font_style": null,
       "font_variant": null,
       "font_weight": null,
       "text_color": null,
       "text_decoration": null
      }
     },
     "55123039fad94f88b9892d0574fa32ca": {
      "model_module": "@jupyter-widgets/base",
      "model_module_version": "2.0.0",
      "model_name": "LayoutModel",
      "state": {}
     },
     "5554c2de95bd453b9a479cb9d8a99ceb": {
      "model_module": "@jupyter-widgets/controls",
      "model_module_version": "2.0.0",
      "model_name": "ButtonStyleModel",
      "state": {
       "font_family": null,
       "font_size": null,
       "font_style": null,
       "font_variant": null,
       "font_weight": null,
       "text_color": null,
       "text_decoration": null
      }
     },
     "556fcc9475234500b42d3b6bcb48a2bb": {
      "model_module": "@jupyter-widgets/controls",
      "model_module_version": "2.0.0",
      "model_name": "VBoxModel",
      "state": {
       "children": [
        "IPY_MODEL_c7cffcd3feb14de5ad7d31cf20c9bf75",
        "IPY_MODEL_39a665b842f84019ad96628556cbe66f",
        "IPY_MODEL_f857465bb1b74d0ea81c3031609b8f87"
       ],
       "layout": "IPY_MODEL_7abc5501f0ef4f9aa2cb1237c170efc3"
      }
     },
     "55d2fdfa63a1413bac9a5ff363bef1d3": {
      "model_module": "@jupyter-widgets/base",
      "model_module_version": "2.0.0",
      "model_name": "LayoutModel",
      "state": {}
     },
     "561a3d4d24be49318d12aeb6ed97c911": {
      "model_module": "@jupyter-widgets/base",
      "model_module_version": "2.0.0",
      "model_name": "LayoutModel",
      "state": {}
     },
     "5624cdff7ad14b1b94fea976b70e63ed": {
      "model_module": "@jupyter-widgets/base",
      "model_module_version": "2.0.0",
      "model_name": "LayoutModel",
      "state": {}
     },
     "563bd5d3014e49c5a2eea54ae74566ce": {
      "model_module": "@jupyter-widgets/base",
      "model_module_version": "2.0.0",
      "model_name": "LayoutModel",
      "state": {}
     },
     "5644b755874d4f33bc7151803af175eb": {
      "model_module": "ipydatagrid",
      "model_module_version": "^1.2.0",
      "model_name": "TextRendererModel",
      "state": {
       "_model_module_version": "^1.2.0",
       "_view_module_version": "^1.2.0",
       "background_color": "IPY_MODEL_9c2bfc027f5b453499aa4a697269f0ac",
       "text_color": "IPY_MODEL_2bd51c29c11c42eab54436861feb643b"
      }
     },
     "56c35d7b176a48838d8d974f71fa623a": {
      "model_module": "@jupyter-widgets/base",
      "model_module_version": "2.0.0",
      "model_name": "LayoutModel",
      "state": {}
     },
     "570f7d03858d421bb877dd175abe18ca": {
      "model_module": "@jupyter-widgets/base",
      "model_module_version": "2.0.0",
      "model_name": "LayoutModel",
      "state": {}
     },
     "572545c7dc604f68be0ac20ff791c773": {
      "model_module": "@jupyter-widgets/base",
      "model_module_version": "2.0.0",
      "model_name": "LayoutModel",
      "state": {}
     },
     "5765a85981634017aaf007502f7652d8": {
      "model_module": "@jupyter-widgets/base",
      "model_module_version": "2.0.0",
      "model_name": "LayoutModel",
      "state": {}
     },
     "576f157bdbdf49818e88ec2dea0690ac": {
      "model_module": "@jupyter-widgets/controls",
      "model_module_version": "2.0.0",
      "model_name": "VBoxModel",
      "state": {
       "children": [
        "IPY_MODEL_6924449a8bf545ce8ee8f539004d5f1a",
        "IPY_MODEL_26308e4fc6914a5087b0c226bd965c4e",
        "IPY_MODEL_2e1a004d844143539d4e4775dc9706a5"
       ],
       "layout": "IPY_MODEL_12efa5a56d0243b1a70ea239f559840a"
      }
     },
     "57999f1ea5cd41c5a888e4f3c087f330": {
      "model_module": "@jupyter-widgets/controls",
      "model_module_version": "2.0.0",
      "model_name": "ButtonModel",
      "state": {
       "description": "Redo",
       "layout": "IPY_MODEL_570f7d03858d421bb877dd175abe18ca",
       "style": "IPY_MODEL_b7274807dcee4d6a9b16f1d52323cfbe",
       "tooltip": null
      }
     },
     "57c14498942647f8a5521f01eabcfff0": {
      "model_module": "@jupyter-widgets/controls",
      "model_module_version": "2.0.0",
      "model_name": "ButtonStyleModel",
      "state": {
       "font_family": null,
       "font_size": null,
       "font_style": null,
       "font_variant": null,
       "font_weight": null,
       "text_color": null,
       "text_decoration": null
      }
     },
     "57c5f9d09dc041afb6312acb27a4dfa9": {
      "model_module": "@jupyter-widgets/base",
      "model_module_version": "2.0.0",
      "model_name": "LayoutModel",
      "state": {
       "height": "250px"
      }
     },
     "5814dc506304446fba64fb78347cee24": {
      "model_module": "ipydatagrid",
      "model_module_version": "^1.2.0",
      "model_name": "VegaExprModel",
      "state": {
       "_model_module_version": "^1.2.0",
       "_view_module": "ipydatagrid",
       "_view_module_version": "^1.2.0",
       "_view_name": "VegaExprView"
      }
     },
     "581b52ca5e164596accdd51f2e03c706": {
      "model_module": "@jupyter-widgets/controls",
      "model_module_version": "2.0.0",
      "model_name": "ButtonModel",
      "state": {
       "description": "Undo",
       "layout": "IPY_MODEL_1f0d580009244f9c86358ce22773f636",
       "style": "IPY_MODEL_0198e996b221484a912f43106de29f56",
       "tooltip": null
      }
     },
     "583f2931b30d458dac44b814ee81b662": {
      "model_module": "@jupyter-widgets/base",
      "model_module_version": "2.0.0",
      "model_name": "LayoutModel",
      "state": {}
     },
     "5852507f7cd647ff88275a303dea88c4": {
      "model_module": "@jupyter-widgets/controls",
      "model_module_version": "2.0.0",
      "model_name": "ButtonStyleModel",
      "state": {
       "font_family": null,
       "font_size": null,
       "font_style": null,
       "font_variant": null,
       "font_weight": null,
       "text_color": null,
       "text_decoration": null
      }
     },
     "587ab05f8f244eff96fa2802ad5fb6a1": {
      "model_module": "@jupyter-widgets/controls",
      "model_module_version": "2.0.0",
      "model_name": "ButtonModel",
      "state": {
       "description": "Undo",
       "layout": "IPY_MODEL_92bddbc1060544e2a6b4a9ef9521d32e",
       "style": "IPY_MODEL_67f55125894a4fe88a12f9c4d8f885c1",
       "tooltip": null
      }
     },
     "58ccbaea49b243799c824e1b61f2e35c": {
      "model_module": "@jupyter-widgets/base",
      "model_module_version": "2.0.0",
      "model_name": "LayoutModel",
      "state": {}
     },
     "58d9cdfd9185404097c2d9bad9e93468": {
      "model_module": "@jupyter-widgets/controls",
      "model_module_version": "2.0.0",
      "model_name": "ButtonStyleModel",
      "state": {
       "font_family": null,
       "font_size": null,
       "font_style": null,
       "font_variant": null,
       "font_weight": null,
       "text_color": null,
       "text_decoration": null
      }
     },
     "58e3a839c11642b4b1af3e1f3af0e0ed": {
      "model_module": "ipydatagrid",
      "model_module_version": "^1.2.0",
      "model_name": "TextRendererModel",
      "state": {
       "_model_module_version": "^1.2.0",
       "_view_module_version": "^1.2.0",
       "background_color": "IPY_MODEL_c3a18d9005f547798e7bc627cf8a026e",
       "text_color": "IPY_MODEL_16a39289d256499b9165feff2667ad6e"
      }
     },
     "58eb6edc870143289586d32fc4b1b304": {
      "model_module": "@jupyter-widgets/base",
      "model_module_version": "2.0.0",
      "model_name": "LayoutModel",
      "state": {}
     },
     "58f718bd3fdb4ab48020a9f6591592df": {
      "model_module": "@jupyter-widgets/output",
      "model_module_version": "1.0.0",
      "model_name": "OutputModel",
      "state": {
       "layout": "IPY_MODEL_bf7bd7cce9274e89b47f5f7bd006ceb6"
      }
     },
     "58fae015b46e4e21af2ea925d242f0fd": {
      "model_module": "@jupyter-widgets/controls",
      "model_module_version": "2.0.0",
      "model_name": "ButtonStyleModel",
      "state": {
       "font_family": null,
       "font_size": null,
       "font_style": null,
       "font_variant": null,
       "font_weight": null,
       "text_color": null,
       "text_decoration": null
      }
     },
     "58fd5644e6114b28a8a9e72ee655ff09": {
      "model_module": "@jupyter-widgets/base",
      "model_module_version": "2.0.0",
      "model_name": "LayoutModel",
      "state": {}
     },
     "5916789a2da44b39b9724c64d2f5be49": {
      "model_module": "@jupyter-widgets/base",
      "model_module_version": "2.0.0",
      "model_name": "LayoutModel",
      "state": {}
     },
     "59218bc65ca64a10b1b4cfd38ce765d8": {
      "model_module": "@jupyter-widgets/base",
      "model_module_version": "2.0.0",
      "model_name": "LayoutModel",
      "state": {}
     },
     "5931c2b3288b4a35bf1bb897224c336d": {
      "model_module": "@jupyter-widgets/base",
      "model_module_version": "2.0.0",
      "model_name": "LayoutModel",
      "state": {}
     },
     "5960ddaec316412d911483d187e651ab": {
      "model_module": "@jupyter-widgets/controls",
      "model_module_version": "2.0.0",
      "model_name": "ButtonStyleModel",
      "state": {
       "font_family": null,
       "font_size": null,
       "font_style": null,
       "font_variant": null,
       "font_weight": null,
       "text_color": null,
       "text_decoration": null
      }
     },
     "5983ce7593944ad2991e0356adc045f7": {
      "model_module": "@jupyter-widgets/controls",
      "model_module_version": "2.0.0",
      "model_name": "VBoxModel",
      "state": {
       "children": [
        "IPY_MODEL_ea61d28c1e3f4746a9fb1cf101301a28",
        "IPY_MODEL_4375b4a33f3a45d5871a7655d8bc66e7",
        "IPY_MODEL_cd8a1e1e002f490ca6aa2ed651f269ac"
       ],
       "layout": "IPY_MODEL_d05be41fa5854e85af160e7eb4c48acb"
      }
     },
     "59a8238bce934be4a129c5a2218da0af": {
      "model_module": "@jupyter-widgets/controls",
      "model_module_version": "2.0.0",
      "model_name": "HBoxModel",
      "state": {
       "children": [
        "IPY_MODEL_c494976210e544a48afcdeedee665d53",
        "IPY_MODEL_314076ed69ec4fdbbb22dfceb97b0b54",
        "IPY_MODEL_ff59f9b8d9ee48c5a5b8fc7e18214220",
        "IPY_MODEL_a472d91a1f3f4ce799434cc756882621",
        "IPY_MODEL_4b619ff620f34c19ac4f8b219064075b"
       ],
       "layout": "IPY_MODEL_79878a5a7b794efb871d25b208456152"
      }
     },
     "5a217b805e85476eab3a287206c66064": {
      "model_module": "ipydatagrid",
      "model_module_version": "^1.2.0",
      "model_name": "VegaExprModel",
      "state": {
       "_model_module_version": "^1.2.0",
       "_view_module": "ipydatagrid",
       "_view_module_version": "^1.2.0",
       "_view_name": "VegaExprView"
      }
     },
     "5a23bb9a9550442184218d76b0dee4f6": {
      "model_module": "@jupyter-widgets/base",
      "model_module_version": "2.0.0",
      "model_name": "LayoutModel",
      "state": {}
     },
     "5a2884383c334aeaa94b6478730a53ea": {
      "model_module": "@jupyter-widgets/output",
      "model_module_version": "1.0.0",
      "model_name": "OutputModel",
      "state": {
       "layout": "IPY_MODEL_d6f1a09a97274e6a90e073851c33711b"
      }
     },
     "5a4e813b61c44f1e83d618ab45ef1965": {
      "model_module": "@jupyter-widgets/controls",
      "model_module_version": "2.0.0",
      "model_name": "ButtonModel",
      "state": {
       "description": "Redo",
       "layout": "IPY_MODEL_f5452256b3e24ceaa9eac2818d7eaad0",
       "style": "IPY_MODEL_7182cd43e78a422e9cd80e7c4601875c",
       "tooltip": null
      }
     },
     "5a80f68e05434b69b15ba03277e0e765": {
      "model_module": "@jupyter-widgets/controls",
      "model_module_version": "2.0.0",
      "model_name": "ButtonModel",
      "state": {
       "description": "Redo",
       "layout": "IPY_MODEL_22a543c5bc794faeb9dcd5345222cbef",
       "style": "IPY_MODEL_82f69a65d35b4ab5927babfc0da5a268",
       "tooltip": null
      }
     },
     "5a863a0878e140e99138c742831b5839": {
      "model_module": "@jupyter-widgets/output",
      "model_module_version": "1.0.0",
      "model_name": "OutputModel",
      "state": {
       "layout": "IPY_MODEL_709a9145181044c5bd9701b7b2f1f2ce"
      }
     },
     "5a89a9d7863a4125823b2660c7f76752": {
      "model_module": "@jupyter-widgets/base",
      "model_module_version": "2.0.0",
      "model_name": "LayoutModel",
      "state": {}
     },
     "5af5187a4807430e9eb5475da9ea9657": {
      "model_module": "@jupyter-widgets/base",
      "model_module_version": "2.0.0",
      "model_name": "LayoutModel",
      "state": {}
     },
     "5afa55e0d3a34f34874a52e5500498e4": {
      "model_module": "@jupyter-widgets/base",
      "model_module_version": "2.0.0",
      "model_name": "LayoutModel",
      "state": {}
     },
     "5b91d9b7da02497883f4ffdcd1baa8ba": {
      "model_module": "@jupyter-widgets/base",
      "model_module_version": "2.0.0",
      "model_name": "LayoutModel",
      "state": {}
     },
     "5bf1577c950a4f4e907eb2a8645320a4": {
      "model_module": "@jupyter-widgets/base",
      "model_module_version": "2.0.0",
      "model_name": "LayoutModel",
      "state": {}
     },
     "5c0e33a0c85d4d548a8227465d4745d9": {
      "model_module": "@jupyter-widgets/controls",
      "model_module_version": "2.0.0",
      "model_name": "ButtonModel",
      "state": {
       "description": "Generate Vectors",
       "layout": "IPY_MODEL_6442c7497cfc4cd79b72226081b62dd0",
       "style": "IPY_MODEL_58fae015b46e4e21af2ea925d242f0fd",
       "tooltip": null
      }
     },
     "5c17b365775444d2a28df1f3ccf129c9": {
      "model_module": "@jupyter-widgets/controls",
      "model_module_version": "2.0.0",
      "model_name": "ButtonStyleModel",
      "state": {
       "font_family": null,
       "font_size": null,
       "font_style": null,
       "font_variant": null,
       "font_weight": null,
       "text_color": null,
       "text_decoration": null
      }
     },
     "5c9dab57975a4bc5896e2870e0243d3d": {
      "model_module": "@jupyter-widgets/base",
      "model_module_version": "2.0.0",
      "model_name": "LayoutModel",
      "state": {}
     },
     "5cf00e47e50d4ff3854033464a82447d": {
      "model_module": "@jupyter-widgets/base",
      "model_module_version": "2.0.0",
      "model_name": "LayoutModel",
      "state": {}
     },
     "5d1c77fd08a04e4e8f5e40ae5c97d7b8": {
      "model_module": "@jupyter-widgets/base",
      "model_module_version": "2.0.0",
      "model_name": "LayoutModel",
      "state": {}
     },
     "5d405a0c11f84f6a8f8e24c7d434f44a": {
      "model_module": "@jupyter-widgets/output",
      "model_module_version": "1.0.0",
      "model_name": "OutputModel",
      "state": {
       "layout": "IPY_MODEL_fb42298e979b4d35a427781193d96908"
      }
     },
     "5d666c981cfd400f9f6b752ba7b79e42": {
      "model_module": "@jupyter-widgets/controls",
      "model_module_version": "2.0.0",
      "model_name": "ButtonStyleModel",
      "state": {
       "font_family": null,
       "font_size": null,
       "font_style": null,
       "font_variant": null,
       "font_weight": null,
       "text_color": null,
       "text_decoration": null
      }
     },
     "5d905d92d54d4a4ca67d66444fac9fdb": {
      "model_module": "@jupyter-widgets/controls",
      "model_module_version": "2.0.0",
      "model_name": "ButtonStyleModel",
      "state": {
       "font_family": null,
       "font_size": null,
       "font_style": null,
       "font_variant": null,
       "font_weight": null,
       "text_color": null,
       "text_decoration": null
      }
     },
     "5dac7fdd756942d9b3f1e067366bbb5a": {
      "model_module": "@jupyter-widgets/base",
      "model_module_version": "2.0.0",
      "model_name": "LayoutModel",
      "state": {
       "height": "150px"
      }
     },
     "5e3eeb048f8946298ce8dcbbd3507568": {
      "model_module": "@jupyter-widgets/controls",
      "model_module_version": "2.0.0",
      "model_name": "HBoxModel",
      "state": {
       "children": [
        "IPY_MODEL_362d641c11c743adaea1d1dfc436e61b",
        "IPY_MODEL_755e734c8e2b40de9ee4f08fa8200697",
        "IPY_MODEL_1b7a220ab48244eb82b56fe1497d08cc",
        "IPY_MODEL_b0cc3fdfa7594d86b168f58479043460",
        "IPY_MODEL_ab0a5e3fb03248babfe27c4413e4ee00"
       ],
       "layout": "IPY_MODEL_b65c3e4d425146c8898f4d24ba80bebd"
      }
     },
     "5eaa2f8c34c5401991e4a215181303e2": {
      "model_module": "@jupyter-widgets/base",
      "model_module_version": "2.0.0",
      "model_name": "LayoutModel",
      "state": {
       "height": "150px"
      }
     },
     "5eb7ba99b95f4b7294b0cd0f507ec26f": {
      "model_module": "@jupyter-widgets/base",
      "model_module_version": "2.0.0",
      "model_name": "LayoutModel",
      "state": {}
     },
     "5ebef294092a4206a52a9fb593c09127": {
      "model_module": "@jupyter-widgets/base",
      "model_module_version": "2.0.0",
      "model_name": "LayoutModel",
      "state": {}
     },
     "5f0cef7cee9e409d95dd00f9081175d9": {
      "model_module": "ipydatagrid",
      "model_module_version": "^1.2.0",
      "model_name": "TextRendererModel",
      "state": {
       "_model_module_version": "^1.2.0",
       "_view_module_version": "^1.2.0",
       "background_color": "IPY_MODEL_c8411b27dafd4a62a1c29326d233c7bd",
       "text_color": "IPY_MODEL_506901e849b445e3879cc764eef873cc"
      }
     },
     "5f1be0988551411995fc78b92c2967b3": {
      "model_module": "ipydatagrid",
      "model_module_version": "^1.2.0",
      "model_name": "DataGridModel",
      "state": {
       "_data": {
        "data": [
         {
          "0": "x2",
          "1": "m2",
          "2": "x1",
          "3": "m1",
          "4": "ux2",
          "5": "ux1",
          "6": "um1",
          "7": "um2",
          "ipydguuid": 0,
          "key": "  Variable:"
         },
         {
          "0": "m",
          "1": "kg",
          "2": "m",
          "3": "kg",
          "4": "m",
          "5": "m",
          "6": "kg",
          "7": "kg",
          "ipydguuid": 1,
          "key": " Units:"
         },
         {
          "0": "0.045",
          "1": "1.150",
          "2": "0.129",
          "3": "0.078",
          "4": "0.00125",
          "5": "0.0025",
          "6": "0.0002886751345948129",
          "7": "0.00125",
          "ipydguuid": 2,
          "key": 0
         },
         {
          "0": "0.040",
          "1": "1.189",
          "2": "0.129",
          "3": "0.078",
          "4": "0.00125",
          "5": "0.0025",
          "6": "0.0002886751345948129",
          "7": "0.00125",
          "ipydguuid": 3,
          "key": 1
         },
         {
          "0": "0.061",
          "1": "0.979",
          "2": "0.129",
          "3": "0.078",
          "4": "0.00125",
          "5": "0.0025",
          "6": "0.0002886751345948129",
          "7": "0.00125",
          "ipydguuid": 4,
          "key": 2
         }
        ],
        "fields": [
         {
          "key": null
         },
         {
          "0": null
         },
         {
          "1": null
         },
         {
          "2": null
         },
         {
          "3": null
         },
         {
          "4": null
         },
         {
          "5": null
         },
         {
          "6": null
         },
         {
          "7": null
         },
         {
          "ipydguuid": null
         }
        ],
        "schema": {
         "fields": [
          {
           "name": "key",
           "type": "string"
          },
          {
           "name": 0,
           "type": "string"
          },
          {
           "name": 1,
           "type": "string"
          },
          {
           "name": 2,
           "type": "string"
          },
          {
           "name": 3,
           "type": "string"
          },
          {
           "name": 4,
           "type": "string"
          },
          {
           "name": 5,
           "type": "string"
          },
          {
           "name": 6,
           "type": "string"
          },
          {
           "name": 7,
           "type": "string"
          },
          {
           "name": "ipydguuid",
           "type": "integer"
          }
         ],
         "pandas_version": "1.4.0",
         "primaryKey": [
          "key",
          "ipydguuid"
         ],
         "primaryKeyUuid": "ipydguuid"
        }
       },
       "_model_module_version": "^1.2.0",
       "_model_name": "DataGridModel",
       "_view_module_version": "^1.2.0",
       "auto_fit_columns": false,
       "auto_fit_params": {
        "area": "all",
        "numCols": null,
        "padding": 30
       },
       "base_column_header_size": 20,
       "base_column_size": 64,
       "base_row_header_size": 64,
       "base_row_size": 20,
       "default_renderer": "IPY_MODEL_4a1a4f7b49994439b3bde8455f1f6348",
       "editable": true,
       "header_visibility": "all",
       "layout": "IPY_MODEL_2271cf40445943cea9661c030f19ef07",
       "selection_mode": "cell"
      }
     },
     "5f202b1ded8b4a93919fc7c155d1c32e": {
      "model_module": "@jupyter-widgets/controls",
      "model_module_version": "2.0.0",
      "model_name": "ButtonModel",
      "state": {
       "description": "Undo",
       "layout": "IPY_MODEL_386f207fc9e8415982b3fde68ee4d546",
       "style": "IPY_MODEL_72d15dd51ec4429f9b88f7be01bebdb3",
       "tooltip": null
      }
     },
     "5f26128febc94abeb6b7c3bce0763d11": {
      "model_module": "@jupyter-widgets/controls",
      "model_module_version": "2.0.0",
      "model_name": "ButtonModel",
      "state": {
       "description": "Redo",
       "layout": "IPY_MODEL_5eb7ba99b95f4b7294b0cd0f507ec26f",
       "style": "IPY_MODEL_a5c10ffd512f418da00b6f6aa7a51004",
       "tooltip": null
      }
     },
     "5fc50a8790b84fc791ca375435fd869c": {
      "model_module": "@jupyter-widgets/base",
      "model_module_version": "2.0.0",
      "model_name": "LayoutModel",
      "state": {}
     },
     "6011e5a217734f8785364176818a8c0e": {
      "model_module": "@jupyter-widgets/controls",
      "model_module_version": "2.0.0",
      "model_name": "ButtonModel",
      "state": {
       "description": "Redo",
       "layout": "IPY_MODEL_df6a76cb02d14c91a1c3400ed76b62b5",
       "style": "IPY_MODEL_c728bb1b99b94354a1009ce6fe37d190",
       "tooltip": null
      }
     },
     "601aa8c3a5f04f6290b7f0a050bb34d3": {
      "model_module": "@jupyter-widgets/controls",
      "model_module_version": "2.0.0",
      "model_name": "HBoxModel",
      "state": {
       "children": [
        "IPY_MODEL_b01bcfceb68149d184a8b983860bc6d4",
        "IPY_MODEL_f20304ca62cf4fc893c951e02d9a0e4f",
        "IPY_MODEL_006a3d915515459192eb7b95c0e74935",
        "IPY_MODEL_87993044acf24906aa3ffff409e6268d",
        "IPY_MODEL_af626283b1c940d98065e8dc71e0b835"
       ],
       "layout": "IPY_MODEL_424c434346414bbeb26fd39ad6d2cd75"
      }
     },
     "609b47cd7bdb4099be023da28751c639": {
      "model_module": "@jupyter-widgets/base",
      "model_module_version": "2.0.0",
      "model_name": "LayoutModel",
      "state": {
       "height": "150px"
      }
     },
     "60a0578dad19478f8987f84bfedec490": {
      "model_module": "@jupyter-widgets/base",
      "model_module_version": "2.0.0",
      "model_name": "LayoutModel",
      "state": {}
     },
     "60bf8be74ce3428fbaf8553f70eba7fc": {
      "model_module": "@jupyter-widgets/base",
      "model_module_version": "2.0.0",
      "model_name": "LayoutModel",
      "state": {}
     },
     "60c61659bd4a4bde966e0fba98088821": {
      "model_module": "ipydatagrid",
      "model_module_version": "^1.2.0",
      "model_name": "TextRendererModel",
      "state": {
       "_model_module_version": "^1.2.0",
       "_view_module_version": "^1.2.0",
       "background_color": "IPY_MODEL_646fe9c0fe8749ffac846aefa4dda4a7",
       "text_color": "IPY_MODEL_f3adfbe1d7494d379bb25e6a4e8c43c2"
      }
     },
     "610f7d12c82e448788f3d8607253bc5d": {
      "model_module": "@jupyter-widgets/controls",
      "model_module_version": "2.0.0",
      "model_name": "VBoxModel",
      "state": {
       "children": [
        "IPY_MODEL_b4857030b8ec4a4680b74402daeab55a",
        "IPY_MODEL_dd4a1ca788ca46fcaf0db32fcd425cf7",
        "IPY_MODEL_eb2a2f5754884b8a9267f269a1caea93"
       ],
       "layout": "IPY_MODEL_c88e5a12ad284417ad1cae9e55303201"
      }
     },
     "611136432fbe4774a2bdb212a554e0cb": {
      "model_module": "@jupyter-widgets/base",
      "model_module_version": "2.0.0",
      "model_name": "LayoutModel",
      "state": {
       "height": "150px"
      }
     },
     "61207791a6944cb3b8d485f7e297fca3": {
      "model_module": "@jupyter-widgets/controls",
      "model_module_version": "2.0.0",
      "model_name": "ButtonStyleModel",
      "state": {
       "font_family": null,
       "font_size": null,
       "font_style": null,
       "font_variant": null,
       "font_weight": null,
       "text_color": null,
       "text_decoration": null
      }
     },
     "61b20dfb90c14e3abec876a7933569de": {
      "model_module": "@jupyter-widgets/base",
      "model_module_version": "2.0.0",
      "model_name": "LayoutModel",
      "state": {}
     },
     "61d62a7db95e46ca9c12ebd6d5328baa": {
      "model_module": "@jupyter-widgets/base",
      "model_module_version": "2.0.0",
      "model_name": "LayoutModel",
      "state": {}
     },
     "61ea14942e85455ba5e9d08f51cd66ff": {
      "model_module": "@jupyter-widgets/base",
      "model_module_version": "2.0.0",
      "model_name": "LayoutModel",
      "state": {}
     },
     "62199613a23a43729ddbf74754751322": {
      "model_module": "@jupyter-widgets/controls",
      "model_module_version": "2.0.0",
      "model_name": "ButtonModel",
      "state": {
       "description": "Add Column",
       "layout": "IPY_MODEL_97508d782944477993a0cab9f75af063",
       "style": "IPY_MODEL_a162c29354b0496182958d5db224e82c",
       "tooltip": null
      }
     },
     "62227b3e375c4246be14ef7203f514d4": {
      "model_module": "ipydatagrid",
      "model_module_version": "^1.2.0",
      "model_name": "VegaExprModel",
      "state": {
       "_model_module_version": "^1.2.0",
       "_view_module": "ipydatagrid",
       "_view_module_version": "^1.2.0",
       "_view_name": "VegaExprView"
      }
     },
     "6227667b419a4d3aa5974699a7944397": {
      "model_module": "@jupyter-widgets/base",
      "model_module_version": "2.0.0",
      "model_name": "LayoutModel",
      "state": {}
     },
     "625ee7d8505e4b948afaf1aefc610ed8": {
      "model_module": "@jupyter-widgets/base",
      "model_module_version": "2.0.0",
      "model_name": "LayoutModel",
      "state": {}
     },
     "62660683c79744798ff4777cd7077cd8": {
      "model_module": "@jupyter-widgets/controls",
      "model_module_version": "2.0.0",
      "model_name": "ButtonModel",
      "state": {
       "description": "Add Column",
       "layout": "IPY_MODEL_727e4e14fe184324959160760d4c9f88",
       "style": "IPY_MODEL_ae2ad2f7ad2b4fc397e791b8826e7054",
       "tooltip": null
      }
     },
     "62834f77378445d29025ca3eb56163eb": {
      "model_module": "ipydatagrid",
      "model_module_version": "^1.2.0",
      "model_name": "DataGridModel",
      "state": {
       "_data": {
        "data": [
         {
          "0": "x2",
          "1": "m2",
          "2": "x1",
          "3": "m1",
          "4": "ux2",
          "5": "ux1",
          "6": "um1",
          "7": "um2",
          "ipydguuid": 0,
          "key": "  Variable:"
         },
         {
          "0": "m",
          "1": "kg",
          "2": "m",
          "3": "kg",
          "4": "m",
          "5": "m",
          "6": "kg",
          "7": "kg",
          "ipydguuid": 1,
          "key": " Units:"
         },
         {
          "0": "0.058",
          "1": "0.898",
          "2": "0.129",
          "3": "0.078",
          "4": "0.00125",
          "5": "0.0025",
          "6": "0.0002886751345948129",
          "7": "0.00125",
          "ipydguuid": 2,
          "key": 0
         },
         {
          "0": "0.057",
          "1": "0.902",
          "2": "0.129",
          "3": "0.078",
          "4": "0.00125",
          "5": "0.0025",
          "6": "0.0002886751345948129",
          "7": "0.00125",
          "ipydguuid": 3,
          "key": 1
         },
         {
          "0": "0.057",
          "1": "0.903",
          "2": "0.129",
          "3": "0.078",
          "4": "0.00125",
          "5": "0.0025",
          "6": "0.0002886751345948129",
          "7": "0.00125",
          "ipydguuid": 4,
          "key": 2
         }
        ],
        "fields": [
         {
          "key": null
         },
         {
          "0": null
         },
         {
          "1": null
         },
         {
          "2": null
         },
         {
          "3": null
         },
         {
          "4": null
         },
         {
          "5": null
         },
         {
          "6": null
         },
         {
          "7": null
         },
         {
          "ipydguuid": null
         }
        ],
        "schema": {
         "fields": [
          {
           "name": "key",
           "type": "string"
          },
          {
           "name": 0,
           "type": "string"
          },
          {
           "name": 1,
           "type": "string"
          },
          {
           "name": 2,
           "type": "string"
          },
          {
           "name": 3,
           "type": "string"
          },
          {
           "name": 4,
           "type": "string"
          },
          {
           "name": 5,
           "type": "string"
          },
          {
           "name": 6,
           "type": "string"
          },
          {
           "name": 7,
           "type": "string"
          },
          {
           "name": "ipydguuid",
           "type": "integer"
          }
         ],
         "pandas_version": "1.4.0",
         "primaryKey": [
          "key",
          "ipydguuid"
         ],
         "primaryKeyUuid": "ipydguuid"
        }
       },
       "_model_module_version": "^1.2.0",
       "_model_name": "DataGridModel",
       "_view_module_version": "^1.2.0",
       "auto_fit_columns": false,
       "auto_fit_params": {
        "area": "all",
        "numCols": null,
        "padding": 30
       },
       "base_column_header_size": 20,
       "base_column_size": 64,
       "base_row_header_size": 64,
       "base_row_size": 20,
       "default_renderer": "IPY_MODEL_036b17d5b06941c5845ff42236783fc8",
       "editable": true,
       "header_visibility": "all",
       "layout": "IPY_MODEL_33cd594efc54474f8a70abbac40181a0",
       "selection_mode": "cell"
      }
     },
     "6297f5d71df04fd7b01de1b731ab3e36": {
      "model_module": "@jupyter-widgets/base",
      "model_module_version": "2.0.0",
      "model_name": "LayoutModel",
      "state": {
       "height": "150px"
      }
     },
     "62c5cf620b5b4b3b85b424c106df3ace": {
      "model_module": "ipydatagrid",
      "model_module_version": "^1.2.0",
      "model_name": "VegaExprModel",
      "state": {
       "_model_module_version": "^1.2.0",
       "_view_module": "ipydatagrid",
       "_view_module_version": "^1.2.0",
       "_view_name": "VegaExprView"
      }
     },
     "63256e255d6842ba933c8b0c3c72cfd1": {
      "model_module": "@jupyter-widgets/controls",
      "model_module_version": "2.0.0",
      "model_name": "ButtonStyleModel",
      "state": {
       "font_family": null,
       "font_size": null,
       "font_style": null,
       "font_variant": null,
       "font_weight": null,
       "text_color": null,
       "text_decoration": null
      }
     },
     "634eedc72eab431ba1277c426a8f9834": {
      "model_module": "@jupyter-widgets/controls",
      "model_module_version": "2.0.0",
      "model_name": "ButtonModel",
      "state": {
       "description": "Add Column",
       "layout": "IPY_MODEL_fbb1ace5d7c345118df4e0229031b27f",
       "style": "IPY_MODEL_d1088d79776c450c8d30fbc15ac11850",
       "tooltip": null
      }
     },
     "63601183e3854403bc0b92430a696a4c": {
      "model_module": "@jupyter-widgets/controls",
      "model_module_version": "2.0.0",
      "model_name": "ButtonStyleModel",
      "state": {
       "font_family": null,
       "font_size": null,
       "font_style": null,
       "font_variant": null,
       "font_weight": null,
       "text_color": null,
       "text_decoration": null
      }
     },
     "6364df52d0ad4574bdc5509b5b1307dc": {
      "model_module": "@jupyter-widgets/output",
      "model_module_version": "1.0.0",
      "model_name": "OutputModel",
      "state": {
       "layout": "IPY_MODEL_ff487c375bd94f9499b1ec98f78997c9"
      }
     },
     "63c40cf1f3d1454592c774cb9be12f93": {
      "model_module": "@jupyter-widgets/controls",
      "model_module_version": "2.0.0",
      "model_name": "ButtonModel",
      "state": {
       "description": "Undo",
       "layout": "IPY_MODEL_6e843b65213e4dafab9d9c7c18cf1682",
       "style": "IPY_MODEL_1b6e500ed4764844b614ded3ac959e3d",
       "tooltip": null
      }
     },
     "63e2ff1bd7a7499dab5f27d133404a7d": {
      "model_module": "@jupyter-widgets/controls",
      "model_module_version": "2.0.0",
      "model_name": "VBoxModel",
      "state": {
       "children": [
        "IPY_MODEL_24b08b893bc345cdbb1bc636ec2cca33",
        "IPY_MODEL_e81ef582bcb64823b44a1568dc375f7e",
        "IPY_MODEL_d30e000d9c7a4495bd0252295aafac44"
       ],
       "layout": "IPY_MODEL_bf023891ff104b71aec2e8e3231941ad"
      }
     },
     "63f1b3cb199b4ea5acd012f1e656afde": {
      "model_module": "@jupyter-widgets/base",
      "model_module_version": "2.0.0",
      "model_name": "LayoutModel",
      "state": {}
     },
     "6442c7497cfc4cd79b72226081b62dd0": {
      "model_module": "@jupyter-widgets/base",
      "model_module_version": "2.0.0",
      "model_name": "LayoutModel",
      "state": {}
     },
     "646fe9c0fe8749ffac846aefa4dda4a7": {
      "model_module": "ipydatagrid",
      "model_module_version": "^1.2.0",
      "model_name": "VegaExprModel",
      "state": {
       "_model_module_version": "^1.2.0",
       "_view_module": "ipydatagrid",
       "_view_module_version": "^1.2.0",
       "_view_name": "VegaExprView"
      }
     },
     "65016b98885a4515a798f3c7e9b965a5": {
      "model_module": "ipydatagrid",
      "model_module_version": "^1.2.0",
      "model_name": "VegaExprModel",
      "state": {
       "_model_module_version": "^1.2.0",
       "_view_module": "ipydatagrid",
       "_view_module_version": "^1.2.0",
       "_view_name": "VegaExprView"
      }
     },
     "651b03ed594946daa555232ef13bef6a": {
      "model_module": "@jupyter-widgets/base",
      "model_module_version": "2.0.0",
      "model_name": "LayoutModel",
      "state": {}
     },
     "65347c7a416d49cbaefa69b287b14034": {
      "model_module": "@jupyter-widgets/controls",
      "model_module_version": "2.0.0",
      "model_name": "ButtonModel",
      "state": {
       "description": "Add Row",
       "layout": "IPY_MODEL_9393e1ecf61b49a689033e3594e4b041",
       "style": "IPY_MODEL_11434e0d84c245768f196d13a04748b9",
       "tooltip": null
      }
     },
     "65538334512a49189a2a52906ba50638": {
      "model_module": "@jupyter-widgets/controls",
      "model_module_version": "2.0.0",
      "model_name": "ButtonStyleModel",
      "state": {
       "font_family": null,
       "font_size": null,
       "font_style": null,
       "font_variant": null,
       "font_weight": null,
       "text_color": null,
       "text_decoration": null
      }
     },
     "6560a3b0364c4fad9f48325e5b8eca0b": {
      "model_module": "@jupyter-widgets/controls",
      "model_module_version": "2.0.0",
      "model_name": "ButtonModel",
      "state": {
       "description": "Generate Vectors",
       "layout": "IPY_MODEL_68350a3a627243ff852de520e059d719",
       "style": "IPY_MODEL_ccaa8ae35c354021a3e6588ce4e2447f",
       "tooltip": null
      }
     },
     "65be9b51968f4f7fbac71b19f6fd186e": {
      "model_module": "@jupyter-widgets/base",
      "model_module_version": "2.0.0",
      "model_name": "LayoutModel",
      "state": {}
     },
     "65d3ce694cc9416295146473285cce99": {
      "model_module": "@jupyter-widgets/controls",
      "model_module_version": "2.0.0",
      "model_name": "ButtonStyleModel",
      "state": {
       "font_family": null,
       "font_size": null,
       "font_style": null,
       "font_variant": null,
       "font_weight": null,
       "text_color": null,
       "text_decoration": null
      }
     },
     "65fd7032296c446ca47c10b43c12506b": {
      "model_module": "@jupyter-widgets/controls",
      "model_module_version": "2.0.0",
      "model_name": "ButtonStyleModel",
      "state": {
       "font_family": null,
       "font_size": null,
       "font_style": null,
       "font_variant": null,
       "font_weight": null,
       "text_color": null,
       "text_decoration": null
      }
     },
     "660f5aed1dc4406996bbe053c486a89f": {
      "model_module": "@jupyter-widgets/base",
      "model_module_version": "2.0.0",
      "model_name": "LayoutModel",
      "state": {}
     },
     "6665e1a664e3477c86643058b3e3d534": {
      "model_module": "ipydatagrid",
      "model_module_version": "^1.2.0",
      "model_name": "VegaExprModel",
      "state": {
       "_model_module_version": "^1.2.0",
       "_view_module": "ipydatagrid",
       "_view_module_version": "^1.2.0",
       "_view_name": "VegaExprView"
      }
     },
     "666ff74acc334cbc8f33a56ff84cb8e4": {
      "model_module": "@jupyter-widgets/base",
      "model_module_version": "2.0.0",
      "model_name": "LayoutModel",
      "state": {}
     },
     "6674102521624221bba7a3c7132a9330": {
      "model_module": "ipydatagrid",
      "model_module_version": "^1.2.0",
      "model_name": "VegaExprModel",
      "state": {
       "_model_module_version": "^1.2.0",
       "_view_module": "ipydatagrid",
       "_view_module_version": "^1.2.0",
       "_view_name": "VegaExprView"
      }
     },
     "6681c4c1c3cd4167bef24ca3ee94fe12": {
      "model_module": "ipydatagrid",
      "model_module_version": "^1.2.0",
      "model_name": "VegaExprModel",
      "state": {
       "_model_module_version": "^1.2.0",
       "_view_module": "ipydatagrid",
       "_view_module_version": "^1.2.0",
       "_view_name": "VegaExprView"
      }
     },
     "6694f575bd2d48279685373d28565754": {
      "model_module": "@jupyter-widgets/controls",
      "model_module_version": "2.0.0",
      "model_name": "HBoxModel",
      "state": {
       "children": [
        "IPY_MODEL_2d3b0c1d2dcd4ce8b405835d6d603ddf",
        "IPY_MODEL_81f2e953c4264b8891634c49d85bea41",
        "IPY_MODEL_812601f0cf524ad0a317c0fe632d23f8",
        "IPY_MODEL_c3f4601127a441c6910c2a0dcfeca805",
        "IPY_MODEL_a62099ab88a84198ac4fc0a4323af37e"
       ],
       "layout": "IPY_MODEL_e49eeb7f705f4889ac94a8896ef40869"
      }
     },
     "6710343e2cbd49269d949091d3269436": {
      "model_module": "@jupyter-widgets/base",
      "model_module_version": "2.0.0",
      "model_name": "LayoutModel",
      "state": {}
     },
     "67116622df394563aab0f65969559a99": {
      "model_module": "@jupyter-widgets/controls",
      "model_module_version": "2.0.0",
      "model_name": "ButtonStyleModel",
      "state": {
       "font_family": null,
       "font_size": null,
       "font_style": null,
       "font_variant": null,
       "font_weight": null,
       "text_color": null,
       "text_decoration": null
      }
     },
     "67188dfa0ec74ec1ab43a2311ea93a76": {
      "model_module": "@jupyter-widgets/base",
      "model_module_version": "2.0.0",
      "model_name": "LayoutModel",
      "state": {}
     },
     "67404cbca3bf4992b3b194b8116a5856": {
      "model_module": "@jupyter-widgets/base",
      "model_module_version": "2.0.0",
      "model_name": "LayoutModel",
      "state": {}
     },
     "67e79b1ea533408abae8c013dfe70e70": {
      "model_module": "@jupyter-widgets/base",
      "model_module_version": "2.0.0",
      "model_name": "LayoutModel",
      "state": {}
     },
     "67f55125894a4fe88a12f9c4d8f885c1": {
      "model_module": "@jupyter-widgets/controls",
      "model_module_version": "2.0.0",
      "model_name": "ButtonStyleModel",
      "state": {
       "font_family": null,
       "font_size": null,
       "font_style": null,
       "font_variant": null,
       "font_weight": null,
       "text_color": null,
       "text_decoration": null
      }
     },
     "6832d11239c54703b54df489303e8ae2": {
      "model_module": "@jupyter-widgets/controls",
      "model_module_version": "2.0.0",
      "model_name": "ButtonStyleModel",
      "state": {
       "font_family": null,
       "font_size": null,
       "font_style": null,
       "font_variant": null,
       "font_weight": null,
       "text_color": null,
       "text_decoration": null
      }
     },
     "68350a3a627243ff852de520e059d719": {
      "model_module": "@jupyter-widgets/base",
      "model_module_version": "2.0.0",
      "model_name": "LayoutModel",
      "state": {}
     },
     "685da2c2ac954a6aa3ef231601c9a1b7": {
      "model_module": "ipydatagrid",
      "model_module_version": "^1.2.0",
      "model_name": "DataGridModel",
      "state": {
       "_data": {
        "data": [
         {
          "0": "x2",
          "1": "m2",
          "2": "x1",
          "3": "m1",
          "4": "ux2",
          "5": "ux1",
          "6": "um1",
          "7": "um2",
          "ipydguuid": 0,
          "key": "  Variable:"
         },
         {
          "0": "m",
          "1": "kg",
          "2": "m",
          "3": "kg",
          "4": "m",
          "5": "m",
          "6": "kg",
          "7": "kg",
          "ipydguuid": 1,
          "key": " Units:"
         },
         {
          "0": "0.045",
          "1": "1.150",
          "2": "0.129",
          "3": "0.078",
          "4": "0.000625",
          "5": "0.00125",
          "6": "0.0002886751345948129",
          "7": "0.000625",
          "ipydguuid": 2,
          "key": 0
         },
         {
          "0": "0.040",
          "1": "1.189",
          "2": "0.129",
          "3": "0.078",
          "4": "0.000625",
          "5": "0.00125",
          "6": "0.0002886751345948129",
          "7": "0.000625",
          "ipydguuid": 3,
          "key": 1
         },
         {
          "0": "0.061",
          "1": "0.979",
          "2": "0.129",
          "3": "0.078",
          "4": "0.000625",
          "5": "0.00125",
          "6": "0.0002886751345948129",
          "7": "0.000625",
          "ipydguuid": 4,
          "key": 2
         }
        ],
        "fields": [
         {
          "key": null
         },
         {
          "0": null
         },
         {
          "1": null
         },
         {
          "2": null
         },
         {
          "3": null
         },
         {
          "4": null
         },
         {
          "5": null
         },
         {
          "6": null
         },
         {
          "7": null
         },
         {
          "ipydguuid": null
         }
        ],
        "schema": {
         "fields": [
          {
           "name": "key",
           "type": "string"
          },
          {
           "name": 0,
           "type": "string"
          },
          {
           "name": 1,
           "type": "string"
          },
          {
           "name": 2,
           "type": "string"
          },
          {
           "name": 3,
           "type": "string"
          },
          {
           "name": 4,
           "type": "string"
          },
          {
           "name": 5,
           "type": "string"
          },
          {
           "name": 6,
           "type": "string"
          },
          {
           "name": 7,
           "type": "string"
          },
          {
           "name": "ipydguuid",
           "type": "integer"
          }
         ],
         "pandas_version": "1.4.0",
         "primaryKey": [
          "key",
          "ipydguuid"
         ],
         "primaryKeyUuid": "ipydguuid"
        }
       },
       "_model_module_version": "^1.2.0",
       "_model_name": "DataGridModel",
       "_view_module_version": "^1.2.0",
       "_visible_rows": [
        0,
        1,
        2,
        3,
        4
       ],
       "auto_fit_columns": false,
       "auto_fit_params": {
        "area": "all",
        "numCols": null,
        "padding": 30
       },
       "base_column_header_size": 20,
       "base_column_size": 64,
       "base_row_header_size": 64,
       "base_row_size": 20,
       "default_renderer": "IPY_MODEL_7391a38e34714356a9ae469da929e6fd",
       "editable": true,
       "header_visibility": "all",
       "layout": "IPY_MODEL_ba5261cb7abf44e283438037b8e0c741",
       "selection_mode": "cell",
       "selections": [
        {
         "c1": 0,
         "c2": 0,
         "r1": 1,
         "r2": 1
        }
       ]
      }
     },
     "68b31451481a413a8fa6f2a493b43132": {
      "model_module": "@jupyter-widgets/controls",
      "model_module_version": "2.0.0",
      "model_name": "ButtonStyleModel",
      "state": {
       "font_family": null,
       "font_size": null,
       "font_style": null,
       "font_variant": null,
       "font_weight": null,
       "text_color": null,
       "text_decoration": null
      }
     },
     "68de95efcc6d43aea08006cab06fd976": {
      "model_module": "@jupyter-widgets/controls",
      "model_module_version": "2.0.0",
      "model_name": "ButtonModel",
      "state": {
       "description": "Add Column",
       "layout": "IPY_MODEL_e12a7dd0c73a4c72b15822a17312b044",
       "style": "IPY_MODEL_431f3ce3fe4b4acea045c32fbc30e526",
       "tooltip": null
      }
     },
     "68e08473980e48b7889965217ee5d476": {
      "model_module": "ipydatagrid",
      "model_module_version": "^1.2.0",
      "model_name": "TextRendererModel",
      "state": {
       "_model_module_version": "^1.2.0",
       "_view_module_version": "^1.2.0",
       "background_color": "IPY_MODEL_beeaac5df4444cd688e45ac777d8b670",
       "text_color": "IPY_MODEL_a43a7fb735eb4f42ad8aabe1dc72d68f"
      }
     },
     "6924449a8bf545ce8ee8f539004d5f1a": {
      "model_module": "@jupyter-widgets/controls",
      "model_module_version": "2.0.0",
      "model_name": "HBoxModel",
      "state": {
       "children": [
        "IPY_MODEL_e7f8a09c53074fcfbefb75b454923700",
        "IPY_MODEL_e19804232c6a47c4baa9be50fd317c54",
        "IPY_MODEL_b515345fcc1e43a894f8a41614727af5",
        "IPY_MODEL_62660683c79744798ff4777cd7077cd8",
        "IPY_MODEL_70c270e7585347a386243d05f88a00bf"
       ],
       "layout": "IPY_MODEL_60a0578dad19478f8987f84bfedec490"
      }
     },
     "6a0bd4cbca0446c88f487886270d9fc6": {
      "model_module": "@jupyter-widgets/controls",
      "model_module_version": "2.0.0",
      "model_name": "ButtonStyleModel",
      "state": {
       "font_family": null,
       "font_size": null,
       "font_style": null,
       "font_variant": null,
       "font_weight": null,
       "text_color": null,
       "text_decoration": null
      }
     },
     "6a12cead61c34f20b10f64bcbac6a7e6": {
      "model_module": "@jupyter-widgets/controls",
      "model_module_version": "2.0.0",
      "model_name": "ButtonStyleModel",
      "state": {
       "font_family": null,
       "font_size": null,
       "font_style": null,
       "font_variant": null,
       "font_weight": null,
       "text_color": null,
       "text_decoration": null
      }
     },
     "6abf86243da24765a675319df07802b2": {
      "model_module": "@jupyter-widgets/controls",
      "model_module_version": "2.0.0",
      "model_name": "ButtonModel",
      "state": {
       "description": "Add Column",
       "layout": "IPY_MODEL_23de8a20f566415b9ca19dffaaa36c94",
       "style": "IPY_MODEL_5852507f7cd647ff88275a303dea88c4",
       "tooltip": null
      }
     },
     "6aed02d30b774d76a14ca96ac64d5a97": {
      "model_module": "@jupyter-widgets/controls",
      "model_module_version": "2.0.0",
      "model_name": "ButtonStyleModel",
      "state": {
       "font_family": null,
       "font_size": null,
       "font_style": null,
       "font_variant": null,
       "font_weight": null,
       "text_color": null,
       "text_decoration": null
      }
     },
     "6b363861012c4f999432375e724ebf66": {
      "model_module": "@jupyter-widgets/base",
      "model_module_version": "2.0.0",
      "model_name": "LayoutModel",
      "state": {}
     },
     "6b61e53dde5a408495777a8292e2d2b8": {
      "model_module": "ipydatagrid",
      "model_module_version": "^1.2.0",
      "model_name": "DataGridModel",
      "state": {
       "_data": {
        "data": [
         {
          "0": "x2",
          "1": "m2",
          "2": "x1",
          "3": "m1",
          "4": "ux2",
          "5": "ux1",
          "6": "um1",
          "7": "um2",
          "ipydguuid": 0,
          "key": "  Variable:"
         },
         {
          "0": "m",
          "1": "kg",
          "2": "m",
          "3": "kg",
          "4": "m",
          "5": "m",
          "6": "kg",
          "7": "kg",
          "ipydguuid": 1,
          "key": " Units:"
         },
         {
          "0": "0.070",
          "1": "0.762",
          "2": "0.129",
          "3": "0.078",
          "4": "0.00125",
          "5": "0.0025",
          "6": "0.0002886751345948129",
          "7": "0.00125",
          "ipydguuid": 2,
          "key": 0
         },
         {
          "0": "0.070",
          "1": "0.825",
          "2": "0.129",
          "3": "0.078",
          "4": "0.00125",
          "5": "0.0025",
          "6": "0.0002886751345948129",
          "7": "0.00125",
          "ipydguuid": 3,
          "key": 1
         },
         {
          "0": "0.057",
          "1": "0.903",
          "2": "0.129",
          "3": "0.078",
          "4": "0.00125",
          "5": "0.0025",
          "6": "0.0002886751345948129",
          "7": "0.00125",
          "ipydguuid": 4,
          "key": 2
         }
        ],
        "fields": [
         {
          "key": null
         },
         {
          "0": null
         },
         {
          "1": null
         },
         {
          "2": null
         },
         {
          "3": null
         },
         {
          "4": null
         },
         {
          "5": null
         },
         {
          "6": null
         },
         {
          "7": null
         },
         {
          "ipydguuid": null
         }
        ],
        "schema": {
         "fields": [
          {
           "name": "key",
           "type": "string"
          },
          {
           "name": 0,
           "type": "string"
          },
          {
           "name": 1,
           "type": "string"
          },
          {
           "name": 2,
           "type": "string"
          },
          {
           "name": 3,
           "type": "string"
          },
          {
           "name": 4,
           "type": "string"
          },
          {
           "name": 5,
           "type": "string"
          },
          {
           "name": 6,
           "type": "string"
          },
          {
           "name": 7,
           "type": "string"
          },
          {
           "name": "ipydguuid",
           "type": "integer"
          }
         ],
         "pandas_version": "1.4.0",
         "primaryKey": [
          "key",
          "ipydguuid"
         ],
         "primaryKeyUuid": "ipydguuid"
        }
       },
       "_model_module_version": "^1.2.0",
       "_model_name": "DataGridModel",
       "_view_module_version": "^1.2.0",
       "_visible_rows": [
        0,
        1,
        2,
        3,
        4
       ],
       "auto_fit_columns": false,
       "auto_fit_params": {
        "area": "all",
        "numCols": null,
        "padding": 30
       },
       "base_column_header_size": 20,
       "base_column_size": 64,
       "base_row_header_size": 64,
       "base_row_size": 20,
       "default_renderer": "IPY_MODEL_8bf039234adb466bb455b2a2dd1c3b02",
       "editable": true,
       "header_visibility": "all",
       "layout": "IPY_MODEL_fe480cab30b947afb096e7bd036ca8b7",
       "selection_mode": "cell",
       "selections": [
        {
         "c1": 0,
         "c2": 0,
         "r1": 4,
         "r2": 4
        }
       ]
      }
     },
     "6b69f05d8eb54b9fa045b7567b4d6bd8": {
      "model_module": "@jupyter-widgets/controls",
      "model_module_version": "2.0.0",
      "model_name": "ButtonStyleModel",
      "state": {
       "font_family": null,
       "font_size": null,
       "font_style": null,
       "font_variant": null,
       "font_weight": null,
       "text_color": null,
       "text_decoration": null
      }
     },
     "6bacc353bbb84197af50e6c05c54c16d": {
      "model_module": "@jupyter-widgets/base",
      "model_module_version": "2.0.0",
      "model_name": "LayoutModel",
      "state": {}
     },
     "6bcb9ba021fe4f129b58e48d2796d104": {
      "model_module": "@jupyter-widgets/output",
      "model_module_version": "1.0.0",
      "model_name": "OutputModel",
      "state": {
       "layout": "IPY_MODEL_c3634e35846b49fa91b44d4752c46934"
      }
     },
     "6c0500da48db4930b30ac747424ee4d1": {
      "model_module": "@jupyter-widgets/controls",
      "model_module_version": "2.0.0",
      "model_name": "ButtonStyleModel",
      "state": {
       "font_family": null,
       "font_size": null,
       "font_style": null,
       "font_variant": null,
       "font_weight": null,
       "text_color": null,
       "text_decoration": null
      }
     },
     "6c0fde0cef13419a82a373247c2a230b": {
      "model_module": "@jupyter-widgets/base",
      "model_module_version": "2.0.0",
      "model_name": "LayoutModel",
      "state": {}
     },
     "6c2c8d7174314e9f91d8e363819749db": {
      "model_module": "@jupyter-widgets/base",
      "model_module_version": "2.0.0",
      "model_name": "LayoutModel",
      "state": {}
     },
     "6c582caf76ea4d6798ecf8f6e1d19bb1": {
      "model_module": "@jupyter-widgets/base",
      "model_module_version": "2.0.0",
      "model_name": "LayoutModel",
      "state": {}
     },
     "6d3f49fb7d514682b410065582974d23": {
      "model_module": "@jupyter-widgets/controls",
      "model_module_version": "2.0.0",
      "model_name": "ButtonStyleModel",
      "state": {
       "font_family": null,
       "font_size": null,
       "font_style": null,
       "font_variant": null,
       "font_weight": null,
       "text_color": null,
       "text_decoration": null
      }
     },
     "6d4d508c9c624198a2bcdd038df5820c": {
      "model_module": "@jupyter-widgets/controls",
      "model_module_version": "2.0.0",
      "model_name": "ButtonStyleModel",
      "state": {
       "font_family": null,
       "font_size": null,
       "font_style": null,
       "font_variant": null,
       "font_weight": null,
       "text_color": null,
       "text_decoration": null
      }
     },
     "6dc5cd1d74d54f4c890948f8a97eb774": {
      "model_module": "@jupyter-widgets/base",
      "model_module_version": "2.0.0",
      "model_name": "LayoutModel",
      "state": {}
     },
     "6e034b3c3b354231a4049cdb6e1c85e9": {
      "model_module": "@jupyter-widgets/controls",
      "model_module_version": "2.0.0",
      "model_name": "ButtonModel",
      "state": {
       "description": "Undo",
       "layout": "IPY_MODEL_95f549a977e3471aa1182f9a7f4beba1",
       "style": "IPY_MODEL_8bec535f961a49c3b3f1973cb68b412d",
       "tooltip": null
      }
     },
     "6e04b444077042bcb0e5cf944a239043": {
      "model_module": "@jupyter-widgets/controls",
      "model_module_version": "2.0.0",
      "model_name": "ButtonStyleModel",
      "state": {
       "font_family": null,
       "font_size": null,
       "font_style": null,
       "font_variant": null,
       "font_weight": null,
       "text_color": null,
       "text_decoration": null
      }
     },
     "6e138d260f844d39ba97ca7f229faf49": {
      "model_module": "@jupyter-widgets/base",
      "model_module_version": "2.0.0",
      "model_name": "LayoutModel",
      "state": {}
     },
     "6e7721875b13441c8df4358b62af9591": {
      "model_module": "@jupyter-widgets/controls",
      "model_module_version": "2.0.0",
      "model_name": "ButtonStyleModel",
      "state": {
       "font_family": null,
       "font_size": null,
       "font_style": null,
       "font_variant": null,
       "font_weight": null,
       "text_color": null,
       "text_decoration": null
      }
     },
     "6e7d5416b2a0472caabe56d5cac496ac": {
      "model_module": "ipydatagrid",
      "model_module_version": "^1.2.0",
      "model_name": "TextRendererModel",
      "state": {
       "_model_module_version": "^1.2.0",
       "_view_module_version": "^1.2.0",
       "background_color": "IPY_MODEL_c5abf69448314cbe89fdef3bbc94c836",
       "text_color": "IPY_MODEL_c4944bf6a6c04d32a9ab23db3f4ca694"
      }
     },
     "6e843b65213e4dafab9d9c7c18cf1682": {
      "model_module": "@jupyter-widgets/base",
      "model_module_version": "2.0.0",
      "model_name": "LayoutModel",
      "state": {}
     },
     "6e8c3afae87e4bc6a3deb5ef6dd2aa94": {
      "model_module": "ipydatagrid",
      "model_module_version": "^1.2.0",
      "model_name": "TextRendererModel",
      "state": {
       "_model_module_version": "^1.2.0",
       "_view_module_version": "^1.2.0",
       "background_color": "IPY_MODEL_28455e42949a4e63a9456c50211dc1c6",
       "text_color": "IPY_MODEL_e06d80ded09d4dc694a7d9374fd34ec8"
      }
     },
     "6eb7d5030b7242a18975cd335e6587cd": {
      "model_module": "@jupyter-widgets/base",
      "model_module_version": "2.0.0",
      "model_name": "LayoutModel",
      "state": {}
     },
     "6f60111771924e38a43e3bb08a0b255c": {
      "model_module": "@jupyter-widgets/controls",
      "model_module_version": "2.0.0",
      "model_name": "ButtonModel",
      "state": {
       "description": "Add Row",
       "layout": "IPY_MODEL_ee5880891a934d03920cda3ca4c2ae76",
       "style": "IPY_MODEL_0b06c5f55f0b4e809c687b76cac66814",
       "tooltip": null
      }
     },
     "6fa4daa5df6c4c289f5e398eb45db7b2": {
      "model_module": "@jupyter-widgets/controls",
      "model_module_version": "2.0.0",
      "model_name": "ButtonStyleModel",
      "state": {
       "font_family": null,
       "font_size": null,
       "font_style": null,
       "font_variant": null,
       "font_weight": null,
       "text_color": null,
       "text_decoration": null
      }
     },
     "6fb6bf9fb1a34d298936ea06179ed458": {
      "model_module": "@jupyter-widgets/base",
      "model_module_version": "2.0.0",
      "model_name": "LayoutModel",
      "state": {}
     },
     "703b932d57be496887787937abad8c61": {
      "model_module": "@jupyter-widgets/controls",
      "model_module_version": "2.0.0",
      "model_name": "ButtonModel",
      "state": {
       "description": "Generate Vectors",
       "layout": "IPY_MODEL_9d6b5cc066f5406eabe49025b1f0da15",
       "style": "IPY_MODEL_a921f8d56ef449909d906435714d7400",
       "tooltip": null
      }
     },
     "704c423ee2ae4afabad57fce901a0a9f": {
      "model_module": "@jupyter-widgets/controls",
      "model_module_version": "2.0.0",
      "model_name": "ButtonStyleModel",
      "state": {
       "font_family": null,
       "font_size": null,
       "font_style": null,
       "font_variant": null,
       "font_weight": null,
       "text_color": null,
       "text_decoration": null
      }
     },
     "70880e3547cd42a9bc19522ab52f09c6": {
      "model_module": "@jupyter-widgets/base",
      "model_module_version": "2.0.0",
      "model_name": "LayoutModel",
      "state": {}
     },
     "7091a921b00047b690913a77d10814c3": {
      "model_module": "@jupyter-widgets/controls",
      "model_module_version": "2.0.0",
      "model_name": "ButtonModel",
      "state": {
       "description": "Add Row",
       "layout": "IPY_MODEL_6c582caf76ea4d6798ecf8f6e1d19bb1",
       "style": "IPY_MODEL_351119843c904317944377053d3b5f58",
       "tooltip": null
      }
     },
     "709a9145181044c5bd9701b7b2f1f2ce": {
      "model_module": "@jupyter-widgets/base",
      "model_module_version": "2.0.0",
      "model_name": "LayoutModel",
      "state": {}
     },
     "709fb741ea85476082490a0a7165428c": {
      "model_module": "@jupyter-widgets/controls",
      "model_module_version": "2.0.0",
      "model_name": "ButtonModel",
      "state": {
       "description": "Generate Vectors",
       "layout": "IPY_MODEL_67e79b1ea533408abae8c013dfe70e70",
       "style": "IPY_MODEL_87b02e2a05894f7284c40d8d2d1ee3dc",
       "tooltip": null
      }
     },
     "70a4d6f2cc7d48178c5e933763400210": {
      "model_module": "@jupyter-widgets/controls",
      "model_module_version": "2.0.0",
      "model_name": "ButtonStyleModel",
      "state": {
       "font_family": null,
       "font_size": null,
       "font_style": null,
       "font_variant": null,
       "font_weight": null,
       "text_color": null,
       "text_decoration": null
      }
     },
     "70c270e7585347a386243d05f88a00bf": {
      "model_module": "@jupyter-widgets/controls",
      "model_module_version": "2.0.0",
      "model_name": "ButtonModel",
      "state": {
       "description": "Generate Vectors",
       "layout": "IPY_MODEL_e4b7842b06f144989ad2eafb8dafd9c5",
       "style": "IPY_MODEL_49bb8812236141c587a2ef34a96679e6",
       "tooltip": null
      }
     },
     "70dfb25301f3431a977a690793626603": {
      "model_module": "@jupyter-widgets/base",
      "model_module_version": "2.0.0",
      "model_name": "LayoutModel",
      "state": {}
     },
     "7140d8f94b414612af5b3c522cfb77c0": {
      "model_module": "@jupyter-widgets/controls",
      "model_module_version": "2.0.0",
      "model_name": "VBoxModel",
      "state": {
       "children": [
        "IPY_MODEL_cc10f4d9080f4ce38cbe28bdacdfb1b0",
        "IPY_MODEL_f7d5e7677b4446b997c48948eb33c242",
        "IPY_MODEL_6bcb9ba021fe4f129b58e48d2796d104"
       ],
       "layout": "IPY_MODEL_c11b02c638244a8fbb16904ccd7a462a"
      }
     },
     "71519c4d337f473580691955f5017a91": {
      "model_module": "@jupyter-widgets/base",
      "model_module_version": "2.0.0",
      "model_name": "LayoutModel",
      "state": {}
     },
     "7170bc02cd124c6c90a81c20b3da5619": {
      "model_module": "@jupyter-widgets/base",
      "model_module_version": "2.0.0",
      "model_name": "LayoutModel",
      "state": {}
     },
     "7172a0ea6aca4f60858929707b4fe3dc": {
      "model_module": "@jupyter-widgets/base",
      "model_module_version": "2.0.0",
      "model_name": "LayoutModel",
      "state": {}
     },
     "7182cd43e78a422e9cd80e7c4601875c": {
      "model_module": "@jupyter-widgets/controls",
      "model_module_version": "2.0.0",
      "model_name": "ButtonStyleModel",
      "state": {
       "font_family": null,
       "font_size": null,
       "font_style": null,
       "font_variant": null,
       "font_weight": null,
       "text_color": null,
       "text_decoration": null
      }
     },
     "718a4d1156d242d6969025dceadaa4b4": {
      "model_module": "ipydatagrid",
      "model_module_version": "^1.2.0",
      "model_name": "VegaExprModel",
      "state": {
       "_model_module_version": "^1.2.0",
       "_view_module": "ipydatagrid",
       "_view_module_version": "^1.2.0",
       "_view_name": "VegaExprView"
      }
     },
     "71cad2a2975d4304b3f4aae569a85d07": {
      "model_module": "@jupyter-widgets/controls",
      "model_module_version": "2.0.0",
      "model_name": "ButtonStyleModel",
      "state": {
       "font_family": null,
       "font_size": null,
       "font_style": null,
       "font_variant": null,
       "font_weight": null,
       "text_color": null,
       "text_decoration": null
      }
     },
     "71cfb723ac1e47ffa464544a8b2c9066": {
      "model_module": "@jupyter-widgets/controls",
      "model_module_version": "2.0.0",
      "model_name": "ButtonStyleModel",
      "state": {
       "font_family": null,
       "font_size": null,
       "font_style": null,
       "font_variant": null,
       "font_weight": null,
       "text_color": null,
       "text_decoration": null
      }
     },
     "7236c6dcb8f4456a95bbf5ebb06b1163": {
      "model_module": "@jupyter-widgets/base",
      "model_module_version": "2.0.0",
      "model_name": "LayoutModel",
      "state": {}
     },
     "725f6f5efcfc4a36ba2a525363bf1a9b": {
      "model_module": "@jupyter-widgets/controls",
      "model_module_version": "2.0.0",
      "model_name": "ButtonStyleModel",
      "state": {
       "font_family": null,
       "font_size": null,
       "font_style": null,
       "font_variant": null,
       "font_weight": null,
       "text_color": null,
       "text_decoration": null
      }
     },
     "7261c3ade4cd4771a193d4062f25ef23": {
      "model_module": "@jupyter-widgets/base",
      "model_module_version": "2.0.0",
      "model_name": "LayoutModel",
      "state": {}
     },
     "7269814605c94f809d89ba451c4c69d8": {
      "model_module": "@jupyter-widgets/base",
      "model_module_version": "2.0.0",
      "model_name": "LayoutModel",
      "state": {}
     },
     "727e4e14fe184324959160760d4c9f88": {
      "model_module": "@jupyter-widgets/base",
      "model_module_version": "2.0.0",
      "model_name": "LayoutModel",
      "state": {}
     },
     "727f4485a55d4d86b334e1e3deb679ea": {
      "model_module": "ipydatagrid",
      "model_module_version": "^1.2.0",
      "model_name": "DataGridModel",
      "state": {
       "_data": {
        "data": [
         {
          "0": "x2",
          "1": "m2",
          "2": "x1",
          "3": "m1",
          "4": "ux2",
          "5": "ux1",
          "6": "um1",
          "7": "um2",
          "ipydguuid": 0,
          "key": "  Variable:"
         },
         {
          "0": "m",
          "1": "kg",
          "2": "m",
          "3": "kg",
          "4": "m",
          "5": "m",
          "6": "kg",
          "7": "kg",
          "ipydguuid": 1,
          "key": " Units:"
         },
         {
          "0": "0.058",
          "1": "0.898",
          "2": "0.129",
          "3": "0.078",
          "4": "0.00125",
          "5": "0.0025",
          "6": "0.0002886751345948129",
          "7": "0.00125",
          "ipydguuid": 2,
          "key": 0
         },
         {
          "0": "0.057",
          "1": "0.902",
          "2": "0.129",
          "3": "0.078",
          "4": "0.00125",
          "5": "0.0025",
          "6": "0.0002886751345948129",
          "7": "0.00125",
          "ipydguuid": 3,
          "key": 1
         },
         {
          "0": "0.057",
          "1": "0.903",
          "2": "0.129",
          "3": "0.078",
          "4": "0.00125",
          "5": "0.0025",
          "6": "0.0002886751345948129",
          "7": "0.00125",
          "ipydguuid": 4,
          "key": 2
         }
        ],
        "fields": [
         {
          "key": null
         },
         {
          "0": null
         },
         {
          "1": null
         },
         {
          "2": null
         },
         {
          "3": null
         },
         {
          "4": null
         },
         {
          "5": null
         },
         {
          "6": null
         },
         {
          "7": null
         },
         {
          "ipydguuid": null
         }
        ],
        "schema": {
         "fields": [
          {
           "name": "key",
           "type": "string"
          },
          {
           "name": 0,
           "type": "string"
          },
          {
           "name": 1,
           "type": "string"
          },
          {
           "name": 2,
           "type": "string"
          },
          {
           "name": 3,
           "type": "string"
          },
          {
           "name": 4,
           "type": "string"
          },
          {
           "name": 5,
           "type": "string"
          },
          {
           "name": 6,
           "type": "string"
          },
          {
           "name": 7,
           "type": "string"
          },
          {
           "name": "ipydguuid",
           "type": "integer"
          }
         ],
         "pandas_version": "1.4.0",
         "primaryKey": [
          "key",
          "ipydguuid"
         ],
         "primaryKeyUuid": "ipydguuid"
        }
       },
       "_model_module_version": "^1.2.0",
       "_model_name": "DataGridModel",
       "_view_module_version": "^1.2.0",
       "auto_fit_columns": false,
       "auto_fit_params": {
        "area": "all",
        "numCols": null,
        "padding": 30
       },
       "base_column_header_size": 20,
       "base_column_size": 64,
       "base_row_header_size": 64,
       "base_row_size": 20,
       "default_renderer": "IPY_MODEL_9dee92e311ce40679ffec25c4d2ced22",
       "editable": true,
       "header_visibility": "all",
       "layout": "IPY_MODEL_2eeb6aca1cdc411aa69241275b0407c4",
       "selection_mode": "cell"
      }
     },
     "72802c63e9784634a79afdc268c77012": {
      "model_module": "@jupyter-widgets/base",
      "model_module_version": "2.0.0",
      "model_name": "LayoutModel",
      "state": {}
     },
     "729bbf8c0b234a8e917d78b195961f04": {
      "model_module": "@jupyter-widgets/controls",
      "model_module_version": "2.0.0",
      "model_name": "ButtonStyleModel",
      "state": {
       "font_family": null,
       "font_size": null,
       "font_style": null,
       "font_variant": null,
       "font_weight": null,
       "text_color": null,
       "text_decoration": null
      }
     },
     "72ce42810820445d8d94bb1dc8f6469b": {
      "model_module": "@jupyter-widgets/controls",
      "model_module_version": "2.0.0",
      "model_name": "ButtonStyleModel",
      "state": {
       "font_family": null,
       "font_size": null,
       "font_style": null,
       "font_variant": null,
       "font_weight": null,
       "text_color": null,
       "text_decoration": null
      }
     },
     "72d15dd51ec4429f9b88f7be01bebdb3": {
      "model_module": "@jupyter-widgets/controls",
      "model_module_version": "2.0.0",
      "model_name": "ButtonStyleModel",
      "state": {
       "font_family": null,
       "font_size": null,
       "font_style": null,
       "font_variant": null,
       "font_weight": null,
       "text_color": null,
       "text_decoration": null
      }
     },
     "72e21d4c80434187860adb1488b25893": {
      "model_module": "ipydatagrid",
      "model_module_version": "^1.2.0",
      "model_name": "TextRendererModel",
      "state": {
       "_model_module_version": "^1.2.0",
       "_view_module_version": "^1.2.0",
       "background_color": "IPY_MODEL_f2c3e2d437dd4cbcbca275a20c927023",
       "text_color": "IPY_MODEL_ccedf1fa80ab43248f40c19bfb2a646d"
      }
     },
     "72f5e0a73e9d4dff9ea99dbfff22cc44": {
      "model_module": "@jupyter-widgets/output",
      "model_module_version": "1.0.0",
      "model_name": "OutputModel",
      "state": {
       "layout": "IPY_MODEL_7172a0ea6aca4f60858929707b4fe3dc",
       "outputs": [
        {
         "name": "stdout",
         "output_type": "stream",
         "text": "Data vectors need to be updated\n"
        }
       ]
      }
     },
     "73089a2310a44954b1f228dcc0e23faa": {
      "model_module": "@jupyter-widgets/controls",
      "model_module_version": "2.0.0",
      "model_name": "ButtonModel",
      "state": {
       "description": "Generate Vectors",
       "layout": "IPY_MODEL_9c758152ecfd4f55add7b13f74eae4cc",
       "style": "IPY_MODEL_ca119ae960f94aa08190a9de5d7aa94f",
       "tooltip": null
      }
     },
     "73413cdaf00a4fc99d656318449139b0": {
      "model_module": "@jupyter-widgets/controls",
      "model_module_version": "2.0.0",
      "model_name": "ButtonModel",
      "state": {
       "description": "Add Row",
       "layout": "IPY_MODEL_ec6fe15f1e8b44b8be2110e42b567ef9",
       "style": "IPY_MODEL_704c423ee2ae4afabad57fce901a0a9f",
       "tooltip": null
      }
     },
     "736070d953dc412889df5eeef50f19d6": {
      "model_module": "@jupyter-widgets/controls",
      "model_module_version": "2.0.0",
      "model_name": "ButtonModel",
      "state": {
       "description": "Add Row",
       "layout": "IPY_MODEL_5ebef294092a4206a52a9fb593c09127",
       "style": "IPY_MODEL_d94b6d623ab94b3591474317d8952f41",
       "tooltip": null
      }
     },
     "7391a38e34714356a9ae469da929e6fd": {
      "model_module": "ipydatagrid",
      "model_module_version": "^1.2.0",
      "model_name": "TextRendererModel",
      "state": {
       "_model_module_version": "^1.2.0",
       "_view_module_version": "^1.2.0",
       "background_color": "IPY_MODEL_33e41b4410264cbe8257c690c1f0681d",
       "text_color": "IPY_MODEL_548c8ba8f94b4d5faadac5af0c2470e6"
      }
     },
     "73a8aea6f10e450585b192a52d3d9653": {
      "model_module": "ipydatagrid",
      "model_module_version": "^1.2.0",
      "model_name": "VegaExprModel",
      "state": {
       "_model_module_version": "^1.2.0",
       "_view_module": "ipydatagrid",
       "_view_module_version": "^1.2.0",
       "_view_name": "VegaExprView"
      }
     },
     "74126952998141218db7f4d311185092": {
      "model_module": "@jupyter-widgets/controls",
      "model_module_version": "2.0.0",
      "model_name": "ButtonModel",
      "state": {
       "description": "Generate Vectors",
       "layout": "IPY_MODEL_c2dd313159ec4547a02d935f921f0a6c",
       "style": "IPY_MODEL_f9bd660f05f840648fc590f81978fd3e",
       "tooltip": null
      }
     },
     "74c9e23cf2a249328f2f7d4b1cc556e4": {
      "model_module": "ipydatagrid",
      "model_module_version": "^1.2.0",
      "model_name": "VegaExprModel",
      "state": {
       "_model_module_version": "^1.2.0",
       "_view_module": "ipydatagrid",
       "_view_module_version": "^1.2.0",
       "_view_name": "VegaExprView"
      }
     },
     "74ce9f2db77d4034ae1e9fdd3ea28458": {
      "model_module": "@jupyter-widgets/controls",
      "model_module_version": "2.0.0",
      "model_name": "ButtonStyleModel",
      "state": {
       "font_family": null,
       "font_size": null,
       "font_style": null,
       "font_variant": null,
       "font_weight": null,
       "text_color": null,
       "text_decoration": null
      }
     },
     "7524465f70dd440c8adaf280c55d10e0": {
      "model_module": "@jupyter-widgets/base",
      "model_module_version": "2.0.0",
      "model_name": "LayoutModel",
      "state": {}
     },
     "755e734c8e2b40de9ee4f08fa8200697": {
      "model_module": "@jupyter-widgets/controls",
      "model_module_version": "2.0.0",
      "model_name": "ButtonModel",
      "state": {
       "description": "Redo",
       "layout": "IPY_MODEL_f9a72d4f213d4908801260b61322dc31",
       "style": "IPY_MODEL_10e44443cdc740bcaac8975596a30881",
       "tooltip": null
      }
     },
     "758e6a9e9b9542e3acad6cd0af3ca4a7": {
      "model_module": "@jupyter-widgets/base",
      "model_module_version": "2.0.0",
      "model_name": "LayoutModel",
      "state": {}
     },
     "75c0df61b34440599acf3f832116a7e8": {
      "model_module": "@jupyter-widgets/base",
      "model_module_version": "2.0.0",
      "model_name": "LayoutModel",
      "state": {}
     },
     "75c4161f36ac4c2683fd4523321333b5": {
      "model_module": "@jupyter-widgets/base",
      "model_module_version": "2.0.0",
      "model_name": "LayoutModel",
      "state": {
       "height": "150px"
      }
     },
     "76027651077d44d882ba902db6a900b2": {
      "model_module": "@jupyter-widgets/controls",
      "model_module_version": "2.0.0",
      "model_name": "ButtonModel",
      "state": {
       "description": "Generate Vectors",
       "layout": "IPY_MODEL_0a2343a95f9e45ed804c586956d42e57",
       "style": "IPY_MODEL_8f2b50aad8d8495b9beed14e3297c3db",
       "tooltip": null
      }
     },
     "760d8181e47446b28d4f84aa1565ca3b": {
      "model_module": "@jupyter-widgets/base",
      "model_module_version": "2.0.0",
      "model_name": "LayoutModel",
      "state": {}
     },
     "7631f988035b4731adab8f8b6bfebf75": {
      "model_module": "ipydatagrid",
      "model_module_version": "^1.2.0",
      "model_name": "VegaExprModel",
      "state": {
       "_model_module_version": "^1.2.0",
       "_view_module": "ipydatagrid",
       "_view_module_version": "^1.2.0",
       "_view_name": "VegaExprView"
      }
     },
     "763ef62d228046049fd3715f69c864b8": {
      "model_module": "@jupyter-widgets/base",
      "model_module_version": "2.0.0",
      "model_name": "LayoutModel",
      "state": {
       "height": "150px"
      }
     },
     "7664a2c1d9a64d6bac4411feba6848e9": {
      "model_module": "@jupyter-widgets/base",
      "model_module_version": "2.0.0",
      "model_name": "LayoutModel",
      "state": {}
     },
     "76c585bf6a44484cb177505809aca860": {
      "model_module": "@jupyter-widgets/controls",
      "model_module_version": "2.0.0",
      "model_name": "ButtonStyleModel",
      "state": {
       "font_family": null,
       "font_size": null,
       "font_style": null,
       "font_variant": null,
       "font_weight": null,
       "text_color": null,
       "text_decoration": null
      }
     },
     "76e1ff457c924dfb8c18cf124266b24f": {
      "model_module": "@jupyter-widgets/output",
      "model_module_version": "1.0.0",
      "model_name": "OutputModel",
      "state": {
       "layout": "IPY_MODEL_cac83c5f9de9414e99ae37d9b521c01c"
      }
     },
     "76ea710081f44125bd8601bbc4613701": {
      "model_module": "@jupyter-widgets/base",
      "model_module_version": "2.0.0",
      "model_name": "LayoutModel",
      "state": {}
     },
     "76f682d3808f464586aa90dc6ffd23bb": {
      "model_module": "ipydatagrid",
      "model_module_version": "^1.2.0",
      "model_name": "TextRendererModel",
      "state": {
       "_model_module_version": "^1.2.0",
       "_view_module_version": "^1.2.0",
       "background_color": "IPY_MODEL_eb00631e56a44fc1a4942ac8c817809e",
       "text_color": "IPY_MODEL_7f2ba5e0238c49fc89e2403fa12f9c1c"
      }
     },
     "76fc39da5c73433e95ebd41aefa1f904": {
      "model_module": "@jupyter-widgets/base",
      "model_module_version": "2.0.0",
      "model_name": "LayoutModel",
      "state": {}
     },
     "7752e8717eac42e9bc50bd8c4b6e25db": {
      "model_module": "ipydatagrid",
      "model_module_version": "^1.2.0",
      "model_name": "VegaExprModel",
      "state": {
       "_model_module_version": "^1.2.0",
       "_view_module": "ipydatagrid",
       "_view_module_version": "^1.2.0",
       "_view_name": "VegaExprView"
      }
     },
     "776b9df964064cea88db473b854d39bd": {
      "model_module": "@jupyter-widgets/controls",
      "model_module_version": "2.0.0",
      "model_name": "VBoxModel",
      "state": {
       "children": [
        "IPY_MODEL_eff362de92d244d895f59a26edba11c2",
        "IPY_MODEL_2c5d30a8c2a848a8bea50e1b819003a5",
        "IPY_MODEL_58f718bd3fdb4ab48020a9f6591592df"
       ],
       "layout": "IPY_MODEL_f7af76b50e6647f0b0b3bf25e460021d"
      }
     },
     "777efed45122493784ff6f3e46f010a8": {
      "model_module": "@jupyter-widgets/base",
      "model_module_version": "2.0.0",
      "model_name": "LayoutModel",
      "state": {}
     },
     "779c3cf4a9eb4f189742620c139c267a": {
      "model_module": "@jupyter-widgets/controls",
      "model_module_version": "2.0.0",
      "model_name": "HBoxModel",
      "state": {
       "children": [
        "IPY_MODEL_d738073ae808457890ef4d1fb375d838",
        "IPY_MODEL_340356d1a7de433e83cd508166805a01",
        "IPY_MODEL_fadc096105f64419b6dcb84e38c50e1b",
        "IPY_MODEL_30ebdd173e80467b8e48683f463e3356",
        "IPY_MODEL_1b0298f521b84c589cccd6e1c26864ad"
       ],
       "layout": "IPY_MODEL_0224caaaef2046939ea92028870200bf"
      }
     },
     "781e299dd01a4d0f8241c5170c02d0ac": {
      "model_module": "@jupyter-widgets/base",
      "model_module_version": "2.0.0",
      "model_name": "LayoutModel",
      "state": {}
     },
     "7854725ab96b4393b37686b2ac6a34b8": {
      "model_module": "@jupyter-widgets/output",
      "model_module_version": "1.0.0",
      "model_name": "OutputModel",
      "state": {
       "layout": "IPY_MODEL_2fa067e3e9724c0fbbeb1b0ba503297b",
       "outputs": [
        {
         "name": "stdout",
         "output_type": "stream",
         "text": "Data vectors need to be updated\n"
        }
       ]
      }
     },
     "788eacfe04e94b79bf62775db07ed1bf": {
      "model_module": "@jupyter-widgets/controls",
      "model_module_version": "2.0.0",
      "model_name": "ButtonStyleModel",
      "state": {
       "font_family": null,
       "font_size": null,
       "font_style": null,
       "font_variant": null,
       "font_weight": null,
       "text_color": null,
       "text_decoration": null
      }
     },
     "78c99f81f5bb49de99166004be49efa0": {
      "model_module": "@jupyter-widgets/controls",
      "model_module_version": "2.0.0",
      "model_name": "ButtonStyleModel",
      "state": {
       "font_family": null,
       "font_size": null,
       "font_style": null,
       "font_variant": null,
       "font_weight": null,
       "text_color": null,
       "text_decoration": null
      }
     },
     "79268a1b677d4bbe8c592ba2e160360b": {
      "model_module": "@jupyter-widgets/controls",
      "model_module_version": "2.0.0",
      "model_name": "ButtonModel",
      "state": {
       "description": "Add Column",
       "layout": "IPY_MODEL_0d63f5c54787461b9d013bfd337691ff",
       "style": "IPY_MODEL_c6eccfcba7034d079436ee2309794a86",
       "tooltip": null
      }
     },
     "793b0aaa7273426ab5aa5c2b5b684383": {
      "model_module": "@jupyter-widgets/controls",
      "model_module_version": "2.0.0",
      "model_name": "ButtonStyleModel",
      "state": {
       "font_family": null,
       "font_size": null,
       "font_style": null,
       "font_variant": null,
       "font_weight": null,
       "text_color": null,
       "text_decoration": null
      }
     },
     "7955196f407941e795425007f6cd489a": {
      "model_module": "@jupyter-widgets/base",
      "model_module_version": "2.0.0",
      "model_name": "LayoutModel",
      "state": {}
     },
     "7965191f0c1e4ac995224a5bb85c8ea7": {
      "model_module": "@jupyter-widgets/output",
      "model_module_version": "1.0.0",
      "model_name": "OutputModel",
      "state": {
       "layout": "IPY_MODEL_16e80d41936f472b927ec521c0cc1fed",
       "outputs": [
        {
         "name": "stdout",
         "output_type": "stream",
         "text": "Data vectors need to be updated\n"
        }
       ]
      }
     },
     "7984809ce1aa4f04aff22497dcaa5c27": {
      "model_module": "@jupyter-widgets/base",
      "model_module_version": "2.0.0",
      "model_name": "LayoutModel",
      "state": {}
     },
     "79873d5a8c734dd1b817d1f216edb602": {
      "model_module": "@jupyter-widgets/base",
      "model_module_version": "2.0.0",
      "model_name": "LayoutModel",
      "state": {}
     },
     "79875b52be0f42f5ac8cd5506ae8be9f": {
      "model_module": "@jupyter-widgets/controls",
      "model_module_version": "2.0.0",
      "model_name": "VBoxModel",
      "state": {
       "children": [
        "IPY_MODEL_779c3cf4a9eb4f189742620c139c267a",
        "IPY_MODEL_f04659deb5ef4fbb9203e47d8e6762ff",
        "IPY_MODEL_4aa8fb70402b47eaa505ab1da0b2b497"
       ],
       "layout": "IPY_MODEL_48448edf6b114d9ebbe7f28a31fd50cc"
      }
     },
     "79878a5a7b794efb871d25b208456152": {
      "model_module": "@jupyter-widgets/base",
      "model_module_version": "2.0.0",
      "model_name": "LayoutModel",
      "state": {}
     },
     "7a19e943767a47919f20a3197d00f00c": {
      "model_module": "@jupyter-widgets/controls",
      "model_module_version": "2.0.0",
      "model_name": "ButtonStyleModel",
      "state": {
       "font_family": null,
       "font_size": null,
       "font_style": null,
       "font_variant": null,
       "font_weight": null,
       "text_color": null,
       "text_decoration": null
      }
     },
     "7a7a32a34b364e70890d620b89fbd4ac": {
      "model_module": "@jupyter-widgets/base",
      "model_module_version": "2.0.0",
      "model_name": "LayoutModel",
      "state": {}
     },
     "7a8f590db6214a6f83ff03f377bcde01": {
      "model_module": "@jupyter-widgets/controls",
      "model_module_version": "2.0.0",
      "model_name": "ButtonModel",
      "state": {
       "description": "Generate Vectors",
       "layout": "IPY_MODEL_7cae5aa1c98c49699d140e7286836d5a",
       "style": "IPY_MODEL_1ca4bb0e94294620bea1ecc0c2f2c010",
       "tooltip": null
      }
     },
     "7a9323725e1048fdb1bb333e37128bf8": {
      "model_module": "@jupyter-widgets/controls",
      "model_module_version": "2.0.0",
      "model_name": "ButtonModel",
      "state": {
       "description": "Redo",
       "layout": "IPY_MODEL_4f50e9340aef4e7c89f9f06a508c48ee",
       "style": "IPY_MODEL_ad19d03bc08540c89beb5788669d90ca",
       "tooltip": null
      }
     },
     "7ab9aadf5a8b49b482e48b6ced5e5815": {
      "model_module": "@jupyter-widgets/controls",
      "model_module_version": "2.0.0",
      "model_name": "ButtonStyleModel",
      "state": {
       "font_family": null,
       "font_size": null,
       "font_style": null,
       "font_variant": null,
       "font_weight": null,
       "text_color": null,
       "text_decoration": null
      }
     },
     "7abc5501f0ef4f9aa2cb1237c170efc3": {
      "model_module": "@jupyter-widgets/base",
      "model_module_version": "2.0.0",
      "model_name": "LayoutModel",
      "state": {}
     },
     "7acc7bcd6c0d45a0b461bf602ea39bb9": {
      "model_module": "@jupyter-widgets/controls",
      "model_module_version": "2.0.0",
      "model_name": "ButtonStyleModel",
      "state": {
       "font_family": null,
       "font_size": null,
       "font_style": null,
       "font_variant": null,
       "font_weight": null,
       "text_color": null,
       "text_decoration": null
      }
     },
     "7af7487dfc764f9ea61a3342f960f9c9": {
      "model_module": "@jupyter-widgets/controls",
      "model_module_version": "2.0.0",
      "model_name": "ButtonStyleModel",
      "state": {
       "font_family": null,
       "font_size": null,
       "font_style": null,
       "font_variant": null,
       "font_weight": null,
       "text_color": null,
       "text_decoration": null
      }
     },
     "7af89f2f765f4ef3b611fac6ab57199f": {
      "model_module": "@jupyter-widgets/controls",
      "model_module_version": "2.0.0",
      "model_name": "ButtonModel",
      "state": {
       "description": "Undo",
       "layout": "IPY_MODEL_758e6a9e9b9542e3acad6cd0af3ca4a7",
       "style": "IPY_MODEL_0eee88ea73be43bbbea0d710204c18f6",
       "tooltip": null
      }
     },
     "7b940f8bccd5446999efdc90538f2111": {
      "model_module": "@jupyter-widgets/controls",
      "model_module_version": "2.0.0",
      "model_name": "ButtonModel",
      "state": {
       "description": "Generate Vectors",
       "layout": "IPY_MODEL_a8d60c59d8004649b50736d2d76e9ade",
       "style": "IPY_MODEL_d5d419d40ec94a568e24400fc2830b39",
       "tooltip": null
      }
     },
     "7bcdca621a78463d9308a38c1c02d88e": {
      "model_module": "@jupyter-widgets/controls",
      "model_module_version": "2.0.0",
      "model_name": "ButtonStyleModel",
      "state": {
       "font_family": null,
       "font_size": null,
       "font_style": null,
       "font_variant": null,
       "font_weight": null,
       "text_color": null,
       "text_decoration": null
      }
     },
     "7bd111d7c71a4ad5a26e4dc894849c61": {
      "model_module": "@jupyter-widgets/controls",
      "model_module_version": "2.0.0",
      "model_name": "ButtonStyleModel",
      "state": {
       "font_family": null,
       "font_size": null,
       "font_style": null,
       "font_variant": null,
       "font_weight": null,
       "text_color": null,
       "text_decoration": null
      }
     },
     "7c2a9400939c4f70a344d655e258d54b": {
      "model_module": "@jupyter-widgets/base",
      "model_module_version": "2.0.0",
      "model_name": "LayoutModel",
      "state": {}
     },
     "7c5c624ad4c945be8b62f91d6ae6f463": {
      "model_module": "@jupyter-widgets/controls",
      "model_module_version": "2.0.0",
      "model_name": "ButtonModel",
      "state": {
       "description": "Redo",
       "layout": "IPY_MODEL_b212013dc6034106a3a9820aa3bce4f7",
       "style": "IPY_MODEL_a9072c5b6003427c93b2cc9380c4cdcc",
       "tooltip": null
      }
     },
     "7c6bc124ac1547cb988b0d4350b9a6d5": {
      "model_module": "@jupyter-widgets/controls",
      "model_module_version": "2.0.0",
      "model_name": "ButtonStyleModel",
      "state": {
       "font_family": null,
       "font_size": null,
       "font_style": null,
       "font_variant": null,
       "font_weight": null,
       "text_color": null,
       "text_decoration": null
      }
     },
     "7c81ffa421354d50a55c5f567b277ad0": {
      "model_module": "@jupyter-widgets/controls",
      "model_module_version": "2.0.0",
      "model_name": "ButtonModel",
      "state": {
       "description": "Undo",
       "layout": "IPY_MODEL_da952dff5f8f4bb4b1a3c5a417cbb464",
       "style": "IPY_MODEL_526a1375fa2d4172827048d9e4d23529",
       "tooltip": null
      }
     },
     "7cae5aa1c98c49699d140e7286836d5a": {
      "model_module": "@jupyter-widgets/base",
      "model_module_version": "2.0.0",
      "model_name": "LayoutModel",
      "state": {}
     },
     "7d09209081644bf5aa18b59cd71cc77a": {
      "model_module": "@jupyter-widgets/base",
      "model_module_version": "2.0.0",
      "model_name": "LayoutModel",
      "state": {}
     },
     "7d0972c1e8c5405182cbf480a8c27420": {
      "model_module": "@jupyter-widgets/controls",
      "model_module_version": "2.0.0",
      "model_name": "ButtonStyleModel",
      "state": {
       "font_family": null,
       "font_size": null,
       "font_style": null,
       "font_variant": null,
       "font_weight": null,
       "text_color": null,
       "text_decoration": null
      }
     },
     "7da8e2856453452fb49741ebbdaf90eb": {
      "model_module": "@jupyter-widgets/base",
      "model_module_version": "2.0.0",
      "model_name": "LayoutModel",
      "state": {}
     },
     "7db79bc7e3a147f1a76a639d81bebeca": {
      "model_module": "@jupyter-widgets/controls",
      "model_module_version": "2.0.0",
      "model_name": "VBoxModel",
      "state": {
       "children": [
        "IPY_MODEL_e707e61ea923410aa179d22f43ede66d",
        "IPY_MODEL_727f4485a55d4d86b334e1e3deb679ea",
        "IPY_MODEL_03164e4886d34ea9a066b99702f84f03"
       ],
       "layout": "IPY_MODEL_9a668b04ccbd47cdabc102515a0c4ed1"
      }
     },
     "7de50caca11343879abf3555dcbcd182": {
      "model_module": "@jupyter-widgets/controls",
      "model_module_version": "2.0.0",
      "model_name": "ButtonStyleModel",
      "state": {
       "font_family": null,
       "font_size": null,
       "font_style": null,
       "font_variant": null,
       "font_weight": null,
       "text_color": null,
       "text_decoration": null
      }
     },
     "7e3af2da93374c7dbd9e0e982ade9ba0": {
      "model_module": "@jupyter-widgets/controls",
      "model_module_version": "2.0.0",
      "model_name": "ButtonModel",
      "state": {
       "description": "Redo",
       "layout": "IPY_MODEL_86eac46fbd054096a9da33187fa83a2a",
       "style": "IPY_MODEL_490679472b61429c8d256b3e60aaca55",
       "tooltip": null
      }
     },
     "7e47e0e7c34e4d8c9c032bc6117bf86d": {
      "model_module": "@jupyter-widgets/base",
      "model_module_version": "2.0.0",
      "model_name": "LayoutModel",
      "state": {
       "height": "150px"
      }
     },
     "7e6b477f0b4f436bb203aced939b4f65": {
      "model_module": "@jupyter-widgets/base",
      "model_module_version": "2.0.0",
      "model_name": "LayoutModel",
      "state": {}
     },
     "7e70828e4348401d833b23c68c23b6b4": {
      "model_module": "@jupyter-widgets/controls",
      "model_module_version": "2.0.0",
      "model_name": "ButtonModel",
      "state": {
       "description": "Redo",
       "layout": "IPY_MODEL_67188dfa0ec74ec1ab43a2311ea93a76",
       "style": "IPY_MODEL_5d666c981cfd400f9f6b752ba7b79e42",
       "tooltip": null
      }
     },
     "7e952d8ac3914906a6908885136e0c26": {
      "model_module": "@jupyter-widgets/base",
      "model_module_version": "2.0.0",
      "model_name": "LayoutModel",
      "state": {}
     },
     "7ee10715bc4a415a94a497b864ae7d83": {
      "model_module": "@jupyter-widgets/controls",
      "model_module_version": "2.0.0",
      "model_name": "ButtonStyleModel",
      "state": {
       "font_family": null,
       "font_size": null,
       "font_style": null,
       "font_variant": null,
       "font_weight": null,
       "text_color": null,
       "text_decoration": null
      }
     },
     "7eeddab32ba24d75aba85c1a644cb11d": {
      "model_module": "@jupyter-widgets/controls",
      "model_module_version": "2.0.0",
      "model_name": "ButtonModel",
      "state": {
       "description": "Add Column",
       "layout": "IPY_MODEL_a9d1ef8618794b18a9b7e7ddd6502ed5",
       "style": "IPY_MODEL_18a540cae6594ba18ea72aed5e069a21",
       "tooltip": null
      }
     },
     "7f095f6faf2a479aa8c3445177906526": {
      "model_module": "@jupyter-widgets/controls",
      "model_module_version": "2.0.0",
      "model_name": "ButtonModel",
      "state": {
       "description": "Generate Vectors",
       "layout": "IPY_MODEL_c93c09fd726d494e88f13ae96e118de5",
       "style": "IPY_MODEL_2631d548f17f4a77adf099303a1e1ae2",
       "tooltip": null
      }
     },
     "7f2ba5e0238c49fc89e2403fa12f9c1c": {
      "model_module": "ipydatagrid",
      "model_module_version": "^1.2.0",
      "model_name": "VegaExprModel",
      "state": {
       "_model_module_version": "^1.2.0",
       "_view_module": "ipydatagrid",
       "_view_module_version": "^1.2.0",
       "_view_name": "VegaExprView"
      }
     },
     "7f49a75272df4380b439e490ac88f3a4": {
      "model_module": "@jupyter-widgets/base",
      "model_module_version": "2.0.0",
      "model_name": "LayoutModel",
      "state": {}
     },
     "7fa1958ed58944f780f7e2e2b12d5b9a": {
      "model_module": "@jupyter-widgets/base",
      "model_module_version": "2.0.0",
      "model_name": "LayoutModel",
      "state": {}
     },
     "7fa292f58dc94528bd8c965f80a2b764": {
      "model_module": "@jupyter-widgets/controls",
      "model_module_version": "2.0.0",
      "model_name": "VBoxModel",
      "state": {
       "children": [
        "IPY_MODEL_821dae01d4154caa86edc4dbce6a6e71",
        "IPY_MODEL_1caef9d563a44f78b00e1a965a7cb415",
        "IPY_MODEL_ad7afe2579ae45a4b9b2b4f56337cdbf"
       ],
       "layout": "IPY_MODEL_2ea3e828aabc4ca6a04973746c70f39f"
      }
     },
     "8005367a65c34618a3ec5a1254dec7d7": {
      "model_module": "@jupyter-widgets/controls",
      "model_module_version": "2.0.0",
      "model_name": "ButtonStyleModel",
      "state": {
       "font_family": null,
       "font_size": null,
       "font_style": null,
       "font_variant": null,
       "font_weight": null,
       "text_color": null,
       "text_decoration": null
      }
     },
     "8082486768b94700b7a0e861576f16e0": {
      "model_module": "@jupyter-widgets/controls",
      "model_module_version": "2.0.0",
      "model_name": "ButtonModel",
      "state": {
       "description": "Generate Vectors",
       "layout": "IPY_MODEL_7e6b477f0b4f436bb203aced939b4f65",
       "style": "IPY_MODEL_fa32d68e47fb466fa4a20f848422d609",
       "tooltip": null
      }
     },
     "812601f0cf524ad0a317c0fe632d23f8": {
      "model_module": "@jupyter-widgets/controls",
      "model_module_version": "2.0.0",
      "model_name": "ButtonModel",
      "state": {
       "description": "Add Row",
       "layout": "IPY_MODEL_44d9850ee3a54ccfb3c11884b10c26f7",
       "style": "IPY_MODEL_122bba0b92124126ba1bdeed90188a99",
       "tooltip": null
      }
     },
     "81409f13a47249629fd68d9963986b62": {
      "model_module": "@jupyter-widgets/base",
      "model_module_version": "2.0.0",
      "model_name": "LayoutModel",
      "state": {}
     },
     "81460a6c8a7a4985887719392ab79636": {
      "model_module": "@jupyter-widgets/controls",
      "model_module_version": "2.0.0",
      "model_name": "HBoxModel",
      "state": {
       "children": [
        "IPY_MODEL_900573a3a5244aed9da42b66383f2929",
        "IPY_MODEL_43829607698c4d3db4b956b5aae5641e",
        "IPY_MODEL_973d392a560347c2b6b2b2c587901843",
        "IPY_MODEL_68de95efcc6d43aea08006cab06fd976",
        "IPY_MODEL_c3c0fec2e8834643bca528a2725f2225"
       ],
       "layout": "IPY_MODEL_b791b2a6209b490eae9a844bdafe392c"
      }
     },
     "814bfad7763f4bffb1b5407fd66e4f76": {
      "model_module": "@jupyter-widgets/controls",
      "model_module_version": "2.0.0",
      "model_name": "ButtonStyleModel",
      "state": {
       "font_family": null,
       "font_size": null,
       "font_style": null,
       "font_variant": null,
       "font_weight": null,
       "text_color": null,
       "text_decoration": null
      }
     },
     "81546f8c5b1a4d0b833d5e3d571ece63": {
      "model_module": "@jupyter-widgets/controls",
      "model_module_version": "2.0.0",
      "model_name": "ButtonStyleModel",
      "state": {
       "font_family": null,
       "font_size": null,
       "font_style": null,
       "font_variant": null,
       "font_weight": null,
       "text_color": null,
       "text_decoration": null
      }
     },
     "8156c303456b45e287fc44ea0d556008": {
      "model_module": "@jupyter-widgets/base",
      "model_module_version": "2.0.0",
      "model_name": "LayoutModel",
      "state": {}
     },
     "81d31e273e3a47988d29b836d10b1ba6": {
      "model_module": "ipydatagrid",
      "model_module_version": "^1.2.0",
      "model_name": "VegaExprModel",
      "state": {
       "_model_module_version": "^1.2.0",
       "_view_module": "ipydatagrid",
       "_view_module_version": "^1.2.0",
       "_view_name": "VegaExprView"
      }
     },
     "81e728da6bbe453186058b99a0e7b915": {
      "model_module": "@jupyter-widgets/base",
      "model_module_version": "2.0.0",
      "model_name": "LayoutModel",
      "state": {}
     },
     "81f2e953c4264b8891634c49d85bea41": {
      "model_module": "@jupyter-widgets/controls",
      "model_module_version": "2.0.0",
      "model_name": "ButtonModel",
      "state": {
       "description": "Redo",
       "layout": "IPY_MODEL_28459b7d60d04c6fbc78318f557d22f8",
       "style": "IPY_MODEL_91eb8f85eca84375a14474a4b3f61888",
       "tooltip": null
      }
     },
     "821dae01d4154caa86edc4dbce6a6e71": {
      "model_module": "@jupyter-widgets/controls",
      "model_module_version": "2.0.0",
      "model_name": "HBoxModel",
      "state": {
       "children": [
        "IPY_MODEL_7af89f2f765f4ef3b611fac6ab57199f",
        "IPY_MODEL_32d28a2d0dee45d9aca7ea6460e966a8",
        "IPY_MODEL_c9b18febe6844fa0877bdfca03221b45",
        "IPY_MODEL_9c0157a3641f416b91bea8fa0a5ca1cd",
        "IPY_MODEL_0fe7cb248e7d4e369dbc452ee1b7f725"
       ],
       "layout": "IPY_MODEL_9ccf58886ac8495b871e334c71f68bd4"
      }
     },
     "82262b06d81d4c5ca9a6580797453feb": {
      "model_module": "@jupyter-widgets/base",
      "model_module_version": "2.0.0",
      "model_name": "LayoutModel",
      "state": {}
     },
     "822f312cffee42d588d59b3633833ac6": {
      "model_module": "@jupyter-widgets/controls",
      "model_module_version": "2.0.0",
      "model_name": "ButtonStyleModel",
      "state": {
       "font_family": null,
       "font_size": null,
       "font_style": null,
       "font_variant": null,
       "font_weight": null,
       "text_color": null,
       "text_decoration": null
      }
     },
     "824c80b78b5349c48d7c0eb4968b95b2": {
      "model_module": "ipydatagrid",
      "model_module_version": "^1.2.0",
      "model_name": "DataGridModel",
      "state": {
       "_data": {
        "data": [
         {
          "0": "x2",
          "1": "m2",
          "2": "x1",
          "3": "m1",
          "4": "ux2",
          "5": "ux1",
          "6": "um1",
          "7": "um2",
          "ipydguuid": 0,
          "key": "  Variable:"
         },
         {
          "0": "m",
          "1": "kg",
          "2": "m",
          "3": "kg",
          "4": "m",
          "5": "m",
          "6": "kg",
          "7": "kg",
          "ipydguuid": 1,
          "key": " Units:"
         },
         {
          "0": "0.045",
          "1": "1.150",
          "2": "0.129",
          "3": "0.078",
          "4": "0.00125",
          "5": "0.0025",
          "6": "0.0002886751345948129",
          "7": "0.00125",
          "ipydguuid": 2,
          "key": 0
         },
         {
          "0": "0.040",
          "1": "1.189",
          "2": "0.129",
          "3": "0.078",
          "4": "0.00125",
          "5": "0.0025",
          "6": "0.0002886751345948129",
          "7": "0.00125",
          "ipydguuid": 3,
          "key": 1
         },
         {
          "0": "0.061",
          "1": "0.979",
          "2": "0.129",
          "3": "0.078",
          "4": "0.00125",
          "5": "0.0025",
          "6": "0.0002886751345948129",
          "7": "0.00125",
          "ipydguuid": 4,
          "key": 2
         }
        ],
        "fields": [
         {
          "key": null
         },
         {
          "0": null
         },
         {
          "1": null
         },
         {
          "2": null
         },
         {
          "3": null
         },
         {
          "4": null
         },
         {
          "5": null
         },
         {
          "6": null
         },
         {
          "7": null
         },
         {
          "ipydguuid": null
         }
        ],
        "schema": {
         "fields": [
          {
           "name": "key",
           "type": "string"
          },
          {
           "name": 0,
           "type": "string"
          },
          {
           "name": 1,
           "type": "string"
          },
          {
           "name": 2,
           "type": "string"
          },
          {
           "name": 3,
           "type": "string"
          },
          {
           "name": 4,
           "type": "string"
          },
          {
           "name": 5,
           "type": "string"
          },
          {
           "name": 6,
           "type": "string"
          },
          {
           "name": 7,
           "type": "string"
          },
          {
           "name": "ipydguuid",
           "type": "integer"
          }
         ],
         "pandas_version": "1.4.0",
         "primaryKey": [
          "key",
          "ipydguuid"
         ],
         "primaryKeyUuid": "ipydguuid"
        }
       },
       "_model_module_version": "^1.2.0",
       "_model_name": "DataGridModel",
       "_view_module_version": "^1.2.0",
       "auto_fit_columns": false,
       "auto_fit_params": {
        "area": "all",
        "numCols": null,
        "padding": 30
       },
       "base_column_header_size": 20,
       "base_column_size": 64,
       "base_row_header_size": 64,
       "base_row_size": 20,
       "default_renderer": "IPY_MODEL_2a19b90581174b7b8d6f0aafc72be8b8",
       "editable": true,
       "header_visibility": "all",
       "layout": "IPY_MODEL_bbe3f52b060745c28eedcc073d878588",
       "selection_mode": "cell"
      }
     },
     "826f98833d39448c9800779f5b1dafc4": {
      "model_module": "@jupyter-widgets/base",
      "model_module_version": "2.0.0",
      "model_name": "LayoutModel",
      "state": {}
     },
     "82c43f1011624d7489a8675205ab6b40": {
      "model_module": "@jupyter-widgets/controls",
      "model_module_version": "2.0.0",
      "model_name": "ButtonStyleModel",
      "state": {
       "font_family": null,
       "font_size": null,
       "font_style": null,
       "font_variant": null,
       "font_weight": null,
       "text_color": null,
       "text_decoration": null
      }
     },
     "82cdff7a2f594d80b93c3e83df4ca032": {
      "model_module": "@jupyter-widgets/base",
      "model_module_version": "2.0.0",
      "model_name": "LayoutModel",
      "state": {}
     },
     "82d04cafb92d47379882540df2a71e89": {
      "model_module": "@jupyter-widgets/base",
      "model_module_version": "2.0.0",
      "model_name": "LayoutModel",
      "state": {}
     },
     "82f69a65d35b4ab5927babfc0da5a268": {
      "model_module": "@jupyter-widgets/controls",
      "model_module_version": "2.0.0",
      "model_name": "ButtonStyleModel",
      "state": {
       "font_family": null,
       "font_size": null,
       "font_style": null,
       "font_variant": null,
       "font_weight": null,
       "text_color": null,
       "text_decoration": null
      }
     },
     "83165fde7c71440eb08e97468a602fdd": {
      "model_module": "@jupyter-widgets/base",
      "model_module_version": "2.0.0",
      "model_name": "LayoutModel",
      "state": {}
     },
     "833a7691b9d0401195551bee999727e2": {
      "model_module": "@jupyter-widgets/base",
      "model_module_version": "2.0.0",
      "model_name": "LayoutModel",
      "state": {}
     },
     "838a5296235e4ebcbb738cdc33ca3b94": {
      "model_module": "@jupyter-widgets/base",
      "model_module_version": "2.0.0",
      "model_name": "LayoutModel",
      "state": {}
     },
     "838dc79a983b494bbfbe2f80f4107970": {
      "model_module": "@jupyter-widgets/base",
      "model_module_version": "2.0.0",
      "model_name": "LayoutModel",
      "state": {}
     },
     "839c8d2784344f9c9b9abef7295a8b59": {
      "model_module": "@jupyter-widgets/output",
      "model_module_version": "1.0.0",
      "model_name": "OutputModel",
      "state": {
       "layout": "IPY_MODEL_3a30de4debbf4d01bd1996ae9bf99099"
      }
     },
     "83f4033be50e4bf89aa21568c21a471b": {
      "model_module": "ipydatagrid",
      "model_module_version": "^1.2.0",
      "model_name": "TextRendererModel",
      "state": {
       "_model_module_version": "^1.2.0",
       "_view_module_version": "^1.2.0",
       "background_color": "IPY_MODEL_d2fe497f80114178b8b7277677a0fa1b",
       "text_color": "IPY_MODEL_7631f988035b4731adab8f8b6bfebf75"
      }
     },
     "8409bf2976574872b8509886db582b27": {
      "model_module": "@jupyter-widgets/base",
      "model_module_version": "2.0.0",
      "model_name": "LayoutModel",
      "state": {}
     },
     "84366337ef2d46d5b9594c38fab18adc": {
      "model_module": "@jupyter-widgets/base",
      "model_module_version": "2.0.0",
      "model_name": "LayoutModel",
      "state": {}
     },
     "845762716e544ccface2b56c64cb87be": {
      "model_module": "@jupyter-widgets/base",
      "model_module_version": "2.0.0",
      "model_name": "LayoutModel",
      "state": {}
     },
     "84c6d4a5ed8d4af88c2ef90c6608515a": {
      "model_module": "@jupyter-widgets/controls",
      "model_module_version": "2.0.0",
      "model_name": "ButtonStyleModel",
      "state": {
       "font_family": null,
       "font_size": null,
       "font_style": null,
       "font_variant": null,
       "font_weight": null,
       "text_color": null,
       "text_decoration": null
      }
     },
     "850e29f446d84c0994f8c88dce47c1bb": {
      "model_module": "@jupyter-widgets/controls",
      "model_module_version": "2.0.0",
      "model_name": "ButtonStyleModel",
      "state": {
       "font_family": null,
       "font_size": null,
       "font_style": null,
       "font_variant": null,
       "font_weight": null,
       "text_color": null,
       "text_decoration": null
      }
     },
     "8544bc58624947cea5ecc485bd6a8ef7": {
      "model_module": "@jupyter-widgets/base",
      "model_module_version": "2.0.0",
      "model_name": "LayoutModel",
      "state": {}
     },
     "8584f2f06225495588c3b1d0a9b644dc": {
      "model_module": "ipydatagrid",
      "model_module_version": "^1.2.0",
      "model_name": "VegaExprModel",
      "state": {
       "_model_module_version": "^1.2.0",
       "_view_module": "ipydatagrid",
       "_view_module_version": "^1.2.0",
       "_view_name": "VegaExprView"
      }
     },
     "8593b75ec8e04811833ad1331afcbe5c": {
      "model_module": "@jupyter-widgets/controls",
      "model_module_version": "2.0.0",
      "model_name": "ButtonStyleModel",
      "state": {
       "font_family": null,
       "font_size": null,
       "font_style": null,
       "font_variant": null,
       "font_weight": null,
       "text_color": null,
       "text_decoration": null
      }
     },
     "85daa77ea1a5464ca17f51fe1edd8d68": {
      "model_module": "@jupyter-widgets/controls",
      "model_module_version": "2.0.0",
      "model_name": "ButtonModel",
      "state": {
       "description": "Add Row",
       "layout": "IPY_MODEL_fea97c21f980445d8581130234135a5a",
       "style": "IPY_MODEL_2fa5a0e878dd472eac736fd416eec0e8",
       "tooltip": null
      }
     },
     "86257408fe25468494f8d8bb8d12307b": {
      "model_module": "@jupyter-widgets/base",
      "model_module_version": "2.0.0",
      "model_name": "LayoutModel",
      "state": {}
     },
     "868522c9b41f4bfcb0f7da2f9ace8719": {
      "model_module": "@jupyter-widgets/base",
      "model_module_version": "2.0.0",
      "model_name": "LayoutModel",
      "state": {}
     },
     "8691fa75e1ae43af8a06c953c1934b93": {
      "model_module": "@jupyter-widgets/controls",
      "model_module_version": "2.0.0",
      "model_name": "ButtonStyleModel",
      "state": {
       "font_family": null,
       "font_size": null,
       "font_style": null,
       "font_variant": null,
       "font_weight": null,
       "text_color": null,
       "text_decoration": null
      }
     },
     "86b24560174e45d8b5421076ff4a8df5": {
      "model_module": "@jupyter-widgets/base",
      "model_module_version": "2.0.0",
      "model_name": "LayoutModel",
      "state": {}
     },
     "86eac46fbd054096a9da33187fa83a2a": {
      "model_module": "@jupyter-widgets/base",
      "model_module_version": "2.0.0",
      "model_name": "LayoutModel",
      "state": {}
     },
     "86ee60bf655b40ceaa93f924b037887b": {
      "model_module": "@jupyter-widgets/controls",
      "model_module_version": "2.0.0",
      "model_name": "HBoxModel",
      "state": {
       "children": [
        "IPY_MODEL_0065dcfd8d4c49009567fbce52c3a7b3",
        "IPY_MODEL_e42d16bd9b604f6785fd4dafa2c43dd2",
        "IPY_MODEL_cf682c07c35f40568e4371d1844cc3fa",
        "IPY_MODEL_a5fdf8c9dc6d4f65aee070c6926787e1",
        "IPY_MODEL_8082486768b94700b7a0e861576f16e0"
       ],
       "layout": "IPY_MODEL_5a89a9d7863a4125823b2660c7f76752"
      }
     },
     "871100db184b49f3951ae29169426980": {
      "model_module": "@jupyter-widgets/controls",
      "model_module_version": "2.0.0",
      "model_name": "ButtonStyleModel",
      "state": {
       "font_family": null,
       "font_size": null,
       "font_style": null,
       "font_variant": null,
       "font_weight": null,
       "text_color": null,
       "text_decoration": null
      }
     },
     "871fa5a8ec3f4bad9e14d41e8a247bb2": {
      "model_module": "@jupyter-widgets/base",
      "model_module_version": "2.0.0",
      "model_name": "LayoutModel",
      "state": {}
     },
     "8740831f834b428b8f28b04efca7304e": {
      "model_module": "@jupyter-widgets/controls",
      "model_module_version": "2.0.0",
      "model_name": "ButtonStyleModel",
      "state": {
       "font_family": null,
       "font_size": null,
       "font_style": null,
       "font_variant": null,
       "font_weight": null,
       "text_color": null,
       "text_decoration": null
      }
     },
     "875ea3a4f6f243deab4e6e13a9299eaf": {
      "model_module": "@jupyter-widgets/controls",
      "model_module_version": "2.0.0",
      "model_name": "VBoxModel",
      "state": {
       "children": [
        "IPY_MODEL_4e7ae34a2d8e4d36af504babbc46b2a0",
        "IPY_MODEL_0c21cad31c3c47b78476aca6c13cb272",
        "IPY_MODEL_c9525daa2c884ac787e6a949bd55d8f4"
       ],
       "layout": "IPY_MODEL_442aadf9045d4e8dbb0bacb508e5c1da"
      }
     },
     "8769c7ce302a435d871bddbbc8a191e4": {
      "model_module": "@jupyter-widgets/controls",
      "model_module_version": "2.0.0",
      "model_name": "ButtonModel",
      "state": {
       "description": "Undo",
       "layout": "IPY_MODEL_2c766448cbc84a0ab8d42697fecdfbd3",
       "style": "IPY_MODEL_4e26112916444857acc677a4bfbd65a1",
       "tooltip": null
      }
     },
     "8783fc72a0dc447da3d7483b427a1773": {
      "model_module": "@jupyter-widgets/base",
      "model_module_version": "2.0.0",
      "model_name": "LayoutModel",
      "state": {}
     },
     "87993044acf24906aa3ffff409e6268d": {
      "model_module": "@jupyter-widgets/controls",
      "model_module_version": "2.0.0",
      "model_name": "ButtonModel",
      "state": {
       "description": "Add Column",
       "layout": "IPY_MODEL_ede88ed19e1641909f3e150f257cb3b0",
       "style": "IPY_MODEL_3b230336484b43a79dd39d83bbdf1032",
       "tooltip": null
      }
     },
     "87b02e2a05894f7284c40d8d2d1ee3dc": {
      "model_module": "@jupyter-widgets/controls",
      "model_module_version": "2.0.0",
      "model_name": "ButtonStyleModel",
      "state": {
       "font_family": null,
       "font_size": null,
       "font_style": null,
       "font_variant": null,
       "font_weight": null,
       "text_color": null,
       "text_decoration": null
      }
     },
     "87b2e2889487411fbb5af563b0bd2f6c": {
      "model_module": "ipydatagrid",
      "model_module_version": "^1.2.0",
      "model_name": "TextRendererModel",
      "state": {
       "_model_module_version": "^1.2.0",
       "_view_module_version": "^1.2.0",
       "background_color": "IPY_MODEL_e75fbee3b5cd44abb92d98b565ac4974",
       "text_color": "IPY_MODEL_3806d7a92eb9405fa6842d02aea7e144"
      }
     },
     "87d68ed514b14d709b71fd6ad6b26693": {
      "model_module": "@jupyter-widgets/base",
      "model_module_version": "2.0.0",
      "model_name": "LayoutModel",
      "state": {}
     },
     "8807beb3d6ea4d1b9dce4219650a9b8c": {
      "model_module": "@jupyter-widgets/controls",
      "model_module_version": "2.0.0",
      "model_name": "VBoxModel",
      "state": {
       "children": [
        "IPY_MODEL_9436616a2946438ea97da66938100466",
        "IPY_MODEL_c5e99c51681e40a5b59616ee5ddd42e1",
        "IPY_MODEL_c14d95e623f24d54b43919bfd8ee598b"
       ],
       "layout": "IPY_MODEL_7f49a75272df4380b439e490ac88f3a4"
      }
     },
     "882b646c1d544a39817f13b2fac3e4a3": {
      "model_module": "@jupyter-widgets/base",
      "model_module_version": "2.0.0",
      "model_name": "LayoutModel",
      "state": {}
     },
     "883317884fa44be3820961ae381d46dc": {
      "model_module": "@jupyter-widgets/controls",
      "model_module_version": "2.0.0",
      "model_name": "ButtonModel",
      "state": {
       "description": "Generate Vectors",
       "layout": "IPY_MODEL_82d04cafb92d47379882540df2a71e89",
       "style": "IPY_MODEL_a00db2566ae045aaa97c28040bed2e24",
       "tooltip": null
      }
     },
     "89c9955c94724247aa240ba52319f42f": {
      "model_module": "@jupyter-widgets/base",
      "model_module_version": "2.0.0",
      "model_name": "LayoutModel",
      "state": {}
     },
     "89fec10c1ea241af941f0544773d9159": {
      "model_module": "@jupyter-widgets/controls",
      "model_module_version": "2.0.0",
      "model_name": "HBoxModel",
      "state": {
       "children": [
        "IPY_MODEL_eb226992e8724644815362303455bd54",
        "IPY_MODEL_46c1ea816063413a9c14b184a6175aa6",
        "IPY_MODEL_4a1431a56280409f9f2dfe2d791d6ddf",
        "IPY_MODEL_c9456ddefc48460ba78a14974f86db7e",
        "IPY_MODEL_709fb741ea85476082490a0a7165428c"
       ],
       "layout": "IPY_MODEL_2dbd8acf9b7044d1a46e81f14cb245d4"
      }
     },
     "8a425a48d07040648994554a0991e574": {
      "model_module": "@jupyter-widgets/base",
      "model_module_version": "2.0.0",
      "model_name": "LayoutModel",
      "state": {}
     },
     "8a6f26ba37c0447f9c0582950c5337a4": {
      "model_module": "@jupyter-widgets/controls",
      "model_module_version": "2.0.0",
      "model_name": "HBoxModel",
      "state": {
       "children": [
        "IPY_MODEL_8aacf9e792164b2c84b913931c89f58c",
        "IPY_MODEL_7c5c624ad4c945be8b62f91d6ae6f463",
        "IPY_MODEL_9fee8bc9a9e44d46b897a49a46645b02",
        "IPY_MODEL_204d0f250c6344828533c56b0363c71b",
        "IPY_MODEL_14770d074be94c4e9bc2abe5aa34431c"
       ],
       "layout": "IPY_MODEL_83165fde7c71440eb08e97468a602fdd"
      }
     },
     "8a9bb5d7fd1244409ccb76a601473be6": {
      "model_module": "@jupyter-widgets/base",
      "model_module_version": "2.0.0",
      "model_name": "LayoutModel",
      "state": {}
     },
     "8aa8a17cfdc1435ea349f1294274cc07": {
      "model_module": "ipydatagrid",
      "model_module_version": "^1.2.0",
      "model_name": "VegaExprModel",
      "state": {
       "_model_module_version": "^1.2.0",
       "_view_module": "ipydatagrid",
       "_view_module_version": "^1.2.0",
       "_view_name": "VegaExprView"
      }
     },
     "8aacf9e792164b2c84b913931c89f58c": {
      "model_module": "@jupyter-widgets/controls",
      "model_module_version": "2.0.0",
      "model_name": "ButtonModel",
      "state": {
       "description": "Undo",
       "layout": "IPY_MODEL_cdbffb0cfd354637a24b5127f721d4f3",
       "style": "IPY_MODEL_82c43f1011624d7489a8675205ab6b40",
       "tooltip": null
      }
     },
     "8ab0bc0f5a0340db9be9386b7bb233a8": {
      "model_module": "@jupyter-widgets/controls",
      "model_module_version": "2.0.0",
      "model_name": "ButtonModel",
      "state": {
       "description": "Redo",
       "layout": "IPY_MODEL_12de36c43d484105bac372762574a4db",
       "style": "IPY_MODEL_6d4d508c9c624198a2bcdd038df5820c",
       "tooltip": null
      }
     },
     "8abea93ab409432ab35047fd756372ad": {
      "model_module": "@jupyter-widgets/controls",
      "model_module_version": "2.0.0",
      "model_name": "ButtonModel",
      "state": {
       "description": "Undo",
       "layout": "IPY_MODEL_cde6fba92a1240fb8a40167d1c13eecb",
       "style": "IPY_MODEL_788eacfe04e94b79bf62775db07ed1bf",
       "tooltip": null
      }
     },
     "8ac123ad2c8541aba028fef8b8a4057f": {
      "model_module": "@jupyter-widgets/base",
      "model_module_version": "2.0.0",
      "model_name": "LayoutModel",
      "state": {}
     },
     "8afc337a505a4704beef10e9a28aaabd": {
      "model_module": "@jupyter-widgets/base",
      "model_module_version": "2.0.0",
      "model_name": "LayoutModel",
      "state": {}
     },
     "8b2f70c747754e27b1d424c83dc15002": {
      "model_module": "@jupyter-widgets/controls",
      "model_module_version": "2.0.0",
      "model_name": "ButtonModel",
      "state": {
       "description": "Redo",
       "layout": "IPY_MODEL_8544bc58624947cea5ecc485bd6a8ef7",
       "style": "IPY_MODEL_349ee0cb22264f56b7b159fff10bbd29",
       "tooltip": null
      }
     },
     "8b8337cbbffb4d5e880db7031de685b5": {
      "model_module": "@jupyter-widgets/base",
      "model_module_version": "2.0.0",
      "model_name": "LayoutModel",
      "state": {}
     },
     "8bec535f961a49c3b3f1973cb68b412d": {
      "model_module": "@jupyter-widgets/controls",
      "model_module_version": "2.0.0",
      "model_name": "ButtonStyleModel",
      "state": {
       "font_family": null,
       "font_size": null,
       "font_style": null,
       "font_variant": null,
       "font_weight": null,
       "text_color": null,
       "text_decoration": null
      }
     },
     "8bf039234adb466bb455b2a2dd1c3b02": {
      "model_module": "ipydatagrid",
      "model_module_version": "^1.2.0",
      "model_name": "TextRendererModel",
      "state": {
       "_model_module_version": "^1.2.0",
       "_view_module_version": "^1.2.0",
       "background_color": "IPY_MODEL_063155d159f743cd89d42899574d6bf3",
       "text_color": "IPY_MODEL_2078fd0ecc3148b4b927abb9898bfad8"
      }
     },
     "8c50df3a7101420db6bb2cff58f0d166": {
      "model_module": "@jupyter-widgets/base",
      "model_module_version": "2.0.0",
      "model_name": "LayoutModel",
      "state": {}
     },
     "8c6b83820d334c8db9f332a4c0236550": {
      "model_module": "ipydatagrid",
      "model_module_version": "^1.2.0",
      "model_name": "VegaExprModel",
      "state": {
       "_model_module_version": "^1.2.0",
       "_view_module": "ipydatagrid",
       "_view_module_version": "^1.2.0",
       "_view_name": "VegaExprView"
      }
     },
     "8cc811272ed94fc897338402d0cc789a": {
      "model_module": "@jupyter-widgets/controls",
      "model_module_version": "2.0.0",
      "model_name": "ButtonStyleModel",
      "state": {
       "font_family": null,
       "font_size": null,
       "font_style": null,
       "font_variant": null,
       "font_weight": null,
       "text_color": null,
       "text_decoration": null
      }
     },
     "8d0a984a023949d5bbc7859d0eb18b04": {
      "model_module": "ipydatagrid",
      "model_module_version": "^1.2.0",
      "model_name": "VegaExprModel",
      "state": {
       "_model_module_version": "^1.2.0",
       "_view_module": "ipydatagrid",
       "_view_module_version": "^1.2.0",
       "_view_name": "VegaExprView"
      }
     },
     "8d5245080aeb46668ae1f229e1bc6bae": {
      "model_module": "@jupyter-widgets/base",
      "model_module_version": "2.0.0",
      "model_name": "LayoutModel",
      "state": {}
     },
     "8d6e61f3489b4b9a809b7cc1cd706030": {
      "model_module": "@jupyter-widgets/controls",
      "model_module_version": "2.0.0",
      "model_name": "ButtonModel",
      "state": {
       "description": "Generate Vectors",
       "layout": "IPY_MODEL_84366337ef2d46d5b9594c38fab18adc",
       "style": "IPY_MODEL_65538334512a49189a2a52906ba50638",
       "tooltip": null
      }
     },
     "8d88e63eccf34f59a57842a8e5ad9d81": {
      "model_module": "@jupyter-widgets/controls",
      "model_module_version": "2.0.0",
      "model_name": "ButtonStyleModel",
      "state": {
       "font_family": null,
       "font_size": null,
       "font_style": null,
       "font_variant": null,
       "font_weight": null,
       "text_color": null,
       "text_decoration": null
      }
     },
     "8da7c770658f468480186d89221590b2": {
      "model_module": "@jupyter-widgets/base",
      "model_module_version": "2.0.0",
      "model_name": "LayoutModel",
      "state": {}
     },
     "8dc6a26b7b4e491ba546a77575730c70": {
      "model_module": "ipydatagrid",
      "model_module_version": "^1.2.0",
      "model_name": "VegaExprModel",
      "state": {
       "_model_module_version": "^1.2.0",
       "_view_module": "ipydatagrid",
       "_view_module_version": "^1.2.0",
       "_view_name": "VegaExprView"
      }
     },
     "8e361fd6f8de472cb6398bbce7f61c30": {
      "model_module": "@jupyter-widgets/base",
      "model_module_version": "2.0.0",
      "model_name": "LayoutModel",
      "state": {}
     },
     "8e4f31098d834ef6a11d78dd05c235aa": {
      "model_module": "@jupyter-widgets/controls",
      "model_module_version": "2.0.0",
      "model_name": "VBoxModel",
      "state": {
       "children": [
        "IPY_MODEL_aa2e8bee5d664b8e9ce0150d59e10352",
        "IPY_MODEL_ae61e5a3b75745389c6306267b747121",
        "IPY_MODEL_96cae3cd6e5c4c47a586f909ce181796"
       ],
       "layout": "IPY_MODEL_5b91d9b7da02497883f4ffdcd1baa8ba"
      }
     },
     "8e500fe028334b1383d52dd00472ccd8": {
      "model_module": "ipydatagrid",
      "model_module_version": "^1.2.0",
      "model_name": "DataGridModel",
      "state": {
       "_data": {
        "data": [
         {
          "0": "x2",
          "1": "m2",
          "2": "x1",
          "3": "m1",
          "4": "ux2",
          "5": "ux1",
          "6": "um1",
          "7": "um2",
          "ipydguuid": 0,
          "key": "  Variable:"
         },
         {
          "0": "m",
          "1": "kg",
          "2": "m",
          "3": "kg",
          "4": "m",
          "5": "m",
          "6": "kg",
          "7": "kg",
          "ipydguuid": 1,
          "key": " Units:"
         },
         {
          "0": "0.058",
          "1": "0.898",
          "2": "0.129",
          "3": "0.078",
          "4": "0.00125",
          "5": "0.0025",
          "6": "0.0005 / (np.sqrt(3))",
          "7": "0.00125",
          "ipydguuid": 2,
          "key": 0
         },
         {
          "0": "0.057",
          "1": "0.902",
          "2": "0.129",
          "3": "0.078",
          "4": "0.00125",
          "5": "0.0025",
          "6": "0.0005 / (np.sqrt(3))",
          "7": "0.00125",
          "ipydguuid": 3,
          "key": 1
         },
         {
          "0": "0.057",
          "1": "0.903",
          "2": "0.129",
          "3": "0.078",
          "4": "0.00125",
          "5": "0.0025",
          "6": "0.0005 / (np.sqrt(3))",
          "7": "0;00125",
          "ipydguuid": 4,
          "key": 2
         }
        ],
        "fields": [
         {
          "key": null
         },
         {
          "0": null
         },
         {
          "1": null
         },
         {
          "2": null
         },
         {
          "3": null
         },
         {
          "4": null
         },
         {
          "5": null
         },
         {
          "6": null
         },
         {
          "7": null
         },
         {
          "ipydguuid": null
         }
        ],
        "schema": {
         "fields": [
          {
           "name": "key",
           "type": "string"
          },
          {
           "name": 0,
           "type": "string"
          },
          {
           "name": 1,
           "type": "string"
          },
          {
           "name": 2,
           "type": "string"
          },
          {
           "name": 3,
           "type": "string"
          },
          {
           "name": 4,
           "type": "string"
          },
          {
           "name": 5,
           "type": "string"
          },
          {
           "name": 6,
           "type": "string"
          },
          {
           "name": 7,
           "type": "string"
          },
          {
           "name": "ipydguuid",
           "type": "integer"
          }
         ],
         "pandas_version": "1.4.0",
         "primaryKey": [
          "key",
          "ipydguuid"
         ],
         "primaryKeyUuid": "ipydguuid"
        }
       },
       "_model_module_version": "^1.2.0",
       "_model_name": "DataGridModel",
       "_view_module_version": "^1.2.0",
       "auto_fit_columns": false,
       "auto_fit_params": {
        "area": "all",
        "numCols": null,
        "padding": 30
       },
       "base_column_header_size": 20,
       "base_column_size": 64,
       "base_row_header_size": 64,
       "base_row_size": 20,
       "default_renderer": "IPY_MODEL_3e845ff29a844282bdbae6ba87d6752a",
       "editable": true,
       "header_visibility": "all",
       "layout": "IPY_MODEL_20d6eaf0e9954f2c8a614e3d8a2d342f",
       "selection_mode": "cell"
      }
     },
     "8e7c0cad7d66441d89d15594523b3ae1": {
      "model_module": "@jupyter-widgets/base",
      "model_module_version": "2.0.0",
      "model_name": "LayoutModel",
      "state": {
       "height": "150px"
      }
     },
     "8ea6d859af404abab60c60d299aab7c6": {
      "model_module": "@jupyter-widgets/controls",
      "model_module_version": "2.0.0",
      "model_name": "ButtonStyleModel",
      "state": {
       "font_family": null,
       "font_size": null,
       "font_style": null,
       "font_variant": null,
       "font_weight": null,
       "text_color": null,
       "text_decoration": null
      }
     },
     "8ed2f5d1b46e463fab33ced84284a3a8": {
      "model_module": "@jupyter-widgets/base",
      "model_module_version": "2.0.0",
      "model_name": "LayoutModel",
      "state": {}
     },
     "8ee1ea4b8014431789dc25090df76dcd": {
      "model_module": "@jupyter-widgets/output",
      "model_module_version": "1.0.0",
      "model_name": "OutputModel",
      "state": {
       "layout": "IPY_MODEL_7236c6dcb8f4456a95bbf5ebb06b1163"
      }
     },
     "8ee4ca2ab7044f58ab5af081fcf4cb72": {
      "model_module": "@jupyter-widgets/controls",
      "model_module_version": "2.0.0",
      "model_name": "ButtonModel",
      "state": {
       "description": "Add Row",
       "layout": "IPY_MODEL_063ac7efd5a24af4bd7ac54e6893b8b3",
       "style": "IPY_MODEL_850e29f446d84c0994f8c88dce47c1bb",
       "tooltip": null
      }
     },
     "8ef1f33c2ecc46c2a8c7007779eba38b": {
      "model_module": "@jupyter-widgets/base",
      "model_module_version": "2.0.0",
      "model_name": "LayoutModel",
      "state": {}
     },
     "8f07c73987804bf291470107054663d3": {
      "model_module": "@jupyter-widgets/base",
      "model_module_version": "2.0.0",
      "model_name": "LayoutModel",
      "state": {}
     },
     "8f2b50aad8d8495b9beed14e3297c3db": {
      "model_module": "@jupyter-widgets/controls",
      "model_module_version": "2.0.0",
      "model_name": "ButtonStyleModel",
      "state": {
       "font_family": null,
       "font_size": null,
       "font_style": null,
       "font_variant": null,
       "font_weight": null,
       "text_color": null,
       "text_decoration": null
      }
     },
     "8f2edc38138642d885876f4c3ee7656b": {
      "model_module": "@jupyter-widgets/controls",
      "model_module_version": "2.0.0",
      "model_name": "ButtonStyleModel",
      "state": {
       "font_family": null,
       "font_size": null,
       "font_style": null,
       "font_variant": null,
       "font_weight": null,
       "text_color": null,
       "text_decoration": null
      }
     },
     "8f6d3f5a96a44bbc8be4dae1156a9158": {
      "model_module": "ipydatagrid",
      "model_module_version": "^1.2.0",
      "model_name": "VegaExprModel",
      "state": {
       "_model_module_version": "^1.2.0",
       "_view_module": "ipydatagrid",
       "_view_module_version": "^1.2.0",
       "_view_name": "VegaExprView"
      }
     },
     "8ff0f2cf338942f5a5b5c7635d822dc5": {
      "model_module": "@jupyter-widgets/controls",
      "model_module_version": "2.0.0",
      "model_name": "ButtonModel",
      "state": {
       "description": "Generate Vectors",
       "layout": "IPY_MODEL_79873d5a8c734dd1b817d1f216edb602",
       "style": "IPY_MODEL_d003f0da857d49118f4aecd82346d353",
       "tooltip": null
      }
     },
     "8ffbfed4aa3a437692bbc7f5f043b7c5": {
      "model_module": "@jupyter-widgets/base",
      "model_module_version": "2.0.0",
      "model_name": "LayoutModel",
      "state": {}
     },
     "900573a3a5244aed9da42b66383f2929": {
      "model_module": "@jupyter-widgets/controls",
      "model_module_version": "2.0.0",
      "model_name": "ButtonModel",
      "state": {
       "description": "Undo",
       "layout": "IPY_MODEL_0b1b084aa00c4c91baf08a75ed214637",
       "style": "IPY_MODEL_4bca1539431a4dbca4e6c5501ce8ee8a",
       "tooltip": null
      }
     },
     "9066fdb205634533917105ad50ac2cae": {
      "model_module": "@jupyter-widgets/controls",
      "model_module_version": "2.0.0",
      "model_name": "ButtonModel",
      "state": {
       "description": "Add Column",
       "layout": "IPY_MODEL_4bc0215cb1e3438d9cd2a241c822f762",
       "style": "IPY_MODEL_1f97773085944709885cd151d7208b74",
       "tooltip": null
      }
     },
     "907eb9a50d2c45ac8301ef67419f6192": {
      "model_module": "@jupyter-widgets/controls",
      "model_module_version": "2.0.0",
      "model_name": "ButtonStyleModel",
      "state": {
       "font_family": null,
       "font_size": null,
       "font_style": null,
       "font_variant": null,
       "font_weight": null,
       "text_color": null,
       "text_decoration": null
      }
     },
     "90b8b64d26424a59b01591ed13d7da38": {
      "model_module": "@jupyter-widgets/controls",
      "model_module_version": "2.0.0",
      "model_name": "ButtonStyleModel",
      "state": {
       "font_family": null,
       "font_size": null,
       "font_style": null,
       "font_variant": null,
       "font_weight": null,
       "text_color": null,
       "text_decoration": null
      }
     },
     "912b30705db74f99a38906af6952a53c": {
      "model_module": "@jupyter-widgets/base",
      "model_module_version": "2.0.0",
      "model_name": "LayoutModel",
      "state": {}
     },
     "91c585ed24c74acf89039c526384a4e7": {
      "model_module": "ipydatagrid",
      "model_module_version": "^1.2.0",
      "model_name": "VegaExprModel",
      "state": {
       "_model_module_version": "^1.2.0",
       "_view_module": "ipydatagrid",
       "_view_module_version": "^1.2.0",
       "_view_name": "VegaExprView"
      }
     },
     "91d3eeed8dbe46e4926fbe278ee17f3b": {
      "model_module": "ipydatagrid",
      "model_module_version": "^1.2.0",
      "model_name": "DataGridModel",
      "state": {
       "_data": {
        "data": [
         {
          "0": "m2",
          "1": "x2",
          "2": "",
          "ipydguuid": 0,
          "key": "  Variable:"
         },
         {
          "0": "kg",
          "1": "m",
          "2": "",
          "ipydguuid": 1,
          "key": " Units:"
         },
         {
          "0": "",
          "1": "",
          "2": "",
          "ipydguuid": 2,
          "key": 0
         },
         {
          "0": "",
          "1": "",
          "2": "",
          "ipydguuid": 3,
          "key": 1
         },
         {
          "0": "",
          "1": "",
          "2": "",
          "ipydguuid": 4,
          "key": 2
         },
         {
          "0": "",
          "1": "",
          "2": "",
          "ipydguuid": 5,
          "key": 3
         },
         {
          "0": "",
          "1": "",
          "2": "",
          "ipydguuid": 6,
          "key": 4
         },
         {
          "0": "",
          "1": "",
          "2": "",
          "ipydguuid": 7,
          "key": 5
         },
         {
          "0": "",
          "1": "",
          "2": "",
          "ipydguuid": 8,
          "key": 6
         },
         {
          "0": "",
          "1": "",
          "2": "",
          "ipydguuid": 9,
          "key": 7
         }
        ],
        "fields": [
         {
          "key": null
         },
         {
          "0": null
         },
         {
          "1": null
         },
         {
          "2": null
         },
         {
          "ipydguuid": null
         }
        ],
        "schema": {
         "fields": [
          {
           "name": "key",
           "type": "string"
          },
          {
           "name": 0,
           "type": "string"
          },
          {
           "name": 1,
           "type": "string"
          },
          {
           "name": 2,
           "type": "string"
          },
          {
           "name": "ipydguuid",
           "type": "integer"
          }
         ],
         "pandas_version": "1.4.0",
         "primaryKey": [
          "key",
          "ipydguuid"
         ],
         "primaryKeyUuid": "ipydguuid"
        }
       },
       "_model_module_version": "^1.2.0",
       "_model_name": "DataGridModel",
       "_view_module_version": "^1.2.0",
       "_visible_rows": [
        0,
        1,
        2,
        3,
        4,
        5,
        6,
        7,
        8,
        9
       ],
       "auto_fit_columns": false,
       "auto_fit_params": {
        "area": "all",
        "numCols": null,
        "padding": 30
       },
       "base_column_header_size": 20,
       "base_column_size": 64,
       "base_row_header_size": 64,
       "base_row_size": 20,
       "default_renderer": "IPY_MODEL_28fe3d21f3ec4cac81d8e0f60d4486b6",
       "editable": true,
       "header_visibility": "all",
       "layout": "IPY_MODEL_57c5f9d09dc041afb6312acb27a4dfa9",
       "selection_mode": "cell",
       "selections": [
        {
         "c1": 0,
         "c2": 0,
         "r1": 2,
         "r2": 2
        }
       ]
      }
     },
     "91e598020bfc4f20b56cbb2004afe488": {
      "model_module": "@jupyter-widgets/controls",
      "model_module_version": "2.0.0",
      "model_name": "ButtonModel",
      "state": {
       "description": "Generate Vectors",
       "layout": "IPY_MODEL_43e1e41455da44e9a8af5ffa0d43deb2",
       "style": "IPY_MODEL_725f6f5efcfc4a36ba2a525363bf1a9b",
       "tooltip": null
      }
     },
     "91eb8f85eca84375a14474a4b3f61888": {
      "model_module": "@jupyter-widgets/controls",
      "model_module_version": "2.0.0",
      "model_name": "ButtonStyleModel",
      "state": {
       "font_family": null,
       "font_size": null,
       "font_style": null,
       "font_variant": null,
       "font_weight": null,
       "text_color": null,
       "text_decoration": null
      }
     },
     "91f1f99dc924413cb82db80ba7c88c0c": {
      "model_module": "@jupyter-widgets/base",
      "model_module_version": "2.0.0",
      "model_name": "LayoutModel",
      "state": {
       "height": "150px"
      }
     },
     "9281a77386b14cf5855a1e4534183c92": {
      "model_module": "@jupyter-widgets/base",
      "model_module_version": "2.0.0",
      "model_name": "LayoutModel",
      "state": {}
     },
     "92bddbc1060544e2a6b4a9ef9521d32e": {
      "model_module": "@jupyter-widgets/base",
      "model_module_version": "2.0.0",
      "model_name": "LayoutModel",
      "state": {}
     },
     "9310eda5f4734cecab105ff6ea6b06bf": {
      "model_module": "ipydatagrid",
      "model_module_version": "^1.2.0",
      "model_name": "DataGridModel",
      "state": {
       "_data": {
        "data": [
         {
          "0": "x2",
          "1": "m2",
          "2": "x1",
          "3": "m1",
          "4": "ux2",
          "5": "ux1",
          "6": "um1",
          "7": "um2",
          "ipydguuid": 0,
          "key": "  Variable:"
         },
         {
          "0": "m",
          "1": "kg",
          "2": "m",
          "3": "kg",
          "4": "m",
          "5": "m",
          "6": "kg",
          "7": "kg",
          "ipydguuid": 1,
          "key": " Units:"
         },
         {
          "0": "0.058",
          "1": "0.898",
          "2": "0.129",
          "3": "0.078",
          "4": "0.00125",
          "5": "0.0025",
          "6": "0.0002886751345948129",
          "7": "0.00125",
          "ipydguuid": 2,
          "key": 0
         },
         {
          "0": "0.057",
          "1": "0.902",
          "2": "0.129",
          "3": "0.078",
          "4": "0.00125",
          "5": "0.0025",
          "6": "0.0002886751345948129",
          "7": "0.00125",
          "ipydguuid": 3,
          "key": 1
         },
         {
          "0": "0.057",
          "1": "0.903",
          "2": "0.129",
          "3": "0.078",
          "4": "0.00125",
          "5": "0.0025",
          "6": "0.0002886751345948129",
          "7": "0.00125",
          "ipydguuid": 4,
          "key": 2
         }
        ],
        "fields": [
         {
          "key": null
         },
         {
          "0": null
         },
         {
          "1": null
         },
         {
          "2": null
         },
         {
          "3": null
         },
         {
          "4": null
         },
         {
          "5": null
         },
         {
          "6": null
         },
         {
          "7": null
         },
         {
          "ipydguuid": null
         }
        ],
        "schema": {
         "fields": [
          {
           "name": "key",
           "type": "string"
          },
          {
           "name": 0,
           "type": "string"
          },
          {
           "name": 1,
           "type": "string"
          },
          {
           "name": 2,
           "type": "string"
          },
          {
           "name": 3,
           "type": "string"
          },
          {
           "name": 4,
           "type": "string"
          },
          {
           "name": 5,
           "type": "string"
          },
          {
           "name": 6,
           "type": "string"
          },
          {
           "name": 7,
           "type": "string"
          },
          {
           "name": "ipydguuid",
           "type": "integer"
          }
         ],
         "pandas_version": "1.4.0",
         "primaryKey": [
          "key",
          "ipydguuid"
         ],
         "primaryKeyUuid": "ipydguuid"
        }
       },
       "_model_module_version": "^1.2.0",
       "_model_name": "DataGridModel",
       "_view_module_version": "^1.2.0",
       "auto_fit_columns": false,
       "auto_fit_params": {
        "area": "all",
        "numCols": null,
        "padding": 30
       },
       "base_column_header_size": 20,
       "base_column_size": 64,
       "base_row_header_size": 64,
       "base_row_size": 20,
       "default_renderer": "IPY_MODEL_83f4033be50e4bf89aa21568c21a471b",
       "editable": true,
       "header_visibility": "all",
       "layout": "IPY_MODEL_abb2badd4ff24d948ba18845a63bb134",
       "selection_mode": "cell"
      }
     },
     "931441be6e1948719556d925e0c8f479": {
      "model_module": "@jupyter-widgets/base",
      "model_module_version": "2.0.0",
      "model_name": "LayoutModel",
      "state": {}
     },
     "934690a8b3ec421c889822f70436a588": {
      "model_module": "@jupyter-widgets/controls",
      "model_module_version": "2.0.0",
      "model_name": "ButtonStyleModel",
      "state": {
       "font_family": null,
       "font_size": null,
       "font_style": null,
       "font_variant": null,
       "font_weight": null,
       "text_color": null,
       "text_decoration": null
      }
     },
     "9354b4879e8d4f30b6cce08fac5e7a88": {
      "model_module": "@jupyter-widgets/controls",
      "model_module_version": "2.0.0",
      "model_name": "ButtonModel",
      "state": {
       "description": "Undo",
       "layout": "IPY_MODEL_4e444291d2894a9e93aaa1b82b552a6a",
       "style": "IPY_MODEL_270afea37dae49caba2419896bc5fe1a",
       "tooltip": null
      }
     },
     "9393e1ecf61b49a689033e3594e4b041": {
      "model_module": "@jupyter-widgets/base",
      "model_module_version": "2.0.0",
      "model_name": "LayoutModel",
      "state": {}
     },
     "93db58a0577d42f4a1f971493d1b2471": {
      "model_module": "@jupyter-widgets/base",
      "model_module_version": "2.0.0",
      "model_name": "LayoutModel",
      "state": {}
     },
     "9415dccc214444bfb489aa0897626d32": {
      "model_module": "@jupyter-widgets/base",
      "model_module_version": "2.0.0",
      "model_name": "LayoutModel",
      "state": {}
     },
     "9436616a2946438ea97da66938100466": {
      "model_module": "@jupyter-widgets/controls",
      "model_module_version": "2.0.0",
      "model_name": "HBoxModel",
      "state": {
       "children": [
        "IPY_MODEL_8abea93ab409432ab35047fd756372ad",
        "IPY_MODEL_952f1a302ece487f9d0d17c569a6dd8e",
        "IPY_MODEL_7091a921b00047b690913a77d10814c3",
        "IPY_MODEL_ef9d78df0f37414983a7e4eb30c1e3be",
        "IPY_MODEL_3e85f858944347a1a2492f3f4fcc9400"
       ],
       "layout": "IPY_MODEL_fb52cceeec774b4eb7f82618e6b7f887"
      }
     },
     "948b29f7b81b4e32bdfec1febed1706a": {
      "model_module": "@jupyter-widgets/base",
      "model_module_version": "2.0.0",
      "model_name": "LayoutModel",
      "state": {
       "height": "150px"
      }
     },
     "94a4a08863d740e8a43a35b254edbc4a": {
      "model_module": "@jupyter-widgets/controls",
      "model_module_version": "2.0.0",
      "model_name": "ButtonModel",
      "state": {
       "description": "Add Row",
       "layout": "IPY_MODEL_b892aab17a3c4ed69aa440fdaf49ea57",
       "style": "IPY_MODEL_483eefd6f06941e2ade2e9bcb7a9ee84",
       "tooltip": null
      }
     },
     "94e7612692be4dd5978ba55c1f6d993e": {
      "model_module": "@jupyter-widgets/controls",
      "model_module_version": "2.0.0",
      "model_name": "HBoxModel",
      "state": {
       "children": [
        "IPY_MODEL_a7f7cbff27ce49b59a02d63760316376",
        "IPY_MODEL_d4eac61803c642e48abf12cebef4a0e9",
        "IPY_MODEL_b5eea9eace4c45ea8b606f5592f050b9",
        "IPY_MODEL_c34a6f1acc174a1a9fc8821a2da91e5f",
        "IPY_MODEL_0d70cd152e1a4c20a35f9b39df7b03c4"
       ],
       "layout": "IPY_MODEL_7d09209081644bf5aa18b59cd71cc77a"
      }
     },
     "950ba51ab8be459cb2cb5f212c21e5f8": {
      "model_module": "@jupyter-widgets/controls",
      "model_module_version": "2.0.0",
      "model_name": "ButtonStyleModel",
      "state": {
       "font_family": null,
       "font_size": null,
       "font_style": null,
       "font_variant": null,
       "font_weight": null,
       "text_color": null,
       "text_decoration": null
      }
     },
     "952f1a302ece487f9d0d17c569a6dd8e": {
      "model_module": "@jupyter-widgets/controls",
      "model_module_version": "2.0.0",
      "model_name": "ButtonModel",
      "state": {
       "description": "Redo",
       "layout": "IPY_MODEL_422327173cb04c65be8adc2cb54eae8d",
       "style": "IPY_MODEL_125c2fced4024718bfae29f2acefae38",
       "tooltip": null
      }
     },
     "95872ae28ab04043a6d7533b45985766": {
      "model_module": "@jupyter-widgets/controls",
      "model_module_version": "2.0.0",
      "model_name": "ButtonStyleModel",
      "state": {
       "font_family": null,
       "font_size": null,
       "font_style": null,
       "font_variant": null,
       "font_weight": null,
       "text_color": null,
       "text_decoration": null
      }
     },
     "95ab93593fd449859367e0e4d2d0a6e7": {
      "model_module": "@jupyter-widgets/controls",
      "model_module_version": "2.0.0",
      "model_name": "ButtonModel",
      "state": {
       "description": "Undo",
       "layout": "IPY_MODEL_781e299dd01a4d0f8241c5170c02d0ac",
       "style": "IPY_MODEL_b68a2b6d1c0e458091d9323f24e0193d",
       "tooltip": null
      }
     },
     "95dae1a3003c41d4b13dbcee5051e07b": {
      "model_module": "@jupyter-widgets/base",
      "model_module_version": "2.0.0",
      "model_name": "LayoutModel",
      "state": {}
     },
     "95f549a977e3471aa1182f9a7f4beba1": {
      "model_module": "@jupyter-widgets/base",
      "model_module_version": "2.0.0",
      "model_name": "LayoutModel",
      "state": {}
     },
     "9624be9dcc8e4047ab958722d630ee80": {
      "model_module": "@jupyter-widgets/base",
      "model_module_version": "2.0.0",
      "model_name": "LayoutModel",
      "state": {}
     },
     "965f510f4d034e8e8250b1d239246164": {
      "model_module": "@jupyter-widgets/output",
      "model_module_version": "1.0.0",
      "model_name": "OutputModel",
      "state": {
       "layout": "IPY_MODEL_e9fa3c2bed5e4f1caee24d897031e121"
      }
     },
     "969d427fe35743e5984c2f4247317f95": {
      "model_module": "@jupyter-widgets/base",
      "model_module_version": "2.0.0",
      "model_name": "LayoutModel",
      "state": {}
     },
     "96cae3cd6e5c4c47a586f909ce181796": {
      "model_module": "@jupyter-widgets/output",
      "model_module_version": "1.0.0",
      "model_name": "OutputModel",
      "state": {
       "layout": "IPY_MODEL_55d2fdfa63a1413bac9a5ff363bef1d3",
       "outputs": [
        {
         "name": "stdout",
         "output_type": "stream",
         "text": "Data vectors need to be updated\n"
        }
       ]
      }
     },
     "96cde6f4cb284c22a4df167067393de5": {
      "model_module": "@jupyter-widgets/controls",
      "model_module_version": "2.0.0",
      "model_name": "ButtonStyleModel",
      "state": {
       "font_family": null,
       "font_size": null,
       "font_style": null,
       "font_variant": null,
       "font_weight": null,
       "text_color": null,
       "text_decoration": null
      }
     },
     "96f08e073cc043489aa2294b49783e81": {
      "model_module": "@jupyter-widgets/controls",
      "model_module_version": "2.0.0",
      "model_name": "ButtonStyleModel",
      "state": {
       "font_family": null,
       "font_size": null,
       "font_style": null,
       "font_variant": null,
       "font_weight": null,
       "text_color": null,
       "text_decoration": null
      }
     },
     "971e09127a0a47dfa38a9f0f8fc680fb": {
      "model_module": "@jupyter-widgets/controls",
      "model_module_version": "2.0.0",
      "model_name": "ButtonModel",
      "state": {
       "description": "Redo",
       "layout": "IPY_MODEL_3df8022168224395b8100a84cc52dd2d",
       "style": "IPY_MODEL_9a2e0c0c0fce4b71912b981fbb5989a2",
       "tooltip": null
      }
     },
     "973d392a560347c2b6b2b2c587901843": {
      "model_module": "@jupyter-widgets/controls",
      "model_module_version": "2.0.0",
      "model_name": "ButtonModel",
      "state": {
       "description": "Add Row",
       "layout": "IPY_MODEL_cb1ea0fa8eb5435595db93a8cbf6ae41",
       "style": "IPY_MODEL_05afcdce14984acf9c03bda7d66c0226",
       "tooltip": null
      }
     },
     "97508d782944477993a0cab9f75af063": {
      "model_module": "@jupyter-widgets/base",
      "model_module_version": "2.0.0",
      "model_name": "LayoutModel",
      "state": {}
     },
     "975edd5fa2cf407da41afe8fd8364aee": {
      "model_module": "@jupyter-widgets/output",
      "model_module_version": "1.0.0",
      "model_name": "OutputModel",
      "state": {
       "layout": "IPY_MODEL_56c35d7b176a48838d8d974f71fa623a",
       "outputs": [
        {
         "name": "stdout",
         "output_type": "stream",
         "text": "Data vectors need to be updated\n"
        }
       ]
      }
     },
     "97617090470842b59307e89204118d42": {
      "model_module": "@jupyter-widgets/base",
      "model_module_version": "2.0.0",
      "model_name": "LayoutModel",
      "state": {}
     },
     "97eea2a936844df390f3dd7c8f121be1": {
      "model_module": "@jupyter-widgets/base",
      "model_module_version": "2.0.0",
      "model_name": "LayoutModel",
      "state": {}
     },
     "980208021d60495f8861e289f1419fb9": {
      "model_module": "ipydatagrid",
      "model_module_version": "^1.2.0",
      "model_name": "TextRendererModel",
      "state": {
       "_model_module_version": "^1.2.0",
       "_view_module_version": "^1.2.0",
       "background_color": "IPY_MODEL_6665e1a664e3477c86643058b3e3d534",
       "text_color": "IPY_MODEL_5814dc506304446fba64fb78347cee24"
      }
     },
     "98027f5825204fcca81b698167ca85eb": {
      "model_module": "@jupyter-widgets/controls",
      "model_module_version": "2.0.0",
      "model_name": "ButtonModel",
      "state": {
       "description": "Add Row",
       "layout": "IPY_MODEL_c825278476c44d94ab08b8a437a39a1f",
       "style": "IPY_MODEL_f1891d75b68a466580b39d5d13a71ac9",
       "tooltip": null
      }
     },
     "98c97dfe7e9e44b88669297986131bd1": {
      "model_module": "@jupyter-widgets/base",
      "model_module_version": "2.0.0",
      "model_name": "LayoutModel",
      "state": {}
     },
     "98dee292d6a2455485e118a698bd64e0": {
      "model_module": "@jupyter-widgets/base",
      "model_module_version": "2.0.0",
      "model_name": "LayoutModel",
      "state": {}
     },
     "990ff333245f4953814d96cc9fc44d53": {
      "model_module": "@jupyter-widgets/base",
      "model_module_version": "2.0.0",
      "model_name": "LayoutModel",
      "state": {}
     },
     "99237c66e55a42fbac38f621f0b92bfb": {
      "model_module": "ipydatagrid",
      "model_module_version": "^1.2.0",
      "model_name": "VegaExprModel",
      "state": {
       "_model_module_version": "^1.2.0",
       "_view_module": "ipydatagrid",
       "_view_module_version": "^1.2.0",
       "_view_name": "VegaExprView"
      }
     },
     "997d3f9f30144dd69ed4af9d8ef42808": {
      "model_module": "@jupyter-widgets/controls",
      "model_module_version": "2.0.0",
      "model_name": "VBoxModel",
      "state": {
       "children": [
        "IPY_MODEL_a1987e1efe9343c5934e671e816be4a6",
        "IPY_MODEL_babfea59ef92448b87f87c9cb38adc9e",
        "IPY_MODEL_2a7ece5ac152448f980cae395734fe13"
       ],
       "layout": "IPY_MODEL_8afc337a505a4704beef10e9a28aaabd"
      }
     },
     "99a2045ac6444a068c331248933a88f9": {
      "model_module": "@jupyter-widgets/controls",
      "model_module_version": "2.0.0",
      "model_name": "ButtonModel",
      "state": {
       "description": "Add Column",
       "layout": "IPY_MODEL_fe9d29a6fd2647a48dc3206ed3d25139",
       "style": "IPY_MODEL_18a1af10d75e41b78afea1d927bd7a24",
       "tooltip": null
      }
     },
     "99b35239878744769d9bf6b12196d18d": {
      "model_module": "@jupyter-widgets/base",
      "model_module_version": "2.0.0",
      "model_name": "LayoutModel",
      "state": {}
     },
     "9a052c666bc743a1a3e363b19912863d": {
      "model_module": "@jupyter-widgets/controls",
      "model_module_version": "2.0.0",
      "model_name": "ButtonStyleModel",
      "state": {
       "font_family": null,
       "font_size": null,
       "font_style": null,
       "font_variant": null,
       "font_weight": null,
       "text_color": null,
       "text_decoration": null
      }
     },
     "9a2d22f1f695492ca7a00e46137b4929": {
      "model_module": "ipydatagrid",
      "model_module_version": "^1.2.0",
      "model_name": "VegaExprModel",
      "state": {
       "_model_module_version": "^1.2.0",
       "_view_module": "ipydatagrid",
       "_view_module_version": "^1.2.0",
       "_view_name": "VegaExprView"
      }
     },
     "9a2e0c0c0fce4b71912b981fbb5989a2": {
      "model_module": "@jupyter-widgets/controls",
      "model_module_version": "2.0.0",
      "model_name": "ButtonStyleModel",
      "state": {
       "font_family": null,
       "font_size": null,
       "font_style": null,
       "font_variant": null,
       "font_weight": null,
       "text_color": null,
       "text_decoration": null
      }
     },
     "9a668b04ccbd47cdabc102515a0c4ed1": {
      "model_module": "@jupyter-widgets/base",
      "model_module_version": "2.0.0",
      "model_name": "LayoutModel",
      "state": {}
     },
     "9a796f72659e40ddb39e5c910b6c5ab4": {
      "model_module": "@jupyter-widgets/controls",
      "model_module_version": "2.0.0",
      "model_name": "ButtonModel",
      "state": {
       "description": "Undo",
       "layout": "IPY_MODEL_ca82410e5a2b46a9979ee1e53d893a85",
       "style": "IPY_MODEL_c2d807d9aff240a19c9401036d294267",
       "tooltip": null
      }
     },
     "9a9003aaac5c40a9a560c1a1d46f6dfa": {
      "model_module": "@jupyter-widgets/base",
      "model_module_version": "2.0.0",
      "model_name": "LayoutModel",
      "state": {}
     },
     "9a93b01c394f4be4bc5c5fda7c019795": {
      "model_module": "ipydatagrid",
      "model_module_version": "^1.2.0",
      "model_name": "TextRendererModel",
      "state": {
       "_model_module_version": "^1.2.0",
       "_view_module_version": "^1.2.0",
       "background_color": "IPY_MODEL_cb6770b44afb4cd59ddd688773a1e4d1",
       "text_color": "IPY_MODEL_236db25ff4d24164a2c64fc550785951"
      }
     },
     "9ab5814da0bb4553b5ffa68d14b55a7e": {
      "model_module": "ipydatagrid",
      "model_module_version": "^1.2.0",
      "model_name": "TextRendererModel",
      "state": {
       "_model_module_version": "^1.2.0",
       "_view_module_version": "^1.2.0",
       "background_color": "IPY_MODEL_3e5d3f5736334895ade21cd896712ea9",
       "text_color": "IPY_MODEL_d852bd4698d5458a9a2d399327037032"
      }
     },
     "9ae923d3063745419a26388888d079b8": {
      "model_module": "@jupyter-widgets/output",
      "model_module_version": "1.0.0",
      "model_name": "OutputModel",
      "state": {
       "layout": "IPY_MODEL_a1dc402fc6e04fccab96cb12c19fb1bf"
      }
     },
     "9afd6280444b42bcb2af7ab7810c5fe7": {
      "model_module": "@jupyter-widgets/controls",
      "model_module_version": "2.0.0",
      "model_name": "VBoxModel",
      "state": {
       "children": [
        "IPY_MODEL_0150ecdfa79e4c50b0beff08823dc812",
        "IPY_MODEL_6b61e53dde5a408495777a8292e2d2b8",
        "IPY_MODEL_1a41fd88ca584a27a901ef7c5111c75f"
       ],
       "layout": "IPY_MODEL_9f120f83144945bda5e3a29640a8ea07"
      }
     },
     "9b1caf47dedf4f32b2814bc24836f4f6": {
      "model_module": "ipydatagrid",
      "model_module_version": "^1.2.0",
      "model_name": "DataGridModel",
      "state": {
       "_data": {
        "data": [
         {
          "0": "x2",
          "1": "m2",
          "2": "x1",
          "3": "m1",
          "4": "ux2",
          "5": "ux1",
          "6": "um1",
          "7": "um2",
          "ipydguuid": 0,
          "key": "  Variable:"
         },
         {
          "0": "m",
          "1": "kg",
          "2": "m",
          "3": "kg",
          "4": "m",
          "5": "m",
          "6": "kg",
          "7": "kg",
          "ipydguuid": 1,
          "key": " Units:"
         },
         {
          "0": "0.045",
          "1": "1.150",
          "2": "0.129",
          "3": "0.078",
          "4": "0.00125",
          "5": "0.0025",
          "6": "0.0002886751345948129",
          "7": "0.00125",
          "ipydguuid": 2,
          "key": 0
         },
         {
          "0": "0.040",
          "1": "1.189",
          "2": "0.129",
          "3": "0.078",
          "4": "0.00125",
          "5": "0.0025",
          "6": "0.0002886751345948129",
          "7": "0.00125",
          "ipydguuid": 3,
          "key": 1
         },
         {
          "0": "0.057",
          "1": "0.903",
          "2": "0.129",
          "3": "0.078",
          "4": "0.00125",
          "5": "0.0025",
          "6": "0.0002886751345948129",
          "7": "0.00125",
          "ipydguuid": 4,
          "key": 2
         }
        ],
        "fields": [
         {
          "key": null
         },
         {
          "0": null
         },
         {
          "1": null
         },
         {
          "2": null
         },
         {
          "3": null
         },
         {
          "4": null
         },
         {
          "5": null
         },
         {
          "6": null
         },
         {
          "7": null
         },
         {
          "ipydguuid": null
         }
        ],
        "schema": {
         "fields": [
          {
           "name": "key",
           "type": "string"
          },
          {
           "name": 0,
           "type": "string"
          },
          {
           "name": 1,
           "type": "string"
          },
          {
           "name": 2,
           "type": "string"
          },
          {
           "name": 3,
           "type": "string"
          },
          {
           "name": 4,
           "type": "string"
          },
          {
           "name": 5,
           "type": "string"
          },
          {
           "name": 6,
           "type": "string"
          },
          {
           "name": 7,
           "type": "string"
          },
          {
           "name": "ipydguuid",
           "type": "integer"
          }
         ],
         "pandas_version": "1.4.0",
         "primaryKey": [
          "key",
          "ipydguuid"
         ],
         "primaryKeyUuid": "ipydguuid"
        }
       },
       "_model_module_version": "^1.2.0",
       "_model_name": "DataGridModel",
       "_view_module_version": "^1.2.0",
       "_visible_rows": [
        0,
        1,
        2,
        3,
        4
       ],
       "auto_fit_columns": false,
       "auto_fit_params": {
        "area": "all",
        "numCols": null,
        "padding": 30
       },
       "base_column_header_size": 20,
       "base_column_size": 64,
       "base_row_header_size": 64,
       "base_row_size": 20,
       "default_renderer": "IPY_MODEL_6e7d5416b2a0472caabe56d5cac496ac",
       "editable": true,
       "header_visibility": "all",
       "layout": "IPY_MODEL_fde0c8428824460ba0a181716ef3bffd",
       "selection_mode": "cell",
       "selections": [
        {
         "c1": 1,
         "c2": 1,
         "r1": 4,
         "r2": 4
        }
       ]
      }
     },
     "9b36d5269b4c4f2fae7f1a1bb8267fb6": {
      "model_module": "@jupyter-widgets/base",
      "model_module_version": "2.0.0",
      "model_name": "LayoutModel",
      "state": {}
     },
     "9b92424bb29241e5b478ea32f09b42ef": {
      "model_module": "@jupyter-widgets/base",
      "model_module_version": "2.0.0",
      "model_name": "LayoutModel",
      "state": {}
     },
     "9b9e4a6d98a040008dd8538ce2170543": {
      "model_module": "@jupyter-widgets/base",
      "model_module_version": "2.0.0",
      "model_name": "LayoutModel",
      "state": {}
     },
     "9bc935f096f2493d9dad05f0bcaeb4c8": {
      "model_module": "@jupyter-widgets/controls",
      "model_module_version": "2.0.0",
      "model_name": "ButtonModel",
      "state": {
       "description": "Generate Vectors",
       "layout": "IPY_MODEL_b0229ad3093345f49aa6e41775fbe448",
       "style": "IPY_MODEL_0dcb0bdadf904591be4e602bc87ee89d",
       "tooltip": null
      }
     },
     "9bd581ca4155449ca4949ef088d9bd61": {
      "model_module": "ipydatagrid",
      "model_module_version": "^1.2.0",
      "model_name": "VegaExprModel",
      "state": {
       "_model_module_version": "^1.2.0",
       "_view_module": "ipydatagrid",
       "_view_module_version": "^1.2.0",
       "_view_name": "VegaExprView"
      }
     },
     "9bf897b85b4f44168c3e70379713c987": {
      "model_module": "@jupyter-widgets/base",
      "model_module_version": "2.0.0",
      "model_name": "LayoutModel",
      "state": {}
     },
     "9c0157a3641f416b91bea8fa0a5ca1cd": {
      "model_module": "@jupyter-widgets/controls",
      "model_module_version": "2.0.0",
      "model_name": "ButtonModel",
      "state": {
       "description": "Add Column",
       "layout": "IPY_MODEL_5341403e5dd143cb989abff3a7ea920c",
       "style": "IPY_MODEL_b4e8226ab4194e6a8385459d80038248",
       "tooltip": null
      }
     },
     "9c2bfc027f5b453499aa4a697269f0ac": {
      "model_module": "ipydatagrid",
      "model_module_version": "^1.2.0",
      "model_name": "VegaExprModel",
      "state": {
       "_model_module_version": "^1.2.0",
       "_view_module": "ipydatagrid",
       "_view_module_version": "^1.2.0",
       "_view_name": "VegaExprView"
      }
     },
     "9c758152ecfd4f55add7b13f74eae4cc": {
      "model_module": "@jupyter-widgets/base",
      "model_module_version": "2.0.0",
      "model_name": "LayoutModel",
      "state": {}
     },
     "9c907b8c038d442d9f23aab316bfc3c7": {
      "model_module": "@jupyter-widgets/base",
      "model_module_version": "2.0.0",
      "model_name": "LayoutModel",
      "state": {}
     },
     "9ca0f28b52194eb2a40b605c1c47283e": {
      "model_module": "@jupyter-widgets/base",
      "model_module_version": "2.0.0",
      "model_name": "LayoutModel",
      "state": {}
     },
     "9ccf58886ac8495b871e334c71f68bd4": {
      "model_module": "@jupyter-widgets/base",
      "model_module_version": "2.0.0",
      "model_name": "LayoutModel",
      "state": {}
     },
     "9d2c7706ac834c478d400d976b4a025c": {
      "model_module": "@jupyter-widgets/base",
      "model_module_version": "2.0.0",
      "model_name": "LayoutModel",
      "state": {}
     },
     "9d3bc927922b433680b1faeb2760e40c": {
      "model_module": "@jupyter-widgets/base",
      "model_module_version": "2.0.0",
      "model_name": "LayoutModel",
      "state": {}
     },
     "9d6b5cc066f5406eabe49025b1f0da15": {
      "model_module": "@jupyter-widgets/base",
      "model_module_version": "2.0.0",
      "model_name": "LayoutModel",
      "state": {}
     },
     "9da9bec74079436aa26e7407674c7719": {
      "model_module": "ipydatagrid",
      "model_module_version": "^1.2.0",
      "model_name": "VegaExprModel",
      "state": {
       "_model_module_version": "^1.2.0",
       "_view_module": "ipydatagrid",
       "_view_module_version": "^1.2.0",
       "_view_name": "VegaExprView"
      }
     },
     "9dbd605ebf6542f288bfda6f0760a897": {
      "model_module": "@jupyter-widgets/base",
      "model_module_version": "2.0.0",
      "model_name": "LayoutModel",
      "state": {}
     },
     "9dc63abc06964b2c80a6bcc1a36f773c": {
      "model_module": "@jupyter-widgets/controls",
      "model_module_version": "2.0.0",
      "model_name": "ButtonStyleModel",
      "state": {
       "font_family": null,
       "font_size": null,
       "font_style": null,
       "font_variant": null,
       "font_weight": null,
       "text_color": null,
       "text_decoration": null
      }
     },
     "9dce6ca196a348e7aa5f0628634c5460": {
      "model_module": "@jupyter-widgets/output",
      "model_module_version": "1.0.0",
      "model_name": "OutputModel",
      "state": {
       "layout": "IPY_MODEL_760d8181e47446b28d4f84aa1565ca3b"
      }
     },
     "9dee92e311ce40679ffec25c4d2ced22": {
      "model_module": "ipydatagrid",
      "model_module_version": "^1.2.0",
      "model_name": "TextRendererModel",
      "state": {
       "_model_module_version": "^1.2.0",
       "_view_module_version": "^1.2.0",
       "background_color": "IPY_MODEL_4dbfe6fc0fc5417b9069905a48c20dce",
       "text_color": "IPY_MODEL_8584f2f06225495588c3b1d0a9b644dc"
      }
     },
     "9e0be167a3934750aa7ff5be626a7e03": {
      "model_module": "ipydatagrid",
      "model_module_version": "^1.2.0",
      "model_name": "VegaExprModel",
      "state": {
       "_model_module_version": "^1.2.0",
       "_view_module": "ipydatagrid",
       "_view_module_version": "^1.2.0",
       "_view_name": "VegaExprView"
      }
     },
     "9e3cd245ff7749bb9a6fae262f4d31f1": {
      "model_module": "@jupyter-widgets/base",
      "model_module_version": "2.0.0",
      "model_name": "LayoutModel",
      "state": {
       "height": "150px"
      }
     },
     "9e4e0340ad5146fe9f271f3bc71b9754": {
      "model_module": "ipydatagrid",
      "model_module_version": "^1.2.0",
      "model_name": "VegaExprModel",
      "state": {
       "_model_module_version": "^1.2.0",
       "_view_module": "ipydatagrid",
       "_view_module_version": "^1.2.0",
       "_view_name": "VegaExprView"
      }
     },
     "9e7f49d8fd274c00b9cc6fc67c14398b": {
      "model_module": "@jupyter-widgets/base",
      "model_module_version": "2.0.0",
      "model_name": "LayoutModel",
      "state": {}
     },
     "9ee43e51c4cf49459d6bd68c25415f4c": {
      "model_module": "@jupyter-widgets/base",
      "model_module_version": "2.0.0",
      "model_name": "LayoutModel",
      "state": {}
     },
     "9ee7f393dbb641778f3d4ecd9056ca7b": {
      "model_module": "ipydatagrid",
      "model_module_version": "^1.2.0",
      "model_name": "VegaExprModel",
      "state": {
       "_model_module_version": "^1.2.0",
       "_view_module": "ipydatagrid",
       "_view_module_version": "^1.2.0",
       "_view_name": "VegaExprView"
      }
     },
     "9f120f83144945bda5e3a29640a8ea07": {
      "model_module": "@jupyter-widgets/base",
      "model_module_version": "2.0.0",
      "model_name": "LayoutModel",
      "state": {}
     },
     "9fbefde9b9554c61b2bbeda2fc350e4d": {
      "model_module": "ipydatagrid",
      "model_module_version": "^1.2.0",
      "model_name": "VegaExprModel",
      "state": {
       "_model_module_version": "^1.2.0",
       "_view_module": "ipydatagrid",
       "_view_module_version": "^1.2.0",
       "_view_name": "VegaExprView"
      }
     },
     "9fee8bc9a9e44d46b897a49a46645b02": {
      "model_module": "@jupyter-widgets/controls",
      "model_module_version": "2.0.0",
      "model_name": "ButtonModel",
      "state": {
       "description": "Add Row",
       "layout": "IPY_MODEL_19f0e21d1205444ea39f41c9a9e22924",
       "style": "IPY_MODEL_70a4d6f2cc7d48178c5e933763400210",
       "tooltip": null
      }
     },
     "9ff2a8e65fdd4808acf935682af45387": {
      "model_module": "@jupyter-widgets/controls",
      "model_module_version": "2.0.0",
      "model_name": "ButtonModel",
      "state": {
       "description": "Add Row",
       "layout": "IPY_MODEL_062054af7e874474885bdc8648edbfb1",
       "style": "IPY_MODEL_71cad2a2975d4304b3f4aae569a85d07",
       "tooltip": null
      }
     },
     "a00db2566ae045aaa97c28040bed2e24": {
      "model_module": "@jupyter-widgets/controls",
      "model_module_version": "2.0.0",
      "model_name": "ButtonStyleModel",
      "state": {
       "font_family": null,
       "font_size": null,
       "font_style": null,
       "font_variant": null,
       "font_weight": null,
       "text_color": null,
       "text_decoration": null
      }
     },
     "a0e94bbd5ba04cb1b423dc1310f681ce": {
      "model_module": "@jupyter-widgets/base",
      "model_module_version": "2.0.0",
      "model_name": "LayoutModel",
      "state": {}
     },
     "a112de5578e34c2fad298be80f35ccdf": {
      "model_module": "@jupyter-widgets/controls",
      "model_module_version": "2.0.0",
      "model_name": "VBoxModel",
      "state": {
       "children": [
        "IPY_MODEL_32b8d57ca6c94ecc899109d970b866b1",
        "IPY_MODEL_b6af4a29dfa14dbd985f6a54ba9b5615",
        "IPY_MODEL_0b58b214757a44ab83bf1378d15ad321"
       ],
       "layout": "IPY_MODEL_9d3bc927922b433680b1faeb2760e40c"
      }
     },
     "a147056dc1df43e2a705c9c950252705": {
      "model_module": "@jupyter-widgets/base",
      "model_module_version": "2.0.0",
      "model_name": "LayoutModel",
      "state": {
       "height": "150px"
      }
     },
     "a148a12091a348f89e25932ef63b17dd": {
      "model_module": "@jupyter-widgets/base",
      "model_module_version": "2.0.0",
      "model_name": "LayoutModel",
      "state": {}
     },
     "a14a151da96b476cb99efc4e60a37299": {
      "model_module": "ipydatagrid",
      "model_module_version": "^1.2.0",
      "model_name": "VegaExprModel",
      "state": {
       "_model_module_version": "^1.2.0",
       "_view_module": "ipydatagrid",
       "_view_module_version": "^1.2.0",
       "_view_name": "VegaExprView"
      }
     },
     "a162c29354b0496182958d5db224e82c": {
      "model_module": "@jupyter-widgets/controls",
      "model_module_version": "2.0.0",
      "model_name": "ButtonStyleModel",
      "state": {
       "font_family": null,
       "font_size": null,
       "font_style": null,
       "font_variant": null,
       "font_weight": null,
       "text_color": null,
       "text_decoration": null
      }
     },
     "a18f51a41c604b9ea6ac0a9389cc874a": {
      "model_module": "@jupyter-widgets/base",
      "model_module_version": "2.0.0",
      "model_name": "LayoutModel",
      "state": {}
     },
     "a1987e1efe9343c5934e671e816be4a6": {
      "model_module": "@jupyter-widgets/controls",
      "model_module_version": "2.0.0",
      "model_name": "HBoxModel",
      "state": {
       "children": [
        "IPY_MODEL_6e034b3c3b354231a4049cdb6e1c85e9",
        "IPY_MODEL_cc14773bb90141a182ced658061f29eb",
        "IPY_MODEL_115e6fa6eb034e179422a75db69621a4",
        "IPY_MODEL_addf92a2f5e742d2a2d5338d99550090",
        "IPY_MODEL_fa87fbcddc234805986b541d5be0901d"
       ],
       "layout": "IPY_MODEL_aa20cc99b67a4b73b8184a82d2735a32"
      }
     },
     "a1dc402fc6e04fccab96cb12c19fb1bf": {
      "model_module": "@jupyter-widgets/base",
      "model_module_version": "2.0.0",
      "model_name": "LayoutModel",
      "state": {}
     },
     "a20ae07f72a74b76ad4f909bd6c7347b": {
      "model_module": "@jupyter-widgets/controls",
      "model_module_version": "2.0.0",
      "model_name": "ButtonStyleModel",
      "state": {
       "font_family": null,
       "font_size": null,
       "font_style": null,
       "font_variant": null,
       "font_weight": null,
       "text_color": null,
       "text_decoration": null
      }
     },
     "a229c11779d84b3383c7c909e2e9ac8d": {
      "model_module": "@jupyter-widgets/controls",
      "model_module_version": "2.0.0",
      "model_name": "ButtonStyleModel",
      "state": {
       "font_family": null,
       "font_size": null,
       "font_style": null,
       "font_variant": null,
       "font_weight": null,
       "text_color": null,
       "text_decoration": null
      }
     },
     "a2373cc14cb44c32b077c127a29f604f": {
      "model_module": "@jupyter-widgets/controls",
      "model_module_version": "2.0.0",
      "model_name": "ButtonStyleModel",
      "state": {
       "font_family": null,
       "font_size": null,
       "font_style": null,
       "font_variant": null,
       "font_weight": null,
       "text_color": null,
       "text_decoration": null
      }
     },
     "a256ac4302e04209957a34661453013d": {
      "model_module": "@jupyter-widgets/controls",
      "model_module_version": "2.0.0",
      "model_name": "ButtonModel",
      "state": {
       "description": "Add Row",
       "layout": "IPY_MODEL_e8e6163686ef4c5f9ace549206376a6d",
       "style": "IPY_MODEL_a5e08a527e824ecaa06b5ab252f32143",
       "tooltip": null
      }
     },
     "a29bfed529c14f6e89e7ad88f523ea9d": {
      "model_module": "@jupyter-widgets/base",
      "model_module_version": "2.0.0",
      "model_name": "LayoutModel",
      "state": {
       "height": "150px"
      }
     },
     "a2ef43b9e7804a9080ccf019c2421ded": {
      "model_module": "@jupyter-widgets/base",
      "model_module_version": "2.0.0",
      "model_name": "LayoutModel",
      "state": {}
     },
     "a320bc840527445cb507b702ccad06f2": {
      "model_module": "@jupyter-widgets/base",
      "model_module_version": "2.0.0",
      "model_name": "LayoutModel",
      "state": {}
     },
     "a397e7cd83704ea0bbdb603834b7489d": {
      "model_module": "@jupyter-widgets/controls",
      "model_module_version": "2.0.0",
      "model_name": "VBoxModel",
      "state": {
       "children": [
        "IPY_MODEL_afdd2950ab77424f9f17c7b4af450047",
        "IPY_MODEL_abf1b00cba83484e878402195dba80ba",
        "IPY_MODEL_1951933db60147438486ecbd73707991"
       ],
       "layout": "IPY_MODEL_ac14a4da793f4c3194f0907e276b0e06"
      }
     },
     "a3a0738faf74416680a198ed7e8143eb": {
      "model_module": "@jupyter-widgets/base",
      "model_module_version": "2.0.0",
      "model_name": "LayoutModel",
      "state": {}
     },
     "a3af1d841da94b53bbc97417c89448b1": {
      "model_module": "@jupyter-widgets/base",
      "model_module_version": "2.0.0",
      "model_name": "LayoutModel",
      "state": {}
     },
     "a3ca68b0afbd47b387f5723582842f72": {
      "model_module": "@jupyter-widgets/controls",
      "model_module_version": "2.0.0",
      "model_name": "ButtonStyleModel",
      "state": {
       "font_family": null,
       "font_size": null,
       "font_style": null,
       "font_variant": null,
       "font_weight": null,
       "text_color": null,
       "text_decoration": null
      }
     },
     "a3cde78df04b45f08f479edb36a9a571": {
      "model_module": "@jupyter-widgets/base",
      "model_module_version": "2.0.0",
      "model_name": "LayoutModel",
      "state": {}
     },
     "a43a7fb735eb4f42ad8aabe1dc72d68f": {
      "model_module": "ipydatagrid",
      "model_module_version": "^1.2.0",
      "model_name": "VegaExprModel",
      "state": {
       "_model_module_version": "^1.2.0",
       "_view_module": "ipydatagrid",
       "_view_module_version": "^1.2.0",
       "_view_name": "VegaExprView"
      }
     },
     "a472d91a1f3f4ce799434cc756882621": {
      "model_module": "@jupyter-widgets/controls",
      "model_module_version": "2.0.0",
      "model_name": "ButtonModel",
      "state": {
       "description": "Add Column",
       "layout": "IPY_MODEL_882b646c1d544a39817f13b2fac3e4a3",
       "style": "IPY_MODEL_2ba4380b168e42fcbcce36ab236c04f1",
       "tooltip": null
      }
     },
     "a491ac8569604e789f97c5476d657725": {
      "model_module": "@jupyter-widgets/controls",
      "model_module_version": "2.0.0",
      "model_name": "HBoxModel",
      "state": {
       "children": [
        "IPY_MODEL_9a796f72659e40ddb39e5c910b6c5ab4",
        "IPY_MODEL_c1c0a92a31d844448c84b024960a4868",
        "IPY_MODEL_1a910e847f564b6fa7ac107cdcfbef9d",
        "IPY_MODEL_cdcd2b72304146d7b4697f0b4e28465b",
        "IPY_MODEL_f362dd76cf354a81af30c98cd1939397"
       ],
       "layout": "IPY_MODEL_1afb09ca270b40cfb1ee5b3fe733956f"
      }
     },
     "a4eeacbc4d9846e69115bed0e9e3a6f6": {
      "model_module": "@jupyter-widgets/controls",
      "model_module_version": "2.0.0",
      "model_name": "VBoxModel",
      "state": {
       "children": [
        "IPY_MODEL_81460a6c8a7a4985887719392ab79636",
        "IPY_MODEL_f2a5b8b199b0471da86f20e3677b446a",
        "IPY_MODEL_9dce6ca196a348e7aa5f0628634c5460"
       ],
       "layout": "IPY_MODEL_13115983bd78447397759b7275ac9be0"
      }
     },
     "a51075c1beee4397912ab8629309c1a9": {
      "model_module": "@jupyter-widgets/base",
      "model_module_version": "2.0.0",
      "model_name": "LayoutModel",
      "state": {}
     },
     "a5142854de4d4a7399f5655fd1b48fa6": {
      "model_module": "@jupyter-widgets/controls",
      "model_module_version": "2.0.0",
      "model_name": "ButtonModel",
      "state": {
       "description": "Undo",
       "layout": "IPY_MODEL_be64a456f9714513bbbcbf8f3e238aaa",
       "style": "IPY_MODEL_a7457d7d5b5a496c93bf701583b531d2",
       "tooltip": null
      }
     },
     "a587920138254f698b1894986f2e09f9": {
      "model_module": "@jupyter-widgets/controls",
      "model_module_version": "2.0.0",
      "model_name": "ButtonStyleModel",
      "state": {
       "font_family": null,
       "font_size": null,
       "font_style": null,
       "font_variant": null,
       "font_weight": null,
       "text_color": null,
       "text_decoration": null
      }
     },
     "a5c10ffd512f418da00b6f6aa7a51004": {
      "model_module": "@jupyter-widgets/controls",
      "model_module_version": "2.0.0",
      "model_name": "ButtonStyleModel",
      "state": {
       "font_family": null,
       "font_size": null,
       "font_style": null,
       "font_variant": null,
       "font_weight": null,
       "text_color": null,
       "text_decoration": null
      }
     },
     "a5e08a527e824ecaa06b5ab252f32143": {
      "model_module": "@jupyter-widgets/controls",
      "model_module_version": "2.0.0",
      "model_name": "ButtonStyleModel",
      "state": {
       "font_family": null,
       "font_size": null,
       "font_style": null,
       "font_variant": null,
       "font_weight": null,
       "text_color": null,
       "text_decoration": null
      }
     },
     "a5fdf8c9dc6d4f65aee070c6926787e1": {
      "model_module": "@jupyter-widgets/controls",
      "model_module_version": "2.0.0",
      "model_name": "ButtonModel",
      "state": {
       "description": "Add Column",
       "layout": "IPY_MODEL_27b46cc289824a06bf35ea0fafa01baf",
       "style": "IPY_MODEL_f94c09d896d8459cbc2c33596a6c7986",
       "tooltip": null
      }
     },
     "a6104f7674e04c4d84bb897c5ae77a1f": {
      "model_module": "@jupyter-widgets/base",
      "model_module_version": "2.0.0",
      "model_name": "LayoutModel",
      "state": {}
     },
     "a6185ab6aee14488837aeffaad2b32fe": {
      "model_module": "@jupyter-widgets/output",
      "model_module_version": "1.0.0",
      "model_name": "OutputModel",
      "state": {
       "layout": "IPY_MODEL_9e7f49d8fd274c00b9cc6fc67c14398b",
       "outputs": [
        {
         "name": "stdout",
         "output_type": "stream",
         "text": "Found 3 valid rows\n\nCreated array:\n x2Vec = np.array([0.058, 0.057, 0.057])\n\nCreated array:\n m2Vec = np.array([0.898, 0.902, 0.903])\n\nCreated array:\n x1Vec = np.array([0.129, 0.129, 0.129])\n\nCreated array:\n m1Vec = np.array([0.078, 0.078, 0.078])\n\nCreated array:\n ux2Vec = np.array([0.00125, 0.00125, 0.00125])\n\nCreated array:\n ux1Vec = np.array([0.0025, 0.0025, 0.0025])\n\nCreated array:\n um1Vec = np.array([0.0002886751345948129, 0.0002886751345948129, 0.0002886751345948129])\n\nCreated array:\n um2Vec = np.array([0.00125, 0.00125, 0.00125])\n"
        }
       ]
      }
     },
     "a62099ab88a84198ac4fc0a4323af37e": {
      "model_module": "@jupyter-widgets/controls",
      "model_module_version": "2.0.0",
      "model_name": "ButtonModel",
      "state": {
       "description": "Generate Vectors",
       "layout": "IPY_MODEL_fadd2e74365843e2b253dae6c09d5537",
       "style": "IPY_MODEL_1078b1fe43be42aa998bb0c504041bda",
       "tooltip": null
      }
     },
     "a6296399d1344884a32aab0977676c7a": {
      "model_module": "@jupyter-widgets/base",
      "model_module_version": "2.0.0",
      "model_name": "LayoutModel",
      "state": {}
     },
     "a6b026bafc2e41608f05fed32e377c99": {
      "model_module": "@jupyter-widgets/controls",
      "model_module_version": "2.0.0",
      "model_name": "VBoxModel",
      "state": {
       "children": [
        "IPY_MODEL_cae557e27886468b97b40d305fd88f3a",
        "IPY_MODEL_9b1caf47dedf4f32b2814bc24836f4f6",
        "IPY_MODEL_259d8de49f35419a8916df6825b9da29"
       ],
       "layout": "IPY_MODEL_8d5245080aeb46668ae1f229e1bc6bae"
      }
     },
     "a6f6b96acb704a3d9f808bf68b9a92b2": {
      "model_module": "ipydatagrid",
      "model_module_version": "^1.2.0",
      "model_name": "VegaExprModel",
      "state": {
       "_model_module_version": "^1.2.0",
       "_view_module": "ipydatagrid",
       "_view_module_version": "^1.2.0",
       "_view_name": "VegaExprView"
      }
     },
     "a7457d7d5b5a496c93bf701583b531d2": {
      "model_module": "@jupyter-widgets/controls",
      "model_module_version": "2.0.0",
      "model_name": "ButtonStyleModel",
      "state": {
       "font_family": null,
       "font_size": null,
       "font_style": null,
       "font_variant": null,
       "font_weight": null,
       "text_color": null,
       "text_decoration": null
      }
     },
     "a7611d5ac1e24668b9e668fb1240569f": {
      "model_module": "@jupyter-widgets/controls",
      "model_module_version": "2.0.0",
      "model_name": "ButtonStyleModel",
      "state": {
       "font_family": null,
       "font_size": null,
       "font_style": null,
       "font_variant": null,
       "font_weight": null,
       "text_color": null,
       "text_decoration": null
      }
     },
     "a77c913632dd4f62bba2fc6a601e15c1": {
      "model_module": "ipydatagrid",
      "model_module_version": "^1.2.0",
      "model_name": "DataGridModel",
      "state": {
       "_data": {
        "data": [
         {
          "0": "x2",
          "1": "m2",
          "2": "x1",
          "3": "m1",
          "4": "ux2",
          "5": "ux1",
          "6": "um1",
          "7": "um2",
          "ipydguuid": 0,
          "key": "  Variable:"
         },
         {
          "0": "m",
          "1": "kg",
          "2": "m",
          "3": "kg",
          "4": "m",
          "5": "m",
          "6": "kg",
          "7": "kg",
          "ipydguuid": 1,
          "key": " Units:"
         },
         {
          "0": "0.058",
          "1": "0.898",
          "2": "0.129",
          "3": "0.078",
          "4": "0.00125",
          "5": "0.0025",
          "6": "0.0002886751345948129",
          "7": "0.00125",
          "ipydguuid": 2,
          "key": 0
         },
         {
          "0": "0.057",
          "1": "0.902",
          "2": "0.129",
          "3": "0.078",
          "4": "0.00125",
          "5": "0.0025",
          "6": "0.0002886751345948129",
          "7": "0.00125",
          "ipydguuid": 3,
          "key": 1
         },
         {
          "0": "0.057",
          "1": "0.903",
          "2": "0.129",
          "3": "0.078",
          "4": "0.00125",
          "5": "0.0025",
          "6": "0.0002886751345948129",
          "7": "0.00125",
          "ipydguuid": 4,
          "key": 2
         }
        ],
        "fields": [
         {
          "key": null
         },
         {
          "0": null
         },
         {
          "1": null
         },
         {
          "2": null
         },
         {
          "3": null
         },
         {
          "4": null
         },
         {
          "5": null
         },
         {
          "6": null
         },
         {
          "7": null
         },
         {
          "ipydguuid": null
         }
        ],
        "schema": {
         "fields": [
          {
           "name": "key",
           "type": "string"
          },
          {
           "name": 0,
           "type": "string"
          },
          {
           "name": 1,
           "type": "string"
          },
          {
           "name": 2,
           "type": "string"
          },
          {
           "name": 3,
           "type": "string"
          },
          {
           "name": 4,
           "type": "string"
          },
          {
           "name": 5,
           "type": "string"
          },
          {
           "name": 6,
           "type": "string"
          },
          {
           "name": 7,
           "type": "string"
          },
          {
           "name": "ipydguuid",
           "type": "integer"
          }
         ],
         "pandas_version": "1.4.0",
         "primaryKey": [
          "key",
          "ipydguuid"
         ],
         "primaryKeyUuid": "ipydguuid"
        }
       },
       "_model_module_version": "^1.2.0",
       "_model_name": "DataGridModel",
       "_view_module_version": "^1.2.0",
       "_visible_rows": [
        0,
        1,
        2,
        3,
        4
       ],
       "auto_fit_columns": false,
       "auto_fit_params": {
        "area": "all",
        "numCols": null,
        "padding": 30
       },
       "base_column_header_size": 20,
       "base_column_size": 64,
       "base_row_header_size": 64,
       "base_row_size": 20,
       "default_renderer": "IPY_MODEL_c32787fa2ad14ff29e925cb2a699702b",
       "editable": true,
       "header_visibility": "all",
       "layout": "IPY_MODEL_42e3f89f8a784de18cb30f12f507e528",
       "selection_mode": "cell",
       "selections": [
        {
         "c1": 7,
         "c2": 7,
         "r1": 4,
         "r2": 4
        }
       ]
      }
     },
     "a7a342b3efc24843b5ee36a3089335b7": {
      "model_module": "@jupyter-widgets/base",
      "model_module_version": "2.0.0",
      "model_name": "LayoutModel",
      "state": {}
     },
     "a7ae1160eba146d0bfa5283489a09620": {
      "model_module": "@jupyter-widgets/base",
      "model_module_version": "2.0.0",
      "model_name": "LayoutModel",
      "state": {}
     },
     "a7ba6e980b8441d7880992b16b15e182": {
      "model_module": "ipydatagrid",
      "model_module_version": "^1.2.0",
      "model_name": "VegaExprModel",
      "state": {
       "_model_module_version": "^1.2.0",
       "_view_module": "ipydatagrid",
       "_view_module_version": "^1.2.0",
       "_view_name": "VegaExprView"
      }
     },
     "a7e793af2ec740c0abcd538d2317b2e3": {
      "model_module": "@jupyter-widgets/base",
      "model_module_version": "2.0.0",
      "model_name": "LayoutModel",
      "state": {}
     },
     "a7f7cbff27ce49b59a02d63760316376": {
      "model_module": "@jupyter-widgets/controls",
      "model_module_version": "2.0.0",
      "model_name": "ButtonModel",
      "state": {
       "description": "Undo",
       "layout": "IPY_MODEL_572545c7dc604f68be0ac20ff791c773",
       "style": "IPY_MODEL_9dc63abc06964b2c80a6bcc1a36f773c",
       "tooltip": null
      }
     },
     "a870df557f2b4810b4c827859c74860b": {
      "model_module": "@jupyter-widgets/base",
      "model_module_version": "2.0.0",
      "model_name": "LayoutModel",
      "state": {}
     },
     "a8d60c59d8004649b50736d2d76e9ade": {
      "model_module": "@jupyter-widgets/base",
      "model_module_version": "2.0.0",
      "model_name": "LayoutModel",
      "state": {}
     },
     "a9072c5b6003427c93b2cc9380c4cdcc": {
      "model_module": "@jupyter-widgets/controls",
      "model_module_version": "2.0.0",
      "model_name": "ButtonStyleModel",
      "state": {
       "font_family": null,
       "font_size": null,
       "font_style": null,
       "font_variant": null,
       "font_weight": null,
       "text_color": null,
       "text_decoration": null
      }
     },
     "a91f2b07de5c43b499ed77f5db89c72f": {
      "model_module": "@jupyter-widgets/base",
      "model_module_version": "2.0.0",
      "model_name": "LayoutModel",
      "state": {}
     },
     "a921f8d56ef449909d906435714d7400": {
      "model_module": "@jupyter-widgets/controls",
      "model_module_version": "2.0.0",
      "model_name": "ButtonStyleModel",
      "state": {
       "font_family": null,
       "font_size": null,
       "font_style": null,
       "font_variant": null,
       "font_weight": null,
       "text_color": null,
       "text_decoration": null
      }
     },
     "a94ff3bc07884b408872c9238d42ce32": {
      "model_module": "@jupyter-widgets/controls",
      "model_module_version": "2.0.0",
      "model_name": "ButtonModel",
      "state": {
       "description": "Undo",
       "layout": "IPY_MODEL_c3d90dea71a34e8c8495318654549b9b",
       "style": "IPY_MODEL_5554c2de95bd453b9a479cb9d8a99ceb",
       "tooltip": null
      }
     },
     "a96854514b574351b267a2e99633b0d6": {
      "model_module": "@jupyter-widgets/controls",
      "model_module_version": "2.0.0",
      "model_name": "VBoxModel",
      "state": {
       "children": [
        "IPY_MODEL_3fba9ee728474ba7aee4f38080d4fc82",
        "IPY_MODEL_30192ba43cf044b1981d25e3cd06c20f",
        "IPY_MODEL_3132d80021674bb1ac91a889fc100c4b"
       ],
       "layout": "IPY_MODEL_5916789a2da44b39b9724c64d2f5be49"
      }
     },
     "a9830e194f8d4714b4f8454cda32daf2": {
      "model_module": "@jupyter-widgets/controls",
      "model_module_version": "2.0.0",
      "model_name": "ButtonModel",
      "state": {
       "description": "Add Column",
       "layout": "IPY_MODEL_4c6deccb2c784470b072cc22499446f1",
       "style": "IPY_MODEL_7ab9aadf5a8b49b482e48b6ced5e5815",
       "tooltip": null
      }
     },
     "a9c0c21fe0854893a14593693d660a4f": {
      "model_module": "@jupyter-widgets/base",
      "model_module_version": "2.0.0",
      "model_name": "LayoutModel",
      "state": {}
     },
     "a9ccc592478149819dcfa0f9cd76bb3c": {
      "model_module": "ipydatagrid",
      "model_module_version": "^1.2.0",
      "model_name": "TextRendererModel",
      "state": {
       "_model_module_version": "^1.2.0",
       "_view_module_version": "^1.2.0",
       "background_color": "IPY_MODEL_f21f5d4c817c46609eb0066cefa06ec8",
       "text_color": "IPY_MODEL_62227b3e375c4246be14ef7203f514d4"
      }
     },
     "a9d1ef8618794b18a9b7e7ddd6502ed5": {
      "model_module": "@jupyter-widgets/base",
      "model_module_version": "2.0.0",
      "model_name": "LayoutModel",
      "state": {}
     },
     "aa20cc99b67a4b73b8184a82d2735a32": {
      "model_module": "@jupyter-widgets/base",
      "model_module_version": "2.0.0",
      "model_name": "LayoutModel",
      "state": {}
     },
     "aa2e8bee5d664b8e9ce0150d59e10352": {
      "model_module": "@jupyter-widgets/controls",
      "model_module_version": "2.0.0",
      "model_name": "HBoxModel",
      "state": {
       "children": [
        "IPY_MODEL_045ceb6c7cef40af887ed607d40e8532",
        "IPY_MODEL_5a80f68e05434b69b15ba03277e0e765",
        "IPY_MODEL_f24292613e574f7e8b675caa728dd160",
        "IPY_MODEL_145d357cdb224d84b6b06910df4bd191",
        "IPY_MODEL_ff09848af57445299ac1ffc843c27b8a"
       ],
       "layout": "IPY_MODEL_6c0fde0cef13419a82a373247c2a230b"
      }
     },
     "aac9c67b7b9249e29b8a45af55176175": {
      "model_module": "@jupyter-widgets/base",
      "model_module_version": "2.0.0",
      "model_name": "LayoutModel",
      "state": {}
     },
     "aad43c438a034ebf9e790d4a389eeb2f": {
      "model_module": "ipydatagrid",
      "model_module_version": "^1.2.0",
      "model_name": "TextRendererModel",
      "state": {
       "_model_module_version": "^1.2.0",
       "_view_module_version": "^1.2.0",
       "background_color": "IPY_MODEL_8d0a984a023949d5bbc7859d0eb18b04",
       "text_color": "IPY_MODEL_ba5030ed2e5f450eae94bb2dbaf696f6"
      }
     },
     "aaf426a5652b43869342e722bc516a0f": {
      "model_module": "@jupyter-widgets/base",
      "model_module_version": "2.0.0",
      "model_name": "LayoutModel",
      "state": {}
     },
     "ab0a5e3fb03248babfe27c4413e4ee00": {
      "model_module": "@jupyter-widgets/controls",
      "model_module_version": "2.0.0",
      "model_name": "ButtonModel",
      "state": {
       "description": "Generate Vectors",
       "layout": "IPY_MODEL_7261c3ade4cd4771a193d4062f25ef23",
       "style": "IPY_MODEL_bdca107d5bbb4aad81a28cca35bc66c8",
       "tooltip": null
      }
     },
     "ab0fb77336d04517a7a85e71ee2652a7": {
      "model_module": "@jupyter-widgets/controls",
      "model_module_version": "2.0.0",
      "model_name": "HBoxModel",
      "state": {
       "children": [
        "IPY_MODEL_581b52ca5e164596accdd51f2e03c706",
        "IPY_MODEL_6011e5a217734f8785364176818a8c0e",
        "IPY_MODEL_2612cd3269de4203ac9783dc3afee133",
        "IPY_MODEL_fdf4eb173ebe4724bc5bc9885f490ca2",
        "IPY_MODEL_1997a7773b6f461c8f1819cd9d128246"
       ],
       "layout": "IPY_MODEL_0ff51100d97a4e4e91b0c5e6bc583e21"
      }
     },
     "ab41702faf414fe797d8b1df3b1decc0": {
      "model_module": "@jupyter-widgets/controls",
      "model_module_version": "2.0.0",
      "model_name": "ButtonModel",
      "state": {
       "description": "Redo",
       "layout": "IPY_MODEL_9c907b8c038d442d9f23aab316bfc3c7",
       "style": "IPY_MODEL_7de50caca11343879abf3555dcbcd182",
       "tooltip": null
      }
     },
     "ab488c71ebd7419c9633d5d4d9c6b92c": {
      "model_module": "@jupyter-widgets/base",
      "model_module_version": "2.0.0",
      "model_name": "LayoutModel",
      "state": {
       "height": "150px"
      }
     },
     "ab4d0ae9c5074fa99a2eccd3352a57af": {
      "model_module": "@jupyter-widgets/controls",
      "model_module_version": "2.0.0",
      "model_name": "ButtonModel",
      "state": {
       "description": "Redo",
       "layout": "IPY_MODEL_db91a1ca5eda4f9abe887901d1009fe5",
       "style": "IPY_MODEL_96f08e073cc043489aa2294b49783e81",
       "tooltip": null
      }
     },
     "abb2badd4ff24d948ba18845a63bb134": {
      "model_module": "@jupyter-widgets/base",
      "model_module_version": "2.0.0",
      "model_name": "LayoutModel",
      "state": {
       "height": "150px"
      }
     },
     "abe3d8d8c66a4453b8158fa1248cad1d": {
      "model_module": "@jupyter-widgets/controls",
      "model_module_version": "2.0.0",
      "model_name": "ButtonModel",
      "state": {
       "description": "Add Row",
       "layout": "IPY_MODEL_ca1a4c0c39ac4cf08cbe49f97bb0f62e",
       "style": "IPY_MODEL_67116622df394563aab0f65969559a99",
       "tooltip": null
      }
     },
     "abf1b00cba83484e878402195dba80ba": {
      "model_module": "ipydatagrid",
      "model_module_version": "^1.2.0",
      "model_name": "DataGridModel",
      "state": {
       "_data": {
        "data": [
         {
          "0": "x2",
          "1": "m2",
          "2": "x1",
          "3": "m1",
          "4": "ux2",
          "5": "ux1",
          "6": "um1",
          "7": "um2",
          "ipydguuid": 0,
          "key": "  Variable:"
         },
         {
          "0": "m",
          "1": "kg",
          "2": "m",
          "3": "kg",
          "4": "m",
          "5": "m",
          "6": "kg",
          "7": "kg",
          "ipydguuid": 1,
          "key": " Units:"
         },
         {
          "0": "0.045",
          "1": "1.150",
          "2": "0.129",
          "3": "0.078",
          "4": "0.00125",
          "5": "0.0025",
          "6": "0.0002886751345948129",
          "7": "0.00125",
          "ipydguuid": 2,
          "key": 0
         },
         {
          "0": "0.040",
          "1": "1.189",
          "2": "0.129",
          "3": "0.078",
          "4": "0.00125",
          "5": "0.0025",
          "6": "0.0002886751345948129",
          "7": "0.00125",
          "ipydguuid": 3,
          "key": 1
         },
         {
          "0": "0.061",
          "1": "0.979",
          "2": "0.129",
          "3": "0.078",
          "4": "0.00125",
          "5": "0.0025",
          "6": "0.0002886751345948129",
          "7": "0.00125",
          "ipydguuid": 4,
          "key": 2
         }
        ],
        "fields": [
         {
          "key": null
         },
         {
          "0": null
         },
         {
          "1": null
         },
         {
          "2": null
         },
         {
          "3": null
         },
         {
          "4": null
         },
         {
          "5": null
         },
         {
          "6": null
         },
         {
          "7": null
         },
         {
          "ipydguuid": null
         }
        ],
        "schema": {
         "fields": [
          {
           "name": "key",
           "type": "string"
          },
          {
           "name": 0,
           "type": "string"
          },
          {
           "name": 1,
           "type": "string"
          },
          {
           "name": 2,
           "type": "string"
          },
          {
           "name": 3,
           "type": "string"
          },
          {
           "name": 4,
           "type": "string"
          },
          {
           "name": 5,
           "type": "string"
          },
          {
           "name": 6,
           "type": "string"
          },
          {
           "name": 7,
           "type": "string"
          },
          {
           "name": "ipydguuid",
           "type": "integer"
          }
         ],
         "pandas_version": "1.4.0",
         "primaryKey": [
          "key",
          "ipydguuid"
         ],
         "primaryKeyUuid": "ipydguuid"
        }
       },
       "_model_module_version": "^1.2.0",
       "_model_name": "DataGridModel",
       "_view_module_version": "^1.2.0",
       "auto_fit_columns": false,
       "auto_fit_params": {
        "area": "all",
        "numCols": null,
        "padding": 30
       },
       "base_column_header_size": 20,
       "base_column_size": 64,
       "base_row_header_size": 64,
       "base_row_size": 20,
       "default_renderer": "IPY_MODEL_51b175de420445309a87b793047667f7",
       "editable": true,
       "header_visibility": "all",
       "layout": "IPY_MODEL_c4daa361d6f0475ebad7988e70c29962",
       "selection_mode": "cell"
      }
     },
     "abf4b22657ca456e95b437b18f0cf2ab": {
      "model_module": "ipydatagrid",
      "model_module_version": "^1.2.0",
      "model_name": "VegaExprModel",
      "state": {
       "_model_module_version": "^1.2.0",
       "_view_module": "ipydatagrid",
       "_view_module_version": "^1.2.0",
       "_view_name": "VegaExprView"
      }
     },
     "ac14a4da793f4c3194f0907e276b0e06": {
      "model_module": "@jupyter-widgets/base",
      "model_module_version": "2.0.0",
      "model_name": "LayoutModel",
      "state": {}
     },
     "ac5146a438f1456e9a67688fc921fe34": {
      "model_module": "@jupyter-widgets/controls",
      "model_module_version": "2.0.0",
      "model_name": "ButtonModel",
      "state": {
       "description": "Undo",
       "layout": "IPY_MODEL_b2ee06f44bdb4a63994d9b6c1b6d615b",
       "style": "IPY_MODEL_7af7487dfc764f9ea61a3342f960f9c9",
       "tooltip": null
      }
     },
     "ac85ea07c4d44481bb0faf7972ab03e9": {
      "model_module": "ipydatagrid",
      "model_module_version": "^1.2.0",
      "model_name": "VegaExprModel",
      "state": {
       "_model_module_version": "^1.2.0",
       "_view_module": "ipydatagrid",
       "_view_module_version": "^1.2.0",
       "_view_name": "VegaExprView"
      }
     },
     "acb29a847cf94dee893f0895402405bd": {
      "model_module": "@jupyter-widgets/base",
      "model_module_version": "2.0.0",
      "model_name": "LayoutModel",
      "state": {}
     },
     "ad19d03bc08540c89beb5788669d90ca": {
      "model_module": "@jupyter-widgets/controls",
      "model_module_version": "2.0.0",
      "model_name": "ButtonStyleModel",
      "state": {
       "font_family": null,
       "font_size": null,
       "font_style": null,
       "font_variant": null,
       "font_weight": null,
       "text_color": null,
       "text_decoration": null
      }
     },
     "ad2160c0d17a455ebda5e9d34da4f76c": {
      "model_module": "@jupyter-widgets/controls",
      "model_module_version": "2.0.0",
      "model_name": "ButtonModel",
      "state": {
       "description": "Add Column",
       "layout": "IPY_MODEL_b32ef39606c8493e99ea609fed8b1454",
       "style": "IPY_MODEL_814bfad7763f4bffb1b5407fd66e4f76",
       "tooltip": null
      }
     },
     "ad34239bda8a4d81bf0b38bd649715a5": {
      "model_module": "@jupyter-widgets/output",
      "model_module_version": "1.0.0",
      "model_name": "OutputModel",
      "state": {
       "layout": "IPY_MODEL_5fc50a8790b84fc791ca375435fd869c"
      }
     },
     "ad7341359bb94648bbc309916b2c2cf8": {
      "model_module": "@jupyter-widgets/controls",
      "model_module_version": "2.0.0",
      "model_name": "ButtonModel",
      "state": {
       "description": "Redo",
       "layout": "IPY_MODEL_76ea710081f44125bd8601bbc4613701",
       "style": "IPY_MODEL_fc860577862d4a4baa992138e33d964c",
       "tooltip": null
      }
     },
     "ad7afe2579ae45a4b9b2b4f56337cdbf": {
      "model_module": "@jupyter-widgets/output",
      "model_module_version": "1.0.0",
      "model_name": "OutputModel",
      "state": {
       "layout": "IPY_MODEL_5d1c77fd08a04e4e8f5e40ae5c97d7b8"
      }
     },
     "adbcdb1766854eb98b98e655232fd44c": {
      "model_module": "@jupyter-widgets/controls",
      "model_module_version": "2.0.0",
      "model_name": "ButtonModel",
      "state": {
       "description": "Redo",
       "layout": "IPY_MODEL_9bf897b85b4f44168c3e70379713c987",
       "style": "IPY_MODEL_1ea17535de3f4b14ac5d5addf6d30336",
       "tooltip": null
      }
     },
     "addf92a2f5e742d2a2d5338d99550090": {
      "model_module": "@jupyter-widgets/controls",
      "model_module_version": "2.0.0",
      "model_name": "ButtonModel",
      "state": {
       "description": "Add Column",
       "layout": "IPY_MODEL_38e1c5248417441db8f1f9fe12326903",
       "style": "IPY_MODEL_37af64fddc7a45a2be982a6eb14adc8d",
       "tooltip": null
      }
     },
     "ae1f054d3dc04afd8f4830594ca45a44": {
      "model_module": "ipydatagrid",
      "model_module_version": "^1.2.0",
      "model_name": "DataGridModel",
      "state": {
       "_data": {
        "data": [
         {
          "0": "x2",
          "1": "m2",
          "2": "x1",
          "3": "m1",
          "4": "ux2",
          "5": "ux1",
          "6": "um1",
          "7": "um2",
          "ipydguuid": 0,
          "key": "  Variable:"
         },
         {
          "0": "m",
          "1": "kg",
          "2": "m",
          "3": "kg",
          "4": "m",
          "5": "m",
          "6": "kg",
          "7": "kg",
          "ipydguuid": 1,
          "key": " Units:"
         },
         {
          "0": "0.058",
          "1": "0.898",
          "2": "0.129",
          "3": "0.078",
          "4": "0.00125",
          "5": "0.0025",
          "6": "0.0002886751345948129",
          "7": "0.00125",
          "ipydguuid": 2,
          "key": 0
         },
         {
          "0": "0.057",
          "1": "0.902",
          "2": "0.129",
          "3": "0.078",
          "4": "0.00125",
          "5": "0.0025",
          "6": "0.0002886751345948129",
          "7": "0.00125",
          "ipydguuid": 3,
          "key": 1
         },
         {
          "0": "0.057",
          "1": "0.903",
          "2": "0.129",
          "3": "0.078",
          "4": "0.00125",
          "5": "0.0025",
          "6": "0.0002886751345948129",
          "7": "0.00125",
          "ipydguuid": 4,
          "key": 2
         }
        ],
        "fields": [
         {
          "key": null
         },
         {
          "0": null
         },
         {
          "1": null
         },
         {
          "2": null
         },
         {
          "3": null
         },
         {
          "4": null
         },
         {
          "5": null
         },
         {
          "6": null
         },
         {
          "7": null
         },
         {
          "ipydguuid": null
         }
        ],
        "schema": {
         "fields": [
          {
           "name": "key",
           "type": "string"
          },
          {
           "name": 0,
           "type": "string"
          },
          {
           "name": 1,
           "type": "string"
          },
          {
           "name": 2,
           "type": "string"
          },
          {
           "name": 3,
           "type": "string"
          },
          {
           "name": 4,
           "type": "string"
          },
          {
           "name": 5,
           "type": "string"
          },
          {
           "name": 6,
           "type": "string"
          },
          {
           "name": 7,
           "type": "string"
          },
          {
           "name": "ipydguuid",
           "type": "integer"
          }
         ],
         "pandas_version": "1.4.0",
         "primaryKey": [
          "key",
          "ipydguuid"
         ],
         "primaryKeyUuid": "ipydguuid"
        }
       },
       "_model_module_version": "^1.2.0",
       "_model_name": "DataGridModel",
       "_view_module_version": "^1.2.0",
       "auto_fit_columns": false,
       "auto_fit_params": {
        "area": "all",
        "numCols": null,
        "padding": 30
       },
       "base_column_header_size": 20,
       "base_column_size": 64,
       "base_row_header_size": 64,
       "base_row_size": 20,
       "default_renderer": "IPY_MODEL_50e2ba5bbd894691bc2ae88828d69aba",
       "editable": true,
       "header_visibility": "all",
       "layout": "IPY_MODEL_e6944ce9df374962a70139c9cc8baf7a",
       "selection_mode": "cell"
      }
     },
     "ae2ad2f7ad2b4fc397e791b8826e7054": {
      "model_module": "@jupyter-widgets/controls",
      "model_module_version": "2.0.0",
      "model_name": "ButtonStyleModel",
      "state": {
       "font_family": null,
       "font_size": null,
       "font_style": null,
       "font_variant": null,
       "font_weight": null,
       "text_color": null,
       "text_decoration": null
      }
     },
     "ae61e5a3b75745389c6306267b747121": {
      "model_module": "ipydatagrid",
      "model_module_version": "^1.2.0",
      "model_name": "DataGridModel",
      "state": {
       "_data": {
        "data": [
         {
          "0": "x2",
          "1": "m2",
          "2": "x1",
          "3": "m1",
          "4": "ux2",
          "5": "ux1",
          "6": "um1",
          "7": "um2",
          "ipydguuid": 0,
          "key": "  Variable:"
         },
         {
          "0": "m",
          "1": "kg",
          "2": "m",
          "3": "kg",
          "4": "m",
          "5": "m",
          "6": "kg",
          "7": "kg",
          "ipydguuid": 1,
          "key": " Units:"
         },
         {
          "0": "0.045",
          "1": "1.150",
          "2": "0.129",
          "3": "0.078",
          "4": "0.00125",
          "5": "0.0025",
          "6": "0.0002886751345948129",
          "7": "0.00125",
          "ipydguuid": 2,
          "key": 0
         },
         {
          "0": "0.040",
          "1": "1.189",
          "2": "0.129",
          "3": "0.078",
          "4": "0.00125",
          "5": "0.0025",
          "6": "0.0002886751345948129",
          "7": "0.00125",
          "ipydguuid": 3,
          "key": 1
         },
         {
          "0": "0.061",
          "1": "0.979",
          "2": "0.129",
          "3": "0.078",
          "4": "0.00125",
          "5": "0.0025",
          "6": "0.0002886751345948129",
          "7": "0.00125",
          "ipydguuid": 4,
          "key": 2
         }
        ],
        "fields": [
         {
          "key": null
         },
         {
          "0": null
         },
         {
          "1": null
         },
         {
          "2": null
         },
         {
          "3": null
         },
         {
          "4": null
         },
         {
          "5": null
         },
         {
          "6": null
         },
         {
          "7": null
         },
         {
          "ipydguuid": null
         }
        ],
        "schema": {
         "fields": [
          {
           "name": "key",
           "type": "string"
          },
          {
           "name": 0,
           "type": "string"
          },
          {
           "name": 1,
           "type": "string"
          },
          {
           "name": 2,
           "type": "string"
          },
          {
           "name": 3,
           "type": "string"
          },
          {
           "name": 4,
           "type": "string"
          },
          {
           "name": 5,
           "type": "string"
          },
          {
           "name": 6,
           "type": "string"
          },
          {
           "name": 7,
           "type": "string"
          },
          {
           "name": "ipydguuid",
           "type": "integer"
          }
         ],
         "pandas_version": "1.4.0",
         "primaryKey": [
          "key",
          "ipydguuid"
         ],
         "primaryKeyUuid": "ipydguuid"
        }
       },
       "_model_module_version": "^1.2.0",
       "_model_name": "DataGridModel",
       "_view_module_version": "^1.2.0",
       "_visible_rows": [
        0,
        1,
        2,
        3,
        4
       ],
       "auto_fit_columns": false,
       "auto_fit_params": {
        "area": "all",
        "numCols": null,
        "padding": 30
       },
       "base_column_header_size": 20,
       "base_column_size": 64,
       "base_row_header_size": 64,
       "base_row_size": 20,
       "default_renderer": "IPY_MODEL_58e3a839c11642b4b1af3e1f3af0e0ed",
       "editable": true,
       "header_visibility": "all",
       "layout": "IPY_MODEL_2d46bc81f2cb4517b03cf87cdd644d71",
       "selection_mode": "cell",
       "selections": [
        {
         "c1": 1,
         "c2": 1,
         "r1": 0,
         "r2": 0
        }
       ]
      }
     },
     "af510859a62041398ebc3dadb6d5a309": {
      "model_module": "@jupyter-widgets/base",
      "model_module_version": "2.0.0",
      "model_name": "LayoutModel",
      "state": {}
     },
     "af626283b1c940d98065e8dc71e0b835": {
      "model_module": "@jupyter-widgets/controls",
      "model_module_version": "2.0.0",
      "model_name": "ButtonModel",
      "state": {
       "description": "Generate Vectors",
       "layout": "IPY_MODEL_871fa5a8ec3f4bad9e14d41e8a247bb2",
       "style": "IPY_MODEL_6fa4daa5df6c4c289f5e398eb45db7b2",
       "tooltip": null
      }
     },
     "af73616818a44cff8dff29f98cb189b0": {
      "model_module": "@jupyter-widgets/controls",
      "model_module_version": "2.0.0",
      "model_name": "ButtonStyleModel",
      "state": {
       "font_family": null,
       "font_size": null,
       "font_style": null,
       "font_variant": null,
       "font_weight": null,
       "text_color": null,
       "text_decoration": null
      }
     },
     "afdd2950ab77424f9f17c7b4af450047": {
      "model_module": "@jupyter-widgets/controls",
      "model_module_version": "2.0.0",
      "model_name": "HBoxModel",
      "state": {
       "children": [
        "IPY_MODEL_3ee3aa8401ad4a1986c0efa2100940ca",
        "IPY_MODEL_8ab0bc0f5a0340db9be9386b7bb233a8",
        "IPY_MODEL_6f60111771924e38a43e3bb08a0b255c",
        "IPY_MODEL_3643249b7c90423b82c970efe3fa7925",
        "IPY_MODEL_7a8f590db6214a6f83ff03f377bcde01"
       ],
       "layout": "IPY_MODEL_cb219cdae682467ba585943617415d11"
      }
     },
     "b01bcfceb68149d184a8b983860bc6d4": {
      "model_module": "@jupyter-widgets/controls",
      "model_module_version": "2.0.0",
      "model_name": "ButtonModel",
      "state": {
       "description": "Undo",
       "layout": "IPY_MODEL_f2a53872914f44658d558d7b7c5bdb65",
       "style": "IPY_MODEL_8740831f834b428b8f28b04efca7304e",
       "tooltip": null
      }
     },
     "b0229ad3093345f49aa6e41775fbe448": {
      "model_module": "@jupyter-widgets/base",
      "model_module_version": "2.0.0",
      "model_name": "LayoutModel",
      "state": {}
     },
     "b05f2f5be08e49ab93f90ea20867bb2c": {
      "model_module": "@jupyter-widgets/base",
      "model_module_version": "2.0.0",
      "model_name": "LayoutModel",
      "state": {}
     },
     "b07d7a1f392c47d8b3b141dea6eb5524": {
      "model_module": "@jupyter-widgets/base",
      "model_module_version": "2.0.0",
      "model_name": "LayoutModel",
      "state": {}
     },
     "b0cc3fdfa7594d86b168f58479043460": {
      "model_module": "@jupyter-widgets/controls",
      "model_module_version": "2.0.0",
      "model_name": "ButtonModel",
      "state": {
       "description": "Add Column",
       "layout": "IPY_MODEL_d78a44997bcf43ecbdd93cb63988a32c",
       "style": "IPY_MODEL_cc5b2ad753a045249b8639496e21e4bd",
       "tooltip": null
      }
     },
     "b0d011cdb8b8485994e5ceeebde08279": {
      "model_module": "@jupyter-widgets/controls",
      "model_module_version": "2.0.0",
      "model_name": "ButtonModel",
      "state": {
       "description": "Undo",
       "layout": "IPY_MODEL_95dae1a3003c41d4b13dbcee5051e07b",
       "style": "IPY_MODEL_1c3c6339cc1448ada63a809dd4cece9d",
       "tooltip": null
      }
     },
     "b11eb19cbe894335b99a09bf8c240797": {
      "model_module": "@jupyter-widgets/base",
      "model_module_version": "2.0.0",
      "model_name": "LayoutModel",
      "state": {}
     },
     "b17c45a6dff44a9abb76831b1ee26e53": {
      "model_module": "ipydatagrid",
      "model_module_version": "^1.2.0",
      "model_name": "TextRendererModel",
      "state": {
       "_model_module_version": "^1.2.0",
       "_view_module_version": "^1.2.0",
       "background_color": "IPY_MODEL_28b8f2e40348480998fa97dd92822991",
       "text_color": "IPY_MODEL_2b07d42d7640435f82c4910536de2f2b"
      }
     },
     "b1df8aeddcbe4aea9bdfc86febae68c6": {
      "model_module": "@jupyter-widgets/base",
      "model_module_version": "2.0.0",
      "model_name": "LayoutModel",
      "state": {}
     },
     "b212013dc6034106a3a9820aa3bce4f7": {
      "model_module": "@jupyter-widgets/base",
      "model_module_version": "2.0.0",
      "model_name": "LayoutModel",
      "state": {}
     },
     "b2191c0ca9714761a161bb36b3e3d36d": {
      "model_module": "@jupyter-widgets/base",
      "model_module_version": "2.0.0",
      "model_name": "LayoutModel",
      "state": {}
     },
     "b21b977f0bb64f2395ad2bcf2441338a": {
      "model_module": "@jupyter-widgets/controls",
      "model_module_version": "2.0.0",
      "model_name": "ButtonModel",
      "state": {
       "description": "Generate Vectors",
       "layout": "IPY_MODEL_1f012500d6704e6886a52503fc3d5a33",
       "style": "IPY_MODEL_822f312cffee42d588d59b3633833ac6",
       "tooltip": null
      }
     },
     "b2731f0e59974a68b53fbdfd4020a42a": {
      "model_module": "@jupyter-widgets/controls",
      "model_module_version": "2.0.0",
      "model_name": "VBoxModel",
      "state": {
       "children": [
        "IPY_MODEL_94e7612692be4dd5978ba55c1f6d993e",
        "IPY_MODEL_685da2c2ac954a6aa3ef231601c9a1b7",
        "IPY_MODEL_72f5e0a73e9d4dff9ea99dbfff22cc44"
       ],
       "layout": "IPY_MODEL_561a3d4d24be49318d12aeb6ed97c911"
      }
     },
     "b28832730bd6415d8f36500465682a8c": {
      "model_module": "@jupyter-widgets/base",
      "model_module_version": "2.0.0",
      "model_name": "LayoutModel",
      "state": {}
     },
     "b2b6be3944874cf7bb704d2a678c8af4": {
      "model_module": "@jupyter-widgets/output",
      "model_module_version": "1.0.0",
      "model_name": "OutputModel",
      "state": {
       "layout": "IPY_MODEL_d96f54e020a64859bbf8c1a983dc3ecf"
      }
     },
     "b2bd04fa12854bdabfe7fe452201eb03": {
      "model_module": "@jupyter-widgets/base",
      "model_module_version": "2.0.0",
      "model_name": "LayoutModel",
      "state": {}
     },
     "b2c141a2f83d4cea89d4eae0da4cc3c6": {
      "model_module": "ipydatagrid",
      "model_module_version": "^1.2.0",
      "model_name": "TextRendererModel",
      "state": {
       "_model_module_version": "^1.2.0",
       "_view_module_version": "^1.2.0",
       "background_color": "IPY_MODEL_ac85ea07c4d44481bb0faf7972ab03e9",
       "text_color": "IPY_MODEL_9a2d22f1f695492ca7a00e46137b4929"
      }
     },
     "b2d220a17f2b4780bc5a3e351a1d5236": {
      "model_module": "@jupyter-widgets/controls",
      "model_module_version": "2.0.0",
      "model_name": "ButtonStyleModel",
      "state": {
       "font_family": null,
       "font_size": null,
       "font_style": null,
       "font_variant": null,
       "font_weight": null,
       "text_color": null,
       "text_decoration": null
      }
     },
     "b2ee06f44bdb4a63994d9b6c1b6d615b": {
      "model_module": "@jupyter-widgets/base",
      "model_module_version": "2.0.0",
      "model_name": "LayoutModel",
      "state": {}
     },
     "b31bde1196754357bdda9b2458c44ad3": {
      "model_module": "@jupyter-widgets/controls",
      "model_module_version": "2.0.0",
      "model_name": "ButtonModel",
      "state": {
       "description": "Undo",
       "layout": "IPY_MODEL_4c323632b4554a798a2c24bc8068e40b",
       "style": "IPY_MODEL_871100db184b49f3951ae29169426980",
       "tooltip": null
      }
     },
     "b32ef39606c8493e99ea609fed8b1454": {
      "model_module": "@jupyter-widgets/base",
      "model_module_version": "2.0.0",
      "model_name": "LayoutModel",
      "state": {}
     },
     "b333c993a2934e7fa9938fdebf555268": {
      "model_module": "@jupyter-widgets/controls",
      "model_module_version": "2.0.0",
      "model_name": "ButtonStyleModel",
      "state": {
       "font_family": null,
       "font_size": null,
       "font_style": null,
       "font_variant": null,
       "font_weight": null,
       "text_color": null,
       "text_decoration": null
      }
     },
     "b3acb11cca7449f79bafffa0a60ca347": {
      "model_module": "@jupyter-widgets/controls",
      "model_module_version": "2.0.0",
      "model_name": "ButtonStyleModel",
      "state": {
       "font_family": null,
       "font_size": null,
       "font_style": null,
       "font_variant": null,
       "font_weight": null,
       "text_color": null,
       "text_decoration": null
      }
     },
     "b3e207fa45b94ddbbb6e558d56cf4adc": {
      "model_module": "@jupyter-widgets/base",
      "model_module_version": "2.0.0",
      "model_name": "LayoutModel",
      "state": {}
     },
     "b4472218efef4da8ac9f06327d087b4b": {
      "model_module": "@jupyter-widgets/controls",
      "model_module_version": "2.0.0",
      "model_name": "ButtonModel",
      "state": {
       "description": "Undo",
       "layout": "IPY_MODEL_b955a8b96ca24ea2bd562ea8be527dfd",
       "style": "IPY_MODEL_8691fa75e1ae43af8a06c953c1934b93",
       "tooltip": null
      }
     },
     "b47eff3c95794d43b56b9c96e48c1de5": {
      "model_module": "@jupyter-widgets/base",
      "model_module_version": "2.0.0",
      "model_name": "LayoutModel",
      "state": {}
     },
     "b48037ce4a184fe09d20ed0bbcdc555b": {
      "model_module": "@jupyter-widgets/base",
      "model_module_version": "2.0.0",
      "model_name": "LayoutModel",
      "state": {}
     },
     "b4857030b8ec4a4680b74402daeab55a": {
      "model_module": "@jupyter-widgets/controls",
      "model_module_version": "2.0.0",
      "model_name": "HBoxModel",
      "state": {
       "children": [
        "IPY_MODEL_fd9fbf357c3e41f2bb3040aa7314bc18",
        "IPY_MODEL_c484b746f8c44c41bf757c9bc3fbc40f",
        "IPY_MODEL_abe3d8d8c66a4453b8158fa1248cad1d",
        "IPY_MODEL_cef030a05aa14431b2dc9888c6186457",
        "IPY_MODEL_883317884fa44be3820961ae381d46dc"
       ],
       "layout": "IPY_MODEL_d84a467f515a4e30a6f99ad565eb2605"
      }
     },
     "b4cb86f9676848e995ee34050abdc27f": {
      "model_module": "@jupyter-widgets/controls",
      "model_module_version": "2.0.0",
      "model_name": "ButtonStyleModel",
      "state": {
       "font_family": null,
       "font_size": null,
       "font_style": null,
       "font_variant": null,
       "font_weight": null,
       "text_color": null,
       "text_decoration": null
      }
     },
     "b4e8226ab4194e6a8385459d80038248": {
      "model_module": "@jupyter-widgets/controls",
      "model_module_version": "2.0.0",
      "model_name": "ButtonStyleModel",
      "state": {
       "font_family": null,
       "font_size": null,
       "font_style": null,
       "font_variant": null,
       "font_weight": null,
       "text_color": null,
       "text_decoration": null
      }
     },
     "b515345fcc1e43a894f8a41614727af5": {
      "model_module": "@jupyter-widgets/controls",
      "model_module_version": "2.0.0",
      "model_name": "ButtonModel",
      "state": {
       "description": "Add Row",
       "layout": "IPY_MODEL_aac9c67b7b9249e29b8a45af55176175",
       "style": "IPY_MODEL_950ba51ab8be459cb2cb5f212c21e5f8",
       "tooltip": null
      }
     },
     "b5450a5b70d74c2192a0bfb5111592e6": {
      "model_module": "@jupyter-widgets/controls",
      "model_module_version": "2.0.0",
      "model_name": "ButtonModel",
      "state": {
       "description": "Add Column",
       "layout": "IPY_MODEL_76fc39da5c73433e95ebd41aefa1f904",
       "style": "IPY_MODEL_0023e4bb000d4dc2b7583dd5f36a17b6",
       "tooltip": null
      }
     },
     "b556ae694d2a483b9f032d1667d406fc": {
      "model_module": "@jupyter-widgets/controls",
      "model_module_version": "2.0.0",
      "model_name": "VBoxModel",
      "state": {
       "children": [
        "IPY_MODEL_47f9588124dd4019a92df915ba9f6c2b",
        "IPY_MODEL_a77c913632dd4f62bba2fc6a601e15c1",
        "IPY_MODEL_2f9054ebbb444f85ba177852bcf830ab"
       ],
       "layout": "IPY_MODEL_f6e0b5fd895346c8a4f17f768c9c106c"
      }
     },
     "b55dd8acf40a40f69c59f2ee3c219aa2": {
      "model_module": "ipydatagrid",
      "model_module_version": "^1.2.0",
      "model_name": "TextRendererModel",
      "state": {
       "_model_module_version": "^1.2.0",
       "_view_module_version": "^1.2.0",
       "background_color": "IPY_MODEL_81d31e273e3a47988d29b836d10b1ba6",
       "text_color": "IPY_MODEL_4bdac549964a46fd8d789d60cadd74c6"
      }
     },
     "b5eea9eace4c45ea8b606f5592f050b9": {
      "model_module": "@jupyter-widgets/controls",
      "model_module_version": "2.0.0",
      "model_name": "ButtonModel",
      "state": {
       "description": "Add Row",
       "layout": "IPY_MODEL_81409f13a47249629fd68d9963986b62",
       "style": "IPY_MODEL_5d905d92d54d4a4ca67d66444fac9fdb",
       "tooltip": null
      }
     },
     "b623561e06274e28b0c2d608921efbf9": {
      "model_module": "@jupyter-widgets/output",
      "model_module_version": "1.0.0",
      "model_name": "OutputModel",
      "state": {
       "layout": "IPY_MODEL_d6a030ee635342419f4b3aa99eb75f7c"
      }
     },
     "b65c3e4d425146c8898f4d24ba80bebd": {
      "model_module": "@jupyter-widgets/base",
      "model_module_version": "2.0.0",
      "model_name": "LayoutModel",
      "state": {}
     },
     "b68a2b6d1c0e458091d9323f24e0193d": {
      "model_module": "@jupyter-widgets/controls",
      "model_module_version": "2.0.0",
      "model_name": "ButtonStyleModel",
      "state": {
       "font_family": null,
       "font_size": null,
       "font_style": null,
       "font_variant": null,
       "font_weight": null,
       "text_color": null,
       "text_decoration": null
      }
     },
     "b697ef87c74c4ff4871f6376449dab6c": {
      "model_module": "@jupyter-widgets/output",
      "model_module_version": "1.0.0",
      "model_name": "OutputModel",
      "state": {
       "layout": "IPY_MODEL_4515094db3f5448b84ccbce741beea5a",
       "outputs": [
        {
         "name": "stdout",
         "output_type": "stream",
         "text": "Skipping column 4 because it does not have a valid name\nSkipping column 5 because it does not have a valid name\nSkipping column 6 because it does not have a valid name\nSkipping column 7 because it does not have a valid name\nSkipping column 8 because it does not have a valid name\nFound 3 valid rows\n\nCreated array:\n x2Vec = np.array([0.058, 0.057, 0.057])\n\nCreated array:\n m2Vec = np.array([0.898, 0.902, 0.903])\n\nCreated array:\n x1Vec = np.array([0.129, 0.129, 0.129])\n\nCreated array:\n m1Vec = np.array([0.078, 0.078, 0.078])\n"
        }
       ]
      }
     },
     "b6af4a29dfa14dbd985f6a54ba9b5615": {
      "model_module": "ipydatagrid",
      "model_module_version": "^1.2.0",
      "model_name": "DataGridModel",
      "state": {
       "_data": {
        "data": [
         {
          "0": "x2",
          "1": "m2",
          "2": "x1",
          "3": "m1",
          "4": "ux2",
          "5": "ux1",
          "6": "um1",
          "7": "um2",
          "ipydguuid": 0,
          "key": "  Variable:"
         },
         {
          "0": "m",
          "1": "kg",
          "2": "m",
          "3": "kg",
          "4": "m",
          "5": "m",
          "6": "kg",
          "7": "kg",
          "ipydguuid": 1,
          "key": " Units:"
         },
         {
          "0": "0.058",
          "1": "0.898",
          "2": "0.129",
          "3": "0.078",
          "4": "0.00125",
          "5": "0.0025",
          "6": "0.0002886751345948129",
          "7": "0.00125",
          "ipydguuid": 2,
          "key": 0
         },
         {
          "0": "0.057",
          "1": "0.902",
          "2": "0.129",
          "3": "0.078",
          "4": "0.00125",
          "5": "0.0025",
          "6": "0.0002886751345948129",
          "7": "0.00125",
          "ipydguuid": 3,
          "key": 1
         },
         {
          "0": "0.057",
          "1": "0.903",
          "2": "0.129",
          "3": "0.078",
          "4": "0.00125",
          "5": "0.0025",
          "6": "0.0002886751345948129",
          "7": "0.00125",
          "ipydguuid": 4,
          "key": 2
         }
        ],
        "fields": [
         {
          "key": null
         },
         {
          "0": null
         },
         {
          "1": null
         },
         {
          "2": null
         },
         {
          "3": null
         },
         {
          "4": null
         },
         {
          "5": null
         },
         {
          "6": null
         },
         {
          "7": null
         },
         {
          "ipydguuid": null
         }
        ],
        "schema": {
         "fields": [
          {
           "name": "key",
           "type": "string"
          },
          {
           "name": 0,
           "type": "string"
          },
          {
           "name": 1,
           "type": "string"
          },
          {
           "name": 2,
           "type": "string"
          },
          {
           "name": 3,
           "type": "string"
          },
          {
           "name": 4,
           "type": "string"
          },
          {
           "name": 5,
           "type": "string"
          },
          {
           "name": 6,
           "type": "string"
          },
          {
           "name": 7,
           "type": "string"
          },
          {
           "name": "ipydguuid",
           "type": "integer"
          }
         ],
         "pandas_version": "1.4.0",
         "primaryKey": [
          "key",
          "ipydguuid"
         ],
         "primaryKeyUuid": "ipydguuid"
        }
       },
       "_model_module_version": "^1.2.0",
       "_model_name": "DataGridModel",
       "_view_module_version": "^1.2.0",
       "auto_fit_columns": false,
       "auto_fit_params": {
        "area": "all",
        "numCols": null,
        "padding": 30
       },
       "base_column_header_size": 20,
       "base_column_size": 64,
       "base_row_header_size": 64,
       "base_row_size": 20,
       "default_renderer": "IPY_MODEL_87b2e2889487411fbb5af563b0bd2f6c",
       "editable": true,
       "header_visibility": "all",
       "layout": "IPY_MODEL_609b47cd7bdb4099be023da28751c639",
       "selection_mode": "cell"
      }
     },
     "b6eca1346db74109ba192ed16b43e630": {
      "model_module": "@jupyter-widgets/controls",
      "model_module_version": "2.0.0",
      "model_name": "ButtonModel",
      "state": {
       "description": "Undo",
       "layout": "IPY_MODEL_322bbcaa6cbc49778e5731e3ab767a09",
       "style": "IPY_MODEL_39bafaf8509544c5a61c6253887cc8b5",
       "tooltip": null
      }
     },
     "b7274807dcee4d6a9b16f1d52323cfbe": {
      "model_module": "@jupyter-widgets/controls",
      "model_module_version": "2.0.0",
      "model_name": "ButtonStyleModel",
      "state": {
       "font_family": null,
       "font_size": null,
       "font_style": null,
       "font_variant": null,
       "font_weight": null,
       "text_color": null,
       "text_decoration": null
      }
     },
     "b735cd2d1fac4ae29d6cdf71c41494d6": {
      "model_module": "@jupyter-widgets/base",
      "model_module_version": "2.0.0",
      "model_name": "LayoutModel",
      "state": {}
     },
     "b73725493f2b40ab9c6ed1b7ed083a37": {
      "model_module": "@jupyter-widgets/controls",
      "model_module_version": "2.0.0",
      "model_name": "ButtonStyleModel",
      "state": {
       "font_family": null,
       "font_size": null,
       "font_style": null,
       "font_variant": null,
       "font_weight": null,
       "text_color": null,
       "text_decoration": null
      }
     },
     "b74607c1b9dd49c1bd4bfc800ee1a73a": {
      "model_module": "@jupyter-widgets/controls",
      "model_module_version": "2.0.0",
      "model_name": "ButtonModel",
      "state": {
       "description": "Add Row",
       "layout": "IPY_MODEL_6dc5cd1d74d54f4c890948f8a97eb774",
       "style": "IPY_MODEL_fb33e0cab67e4f85a1c66945dbc9e6cc",
       "tooltip": null
      }
     },
     "b791b2a6209b490eae9a844bdafe392c": {
      "model_module": "@jupyter-widgets/base",
      "model_module_version": "2.0.0",
      "model_name": "LayoutModel",
      "state": {}
     },
     "b7ac87527df64f4983320467faf219dc": {
      "model_module": "@jupyter-widgets/base",
      "model_module_version": "2.0.0",
      "model_name": "LayoutModel",
      "state": {}
     },
     "b7cc8dab6e1846f49dc2f64dc0b8b3af": {
      "model_module": "@jupyter-widgets/controls",
      "model_module_version": "2.0.0",
      "model_name": "VBoxModel",
      "state": {
       "children": [
        "IPY_MODEL_fa15f840797f4dda9b58659230ff4108",
        "IPY_MODEL_cbd4266e4e8643d59bc0b58fe2e78223",
        "IPY_MODEL_b697ef87c74c4ff4871f6376449dab6c"
       ],
       "layout": "IPY_MODEL_b3e207fa45b94ddbbb6e558d56cf4adc"
      }
     },
     "b7efd13851884dd98deef52b6b5a988c": {
      "model_module": "ipydatagrid",
      "model_module_version": "^1.2.0",
      "model_name": "VegaExprModel",
      "state": {
       "_model_module_version": "^1.2.0",
       "_view_module": "ipydatagrid",
       "_view_module_version": "^1.2.0",
       "_view_name": "VegaExprView"
      }
     },
     "b83897bd50ff4261b60875fa1d0d32f3": {
      "model_module": "@jupyter-widgets/base",
      "model_module_version": "2.0.0",
      "model_name": "LayoutModel",
      "state": {}
     },
     "b84eb3fedbed45a28a839ddd42a558ce": {
      "model_module": "@jupyter-widgets/controls",
      "model_module_version": "2.0.0",
      "model_name": "ButtonModel",
      "state": {
       "description": "Add Row",
       "layout": "IPY_MODEL_d4e66f5fd0064b60a46e38f64f9802ac",
       "style": "IPY_MODEL_63601183e3854403bc0b92430a696a4c",
       "tooltip": null
      }
     },
     "b892aab17a3c4ed69aa440fdaf49ea57": {
      "model_module": "@jupyter-widgets/base",
      "model_module_version": "2.0.0",
      "model_name": "LayoutModel",
      "state": {}
     },
     "b8c82b4c92bc483d824f37240aa4fa58": {
      "model_module": "@jupyter-widgets/controls",
      "model_module_version": "2.0.0",
      "model_name": "VBoxModel",
      "state": {
       "children": [
        "IPY_MODEL_2a86c50cd2cc42078693ce50f2988b3f",
        "IPY_MODEL_824c80b78b5349c48d7c0eb4968b95b2",
        "IPY_MODEL_34dad93ea83d454284afb55901eba7c3"
       ],
       "layout": "IPY_MODEL_4eef00b6672742908b8602a086533f0e"
      }
     },
     "b8e1affd30ce4cc7affd8e13a7c90dee": {
      "model_module": "@jupyter-widgets/base",
      "model_module_version": "2.0.0",
      "model_name": "LayoutModel",
      "state": {}
     },
     "b903ef10e5c3442fb14e7470a7d72875": {
      "model_module": "@jupyter-widgets/base",
      "model_module_version": "2.0.0",
      "model_name": "LayoutModel",
      "state": {}
     },
     "b90fd13bcd224e26b729b76a8bc2eb52": {
      "model_module": "@jupyter-widgets/controls",
      "model_module_version": "2.0.0",
      "model_name": "HBoxModel",
      "state": {
       "children": [
        "IPY_MODEL_9354b4879e8d4f30b6cce08fac5e7a88",
        "IPY_MODEL_d6fd9005d7bc4e4588a21fa13164c6c2",
        "IPY_MODEL_9ff2a8e65fdd4808acf935682af45387",
        "IPY_MODEL_634eedc72eab431ba1277c426a8f9834",
        "IPY_MODEL_6560a3b0364c4fad9f48325e5b8eca0b"
       ],
       "layout": "IPY_MODEL_6bacc353bbb84197af50e6c05c54c16d"
      }
     },
     "b955a8b96ca24ea2bd562ea8be527dfd": {
      "model_module": "@jupyter-widgets/base",
      "model_module_version": "2.0.0",
      "model_name": "LayoutModel",
      "state": {}
     },
     "b972ba5dadf246e4959e5c52948995e5": {
      "model_module": "@jupyter-widgets/base",
      "model_module_version": "2.0.0",
      "model_name": "LayoutModel",
      "state": {}
     },
     "b98abedc6bb64502b5fd553c508199d9": {
      "model_module": "@jupyter-widgets/controls",
      "model_module_version": "2.0.0",
      "model_name": "ButtonModel",
      "state": {
       "description": "Add Column",
       "layout": "IPY_MODEL_525300a018944d46b431f12ec591fd74",
       "style": "IPY_MODEL_43a9846d67534e8884278e2be876610d",
       "tooltip": null
      }
     },
     "b9b86442213e4435a6307f9eda993dd4": {
      "model_module": "@jupyter-widgets/base",
      "model_module_version": "2.0.0",
      "model_name": "LayoutModel",
      "state": {}
     },
     "ba04370bf2714e238e5f500e910fb9ed": {
      "model_module": "ipydatagrid",
      "model_module_version": "^1.2.0",
      "model_name": "DataGridModel",
      "state": {
       "_data": {
        "data": [
         {
          "0": "x2",
          "1": "m2",
          "2": "x1",
          "3": "m1",
          "4": "ux2",
          "5": "ux1",
          "6": "um1",
          "7": "um2",
          "ipydguuid": 0,
          "key": "  Variable:"
         },
         {
          "0": "m",
          "1": "kg",
          "2": "m",
          "3": "kg",
          "4": "m",
          "5": "m",
          "6": "kg",
          "7": "kg",
          "ipydguuid": 1,
          "key": " Units:"
         },
         {
          "0": "0.058",
          "1": "0.898",
          "2": "0.129",
          "3": "0.078",
          "4": "0.00125",
          "5": "0.0025",
          "6": "0.0002886751345948129",
          "7": "0.00125",
          "ipydguuid": 2,
          "key": 0
         },
         {
          "0": "0.057",
          "1": "0.902",
          "2": "0.129",
          "3": "0.078",
          "4": "0.00125",
          "5": "0.0025",
          "6": "0.0002886751345948129",
          "7": "0.00125",
          "ipydguuid": 3,
          "key": 1
         },
         {
          "0": "0.057",
          "1": "0.903",
          "2": "0.129",
          "3": "0.078",
          "4": "0.00125",
          "5": "0.0025",
          "6": "0.0002886751345948129",
          "7": "0.00125",
          "ipydguuid": 4,
          "key": 2
         }
        ],
        "fields": [
         {
          "key": null
         },
         {
          "0": null
         },
         {
          "1": null
         },
         {
          "2": null
         },
         {
          "3": null
         },
         {
          "4": null
         },
         {
          "5": null
         },
         {
          "6": null
         },
         {
          "7": null
         },
         {
          "ipydguuid": null
         }
        ],
        "schema": {
         "fields": [
          {
           "name": "key",
           "type": "string"
          },
          {
           "name": 0,
           "type": "string"
          },
          {
           "name": 1,
           "type": "string"
          },
          {
           "name": 2,
           "type": "string"
          },
          {
           "name": 3,
           "type": "string"
          },
          {
           "name": 4,
           "type": "string"
          },
          {
           "name": 5,
           "type": "string"
          },
          {
           "name": 6,
           "type": "string"
          },
          {
           "name": 7,
           "type": "string"
          },
          {
           "name": "ipydguuid",
           "type": "integer"
          }
         ],
         "pandas_version": "1.4.0",
         "primaryKey": [
          "key",
          "ipydguuid"
         ],
         "primaryKeyUuid": "ipydguuid"
        }
       },
       "_model_module_version": "^1.2.0",
       "_model_name": "DataGridModel",
       "_view_module_version": "^1.2.0",
       "auto_fit_columns": false,
       "auto_fit_params": {
        "area": "all",
        "numCols": null,
        "padding": 30
       },
       "base_column_header_size": 20,
       "base_column_size": 64,
       "base_row_header_size": 64,
       "base_row_size": 20,
       "default_renderer": "IPY_MODEL_72e21d4c80434187860adb1488b25893",
       "editable": true,
       "header_visibility": "all",
       "layout": "IPY_MODEL_bca34fa5a7b347dfb5e3ff1d7ecd9789",
       "selection_mode": "cell"
      }
     },
     "ba387b29f6b745e8a3322afd983c95c9": {
      "model_module": "@jupyter-widgets/output",
      "model_module_version": "1.0.0",
      "model_name": "OutputModel",
      "state": {
       "layout": "IPY_MODEL_81e728da6bbe453186058b99a0e7b915",
       "outputs": [
        {
         "name": "stdout",
         "output_type": "stream",
         "text": "Found 3 valid rows\n\nCreated array:\n x2Vec = np.array([0.058, 0.057, 0.057])\n\nCreated array:\n m2Vec = np.array([0.898, 0.902, 0.903])\n\nCreated array:\n x1Vec = np.array([0.129, 0.129, 0.129])\n\nCreated array:\n m1Vec = np.array([0.078, 0.078, 0.078])\n\nCreated array:\n ux2Vec = np.array([0.00125, 0.00125, 0.00125])\n\nCreated array:\n ux1Vec = np.array([0.0025, 0.0025, 0.0025])\n\nCreated array:\n um1Vec = np.array([0.0002886751345948129, 0.0002886751345948129, 0.0002886751345948129])\n\nCreated array:\n um2Vec = np.array([0.00125, 0.00125, 0.00125])\n"
        }
       ]
      }
     },
     "ba5030ed2e5f450eae94bb2dbaf696f6": {
      "model_module": "ipydatagrid",
      "model_module_version": "^1.2.0",
      "model_name": "VegaExprModel",
      "state": {
       "_model_module_version": "^1.2.0",
       "_view_module": "ipydatagrid",
       "_view_module_version": "^1.2.0",
       "_view_name": "VegaExprView"
      }
     },
     "ba5261cb7abf44e283438037b8e0c741": {
      "model_module": "@jupyter-widgets/base",
      "model_module_version": "2.0.0",
      "model_name": "LayoutModel",
      "state": {
       "height": "150px"
      }
     },
     "babfea59ef92448b87f87c9cb38adc9e": {
      "model_module": "ipydatagrid",
      "model_module_version": "^1.2.0",
      "model_name": "DataGridModel",
      "state": {
       "_data": {
        "data": [
         {
          "0": "x2",
          "1": "m2",
          "2": "x1",
          "3": "m1",
          "4": "ux2",
          "5": "ux1",
          "6": "um1",
          "7": "um2",
          "ipydguuid": 0,
          "key": "  Variable:"
         },
         {
          "0": "m",
          "1": "kg",
          "2": "m",
          "3": "kg",
          "4": "m",
          "5": "m",
          "6": "kg",
          "7": "kg",
          "ipydguuid": 1,
          "key": " Units:"
         },
         {
          "0": "0.058",
          "1": "0.898",
          "2": "0.129",
          "3": "0.078",
          "4": "0.00125",
          "5": "0.0025",
          "6": "0.0005 / (np.sqrt(3))",
          "7": "0.00125",
          "ipydguuid": 2,
          "key": 0
         },
         {
          "0": "0.057",
          "1": "0.902",
          "2": "0.129",
          "3": "0.078",
          "4": "0.00125",
          "5": "0.0025",
          "6": "0.0005 / (np.sqrt(3))",
          "7": "0.00125",
          "ipydguuid": 3,
          "key": 1
         },
         {
          "0": "0.057",
          "1": "0.903",
          "2": "0.129",
          "3": "0.078",
          "4": "0.00125",
          "5": "0.0025",
          "6": "0.0005 / (np.sqrt(3))",
          "7": "0;00125",
          "ipydguuid": 4,
          "key": 2
         }
        ],
        "fields": [
         {
          "key": null
         },
         {
          "0": null
         },
         {
          "1": null
         },
         {
          "2": null
         },
         {
          "3": null
         },
         {
          "4": null
         },
         {
          "5": null
         },
         {
          "6": null
         },
         {
          "7": null
         },
         {
          "ipydguuid": null
         }
        ],
        "schema": {
         "fields": [
          {
           "name": "key",
           "type": "string"
          },
          {
           "name": 0,
           "type": "string"
          },
          {
           "name": 1,
           "type": "string"
          },
          {
           "name": 2,
           "type": "string"
          },
          {
           "name": 3,
           "type": "string"
          },
          {
           "name": 4,
           "type": "string"
          },
          {
           "name": 5,
           "type": "string"
          },
          {
           "name": 6,
           "type": "string"
          },
          {
           "name": 7,
           "type": "string"
          },
          {
           "name": "ipydguuid",
           "type": "integer"
          }
         ],
         "pandas_version": "1.4.0",
         "primaryKey": [
          "key",
          "ipydguuid"
         ],
         "primaryKeyUuid": "ipydguuid"
        }
       },
       "_model_module_version": "^1.2.0",
       "_model_name": "DataGridModel",
       "_view_module_version": "^1.2.0",
       "_visible_rows": [
        0,
        1,
        2,
        3,
        4
       ],
       "auto_fit_columns": false,
       "auto_fit_params": {
        "area": "all",
        "numCols": null,
        "padding": 30
       },
       "base_column_header_size": 20,
       "base_column_size": 64,
       "base_row_header_size": 64,
       "base_row_size": 20,
       "default_renderer": "IPY_MODEL_d788d346bffc44f09964ec230a70981a",
       "editable": true,
       "header_visibility": "all",
       "layout": "IPY_MODEL_5dac7fdd756942d9b3f1e067366bbb5a",
       "selection_mode": "cell",
       "selections": [
        {
         "c1": 6,
         "c2": 6,
         "r1": 4,
         "r2": 4
        }
       ]
      }
     },
     "bac897ced7144364ac6c222948b0cab9": {
      "model_module": "@jupyter-widgets/controls",
      "model_module_version": "2.0.0",
      "model_name": "VBoxModel",
      "state": {
       "children": [
        "IPY_MODEL_27ccf64841f045bca47d2edd14b24d45",
        "IPY_MODEL_ae1f054d3dc04afd8f4830594ca45a44",
        "IPY_MODEL_ad34239bda8a4d81bf0b38bd649715a5"
       ],
       "layout": "IPY_MODEL_449ad063253e4ecda73ac2243e3827b1"
      }
     },
     "bb30b6f63f624ea3a34546ebf5fd551b": {
      "model_module": "@jupyter-widgets/controls",
      "model_module_version": "2.0.0",
      "model_name": "ButtonStyleModel",
      "state": {
       "font_family": null,
       "font_size": null,
       "font_style": null,
       "font_variant": null,
       "font_weight": null,
       "text_color": null,
       "text_decoration": null
      }
     },
     "bb5e15a40fd4459b9b4c686ac26ee154": {
      "model_module": "ipydatagrid",
      "model_module_version": "^1.2.0",
      "model_name": "VegaExprModel",
      "state": {
       "_model_module_version": "^1.2.0",
       "_view_module": "ipydatagrid",
       "_view_module_version": "^1.2.0",
       "_view_name": "VegaExprView"
      }
     },
     "bb70baa34dee40d1b857fe5cb6c323eb": {
      "model_module": "ipydatagrid",
      "model_module_version": "^1.2.0",
      "model_name": "VegaExprModel",
      "state": {
       "_model_module_version": "^1.2.0",
       "_view_module": "ipydatagrid",
       "_view_module_version": "^1.2.0",
       "_view_name": "VegaExprView"
      }
     },
     "bbbe553389b042a9b8f273b59f01b8d4": {
      "model_module": "@jupyter-widgets/base",
      "model_module_version": "2.0.0",
      "model_name": "LayoutModel",
      "state": {
       "height": "150px"
      }
     },
     "bbc8fb2c124a4e489d605c78149e3b3c": {
      "model_module": "@jupyter-widgets/base",
      "model_module_version": "2.0.0",
      "model_name": "LayoutModel",
      "state": {}
     },
     "bbe3f52b060745c28eedcc073d878588": {
      "model_module": "@jupyter-widgets/base",
      "model_module_version": "2.0.0",
      "model_name": "LayoutModel",
      "state": {
       "height": "150px"
      }
     },
     "bc1aad6e2d384df39042d4d2144797da": {
      "model_module": "@jupyter-widgets/controls",
      "model_module_version": "2.0.0",
      "model_name": "ButtonStyleModel",
      "state": {
       "font_family": null,
       "font_size": null,
       "font_style": null,
       "font_variant": null,
       "font_weight": null,
       "text_color": null,
       "text_decoration": null
      }
     },
     "bc8b823421e04d0d8db128603d28b937": {
      "model_module": "@jupyter-widgets/base",
      "model_module_version": "2.0.0",
      "model_name": "LayoutModel",
      "state": {}
     },
     "bca34fa5a7b347dfb5e3ff1d7ecd9789": {
      "model_module": "@jupyter-widgets/base",
      "model_module_version": "2.0.0",
      "model_name": "LayoutModel",
      "state": {
       "height": "150px"
      }
     },
     "bcc19a0cb3964d3e95fd1e50cb1cc85f": {
      "model_module": "ipydatagrid",
      "model_module_version": "^1.2.0",
      "model_name": "TextRendererModel",
      "state": {
       "_model_module_version": "^1.2.0",
       "_view_module_version": "^1.2.0",
       "background_color": "IPY_MODEL_25eefbb242b94bb586425b6a28b2eff7",
       "text_color": "IPY_MODEL_abf4b22657ca456e95b437b18f0cf2ab"
      }
     },
     "bccfec2cc2a2419095eb4fd67c7f39a3": {
      "model_module": "@jupyter-widgets/base",
      "model_module_version": "2.0.0",
      "model_name": "LayoutModel",
      "state": {}
     },
     "bd2633f061ff4857a3e0665deb5e68de": {
      "model_module": "@jupyter-widgets/controls",
      "model_module_version": "2.0.0",
      "model_name": "ButtonStyleModel",
      "state": {
       "font_family": null,
       "font_size": null,
       "font_style": null,
       "font_variant": null,
       "font_weight": null,
       "text_color": null,
       "text_decoration": null
      }
     },
     "bd3a56a885154e5d89b3415e710a0a9b": {
      "model_module": "@jupyter-widgets/controls",
      "model_module_version": "2.0.0",
      "model_name": "ButtonModel",
      "state": {
       "description": "Generate Vectors",
       "layout": "IPY_MODEL_3951f3a2afdd4a4189af07cdca02fecf",
       "style": "IPY_MODEL_cab44721cc564d9db11a0d486a16cdc8",
       "tooltip": null
      }
     },
     "bd88188938cc497db43b236d526fa39b": {
      "model_module": "@jupyter-widgets/base",
      "model_module_version": "2.0.0",
      "model_name": "LayoutModel",
      "state": {}
     },
     "bdca107d5bbb4aad81a28cca35bc66c8": {
      "model_module": "@jupyter-widgets/controls",
      "model_module_version": "2.0.0",
      "model_name": "ButtonStyleModel",
      "state": {
       "font_family": null,
       "font_size": null,
       "font_style": null,
       "font_variant": null,
       "font_weight": null,
       "text_color": null,
       "text_decoration": null
      }
     },
     "be5ab3c2b2b84117b9257605d522f33f": {
      "model_module": "@jupyter-widgets/controls",
      "model_module_version": "2.0.0",
      "model_name": "ButtonModel",
      "state": {
       "description": "Undo",
       "layout": "IPY_MODEL_0a38c694f3de42d1a7c6c788bff072e5",
       "style": "IPY_MODEL_ca49ba4868094368826911c426f99335",
       "tooltip": null
      }
     },
     "be64a456f9714513bbbcbf8f3e238aaa": {
      "model_module": "@jupyter-widgets/base",
      "model_module_version": "2.0.0",
      "model_name": "LayoutModel",
      "state": {}
     },
     "bebee0c0b51a49f29dbbbdb1310ed711": {
      "model_module": "@jupyter-widgets/base",
      "model_module_version": "2.0.0",
      "model_name": "LayoutModel",
      "state": {}
     },
     "bec2a094ca394d6eae38a1c188577ec7": {
      "model_module": "@jupyter-widgets/base",
      "model_module_version": "2.0.0",
      "model_name": "LayoutModel",
      "state": {}
     },
     "beeaac5df4444cd688e45ac777d8b670": {
      "model_module": "ipydatagrid",
      "model_module_version": "^1.2.0",
      "model_name": "VegaExprModel",
      "state": {
       "_model_module_version": "^1.2.0",
       "_view_module": "ipydatagrid",
       "_view_module_version": "^1.2.0",
       "_view_name": "VegaExprView"
      }
     },
     "bf023891ff104b71aec2e8e3231941ad": {
      "model_module": "@jupyter-widgets/base",
      "model_module_version": "2.0.0",
      "model_name": "LayoutModel",
      "state": {}
     },
     "bf5e4f71b7ab455da72524a3492e05ee": {
      "model_module": "@jupyter-widgets/base",
      "model_module_version": "2.0.0",
      "model_name": "LayoutModel",
      "state": {}
     },
     "bf7bd7cce9274e89b47f5f7bd006ceb6": {
      "model_module": "@jupyter-widgets/base",
      "model_module_version": "2.0.0",
      "model_name": "LayoutModel",
      "state": {}
     },
     "bf7e91433fcc473fb0cc540af36bc9fa": {
      "model_module": "@jupyter-widgets/base",
      "model_module_version": "2.0.0",
      "model_name": "LayoutModel",
      "state": {}
     },
     "bf818d81546c4cc695750ffa275d782d": {
      "model_module": "ipydatagrid",
      "model_module_version": "^1.2.0",
      "model_name": "DataGridModel",
      "state": {
       "_data": {
        "data": [
         {
          "0": "x2",
          "1": "m2",
          "2": "x1",
          "3": "m1",
          "4": "ux2",
          "5": "ux1",
          "6": "um1",
          "7": "um2",
          "ipydguuid": 0,
          "key": "  Variable:"
         },
         {
          "0": "m",
          "1": "kg",
          "2": "m",
          "3": "kg",
          "4": "m",
          "5": "m",
          "6": "kg",
          "7": "kg",
          "ipydguuid": 1,
          "key": " Units:"
         },
         {
          "0": "0.058",
          "1": "0.898",
          "2": "0.129",
          "3": "0.078",
          "4": "0.00125",
          "5": "0.0025",
          "6": "0.0002886751345948129",
          "7": "0.00125",
          "ipydguuid": 2,
          "key": 0
         },
         {
          "0": "0.057",
          "1": "0.902",
          "2": "0.129",
          "3": "0.078",
          "4": "0.00125",
          "5": "0.0025",
          "6": "0.0002886751345948129",
          "7": "0.00125",
          "ipydguuid": 3,
          "key": 1
         },
         {
          "0": "0.057",
          "1": "0.903",
          "2": "0.129",
          "3": "0.078",
          "4": "0.00125",
          "5": "0.0025",
          "6": "0.0002886751345948129",
          "7": "0.00125",
          "ipydguuid": 4,
          "key": 2
         }
        ],
        "fields": [
         {
          "key": null
         },
         {
          "0": null
         },
         {
          "1": null
         },
         {
          "2": null
         },
         {
          "3": null
         },
         {
          "4": null
         },
         {
          "5": null
         },
         {
          "6": null
         },
         {
          "7": null
         },
         {
          "ipydguuid": null
         }
        ],
        "schema": {
         "fields": [
          {
           "name": "key",
           "type": "string"
          },
          {
           "name": 0,
           "type": "string"
          },
          {
           "name": 1,
           "type": "string"
          },
          {
           "name": 2,
           "type": "string"
          },
          {
           "name": 3,
           "type": "string"
          },
          {
           "name": 4,
           "type": "string"
          },
          {
           "name": 5,
           "type": "string"
          },
          {
           "name": 6,
           "type": "string"
          },
          {
           "name": 7,
           "type": "string"
          },
          {
           "name": "ipydguuid",
           "type": "integer"
          }
         ],
         "pandas_version": "1.4.0",
         "primaryKey": [
          "key",
          "ipydguuid"
         ],
         "primaryKeyUuid": "ipydguuid"
        }
       },
       "_model_module_version": "^1.2.0",
       "_model_name": "DataGridModel",
       "_view_module_version": "^1.2.0",
       "auto_fit_columns": false,
       "auto_fit_params": {
        "area": "all",
        "numCols": null,
        "padding": 30
       },
       "base_column_header_size": 20,
       "base_column_size": 64,
       "base_row_header_size": 64,
       "base_row_size": 20,
       "default_renderer": "IPY_MODEL_4ab289d6feda463d93ec20e031024ce1",
       "editable": true,
       "header_visibility": "all",
       "layout": "IPY_MODEL_a29bfed529c14f6e89e7ad88f523ea9d",
       "selection_mode": "cell"
      }
     },
     "bfdecaa20b5148289550aeedb5f80d10": {
      "model_module": "@jupyter-widgets/base",
      "model_module_version": "2.0.0",
      "model_name": "LayoutModel",
      "state": {}
     },
     "c04c3d846570498a9f60c543262b030f": {
      "model_module": "@jupyter-widgets/base",
      "model_module_version": "2.0.0",
      "model_name": "LayoutModel",
      "state": {}
     },
     "c0c460c5a1b14aff8e89c6f2515c78da": {
      "model_module": "@jupyter-widgets/controls",
      "model_module_version": "2.0.0",
      "model_name": "VBoxModel",
      "state": {
       "children": [
        "IPY_MODEL_4df52cc5356e4d0d89da32b9b084cf15",
        "IPY_MODEL_329c14c61f1840e8adffd1428428bcc1",
        "IPY_MODEL_ba387b29f6b745e8a3322afd983c95c9"
       ],
       "layout": "IPY_MODEL_defe9eb3564f42ca8afeaeef73d26c96"
      }
     },
     "c11b02c638244a8fbb16904ccd7a462a": {
      "model_module": "@jupyter-widgets/base",
      "model_module_version": "2.0.0",
      "model_name": "LayoutModel",
      "state": {}
     },
     "c12a8495e7824575a4d8c644d14351d2": {
      "model_module": "@jupyter-widgets/controls",
      "model_module_version": "2.0.0",
      "model_name": "ButtonStyleModel",
      "state": {
       "font_family": null,
       "font_size": null,
       "font_style": null,
       "font_variant": null,
       "font_weight": null,
       "text_color": null,
       "text_decoration": null
      }
     },
     "c14d95e623f24d54b43919bfd8ee598b": {
      "model_module": "@jupyter-widgets/output",
      "model_module_version": "1.0.0",
      "model_name": "OutputModel",
      "state": {
       "layout": "IPY_MODEL_360e3d6cbf914c1db57bc9992e86c7e3",
       "outputs": [
        {
         "name": "stdout",
         "output_type": "stream",
         "text": "Found 3 valid rows\n\nCreated array:\n x2Vec = np.array([0.045, 0.04, 0.061])\n\nCreated array:\n m2Vec = np.array([1.15, 1.189, 0.979])\n\nCreated array:\n x1Vec = np.array([0.129, 0.129, 0.129])\n\nCreated array:\n m1Vec = np.array([0.078, 0.078, 0.078])\n\nCreated array:\n ux2Vec = np.array([0.000625, 0.000625, 0.000625])\n\nCreated array:\n ux1Vec = np.array([0.00125, 0.00125, 0.00125])\n\nCreated array:\n um1Vec = np.array([0.0002886751345948129, 0.0002886751345948129, 0.0002886751345948129])\n\nCreated array:\n um2Vec = np.array([0.000625, 0.000625, 0.000625])\n"
        }
       ]
      }
     },
     "c156544ebb3b4bde871639ea6168f195": {
      "model_module": "@jupyter-widgets/base",
      "model_module_version": "2.0.0",
      "model_name": "LayoutModel",
      "state": {
       "height": "150px"
      }
     },
     "c1c0a92a31d844448c84b024960a4868": {
      "model_module": "@jupyter-widgets/controls",
      "model_module_version": "2.0.0",
      "model_name": "ButtonModel",
      "state": {
       "description": "Redo",
       "layout": "IPY_MODEL_f8dab22fa0e448609483daeca191bfc0",
       "style": "IPY_MODEL_d8aa747b08d246febc3ccdebb011597b",
       "tooltip": null
      }
     },
     "c2d4bd6fd82b4949a18e442bcb1db0a2": {
      "model_module": "ipydatagrid",
      "model_module_version": "^1.2.0",
      "model_name": "VegaExprModel",
      "state": {
       "_model_module_version": "^1.2.0",
       "_view_module": "ipydatagrid",
       "_view_module_version": "^1.2.0",
       "_view_name": "VegaExprView"
      }
     },
     "c2d807d9aff240a19c9401036d294267": {
      "model_module": "@jupyter-widgets/controls",
      "model_module_version": "2.0.0",
      "model_name": "ButtonStyleModel",
      "state": {
       "font_family": null,
       "font_size": null,
       "font_style": null,
       "font_variant": null,
       "font_weight": null,
       "text_color": null,
       "text_decoration": null
      }
     },
     "c2dd313159ec4547a02d935f921f0a6c": {
      "model_module": "@jupyter-widgets/base",
      "model_module_version": "2.0.0",
      "model_name": "LayoutModel",
      "state": {}
     },
     "c3238477f32241fb8371cc9e6ee87b58": {
      "model_module": "@jupyter-widgets/controls",
      "model_module_version": "2.0.0",
      "model_name": "VBoxModel",
      "state": {
       "children": [
        "IPY_MODEL_601aa8c3a5f04f6290b7f0a050bb34d3",
        "IPY_MODEL_91d3eeed8dbe46e4926fbe278ee17f3b",
        "IPY_MODEL_7965191f0c1e4ac995224a5bb85c8ea7"
       ],
       "layout": "IPY_MODEL_1d3425caacf5419181cc84d8d2e730d8"
      }
     },
     "c32787fa2ad14ff29e925cb2a699702b": {
      "model_module": "ipydatagrid",
      "model_module_version": "^1.2.0",
      "model_name": "TextRendererModel",
      "state": {
       "_model_module_version": "^1.2.0",
       "_view_module_version": "^1.2.0",
       "background_color": "IPY_MODEL_91c585ed24c74acf89039c526384a4e7",
       "text_color": "IPY_MODEL_1890cabd8c634e18af0f8583b8cffa8e"
      }
     },
     "c34a6f1acc174a1a9fc8821a2da91e5f": {
      "model_module": "@jupyter-widgets/controls",
      "model_module_version": "2.0.0",
      "model_name": "ButtonModel",
      "state": {
       "description": "Add Column",
       "layout": "IPY_MODEL_59218bc65ca64a10b1b4cfd38ce765d8",
       "style": "IPY_MODEL_90b8b64d26424a59b01591ed13d7da38",
       "tooltip": null
      }
     },
     "c3634e35846b49fa91b44d4752c46934": {
      "model_module": "@jupyter-widgets/base",
      "model_module_version": "2.0.0",
      "model_name": "LayoutModel",
      "state": {}
     },
     "c37304bcc32d42f4b24d311ac1e74947": {
      "model_module": "@jupyter-widgets/controls",
      "model_module_version": "2.0.0",
      "model_name": "HBoxModel",
      "state": {
       "children": [
        "IPY_MODEL_f843f8e54c9a4d3fbd337de5a80245bb",
        "IPY_MODEL_db09a7d236bc4b65856ce4806d5ca69e",
        "IPY_MODEL_4a433d7c993441edbe5e484d0a6a6c60",
        "IPY_MODEL_ea78c6a1f7da48f1b550c9d7435ec1d4",
        "IPY_MODEL_f7b95313ae824dbeaab456f3239a4463"
       ],
       "layout": "IPY_MODEL_ce1de7ea228c418c9cb0c1041746a0c3"
      }
     },
     "c3a18d9005f547798e7bc627cf8a026e": {
      "model_module": "ipydatagrid",
      "model_module_version": "^1.2.0",
      "model_name": "VegaExprModel",
      "state": {
       "_model_module_version": "^1.2.0",
       "_view_module": "ipydatagrid",
       "_view_module_version": "^1.2.0",
       "_view_name": "VegaExprView"
      }
     },
     "c3a75ba5e7b845f5a467a890d93b0dc2": {
      "model_module": "@jupyter-widgets/controls",
      "model_module_version": "2.0.0",
      "model_name": "ButtonModel",
      "state": {
       "description": "Add Row",
       "layout": "IPY_MODEL_868522c9b41f4bfcb0f7da2f9ace8719",
       "style": "IPY_MODEL_3f23dd7fb1b945f4a5ba678caa4ffdc4",
       "tooltip": null
      }
     },
     "c3c0fec2e8834643bca528a2725f2225": {
      "model_module": "@jupyter-widgets/controls",
      "model_module_version": "2.0.0",
      "model_name": "ButtonModel",
      "state": {
       "description": "Generate Vectors",
       "layout": "IPY_MODEL_b47eff3c95794d43b56b9c96e48c1de5",
       "style": "IPY_MODEL_41d7656dcebe49ff9ee6910f90889ed0",
       "tooltip": null
      }
     },
     "c3d90dea71a34e8c8495318654549b9b": {
      "model_module": "@jupyter-widgets/base",
      "model_module_version": "2.0.0",
      "model_name": "LayoutModel",
      "state": {}
     },
     "c3f4601127a441c6910c2a0dcfeca805": {
      "model_module": "@jupyter-widgets/controls",
      "model_module_version": "2.0.0",
      "model_name": "ButtonModel",
      "state": {
       "description": "Add Column",
       "layout": "IPY_MODEL_138cfad2f0584dd5b2cdfb2a3a673f7c",
       "style": "IPY_MODEL_81546f8c5b1a4d0b833d5e3d571ece63",
       "tooltip": null
      }
     },
     "c4014244791d48318789fe526fb2b136": {
      "model_module": "ipydatagrid",
      "model_module_version": "^1.2.0",
      "model_name": "DataGridModel",
      "state": {
       "_data": {
        "data": [
         {
          "0": "x2",
          "1": "m2",
          "2": "x1",
          "3": "m1",
          "4": "ux2",
          "5": "ux1",
          "6": "um1",
          "7": "um2",
          "ipydguuid": 0,
          "key": "  Variable:"
         },
         {
          "0": "m",
          "1": "kg",
          "2": "m",
          "3": "kg",
          "4": "m",
          "5": "m",
          "6": "kg",
          "7": "kg",
          "ipydguuid": 1,
          "key": " Units:"
         },
         {
          "0": "0.058",
          "1": "0.898",
          "2": "0.129",
          "3": "0.078",
          "4": "0.00125",
          "5": "0.0025",
          "6": "0.0002886751345948129",
          "7": "0.00125",
          "ipydguuid": 2,
          "key": 0
         },
         {
          "0": "0.057",
          "1": "0.902",
          "2": "0.129",
          "3": "0.078",
          "4": "0.00125",
          "5": "0.0025",
          "6": "0.0002886751345948129",
          "7": "0.00125",
          "ipydguuid": 3,
          "key": 1
         },
         {
          "0": "0.057",
          "1": "0.903",
          "2": "0.129",
          "3": "0.078",
          "4": "0.00125",
          "5": "0.0025",
          "6": "0.0002886751345948129",
          "7": "0.00125",
          "ipydguuid": 4,
          "key": 2
         }
        ],
        "fields": [
         {
          "key": null
         },
         {
          "0": null
         },
         {
          "1": null
         },
         {
          "2": null
         },
         {
          "3": null
         },
         {
          "4": null
         },
         {
          "5": null
         },
         {
          "6": null
         },
         {
          "7": null
         },
         {
          "ipydguuid": null
         }
        ],
        "schema": {
         "fields": [
          {
           "name": "key",
           "type": "string"
          },
          {
           "name": 0,
           "type": "string"
          },
          {
           "name": 1,
           "type": "string"
          },
          {
           "name": 2,
           "type": "string"
          },
          {
           "name": 3,
           "type": "string"
          },
          {
           "name": 4,
           "type": "string"
          },
          {
           "name": 5,
           "type": "string"
          },
          {
           "name": 6,
           "type": "string"
          },
          {
           "name": 7,
           "type": "string"
          },
          {
           "name": "ipydguuid",
           "type": "integer"
          }
         ],
         "pandas_version": "1.4.0",
         "primaryKey": [
          "key",
          "ipydguuid"
         ],
         "primaryKeyUuid": "ipydguuid"
        }
       },
       "_model_module_version": "^1.2.0",
       "_model_name": "DataGridModel",
       "_view_module_version": "^1.2.0",
       "auto_fit_columns": false,
       "auto_fit_params": {
        "area": "all",
        "numCols": null,
        "padding": 30
       },
       "base_column_header_size": 20,
       "base_column_size": 64,
       "base_row_header_size": 64,
       "base_row_size": 20,
       "default_renderer": "IPY_MODEL_aad43c438a034ebf9e790d4a389eeb2f",
       "editable": true,
       "header_visibility": "all",
       "layout": "IPY_MODEL_4cd5baee9ca54150b1619da3d1082a35",
       "selection_mode": "cell"
      }
     },
     "c4418e08518c42039f4b2c8e1eb63970": {
      "model_module": "@jupyter-widgets/controls",
      "model_module_version": "2.0.0",
      "model_name": "VBoxModel",
      "state": {
       "children": [
        "IPY_MODEL_164be3bb688f4d1a8e2b067810e5aed4",
        "IPY_MODEL_8e500fe028334b1383d52dd00472ccd8",
        "IPY_MODEL_51610e66491b4c62a85375543c433193"
       ],
       "layout": "IPY_MODEL_b83897bd50ff4261b60875fa1d0d32f3"
      }
     },
     "c484b746f8c44c41bf757c9bc3fbc40f": {
      "model_module": "@jupyter-widgets/controls",
      "model_module_version": "2.0.0",
      "model_name": "ButtonModel",
      "state": {
       "description": "Redo",
       "layout": "IPY_MODEL_5a23bb9a9550442184218d76b0dee4f6",
       "style": "IPY_MODEL_ddc8184873d94e55b1ceb4bbb627ae2d",
       "tooltip": null
      }
     },
     "c4944bf6a6c04d32a9ab23db3f4ca694": {
      "model_module": "ipydatagrid",
      "model_module_version": "^1.2.0",
      "model_name": "VegaExprModel",
      "state": {
       "_model_module_version": "^1.2.0",
       "_view_module": "ipydatagrid",
       "_view_module_version": "^1.2.0",
       "_view_name": "VegaExprView"
      }
     },
     "c494976210e544a48afcdeedee665d53": {
      "model_module": "@jupyter-widgets/controls",
      "model_module_version": "2.0.0",
      "model_name": "ButtonModel",
      "state": {
       "description": "Undo",
       "layout": "IPY_MODEL_acb29a847cf94dee893f0895402405bd",
       "style": "IPY_MODEL_e9bb610f7b3546e78657cef8911e48e9",
       "tooltip": null
      }
     },
     "c4daa361d6f0475ebad7988e70c29962": {
      "model_module": "@jupyter-widgets/base",
      "model_module_version": "2.0.0",
      "model_name": "LayoutModel",
      "state": {
       "height": "150px"
      }
     },
     "c51d032417bb4e3ab48eb29c5d084191": {
      "model_module": "@jupyter-widgets/base",
      "model_module_version": "2.0.0",
      "model_name": "LayoutModel",
      "state": {}
     },
     "c5449e2bfe6c45189dbbb6f9f25ce9b1": {
      "model_module": "@jupyter-widgets/controls",
      "model_module_version": "2.0.0",
      "model_name": "ButtonModel",
      "state": {
       "description": "Add Column",
       "layout": "IPY_MODEL_93db58a0577d42f4a1f971493d1b2471",
       "style": "IPY_MODEL_cef3869035c6489da63d645dac0a99db",
       "tooltip": null
      }
     },
     "c593375650a44a55a1541b9e8cf75195": {
      "model_module": "@jupyter-widgets/base",
      "model_module_version": "2.0.0",
      "model_name": "LayoutModel",
      "state": {}
     },
     "c5abf69448314cbe89fdef3bbc94c836": {
      "model_module": "ipydatagrid",
      "model_module_version": "^1.2.0",
      "model_name": "VegaExprModel",
      "state": {
       "_model_module_version": "^1.2.0",
       "_view_module": "ipydatagrid",
       "_view_module_version": "^1.2.0",
       "_view_name": "VegaExprView"
      }
     },
     "c5ddd7ef0fa242a8af133099b5f782ae": {
      "model_module": "ipydatagrid",
      "model_module_version": "^1.2.0",
      "model_name": "VegaExprModel",
      "state": {
       "_model_module_version": "^1.2.0",
       "_view_module": "ipydatagrid",
       "_view_module_version": "^1.2.0",
       "_view_name": "VegaExprView"
      }
     },
     "c5e99c51681e40a5b59616ee5ddd42e1": {
      "model_module": "ipydatagrid",
      "model_module_version": "^1.2.0",
      "model_name": "DataGridModel",
      "state": {
       "_data": {
        "data": [
         {
          "0": "x2",
          "1": "m2",
          "2": "x1",
          "3": "m1",
          "4": "ux2",
          "5": "ux1",
          "6": "um1",
          "7": "um2",
          "ipydguuid": 0,
          "key": "  Variable:"
         },
         {
          "0": "m",
          "1": "kg",
          "2": "m",
          "3": "kg",
          "4": "m",
          "5": "m",
          "6": "kg",
          "7": "kg",
          "ipydguuid": 1,
          "key": " Units:"
         },
         {
          "0": "0.045",
          "1": "1.150",
          "2": "0.129",
          "3": "0.078",
          "4": "0.000625",
          "5": "0.00125",
          "6": "0.0002886751345948129",
          "7": "0.000625",
          "ipydguuid": 2,
          "key": 0
         },
         {
          "0": "0.040",
          "1": "1.189",
          "2": "0.129",
          "3": "0.078",
          "4": "0.000625",
          "5": "0.00125",
          "6": "0.0002886751345948129",
          "7": "0.000625",
          "ipydguuid": 3,
          "key": 1
         },
         {
          "0": "0.061",
          "1": "0.979",
          "2": "0.129",
          "3": "0.078",
          "4": "0.000625",
          "5": "0.00125",
          "6": "0.0002886751345948129",
          "7": "0.000625",
          "ipydguuid": 4,
          "key": 2
         }
        ],
        "fields": [
         {
          "key": null
         },
         {
          "0": null
         },
         {
          "1": null
         },
         {
          "2": null
         },
         {
          "3": null
         },
         {
          "4": null
         },
         {
          "5": null
         },
         {
          "6": null
         },
         {
          "7": null
         },
         {
          "ipydguuid": null
         }
        ],
        "schema": {
         "fields": [
          {
           "name": "key",
           "type": "string"
          },
          {
           "name": 0,
           "type": "string"
          },
          {
           "name": 1,
           "type": "string"
          },
          {
           "name": 2,
           "type": "string"
          },
          {
           "name": 3,
           "type": "string"
          },
          {
           "name": 4,
           "type": "string"
          },
          {
           "name": 5,
           "type": "string"
          },
          {
           "name": 6,
           "type": "string"
          },
          {
           "name": 7,
           "type": "string"
          },
          {
           "name": "ipydguuid",
           "type": "integer"
          }
         ],
         "pandas_version": "1.4.0",
         "primaryKey": [
          "key",
          "ipydguuid"
         ],
         "primaryKeyUuid": "ipydguuid"
        }
       },
       "_model_module_version": "^1.2.0",
       "_model_name": "DataGridModel",
       "_view_module_version": "^1.2.0",
       "_visible_rows": [
        0,
        1,
        2,
        3,
        4
       ],
       "auto_fit_columns": false,
       "auto_fit_params": {
        "area": "all",
        "numCols": null,
        "padding": 30
       },
       "base_column_header_size": 20,
       "base_column_size": 64,
       "base_row_header_size": 64,
       "base_row_size": 20,
       "default_renderer": "IPY_MODEL_9a93b01c394f4be4bc5c5fda7c019795",
       "editable": true,
       "header_visibility": "all",
       "layout": "IPY_MODEL_241bfaab090d46b6a420f912af9d7727",
       "selection_mode": "cell",
       "selections": [
        {
         "c1": 6,
         "c2": 6,
         "r1": 4,
         "r2": 4
        }
       ]
      }
     },
     "c6653526fb0043749511af00125f081c": {
      "model_module": "@jupyter-widgets/controls",
      "model_module_version": "2.0.0",
      "model_name": "ButtonModel",
      "state": {
       "description": "Add Column",
       "layout": "IPY_MODEL_cbd9672e53574c00b1297b9a1531feb8",
       "style": "IPY_MODEL_b2d220a17f2b4780bc5a3e351a1d5236",
       "tooltip": null
      }
     },
     "c6eccfcba7034d079436ee2309794a86": {
      "model_module": "@jupyter-widgets/controls",
      "model_module_version": "2.0.0",
      "model_name": "ButtonStyleModel",
      "state": {
       "font_family": null,
       "font_size": null,
       "font_style": null,
       "font_variant": null,
       "font_weight": null,
       "text_color": null,
       "text_decoration": null
      }
     },
     "c728bb1b99b94354a1009ce6fe37d190": {
      "model_module": "@jupyter-widgets/controls",
      "model_module_version": "2.0.0",
      "model_name": "ButtonStyleModel",
      "state": {
       "font_family": null,
       "font_size": null,
       "font_style": null,
       "font_variant": null,
       "font_weight": null,
       "text_color": null,
       "text_decoration": null
      }
     },
     "c73dc14a18da4b94b2bde5c7eaf953e5": {
      "model_module": "@jupyter-widgets/output",
      "model_module_version": "1.0.0",
      "model_name": "OutputModel",
      "state": {
       "layout": "IPY_MODEL_8ac123ad2c8541aba028fef8b8a4057f",
       "outputs": [
        {
         "name": "stdout",
         "output_type": "stream",
         "text": "Data vectors need to be updated\n"
        }
       ]
      }
     },
     "c777cdcc13a342c4be3c4695d40d56e9": {
      "model_module": "@jupyter-widgets/controls",
      "model_module_version": "2.0.0",
      "model_name": "ButtonModel",
      "state": {
       "description": "Add Row",
       "layout": "IPY_MODEL_c845fb963a5341ffa1292b2971a63089",
       "style": "IPY_MODEL_2b0b8d12f36c4e8991f46c604061311b",
       "tooltip": null
      }
     },
     "c7935d16ed09411686448cf71902ebf6": {
      "model_module": "@jupyter-widgets/base",
      "model_module_version": "2.0.0",
      "model_name": "LayoutModel",
      "state": {}
     },
     "c79af8d3256242db8be27a1ba19eddde": {
      "model_module": "@jupyter-widgets/controls",
      "model_module_version": "2.0.0",
      "model_name": "ButtonModel",
      "state": {
       "description": "Undo",
       "layout": "IPY_MODEL_54508a7e5f064a1581dcc34916b5aa7c",
       "style": "IPY_MODEL_f58c5c85be2547fd93023f09db9f577e",
       "tooltip": null
      }
     },
     "c7ae6f67163446e093e393cd57dd371f": {
      "model_module": "@jupyter-widgets/base",
      "model_module_version": "2.0.0",
      "model_name": "LayoutModel",
      "state": {}
     },
     "c7cffcd3feb14de5ad7d31cf20c9bf75": {
      "model_module": "@jupyter-widgets/controls",
      "model_module_version": "2.0.0",
      "model_name": "HBoxModel",
      "state": {
       "children": [
        "IPY_MODEL_7c81ffa421354d50a55c5f567b277ad0",
        "IPY_MODEL_8b2f70c747754e27b1d424c83dc15002",
        "IPY_MODEL_a256ac4302e04209957a34661453013d",
        "IPY_MODEL_ca8f327305dc4be5bde1cb9fa8eb18ea",
        "IPY_MODEL_5c0e33a0c85d4d548a8227465d4745d9"
       ],
       "layout": "IPY_MODEL_a7ae1160eba146d0bfa5283489a09620"
      }
     },
     "c7e682ad1823491fb10ee89f46e23efb": {
      "model_module": "@jupyter-widgets/base",
      "model_module_version": "2.0.0",
      "model_name": "LayoutModel",
      "state": {}
     },
     "c81a139cfc6b49cc8fd8e613458129eb": {
      "model_module": "@jupyter-widgets/controls",
      "model_module_version": "2.0.0",
      "model_name": "VBoxModel",
      "state": {
       "children": [
        "IPY_MODEL_ec09fec0f7eb4f8799920432facd21b0",
        "IPY_MODEL_bf818d81546c4cc695750ffa275d782d",
        "IPY_MODEL_6364df52d0ad4574bdc5509b5b1307dc"
       ],
       "layout": "IPY_MODEL_a9c0c21fe0854893a14593693d660a4f"
      }
     },
     "c825278476c44d94ab08b8a437a39a1f": {
      "model_module": "@jupyter-widgets/base",
      "model_module_version": "2.0.0",
      "model_name": "LayoutModel",
      "state": {}
     },
     "c8411b27dafd4a62a1c29326d233c7bd": {
      "model_module": "ipydatagrid",
      "model_module_version": "^1.2.0",
      "model_name": "VegaExprModel",
      "state": {
       "_model_module_version": "^1.2.0",
       "_view_module": "ipydatagrid",
       "_view_module_version": "^1.2.0",
       "_view_name": "VegaExprView"
      }
     },
     "c845fb963a5341ffa1292b2971a63089": {
      "model_module": "@jupyter-widgets/base",
      "model_module_version": "2.0.0",
      "model_name": "LayoutModel",
      "state": {}
     },
     "c86cd47547d74289906472143bbbd863": {
      "model_module": "@jupyter-widgets/controls",
      "model_module_version": "2.0.0",
      "model_name": "ButtonModel",
      "state": {
       "description": "Add Column",
       "layout": "IPY_MODEL_65be9b51968f4f7fbac71b19f6fd186e",
       "style": "IPY_MODEL_2568c9ff29b04d7f9b9fd68f65160503",
       "tooltip": null
      }
     },
     "c88e5a12ad284417ad1cae9e55303201": {
      "model_module": "@jupyter-widgets/base",
      "model_module_version": "2.0.0",
      "model_name": "LayoutModel",
      "state": {}
     },
     "c8e83401a9474d3290d347a48a49cd59": {
      "model_module": "@jupyter-widgets/controls",
      "model_module_version": "2.0.0",
      "model_name": "ButtonStyleModel",
      "state": {
       "font_family": null,
       "font_size": null,
       "font_style": null,
       "font_variant": null,
       "font_weight": null,
       "text_color": null,
       "text_decoration": null
      }
     },
     "c8ea7f817666450baf3d683a2daf7911": {
      "model_module": "@jupyter-widgets/base",
      "model_module_version": "2.0.0",
      "model_name": "LayoutModel",
      "state": {}
     },
     "c93c09fd726d494e88f13ae96e118de5": {
      "model_module": "@jupyter-widgets/base",
      "model_module_version": "2.0.0",
      "model_name": "LayoutModel",
      "state": {}
     },
     "c942ec192be34d518b75266481e710f5": {
      "model_module": "@jupyter-widgets/controls",
      "model_module_version": "2.0.0",
      "model_name": "ButtonModel",
      "state": {
       "description": "Generate Vectors",
       "layout": "IPY_MODEL_24e9e1c832224a84aeb1d4d5ef7865c7",
       "style": "IPY_MODEL_7d0972c1e8c5405182cbf480a8c27420",
       "tooltip": null
      }
     },
     "c9456ddefc48460ba78a14974f86db7e": {
      "model_module": "@jupyter-widgets/controls",
      "model_module_version": "2.0.0",
      "model_name": "ButtonModel",
      "state": {
       "description": "Add Column",
       "layout": "IPY_MODEL_35a1ebcc89dc46f2b6e5ad74b75b2c14",
       "style": "IPY_MODEL_f67492b0c99a47b1be4e34cac21a892b",
       "tooltip": null
      }
     },
     "c9525daa2c884ac787e6a949bd55d8f4": {
      "model_module": "@jupyter-widgets/output",
      "model_module_version": "1.0.0",
      "model_name": "OutputModel",
      "state": {
       "layout": "IPY_MODEL_86b24560174e45d8b5421076ff4a8df5"
      }
     },
     "c96d1f3477474560bf2ff5251054a840": {
      "model_module": "@jupyter-widgets/output",
      "model_module_version": "1.0.0",
      "model_name": "OutputModel",
      "state": {
       "layout": "IPY_MODEL_63f1b3cb199b4ea5acd012f1e656afde",
       "outputs": [
        {
         "name": "stdout",
         "output_type": "stream",
         "text": "Data vectors need to be updated\n"
        }
       ]
      }
     },
     "c99582a233b243c7acc3db9eeb66f86e": {
      "model_module": "@jupyter-widgets/base",
      "model_module_version": "2.0.0",
      "model_name": "LayoutModel",
      "state": {}
     },
     "c998f6a03c1a47a6acd1ecdb4fc61392": {
      "model_module": "@jupyter-widgets/controls",
      "model_module_version": "2.0.0",
      "model_name": "ButtonModel",
      "state": {
       "description": "Redo",
       "layout": "IPY_MODEL_35bd9becc37045a48950fa9a215510b5",
       "style": "IPY_MODEL_19687bd62f03440d8d3f2ae8068aa9a3",
       "tooltip": null
      }
     },
     "c9b18febe6844fa0877bdfca03221b45": {
      "model_module": "@jupyter-widgets/controls",
      "model_module_version": "2.0.0",
      "model_name": "ButtonModel",
      "state": {
       "description": "Add Row",
       "layout": "IPY_MODEL_9b92424bb29241e5b478ea32f09b42ef",
       "style": "IPY_MODEL_d682789240b34590b50983fae15679c8",
       "tooltip": null
      }
     },
     "ca119ae960f94aa08190a9de5d7aa94f": {
      "model_module": "@jupyter-widgets/controls",
      "model_module_version": "2.0.0",
      "model_name": "ButtonStyleModel",
      "state": {
       "font_family": null,
       "font_size": null,
       "font_style": null,
       "font_variant": null,
       "font_weight": null,
       "text_color": null,
       "text_decoration": null
      }
     },
     "ca159d4ee5804c21a2d8520afdc8c4bf": {
      "model_module": "@jupyter-widgets/base",
      "model_module_version": "2.0.0",
      "model_name": "LayoutModel",
      "state": {}
     },
     "ca1a4c0c39ac4cf08cbe49f97bb0f62e": {
      "model_module": "@jupyter-widgets/base",
      "model_module_version": "2.0.0",
      "model_name": "LayoutModel",
      "state": {}
     },
     "ca49ba4868094368826911c426f99335": {
      "model_module": "@jupyter-widgets/controls",
      "model_module_version": "2.0.0",
      "model_name": "ButtonStyleModel",
      "state": {
       "font_family": null,
       "font_size": null,
       "font_style": null,
       "font_variant": null,
       "font_weight": null,
       "text_color": null,
       "text_decoration": null
      }
     },
     "ca647201915b415da9df46163892ac26": {
      "model_module": "@jupyter-widgets/base",
      "model_module_version": "2.0.0",
      "model_name": "LayoutModel",
      "state": {}
     },
     "ca6bfc2756d1489cbaff088176d07661": {
      "model_module": "ipydatagrid",
      "model_module_version": "^1.2.0",
      "model_name": "VegaExprModel",
      "state": {
       "_model_module_version": "^1.2.0",
       "_view_module": "ipydatagrid",
       "_view_module_version": "^1.2.0",
       "_view_name": "VegaExprView"
      }
     },
     "ca6eb0604eca44d1bfd7c286a8e0273d": {
      "model_module": "@jupyter-widgets/controls",
      "model_module_version": "2.0.0",
      "model_name": "ButtonStyleModel",
      "state": {
       "font_family": null,
       "font_size": null,
       "font_style": null,
       "font_variant": null,
       "font_weight": null,
       "text_color": null,
       "text_decoration": null
      }
     },
     "ca82410e5a2b46a9979ee1e53d893a85": {
      "model_module": "@jupyter-widgets/base",
      "model_module_version": "2.0.0",
      "model_name": "LayoutModel",
      "state": {}
     },
     "ca8f327305dc4be5bde1cb9fa8eb18ea": {
      "model_module": "@jupyter-widgets/controls",
      "model_module_version": "2.0.0",
      "model_name": "ButtonModel",
      "state": {
       "description": "Add Column",
       "layout": "IPY_MODEL_54cef2edbcca40cea1b325af0a8d1d02",
       "style": "IPY_MODEL_7ee10715bc4a415a94a497b864ae7d83",
       "tooltip": null
      }
     },
     "cab44721cc564d9db11a0d486a16cdc8": {
      "model_module": "@jupyter-widgets/controls",
      "model_module_version": "2.0.0",
      "model_name": "ButtonStyleModel",
      "state": {
       "font_family": null,
       "font_size": null,
       "font_style": null,
       "font_variant": null,
       "font_weight": null,
       "text_color": null,
       "text_decoration": null
      }
     },
     "cac44a0f11a0425a8eaeaaef76648637": {
      "model_module": "@jupyter-widgets/base",
      "model_module_version": "2.0.0",
      "model_name": "LayoutModel",
      "state": {}
     },
     "cac83c5f9de9414e99ae37d9b521c01c": {
      "model_module": "@jupyter-widgets/base",
      "model_module_version": "2.0.0",
      "model_name": "LayoutModel",
      "state": {}
     },
     "cacffd37bb4a461d801371fb48af2554": {
      "model_module": "@jupyter-widgets/base",
      "model_module_version": "2.0.0",
      "model_name": "LayoutModel",
      "state": {}
     },
     "cae557e27886468b97b40d305fd88f3a": {
      "model_module": "@jupyter-widgets/controls",
      "model_module_version": "2.0.0",
      "model_name": "HBoxModel",
      "state": {
       "children": [
        "IPY_MODEL_165d44452602426f8cbb64322ac0b2f2",
        "IPY_MODEL_11d125fea1ff4cb4bc69c8049bf4e0f9",
        "IPY_MODEL_5181798cbcbf4da7b609e657ffce7c28",
        "IPY_MODEL_24b4266c3632458894e53467bd21ca2f",
        "IPY_MODEL_e998951aaf854127b3ecd14ee567b504"
       ],
       "layout": "IPY_MODEL_9b36d5269b4c4f2fae7f1a1bb8267fb6"
      }
     },
     "cb1ea0fa8eb5435595db93a8cbf6ae41": {
      "model_module": "@jupyter-widgets/base",
      "model_module_version": "2.0.0",
      "model_name": "LayoutModel",
      "state": {}
     },
     "cb219cdae682467ba585943617415d11": {
      "model_module": "@jupyter-widgets/base",
      "model_module_version": "2.0.0",
      "model_name": "LayoutModel",
      "state": {}
     },
     "cb3287bba95d42c0846e3f18f496c970": {
      "model_module": "@jupyter-widgets/controls",
      "model_module_version": "2.0.0",
      "model_name": "ButtonStyleModel",
      "state": {
       "font_family": null,
       "font_size": null,
       "font_style": null,
       "font_variant": null,
       "font_weight": null,
       "text_color": null,
       "text_decoration": null
      }
     },
     "cb6770b44afb4cd59ddd688773a1e4d1": {
      "model_module": "ipydatagrid",
      "model_module_version": "^1.2.0",
      "model_name": "VegaExprModel",
      "state": {
       "_model_module_version": "^1.2.0",
       "_view_module": "ipydatagrid",
       "_view_module_version": "^1.2.0",
       "_view_name": "VegaExprView"
      }
     },
     "cb8398a620a1405abb0eafc869b02e4e": {
      "model_module": "@jupyter-widgets/controls",
      "model_module_version": "2.0.0",
      "model_name": "ButtonStyleModel",
      "state": {
       "font_family": null,
       "font_size": null,
       "font_style": null,
       "font_variant": null,
       "font_weight": null,
       "text_color": null,
       "text_decoration": null
      }
     },
     "cb979877e6b743c1bd48eac2f7a91de2": {
      "model_module": "@jupyter-widgets/controls",
      "model_module_version": "2.0.0",
      "model_name": "ButtonModel",
      "state": {
       "description": "Add Column",
       "layout": "IPY_MODEL_e8949d040fcd4a63b62b6b397f5b8ef2",
       "style": "IPY_MODEL_8593b75ec8e04811833ad1331afcbe5c",
       "tooltip": null
      }
     },
     "cbd4266e4e8643d59bc0b58fe2e78223": {
      "model_module": "ipydatagrid",
      "model_module_version": "^1.2.0",
      "model_name": "DataGridModel",
      "state": {
       "_data": {
        "data": [
         {
          "0": "x2",
          "1": "m2",
          "2": "x1",
          "3": "m1",
          "4": "",
          "5": "",
          "6": "",
          "7": "",
          "8": "",
          "ipydguuid": 0,
          "key": "  Variable:"
         },
         {
          "0": "m",
          "1": "kg",
          "2": "m",
          "3": "kg",
          "4": "",
          "5": "",
          "6": "",
          "7": "",
          "8": "",
          "ipydguuid": 1,
          "key": " Units:"
         },
         {
          "0": "0.058",
          "1": "0.898",
          "2": "0.129",
          "3": "0.078",
          "4": "",
          "5": "",
          "6": "",
          "7": "",
          "8": "",
          "ipydguuid": 2,
          "key": 0
         },
         {
          "0": "0.057",
          "1": "0.902",
          "2": "0.129",
          "3": "0.078",
          "4": "",
          "5": "",
          "6": "",
          "7": "",
          "8": "",
          "ipydguuid": 3,
          "key": 1
         },
         {
          "0": "0.057",
          "1": "0.903",
          "2": "0.129",
          "3": "0.078",
          "4": "",
          "5": "",
          "6": "",
          "7": "",
          "8": "",
          "ipydguuid": 4,
          "key": 2
         }
        ],
        "fields": [
         {
          "key": null
         },
         {
          "0": null
         },
         {
          "1": null
         },
         {
          "2": null
         },
         {
          "3": null
         },
         {
          "4": null
         },
         {
          "5": null
         },
         {
          "6": null
         },
         {
          "7": null
         },
         {
          "8": null
         },
         {
          "ipydguuid": null
         }
        ],
        "schema": {
         "fields": [
          {
           "name": "key",
           "type": "string"
          },
          {
           "name": 0,
           "type": "string"
          },
          {
           "name": 1,
           "type": "string"
          },
          {
           "name": 2,
           "type": "string"
          },
          {
           "name": 3,
           "type": "string"
          },
          {
           "name": 4,
           "type": "string"
          },
          {
           "name": 5,
           "type": "string"
          },
          {
           "name": 6,
           "type": "string"
          },
          {
           "name": 7,
           "type": "string"
          },
          {
           "name": 8,
           "type": "string"
          },
          {
           "name": "ipydguuid",
           "type": "integer"
          }
         ],
         "pandas_version": "1.4.0",
         "primaryKey": [
          "key",
          "ipydguuid"
         ],
         "primaryKeyUuid": "ipydguuid"
        }
       },
       "_model_module_version": "^1.2.0",
       "_model_name": "DataGridModel",
       "_view_module_version": "^1.2.0",
       "_visible_rows": [
        0,
        1,
        2,
        3,
        4
       ],
       "auto_fit_columns": false,
       "auto_fit_params": {
        "area": "all",
        "numCols": null,
        "padding": 30
       },
       "base_column_header_size": 20,
       "base_column_size": 64,
       "base_row_header_size": 64,
       "base_row_size": 20,
       "default_renderer": "IPY_MODEL_1692911fc32b4a408d545626266919a4",
       "editable": true,
       "header_visibility": "all",
       "layout": "IPY_MODEL_e795b599e8a74a4cbdd9a641537eb89e",
       "selection_mode": "cell",
       "selections": [
        {
         "c1": 0,
         "c2": 0,
         "r1": 4,
         "r2": 4
        }
       ]
      }
     },
     "cbd4dfe00fc647b6815b802c6c8882ad": {
      "model_module": "ipydatagrid",
      "model_module_version": "^1.2.0",
      "model_name": "DataGridModel",
      "state": {
       "_data": {
        "data": [
         {
          "0": "x2",
          "1": "m2",
          "2": "x1",
          "3": "m1",
          "4": "dm",
          "5": "dx",
          "6": "",
          "7": "",
          "8": "relative uncertainty",
          "ipydguuid": 0,
          "key": "  Variable:"
         },
         {
          "0": "m",
          "1": "kg",
          "2": "m",
          "3": "kg",
          "4": "kg",
          "5": "m",
          "6": "",
          "7": "",
          "8": "uncertainty",
          "ipydguuid": 1,
          "key": " Units:"
         },
         {
          "0": "0.093",
          "1": "0.898",
          "2": "0.129",
          "3": "0.078",
          "4": "= 2*2",
          "5": "",
          "6": "",
          "7": "",
          "8": "spring constant",
          "ipydguuid": 2,
          "key": 0
         },
         {
          "0": "0.092",
          "1": "0.902",
          "2": "0.129",
          "3": "0.078",
          "4": "",
          "5": "",
          "6": "",
          "7": "",
          "8": "",
          "ipydguuid": 3,
          "key": 1
         },
         {
          "0": "0.092",
          "1": "0.903",
          "2": "0.129",
          "3": "0.078",
          "4": "",
          "5": "",
          "6": "",
          "7": "",
          "8": "",
          "ipydguuid": 4,
          "key": 2
         },
         {
          "0": "",
          "1": "",
          "2": "",
          "3": "",
          "4": "",
          "5": "",
          "6": "",
          "7": "",
          "8": "",
          "ipydguuid": 5,
          "key": 3
         }
        ],
        "fields": [
         {
          "key": null
         },
         {
          "0": null
         },
         {
          "1": null
         },
         {
          "2": null
         },
         {
          "3": null
         },
         {
          "4": null
         },
         {
          "5": null
         },
         {
          "6": null
         },
         {
          "7": null
         },
         {
          "8": null
         },
         {
          "ipydguuid": null
         }
        ],
        "schema": {
         "fields": [
          {
           "name": "key",
           "type": "string"
          },
          {
           "name": 0,
           "type": "string"
          },
          {
           "name": 1,
           "type": "string"
          },
          {
           "name": 2,
           "type": "string"
          },
          {
           "name": 3,
           "type": "string"
          },
          {
           "name": 4,
           "type": "string"
          },
          {
           "name": 5,
           "type": "string"
          },
          {
           "name": 6,
           "type": "string"
          },
          {
           "name": 7,
           "type": "string"
          },
          {
           "name": 8,
           "type": "string"
          },
          {
           "name": "ipydguuid",
           "type": "integer"
          }
         ],
         "pandas_version": "1.4.0",
         "primaryKey": [
          "key",
          "ipydguuid"
         ],
         "primaryKeyUuid": "ipydguuid"
        }
       },
       "_model_module_version": "^1.2.0",
       "_model_name": "DataGridModel",
       "_view_module_version": "^1.2.0",
       "_visible_rows": [
        0,
        1,
        2,
        3,
        4,
        5
       ],
       "auto_fit_columns": false,
       "auto_fit_params": {
        "area": "all",
        "numCols": null,
        "padding": 30
       },
       "base_column_header_size": 20,
       "base_column_size": 64,
       "base_row_header_size": 64,
       "base_row_size": 20,
       "column_widths": {
        "4": 116,
        "5": 122,
        "6": 133
       },
       "default_renderer": "IPY_MODEL_b17c45a6dff44a9abb76831b1ee26e53",
       "editable": true,
       "header_visibility": "all",
       "layout": "IPY_MODEL_cfda206a6d114c7d8703ae110ba9423f",
       "selection_mode": "cell",
       "selections": [
        {
         "c1": 4,
         "c2": 4,
         "r1": 2,
         "r2": 2
        }
       ]
      }
     },
     "cbd9672e53574c00b1297b9a1531feb8": {
      "model_module": "@jupyter-widgets/base",
      "model_module_version": "2.0.0",
      "model_name": "LayoutModel",
      "state": {}
     },
     "cbf8472943274ce384f884c6b0c33f62": {
      "model_module": "ipydatagrid",
      "model_module_version": "^1.2.0",
      "model_name": "VegaExprModel",
      "state": {
       "_model_module_version": "^1.2.0",
       "_view_module": "ipydatagrid",
       "_view_module_version": "^1.2.0",
       "_view_name": "VegaExprView"
      }
     },
     "cc10f4d9080f4ce38cbe28bdacdfb1b0": {
      "model_module": "@jupyter-widgets/controls",
      "model_module_version": "2.0.0",
      "model_name": "HBoxModel",
      "state": {
       "children": [
        "IPY_MODEL_587ab05f8f244eff96fa2802ad5fb6a1",
        "IPY_MODEL_5f26128febc94abeb6b7c3bce0763d11",
        "IPY_MODEL_52f9860e795a4cb8a36c81daff252778",
        "IPY_MODEL_fd9694b20403432a9606fe44d7140dde",
        "IPY_MODEL_74126952998141218db7f4d311185092"
       ],
       "layout": "IPY_MODEL_70dfb25301f3431a977a690793626603"
      }
     },
     "cc14773bb90141a182ced658061f29eb": {
      "model_module": "@jupyter-widgets/controls",
      "model_module_version": "2.0.0",
      "model_name": "ButtonModel",
      "state": {
       "description": "Redo",
       "layout": "IPY_MODEL_18be13d112d64bfabb585690cc74666a",
       "style": "IPY_MODEL_0b01bf2f4ba34eb78ec6dc4e786b005c",
       "tooltip": null
      }
     },
     "cc5b2ad753a045249b8639496e21e4bd": {
      "model_module": "@jupyter-widgets/controls",
      "model_module_version": "2.0.0",
      "model_name": "ButtonStyleModel",
      "state": {
       "font_family": null,
       "font_size": null,
       "font_style": null,
       "font_variant": null,
       "font_weight": null,
       "text_color": null,
       "text_decoration": null
      }
     },
     "cc743730879e4c0baef3bf4d1211f7f1": {
      "model_module": "@jupyter-widgets/controls",
      "model_module_version": "2.0.0",
      "model_name": "HBoxModel",
      "state": {
       "children": [
        "IPY_MODEL_b0d011cdb8b8485994e5ceeebde08279",
        "IPY_MODEL_7a9323725e1048fdb1bb333e37128bf8",
        "IPY_MODEL_daed38c4b261442782b69bcf67604891",
        "IPY_MODEL_486ca56c75de4455bf86b8f4d8870d6d",
        "IPY_MODEL_393dfc166bd74c4f8251545e97645e21"
       ],
       "layout": "IPY_MODEL_a6296399d1344884a32aab0977676c7a"
      }
     },
     "ccaa8ae35c354021a3e6588ce4e2447f": {
      "model_module": "@jupyter-widgets/controls",
      "model_module_version": "2.0.0",
      "model_name": "ButtonStyleModel",
      "state": {
       "font_family": null,
       "font_size": null,
       "font_style": null,
       "font_variant": null,
       "font_weight": null,
       "text_color": null,
       "text_decoration": null
      }
     },
     "ccc8437fb13d46579e08523e18079150": {
      "model_module": "@jupyter-widgets/controls",
      "model_module_version": "2.0.0",
      "model_name": "VBoxModel",
      "state": {
       "children": [
        "IPY_MODEL_4245c4fcf6924206a399c6472ac31ca5",
        "IPY_MODEL_62834f77378445d29025ca3eb56163eb",
        "IPY_MODEL_839c8d2784344f9c9b9abef7295a8b59"
       ],
       "layout": "IPY_MODEL_8a425a48d07040648994554a0991e574"
      }
     },
     "ccedf1fa80ab43248f40c19bfb2a646d": {
      "model_module": "ipydatagrid",
      "model_module_version": "^1.2.0",
      "model_name": "VegaExprModel",
      "state": {
       "_model_module_version": "^1.2.0",
       "_view_module": "ipydatagrid",
       "_view_module_version": "^1.2.0",
       "_view_name": "VegaExprView"
      }
     },
     "cd2a56f6c13c4e548077342e75bddeb5": {
      "model_module": "@jupyter-widgets/base",
      "model_module_version": "2.0.0",
      "model_name": "LayoutModel",
      "state": {}
     },
     "cd8a1e1e002f490ca6aa2ed651f269ac": {
      "model_module": "@jupyter-widgets/output",
      "model_module_version": "1.0.0",
      "model_name": "OutputModel",
      "state": {
       "layout": "IPY_MODEL_3de62c57a30f490a898454deb5886083"
      }
     },
     "cdb13d23e0864095b070dfc52c17076a": {
      "model_module": "@jupyter-widgets/controls",
      "model_module_version": "2.0.0",
      "model_name": "ButtonStyleModel",
      "state": {
       "font_family": null,
       "font_size": null,
       "font_style": null,
       "font_variant": null,
       "font_weight": null,
       "text_color": null,
       "text_decoration": null
      }
     },
     "cdbffb0cfd354637a24b5127f721d4f3": {
      "model_module": "@jupyter-widgets/base",
      "model_module_version": "2.0.0",
      "model_name": "LayoutModel",
      "state": {}
     },
     "cdcd2b72304146d7b4697f0b4e28465b": {
      "model_module": "@jupyter-widgets/controls",
      "model_module_version": "2.0.0",
      "model_name": "ButtonModel",
      "state": {
       "description": "Add Column",
       "layout": "IPY_MODEL_9dbd605ebf6542f288bfda6f0760a897",
       "style": "IPY_MODEL_907eb9a50d2c45ac8301ef67419f6192",
       "tooltip": null
      }
     },
     "cdddfe90d93d414eae58616162915cde": {
      "model_module": "@jupyter-widgets/controls",
      "model_module_version": "2.0.0",
      "model_name": "HBoxModel",
      "state": {
       "children": [
        "IPY_MODEL_fb53a72dc18e4edc8eb6b6923cd2ec18",
        "IPY_MODEL_c998f6a03c1a47a6acd1ecdb4fc61392",
        "IPY_MODEL_b74607c1b9dd49c1bd4bfc800ee1a73a",
        "IPY_MODEL_37725964251f4711aec673303b326676",
        "IPY_MODEL_505091ca942f47c9a455eaa20ea05d97"
       ],
       "layout": "IPY_MODEL_02c08eab8b5d4593b62090c33f5f426f"
      }
     },
     "cde6fba92a1240fb8a40167d1c13eecb": {
      "model_module": "@jupyter-widgets/base",
      "model_module_version": "2.0.0",
      "model_name": "LayoutModel",
      "state": {}
     },
     "ce1de7ea228c418c9cb0c1041746a0c3": {
      "model_module": "@jupyter-widgets/base",
      "model_module_version": "2.0.0",
      "model_name": "LayoutModel",
      "state": {}
     },
     "ce6468368d9a4317b43fbc82165d5f61": {
      "model_module": "@jupyter-widgets/base",
      "model_module_version": "2.0.0",
      "model_name": "LayoutModel",
      "state": {}
     },
     "ced329d56a9148d7b396cc4c6bb82237": {
      "model_module": "@jupyter-widgets/controls",
      "model_module_version": "2.0.0",
      "model_name": "VBoxModel",
      "state": {
       "children": [
        "IPY_MODEL_04cbca0ed1c541cab6416c9f7ef914c6",
        "IPY_MODEL_08c253fbe2be45c3b8a0adcf0caa142c",
        "IPY_MODEL_448fd78b0aa642918155d7510e87a493"
       ],
       "layout": "IPY_MODEL_8da7c770658f468480186d89221590b2"
      }
     },
     "cef030a05aa14431b2dc9888c6186457": {
      "model_module": "@jupyter-widgets/controls",
      "model_module_version": "2.0.0",
      "model_name": "ButtonModel",
      "state": {
       "description": "Add Column",
       "layout": "IPY_MODEL_98dee292d6a2455485e118a698bd64e0",
       "style": "IPY_MODEL_48d33d5383494ed384fc6f02407af9e3",
       "tooltip": null
      }
     },
     "cef3869035c6489da63d645dac0a99db": {
      "model_module": "@jupyter-widgets/controls",
      "model_module_version": "2.0.0",
      "model_name": "ButtonStyleModel",
      "state": {
       "font_family": null,
       "font_size": null,
       "font_style": null,
       "font_variant": null,
       "font_weight": null,
       "text_color": null,
       "text_decoration": null
      }
     },
     "cf47373566a64b65806deea5a648da98": {
      "model_module": "@jupyter-widgets/controls",
      "model_module_version": "2.0.0",
      "model_name": "ButtonModel",
      "state": {
       "description": "Add Row",
       "layout": "IPY_MODEL_3376885ea10049b5a71a2156339ec2cb",
       "style": "IPY_MODEL_47b8814e74f0418a814d1ab249c7a7e6",
       "tooltip": null
      }
     },
     "cf682c07c35f40568e4371d1844cc3fa": {
      "model_module": "@jupyter-widgets/controls",
      "model_module_version": "2.0.0",
      "model_name": "ButtonModel",
      "state": {
       "description": "Add Row",
       "layout": "IPY_MODEL_c7ae6f67163446e093e393cd57dd371f",
       "style": "IPY_MODEL_244c9c4d87ee46e8af5a6f5e074845f9",
       "tooltip": null
      }
     },
     "cfda206a6d114c7d8703ae110ba9423f": {
      "model_module": "@jupyter-widgets/base",
      "model_module_version": "2.0.0",
      "model_name": "LayoutModel",
      "state": {
       "height": "170px"
      }
     },
     "cff37646c9b744b293906b079939ebb7": {
      "model_module": "ipydatagrid",
      "model_module_version": "^1.2.0",
      "model_name": "VegaExprModel",
      "state": {
       "_model_module_version": "^1.2.0",
       "_view_module": "ipydatagrid",
       "_view_module_version": "^1.2.0",
       "_view_name": "VegaExprView"
      }
     },
     "d003f0da857d49118f4aecd82346d353": {
      "model_module": "@jupyter-widgets/controls",
      "model_module_version": "2.0.0",
      "model_name": "ButtonStyleModel",
      "state": {
       "font_family": null,
       "font_size": null,
       "font_style": null,
       "font_variant": null,
       "font_weight": null,
       "text_color": null,
       "text_decoration": null
      }
     },
     "d005dd89c54a425e9cae3d56f9ac7ef0": {
      "model_module": "ipydatagrid",
      "model_module_version": "^1.2.0",
      "model_name": "TextRendererModel",
      "state": {
       "_model_module_version": "^1.2.0",
       "_view_module_version": "^1.2.0",
       "background_color": "IPY_MODEL_9e0be167a3934750aa7ff5be626a7e03",
       "text_color": "IPY_MODEL_bb70baa34dee40d1b857fe5cb6c323eb"
      }
     },
     "d05be41fa5854e85af160e7eb4c48acb": {
      "model_module": "@jupyter-widgets/base",
      "model_module_version": "2.0.0",
      "model_name": "LayoutModel",
      "state": {}
     },
     "d0ea7adaf69e41feb7c0b8b5ea7c4747": {
      "model_module": "ipydatagrid",
      "model_module_version": "^1.2.0",
      "model_name": "VegaExprModel",
      "state": {
       "_model_module_version": "^1.2.0",
       "_view_module": "ipydatagrid",
       "_view_module_version": "^1.2.0",
       "_view_name": "VegaExprView"
      }
     },
     "d0fff9c0491e4474b56ee0d2d71de280": {
      "model_module": "ipydatagrid",
      "model_module_version": "^1.2.0",
      "model_name": "TextRendererModel",
      "state": {
       "_model_module_version": "^1.2.0",
       "_view_module_version": "^1.2.0",
       "background_color": "IPY_MODEL_ca6bfc2756d1489cbaff088176d07661",
       "text_color": "IPY_MODEL_a6f6b96acb704a3d9f808bf68b9a92b2"
      }
     },
     "d1088d79776c450c8d30fbc15ac11850": {
      "model_module": "@jupyter-widgets/controls",
      "model_module_version": "2.0.0",
      "model_name": "ButtonStyleModel",
      "state": {
       "font_family": null,
       "font_size": null,
       "font_style": null,
       "font_variant": null,
       "font_weight": null,
       "text_color": null,
       "text_decoration": null
      }
     },
     "d1114956369b45f29279ef6b62a89c4f": {
      "model_module": "@jupyter-widgets/controls",
      "model_module_version": "2.0.0",
      "model_name": "ButtonModel",
      "state": {
       "description": "Add Column",
       "layout": "IPY_MODEL_c51d032417bb4e3ab48eb29c5d084191",
       "style": "IPY_MODEL_2471cd16a76e4dd69aff02a576993e71",
       "tooltip": null
      }
     },
     "d1a5c723be624b9993241a3e36c19043": {
      "model_module": "@jupyter-widgets/base",
      "model_module_version": "2.0.0",
      "model_name": "LayoutModel",
      "state": {}
     },
     "d1e268044bf64ba1a474d377cf6d4817": {
      "model_module": "@jupyter-widgets/controls",
      "model_module_version": "2.0.0",
      "model_name": "HBoxModel",
      "state": {
       "children": [
        "IPY_MODEL_a94ff3bc07884b408872c9238d42ce32",
        "IPY_MODEL_dc5821aae51048f99e8b86d613fcb34f",
        "IPY_MODEL_3efdf0eb8a394223bf0be3a9dd02a993",
        "IPY_MODEL_9066fdb205634533917105ad50ac2cae",
        "IPY_MODEL_dfb2e99cb0f0408f9b0506877473c446"
       ],
       "layout": "IPY_MODEL_d1a5c723be624b9993241a3e36c19043"
      }
     },
     "d211afa4c30e4b61bc9e10adc66845cd": {
      "model_module": "@jupyter-widgets/base",
      "model_module_version": "2.0.0",
      "model_name": "LayoutModel",
      "state": {}
     },
     "d2334fb4d13745ea87d64f065cc0de3e": {
      "model_module": "ipydatagrid",
      "model_module_version": "^1.2.0",
      "model_name": "DataGridModel",
      "state": {
       "_data": {
        "data": [
         {
          "0": "x2",
          "1": "m2",
          "2": "x1",
          "3": "m1",
          "4": "ux2",
          "5": "ux1",
          "6": "um1",
          "7": "um2",
          "ipydguuid": 0,
          "key": "  Variable:"
         },
         {
          "0": "m",
          "1": "kg",
          "2": "m",
          "3": "kg",
          "4": "m",
          "5": "m",
          "6": "kg",
          "7": "kg",
          "ipydguuid": 1,
          "key": " Units:"
         },
         {
          "0": "0.045",
          "1": "1.150",
          "2": "0.129",
          "3": "0.078",
          "4": "0.00125",
          "5": "0.0025",
          "6": "0.0002886751345948129",
          "7": "0.00125",
          "ipydguuid": 2,
          "key": 0
         },
         {
          "0": "0.070",
          "1": "0.825",
          "2": "0.129",
          "3": "0.078",
          "4": "0.00125",
          "5": "0.0025",
          "6": "0.0002886751345948129",
          "7": "0.00125",
          "ipydguuid": 3,
          "key": 1
         },
         {
          "0": "0.057",
          "1": "0.903",
          "2": "0.129",
          "3": "0.078",
          "4": "0.00125",
          "5": "0.0025",
          "6": "0.0002886751345948129",
          "7": "0.00125",
          "ipydguuid": 4,
          "key": 2
         }
        ],
        "fields": [
         {
          "key": null
         },
         {
          "0": null
         },
         {
          "1": null
         },
         {
          "2": null
         },
         {
          "3": null
         },
         {
          "4": null
         },
         {
          "5": null
         },
         {
          "6": null
         },
         {
          "7": null
         },
         {
          "ipydguuid": null
         }
        ],
        "schema": {
         "fields": [
          {
           "name": "key",
           "type": "string"
          },
          {
           "name": 0,
           "type": "string"
          },
          {
           "name": 1,
           "type": "string"
          },
          {
           "name": 2,
           "type": "string"
          },
          {
           "name": 3,
           "type": "string"
          },
          {
           "name": 4,
           "type": "string"
          },
          {
           "name": 5,
           "type": "string"
          },
          {
           "name": 6,
           "type": "string"
          },
          {
           "name": 7,
           "type": "string"
          },
          {
           "name": "ipydguuid",
           "type": "integer"
          }
         ],
         "pandas_version": "1.4.0",
         "primaryKey": [
          "key",
          "ipydguuid"
         ],
         "primaryKeyUuid": "ipydguuid"
        }
       },
       "_model_module_version": "^1.2.0",
       "_model_name": "DataGridModel",
       "_view_module_version": "^1.2.0",
       "_visible_rows": [
        0,
        1,
        2,
        3,
        4
       ],
       "auto_fit_columns": false,
       "auto_fit_params": {
        "area": "all",
        "numCols": null,
        "padding": 30
       },
       "base_column_header_size": 20,
       "base_column_size": 64,
       "base_row_header_size": 64,
       "base_row_size": 20,
       "default_renderer": "IPY_MODEL_6e8c3afae87e4bc6a3deb5ef6dd2aa94",
       "editable": true,
       "header_visibility": "all",
       "layout": "IPY_MODEL_bbbe553389b042a9b8f273b59f01b8d4",
       "selection_mode": "cell",
       "selections": [
        {
         "c1": 0,
         "c2": 0,
         "r1": 3,
         "r2": 3
        }
       ]
      }
     },
     "d297c66836f042eb93bd3a86d74808f3": {
      "model_module": "ipydatagrid",
      "model_module_version": "^1.2.0",
      "model_name": "TextRendererModel",
      "state": {
       "_model_module_version": "^1.2.0",
       "_view_module_version": "^1.2.0",
       "background_color": "IPY_MODEL_44bd6a258f254b4595c6a0d595eacbdb",
       "text_color": "IPY_MODEL_e76890f7eaaf42ff877a431c668174a5"
      }
     },
     "d2fe497f80114178b8b7277677a0fa1b": {
      "model_module": "ipydatagrid",
      "model_module_version": "^1.2.0",
      "model_name": "VegaExprModel",
      "state": {
       "_model_module_version": "^1.2.0",
       "_view_module": "ipydatagrid",
       "_view_module_version": "^1.2.0",
       "_view_name": "VegaExprView"
      }
     },
     "d30e000d9c7a4495bd0252295aafac44": {
      "model_module": "@jupyter-widgets/output",
      "model_module_version": "1.0.0",
      "model_name": "OutputModel",
      "state": {
       "layout": "IPY_MODEL_b11eb19cbe894335b99a09bf8c240797"
      }
     },
     "d37ad75722ac42baaa8710351dac7ac4": {
      "model_module": "@jupyter-widgets/base",
      "model_module_version": "2.0.0",
      "model_name": "LayoutModel",
      "state": {
       "height": "150px"
      }
     },
     "d383e4bef7e641c68f37be817b250fbd": {
      "model_module": "@jupyter-widgets/base",
      "model_module_version": "2.0.0",
      "model_name": "LayoutModel",
      "state": {}
     },
     "d3af3f91cffc4796ac0e344c999a26b5": {
      "model_module": "@jupyter-widgets/controls",
      "model_module_version": "2.0.0",
      "model_name": "ButtonStyleModel",
      "state": {
       "font_family": null,
       "font_size": null,
       "font_style": null,
       "font_variant": null,
       "font_weight": null,
       "text_color": null,
       "text_decoration": null
      }
     },
     "d41f9eaf7ef946449a1d72dd404782a5": {
      "model_module": "@jupyter-widgets/output",
      "model_module_version": "1.0.0",
      "model_name": "OutputModel",
      "state": {
       "layout": "IPY_MODEL_d5113e352a6946199ff208471cb655b0"
      }
     },
     "d43f5827f7834d43b3c87a840a929d06": {
      "model_module": "@jupyter-widgets/base",
      "model_module_version": "2.0.0",
      "model_name": "LayoutModel",
      "state": {}
     },
     "d4d7e3e0773b4b838bf3b24275629f36": {
      "model_module": "@jupyter-widgets/controls",
      "model_module_version": "2.0.0",
      "model_name": "ButtonStyleModel",
      "state": {
       "font_family": null,
       "font_size": null,
       "font_style": null,
       "font_variant": null,
       "font_weight": null,
       "text_color": null,
       "text_decoration": null
      }
     },
     "d4e66f5fd0064b60a46e38f64f9802ac": {
      "model_module": "@jupyter-widgets/base",
      "model_module_version": "2.0.0",
      "model_name": "LayoutModel",
      "state": {}
     },
     "d4eaac7bfc46433a9299d2f24b9d567d": {
      "model_module": "@jupyter-widgets/base",
      "model_module_version": "2.0.0",
      "model_name": "LayoutModel",
      "state": {}
     },
     "d4eac61803c642e48abf12cebef4a0e9": {
      "model_module": "@jupyter-widgets/controls",
      "model_module_version": "2.0.0",
      "model_name": "ButtonModel",
      "state": {
       "description": "Redo",
       "layout": "IPY_MODEL_bbc8fb2c124a4e489d605c78149e3b3c",
       "style": "IPY_MODEL_11062d0ba3a2411cad19fe439a703a51",
       "tooltip": null
      }
     },
     "d4ef2d56bb364476a30f8cc1695a69e2": {
      "model_module": "@jupyter-widgets/base",
      "model_module_version": "2.0.0",
      "model_name": "LayoutModel",
      "state": {}
     },
     "d5113e352a6946199ff208471cb655b0": {
      "model_module": "@jupyter-widgets/base",
      "model_module_version": "2.0.0",
      "model_name": "LayoutModel",
      "state": {}
     },
     "d5160f68588540dcb98224b797b66130": {
      "model_module": "@jupyter-widgets/controls",
      "model_module_version": "2.0.0",
      "model_name": "VBoxModel",
      "state": {
       "children": [
        "IPY_MODEL_18a2e033b7474256ad587938b0f30960",
        "IPY_MODEL_38dbe7754d024feb8d156bf302fd22c3",
        "IPY_MODEL_4ad8f341f6d6451e87fb691e36acf5e1"
       ],
       "layout": "IPY_MODEL_fb55d810da2747158777d53ab5cec8d8"
      }
     },
     "d55337b788344d9b91c50a933b76155e": {
      "model_module": "@jupyter-widgets/controls",
      "model_module_version": "2.0.0",
      "model_name": "ButtonModel",
      "state": {
       "description": "Redo",
       "layout": "IPY_MODEL_00b2735f719c475db6bb055ae0d1f819",
       "style": "IPY_MODEL_7bd111d7c71a4ad5a26e4dc894849c61",
       "tooltip": null
      }
     },
     "d57a122f300e403e8c6b5e3271c0d6f6": {
      "model_module": "@jupyter-widgets/output",
      "model_module_version": "1.0.0",
      "model_name": "OutputModel",
      "state": {
       "layout": "IPY_MODEL_4ac7f490904a49c595169a6f746d9dc2"
      }
     },
     "d58d977c901646589212de577ae7993f": {
      "model_module": "@jupyter-widgets/base",
      "model_module_version": "2.0.0",
      "model_name": "LayoutModel",
      "state": {
       "height": "150px"
      }
     },
     "d5d419d40ec94a568e24400fc2830b39": {
      "model_module": "@jupyter-widgets/controls",
      "model_module_version": "2.0.0",
      "model_name": "ButtonStyleModel",
      "state": {
       "font_family": null,
       "font_size": null,
       "font_style": null,
       "font_variant": null,
       "font_weight": null,
       "text_color": null,
       "text_decoration": null
      }
     },
     "d5f0207f540b466eb7d2fa67334fa820": {
      "model_module": "ipydatagrid",
      "model_module_version": "^1.2.0",
      "model_name": "TextRendererModel",
      "state": {
       "_model_module_version": "^1.2.0",
       "_view_module_version": "^1.2.0",
       "background_color": "IPY_MODEL_a7ba6e980b8441d7880992b16b15e182",
       "text_color": "IPY_MODEL_a14a151da96b476cb99efc4e60a37299"
      }
     },
     "d60c11a1e1ad4fba827230234e628dc0": {
      "model_module": "ipydatagrid",
      "model_module_version": "^1.2.0",
      "model_name": "VegaExprModel",
      "state": {
       "_model_module_version": "^1.2.0",
       "_view_module": "ipydatagrid",
       "_view_module_version": "^1.2.0",
       "_view_name": "VegaExprView"
      }
     },
     "d682789240b34590b50983fae15679c8": {
      "model_module": "@jupyter-widgets/controls",
      "model_module_version": "2.0.0",
      "model_name": "ButtonStyleModel",
      "state": {
       "font_family": null,
       "font_size": null,
       "font_style": null,
       "font_variant": null,
       "font_weight": null,
       "text_color": null,
       "text_decoration": null
      }
     },
     "d68aea1f80f7476ab81dc123edbefb36": {
      "model_module": "@jupyter-widgets/base",
      "model_module_version": "2.0.0",
      "model_name": "LayoutModel",
      "state": {}
     },
     "d6a030ee635342419f4b3aa99eb75f7c": {
      "model_module": "@jupyter-widgets/base",
      "model_module_version": "2.0.0",
      "model_name": "LayoutModel",
      "state": {}
     },
     "d6f1a09a97274e6a90e073851c33711b": {
      "model_module": "@jupyter-widgets/base",
      "model_module_version": "2.0.0",
      "model_name": "LayoutModel",
      "state": {}
     },
     "d6fd9005d7bc4e4588a21fa13164c6c2": {
      "model_module": "@jupyter-widgets/controls",
      "model_module_version": "2.0.0",
      "model_name": "ButtonModel",
      "state": {
       "description": "Redo",
       "layout": "IPY_MODEL_7984809ce1aa4f04aff22497dcaa5c27",
       "style": "IPY_MODEL_96cde6f4cb284c22a4df167067393de5",
       "tooltip": null
      }
     },
     "d738073ae808457890ef4d1fb375d838": {
      "model_module": "@jupyter-widgets/controls",
      "model_module_version": "2.0.0",
      "model_name": "ButtonModel",
      "state": {
       "description": "Undo",
       "layout": "IPY_MODEL_5254ff3230dc4741b75bde5ae2f57813",
       "style": "IPY_MODEL_f63185ef4fe14e10a4371b46cd61f356",
       "tooltip": null
      }
     },
     "d758e269104048afb20a4429dec5d9f9": {
      "model_module": "@jupyter-widgets/controls",
      "model_module_version": "2.0.0",
      "model_name": "HBoxModel",
      "state": {
       "children": [
        "IPY_MODEL_3cd676bdef374d82a66b2b35cb55ee34",
        "IPY_MODEL_4e2e8e1876c54e0ca9fb851fa63caf8b",
        "IPY_MODEL_2006f0b2670e463b94d1a4c1e9563793",
        "IPY_MODEL_2431673b0ca447079c66d693dc26713c",
        "IPY_MODEL_703b932d57be496887787937abad8c61"
       ],
       "layout": "IPY_MODEL_777efed45122493784ff6f3e46f010a8"
      }
     },
     "d788d346bffc44f09964ec230a70981a": {
      "model_module": "ipydatagrid",
      "model_module_version": "^1.2.0",
      "model_name": "TextRendererModel",
      "state": {
       "_model_module_version": "^1.2.0",
       "_view_module_version": "^1.2.0",
       "background_color": "IPY_MODEL_f1b01fa6be8640f8946ddd62bcf50c1c",
       "text_color": "IPY_MODEL_6681c4c1c3cd4167bef24ca3ee94fe12"
      }
     },
     "d78a44997bcf43ecbdd93cb63988a32c": {
      "model_module": "@jupyter-widgets/base",
      "model_module_version": "2.0.0",
      "model_name": "LayoutModel",
      "state": {}
     },
     "d79c7603d517472184fe699e4518571b": {
      "model_module": "@jupyter-widgets/base",
      "model_module_version": "2.0.0",
      "model_name": "LayoutModel",
      "state": {}
     },
     "d80f99805ad54f578f099ecdc5c17c24": {
      "model_module": "@jupyter-widgets/base",
      "model_module_version": "2.0.0",
      "model_name": "LayoutModel",
      "state": {}
     },
     "d81f5a914f9447a48a1d0266f6823ffe": {
      "model_module": "@jupyter-widgets/controls",
      "model_module_version": "2.0.0",
      "model_name": "ButtonStyleModel",
      "state": {
       "font_family": null,
       "font_size": null,
       "font_style": null,
       "font_variant": null,
       "font_weight": null,
       "text_color": null,
       "text_decoration": null
      }
     },
     "d84a467f515a4e30a6f99ad565eb2605": {
      "model_module": "@jupyter-widgets/base",
      "model_module_version": "2.0.0",
      "model_name": "LayoutModel",
      "state": {}
     },
     "d852bd4698d5458a9a2d399327037032": {
      "model_module": "ipydatagrid",
      "model_module_version": "^1.2.0",
      "model_name": "VegaExprModel",
      "state": {
       "_model_module_version": "^1.2.0",
       "_view_module": "ipydatagrid",
       "_view_module_version": "^1.2.0",
       "_view_name": "VegaExprView"
      }
     },
     "d89c450dfc044750817df2451d8c736f": {
      "model_module": "@jupyter-widgets/output",
      "model_module_version": "1.0.0",
      "model_name": "OutputModel",
      "state": {
       "layout": "IPY_MODEL_3031f50630bf42428b8c414fadc5bcd3"
      }
     },
     "d8a5d159cb3a4f45aeedb762320f5eda": {
      "model_module": "@jupyter-widgets/controls",
      "model_module_version": "2.0.0",
      "model_name": "ButtonModel",
      "state": {
       "description": "Undo",
       "layout": "IPY_MODEL_82262b06d81d4c5ca9a6580797453feb",
       "style": "IPY_MODEL_49d1203b77194b158be8e17292aa8aa8",
       "tooltip": null
      }
     },
     "d8aa747b08d246febc3ccdebb011597b": {
      "model_module": "@jupyter-widgets/controls",
      "model_module_version": "2.0.0",
      "model_name": "ButtonStyleModel",
      "state": {
       "font_family": null,
       "font_size": null,
       "font_style": null,
       "font_variant": null,
       "font_weight": null,
       "text_color": null,
       "text_decoration": null
      }
     },
     "d94b6d623ab94b3591474317d8952f41": {
      "model_module": "@jupyter-widgets/controls",
      "model_module_version": "2.0.0",
      "model_name": "ButtonStyleModel",
      "state": {
       "font_family": null,
       "font_size": null,
       "font_style": null,
       "font_variant": null,
       "font_weight": null,
       "text_color": null,
       "text_decoration": null
      }
     },
     "d96f54e020a64859bbf8c1a983dc3ecf": {
      "model_module": "@jupyter-widgets/base",
      "model_module_version": "2.0.0",
      "model_name": "LayoutModel",
      "state": {}
     },
     "da663d0a484e491e911d9c042324e459": {
      "model_module": "@jupyter-widgets/controls",
      "model_module_version": "2.0.0",
      "model_name": "ButtonStyleModel",
      "state": {
       "font_family": null,
       "font_size": null,
       "font_style": null,
       "font_variant": null,
       "font_weight": null,
       "text_color": null,
       "text_decoration": null
      }
     },
     "da952dff5f8f4bb4b1a3c5a417cbb464": {
      "model_module": "@jupyter-widgets/base",
      "model_module_version": "2.0.0",
      "model_name": "LayoutModel",
      "state": {}
     },
     "dae91a03117146f1b2b34fc8d41a5dca": {
      "model_module": "@jupyter-widgets/base",
      "model_module_version": "2.0.0",
      "model_name": "LayoutModel",
      "state": {}
     },
     "daed38c4b261442782b69bcf67604891": {
      "model_module": "@jupyter-widgets/controls",
      "model_module_version": "2.0.0",
      "model_name": "ButtonModel",
      "state": {
       "description": "Add Row",
       "layout": "IPY_MODEL_e6f2cff7efc44476aa190f09347e0fd4",
       "style": "IPY_MODEL_6a12cead61c34f20b10f64bcbac6a7e6",
       "tooltip": null
      }
     },
     "db09a7d236bc4b65856ce4806d5ca69e": {
      "model_module": "@jupyter-widgets/controls",
      "model_module_version": "2.0.0",
      "model_name": "ButtonModel",
      "state": {
       "description": "Redo",
       "layout": "IPY_MODEL_f6cbbc8d12bb4e3d8e4611926be0a671",
       "style": "IPY_MODEL_e99757e8d81547c9b16aad5564e4086a",
       "tooltip": null
      }
     },
     "db91a1ca5eda4f9abe887901d1009fe5": {
      "model_module": "@jupyter-widgets/base",
      "model_module_version": "2.0.0",
      "model_name": "LayoutModel",
      "state": {}
     },
     "dbb6e4ac963d46c2b5818f4a2274b0d7": {
      "model_module": "@jupyter-widgets/controls",
      "model_module_version": "2.0.0",
      "model_name": "ButtonStyleModel",
      "state": {
       "font_family": null,
       "font_size": null,
       "font_style": null,
       "font_variant": null,
       "font_weight": null,
       "text_color": null,
       "text_decoration": null
      }
     },
     "dbc33d810b124f5abe9cbfa5d97fde77": {
      "model_module": "@jupyter-widgets/controls",
      "model_module_version": "2.0.0",
      "model_name": "ButtonModel",
      "state": {
       "description": "Add Row",
       "layout": "IPY_MODEL_a91f2b07de5c43b499ed77f5db89c72f",
       "style": "IPY_MODEL_3ba25c6a7dd14b9783838168caba4318",
       "tooltip": null
      }
     },
     "dc5821aae51048f99e8b86d613fcb34f": {
      "model_module": "@jupyter-widgets/controls",
      "model_module_version": "2.0.0",
      "model_name": "ButtonModel",
      "state": {
       "description": "Redo",
       "layout": "IPY_MODEL_3c8bfd2abd664016ae4c53d21a0a6301",
       "style": "IPY_MODEL_8f2edc38138642d885876f4c3ee7656b",
       "tooltip": null
      }
     },
     "dd4a1ca788ca46fcaf0db32fcd425cf7": {
      "model_module": "ipydatagrid",
      "model_module_version": "^1.2.0",
      "model_name": "DataGridModel",
      "state": {
       "_data": {
        "data": [
         {
          "0": "x2",
          "1": "m2",
          "2": "x1",
          "3": "m1",
          "ipydguuid": 0,
          "key": "  Variable:"
         },
         {
          "0": "m",
          "1": "kg",
          "2": "m",
          "3": "kg",
          "ipydguuid": 1,
          "key": " Units:"
         },
         {
          "0": "0.058",
          "1": "0.898",
          "2": "0.129",
          "3": "0.078",
          "ipydguuid": 2,
          "key": 0
         },
         {
          "0": "0.057",
          "1": "0.902",
          "2": "0.129",
          "3": "0.078",
          "ipydguuid": 3,
          "key": 1
         },
         {
          "0": "0.057",
          "1": "0.903",
          "2": "0.129",
          "3": "0.078",
          "ipydguuid": 4,
          "key": 2
         }
        ],
        "fields": [
         {
          "key": null
         },
         {
          "0": null
         },
         {
          "1": null
         },
         {
          "2": null
         },
         {
          "3": null
         },
         {
          "ipydguuid": null
         }
        ],
        "schema": {
         "fields": [
          {
           "name": "key",
           "type": "string"
          },
          {
           "name": 0,
           "type": "string"
          },
          {
           "name": 1,
           "type": "string"
          },
          {
           "name": 2,
           "type": "string"
          },
          {
           "name": 3,
           "type": "string"
          },
          {
           "name": "ipydguuid",
           "type": "integer"
          }
         ],
         "pandas_version": "1.4.0",
         "primaryKey": [
          "key",
          "ipydguuid"
         ],
         "primaryKeyUuid": "ipydguuid"
        }
       },
       "_model_module_version": "^1.2.0",
       "_model_name": "DataGridModel",
       "_view_module_version": "^1.2.0",
       "auto_fit_columns": false,
       "auto_fit_params": {
        "area": "all",
        "numCols": null,
        "padding": 30
       },
       "base_column_header_size": 20,
       "base_column_size": 64,
       "base_row_header_size": 64,
       "base_row_size": 20,
       "default_renderer": "IPY_MODEL_dd8f55d7168e4181b287c8449b40c5cd",
       "editable": true,
       "header_visibility": "all",
       "layout": "IPY_MODEL_8e7c0cad7d66441d89d15594523b3ae1",
       "selection_mode": "cell"
      }
     },
     "dd8f55d7168e4181b287c8449b40c5cd": {
      "model_module": "ipydatagrid",
      "model_module_version": "^1.2.0",
      "model_name": "TextRendererModel",
      "state": {
       "_model_module_version": "^1.2.0",
       "_view_module_version": "^1.2.0",
       "background_color": "IPY_MODEL_ddaf5e8c350f4b46bcfa712483084d85",
       "text_color": "IPY_MODEL_9da9bec74079436aa26e7407674c7719"
      }
     },
     "ddaf5e8c350f4b46bcfa712483084d85": {
      "model_module": "ipydatagrid",
      "model_module_version": "^1.2.0",
      "model_name": "VegaExprModel",
      "state": {
       "_model_module_version": "^1.2.0",
       "_view_module": "ipydatagrid",
       "_view_module_version": "^1.2.0",
       "_view_name": "VegaExprView"
      }
     },
     "ddc8184873d94e55b1ceb4bbb627ae2d": {
      "model_module": "@jupyter-widgets/controls",
      "model_module_version": "2.0.0",
      "model_name": "ButtonStyleModel",
      "state": {
       "font_family": null,
       "font_size": null,
       "font_style": null,
       "font_variant": null,
       "font_weight": null,
       "text_color": null,
       "text_decoration": null
      }
     },
     "ddee3f671f504a888107239ca4495bbf": {
      "model_module": "@jupyter-widgets/controls",
      "model_module_version": "2.0.0",
      "model_name": "ButtonStyleModel",
      "state": {
       "font_family": null,
       "font_size": null,
       "font_style": null,
       "font_variant": null,
       "font_weight": null,
       "text_color": null,
       "text_decoration": null
      }
     },
     "defe9eb3564f42ca8afeaeef73d26c96": {
      "model_module": "@jupyter-widgets/base",
      "model_module_version": "2.0.0",
      "model_name": "LayoutModel",
      "state": {}
     },
     "df6a76cb02d14c91a1c3400ed76b62b5": {
      "model_module": "@jupyter-widgets/base",
      "model_module_version": "2.0.0",
      "model_name": "LayoutModel",
      "state": {}
     },
     "df96b7c110ed4e7dba6268d16e61eeaf": {
      "model_module": "@jupyter-widgets/controls",
      "model_module_version": "2.0.0",
      "model_name": "ButtonModel",
      "state": {
       "description": "Generate Vectors",
       "layout": "IPY_MODEL_a148a12091a348f89e25932ef63b17dd",
       "style": "IPY_MODEL_30581ad7f5c349598f92181c8278ec37",
       "tooltip": null
      }
     },
     "dfb2e99cb0f0408f9b0506877473c446": {
      "model_module": "@jupyter-widgets/controls",
      "model_module_version": "2.0.0",
      "model_name": "ButtonModel",
      "state": {
       "description": "Generate Vectors",
       "layout": "IPY_MODEL_20f56aa3cc034b09b38642a1f649e431",
       "style": "IPY_MODEL_414f6695790d4f39af8a7cf36ac5457c",
       "tooltip": null
      }
     },
     "e03c868849a3474b95c482f753d2e41e": {
      "model_module": "@jupyter-widgets/base",
      "model_module_version": "2.0.0",
      "model_name": "LayoutModel",
      "state": {}
     },
     "e06953690b6b4922b4c6290656357c21": {
      "model_module": "@jupyter-widgets/base",
      "model_module_version": "2.0.0",
      "model_name": "LayoutModel",
      "state": {
       "height": "150px"
      }
     },
     "e06d561ba009441db7835293abcd56d4": {
      "model_module": "@jupyter-widgets/output",
      "model_module_version": "1.0.0",
      "model_name": "OutputModel",
      "state": {
       "layout": "IPY_MODEL_c7e682ad1823491fb10ee89f46e23efb"
      }
     },
     "e06d80ded09d4dc694a7d9374fd34ec8": {
      "model_module": "ipydatagrid",
      "model_module_version": "^1.2.0",
      "model_name": "VegaExprModel",
      "state": {
       "_model_module_version": "^1.2.0",
       "_view_module": "ipydatagrid",
       "_view_module_version": "^1.2.0",
       "_view_name": "VegaExprView"
      }
     },
     "e12a7dd0c73a4c72b15822a17312b044": {
      "model_module": "@jupyter-widgets/base",
      "model_module_version": "2.0.0",
      "model_name": "LayoutModel",
      "state": {}
     },
     "e14e6332c8424d96ab39a057edfc35e4": {
      "model_module": "ipydatagrid",
      "model_module_version": "^1.2.0",
      "model_name": "VegaExprModel",
      "state": {
       "_model_module_version": "^1.2.0",
       "_view_module": "ipydatagrid",
       "_view_module_version": "^1.2.0",
       "_view_name": "VegaExprView"
      }
     },
     "e19804232c6a47c4baa9be50fd317c54": {
      "model_module": "@jupyter-widgets/controls",
      "model_module_version": "2.0.0",
      "model_name": "ButtonModel",
      "state": {
       "description": "Redo",
       "layout": "IPY_MODEL_b972ba5dadf246e4959e5c52948995e5",
       "style": "IPY_MODEL_1bff21bd80a34444a7ea3c6ee8fa3a2b",
       "tooltip": null
      }
     },
     "e1daffee06c14e20b383fba1009ea661": {
      "model_module": "ipydatagrid",
      "model_module_version": "^1.2.0",
      "model_name": "VegaExprModel",
      "state": {
       "_model_module_version": "^1.2.0",
       "_view_module": "ipydatagrid",
       "_view_module_version": "^1.2.0",
       "_view_name": "VegaExprView"
      }
     },
     "e1f9d472525342389bb77b1bc844d8ec": {
      "model_module": "ipydatagrid",
      "model_module_version": "^1.2.0",
      "model_name": "DataGridModel",
      "state": {
       "_data": {
        "data": [
         {
          "0": "x2",
          "1": "m2",
          "2": "x1",
          "3": "m1",
          "4": "ux2",
          "5": "ux1",
          "6": "um1",
          "7": "um2",
          "ipydguuid": 0,
          "key": "  Variable:"
         },
         {
          "0": "m",
          "1": "kg",
          "2": "m",
          "3": "kg",
          "4": "m",
          "5": "m",
          "6": "kg",
          "7": "kg",
          "ipydguuid": 1,
          "key": " Units:"
         },
         {
          "0": "0.045",
          "1": "1.150",
          "2": "0.129",
          "3": "0.078",
          "4": "0.000625",
          "5": "0.00125",
          "6": "0.00028867513459481290.0002886751345948129",
          "7": "0.000625",
          "ipydguuid": 2,
          "key": 0
         },
         {
          "0": "0.040",
          "1": "1.189",
          "2": "0.129",
          "3": "0.078",
          "4": "0.000625",
          "5": "0.00125",
          "6": "0.00028867513459481290.0002886751345948129",
          "7": "0.000625",
          "ipydguuid": 3,
          "key": 1
         },
         {
          "0": "0.061",
          "1": "0.979",
          "2": "0.129",
          "3": "0.078",
          "4": "0.000625",
          "5": "0.00125",
          "6": "0.0002886751345948129",
          "7": "0.000625",
          "ipydguuid": 4,
          "key": 2
         }
        ],
        "fields": [
         {
          "key": null
         },
         {
          "0": null
         },
         {
          "1": null
         },
         {
          "2": null
         },
         {
          "3": null
         },
         {
          "4": null
         },
         {
          "5": null
         },
         {
          "6": null
         },
         {
          "7": null
         },
         {
          "ipydguuid": null
         }
        ],
        "schema": {
         "fields": [
          {
           "name": "key",
           "type": "string"
          },
          {
           "name": 0,
           "type": "string"
          },
          {
           "name": 1,
           "type": "string"
          },
          {
           "name": 2,
           "type": "string"
          },
          {
           "name": 3,
           "type": "string"
          },
          {
           "name": 4,
           "type": "string"
          },
          {
           "name": 5,
           "type": "string"
          },
          {
           "name": 6,
           "type": "string"
          },
          {
           "name": 7,
           "type": "string"
          },
          {
           "name": "ipydguuid",
           "type": "integer"
          }
         ],
         "pandas_version": "1.4.0",
         "primaryKey": [
          "key",
          "ipydguuid"
         ],
         "primaryKeyUuid": "ipydguuid"
        }
       },
       "_model_module_version": "^1.2.0",
       "_model_name": "DataGridModel",
       "_view_module_version": "^1.2.0",
       "_visible_rows": [
        0,
        1,
        2,
        3,
        4
       ],
       "auto_fit_columns": false,
       "auto_fit_params": {
        "area": "all",
        "numCols": null,
        "padding": 30
       },
       "base_column_header_size": 20,
       "base_column_size": 64,
       "base_row_header_size": 64,
       "base_row_size": 20,
       "default_renderer": "IPY_MODEL_9ab5814da0bb4553b5ffa68d14b55a7e",
       "editable": true,
       "header_visibility": "all",
       "layout": "IPY_MODEL_75c4161f36ac4c2683fd4523321333b5",
       "selection_mode": "cell",
       "selections": [
        {
         "c1": 6,
         "c2": 6,
         "r1": 3,
         "r2": 3
        }
       ]
      }
     },
     "e21b1ce77f9e4fbe990c59d1ab81a669": {
      "model_module": "@jupyter-widgets/controls",
      "model_module_version": "2.0.0",
      "model_name": "VBoxModel",
      "state": {
       "children": [
        "IPY_MODEL_cc743730879e4c0baef3bf4d1211f7f1",
        "IPY_MODEL_22e76e9ff02c4d45a6f5bc9c8ef1ab17",
        "IPY_MODEL_965f510f4d034e8e8250b1d239246164"
       ],
       "layout": "IPY_MODEL_4732ba4d91f743fb89ffaee7d57f4b96"
      }
     },
     "e2670693af3a4b5ab7ba938616c4c27d": {
      "model_module": "@jupyter-widgets/controls",
      "model_module_version": "2.0.0",
      "model_name": "ButtonModel",
      "state": {
       "description": "Add Row",
       "layout": "IPY_MODEL_b07d7a1f392c47d8b3b141dea6eb5524",
       "style": "IPY_MODEL_1b7ae220c9b44185ad5bb7fb13cad3f2",
       "tooltip": null
      }
     },
     "e27a1c3bef8d45f5aa3625e3c88f00c3": {
      "model_module": "@jupyter-widgets/base",
      "model_module_version": "2.0.0",
      "model_name": "LayoutModel",
      "state": {}
     },
     "e2dbb796981f46ee977985f54a09d804": {
      "model_module": "ipydatagrid",
      "model_module_version": "^1.2.0",
      "model_name": "VegaExprModel",
      "state": {
       "_model_module_version": "^1.2.0",
       "_view_module": "ipydatagrid",
       "_view_module_version": "^1.2.0",
       "_view_name": "VegaExprView"
      }
     },
     "e2fe376a02da4efc9e6ab24c80e472ed": {
      "model_module": "ipydatagrid",
      "model_module_version": "^1.2.0",
      "model_name": "VegaExprModel",
      "state": {
       "_model_module_version": "^1.2.0",
       "_view_module": "ipydatagrid",
       "_view_module_version": "^1.2.0",
       "_view_name": "VegaExprView"
      }
     },
     "e3c35c50e0104f34804e84977f702305": {
      "model_module": "ipydatagrid",
      "model_module_version": "^1.2.0",
      "model_name": "TextRendererModel",
      "state": {
       "_model_module_version": "^1.2.0",
       "_view_module_version": "^1.2.0",
       "background_color": "IPY_MODEL_4890993a13ba404db4511de49b82024e",
       "text_color": "IPY_MODEL_d0ea7adaf69e41feb7c0b8b5ea7c4747"
      }
     },
     "e3f244f7e84d4698912129cfaf8be38f": {
      "model_module": "ipydatagrid",
      "model_module_version": "^1.2.0",
      "model_name": "TextRendererModel",
      "state": {
       "_model_module_version": "^1.2.0",
       "_view_module_version": "^1.2.0",
       "background_color": "IPY_MODEL_ec86c8eb51d448d09d6d5ca793a0ec04",
       "text_color": "IPY_MODEL_5491f89f1a1a4ab9b9c78c4617f21f96"
      }
     },
     "e3f90f125a784bfba5c1f9fce4f66893": {
      "model_module": "ipydatagrid",
      "model_module_version": "^1.2.0",
      "model_name": "TextRendererModel",
      "state": {
       "_model_module_version": "^1.2.0",
       "_view_module_version": "^1.2.0",
       "background_color": "IPY_MODEL_e14e6332c8424d96ab39a057edfc35e4",
       "text_color": "IPY_MODEL_9e4e0340ad5146fe9f271f3bc71b9754"
      }
     },
     "e42d16bd9b604f6785fd4dafa2c43dd2": {
      "model_module": "@jupyter-widgets/controls",
      "model_module_version": "2.0.0",
      "model_name": "ButtonModel",
      "state": {
       "description": "Redo",
       "layout": "IPY_MODEL_9b9e4a6d98a040008dd8538ce2170543",
       "style": "IPY_MODEL_cb8398a620a1405abb0eafc869b02e4e",
       "tooltip": null
      }
     },
     "e44c46be16174a1fae91d244843ea1ac": {
      "model_module": "ipydatagrid",
      "model_module_version": "^1.2.0",
      "model_name": "DataGridModel",
      "state": {
       "_data": {
        "data": [
         {
          "0": "x2",
          "1": "m2",
          "2": "x1",
          "3": "m1",
          "4": "ux2",
          "5": "ux1",
          "6": "um1",
          "7": "um2",
          "ipydguuid": 0,
          "key": "  Variable:"
         },
         {
          "0": "m",
          "1": "kg",
          "2": "m",
          "3": "kg",
          "4": "m",
          "5": "m",
          "6": "kg",
          "7": "kg",
          "ipydguuid": 1,
          "key": " Units:"
         },
         {
          "0": "0.045",
          "1": "1.150",
          "2": "0.129",
          "3": "0.078",
          "4": "0.00125",
          "5": "0.0025",
          "6": "0.0002886751345948129",
          "7": "0.00125",
          "ipydguuid": 2,
          "key": 0
         },
         {
          "0": "0.040",
          "1": "1.189",
          "2": "0.129",
          "3": "0.078",
          "4": "0.00125",
          "5": "0.0025",
          "6": "0.0002886751345948129",
          "7": "0.00125",
          "ipydguuid": 3,
          "key": 1
         },
         {
          "0": "0.061",
          "1": "0.979",
          "2": "0.129",
          "3": "0.078",
          "4": "0.00125",
          "5": "0.0025",
          "6": "0.0002886751345948129",
          "7": "0.00125",
          "ipydguuid": 4,
          "key": 2
         }
        ],
        "fields": [
         {
          "key": null
         },
         {
          "0": null
         },
         {
          "1": null
         },
         {
          "2": null
         },
         {
          "3": null
         },
         {
          "4": null
         },
         {
          "5": null
         },
         {
          "6": null
         },
         {
          "7": null
         },
         {
          "ipydguuid": null
         }
        ],
        "schema": {
         "fields": [
          {
           "name": "key",
           "type": "string"
          },
          {
           "name": 0,
           "type": "string"
          },
          {
           "name": 1,
           "type": "string"
          },
          {
           "name": 2,
           "type": "string"
          },
          {
           "name": 3,
           "type": "string"
          },
          {
           "name": 4,
           "type": "string"
          },
          {
           "name": 5,
           "type": "string"
          },
          {
           "name": 6,
           "type": "string"
          },
          {
           "name": 7,
           "type": "string"
          },
          {
           "name": "ipydguuid",
           "type": "integer"
          }
         ],
         "pandas_version": "1.4.0",
         "primaryKey": [
          "key",
          "ipydguuid"
         ],
         "primaryKeyUuid": "ipydguuid"
        }
       },
       "_model_module_version": "^1.2.0",
       "_model_name": "DataGridModel",
       "_view_module_version": "^1.2.0",
       "auto_fit_columns": false,
       "auto_fit_params": {
        "area": "all",
        "numCols": null,
        "padding": 30
       },
       "base_column_header_size": 20,
       "base_column_size": 64,
       "base_row_header_size": 64,
       "base_row_size": 20,
       "default_renderer": "IPY_MODEL_5f0cef7cee9e409d95dd00f9081175d9",
       "editable": true,
       "header_visibility": "all",
       "layout": "IPY_MODEL_611136432fbe4774a2bdb212a554e0cb",
       "selection_mode": "cell"
      }
     },
     "e452fe468cfc462b816d999b43e1c3fa": {
      "model_module": "@jupyter-widgets/base",
      "model_module_version": "2.0.0",
      "model_name": "LayoutModel",
      "state": {}
     },
     "e49eeb7f705f4889ac94a8896ef40869": {
      "model_module": "@jupyter-widgets/base",
      "model_module_version": "2.0.0",
      "model_name": "LayoutModel",
      "state": {}
     },
     "e4b7842b06f144989ad2eafb8dafd9c5": {
      "model_module": "@jupyter-widgets/base",
      "model_module_version": "2.0.0",
      "model_name": "LayoutModel",
      "state": {}
     },
     "e4f082df322847c2921e2bc73e098557": {
      "model_module": "@jupyter-widgets/base",
      "model_module_version": "2.0.0",
      "model_name": "LayoutModel",
      "state": {}
     },
     "e5578fe8197a48aa92dfb2449f08bb69": {
      "model_module": "@jupyter-widgets/base",
      "model_module_version": "2.0.0",
      "model_name": "LayoutModel",
      "state": {}
     },
     "e5786052e933411e9e1ce5f36a9c088f": {
      "model_module": "@jupyter-widgets/base",
      "model_module_version": "2.0.0",
      "model_name": "LayoutModel",
      "state": {
       "height": "150px"
      }
     },
     "e59b23c8b2454e73b7b6150e3cfd9046": {
      "model_module": "@jupyter-widgets/base",
      "model_module_version": "2.0.0",
      "model_name": "LayoutModel",
      "state": {}
     },
     "e6944ce9df374962a70139c9cc8baf7a": {
      "model_module": "@jupyter-widgets/base",
      "model_module_version": "2.0.0",
      "model_name": "LayoutModel",
      "state": {
       "height": "150px"
      }
     },
     "e6f2cff7efc44476aa190f09347e0fd4": {
      "model_module": "@jupyter-widgets/base",
      "model_module_version": "2.0.0",
      "model_name": "LayoutModel",
      "state": {}
     },
     "e707e61ea923410aa179d22f43ede66d": {
      "model_module": "@jupyter-widgets/controls",
      "model_module_version": "2.0.0",
      "model_name": "HBoxModel",
      "state": {
       "children": [
        "IPY_MODEL_461cbe196793453fbd6834431cda9c30",
        "IPY_MODEL_142a677b0b2f481a800f4ec1a3c45281",
        "IPY_MODEL_cf47373566a64b65806deea5a648da98",
        "IPY_MODEL_b5450a5b70d74c2192a0bfb5111592e6",
        "IPY_MODEL_fd7a2907499745b68d06761be5a20dd5"
       ],
       "layout": "IPY_MODEL_625ee7d8505e4b948afaf1aefc610ed8"
      }
     },
     "e7112aa9f94b4d78a085d92069c417fb": {
      "model_module": "@jupyter-widgets/base",
      "model_module_version": "2.0.0",
      "model_name": "LayoutModel",
      "state": {}
     },
     "e75fbee3b5cd44abb92d98b565ac4974": {
      "model_module": "ipydatagrid",
      "model_module_version": "^1.2.0",
      "model_name": "VegaExprModel",
      "state": {
       "_model_module_version": "^1.2.0",
       "_view_module": "ipydatagrid",
       "_view_module_version": "^1.2.0",
       "_view_name": "VegaExprView"
      }
     },
     "e76890f7eaaf42ff877a431c668174a5": {
      "model_module": "ipydatagrid",
      "model_module_version": "^1.2.0",
      "model_name": "VegaExprModel",
      "state": {
       "_model_module_version": "^1.2.0",
       "_view_module": "ipydatagrid",
       "_view_module_version": "^1.2.0",
       "_view_name": "VegaExprView"
      }
     },
     "e795b599e8a74a4cbdd9a641537eb89e": {
      "model_module": "@jupyter-widgets/base",
      "model_module_version": "2.0.0",
      "model_name": "LayoutModel",
      "state": {
       "height": "150px"
      }
     },
     "e7f8a09c53074fcfbefb75b454923700": {
      "model_module": "@jupyter-widgets/controls",
      "model_module_version": "2.0.0",
      "model_name": "ButtonModel",
      "state": {
       "description": "Undo",
       "layout": "IPY_MODEL_583f2931b30d458dac44b814ee81b662",
       "style": "IPY_MODEL_549e553194b146daacc28ae737656637",
       "tooltip": null
      }
     },
     "e81ef582bcb64823b44a1568dc375f7e": {
      "model_module": "ipydatagrid",
      "model_module_version": "^1.2.0",
      "model_name": "DataGridModel",
      "state": {
       "_data": {
        "data": [
         {
          "0": "x2",
          "1": "m2",
          "2": "x1",
          "3": "m1",
          "4": "ux2",
          "5": "ux1",
          "6": "um1",
          "7": "um2",
          "ipydguuid": 0,
          "key": "  Variable:"
         },
         {
          "0": "m",
          "1": "kg",
          "2": "m",
          "3": "kg",
          "4": "m",
          "5": "m",
          "6": "kg",
          "7": "kg",
          "ipydguuid": 1,
          "key": " Units:"
         },
         {
          "0": "0.058",
          "1": "0.898",
          "2": "0.129",
          "3": "0.078",
          "4": "0.00125",
          "5": "0.0025",
          "6": "0.0002886751345948129",
          "7": "0.00125",
          "ipydguuid": 2,
          "key": 0
         },
         {
          "0": "0.057",
          "1": "0.902",
          "2": "0.129",
          "3": "0.078",
          "4": "0.00125",
          "5": "0.0025",
          "6": "0.0002886751345948129",
          "7": "0.00125",
          "ipydguuid": 3,
          "key": 1
         },
         {
          "0": "0.057",
          "1": "0.903",
          "2": "0.129",
          "3": "0.078",
          "4": "0.00125",
          "5": "0.0025",
          "6": "0.0002886751345948129",
          "7": "0.00125",
          "ipydguuid": 4,
          "key": 2
         }
        ],
        "fields": [
         {
          "key": null
         },
         {
          "0": null
         },
         {
          "1": null
         },
         {
          "2": null
         },
         {
          "3": null
         },
         {
          "4": null
         },
         {
          "5": null
         },
         {
          "6": null
         },
         {
          "7": null
         },
         {
          "ipydguuid": null
         }
        ],
        "schema": {
         "fields": [
          {
           "name": "key",
           "type": "string"
          },
          {
           "name": 0,
           "type": "string"
          },
          {
           "name": 1,
           "type": "string"
          },
          {
           "name": 2,
           "type": "string"
          },
          {
           "name": 3,
           "type": "string"
          },
          {
           "name": 4,
           "type": "string"
          },
          {
           "name": 5,
           "type": "string"
          },
          {
           "name": 6,
           "type": "string"
          },
          {
           "name": 7,
           "type": "string"
          },
          {
           "name": "ipydguuid",
           "type": "integer"
          }
         ],
         "pandas_version": "1.4.0",
         "primaryKey": [
          "key",
          "ipydguuid"
         ],
         "primaryKeyUuid": "ipydguuid"
        }
       },
       "_model_module_version": "^1.2.0",
       "_model_name": "DataGridModel",
       "_view_module_version": "^1.2.0",
       "auto_fit_columns": false,
       "auto_fit_params": {
        "area": "all",
        "numCols": null,
        "padding": 30
       },
       "base_column_header_size": 20,
       "base_column_size": 64,
       "base_row_header_size": 64,
       "base_row_size": 20,
       "default_renderer": "IPY_MODEL_f964c125d5164df8a6b9ed1f691b4407",
       "editable": true,
       "header_visibility": "all",
       "layout": "IPY_MODEL_5eaa2f8c34c5401991e4a215181303e2",
       "selection_mode": "cell"
      }
     },
     "e87dafe2fff7411683e3448021b51b0d": {
      "model_module": "@jupyter-widgets/base",
      "model_module_version": "2.0.0",
      "model_name": "LayoutModel",
      "state": {}
     },
     "e8949d040fcd4a63b62b6b397f5b8ef2": {
      "model_module": "@jupyter-widgets/base",
      "model_module_version": "2.0.0",
      "model_name": "LayoutModel",
      "state": {}
     },
     "e8e6163686ef4c5f9ace549206376a6d": {
      "model_module": "@jupyter-widgets/base",
      "model_module_version": "2.0.0",
      "model_name": "LayoutModel",
      "state": {}
     },
     "e96d0041cb92493181aebaf32b5fadfb": {
      "model_module": "@jupyter-widgets/base",
      "model_module_version": "2.0.0",
      "model_name": "LayoutModel",
      "state": {}
     },
     "e99757e8d81547c9b16aad5564e4086a": {
      "model_module": "@jupyter-widgets/controls",
      "model_module_version": "2.0.0",
      "model_name": "ButtonStyleModel",
      "state": {
       "font_family": null,
       "font_size": null,
       "font_style": null,
       "font_variant": null,
       "font_weight": null,
       "text_color": null,
       "text_decoration": null
      }
     },
     "e998951aaf854127b3ecd14ee567b504": {
      "model_module": "@jupyter-widgets/controls",
      "model_module_version": "2.0.0",
      "model_name": "ButtonModel",
      "state": {
       "description": "Generate Vectors",
       "layout": "IPY_MODEL_4c441f6cba0b47cbbe6f8419bc230785",
       "style": "IPY_MODEL_3cbb98f567d44b1384b3c0d806eba009",
       "tooltip": null
      }
     },
     "e9bb610f7b3546e78657cef8911e48e9": {
      "model_module": "@jupyter-widgets/controls",
      "model_module_version": "2.0.0",
      "model_name": "ButtonStyleModel",
      "state": {
       "font_family": null,
       "font_size": null,
       "font_style": null,
       "font_variant": null,
       "font_weight": null,
       "text_color": null,
       "text_decoration": null
      }
     },
     "e9c08b37e8774d4c9b785d96b74a4269": {
      "model_module": "ipydatagrid",
      "model_module_version": "^1.2.0",
      "model_name": "VegaExprModel",
      "state": {
       "_model_module_version": "^1.2.0",
       "_view_module": "ipydatagrid",
       "_view_module_version": "^1.2.0",
       "_view_name": "VegaExprView"
      }
     },
     "e9fa3c2bed5e4f1caee24d897031e121": {
      "model_module": "@jupyter-widgets/base",
      "model_module_version": "2.0.0",
      "model_name": "LayoutModel",
      "state": {}
     },
     "e9ff255142bf40808aef3f36740542ea": {
      "model_module": "ipydatagrid",
      "model_module_version": "^1.2.0",
      "model_name": "VegaExprModel",
      "state": {
       "_model_module_version": "^1.2.0",
       "_view_module": "ipydatagrid",
       "_view_module_version": "^1.2.0",
       "_view_name": "VegaExprView"
      }
     },
     "ea12e2ef534c468683fbf11f5a812bb3": {
      "model_module": "@jupyter-widgets/controls",
      "model_module_version": "2.0.0",
      "model_name": "VBoxModel",
      "state": {
       "children": [
        "IPY_MODEL_41881d43a2214614b3405a1dd6baf5f7",
        "IPY_MODEL_eea91096b253489996962ba229e97699",
        "IPY_MODEL_148fb38eb1a141c29e72f3b5a2b23032"
       ],
       "layout": "IPY_MODEL_6227667b419a4d3aa5974699a7944397"
      }
     },
     "ea61d28c1e3f4746a9fb1cf101301a28": {
      "model_module": "@jupyter-widgets/controls",
      "model_module_version": "2.0.0",
      "model_name": "HBoxModel",
      "state": {
       "children": [
        "IPY_MODEL_c79af8d3256242db8be27a1ba19eddde",
        "IPY_MODEL_1cab36895e204dd4b6ed2fdc182361b9",
        "IPY_MODEL_c777cdcc13a342c4be3c4695d40d56e9",
        "IPY_MODEL_09ce8002d9364454a0e1b0eb2e7bff01",
        "IPY_MODEL_365706e89dbb49c68eaa123e7343129c"
       ],
       "layout": "IPY_MODEL_ec506b0c729e40d88c9f6585382d743b"
      }
     },
     "ea75e14fcc0140e89df5db43f4e1e1ab": {
      "model_module": "@jupyter-widgets/controls",
      "model_module_version": "2.0.0",
      "model_name": "HBoxModel",
      "state": {
       "children": [
        "IPY_MODEL_2f9d42a6ff264f3bbf2e967a6abead03",
        "IPY_MODEL_5a4e813b61c44f1e83d618ab45ef1965",
        "IPY_MODEL_dbc33d810b124f5abe9cbfa5d97fde77",
        "IPY_MODEL_f2124d2b7ff54e26a08f52475d661e2c",
        "IPY_MODEL_7f095f6faf2a479aa8c3445177906526"
       ],
       "layout": "IPY_MODEL_b28832730bd6415d8f36500465682a8c"
      }
     },
     "ea78c6a1f7da48f1b550c9d7435ec1d4": {
      "model_module": "@jupyter-widgets/controls",
      "model_module_version": "2.0.0",
      "model_name": "ButtonModel",
      "state": {
       "description": "Add Column",
       "layout": "IPY_MODEL_a0e94bbd5ba04cb1b423dc1310f681ce",
       "style": "IPY_MODEL_6c0500da48db4930b30ac747424ee4d1",
       "tooltip": null
      }
     },
     "eb00631e56a44fc1a4942ac8c817809e": {
      "model_module": "ipydatagrid",
      "model_module_version": "^1.2.0",
      "model_name": "VegaExprModel",
      "state": {
       "_model_module_version": "^1.2.0",
       "_view_module": "ipydatagrid",
       "_view_module_version": "^1.2.0",
       "_view_name": "VegaExprView"
      }
     },
     "eb051c05ea004c6cbf29823bac3f857a": {
      "model_module": "@jupyter-widgets/base",
      "model_module_version": "2.0.0",
      "model_name": "LayoutModel",
      "state": {}
     },
     "eb06a4da41f546809a5196de1ee58c32": {
      "model_module": "@jupyter-widgets/base",
      "model_module_version": "2.0.0",
      "model_name": "LayoutModel",
      "state": {}
     },
     "eb226992e8724644815362303455bd54": {
      "model_module": "@jupyter-widgets/controls",
      "model_module_version": "2.0.0",
      "model_name": "ButtonModel",
      "state": {
       "description": "Undo",
       "layout": "IPY_MODEL_8e361fd6f8de472cb6398bbce7f61c30",
       "style": "IPY_MODEL_af73616818a44cff8dff29f98cb189b0",
       "tooltip": null
      }
     },
     "eb2a2f5754884b8a9267f269a1caea93": {
      "model_module": "@jupyter-widgets/output",
      "model_module_version": "1.0.0",
      "model_name": "OutputModel",
      "state": {
       "layout": "IPY_MODEL_8783fc72a0dc447da3d7483b427a1773"
      }
     },
     "eb4e2073148749a58d9e49553a4acda6": {
      "model_module": "@jupyter-widgets/controls",
      "model_module_version": "2.0.0",
      "model_name": "ButtonStyleModel",
      "state": {
       "font_family": null,
       "font_size": null,
       "font_style": null,
       "font_variant": null,
       "font_weight": null,
       "text_color": null,
       "text_decoration": null
      }
     },
     "ebc42ab44f0f4165be2151bf30ddb9bc": {
      "model_module": "@jupyter-widgets/base",
      "model_module_version": "2.0.0",
      "model_name": "LayoutModel",
      "state": {}
     },
     "ec09fec0f7eb4f8799920432facd21b0": {
      "model_module": "@jupyter-widgets/controls",
      "model_module_version": "2.0.0",
      "model_name": "HBoxModel",
      "state": {
       "children": [
        "IPY_MODEL_be5ab3c2b2b84117b9257605d522f33f",
        "IPY_MODEL_eeb89e19f9184b408be4fe58d8b3b568",
        "IPY_MODEL_4d78d6704f2f42818777273d709cb810",
        "IPY_MODEL_99a2045ac6444a068c331248933a88f9",
        "IPY_MODEL_7b940f8bccd5446999efdc90538f2111"
       ],
       "layout": "IPY_MODEL_8156c303456b45e287fc44ea0d556008"
      }
     },
     "ec506b0c729e40d88c9f6585382d743b": {
      "model_module": "@jupyter-widgets/base",
      "model_module_version": "2.0.0",
      "model_name": "LayoutModel",
      "state": {}
     },
     "ec6fe15f1e8b44b8be2110e42b567ef9": {
      "model_module": "@jupyter-widgets/base",
      "model_module_version": "2.0.0",
      "model_name": "LayoutModel",
      "state": {}
     },
     "ec86c8eb51d448d09d6d5ca793a0ec04": {
      "model_module": "ipydatagrid",
      "model_module_version": "^1.2.0",
      "model_name": "VegaExprModel",
      "state": {
       "_model_module_version": "^1.2.0",
       "_view_module": "ipydatagrid",
       "_view_module_version": "^1.2.0",
       "_view_name": "VegaExprView"
      }
     },
     "ed55a9b34cc94f069ccb0ab29ac27bdf": {
      "model_module": "ipydatagrid",
      "model_module_version": "^1.2.0",
      "model_name": "VegaExprModel",
      "state": {
       "_model_module_version": "^1.2.0",
       "_view_module": "ipydatagrid",
       "_view_module_version": "^1.2.0",
       "_view_name": "VegaExprView"
      }
     },
     "ed5743b109cc4e5abd82a6d5ccb4ed17": {
      "model_module": "ipydatagrid",
      "model_module_version": "^1.2.0",
      "model_name": "VegaExprModel",
      "state": {
       "_model_module_version": "^1.2.0",
       "_view_module": "ipydatagrid",
       "_view_module_version": "^1.2.0",
       "_view_name": "VegaExprView"
      }
     },
     "edbf3cfefbac46a4bd2077f6ce578e45": {
      "model_module": "@jupyter-widgets/base",
      "model_module_version": "2.0.0",
      "model_name": "LayoutModel",
      "state": {}
     },
     "ede88ed19e1641909f3e150f257cb3b0": {
      "model_module": "@jupyter-widgets/base",
      "model_module_version": "2.0.0",
      "model_name": "LayoutModel",
      "state": {}
     },
     "ee5880891a934d03920cda3ca4c2ae76": {
      "model_module": "@jupyter-widgets/base",
      "model_module_version": "2.0.0",
      "model_name": "LayoutModel",
      "state": {}
     },
     "ee7000eb2c1f4172a079f0323712ceff": {
      "model_module": "@jupyter-widgets/base",
      "model_module_version": "2.0.0",
      "model_name": "LayoutModel",
      "state": {
       "height": "150px"
      }
     },
     "eea91096b253489996962ba229e97699": {
      "model_module": "ipydatagrid",
      "model_module_version": "^1.2.0",
      "model_name": "DataGridModel",
      "state": {
       "_data": {
        "data": [
         {
          "0": "x2",
          "1": "m2",
          "2": "x1",
          "3": "m1",
          "4": "ux2",
          "5": "ux1",
          "6": "um1",
          "7": "um2",
          "ipydguuid": 0,
          "key": "  Variable:"
         },
         {
          "0": "m",
          "1": "kg",
          "2": "m",
          "3": "kg",
          "4": "m",
          "5": "m",
          "6": "kg",
          "7": "kg",
          "ipydguuid": 1,
          "key": " Units:"
         },
         {
          "0": "0.058",
          "1": "0.898",
          "2": "0.129",
          "3": "0.078",
          "4": "0.00125",
          "5": "0.0025",
          "6": "0.0002886751345948129",
          "7": "0.00125",
          "ipydguuid": 2,
          "key": 0
         },
         {
          "0": "0.057",
          "1": "0.902",
          "2": "0.129",
          "3": "0.078",
          "4": "0.00125",
          "5": "0.0025",
          "6": "0.0002886751345948129",
          "7": "0.00125",
          "ipydguuid": 3,
          "key": 1
         },
         {
          "0": "0.057",
          "1": "0.903",
          "2": "0.129",
          "3": "0.078",
          "4": "0.00125",
          "5": "0.0025",
          "6": "0.0002886751345948129",
          "7": "0;00125",
          "ipydguuid": 4,
          "key": 2
         }
        ],
        "fields": [
         {
          "key": null
         },
         {
          "0": null
         },
         {
          "1": null
         },
         {
          "2": null
         },
         {
          "3": null
         },
         {
          "4": null
         },
         {
          "5": null
         },
         {
          "6": null
         },
         {
          "7": null
         },
         {
          "ipydguuid": null
         }
        ],
        "schema": {
         "fields": [
          {
           "name": "key",
           "type": "string"
          },
          {
           "name": 0,
           "type": "string"
          },
          {
           "name": 1,
           "type": "string"
          },
          {
           "name": 2,
           "type": "string"
          },
          {
           "name": 3,
           "type": "string"
          },
          {
           "name": 4,
           "type": "string"
          },
          {
           "name": 5,
           "type": "string"
          },
          {
           "name": 6,
           "type": "string"
          },
          {
           "name": 7,
           "type": "string"
          },
          {
           "name": "ipydguuid",
           "type": "integer"
          }
         ],
         "pandas_version": "1.4.0",
         "primaryKey": [
          "key",
          "ipydguuid"
         ],
         "primaryKeyUuid": "ipydguuid"
        }
       },
       "_model_module_version": "^1.2.0",
       "_model_name": "DataGridModel",
       "_view_module_version": "^1.2.0",
       "_visible_rows": [
        0,
        1,
        2,
        3,
        4
       ],
       "auto_fit_columns": false,
       "auto_fit_params": {
        "area": "all",
        "numCols": null,
        "padding": 30
       },
       "base_column_header_size": 20,
       "base_column_size": 64,
       "base_row_header_size": 64,
       "base_row_size": 20,
       "default_renderer": "IPY_MODEL_e3c35c50e0104f34804e84977f702305",
       "editable": true,
       "header_visibility": "all",
       "layout": "IPY_MODEL_a147056dc1df43e2a705c9c950252705",
       "selection_mode": "cell",
       "selections": [
        {
         "c1": 7,
         "c2": 7,
         "r1": 0,
         "r2": 0
        }
       ]
      }
     },
     "eeb89e19f9184b408be4fe58d8b3b568": {
      "model_module": "@jupyter-widgets/controls",
      "model_module_version": "2.0.0",
      "model_name": "ButtonModel",
      "state": {
       "description": "Redo",
       "layout": "IPY_MODEL_3c0050dfde1c4e02bcac36aa5331dff7",
       "style": "IPY_MODEL_1b028bcac3a0438cb3b408bdb9a02ff5",
       "tooltip": null
      }
     },
     "ef7e46430e33494aa0fe83243723a41f": {
      "model_module": "ipydatagrid",
      "model_module_version": "^1.2.0",
      "model_name": "TextRendererModel",
      "state": {
       "_model_module_version": "^1.2.0",
       "_view_module_version": "^1.2.0",
       "background_color": "IPY_MODEL_ed5743b109cc4e5abd82a6d5ccb4ed17",
       "text_color": "IPY_MODEL_8dc6a26b7b4e491ba546a77575730c70"
      }
     },
     "ef9d78df0f37414983a7e4eb30c1e3be": {
      "model_module": "@jupyter-widgets/controls",
      "model_module_version": "2.0.0",
      "model_name": "ButtonModel",
      "state": {
       "description": "Add Column",
       "layout": "IPY_MODEL_3f3e6406097d468691a0a31eb703149c",
       "style": "IPY_MODEL_eb4e2073148749a58d9e49553a4acda6",
       "tooltip": null
      }
     },
     "efca04e573d04d23ac3f2846759c063b": {
      "model_module": "@jupyter-widgets/base",
      "model_module_version": "2.0.0",
      "model_name": "LayoutModel",
      "state": {}
     },
     "efd9f42939c94a0fb2b5047eda999f3d": {
      "model_module": "@jupyter-widgets/controls",
      "model_module_version": "2.0.0",
      "model_name": "ButtonStyleModel",
      "state": {
       "font_family": null,
       "font_size": null,
       "font_style": null,
       "font_variant": null,
       "font_weight": null,
       "text_color": null,
       "text_decoration": null
      }
     },
     "eff362de92d244d895f59a26edba11c2": {
      "model_module": "@jupyter-widgets/controls",
      "model_module_version": "2.0.0",
      "model_name": "HBoxModel",
      "state": {
       "children": [
        "IPY_MODEL_d8a5d159cb3a4f45aeedb762320f5eda",
        "IPY_MODEL_1a7b3bb6464449dfa7a53c1fdba2f713",
        "IPY_MODEL_1cf61f259bc54e2cbae5e94ed51a696d",
        "IPY_MODEL_2c25aed586d344e39b8f2c48e79953fa",
        "IPY_MODEL_012f48918cc347c29d20da4b57a78b47"
       ],
       "layout": "IPY_MODEL_75c0df61b34440599acf3f832116a7e8"
      }
     },
     "f01e5f6f833144368d3aca8c22fd1171": {
      "model_module": "ipydatagrid",
      "model_module_version": "^1.2.0",
      "model_name": "VegaExprModel",
      "state": {
       "_model_module_version": "^1.2.0",
       "_view_module": "ipydatagrid",
       "_view_module_version": "^1.2.0",
       "_view_name": "VegaExprView"
      }
     },
     "f04659deb5ef4fbb9203e47d8e6762ff": {
      "model_module": "ipydatagrid",
      "model_module_version": "^1.2.0",
      "model_name": "DataGridModel",
      "state": {
       "_data": {
        "data": [
         {
          "0": "x2",
          "1": "m2",
          "2": "x1",
          "3": "m1",
          "4": "ux2",
          "5": "ux1",
          "6": "um1",
          "7": "um2",
          "ipydguuid": 0,
          "key": "  Variable:"
         },
         {
          "0": "m",
          "1": "kg",
          "2": "m",
          "3": "kg",
          "4": "m",
          "5": "m",
          "6": "kg",
          "7": "kg",
          "ipydguuid": 1,
          "key": " Units:"
         },
         {
          "0": "0.058",
          "1": "0.898",
          "2": "0.129",
          "3": "0.078",
          "4": "0.00125",
          "5": "0.0025",
          "6": "0.0002886751345948129",
          "7": "0.00125",
          "ipydguuid": 2,
          "key": 0
         },
         {
          "0": "0.057",
          "1": "0.902",
          "2": "0.129",
          "3": "0.078",
          "4": "0.00125",
          "5": "0.0025",
          "6": "0.0002886751345948129",
          "7": "0.00125",
          "ipydguuid": 3,
          "key": 1
         },
         {
          "0": "0.057",
          "1": "0.903",
          "2": "0.129",
          "3": "0.078",
          "4": "0.00125",
          "5": "0.0025",
          "6": "0.0002886751345948129",
          "7": "0.00125",
          "ipydguuid": 4,
          "key": 2
         }
        ],
        "fields": [
         {
          "key": null
         },
         {
          "0": null
         },
         {
          "1": null
         },
         {
          "2": null
         },
         {
          "3": null
         },
         {
          "4": null
         },
         {
          "5": null
         },
         {
          "6": null
         },
         {
          "7": null
         },
         {
          "ipydguuid": null
         }
        ],
        "schema": {
         "fields": [
          {
           "name": "key",
           "type": "string"
          },
          {
           "name": 0,
           "type": "string"
          },
          {
           "name": 1,
           "type": "string"
          },
          {
           "name": 2,
           "type": "string"
          },
          {
           "name": 3,
           "type": "string"
          },
          {
           "name": 4,
           "type": "string"
          },
          {
           "name": 5,
           "type": "string"
          },
          {
           "name": 6,
           "type": "string"
          },
          {
           "name": 7,
           "type": "string"
          },
          {
           "name": "ipydguuid",
           "type": "integer"
          }
         ],
         "pandas_version": "1.4.0",
         "primaryKey": [
          "key",
          "ipydguuid"
         ],
         "primaryKeyUuid": "ipydguuid"
        }
       },
       "_model_module_version": "^1.2.0",
       "_model_name": "DataGridModel",
       "_view_module_version": "^1.2.0",
       "auto_fit_columns": false,
       "auto_fit_params": {
        "area": "all",
        "numCols": null,
        "padding": 30
       },
       "base_column_header_size": 20,
       "base_column_size": 64,
       "base_row_header_size": 64,
       "base_row_size": 20,
       "default_renderer": "IPY_MODEL_4239068524a74d9a9e51103e2bbb08b9",
       "editable": true,
       "header_visibility": "all",
       "layout": "IPY_MODEL_1d101dc5e90a47f18c71e16819d6d950",
       "selection_mode": "cell"
      }
     },
     "f12a31db526d4bd6af2afb5db06073e8": {
      "model_module": "ipydatagrid",
      "model_module_version": "^1.2.0",
      "model_name": "TextRendererModel",
      "state": {
       "_model_module_version": "^1.2.0",
       "_view_module_version": "^1.2.0",
       "background_color": "IPY_MODEL_b7efd13851884dd98deef52b6b5a988c",
       "text_color": "IPY_MODEL_7752e8717eac42e9bc50bd8c4b6e25db"
      }
     },
     "f1891d75b68a466580b39d5d13a71ac9": {
      "model_module": "@jupyter-widgets/controls",
      "model_module_version": "2.0.0",
      "model_name": "ButtonStyleModel",
      "state": {
       "font_family": null,
       "font_size": null,
       "font_style": null,
       "font_variant": null,
       "font_weight": null,
       "text_color": null,
       "text_decoration": null
      }
     },
     "f1ac27bcb6504080b6b1e818ebc03f27": {
      "model_module": "ipydatagrid",
      "model_module_version": "^1.2.0",
      "model_name": "TextRendererModel",
      "state": {
       "_model_module_version": "^1.2.0",
       "_view_module_version": "^1.2.0",
       "background_color": "IPY_MODEL_c5ddd7ef0fa242a8af133099b5f782ae",
       "text_color": "IPY_MODEL_fd1b23c76c9c41fc94581ddbc3784abf"
      }
     },
     "f1af4f63439d406c809319de6251c26e": {
      "model_module": "@jupyter-widgets/controls",
      "model_module_version": "2.0.0",
      "model_name": "ButtonStyleModel",
      "state": {
       "font_family": null,
       "font_size": null,
       "font_style": null,
       "font_variant": null,
       "font_weight": null,
       "text_color": null,
       "text_decoration": null
      }
     },
     "f1b01fa6be8640f8946ddd62bcf50c1c": {
      "model_module": "ipydatagrid",
      "model_module_version": "^1.2.0",
      "model_name": "VegaExprModel",
      "state": {
       "_model_module_version": "^1.2.0",
       "_view_module": "ipydatagrid",
       "_view_module_version": "^1.2.0",
       "_view_name": "VegaExprView"
      }
     },
     "f1e5480ed0fb49bea262e15babb332d9": {
      "model_module": "@jupyter-widgets/base",
      "model_module_version": "2.0.0",
      "model_name": "LayoutModel",
      "state": {}
     },
     "f1e56e019bd6455281ee6289be73cfda": {
      "model_module": "@jupyter-widgets/controls",
      "model_module_version": "2.0.0",
      "model_name": "ButtonModel",
      "state": {
       "description": "Add Column",
       "layout": "IPY_MODEL_833a7691b9d0401195551bee999727e2",
       "style": "IPY_MODEL_7c6bc124ac1547cb988b0d4350b9a6d5",
       "tooltip": null
      }
     },
     "f1f8206c3549473494c65c872453f4ea": {
      "model_module": "@jupyter-widgets/base",
      "model_module_version": "2.0.0",
      "model_name": "LayoutModel",
      "state": {
       "height": "150px"
      }
     },
     "f20304ca62cf4fc893c951e02d9a0e4f": {
      "model_module": "@jupyter-widgets/controls",
      "model_module_version": "2.0.0",
      "model_name": "ButtonModel",
      "state": {
       "description": "Redo",
       "layout": "IPY_MODEL_70880e3547cd42a9bc19522ab52f09c6",
       "style": "IPY_MODEL_2010778e7314410eb8f3a89d52dbfb9f",
       "tooltip": null
      }
     },
     "f2124d2b7ff54e26a08f52475d661e2c": {
      "model_module": "@jupyter-widgets/controls",
      "model_module_version": "2.0.0",
      "model_name": "ButtonModel",
      "state": {
       "description": "Add Column",
       "layout": "IPY_MODEL_4863ebf918d44efab7daf8e1a6cb544d",
       "style": "IPY_MODEL_da663d0a484e491e911d9c042324e459",
       "tooltip": null
      }
     },
     "f21f5d4c817c46609eb0066cefa06ec8": {
      "model_module": "ipydatagrid",
      "model_module_version": "^1.2.0",
      "model_name": "VegaExprModel",
      "state": {
       "_model_module_version": "^1.2.0",
       "_view_module": "ipydatagrid",
       "_view_module_version": "^1.2.0",
       "_view_name": "VegaExprView"
      }
     },
     "f240e846ea3f48549338e25e021dc3d0": {
      "model_module": "ipydatagrid",
      "model_module_version": "^1.2.0",
      "model_name": "TextRendererModel",
      "state": {
       "_model_module_version": "^1.2.0",
       "_view_module_version": "^1.2.0",
       "background_color": "IPY_MODEL_3aa40f948bdc4e7e9be0d8a33111b71a",
       "text_color": "IPY_MODEL_e2fe376a02da4efc9e6ab24c80e472ed"
      }
     },
     "f24292613e574f7e8b675caa728dd160": {
      "model_module": "@jupyter-widgets/controls",
      "model_module_version": "2.0.0",
      "model_name": "ButtonModel",
      "state": {
       "description": "Add Row",
       "layout": "IPY_MODEL_eb06a4da41f546809a5196de1ee58c32",
       "style": "IPY_MODEL_16230a6b01854cee85b85c7ea8c82584",
       "tooltip": null
      }
     },
     "f27cccd4b8c44b0bb4d794925afc27d5": {
      "model_module": "@jupyter-widgets/controls",
      "model_module_version": "2.0.0",
      "model_name": "HBoxModel",
      "state": {
       "children": [
        "IPY_MODEL_2e7ea7a2a63e41e5a7cd6ea3f99f045e",
        "IPY_MODEL_0d85be76531a4afbbde196bd9c188398",
        "IPY_MODEL_85daa77ea1a5464ca17f51fe1edd8d68",
        "IPY_MODEL_4356b9a512d1415d88de58aa32ef3149",
        "IPY_MODEL_73089a2310a44954b1f228dcc0e23faa"
       ],
       "layout": "IPY_MODEL_fddada8ff5a547b590f9719ff1cac192"
      }
     },
     "f2a53872914f44658d558d7b7c5bdb65": {
      "model_module": "@jupyter-widgets/base",
      "model_module_version": "2.0.0",
      "model_name": "LayoutModel",
      "state": {}
     },
     "f2a5b8b199b0471da86f20e3677b446a": {
      "model_module": "ipydatagrid",
      "model_module_version": "^1.2.0",
      "model_name": "DataGridModel",
      "state": {
       "_data": {
        "data": [
         {
          "0": "x2",
          "1": "m2",
          "2": "x1",
          "3": "m1",
          "4": "ux2",
          "5": "ux1",
          "6": "um1",
          "7": "um2",
          "ipydguuid": 0,
          "key": "  Variable:"
         },
         {
          "0": "m",
          "1": "kg",
          "2": "m",
          "3": "kg",
          "4": "m",
          "5": "m",
          "6": "kg",
          "7": "kg",
          "ipydguuid": 1,
          "key": " Units:"
         },
         {
          "0": "0.045",
          "1": "1.150",
          "2": "0.129",
          "3": "0.078",
          "4": "0.000625",
          "5": "0.00125",
          "6": "0.0002886751345948129",
          "7": "0.000625",
          "ipydguuid": 2,
          "key": 0
         },
         {
          "0": "0.040",
          "1": "1.189",
          "2": "0.129",
          "3": "0.078",
          "4": "0.000625",
          "5": "0.00125",
          "6": "0.0002886751345948129",
          "7": "0.000625",
          "ipydguuid": 3,
          "key": 1
         },
         {
          "0": "0.061",
          "1": "0.979",
          "2": "0.129",
          "3": "0.078",
          "4": "0.000625",
          "5": "0.00125",
          "6": "0.0002886751345948129",
          "7": "0.000625",
          "ipydguuid": 4,
          "key": 2
         }
        ],
        "fields": [
         {
          "key": null
         },
         {
          "0": null
         },
         {
          "1": null
         },
         {
          "2": null
         },
         {
          "3": null
         },
         {
          "4": null
         },
         {
          "5": null
         },
         {
          "6": null
         },
         {
          "7": null
         },
         {
          "ipydguuid": null
         }
        ],
        "schema": {
         "fields": [
          {
           "name": "key",
           "type": "string"
          },
          {
           "name": 0,
           "type": "string"
          },
          {
           "name": 1,
           "type": "string"
          },
          {
           "name": 2,
           "type": "string"
          },
          {
           "name": 3,
           "type": "string"
          },
          {
           "name": 4,
           "type": "string"
          },
          {
           "name": 5,
           "type": "string"
          },
          {
           "name": 6,
           "type": "string"
          },
          {
           "name": 7,
           "type": "string"
          },
          {
           "name": "ipydguuid",
           "type": "integer"
          }
         ],
         "pandas_version": "1.4.0",
         "primaryKey": [
          "key",
          "ipydguuid"
         ],
         "primaryKeyUuid": "ipydguuid"
        }
       },
       "_model_module_version": "^1.2.0",
       "_model_name": "DataGridModel",
       "_view_module_version": "^1.2.0",
       "auto_fit_columns": false,
       "auto_fit_params": {
        "area": "all",
        "numCols": null,
        "padding": 30
       },
       "base_column_header_size": 20,
       "base_column_size": 64,
       "base_row_header_size": 64,
       "base_row_size": 20,
       "default_renderer": "IPY_MODEL_a9ccc592478149819dcfa0f9cd76bb3c",
       "editable": true,
       "header_visibility": "all",
       "layout": "IPY_MODEL_c156544ebb3b4bde871639ea6168f195",
       "selection_mode": "cell"
      }
     },
     "f2bcf794fd384665a5177aa2d1512b4c": {
      "model_module": "@jupyter-widgets/base",
      "model_module_version": "2.0.0",
      "model_name": "LayoutModel",
      "state": {}
     },
     "f2c3e2d437dd4cbcbca275a20c927023": {
      "model_module": "ipydatagrid",
      "model_module_version": "^1.2.0",
      "model_name": "VegaExprModel",
      "state": {
       "_model_module_version": "^1.2.0",
       "_view_module": "ipydatagrid",
       "_view_module_version": "^1.2.0",
       "_view_name": "VegaExprView"
      }
     },
     "f2f0e5ae789546aaad3663fd64ca044a": {
      "model_module": "@jupyter-widgets/controls",
      "model_module_version": "2.0.0",
      "model_name": "ButtonModel",
      "state": {
       "description": "Add Column",
       "layout": "IPY_MODEL_eb051c05ea004c6cbf29823bac3f857a",
       "style": "IPY_MODEL_a7611d5ac1e24668b9e668fb1240569f",
       "tooltip": null
      }
     },
     "f2fc482cb4a94d5eacf1c4af252c3de3": {
      "model_module": "@jupyter-widgets/base",
      "model_module_version": "2.0.0",
      "model_name": "LayoutModel",
      "state": {}
     },
     "f32fd382c7be485e928fb1d1de1bf395": {
      "model_module": "ipydatagrid",
      "model_module_version": "^1.2.0",
      "model_name": "DataGridModel",
      "state": {
       "_data": {
        "data": [
         {
          "0": "x2",
          "1": "m2",
          "2": "x1",
          "3": "m1",
          "4": "ux2",
          "5": "ux1",
          "6": "um1",
          "7": "um2",
          "ipydguuid": 0,
          "key": "  Variable:"
         },
         {
          "0": "m",
          "1": "kg",
          "2": "m",
          "3": "kg",
          "4": "m",
          "5": "m",
          "6": "kg",
          "7": "kg",
          "ipydguuid": 1,
          "key": " Units:"
         },
         {
          "0": "0.058",
          "1": "0.898",
          "2": "0.129",
          "3": "0.078",
          "4": "0.00125",
          "5": "0.0025",
          "6": "0.0002886751345948129",
          "7": "0.00125",
          "ipydguuid": 2,
          "key": 0
         },
         {
          "0": "0.057",
          "1": "0.902",
          "2": "0.129",
          "3": "0.078",
          "4": "0.00125",
          "5": "0.0025",
          "6": "0.0002886751345948129",
          "7": "0.00125",
          "ipydguuid": 3,
          "key": 1
         },
         {
          "0": "0.057",
          "1": "0.903",
          "2": "0.129",
          "3": "0.078",
          "4": "0.00125",
          "5": "0.0025",
          "6": "0.0002886751345948129",
          "7": "0.00125",
          "ipydguuid": 4,
          "key": 2
         }
        ],
        "fields": [
         {
          "key": null
         },
         {
          "0": null
         },
         {
          "1": null
         },
         {
          "2": null
         },
         {
          "3": null
         },
         {
          "4": null
         },
         {
          "5": null
         },
         {
          "6": null
         },
         {
          "7": null
         },
         {
          "ipydguuid": null
         }
        ],
        "schema": {
         "fields": [
          {
           "name": "key",
           "type": "string"
          },
          {
           "name": 0,
           "type": "string"
          },
          {
           "name": 1,
           "type": "string"
          },
          {
           "name": 2,
           "type": "string"
          },
          {
           "name": 3,
           "type": "string"
          },
          {
           "name": 4,
           "type": "string"
          },
          {
           "name": 5,
           "type": "string"
          },
          {
           "name": 6,
           "type": "string"
          },
          {
           "name": 7,
           "type": "string"
          },
          {
           "name": "ipydguuid",
           "type": "integer"
          }
         ],
         "pandas_version": "1.4.0",
         "primaryKey": [
          "key",
          "ipydguuid"
         ],
         "primaryKeyUuid": "ipydguuid"
        }
       },
       "_model_module_version": "^1.2.0",
       "_model_name": "DataGridModel",
       "_view_module_version": "^1.2.0",
       "auto_fit_columns": false,
       "auto_fit_params": {
        "area": "all",
        "numCols": null,
        "padding": 30
       },
       "base_column_header_size": 20,
       "base_column_size": 64,
       "base_row_header_size": 64,
       "base_row_size": 20,
       "default_renderer": "IPY_MODEL_f240e846ea3f48549338e25e021dc3d0",
       "editable": true,
       "header_visibility": "all",
       "layout": "IPY_MODEL_e5786052e933411e9e1ce5f36a9c088f",
       "selection_mode": "cell"
      }
     },
     "f362dd76cf354a81af30c98cd1939397": {
      "model_module": "@jupyter-widgets/controls",
      "model_module_version": "2.0.0",
      "model_name": "ButtonModel",
      "state": {
       "description": "Generate Vectors",
       "layout": "IPY_MODEL_f802b9449ced4e1db99c95cfc1906594",
       "style": "IPY_MODEL_4f026b809d0a40ac9acabd27121a2664",
       "tooltip": null
      }
     },
     "f3adfbe1d7494d379bb25e6a4e8c43c2": {
      "model_module": "ipydatagrid",
      "model_module_version": "^1.2.0",
      "model_name": "VegaExprModel",
      "state": {
       "_model_module_version": "^1.2.0",
       "_view_module": "ipydatagrid",
       "_view_module_version": "^1.2.0",
       "_view_name": "VegaExprView"
      }
     },
     "f4c1e8fcf19a43378c6a0b5eca65bf07": {
      "model_module": "@jupyter-widgets/base",
      "model_module_version": "2.0.0",
      "model_name": "LayoutModel",
      "state": {}
     },
     "f4ca88165d7f4281bbad0045f0e2fc08": {
      "model_module": "@jupyter-widgets/controls",
      "model_module_version": "2.0.0",
      "model_name": "ButtonStyleModel",
      "state": {
       "font_family": null,
       "font_size": null,
       "font_style": null,
       "font_variant": null,
       "font_weight": null,
       "text_color": null,
       "text_decoration": null
      }
     },
     "f5452256b3e24ceaa9eac2818d7eaad0": {
      "model_module": "@jupyter-widgets/base",
      "model_module_version": "2.0.0",
      "model_name": "LayoutModel",
      "state": {}
     },
     "f58c5c85be2547fd93023f09db9f577e": {
      "model_module": "@jupyter-widgets/controls",
      "model_module_version": "2.0.0",
      "model_name": "ButtonStyleModel",
      "state": {
       "font_family": null,
       "font_size": null,
       "font_style": null,
       "font_variant": null,
       "font_weight": null,
       "text_color": null,
       "text_decoration": null
      }
     },
     "f59d5f12e97b462089d1be1d39af8d4f": {
      "model_module": "@jupyter-widgets/base",
      "model_module_version": "2.0.0",
      "model_name": "LayoutModel",
      "state": {}
     },
     "f5e0761830844f2fa7e1970902f9d266": {
      "model_module": "@jupyter-widgets/controls",
      "model_module_version": "2.0.0",
      "model_name": "ButtonStyleModel",
      "state": {
       "font_family": null,
       "font_size": null,
       "font_style": null,
       "font_variant": null,
       "font_weight": null,
       "text_color": null,
       "text_decoration": null
      }
     },
     "f5ed9dec953a414fba4997cf3ba2c94d": {
      "model_module": "@jupyter-widgets/base",
      "model_module_version": "2.0.0",
      "model_name": "LayoutModel",
      "state": {}
     },
     "f63185ef4fe14e10a4371b46cd61f356": {
      "model_module": "@jupyter-widgets/controls",
      "model_module_version": "2.0.0",
      "model_name": "ButtonStyleModel",
      "state": {
       "font_family": null,
       "font_size": null,
       "font_style": null,
       "font_variant": null,
       "font_weight": null,
       "text_color": null,
       "text_decoration": null
      }
     },
     "f640763632eb4eec80a301ab2b93f091": {
      "model_module": "@jupyter-widgets/controls",
      "model_module_version": "2.0.0",
      "model_name": "HBoxModel",
      "state": {
       "children": [
        "IPY_MODEL_39dd6958ffbb4e1bbed2cac5769076ad",
        "IPY_MODEL_23a20a7082cb4c1e9da5825703f068b8",
        "IPY_MODEL_3dd3f5ed19d84eee99192b4ceb7f920d",
        "IPY_MODEL_ad2160c0d17a455ebda5e9d34da4f76c",
        "IPY_MODEL_c942ec192be34d518b75266481e710f5"
       ],
       "layout": "IPY_MODEL_15052a02c02f4630bbae119dee7641cb"
      }
     },
     "f67492b0c99a47b1be4e34cac21a892b": {
      "model_module": "@jupyter-widgets/controls",
      "model_module_version": "2.0.0",
      "model_name": "ButtonStyleModel",
      "state": {
       "font_family": null,
       "font_size": null,
       "font_style": null,
       "font_variant": null,
       "font_weight": null,
       "text_color": null,
       "text_decoration": null
      }
     },
     "f6c63746c2cf4b5caba78d3a3b37c133": {
      "model_module": "@jupyter-widgets/controls",
      "model_module_version": "2.0.0",
      "model_name": "ButtonModel",
      "state": {
       "description": "Add Column",
       "layout": "IPY_MODEL_4df52961f01a4080ba04a86d12a900ea",
       "style": "IPY_MODEL_bb30b6f63f624ea3a34546ebf5fd551b",
       "tooltip": null
      }
     },
     "f6cbbc8d12bb4e3d8e4611926be0a671": {
      "model_module": "@jupyter-widgets/base",
      "model_module_version": "2.0.0",
      "model_name": "LayoutModel",
      "state": {}
     },
     "f6d095ce8220441eae4e9fcbf495809e": {
      "model_module": "@jupyter-widgets/controls",
      "model_module_version": "2.0.0",
      "model_name": "VBoxModel",
      "state": {
       "children": [
        "IPY_MODEL_d758e269104048afb20a4429dec5d9f9",
        "IPY_MODEL_05ee4ae4810849f99f9d952eb5e565e3",
        "IPY_MODEL_b623561e06274e28b0c2d608921efbf9"
       ],
       "layout": "IPY_MODEL_4171f990ea2049a58aca533303cc7c6f"
      }
     },
     "f6e0b5fd895346c8a4f17f768c9c106c": {
      "model_module": "@jupyter-widgets/base",
      "model_module_version": "2.0.0",
      "model_name": "LayoutModel",
      "state": {}
     },
     "f7af76b50e6647f0b0b3bf25e460021d": {
      "model_module": "@jupyter-widgets/base",
      "model_module_version": "2.0.0",
      "model_name": "LayoutModel",
      "state": {}
     },
     "f7b95313ae824dbeaab456f3239a4463": {
      "model_module": "@jupyter-widgets/controls",
      "model_module_version": "2.0.0",
      "model_name": "ButtonModel",
      "state": {
       "description": "Generate Vectors",
       "layout": "IPY_MODEL_1e7a86a3a8164efa8b0feb76b61ec8ed",
       "style": "IPY_MODEL_9a052c666bc743a1a3e363b19912863d",
       "tooltip": null
      }
     },
     "f7bd43e833254caa82894c60b74af6fa": {
      "model_module": "@jupyter-widgets/base",
      "model_module_version": "2.0.0",
      "model_name": "LayoutModel",
      "state": {}
     },
     "f7d5e7677b4446b997c48948eb33c242": {
      "model_module": "ipydatagrid",
      "model_module_version": "^1.2.0",
      "model_name": "DataGridModel",
      "state": {
       "_data": {
        "data": [
         {
          "0": "x2",
          "1": "m2",
          "2": "x1",
          "3": "m1",
          "4": "ux2",
          "5": "ux1",
          "6": "um1",
          "7": "um2",
          "ipydguuid": 0,
          "key": "  Variable:"
         },
         {
          "0": "m",
          "1": "kg",
          "2": "m",
          "3": "kg",
          "4": "m",
          "5": "m",
          "6": "kg",
          "7": "kg",
          "ipydguuid": 1,
          "key": " Units:"
         },
         {
          "0": "0.058",
          "1": "0.898",
          "2": "0.129",
          "3": "0.078",
          "4": "0.00125",
          "5": "0.0025",
          "6": "0.0002886751345948129",
          "7": "0.00125",
          "ipydguuid": 2,
          "key": 0
         },
         {
          "0": "0.057",
          "1": "0.902",
          "2": "0.129",
          "3": "0.078",
          "4": "0.00125",
          "5": "0.0025",
          "6": "0.0002886751345948129",
          "7": "0.00125",
          "ipydguuid": 3,
          "key": 1
         },
         {
          "0": "0.057",
          "1": "0.903",
          "2": "0.129",
          "3": "0.078",
          "4": "0.00125",
          "5": "0.0025",
          "6": "0.0002886751345948129",
          "7": "0.00125",
          "ipydguuid": 4,
          "key": 2
         }
        ],
        "fields": [
         {
          "key": null
         },
         {
          "0": null
         },
         {
          "1": null
         },
         {
          "2": null
         },
         {
          "3": null
         },
         {
          "4": null
         },
         {
          "5": null
         },
         {
          "6": null
         },
         {
          "7": null
         },
         {
          "ipydguuid": null
         }
        ],
        "schema": {
         "fields": [
          {
           "name": "key",
           "type": "string"
          },
          {
           "name": 0,
           "type": "string"
          },
          {
           "name": 1,
           "type": "string"
          },
          {
           "name": 2,
           "type": "string"
          },
          {
           "name": 3,
           "type": "string"
          },
          {
           "name": 4,
           "type": "string"
          },
          {
           "name": 5,
           "type": "string"
          },
          {
           "name": 6,
           "type": "string"
          },
          {
           "name": 7,
           "type": "string"
          },
          {
           "name": "ipydguuid",
           "type": "integer"
          }
         ],
         "pandas_version": "1.4.0",
         "primaryKey": [
          "key",
          "ipydguuid"
         ],
         "primaryKeyUuid": "ipydguuid"
        }
       },
       "_model_module_version": "^1.2.0",
       "_model_name": "DataGridModel",
       "_view_module_version": "^1.2.0",
       "auto_fit_columns": false,
       "auto_fit_params": {
        "area": "all",
        "numCols": null,
        "padding": 30
       },
       "base_column_header_size": 20,
       "base_column_size": 64,
       "base_row_header_size": 64,
       "base_row_size": 20,
       "default_renderer": "IPY_MODEL_028de0f4718046f29396d197090a30bd",
       "editable": true,
       "header_visibility": "all",
       "layout": "IPY_MODEL_f1f8206c3549473494c65c872453f4ea",
       "selection_mode": "cell"
      }
     },
     "f802b9449ced4e1db99c95cfc1906594": {
      "model_module": "@jupyter-widgets/base",
      "model_module_version": "2.0.0",
      "model_name": "LayoutModel",
      "state": {}
     },
     "f83e3c83e5874fd99149ac29e861dccd": {
      "model_module": "@jupyter-widgets/controls",
      "model_module_version": "2.0.0",
      "model_name": "ButtonStyleModel",
      "state": {
       "font_family": null,
       "font_size": null,
       "font_style": null,
       "font_variant": null,
       "font_weight": null,
       "text_color": null,
       "text_decoration": null
      }
     },
     "f843f8e54c9a4d3fbd337de5a80245bb": {
      "model_module": "@jupyter-widgets/controls",
      "model_module_version": "2.0.0",
      "model_name": "ButtonModel",
      "state": {
       "description": "Undo",
       "layout": "IPY_MODEL_50d6997006214664a9727beae31e73ed",
       "style": "IPY_MODEL_793b0aaa7273426ab5aa5c2b5b684383",
       "tooltip": null
      }
     },
     "f857465bb1b74d0ea81c3031609b8f87": {
      "model_module": "@jupyter-widgets/output",
      "model_module_version": "1.0.0",
      "model_name": "OutputModel",
      "state": {
       "layout": "IPY_MODEL_7a7a32a34b364e70890d620b89fbd4ac"
      }
     },
     "f87d9c4300464358b37455bc5ef2733f": {
      "model_module": "@jupyter-widgets/base",
      "model_module_version": "2.0.0",
      "model_name": "LayoutModel",
      "state": {}
     },
     "f8dab22fa0e448609483daeca191bfc0": {
      "model_module": "@jupyter-widgets/base",
      "model_module_version": "2.0.0",
      "model_name": "LayoutModel",
      "state": {}
     },
     "f8ff17daf1b748de897338ebbe69149c": {
      "model_module": "@jupyter-widgets/base",
      "model_module_version": "2.0.0",
      "model_name": "LayoutModel",
      "state": {}
     },
     "f92e766596f347e8966021048fbcdd09": {
      "model_module": "@jupyter-widgets/controls",
      "model_module_version": "2.0.0",
      "model_name": "ButtonModel",
      "state": {
       "description": "Redo",
       "layout": "IPY_MODEL_39cc1c1b875c4347814f893fdd1aa645",
       "style": "IPY_MODEL_8cc811272ed94fc897338402d0cc789a",
       "tooltip": null
      }
     },
     "f94c09d896d8459cbc2c33596a6c7986": {
      "model_module": "@jupyter-widgets/controls",
      "model_module_version": "2.0.0",
      "model_name": "ButtonStyleModel",
      "state": {
       "font_family": null,
       "font_size": null,
       "font_style": null,
       "font_variant": null,
       "font_weight": null,
       "text_color": null,
       "text_decoration": null
      }
     },
     "f964c125d5164df8a6b9ed1f691b4407": {
      "model_module": "ipydatagrid",
      "model_module_version": "^1.2.0",
      "model_name": "TextRendererModel",
      "state": {
       "_model_module_version": "^1.2.0",
       "_view_module_version": "^1.2.0",
       "background_color": "IPY_MODEL_6674102521624221bba7a3c7132a9330",
       "text_color": "IPY_MODEL_73a8aea6f10e450585b192a52d3d9653"
      }
     },
     "f96e74cbff57425c97b344d5a974c95b": {
      "model_module": "ipydatagrid",
      "model_module_version": "^1.2.0",
      "model_name": "DataGridModel",
      "state": {
       "_data": {
        "data": [
         {
          "0": "x2",
          "1": "m2",
          "2": "x1",
          "3": "m1",
          "4": "ux2",
          "5": "ux1",
          "6": "um1",
          "7": "um2",
          "ipydguuid": 0,
          "key": "  Variable:"
         },
         {
          "0": "m",
          "1": "kg",
          "2": "m",
          "3": "kg",
          "4": "m",
          "5": "m",
          "6": "kg",
          "7": "kg",
          "ipydguuid": 1,
          "key": " Units:"
         },
         {
          "0": "0.058",
          "1": "0.898",
          "2": "0.129",
          "3": "0.078",
          "4": "0.00125",
          "5": "0.0025",
          "6": "0.0002886751345948129",
          "7": "0.00125",
          "ipydguuid": 2,
          "key": 0
         },
         {
          "0": "0.057",
          "1": "0.902",
          "2": "0.129",
          "3": "0.078",
          "4": "0.00125",
          "5": "0.0025",
          "6": "0.0002886751345948129",
          "7": "0.00125",
          "ipydguuid": 3,
          "key": 1
         },
         {
          "0": "0.057",
          "1": "0.903",
          "2": "0.129",
          "3": "0.078",
          "4": "0.00125",
          "5": "0.0025",
          "6": "0.0002886751345948129",
          "7": "0.00125",
          "ipydguuid": 4,
          "key": 2
         }
        ],
        "fields": [
         {
          "key": null
         },
         {
          "0": null
         },
         {
          "1": null
         },
         {
          "2": null
         },
         {
          "3": null
         },
         {
          "4": null
         },
         {
          "5": null
         },
         {
          "6": null
         },
         {
          "7": null
         },
         {
          "ipydguuid": null
         }
        ],
        "schema": {
         "fields": [
          {
           "name": "key",
           "type": "string"
          },
          {
           "name": 0,
           "type": "string"
          },
          {
           "name": 1,
           "type": "string"
          },
          {
           "name": 2,
           "type": "string"
          },
          {
           "name": 3,
           "type": "string"
          },
          {
           "name": 4,
           "type": "string"
          },
          {
           "name": 5,
           "type": "string"
          },
          {
           "name": 6,
           "type": "string"
          },
          {
           "name": 7,
           "type": "string"
          },
          {
           "name": "ipydguuid",
           "type": "integer"
          }
         ],
         "pandas_version": "1.4.0",
         "primaryKey": [
          "key",
          "ipydguuid"
         ],
         "primaryKeyUuid": "ipydguuid"
        }
       },
       "_model_module_version": "^1.2.0",
       "_model_name": "DataGridModel",
       "_view_module_version": "^1.2.0",
       "auto_fit_columns": false,
       "auto_fit_params": {
        "area": "all",
        "numCols": null,
        "padding": 30
       },
       "base_column_header_size": 20,
       "base_column_size": 64,
       "base_row_header_size": 64,
       "base_row_size": 20,
       "default_renderer": "IPY_MODEL_76f682d3808f464586aa90dc6ffd23bb",
       "editable": true,
       "header_visibility": "all",
       "layout": "IPY_MODEL_6297f5d71df04fd7b01de1b731ab3e36",
       "selection_mode": "cell"
      }
     },
     "f974c12e0ac6434aa6269d5079abf2f2": {
      "model_module": "@jupyter-widgets/base",
      "model_module_version": "2.0.0",
      "model_name": "LayoutModel",
      "state": {}
     },
     "f9a1fa3d84ef4f418897d5e668492644": {
      "model_module": "@jupyter-widgets/controls",
      "model_module_version": "2.0.0",
      "model_name": "ButtonStyleModel",
      "state": {
       "font_family": null,
       "font_size": null,
       "font_style": null,
       "font_variant": null,
       "font_weight": null,
       "text_color": null,
       "text_decoration": null
      }
     },
     "f9a72d4f213d4908801260b61322dc31": {
      "model_module": "@jupyter-widgets/base",
      "model_module_version": "2.0.0",
      "model_name": "LayoutModel",
      "state": {}
     },
     "f9bd660f05f840648fc590f81978fd3e": {
      "model_module": "@jupyter-widgets/controls",
      "model_module_version": "2.0.0",
      "model_name": "ButtonStyleModel",
      "state": {
       "font_family": null,
       "font_size": null,
       "font_style": null,
       "font_variant": null,
       "font_weight": null,
       "text_color": null,
       "text_decoration": null
      }
     },
     "fa15f840797f4dda9b58659230ff4108": {
      "model_module": "@jupyter-widgets/controls",
      "model_module_version": "2.0.0",
      "model_name": "HBoxModel",
      "state": {
       "children": [
        "IPY_MODEL_b4472218efef4da8ac9f06327d087b4b",
        "IPY_MODEL_ab41702faf414fe797d8b1df3b1decc0",
        "IPY_MODEL_b84eb3fedbed45a28a839ddd42a558ce",
        "IPY_MODEL_6abf86243da24765a675319df07802b2",
        "IPY_MODEL_2693f5b8024b40069e19a0da405dd33a"
       ],
       "layout": "IPY_MODEL_61ea14942e85455ba5e9d08f51cd66ff"
      }
     },
     "fa32d68e47fb466fa4a20f848422d609": {
      "model_module": "@jupyter-widgets/controls",
      "model_module_version": "2.0.0",
      "model_name": "ButtonStyleModel",
      "state": {
       "font_family": null,
       "font_size": null,
       "font_style": null,
       "font_variant": null,
       "font_weight": null,
       "text_color": null,
       "text_decoration": null
      }
     },
     "fa87fbcddc234805986b541d5be0901d": {
      "model_module": "@jupyter-widgets/controls",
      "model_module_version": "2.0.0",
      "model_name": "ButtonModel",
      "state": {
       "description": "Generate Vectors",
       "layout": "IPY_MODEL_5111c063c9624cf99638909533e17be0",
       "style": "IPY_MODEL_74ce9f2db77d4034ae1e9fdd3ea28458",
       "tooltip": null
      }
     },
     "facfd0e538c74dd1a10752bc87d97593": {
      "model_module": "@jupyter-widgets/base",
      "model_module_version": "2.0.0",
      "model_name": "LayoutModel",
      "state": {}
     },
     "fadc096105f64419b6dcb84e38c50e1b": {
      "model_module": "@jupyter-widgets/controls",
      "model_module_version": "2.0.0",
      "model_name": "ButtonModel",
      "state": {
       "description": "Add Row",
       "layout": "IPY_MODEL_330391dc71a54daaa6ee1ae09486f223",
       "style": "IPY_MODEL_44c948d0968f44c69749ff6661df6dae",
       "tooltip": null
      }
     },
     "fadd2e74365843e2b253dae6c09d5537": {
      "model_module": "@jupyter-widgets/base",
      "model_module_version": "2.0.0",
      "model_name": "LayoutModel",
      "state": {}
     },
     "fb2b3ed8908b4a8fbb6ff1ea198f3cf1": {
      "model_module": "@jupyter-widgets/controls",
      "model_module_version": "2.0.0",
      "model_name": "ButtonStyleModel",
      "state": {
       "font_family": null,
       "font_size": null,
       "font_style": null,
       "font_variant": null,
       "font_weight": null,
       "text_color": null,
       "text_decoration": null
      }
     },
     "fb33e0cab67e4f85a1c66945dbc9e6cc": {
      "model_module": "@jupyter-widgets/controls",
      "model_module_version": "2.0.0",
      "model_name": "ButtonStyleModel",
      "state": {
       "font_family": null,
       "font_size": null,
       "font_style": null,
       "font_variant": null,
       "font_weight": null,
       "text_color": null,
       "text_decoration": null
      }
     },
     "fb42298e979b4d35a427781193d96908": {
      "model_module": "@jupyter-widgets/base",
      "model_module_version": "2.0.0",
      "model_name": "LayoutModel",
      "state": {}
     },
     "fb5148af73ed43f09fb364838e9111aa": {
      "model_module": "@jupyter-widgets/base",
      "model_module_version": "2.0.0",
      "model_name": "LayoutModel",
      "state": {}
     },
     "fb52cceeec774b4eb7f82618e6b7f887": {
      "model_module": "@jupyter-widgets/base",
      "model_module_version": "2.0.0",
      "model_name": "LayoutModel",
      "state": {}
     },
     "fb53a72dc18e4edc8eb6b6923cd2ec18": {
      "model_module": "@jupyter-widgets/controls",
      "model_module_version": "2.0.0",
      "model_name": "ButtonModel",
      "state": {
       "description": "Undo",
       "layout": "IPY_MODEL_838dc79a983b494bbfbe2f80f4107970",
       "style": "IPY_MODEL_1b0ff3e77d6f4349b390f40bd271d61a",
       "tooltip": null
      }
     },
     "fb55d810da2747158777d53ab5cec8d8": {
      "model_module": "@jupyter-widgets/base",
      "model_module_version": "2.0.0",
      "model_name": "LayoutModel",
      "state": {}
     },
     "fb56d0ace41b4870bfc1d2da5e76222e": {
      "model_module": "@jupyter-widgets/controls",
      "model_module_version": "2.0.0",
      "model_name": "ButtonModel",
      "state": {
       "description": "Undo",
       "layout": "IPY_MODEL_af510859a62041398ebc3dadb6d5a309",
       "style": "IPY_MODEL_a20ae07f72a74b76ad4f909bd6c7347b",
       "tooltip": null
      }
     },
     "fbb1ace5d7c345118df4e0229031b27f": {
      "model_module": "@jupyter-widgets/base",
      "model_module_version": "2.0.0",
      "model_name": "LayoutModel",
      "state": {}
     },
     "fc20ed1158f145cf9949f251f3a1a103": {
      "model_module": "@jupyter-widgets/controls",
      "model_module_version": "2.0.0",
      "model_name": "ButtonModel",
      "state": {
       "description": "Add Column",
       "layout": "IPY_MODEL_89c9955c94724247aa240ba52319f42f",
       "style": "IPY_MODEL_0d2d864cf9c1409fbc1434bebe78c882",
       "tooltip": null
      }
     },
     "fc47ab9204e642909877791bdc7b6cc3": {
      "model_module": "@jupyter-widgets/base",
      "model_module_version": "2.0.0",
      "model_name": "LayoutModel",
      "state": {}
     },
     "fc860577862d4a4baa992138e33d964c": {
      "model_module": "@jupyter-widgets/controls",
      "model_module_version": "2.0.0",
      "model_name": "ButtonStyleModel",
      "state": {
       "font_family": null,
       "font_size": null,
       "font_style": null,
       "font_variant": null,
       "font_weight": null,
       "text_color": null,
       "text_decoration": null
      }
     },
     "fc9f308f44da487fb971ee9e0c25b199": {
      "model_module": "@jupyter-widgets/controls",
      "model_module_version": "2.0.0",
      "model_name": "ButtonModel",
      "state": {
       "description": "Generate Vectors",
       "layout": "IPY_MODEL_a320bc840527445cb507b702ccad06f2",
       "style": "IPY_MODEL_4701f9967b4d45d0bc9a65522545bfcd",
       "tooltip": null
      }
     },
     "fcdc8d9de6c84cb0b8c38de19ff5f142": {
      "model_module": "@jupyter-widgets/controls",
      "model_module_version": "2.0.0",
      "model_name": "ButtonStyleModel",
      "state": {
       "font_family": null,
       "font_size": null,
       "font_style": null,
       "font_variant": null,
       "font_weight": null,
       "text_color": null,
       "text_decoration": null
      }
     },
     "fd1b23c76c9c41fc94581ddbc3784abf": {
      "model_module": "ipydatagrid",
      "model_module_version": "^1.2.0",
      "model_name": "VegaExprModel",
      "state": {
       "_model_module_version": "^1.2.0",
       "_view_module": "ipydatagrid",
       "_view_module_version": "^1.2.0",
       "_view_name": "VegaExprView"
      }
     },
     "fd4ec1acd38548f38dd1d893f420f198": {
      "model_module": "ipydatagrid",
      "model_module_version": "^1.2.0",
      "model_name": "TextRendererModel",
      "state": {
       "_model_module_version": "^1.2.0",
       "_view_module_version": "^1.2.0",
       "background_color": "IPY_MODEL_74c9e23cf2a249328f2f7d4b1cc556e4",
       "text_color": "IPY_MODEL_e9ff255142bf40808aef3f36740542ea"
      }
     },
     "fd7a2907499745b68d06761be5a20dd5": {
      "model_module": "@jupyter-widgets/controls",
      "model_module_version": "2.0.0",
      "model_name": "ButtonModel",
      "state": {
       "description": "Generate Vectors",
       "layout": "IPY_MODEL_a3af1d841da94b53bbc97417c89448b1",
       "style": "IPY_MODEL_a3ca68b0afbd47b387f5723582842f72",
       "tooltip": null
      }
     },
     "fd9694b20403432a9606fe44d7140dde": {
      "model_module": "@jupyter-widgets/controls",
      "model_module_version": "2.0.0",
      "model_name": "ButtonModel",
      "state": {
       "description": "Add Column",
       "layout": "IPY_MODEL_8c50df3a7101420db6bb2cff58f0d166",
       "style": "IPY_MODEL_fe5a16f95c5b43a59498dea550a5a7b1",
       "tooltip": null
      }
     },
     "fd9fbf357c3e41f2bb3040aa7314bc18": {
      "model_module": "@jupyter-widgets/controls",
      "model_module_version": "2.0.0",
      "model_name": "ButtonModel",
      "state": {
       "description": "Undo",
       "layout": "IPY_MODEL_a6104f7674e04c4d84bb897c5ae77a1f",
       "style": "IPY_MODEL_78c99f81f5bb49de99166004be49efa0",
       "tooltip": null
      }
     },
     "fda0a976a6d94186b9bf3d5fc6a7c6e4": {
      "model_module": "@jupyter-widgets/controls",
      "model_module_version": "2.0.0",
      "model_name": "ButtonModel",
      "state": {
       "description": "Add Column",
       "layout": "IPY_MODEL_d383e4bef7e641c68f37be817b250fbd",
       "style": "IPY_MODEL_161998818c964a74b8fc834595bf86a3",
       "tooltip": null
      }
     },
     "fddada8ff5a547b590f9719ff1cac192": {
      "model_module": "@jupyter-widgets/base",
      "model_module_version": "2.0.0",
      "model_name": "LayoutModel",
      "state": {}
     },
     "fddc56c16448409ca81fb328775651f4": {
      "model_module": "@jupyter-widgets/controls",
      "model_module_version": "2.0.0",
      "model_name": "ButtonStyleModel",
      "state": {
       "font_family": null,
       "font_size": null,
       "font_style": null,
       "font_variant": null,
       "font_weight": null,
       "text_color": null,
       "text_decoration": null
      }
     },
     "fde0c8428824460ba0a181716ef3bffd": {
      "model_module": "@jupyter-widgets/base",
      "model_module_version": "2.0.0",
      "model_name": "LayoutModel",
      "state": {
       "height": "150px"
      }
     },
     "fdf4eb173ebe4724bc5bc9885f490ca2": {
      "model_module": "@jupyter-widgets/controls",
      "model_module_version": "2.0.0",
      "model_name": "ButtonModel",
      "state": {
       "description": "Add Column",
       "layout": "IPY_MODEL_35981a601c8241df92bce835c891613b",
       "style": "IPY_MODEL_06011a4cb2cd473a947cee68b85f0e6f",
       "tooltip": null
      }
     },
     "fe480cab30b947afb096e7bd036ca8b7": {
      "model_module": "@jupyter-widgets/base",
      "model_module_version": "2.0.0",
      "model_name": "LayoutModel",
      "state": {
       "height": "150px"
      }
     },
     "fe567de58da143338186e0b9a20116a0": {
      "model_module": "@jupyter-widgets/base",
      "model_module_version": "2.0.0",
      "model_name": "LayoutModel",
      "state": {}
     },
     "fe5a16f95c5b43a59498dea550a5a7b1": {
      "model_module": "@jupyter-widgets/controls",
      "model_module_version": "2.0.0",
      "model_name": "ButtonStyleModel",
      "state": {
       "font_family": null,
       "font_size": null,
       "font_style": null,
       "font_variant": null,
       "font_weight": null,
       "text_color": null,
       "text_decoration": null
      }
     },
     "fe99767fe127411aa340b64100c55f13": {
      "model_module": "@jupyter-widgets/controls",
      "model_module_version": "2.0.0",
      "model_name": "VBoxModel",
      "state": {
       "children": [
        "IPY_MODEL_b90fd13bcd224e26b729b76a8bc2eb52",
        "IPY_MODEL_02001d17bf0f4da6a72482728dd88e8f",
        "IPY_MODEL_5d405a0c11f84f6a8f8e24c7d434f44a"
       ],
       "layout": "IPY_MODEL_3b276a551a9a41048ef1a5da6c8a1465"
      }
     },
     "fe9d29a6fd2647a48dc3206ed3d25139": {
      "model_module": "@jupyter-widgets/base",
      "model_module_version": "2.0.0",
      "model_name": "LayoutModel",
      "state": {}
     },
     "fea97c21f980445d8581130234135a5a": {
      "model_module": "@jupyter-widgets/base",
      "model_module_version": "2.0.0",
      "model_name": "LayoutModel",
      "state": {}
     },
     "fece25e7d2764e9baf088460b71a220e": {
      "model_module": "@jupyter-widgets/controls",
      "model_module_version": "2.0.0",
      "model_name": "ButtonModel",
      "state": {
       "description": "Generate Vectors",
       "layout": "IPY_MODEL_5af5187a4807430e9eb5475da9ea9657",
       "style": "IPY_MODEL_386f4810e28348e1bb0a8aaf38936abd",
       "tooltip": null
      }
     },
     "ff09848af57445299ac1ffc843c27b8a": {
      "model_module": "@jupyter-widgets/controls",
      "model_module_version": "2.0.0",
      "model_name": "ButtonModel",
      "state": {
       "description": "Generate Vectors",
       "layout": "IPY_MODEL_2a21e577ab8a405abeb57cf71df98291",
       "style": "IPY_MODEL_126e589aece3460cba1bec96e092411a",
       "tooltip": null
      }
     },
     "ff487c375bd94f9499b1ec98f78997c9": {
      "model_module": "@jupyter-widgets/base",
      "model_module_version": "2.0.0",
      "model_name": "LayoutModel",
      "state": {}
     },
     "ff59f9b8d9ee48c5a5b8fc7e18214220": {
      "model_module": "@jupyter-widgets/controls",
      "model_module_version": "2.0.0",
      "model_name": "ButtonModel",
      "state": {
       "description": "Add Row",
       "layout": "IPY_MODEL_1ccf940b1fea49809b5c45208c09b473",
       "style": "IPY_MODEL_95872ae28ab04043a6d7533b45985766",
       "tooltip": null
      }
     },
     "ff5f87edaab04f38875d7ce03718d5ef": {
      "model_module": "@jupyter-widgets/base",
      "model_module_version": "2.0.0",
      "model_name": "LayoutModel",
      "state": {}
     }
    },
    "version_major": 2,
    "version_minor": 0
   }
  }
 },
 "nbformat": 4,
 "nbformat_minor": 5
}
