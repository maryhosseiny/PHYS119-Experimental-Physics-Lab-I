{
 "cells": [
  {
   "cell_type": "markdown",
   "id": "10129cf0-f314-4d11-9b4a-e8580785b7bf",
   "metadata": {},
   "source": [
    " # Lab 3 - The Pendulum I"
   ]
  },
  {
   "cell_type": "code",
   "execution_count": 25,
   "id": "bb41a3e5-6dc2-4689-8f6b-c571553096ce",
   "metadata": {
    "colab": {
     "base_uri": "https://localhost:8080/",
     "height": 34,
     "referenced_widgets": [
      "f4867fcd1bc84f73a8ebaf6d3fe7f93a",
      "d034be63185d4811a05ec0f093d02d7a",
      "bd6d356d711e4792a1e9ada201d26b78",
      "c0d9513060084283a214f5c8f025ecf0",
      "da2defae0a8e4905a29dc8d3ca8a42e3",
      "60dc88a1698c461187c3481c679c7b71",
      "5f73d93446b34030af9201112526626f",
      "4d3b430ac5934818a7693c1a6a3d9355",
      "0bedf7f9be8a49378ea8f37f9c2ebf16",
      "ea117ac05b9b41c082cd9d62ef94d518",
      "124f9831f181482eb784405723a8b2d0",
      "8e1cbf36822a474ebdf82a80a5681924",
      "f8023654ea164371b4e3f37957a06c8a",
      "e1709bb85bb34c7e997f035a4c7560b8",
      "5a1355ddfd1840c2bc9de6ebd7342682",
      "624675d0d30242d6bf1213deb6e3f624",
      "699f933c64d24cafa5bfd5e0a1fc397a",
      "d58d95defca340b885a9e405134fc887",
      "58cf21d8ac234496bad2ebd7ae7f2a1d",
      "5e2883b7e2ba4d6d8a1352e621a8183f",
      "ffe3c8f2bda74603a92742464e69ba6b",
      "7ce01fb43382463f9ae0ad311d7b5dc4"
     ]
    },
    "id": "26726484-93c7-499a-9f34-d4656ef6df5a",
    "outputId": "82f6fee3-86ff-43e5-8b52-64b7eb4467ab"
   },
   "outputs": [],
   "source": [
    "# Make sure to run this cell before running any other code cells\n",
    "%reset -f\n",
    "import numpy as np\n",
    "import data_entry2"
   ]
  },
  {
   "cell_type": "markdown",
   "id": "06bab186-614b-4f20-b1e1-cde1032a8eeb",
   "metadata": {},
   "source": [
    "***Edit the following cell to provide the information requested:***"
   ]
  },
  {
   "cell_type": "markdown",
   "id": "883c8daf-e901-4c0e-a0d7-d9c7dc0d6621",
   "metadata": {},
   "source": [
    "- Your name: Mary Hosseini\n",
    "- Your student number: 41004235\n",
    "- Partner's name: Vanessa Lau"
   ]
  },
  {
   "cell_type": "markdown",
   "id": "6bc2f65e-1838-4b3d-adcd-a78a7f7b17e8",
   "metadata": {},
   "source": [
    "## Part A - Intro and announcements"
   ]
  },
  {
   "cell_type": "markdown",
   "id": "658cad60-0137-47fd-9a6e-2bdfccbacfae",
   "metadata": {},
   "source": [
    "***TA grading feedback here:***\n",
    "- Feedback: \"In the future please further justify your uncertainties (why you have this confidence interval) and double check your significant figures!\"\n",
    "\n",
    "We will make sure to include why we chose those certain confidence intervals and double check our significant figures :) "
   ]
  },
  {
   "cell_type": "markdown",
   "id": "fa12b576",
   "metadata": {},
   "source": [
    "## Part B - Invention Activity"
   ]
  },
  {
   "cell_type": "markdown",
   "id": "14db7de9",
   "metadata": {},
   "source": [
    "***Notes from the invention activity. Make sure to include a formula for the new statistical tool and a description of how to use and interpret it.*** \n",
    "\n"
   ]
  },
  {
   "cell_type": "markdown",
   "id": "da67e074",
   "metadata": {},
   "source": [
    "- Uncertainty used to make comparisons (from experimental steps this is when you would \"compare with model or other data\" in other words, comparing your results with some other results)\n",
    "- We worked through our understandings of what we had first. This is explained in the student solution section below\n",
    "\n",
    "### Student Solution\n",
    "- We came up with $\\frac{A-B}{|u_A^2| + |u_B^2|}$. We chose A-B to be because we know we needed the difference between the two distributions, we also knew that our confidence would increase as the distance between the curves increased, hence why we put it up top. We then decided to take the absolute value of the uncertainties then add them together and put it in the denomenator so that we could accurately calculate our confidence between 1-4. This however was not successful because we would get really high or really low values and nothing in between. \n",
    "\n",
    "\n",
    "### Instructor Solution:\n",
    "- Introduction: We take the absolute value of $A-B$ to ensure that we will always have positive distribution difference. This solution however doesn't account for the uncertainty\n",
    "- Solution two (t-score The correct solution): We take the absolute value of $A-B$ to keep the difference between the distributions positive. We then divide that by the square root of $u_A^2 + u_B^2$. This way we can be confident in the two distributions when we have a big value for the difference between distributions and/or when we have a small amount of uncertainty. \n",
    "- We call this a t-score value. The closer the t-score is to 5, the more confidence you have that the results are different for that given relative uncertainty. The closer the t-score is to 1, you are not confident at all that that the results are different. If the t-score is closer to \n",
    "- A higher t-score with a lower relative uncertainty, the higher is your confidence in different results. A high relative uncertainty and a high t-score, means there's a difference with results with low reliability. A low t-score with a low relative uncertainty, means you have low confidence but the data has high reliability. Lastly a low confidence occurs when you have high uncertainty and low t-score, in this case you are not confident because there's low reliability and difference. \n",
    "\n",
    "## Reporting t-scores\n",
    "1) Report t-score value\n",
    "2) Confidence\n",
    "3) Report relative uncertainty\n",
    "- Provided with examples in class: \"We are extremely confident there is a difference because our t-score was 7.4, this is a very reliable measurement because we had really low relative uncertainties of 0.001 and 0.004, much lower than other groups.\"\n",
    "\n",
    "## Examples Calculations:\n",
    "- First cell is Pair One t-score and second cell is Pair Two t-score"
   ]
  },
  {
   "cell_type": "code",
   "execution_count": 26,
   "id": "0ddd7788-d897-4d72-94cf-c65639bf0afe",
   "metadata": {
    "tags": []
   },
   "outputs": [
    {
     "data": {
      "text/plain": [
       "0.4714045207910317"
      ]
     },
     "execution_count": 26,
     "metadata": {},
     "output_type": "execute_result"
    }
   ],
   "source": [
    "np.abs(45-35)/ np.sqrt(15**2 + 15**2)"
   ]
  },
  {
   "cell_type": "code",
   "execution_count": 27,
   "id": "93bca531-a16f-4656-986f-5bc0d7ff17d3",
   "metadata": {
    "tags": []
   },
   "outputs": [
    {
     "data": {
      "text/plain": [
       "5.65685424949238"
      ]
     },
     "execution_count": 27,
     "metadata": {},
     "output_type": "execute_result"
    }
   ],
   "source": [
    "np.abs(20-60)/ np.sqrt(5**2 + 5**2)"
   ]
  },
  {
   "cell_type": "markdown",
   "id": "0bf9f813-2fb3-46e1-a83e-df454787d388",
   "metadata": {},
   "source": [
    "## Part C - Start of familiarization"
   ]
  },
  {
   "cell_type": "markdown",
   "id": "603c4e3a-29a1-40ba-a8df-12eada3ba547",
   "metadata": {},
   "source": [
    "***Discuss the experimental goal and familiarization done in Part C of the student instructions. You can also add any observations from your prelab interactions with the simulation here. Write down a measurement plan for your first round of data collection.***"
   ]
  },
  {
   "cell_type": "markdown",
   "id": "c6fdf7b0",
   "metadata": {},
   "source": [
    "The experimental goal is to determine if the period of a pendulum depends on amplitude by comparing the period with initial release angles of 10° and 20°. From the measurements done in the prelab and from comparing prelab results with other students, we think that the period of a pendulum does not depend on the amplitude because the angle difference is so small. \n",
    "\n",
    "### Measurement Plan\n",
    "We will use a UBC student card to make sure the string of the pendulum lined up with the correct angle we are looking for. For example when we want our pendulum to start from 15 degree. We lined up the ubc card with the correct angle first then we pull the pendulum until it was correctly lined up with the card. After which we release the pendulum and start the timer to measure the pendulum doing 10 cycles (10 times of it moving back and forth to the same spot). \n",
    "\n",
    "### Comparison to Stimulation\n",
    "The stimulation was a lot easier and took less time to line up. In real life preparation for the pendulum to be correctly lined up and ready to be let go took around 2-3 minutes. Another difference is that the real life pendulum needed to be lined up using two people, it would be more difficult to perform this with one person. "
   ]
  },
  {
   "cell_type": "markdown",
   "id": "308df9a4",
   "metadata": {},
   "source": [
    "## Part D - Class discussion of pre-lab results"
   ]
  },
  {
   "cell_type": "markdown",
   "id": "98bbc1b6",
   "metadata": {},
   "source": [
    "- From the example results, we can see that as we do more trails, the uncertainty decreases therefore reduce uncertainty with doing more cycles and trials\n",
    "- Average Period formula: $T_{Ave} = \\frac{t_{ave}}{M_{cycles}}$\n",
    "- Uncertainty from the example results: relative uncertainty decreases so the confidence increases\n",
    "- Uncertainty formula: $u_{T_{Ave}} = \\frac{u_{t_{ave}}}{M_{cycles}}$\n",
    "- Aim should be to be able to get an accurate t-score with low uncertainty so that we can be confident in our results"
   ]
  },
  {
   "cell_type": "markdown",
   "id": "83d33fcb-6d91-4c37-998b-173e9fb0f65d",
   "metadata": {},
   "source": [
    "## Part E - Measurements and Analysis"
   ]
  },
  {
   "cell_type": "markdown",
   "id": "039d956c-b989-42e9-8367-d218de62679f",
   "metadata": {},
   "source": [
    "***Write some notes below detailing your initial measurement plan***"
   ]
  },
  {
   "cell_type": "markdown",
   "id": "4ce31b01-2acc-4cbd-a949-90cd8c8ca07e",
   "metadata": {},
   "source": [
    "We used a UBC student card to make sure the string of the pendulum lined up with the correct angle we were looking for. For example when we wanted our pendulum to start from 15 degree. We lined up the ubc card with the correct angle first then we pulled the pendulum until it was correctly lined up with the card. After which we released the pendulum. \n",
    "\n",
    "We repeated this for a total of 10 trials and we also measured for the pendulum to go for 10 cycles before we stopped the timer. \n",
    "\n",
    "We chose 10 cycles because we saw from the results displayed in the presentation that the higher the cycles the lower the uncertainty. "
   ]
  },
  {
   "cell_type": "markdown",
   "id": "c6677981-9e16-458c-a38c-2fd16879fdff",
   "metadata": {},
   "source": [
    "***Use the cell below to load in a blank spreadsheet to fill in with your initial round of data. (Note that you should have 2 columns of data, of equal length.)***"
   ]
  },
  {
   "cell_type": "code",
   "execution_count": 28,
   "id": "11fcd5cf-3996-4878-9a64-70417859e239",
   "metadata": {},
   "outputs": [
    {
     "name": "stdout",
     "output_type": "stream",
     "text": [
      "Sheet name: lab03_1.csv\n"
     ]
    },
    {
     "data": {
      "application/vnd.jupyter.widget-view+json": {
       "model_id": "4e64542698304e909399e6a14b53c90e",
       "version_major": 2,
       "version_minor": 0
      },
      "text/plain": [
       "VBox(children=(HBox(children=(Button(description='Undo', style=ButtonStyle()), Button(description='Redo', styl…"
      ]
     },
     "metadata": {},
     "output_type": "display_data"
    }
   ],
   "source": [
    "de1 = data_entry2.sheet(\"lab03_1\")"
   ]
  },
  {
   "cell_type": "markdown",
   "id": "646cf611-7a78-44ec-ab99-54d855c531d0",
   "metadata": {},
   "source": [
    "***Use the cell below for your analysis code. Insert additional cells below as needed. (Note that you can copy in and update your analysis code from the prelab.)***"
   ]
  },
  {
   "cell_type": "code",
   "execution_count": 29,
   "id": "7d9b1e93-dfe3-4a1b-bed5-4bcff2f1c49f",
   "metadata": {},
   "outputs": [
    {
     "name": "stdout",
     "output_type": "stream",
     "text": [
      "Average of t1 is 18.517000000000003\n",
      "Standard deviation of t1 is 0.11106054404893045\n",
      "Average of period1 is 0.18517\n",
      "Standard deviation of period1 is 0.0011106054404893045\n",
      "Relative uncertainty of t1 is 0.011106054404893045\n",
      "Relative uncertainty of period1 is 0.00011106054404893046\n",
      "Average of t1 is 18.58\n",
      "Standard deviation of t1 is 0.11498792207106913\n",
      "Average of period1 is 0.18580000000000002\n",
      "Standard deviation of period2 is 0.001149879220710693\n",
      "Relative uncertainty of t2 is 0.011106054404893045\n",
      "Relative uncertainty of period2 is 0.00011106054404893046\n",
      "The t-score value is 0.3940836756245743\n"
     ]
    }
   ],
   "source": [
    "# For Angle = 10\n",
    "t1Ave = np.mean(Time10Vec)\n",
    "print(\"Average of t1 is\", t1Ave)\n",
    "ut1Ave = np.std(Time10Vec, ddof=1)\n",
    "print(\"Standard deviation of t1 is\", ut1Ave)\n",
    "\n",
    "T1Ave = np.mean(Period10Vec/10)\n",
    "print(\"Average of period1 is\", T1Ave)\n",
    "uT1Ave = np.std(Period10Vec/10, ddof=1)\n",
    "print(\"Standard deviation of period1 is\", uT1Ave)\n",
    "\n",
    "t1Count = Time10Vec\n",
    "\n",
    "relt1ave = ut1Ave/len(t1Count)\n",
    "print(\"Relative uncertainty of t1 is\", relt1ave)\n",
    "relT1ave = uT1Ave/len(t1Count)\n",
    "print(\"Relative uncertainty of period1 is\", relT1ave)\n",
    "\n",
    "# For Angle = 20\n",
    "t2Ave = np.mean(Time20Vec)\n",
    "print(\"Average of t1 is\", t2Ave)\n",
    "ut2Ave = np.std(Time20Vec, ddof=1)\n",
    "print(\"Standard deviation of t1 is\", ut2Ave)\n",
    "\n",
    "T2Ave = np.mean(Period20Vec/10)\n",
    "print(\"Average of period1 is\", T2Ave)\n",
    "uT2Ave = np.std(Period20Vec/10, ddof=1)\n",
    "print(\"Standard deviation of period2 is\", uT2Ave)\n",
    "\n",
    "t2Count = Time20Vec\n",
    "\n",
    "relt2ave = ut1Ave/len(t2Count)\n",
    "print(\"Relative uncertainty of t2 is\", relt2ave)\n",
    "relT2ave = uT1Ave/len(t2Count)\n",
    "print(\"Relative uncertainty of period2 is\", relT2ave)\n",
    "\n",
    "# t-score value\n",
    "tScore = np.abs(T2Ave-T1Ave)/np.sqrt(uT2Ave**2+uT1Ave**2)\n",
    "print(\"The t-score value is\", tScore)"
   ]
  },
  {
   "cell_type": "markdown",
   "id": "45ae3def-3190-4cab-a047-cdff4faa4237",
   "metadata": {},
   "source": [
    "***Reflect on the results of your first round below***"
   ]
  },
  {
   "cell_type": "markdown",
   "id": "2b0b3691-029f-4909-8fd4-eadb93e5a0fa",
   "metadata": {},
   "source": [
    "The t-score that we got is relatively low (0.39408) and our relative uncertainty was 0.00011 and 0.00011, so we are not confident that the values are different. Other groups had a higher relative uncertainty 0.05900 and 0.02900, and a lower t-score of 1.8000 whereas ours was much lower so we know that our results have more reliable measurements. "
   ]
  },
  {
   "cell_type": "markdown",
   "id": "2f27654a-0070-4b0b-90fb-f0d9f5e22b0f",
   "metadata": {},
   "source": [
    "***Iterative cycles of improvements if your have time, or come up with an improvement for Lab 4***"
   ]
  },
  {
   "cell_type": "markdown",
   "id": "33530a4f-c796-47bc-af79-ce4dd13ccaf5",
   "metadata": {},
   "source": [
    "For the next lab a strategy that we could implement is increasing the M and increasing the number of trials so that we could get a more accurate result. By increasing the number of trials we can improve accuracy, and by increasing M, we can decrease relative uncertainty. We could also line up the pendulum more accurately with the angle ruler so that we could get more accurate and precise results. "
   ]
  },
  {
   "cell_type": "markdown",
   "id": "7df7ff5a-0df9-4085-a91e-6d98e4b8d5be",
   "metadata": {},
   "source": [
    "## Part F - COMPLETE YOUR SUMMARY OF RESULTS AND SUBMIT"
   ]
  },
  {
   "cell_type": "markdown",
   "id": "8778f9ab-d956-4dfa-9319-daa7fa4611ea",
   "metadata": {},
   "source": [
    "### A brief summary of your key results and key comparisons in 1-2 sentences.\n",
    "\n",
    "The t-value that we got is 0.39408 with relative uncertainty of 0.00011 and 0.00011, however we are not confident that the Period values are different. Other groups had higher relative uncertainties of 0.05900 and 0.02900 and lower t-score of 1.8000 and since ours had lower uncertainty, we are assured that our results have more reliable measurements. \n",
    "\n",
    "### 1-2 sentences addressing the experimental goal and describing the conclusions you can make from the results of your comparisons.\n",
    "The goal of this lab was to determine if the period of a pendulum depends on amplitude. This was done by comparing the period with initial release angles of 10° and 20°. From our results, we can deduce that the period of a pendulum does not depend on the amplitude. Our deduction is based on the fact that we have a low t-score and low relative uncertainties (so we know that our measurements are accurate). \n",
    "\n",
    "### 1 sentence containing your thoughts for further investigation. If you were to spend more time with this experiment, what would you plan to do next?\n",
    "\n",
    "We would increase the number of trials and we would change the number of swings of the pendulum (increase it) so that we can ensure we get more accurate results. "
   ]
  },
  {
   "cell_type": "markdown",
   "id": "28df5d2b-5cb5-4ae4-aceb-ad6c1809c9b0",
   "metadata": {},
   "source": []
  },
  {
   "cell_type": "markdown",
   "id": "818f2cae-2811-4d42-8a06-9a1ba2a26da1",
   "metadata": {},
   "source": [
    "# Submit\n",
    "\n",
    "Steps for submission:\n",
    "\n",
    "1. Click: Run => Run_All_Cells\n",
    "2. Read through the notebook to ensure all the cells executed correctly and without error.\n",
    "3. Correct any errors you find.\n",
    "4. File => Save_and_Export_Notebook_As->HTML\n",
    "5. Upload the HTML document to the lab submission assignment on Canvas."
   ]
  },
  {
   "cell_type": "code",
   "execution_count": 30,
   "id": "645481c6-3c5c-4813-80a3-7a242297fbba",
   "metadata": {},
   "outputs": [
    {
     "name": "stdout",
     "output_type": "stream",
     "text": [
      "Sheet: de1   File: lab03_1.csv\n"
     ]
    },
    {
     "data": {
      "text/html": [
       "<div>\n",
       "<style scoped>\n",
       "    .dataframe tbody tr th:only-of-type {\n",
       "        vertical-align: middle;\n",
       "    }\n",
       "\n",
       "    .dataframe tbody tr th {\n",
       "        vertical-align: top;\n",
       "    }\n",
       "\n",
       "    .dataframe thead th {\n",
       "        text-align: right;\n",
       "    }\n",
       "</style>\n",
       "<table border=\"1\" class=\"dataframe\">\n",
       "  <thead>\n",
       "    <tr style=\"text-align: right;\">\n",
       "      <th></th>\n",
       "      <th>Time15</th>\n",
       "      <th>Period15</th>\n",
       "      <th>Time20</th>\n",
       "      <th>Period20</th>\n",
       "      <th>Time10</th>\n",
       "      <th>Period10</th>\n",
       "    </tr>\n",
       "  </thead>\n",
       "  <tbody>\n",
       "    <tr>\n",
       "      <th>Units</th>\n",
       "      <td>seconds</td>\n",
       "      <td>seconds</td>\n",
       "      <td>seconds</td>\n",
       "      <td>seconds</td>\n",
       "      <td>seconds</td>\n",
       "      <td>seconds</td>\n",
       "    </tr>\n",
       "    <tr>\n",
       "      <th>0</th>\n",
       "      <td>18.42</td>\n",
       "      <td>1.842</td>\n",
       "      <td>18.6</td>\n",
       "      <td>1.86</td>\n",
       "      <td>18.71</td>\n",
       "      <td>1.871</td>\n",
       "    </tr>\n",
       "    <tr>\n",
       "      <th>1</th>\n",
       "      <td>18.46</td>\n",
       "      <td>1.846</td>\n",
       "      <td>18.33</td>\n",
       "      <td>1.833</td>\n",
       "      <td>18.43</td>\n",
       "      <td>1.843</td>\n",
       "    </tr>\n",
       "    <tr>\n",
       "      <th>2</th>\n",
       "      <td>18.41</td>\n",
       "      <td>1.841</td>\n",
       "      <td>18.59</td>\n",
       "      <td>1.859</td>\n",
       "      <td>18.42</td>\n",
       "      <td>1.842</td>\n",
       "    </tr>\n",
       "    <tr>\n",
       "      <th>3</th>\n",
       "      <td>18.42</td>\n",
       "      <td>1.842</td>\n",
       "      <td>18.59</td>\n",
       "      <td>1.859</td>\n",
       "      <td>18.57</td>\n",
       "      <td>1.857</td>\n",
       "    </tr>\n",
       "    <tr>\n",
       "      <th>4</th>\n",
       "      <td>18.21</td>\n",
       "      <td>1.821</td>\n",
       "      <td>18.72</td>\n",
       "      <td>1.872</td>\n",
       "      <td>18.34</td>\n",
       "      <td>1.834</td>\n",
       "    </tr>\n",
       "    <tr>\n",
       "      <th>5</th>\n",
       "      <td>18.32</td>\n",
       "      <td>1.832</td>\n",
       "      <td>18.58</td>\n",
       "      <td>1.858</td>\n",
       "      <td>18.44</td>\n",
       "      <td>1.844</td>\n",
       "    </tr>\n",
       "    <tr>\n",
       "      <th>6</th>\n",
       "      <td>18.50</td>\n",
       "      <td>1.850</td>\n",
       "      <td>18.45</td>\n",
       "      <td>1.845</td>\n",
       "      <td>18.58</td>\n",
       "      <td>1.858</td>\n",
       "    </tr>\n",
       "    <tr>\n",
       "      <th>7</th>\n",
       "      <td>18.47</td>\n",
       "      <td>1.847</td>\n",
       "      <td>18.65</td>\n",
       "      <td>1.865</td>\n",
       "      <td>18.50</td>\n",
       "      <td>1.850</td>\n",
       "    </tr>\n",
       "    <tr>\n",
       "      <th>8</th>\n",
       "      <td>18.39</td>\n",
       "      <td>1.839</td>\n",
       "      <td>18.70</td>\n",
       "      <td>1.87</td>\n",
       "      <td>18.62</td>\n",
       "      <td>1.862</td>\n",
       "    </tr>\n",
       "    <tr>\n",
       "      <th>9</th>\n",
       "      <td>18.27</td>\n",
       "      <td>1.827</td>\n",
       "      <td>18.59</td>\n",
       "      <td>1.859</td>\n",
       "      <td>18.56</td>\n",
       "      <td>1.856</td>\n",
       "    </tr>\n",
       "  </tbody>\n",
       "</table>\n",
       "</div>"
      ],
      "text/plain": [
       "        Time15 Period15   Time20 Period20   Time10 Period10\n",
       "Units  seconds  seconds  seconds  seconds  seconds  seconds\n",
       "0        18.42    1.842     18.6     1.86    18.71    1.871\n",
       "1        18.46    1.846    18.33    1.833    18.43    1.843\n",
       "2        18.41    1.841    18.59    1.859    18.42    1.842\n",
       "3        18.42    1.842    18.59    1.859    18.57    1.857\n",
       "4        18.21    1.821    18.72    1.872    18.34    1.834\n",
       "5        18.32    1.832    18.58    1.858    18.44    1.844\n",
       "6        18.50    1.850    18.45    1.845    18.58    1.858\n",
       "7        18.47    1.847    18.65    1.865    18.50    1.850\n",
       "8        18.39    1.839    18.70     1.87    18.62    1.862\n",
       "9        18.27    1.827    18.59    1.859    18.56    1.856"
      ]
     },
     "metadata": {},
     "output_type": "display_data"
    }
   ],
   "source": [
    "# trick to display tables in html output\n",
    "display_sheets()"
   ]
  }
 ],
 "metadata": {
  "kernelspec": {
   "display_name": "Python 3 (ipykernel)",
   "language": "python",
   "name": "python3"
  },
  "language_info": {
   "codemirror_mode": {
    "name": "ipython",
    "version": 3
   },
   "file_extension": ".py",
   "mimetype": "text/x-python",
   "name": "python",
   "nbconvert_exporter": "python",
   "pygments_lexer": "ipython3",
   "version": "3.10.8"
  },
  "widgets": {
   "application/vnd.jupyter.widget-state+json": {
    "state": {
     "01ee696f5fcd449dab0ce91a5803707c": {
      "model_module": "ipydatagrid",
      "model_module_version": "^1.2.0",
      "model_name": "DataGridModel",
      "state": {
       "_data": {
        "data": [
         {
          "0": "Time15",
          "1": "Period15",
          "2": "Time20",
          "3": "Period20",
          "4": "Time10",
          "5": "Period10",
          "ipydguuid": 0,
          "key": "  Variable:"
         },
         {
          "0": "seconds",
          "1": "seconds",
          "2": "seconds",
          "3": "seconds",
          "4": "seconds",
          "5": "seconds",
          "ipydguuid": 1,
          "key": " Units:"
         },
         {
          "0": "18.42",
          "1": "1.842",
          "2": "18.6",
          "3": "1.86",
          "4": "18.71",
          "5": "1.871",
          "ipydguuid": 2,
          "key": 0
         },
         {
          "0": "18.46",
          "1": "1.846",
          "2": "18.33",
          "3": "1.833",
          "4": "18.43",
          "5": "1.843",
          "ipydguuid": 3,
          "key": 1
         },
         {
          "0": "18.41",
          "1": "1.841",
          "2": "18.59",
          "3": "1.859",
          "4": "18.42",
          "5": "1.842",
          "ipydguuid": 4,
          "key": 2
         },
         {
          "0": "18.42",
          "1": "1.842",
          "2": "18.59",
          "3": "1.859",
          "4": "18.57",
          "5": "1.857",
          "ipydguuid": 5,
          "key": 3
         },
         {
          "0": "18.21",
          "1": "1.821",
          "2": "18.72",
          "3": "1.872",
          "4": "18.34",
          "5": "1.834",
          "ipydguuid": 6,
          "key": 4
         },
         {
          "0": "18.32",
          "1": "1.832",
          "2": "18.58",
          "3": "1.858",
          "4": "18.44",
          "5": "1.844",
          "ipydguuid": 7,
          "key": 5
         },
         {
          "0": "18.50",
          "1": "1.850",
          "2": "18.45",
          "3": "1.845",
          "4": "18.58",
          "5": "1.858",
          "ipydguuid": 8,
          "key": 6
         },
         {
          "0": "18.47",
          "1": "1.847",
          "2": "18.65",
          "3": "1.865",
          "4": "18.50",
          "5": "1.850",
          "ipydguuid": 9,
          "key": 7
         },
         {
          "0": "18.39",
          "1": "1.839",
          "2": "18.70",
          "3": "1.87",
          "4": "18.62",
          "5": "1.862",
          "ipydguuid": 10,
          "key": 8
         },
         {
          "0": "18.27",
          "1": "1.827",
          "2": "18.59",
          "3": "1.859",
          "4": "18.56",
          "5": "1.856",
          "ipydguuid": 11,
          "key": 9
         }
        ],
        "fields": [
         {
          "key": null
         },
         {
          "0": null
         },
         {
          "1": null
         },
         {
          "2": null
         },
         {
          "3": null
         },
         {
          "4": null
         },
         {
          "5": null
         },
         {
          "ipydguuid": null
         }
        ],
        "schema": {
         "fields": [
          {
           "name": "key",
           "type": "string"
          },
          {
           "name": 0,
           "type": "string"
          },
          {
           "name": 1,
           "type": "string"
          },
          {
           "name": 2,
           "type": "string"
          },
          {
           "name": 3,
           "type": "string"
          },
          {
           "name": 4,
           "type": "string"
          },
          {
           "name": 5,
           "type": "string"
          },
          {
           "name": "ipydguuid",
           "type": "integer"
          }
         ],
         "pandas_version": "1.4.0",
         "primaryKey": [
          "key",
          "ipydguuid"
         ],
         "primaryKeyUuid": "ipydguuid"
        }
       },
       "_model_module_version": "^1.2.0",
       "_model_name": "DataGridModel",
       "_view_module_version": "^1.2.0",
       "auto_fit_columns": false,
       "auto_fit_params": {
        "area": "all",
        "numCols": null,
        "padding": 30
       },
       "base_column_header_size": 20,
       "base_column_size": 64,
       "base_row_header_size": 64,
       "base_row_size": 20,
       "default_renderer": "IPY_MODEL_939ba9184c0c4dcd9c14bb04ef2fe720",
       "editable": true,
       "header_visibility": "all",
       "layout": "IPY_MODEL_af9c56c0f5c548b2a85a23a3328893ad",
       "selection_mode": "cell"
      }
     },
     "026925770d5946c698847ddc81c16eb2": {
      "model_module": "@jupyter-widgets/controls",
      "model_module_version": "2.0.0",
      "model_name": "VBoxModel",
      "state": {
       "children": [
        "IPY_MODEL_a1a8af650f514b039331f6b040fe88f2",
        "IPY_MODEL_bc35a780215d43c08721240b44759366",
        "IPY_MODEL_2a4c5da6c7884344b3da827086b7595d"
       ],
       "layout": "IPY_MODEL_2948d8ce4fb149a3b30867ba31f6d4e4"
      }
     },
     "0312f86823a842dfa766a7f2fb8e180b": {
      "model_module": "@jupyter-widgets/controls",
      "model_module_version": "2.0.0",
      "model_name": "ButtonModel",
      "state": {
       "description": "Add Column",
       "layout": "IPY_MODEL_3a3ef29aea574d70bf62829de731c524",
       "style": "IPY_MODEL_7bdca27094e74300a92bcc6735b3324d",
       "tooltip": null
      }
     },
     "0d8d7e6fc53141f7b8b9e1a737f5252a": {
      "model_module": "@jupyter-widgets/controls",
      "model_module_version": "2.0.0",
      "model_name": "ButtonModel",
      "state": {
       "description": "Add Column",
       "layout": "IPY_MODEL_deb282d488fe493e883347f7ac01c341",
       "style": "IPY_MODEL_6c7bb0949f7a48c7aabba98e1e3cc059",
       "tooltip": null
      }
     },
     "13b63f9258244f5db275e342e0f91da0": {
      "model_module": "@jupyter-widgets/base",
      "model_module_version": "2.0.0",
      "model_name": "LayoutModel",
      "state": {}
     },
     "1511b1756b3e4acc91cb214669484423": {
      "model_module": "@jupyter-widgets/output",
      "model_module_version": "1.0.0",
      "model_name": "OutputModel",
      "state": {
       "layout": "IPY_MODEL_5606735d5b9342779a880ef57b824285",
       "outputs": [
        {
         "name": "stdout",
         "output_type": "stream",
         "text": "Found 10 valid rows\n\nCreated array:\n Time15Vec = np.array([18.42, 18.46, 18.41, 18.42, 18.21, 18.32, 18.5, 18.47, 18.39, 18.27])\n\nCreated array:\n Period15Vec = np.array([1.842, 1.846, 1.841, 1.842, 1.821, 1.832, 1.85, 1.847, 1.839, 1.827])\n\nCreated array:\n Time20Vec = np.array([18.6, 18.33, 18.59, 18.59, 18.72, 18.58, 18.45, 18.65, 18.7, 18.59])\n\nCreated array:\n Period20Vec = np.array([1.86, 1.833, 1.859, 1.859, 1.872, 1.858, 1.845, 1.865, 1.87, 1.859])\n\nCreated array:\n Time10Vec = np.array([18.71, 18.43, 18.42, 18.57, 18.34, 18.44, 18.58, 18.5, 18.62, 18.56])\n\nCreated array:\n Period10Vec = np.array([1.871, 1.843, 1.842, 1.857, 1.834, 1.844, 1.858, 1.85, 1.862, 1.856])\n"
        }
       ]
      }
     },
     "1a2ba9fb9e324d7998ec67909a046ee2": {
      "model_module": "@jupyter-widgets/base",
      "model_module_version": "2.0.0",
      "model_name": "LayoutModel",
      "state": {}
     },
     "1d93805b8b9a42a68341b329a7cf0851": {
      "model_module": "@jupyter-widgets/controls",
      "model_module_version": "2.0.0",
      "model_name": "ButtonModel",
      "state": {
       "description": "Add Column",
       "layout": "IPY_MODEL_201a16b194b34411bd8fb5825fa17c36",
       "style": "IPY_MODEL_f88234d1e97f4ae2ad9218ae3aabd407",
       "tooltip": null
      }
     },
     "201a16b194b34411bd8fb5825fa17c36": {
      "model_module": "@jupyter-widgets/base",
      "model_module_version": "2.0.0",
      "model_name": "LayoutModel",
      "state": {}
     },
     "2553907934c34fff83d534382f3bd9f7": {
      "model_module": "@jupyter-widgets/controls",
      "model_module_version": "2.0.0",
      "model_name": "ButtonStyleModel",
      "state": {
       "font_family": null,
       "font_size": null,
       "font_style": null,
       "font_variant": null,
       "font_weight": null,
       "text_color": null,
       "text_decoration": null
      }
     },
     "25a30eda17c147e8ada0337d91ebd3c4": {
      "model_module": "ipydatagrid",
      "model_module_version": "^1.2.0",
      "model_name": "DataGridModel",
      "state": {
       "_data": {
        "data": [
         {
          "0": "Time15",
          "1": "Period15",
          "2": "Time20",
          "3": "Period20",
          "4": "Time10",
          "5": "Period10",
          "ipydguuid": 0,
          "key": "  Variable:"
         },
         {
          "0": "seconds",
          "1": "seconds",
          "2": "seconds",
          "3": "seconds",
          "4": "seconds",
          "5": "seconds",
          "ipydguuid": 1,
          "key": " Units:"
         },
         {
          "0": "18.42",
          "1": "1.842",
          "2": "18.6",
          "3": "1.86",
          "4": "18.71",
          "5": "1.871",
          "ipydguuid": 2,
          "key": 0
         },
         {
          "0": "18.46",
          "1": "1.846",
          "2": "18.33",
          "3": "1.833",
          "4": "18.43",
          "5": "1.843",
          "ipydguuid": 3,
          "key": 1
         },
         {
          "0": "18.41",
          "1": "1.841",
          "2": "18.59",
          "3": "1.859",
          "4": "18.42",
          "5": "1.842",
          "ipydguuid": 4,
          "key": 2
         },
         {
          "0": "18.42",
          "1": "1.842",
          "2": "18.59",
          "3": "1.859",
          "4": "18.57",
          "5": "1.857",
          "ipydguuid": 5,
          "key": 3
         },
         {
          "0": "18.21",
          "1": "1.821",
          "2": "18.72",
          "3": "1.872",
          "4": "18.34",
          "5": "1.834",
          "ipydguuid": 6,
          "key": 4
         },
         {
          "0": "18.32",
          "1": "1.832",
          "2": "18.58",
          "3": "1.858",
          "4": "18.44",
          "5": "1.844",
          "ipydguuid": 7,
          "key": 5
         },
         {
          "0": "18.50",
          "1": "1.850",
          "2": "18.45",
          "3": "1.845",
          "4": "18.58",
          "5": "1.858",
          "ipydguuid": 8,
          "key": 6
         },
         {
          "0": "18.47",
          "1": "1.847",
          "2": "18.65",
          "3": "1.865",
          "4": "18.50",
          "5": "1.850",
          "ipydguuid": 9,
          "key": 7
         },
         {
          "0": "18.39",
          "1": "1.839",
          "2": "18.70",
          "3": "1.87",
          "4": "18.62",
          "5": "1.862",
          "ipydguuid": 10,
          "key": 8
         },
         {
          "0": "18.27",
          "1": "1.827",
          "2": "18.59",
          "3": "1.859",
          "4": "18.56",
          "5": "1.856",
          "ipydguuid": 11,
          "key": 9
         }
        ],
        "fields": [
         {
          "key": null
         },
         {
          "0": null
         },
         {
          "1": null
         },
         {
          "2": null
         },
         {
          "3": null
         },
         {
          "4": null
         },
         {
          "5": null
         },
         {
          "ipydguuid": null
         }
        ],
        "schema": {
         "fields": [
          {
           "name": "key",
           "type": "string"
          },
          {
           "name": 0,
           "type": "string"
          },
          {
           "name": 1,
           "type": "string"
          },
          {
           "name": 2,
           "type": "string"
          },
          {
           "name": 3,
           "type": "string"
          },
          {
           "name": 4,
           "type": "string"
          },
          {
           "name": 5,
           "type": "string"
          },
          {
           "name": "ipydguuid",
           "type": "integer"
          }
         ],
         "pandas_version": "1.4.0",
         "primaryKey": [
          "key",
          "ipydguuid"
         ],
         "primaryKeyUuid": "ipydguuid"
        }
       },
       "_model_module_version": "^1.2.0",
       "_model_name": "DataGridModel",
       "_view_module_version": "^1.2.0",
       "auto_fit_columns": false,
       "auto_fit_params": {
        "area": "all",
        "numCols": null,
        "padding": 30
       },
       "base_column_header_size": 20,
       "base_column_size": 64,
       "base_row_header_size": 64,
       "base_row_size": 20,
       "default_renderer": "IPY_MODEL_d96c1b9d22d64a14904192f2beff1ce0",
       "editable": true,
       "header_visibility": "all",
       "layout": "IPY_MODEL_fbf7b08131114bc6ab80b2ed35dae783",
       "selection_mode": "cell"
      }
     },
     "269ac036a51c409aa2de98c24eaca524": {
      "model_module": "ipydatagrid",
      "model_module_version": "^1.2.0",
      "model_name": "VegaExprModel",
      "state": {
       "_model_module_version": "^1.2.0",
       "_view_module": "ipydatagrid",
       "_view_module_version": "^1.2.0",
       "_view_name": "VegaExprView"
      }
     },
     "2948d8ce4fb149a3b30867ba31f6d4e4": {
      "model_module": "@jupyter-widgets/base",
      "model_module_version": "2.0.0",
      "model_name": "LayoutModel",
      "state": {}
     },
     "2a4c5da6c7884344b3da827086b7595d": {
      "model_module": "@jupyter-widgets/output",
      "model_module_version": "1.0.0",
      "model_name": "OutputModel",
      "state": {
       "layout": "IPY_MODEL_9f6cc7acae9543ae8c9b25829f791467",
       "outputs": [
        {
         "name": "stdout",
         "output_type": "stream",
         "text": "Data vectors need to be updated\n"
        }
       ]
      }
     },
     "2e639818cd8a4f74a955a96213eb03ca": {
      "model_module": "@jupyter-widgets/controls",
      "model_module_version": "2.0.0",
      "model_name": "ButtonStyleModel",
      "state": {
       "font_family": null,
       "font_size": null,
       "font_style": null,
       "font_variant": null,
       "font_weight": null,
       "text_color": null,
       "text_decoration": null
      }
     },
     "2eef6487bbc449ba887565d4d6ae74a3": {
      "model_module": "@jupyter-widgets/controls",
      "model_module_version": "2.0.0",
      "model_name": "ButtonStyleModel",
      "state": {
       "font_family": null,
       "font_size": null,
       "font_style": null,
       "font_variant": null,
       "font_weight": null,
       "text_color": null,
       "text_decoration": null
      }
     },
     "2f2beb74b3924821be7d82e494e6af2a": {
      "model_module": "ipydatagrid",
      "model_module_version": "^1.2.0",
      "model_name": "TextRendererModel",
      "state": {
       "_model_module_version": "^1.2.0",
       "_view_module_version": "^1.2.0",
       "background_color": "IPY_MODEL_269ac036a51c409aa2de98c24eaca524",
       "text_color": "IPY_MODEL_2f4d75dc36f24ac2a827542c87015b3c"
      }
     },
     "2f4d75dc36f24ac2a827542c87015b3c": {
      "model_module": "ipydatagrid",
      "model_module_version": "^1.2.0",
      "model_name": "VegaExprModel",
      "state": {
       "_model_module_version": "^1.2.0",
       "_view_module": "ipydatagrid",
       "_view_module_version": "^1.2.0",
       "_view_name": "VegaExprView"
      }
     },
     "36756f8f03a347548bbf228aa8b3c8d9": {
      "model_module": "@jupyter-widgets/base",
      "model_module_version": "2.0.0",
      "model_name": "LayoutModel",
      "state": {}
     },
     "3a3ef29aea574d70bf62829de731c524": {
      "model_module": "@jupyter-widgets/base",
      "model_module_version": "2.0.0",
      "model_name": "LayoutModel",
      "state": {}
     },
     "3cf993608a9b4675a1b8748cb4fd4624": {
      "model_module": "@jupyter-widgets/controls",
      "model_module_version": "2.0.0",
      "model_name": "ButtonModel",
      "state": {
       "description": "Generate Vectors",
       "layout": "IPY_MODEL_ce4cce324bdd40a98cef10a139f5ea6d",
       "style": "IPY_MODEL_2553907934c34fff83d534382f3bd9f7",
       "tooltip": null
      }
     },
     "3db5a53c37a441db8d3f2c0b9b48e8e3": {
      "model_module": "@jupyter-widgets/base",
      "model_module_version": "2.0.0",
      "model_name": "LayoutModel",
      "state": {}
     },
     "3dc26571107147d596e8f408a3fcc92d": {
      "model_module": "@jupyter-widgets/base",
      "model_module_version": "2.0.0",
      "model_name": "LayoutModel",
      "state": {}
     },
     "3dd1d5e4cbb9472e9259d890ad16e7b5": {
      "model_module": "@jupyter-widgets/base",
      "model_module_version": "2.0.0",
      "model_name": "LayoutModel",
      "state": {}
     },
     "44d7517a50cc4e90a537010247abff91": {
      "model_module": "@jupyter-widgets/controls",
      "model_module_version": "2.0.0",
      "model_name": "ButtonModel",
      "state": {
       "description": "Generate Vectors",
       "layout": "IPY_MODEL_97a5cf90ef03444ab57aa59e15baabeb",
       "style": "IPY_MODEL_921800a26bf24da89b82d0cbdc643820",
       "tooltip": null
      }
     },
     "45e9074b2a4f45aab5de8679c4ee59aa": {
      "model_module": "ipydatagrid",
      "model_module_version": "^1.2.0",
      "model_name": "VegaExprModel",
      "state": {
       "_model_module_version": "^1.2.0",
       "_view_module": "ipydatagrid",
       "_view_module_version": "^1.2.0",
       "_view_name": "VegaExprView"
      }
     },
     "46f7232f5354462b9aba4087f6498bff": {
      "model_module": "@jupyter-widgets/base",
      "model_module_version": "2.0.0",
      "model_name": "LayoutModel",
      "state": {
       "height": "290px"
      }
     },
     "4a4618f64bd546dba135859c66fd4025": {
      "model_module": "@jupyter-widgets/controls",
      "model_module_version": "2.0.0",
      "model_name": "ButtonModel",
      "state": {
       "description": "Redo",
       "layout": "IPY_MODEL_cb12f593f00d493c911ccd88205febbe",
       "style": "IPY_MODEL_e5deda35584c4d5fac6069f7845c2f39",
       "tooltip": null
      }
     },
     "4c45b99d6b3242f4b2b2ddad20844f17": {
      "model_module": "@jupyter-widgets/controls",
      "model_module_version": "2.0.0",
      "model_name": "ButtonModel",
      "state": {
       "description": "Redo",
       "layout": "IPY_MODEL_5a63e742fec54c84af2da92894c5ca14",
       "style": "IPY_MODEL_5700ac613c2c4529b4a1a158511b5199",
       "tooltip": null
      }
     },
     "4e64542698304e909399e6a14b53c90e": {
      "model_module": "@jupyter-widgets/controls",
      "model_module_version": "2.0.0",
      "model_name": "VBoxModel",
      "state": {
       "children": [
        "IPY_MODEL_ce70dcb92b7a4e3abc841ff8089e94e5",
        "IPY_MODEL_01ee696f5fcd449dab0ce91a5803707c",
        "IPY_MODEL_a45922666afb49f6b8707d07ffc4c3a3"
       ],
       "layout": "IPY_MODEL_3dd1d5e4cbb9472e9259d890ad16e7b5"
      }
     },
     "4eaf454fd20446eb83cdf37199171f25": {
      "model_module": "@jupyter-widgets/base",
      "model_module_version": "2.0.0",
      "model_name": "LayoutModel",
      "state": {}
     },
     "5084376ed4aa4ef4a039cd6fb198c8c0": {
      "model_module": "@jupyter-widgets/base",
      "model_module_version": "2.0.0",
      "model_name": "LayoutModel",
      "state": {}
     },
     "556c55cf584946a3bb4c7ce7dd3744f5": {
      "model_module": "ipydatagrid",
      "model_module_version": "^1.2.0",
      "model_name": "VegaExprModel",
      "state": {
       "_model_module_version": "^1.2.0",
       "_view_module": "ipydatagrid",
       "_view_module_version": "^1.2.0",
       "_view_name": "VegaExprView"
      }
     },
     "5606735d5b9342779a880ef57b824285": {
      "model_module": "@jupyter-widgets/base",
      "model_module_version": "2.0.0",
      "model_name": "LayoutModel",
      "state": {}
     },
     "5700ac613c2c4529b4a1a158511b5199": {
      "model_module": "@jupyter-widgets/controls",
      "model_module_version": "2.0.0",
      "model_name": "ButtonStyleModel",
      "state": {
       "font_family": null,
       "font_size": null,
       "font_style": null,
       "font_variant": null,
       "font_weight": null,
       "text_color": null,
       "text_decoration": null
      }
     },
     "5a63e742fec54c84af2da92894c5ca14": {
      "model_module": "@jupyter-widgets/base",
      "model_module_version": "2.0.0",
      "model_name": "LayoutModel",
      "state": {}
     },
     "63e8a9224f8a4c22936df20e6d4e469e": {
      "model_module": "@jupyter-widgets/base",
      "model_module_version": "2.0.0",
      "model_name": "LayoutModel",
      "state": {}
     },
     "656fd763ac2344aa8a637b3bc979b31e": {
      "model_module": "@jupyter-widgets/base",
      "model_module_version": "2.0.0",
      "model_name": "LayoutModel",
      "state": {}
     },
     "660808b5cf934de6aa56f7711c365632": {
      "model_module": "@jupyter-widgets/controls",
      "model_module_version": "2.0.0",
      "model_name": "ButtonStyleModel",
      "state": {
       "font_family": null,
       "font_size": null,
       "font_style": null,
       "font_variant": null,
       "font_weight": null,
       "text_color": null,
       "text_decoration": null
      }
     },
     "67883af97143406c98f645f8564bf6b0": {
      "model_module": "@jupyter-widgets/controls",
      "model_module_version": "2.0.0",
      "model_name": "ButtonStyleModel",
      "state": {
       "font_family": null,
       "font_size": null,
       "font_style": null,
       "font_variant": null,
       "font_weight": null,
       "text_color": null,
       "text_decoration": null
      }
     },
     "6b411fc6e3954089bd27c3c9378eac8c": {
      "model_module": "ipydatagrid",
      "model_module_version": "^1.2.0",
      "model_name": "VegaExprModel",
      "state": {
       "_model_module_version": "^1.2.0",
       "_view_module": "ipydatagrid",
       "_view_module_version": "^1.2.0",
       "_view_name": "VegaExprView"
      }
     },
     "6b98510eccc0412cb1fd506692d4190c": {
      "model_module": "@jupyter-widgets/controls",
      "model_module_version": "2.0.0",
      "model_name": "VBoxModel",
      "state": {
       "children": [
        "IPY_MODEL_e7abd312c1f046f8aae8aa882f10d216",
        "IPY_MODEL_25a30eda17c147e8ada0337d91ebd3c4",
        "IPY_MODEL_1511b1756b3e4acc91cb214669484423"
       ],
       "layout": "IPY_MODEL_656fd763ac2344aa8a637b3bc979b31e"
      }
     },
     "6c7bb0949f7a48c7aabba98e1e3cc059": {
      "model_module": "@jupyter-widgets/controls",
      "model_module_version": "2.0.0",
      "model_name": "ButtonStyleModel",
      "state": {
       "font_family": null,
       "font_size": null,
       "font_style": null,
       "font_variant": null,
       "font_weight": null,
       "text_color": null,
       "text_decoration": null
      }
     },
     "6def43ab67104a0daafdf50db3b96067": {
      "model_module": "@jupyter-widgets/base",
      "model_module_version": "2.0.0",
      "model_name": "LayoutModel",
      "state": {
       "height": "310px"
      }
     },
     "6f195e3ac146411b82882454b3879a6e": {
      "model_module": "@jupyter-widgets/base",
      "model_module_version": "2.0.0",
      "model_name": "LayoutModel",
      "state": {}
     },
     "75b997dd6b0b40d6af2779d4bb163af0": {
      "model_module": "@jupyter-widgets/controls",
      "model_module_version": "2.0.0",
      "model_name": "ButtonModel",
      "state": {
       "description": "Generate Vectors",
       "layout": "IPY_MODEL_1a2ba9fb9e324d7998ec67909a046ee2",
       "style": "IPY_MODEL_c87f4e0e777e47e595cedc2123fb734a",
       "tooltip": null
      }
     },
     "7bdca27094e74300a92bcc6735b3324d": {
      "model_module": "@jupyter-widgets/controls",
      "model_module_version": "2.0.0",
      "model_name": "ButtonStyleModel",
      "state": {
       "font_family": null,
       "font_size": null,
       "font_style": null,
       "font_variant": null,
       "font_weight": null,
       "text_color": null,
       "text_decoration": null
      }
     },
     "921800a26bf24da89b82d0cbdc643820": {
      "model_module": "@jupyter-widgets/controls",
      "model_module_version": "2.0.0",
      "model_name": "ButtonStyleModel",
      "state": {
       "font_family": null,
       "font_size": null,
       "font_style": null,
       "font_variant": null,
       "font_weight": null,
       "text_color": null,
       "text_decoration": null
      }
     },
     "92a3855555c54a0a9c48ef77e9dfc5bf": {
      "model_module": "@jupyter-widgets/base",
      "model_module_version": "2.0.0",
      "model_name": "LayoutModel",
      "state": {}
     },
     "93416d08033f4a27a81598ecaf3816c8": {
      "model_module": "@jupyter-widgets/base",
      "model_module_version": "2.0.0",
      "model_name": "LayoutModel",
      "state": {}
     },
     "939ba9184c0c4dcd9c14bb04ef2fe720": {
      "model_module": "ipydatagrid",
      "model_module_version": "^1.2.0",
      "model_name": "TextRendererModel",
      "state": {
       "_model_module_version": "^1.2.0",
       "_view_module_version": "^1.2.0",
       "background_color": "IPY_MODEL_9bb446dfb58d42a48fcd7ed133d999fe",
       "text_color": "IPY_MODEL_556c55cf584946a3bb4c7ce7dd3744f5"
      }
     },
     "97a5cf90ef03444ab57aa59e15baabeb": {
      "model_module": "@jupyter-widgets/base",
      "model_module_version": "2.0.0",
      "model_name": "LayoutModel",
      "state": {}
     },
     "9bb446dfb58d42a48fcd7ed133d999fe": {
      "model_module": "ipydatagrid",
      "model_module_version": "^1.2.0",
      "model_name": "VegaExprModel",
      "state": {
       "_model_module_version": "^1.2.0",
       "_view_module": "ipydatagrid",
       "_view_module_version": "^1.2.0",
       "_view_name": "VegaExprView"
      }
     },
     "9c447d29e32b49e49c4f90ec6b5132a1": {
      "model_module": "@jupyter-widgets/base",
      "model_module_version": "2.0.0",
      "model_name": "LayoutModel",
      "state": {}
     },
     "9f6cc7acae9543ae8c9b25829f791467": {
      "model_module": "@jupyter-widgets/base",
      "model_module_version": "2.0.0",
      "model_name": "LayoutModel",
      "state": {}
     },
     "9f72584ad1274aaa93f5bdd32bd40854": {
      "model_module": "@jupyter-widgets/base",
      "model_module_version": "2.0.0",
      "model_name": "LayoutModel",
      "state": {}
     },
     "9f7a6f30805b4ef7bd386ef2dba6ccd9": {
      "model_module": "@jupyter-widgets/controls",
      "model_module_version": "2.0.0",
      "model_name": "ButtonModel",
      "state": {
       "description": "Undo",
       "layout": "IPY_MODEL_6f195e3ac146411b82882454b3879a6e",
       "style": "IPY_MODEL_2eef6487bbc449ba887565d4d6ae74a3",
       "tooltip": null
      }
     },
     "a1a8af650f514b039331f6b040fe88f2": {
      "model_module": "@jupyter-widgets/controls",
      "model_module_version": "2.0.0",
      "model_name": "HBoxModel",
      "state": {
       "children": [
        "IPY_MODEL_d94a955c799544f59e818cabc8f78e69",
        "IPY_MODEL_4c45b99d6b3242f4b2b2ddad20844f17",
        "IPY_MODEL_c32dfe7afc794d1bb0a41e0abcffd3e3",
        "IPY_MODEL_0d8d7e6fc53141f7b8b9e1a737f5252a",
        "IPY_MODEL_3cf993608a9b4675a1b8748cb4fd4624"
       ],
       "layout": "IPY_MODEL_5084376ed4aa4ef4a039cd6fb198c8c0"
      }
     },
     "a45922666afb49f6b8707d07ffc4c3a3": {
      "model_module": "@jupyter-widgets/output",
      "model_module_version": "1.0.0",
      "model_name": "OutputModel",
      "state": {
       "layout": "IPY_MODEL_9f72584ad1274aaa93f5bdd32bd40854"
      }
     },
     "af9c56c0f5c548b2a85a23a3328893ad": {
      "model_module": "@jupyter-widgets/base",
      "model_module_version": "2.0.0",
      "model_name": "LayoutModel",
      "state": {
       "height": "290px"
      }
     },
     "bc35a780215d43c08721240b44759366": {
      "model_module": "ipydatagrid",
      "model_module_version": "^1.2.0",
      "model_name": "DataGridModel",
      "state": {
       "_data": {
        "data": [
         {
          "0": "Time15",
          "1": "Period15",
          "2": "Time20",
          "3": "Period20",
          "4": "Time10",
          "5": "Period10",
          "6": "",
          "ipydguuid": 0,
          "key": "  Variable:"
         },
         {
          "0": "seconds",
          "1": "seconds",
          "2": "seconds",
          "3": "seconds",
          "4": "seconds",
          "5": "seconds",
          "6": "",
          "ipydguuid": 1,
          "key": " Units:"
         },
         {
          "0": "18.42",
          "1": "1.842",
          "2": "18.6",
          "3": "1.86",
          "4": "18.71",
          "5": "1.871",
          "6": "",
          "ipydguuid": 2,
          "key": 0
         },
         {
          "0": "18.46",
          "1": "1.846",
          "2": "18.33",
          "3": "1.833",
          "4": "18.43",
          "5": "1.843",
          "6": "",
          "ipydguuid": 3,
          "key": 1
         },
         {
          "0": "18.41",
          "1": "1.841",
          "2": "18.59",
          "3": "1.859",
          "4": "18.42",
          "5": "1.842",
          "6": "",
          "ipydguuid": 4,
          "key": 2
         },
         {
          "0": "18.42",
          "1": "1.842",
          "2": "18.59",
          "3": "1.859",
          "4": "18.57",
          "5": "1.857",
          "6": "",
          "ipydguuid": 5,
          "key": 3
         },
         {
          "0": "18.21",
          "1": "1.821",
          "2": "18.72",
          "3": "1.872",
          "4": "18.34",
          "5": "1.834",
          "6": "",
          "ipydguuid": 6,
          "key": 4
         },
         {
          "0": "18.32",
          "1": "1.832",
          "2": "18.58",
          "3": "1.858",
          "4": "18.44",
          "5": "1.844",
          "6": "",
          "ipydguuid": 7,
          "key": 5
         },
         {
          "0": "18.50",
          "1": "1.850",
          "2": "18.45",
          "3": "1.845",
          "4": "18.58",
          "5": "1.858",
          "6": "",
          "ipydguuid": 8,
          "key": 6
         },
         {
          "0": "18.47",
          "1": "1.847",
          "2": "18.65",
          "3": "1.865",
          "4": "18.50",
          "5": "1.850",
          "6": "",
          "ipydguuid": 9,
          "key": 7
         },
         {
          "0": "18.39",
          "1": "1.839",
          "2": "18.70",
          "3": "1.87",
          "4": "18.62",
          "5": "1.862",
          "6": "",
          "ipydguuid": 10,
          "key": 8
         },
         {
          "0": "18.27",
          "1": "1.827",
          "2": "18.59",
          "3": "1.859",
          "4": "18.56",
          "5": "1.856",
          "6": "",
          "ipydguuid": 11,
          "key": 9
         },
         {
          "0": "",
          "1": "",
          "2": "",
          "3": "",
          "4": "",
          "5": "",
          "6": "",
          "ipydguuid": 12,
          "key": 10
         }
        ],
        "fields": [
         {
          "key": null
         },
         {
          "0": null
         },
         {
          "1": null
         },
         {
          "2": null
         },
         {
          "3": null
         },
         {
          "4": null
         },
         {
          "5": null
         },
         {
          "6": null
         },
         {
          "ipydguuid": null
         }
        ],
        "schema": {
         "fields": [
          {
           "name": "key",
           "type": "string"
          },
          {
           "name": 0,
           "type": "string"
          },
          {
           "name": 1,
           "type": "string"
          },
          {
           "name": 2,
           "type": "string"
          },
          {
           "name": 3,
           "type": "string"
          },
          {
           "name": 4,
           "type": "string"
          },
          {
           "name": 5,
           "type": "string"
          },
          {
           "name": 6,
           "type": "string"
          },
          {
           "name": "ipydguuid",
           "type": "integer"
          }
         ],
         "pandas_version": "1.4.0",
         "primaryKey": [
          "key",
          "ipydguuid"
         ],
         "primaryKeyUuid": "ipydguuid"
        }
       },
       "_model_module_version": "^1.2.0",
       "_model_name": "DataGridModel",
       "_view_module_version": "^1.2.0",
       "_visible_rows": [
        0,
        1,
        2,
        3,
        4,
        5,
        6,
        7,
        8,
        9,
        10,
        11,
        12
       ],
       "auto_fit_columns": false,
       "auto_fit_params": {
        "area": "all",
        "numCols": null,
        "padding": 30
       },
       "base_column_header_size": 20,
       "base_column_size": 64,
       "base_row_header_size": 64,
       "base_row_size": 20,
       "default_renderer": "IPY_MODEL_2f2beb74b3924821be7d82e494e6af2a",
       "editable": true,
       "header_visibility": "all",
       "layout": "IPY_MODEL_6def43ab67104a0daafdf50db3b96067",
       "selection_mode": "cell",
       "selections": [
        {
         "c1": 6,
         "c2": 6,
         "r1": 1,
         "r2": 1
        }
       ]
      }
     },
     "c32dfe7afc794d1bb0a41e0abcffd3e3": {
      "model_module": "@jupyter-widgets/controls",
      "model_module_version": "2.0.0",
      "model_name": "ButtonModel",
      "state": {
       "description": "Add Row",
       "layout": "IPY_MODEL_63e8a9224f8a4c22936df20e6d4e469e",
       "style": "IPY_MODEL_fb041bf29c724a8292bec93d008999e4",
       "tooltip": null
      }
     },
     "c7067c9feb284b56b175b6c5de88446a": {
      "model_module": "@jupyter-widgets/base",
      "model_module_version": "2.0.0",
      "model_name": "LayoutModel",
      "state": {}
     },
     "c87f4e0e777e47e595cedc2123fb734a": {
      "model_module": "@jupyter-widgets/controls",
      "model_module_version": "2.0.0",
      "model_name": "ButtonStyleModel",
      "state": {
       "font_family": null,
       "font_size": null,
       "font_style": null,
       "font_variant": null,
       "font_weight": null,
       "text_color": null,
       "text_decoration": null
      }
     },
     "cb12f593f00d493c911ccd88205febbe": {
      "model_module": "@jupyter-widgets/base",
      "model_module_version": "2.0.0",
      "model_name": "LayoutModel",
      "state": {}
     },
     "cd0142df162a4104a61003f3bc53f3d5": {
      "model_module": "@jupyter-widgets/controls",
      "model_module_version": "2.0.0",
      "model_name": "ButtonModel",
      "state": {
       "description": "Add Row",
       "layout": "IPY_MODEL_92a3855555c54a0a9c48ef77e9dfc5bf",
       "style": "IPY_MODEL_660808b5cf934de6aa56f7711c365632",
       "tooltip": null
      }
     },
     "cd8ae97e588e44d592ac19b3e9d88be1": {
      "model_module": "@jupyter-widgets/controls",
      "model_module_version": "2.0.0",
      "model_name": "ButtonModel",
      "state": {
       "description": "Add Row",
       "layout": "IPY_MODEL_13b63f9258244f5db275e342e0f91da0",
       "style": "IPY_MODEL_e74243f2bb844c80bb994bcb37e81957",
       "tooltip": null
      }
     },
     "ce4cce324bdd40a98cef10a139f5ea6d": {
      "model_module": "@jupyter-widgets/base",
      "model_module_version": "2.0.0",
      "model_name": "LayoutModel",
      "state": {}
     },
     "ce70dcb92b7a4e3abc841ff8089e94e5": {
      "model_module": "@jupyter-widgets/controls",
      "model_module_version": "2.0.0",
      "model_name": "HBoxModel",
      "state": {
       "children": [
        "IPY_MODEL_9f7a6f30805b4ef7bd386ef2dba6ccd9",
        "IPY_MODEL_4a4618f64bd546dba135859c66fd4025",
        "IPY_MODEL_cd0142df162a4104a61003f3bc53f3d5",
        "IPY_MODEL_1d93805b8b9a42a68341b329a7cf0851",
        "IPY_MODEL_44d7517a50cc4e90a537010247abff91"
       ],
       "layout": "IPY_MODEL_36756f8f03a347548bbf228aa8b3c8d9"
      }
     },
     "d05d9b8f1ebf44dcba064b1e9502538d": {
      "model_module": "@jupyter-widgets/controls",
      "model_module_version": "2.0.0",
      "model_name": "ButtonModel",
      "state": {
       "description": "Undo",
       "layout": "IPY_MODEL_4eaf454fd20446eb83cdf37199171f25",
       "style": "IPY_MODEL_67883af97143406c98f645f8564bf6b0",
       "tooltip": null
      }
     },
     "d6b5c8b2c16649e3999f4cf70a8625ff": {
      "model_module": "@jupyter-widgets/controls",
      "model_module_version": "2.0.0",
      "model_name": "ButtonModel",
      "state": {
       "description": "Redo",
       "layout": "IPY_MODEL_3db5a53c37a441db8d3f2c0b9b48e8e3",
       "style": "IPY_MODEL_2e639818cd8a4f74a955a96213eb03ca",
       "tooltip": null
      }
     },
     "d94a955c799544f59e818cabc8f78e69": {
      "model_module": "@jupyter-widgets/controls",
      "model_module_version": "2.0.0",
      "model_name": "ButtonModel",
      "state": {
       "description": "Undo",
       "layout": "IPY_MODEL_3dc26571107147d596e8f408a3fcc92d",
       "style": "IPY_MODEL_f40a4f63817447ab80966bd51720732b",
       "tooltip": null
      }
     },
     "d96c1b9d22d64a14904192f2beff1ce0": {
      "model_module": "ipydatagrid",
      "model_module_version": "^1.2.0",
      "model_name": "TextRendererModel",
      "state": {
       "_model_module_version": "^1.2.0",
       "_view_module_version": "^1.2.0",
       "background_color": "IPY_MODEL_6b411fc6e3954089bd27c3c9378eac8c",
       "text_color": "IPY_MODEL_45e9074b2a4f45aab5de8679c4ee59aa"
      }
     },
     "deb282d488fe493e883347f7ac01c341": {
      "model_module": "@jupyter-widgets/base",
      "model_module_version": "2.0.0",
      "model_name": "LayoutModel",
      "state": {}
     },
     "e5deda35584c4d5fac6069f7845c2f39": {
      "model_module": "@jupyter-widgets/controls",
      "model_module_version": "2.0.0",
      "model_name": "ButtonStyleModel",
      "state": {
       "font_family": null,
       "font_size": null,
       "font_style": null,
       "font_variant": null,
       "font_weight": null,
       "text_color": null,
       "text_decoration": null
      }
     },
     "e74243f2bb844c80bb994bcb37e81957": {
      "model_module": "@jupyter-widgets/controls",
      "model_module_version": "2.0.0",
      "model_name": "ButtonStyleModel",
      "state": {
       "font_family": null,
       "font_size": null,
       "font_style": null,
       "font_variant": null,
       "font_weight": null,
       "text_color": null,
       "text_decoration": null
      }
     },
     "e7abd312c1f046f8aae8aa882f10d216": {
      "model_module": "@jupyter-widgets/controls",
      "model_module_version": "2.0.0",
      "model_name": "HBoxModel",
      "state": {
       "children": [
        "IPY_MODEL_d05d9b8f1ebf44dcba064b1e9502538d",
        "IPY_MODEL_d6b5c8b2c16649e3999f4cf70a8625ff",
        "IPY_MODEL_cd8ae97e588e44d592ac19b3e9d88be1",
        "IPY_MODEL_0312f86823a842dfa766a7f2fb8e180b",
        "IPY_MODEL_75b997dd6b0b40d6af2779d4bb163af0"
       ],
       "layout": "IPY_MODEL_93416d08033f4a27a81598ecaf3816c8"
      }
     },
     "e8977c6320c14759ad9e917d132e29c4": {
      "model_module": "@jupyter-widgets/base",
      "model_module_version": "2.0.0",
      "model_name": "LayoutModel",
      "state": {}
     },
     "f40a4f63817447ab80966bd51720732b": {
      "model_module": "@jupyter-widgets/controls",
      "model_module_version": "2.0.0",
      "model_name": "ButtonStyleModel",
      "state": {
       "font_family": null,
       "font_size": null,
       "font_style": null,
       "font_variant": null,
       "font_weight": null,
       "text_color": null,
       "text_decoration": null
      }
     },
     "f88234d1e97f4ae2ad9218ae3aabd407": {
      "model_module": "@jupyter-widgets/controls",
      "model_module_version": "2.0.0",
      "model_name": "ButtonStyleModel",
      "state": {
       "font_family": null,
       "font_size": null,
       "font_style": null,
       "font_variant": null,
       "font_weight": null,
       "text_color": null,
       "text_decoration": null
      }
     },
     "fb041bf29c724a8292bec93d008999e4": {
      "model_module": "@jupyter-widgets/controls",
      "model_module_version": "2.0.0",
      "model_name": "ButtonStyleModel",
      "state": {
       "font_family": null,
       "font_size": null,
       "font_style": null,
       "font_variant": null,
       "font_weight": null,
       "text_color": null,
       "text_decoration": null
      }
     },
     "fbf7b08131114bc6ab80b2ed35dae783": {
      "model_module": "@jupyter-widgets/base",
      "model_module_version": "2.0.0",
      "model_name": "LayoutModel",
      "state": {
       "height": "290px"
      }
     }
    },
    "version_major": 2,
    "version_minor": 0
   }
  }
 },
 "nbformat": 4,
 "nbformat_minor": 5
}
