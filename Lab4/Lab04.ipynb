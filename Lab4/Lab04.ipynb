{
 "cells": [
  {
   "cell_type": "markdown",
   "id": "10129cf0-f314-4d11-9b4a-e8580785b7bf",
   "metadata": {},
   "source": [
    " # Lab 4 - The Pendulum II"
   ]
  },
  {
   "cell_type": "code",
   "execution_count": 121,
   "id": "bb41a3e5-6dc2-4689-8f6b-c571553096ce",
   "metadata": {
    "colab": {
     "base_uri": "https://localhost:8080/",
     "height": 34,
     "referenced_widgets": [
      "f4867fcd1bc84f73a8ebaf6d3fe7f93a",
      "d034be63185d4811a05ec0f093d02d7a",
      "bd6d356d711e4792a1e9ada201d26b78",
      "c0d9513060084283a214f5c8f025ecf0",
      "da2defae0a8e4905a29dc8d3ca8a42e3",
      "60dc88a1698c461187c3481c679c7b71",
      "5f73d93446b34030af9201112526626f",
      "4d3b430ac5934818a7693c1a6a3d9355",
      "0bedf7f9be8a49378ea8f37f9c2ebf16",
      "ea117ac05b9b41c082cd9d62ef94d518",
      "124f9831f181482eb784405723a8b2d0",
      "8e1cbf36822a474ebdf82a80a5681924",
      "f8023654ea164371b4e3f37957a06c8a",
      "e1709bb85bb34c7e997f035a4c7560b8",
      "5a1355ddfd1840c2bc9de6ebd7342682",
      "624675d0d30242d6bf1213deb6e3f624",
      "699f933c64d24cafa5bfd5e0a1fc397a",
      "d58d95defca340b885a9e405134fc887",
      "58cf21d8ac234496bad2ebd7ae7f2a1d",
      "5e2883b7e2ba4d6d8a1352e621a8183f",
      "ffe3c8f2bda74603a92742464e69ba6b",
      "7ce01fb43382463f9ae0ad311d7b5dc4"
     ]
    },
    "id": "26726484-93c7-499a-9f34-d4656ef6df5a",
    "outputId": "82f6fee3-86ff-43e5-8b52-64b7eb4467ab",
    "tags": []
   },
   "outputs": [],
   "source": [
    "# Make sure to run this cell before running any other code cells\n",
    "%reset -f\n",
    "import numpy as np\n",
    "import data_entry2"
   ]
  },
  {
   "cell_type": "markdown",
   "id": "06bab186-614b-4f20-b1e1-cde1032a8eeb",
   "metadata": {},
   "source": [
    "***Edit the following cell to provide the information requested:***"
   ]
  },
  {
   "cell_type": "markdown",
   "id": "883c8daf-e901-4c0e-a0d7-d9c7dc0d6621",
   "metadata": {},
   "source": [
    "- Your name: Mary Helena Hosseini\n",
    "- Your student number: 41004235\n",
    "- Partner's name: Raminder Bal"
   ]
  },
  {
   "cell_type": "markdown",
   "id": "6bc2f65e-1838-4b3d-adcd-a78a7f7b17e8",
   "metadata": {},
   "source": [
    "## Part A - Intro and announcements"
   ]
  },
  {
   "cell_type": "markdown",
   "id": "658cad60-0137-47fd-9a6e-2bdfccbacfae",
   "metadata": {},
   "source": [
    "***TA grading feedback here:***\n",
    "- Feedback: Please review the equation for calculating the uncertainty of T (period). Please do record your values under their calculations in markdown cell. Your understanding of t-score is great\""
   ]
  },
  {
   "cell_type": "markdown",
   "id": "0bf9f813-2fb3-46e1-a83e-df454787d388",
   "metadata": {},
   "source": [
    "## Part B - t-score mini lesson"
   ]
  },
  {
   "cell_type": "markdown",
   "id": "603c4e3a-29a1-40ba-a8df-12eada3ba547",
   "metadata": {},
   "source": [
    "***Summarize any important notes from the class discussion***"
   ]
  },
  {
   "cell_type": "markdown",
   "id": "d1142b9a-ec95-432c-bc05-c24548806d53",
   "metadata": {},
   "source": [
    "- t-score Calculation Review: The t-score of the photo in the slide is roughly 1.414. Since the result is close to 1 and much lower than a 5, we cannot be sure that the results of the two curves are different given the relative uncertainty. Calculation of this t-score is in the cell below."
   ]
  },
  {
   "cell_type": "code",
   "execution_count": 122,
   "id": "e8847efb-8a7b-4bfe-acc8-15ed67bdc3ac",
   "metadata": {
    "tags": []
   },
   "outputs": [
    {
     "data": {
      "text/plain": [
       "1.414213562373095"
      ]
     },
     "execution_count": 122,
     "metadata": {},
     "output_type": "execute_result"
    }
   ],
   "source": [
    "(45-35)/np.sqrt(5**2 + 5**2)"
   ]
  },
  {
   "cell_type": "markdown",
   "id": "42785208-57f6-4bb1-846b-408d6b53e43b",
   "metadata": {
    "tags": []
   },
   "source": [
    "## Continuation of Notes: \n",
    "- If the t-score is close to 1, then we cannot be confident that the two data curves are different given the uncertainty\n",
    "- If the t-score is close to 5, then we are confident that the two data curves are different given the uncertainty\n",
    "\n",
    "### Results From Last Week:\n",
    "- Other group with similar uncertainties as us got similar t-scores. We got an uncertainties of 0.00011 with a t-score of 0.39408 which falls into a similar range as the other groups. \n",
    "- A trend that we concluded from the graph was that groups with lower relative uncertainty, got very high t-scores therefore had higher confidence.\n",
    "\n",
    "### Precision Axis:\n",
    "- Answer is D, the quality of measurement is judged on how much the measurement was improved. Therefore all the figures could be an improvement from the first graph.\n",
    "- t-score of 0.3 means you cannot be confident that there is any difference between the measurements therefore the answer is figure A."
   ]
  },
  {
   "cell_type": "markdown",
   "id": "b481304a-5188-4fbd-a395-0d9edbf26080",
   "metadata": {},
   "source": [
    "## Part C - Improvement rounds (at least 2)"
   ]
  },
  {
   "cell_type": "markdown",
   "id": "6e89245b-c391-4a95-88bb-02b83170ca3d",
   "metadata": {},
   "source": [
    "***Summarize any important notes from the class discussion and familiarization done in Part C of the student instructions***\n",
    "\n",
    "- The formula for the uncertainty of period is $ u_T_Ave = \\frac{\\alpha}{N_trials \\times M_cycles} $\n",
    "\n",
    "p.s. for some reason the formula is not showing up :)"
   ]
  },
  {
   "cell_type": "markdown",
   "id": "039d956c-b989-42e9-8367-d218de62679f",
   "metadata": {},
   "source": [
    "***Write some notes below detailing your initial measurement plan***"
   ]
  },
  {
   "cell_type": "markdown",
   "id": "4ce31b01-2acc-4cbd-a949-90cd8c8ca07e",
   "metadata": {},
   "source": [
    "- Long Version: The initial measurement plan requires two people. One person will sit directly in front of the pendulum while the other person will pull the pendulum to line up it with the angle degrees. After which the person sitting in front of the pendulum will give the ok that the pendulum is correctly lined up and is read to start recording the time. Our plan is to measure 15 cycles of the pendulum swinging back and forth with 15 trials. This is an increase from our previous 10 trials and 10 cycles.\n",
    "\n",
    "## Answer to Each Question From Instructions\n",
    "- Which data taking variables (number of trials and/or number of swings) will you change?\n",
    "\n",
    "We changed the number of swings from 10 to 15. We also changed the number of trials from 10 to 15.\n",
    "\n",
    "- Why do you expect that these changes will improve your overall results? Make sure to reference uncertainty equations.\n",
    "\n",
    "From the graph of results presented in class we knew that to achieve a high t-score, we need to attain low uncertainties. We also hypothesized that increasing the number of trials would be able to provide a more accurate measurement of time and period for both angles. \n",
    "\n",
    "- Anything else that you might change in how you take the data?\n",
    "\n",
    "We ditched the lining up the pendulum with the a card method because we noticed that the pendulum would swing in different directions instead of a straight line. We also switched the spot of the two people so that one person can make sure the pendulum is lined up correctly while the other person is making sure that the pendulum is following a straight path. \n",
    "\n",
    "- How much time will it take to collect your sets of data for a full round? \n",
    "\n",
    "We think that it will take about 20 minutes. "
   ]
  },
  {
   "cell_type": "markdown",
   "id": "c6677981-9e16-458c-a38c-2fd16879fdff",
   "metadata": {},
   "source": [
    "***Use the cell below to load in a blank spreadsheet to fill in with your initial round of data. (Note that you should have 2 columns of data, of equal length.)***"
   ]
  },
  {
   "cell_type": "code",
   "execution_count": 123,
   "id": "1643cdd0-2358-4437-ab1f-7cdaa2830c80",
   "metadata": {
    "tags": []
   },
   "outputs": [
    {
     "name": "stdout",
     "output_type": "stream",
     "text": [
      "Sheet name: lab04_1.csv\n"
     ]
    },
    {
     "data": {
      "application/vnd.jupyter.widget-view+json": {
       "model_id": "6c5a4d727fd44003b356bfdb2fa2d369",
       "version_major": 2,
       "version_minor": 0
      },
      "text/plain": [
       "VBox(children=(HBox(children=(Button(description='Undo', style=ButtonStyle()), Button(description='Redo', styl…"
      ]
     },
     "metadata": {},
     "output_type": "display_data"
    }
   ],
   "source": [
    "de1 = data_entry2.sheet(\"lab04_1\")"
   ]
  },
  {
   "cell_type": "markdown",
   "id": "646cf611-7a78-44ec-ab99-54d855c531d0",
   "metadata": {},
   "source": [
    "***Use the cell below for your analysis code. Insert additional cells below as needed. (Note that you can copy in and update your analysis code from lab03.)***"
   ]
  },
  {
   "cell_type": "markdown",
   "id": "63d42057-636a-45c4-9229-a5ef6c051b3f",
   "metadata": {
    "tags": []
   },
   "source": [
    "# Calculations for 10 degrees angle"
   ]
  },
  {
   "cell_type": "code",
   "execution_count": 124,
   "id": "7d9b1e93-dfe3-4a1b-bed5-4bcff2f1c49f",
   "metadata": {
    "tags": []
   },
   "outputs": [
    {
     "name": "stdout",
     "output_type": "stream",
     "text": [
      "Average of t1 is 26.959999999999997\n",
      "Standard deviation of t1 is 0.046944749693757136\n",
      "Average of period1 is 1.7973333333333334\n",
      "Standard deviation of period1 is 0.0031296499795838116\n",
      "Relative uncertainty of t1 is 0.003129649979583809\n",
      "Relative uncertainty of period1 is 0.0002086433319722541\n"
     ]
    }
   ],
   "source": [
    "t1Ave = np.mean(Time10Vec)\n",
    "print(\"Average of t1 is\", t1Ave)\n",
    "ut1Ave = np.std(Time10Vec, ddof=1)/(np.sqrt(15))\n",
    "print(\"Standard deviation of t1 is\", ut1Ave)\n",
    "\n",
    "T1Ave = np.mean(Period10Vec)\n",
    "print(\"Average of period1 is\", T1Ave)\n",
    "uT1Ave = np.std(Period10Vec, ddof=1)/(np.sqrt(15))\n",
    "print(\"Standard deviation of period1 is\", uT1Ave)\n",
    "\n",
    "t1Count = Time10Vec\n",
    "\n",
    "relt1ave = ut1Ave/len(t1Count)\n",
    "print(\"Relative uncertainty of t1 is\", relt1ave)\n",
    "relT1ave = uT1Ave/len(t1Count)\n",
    "print(\"Relative uncertainty of period1 is\", relT1ave)"
   ]
  },
  {
   "cell_type": "markdown",
   "id": "7e2a2ead-4374-4c96-bb95-dfcd013c38f2",
   "metadata": {},
   "source": [
    "## Calculations for 20 degrees angle (Round 1)"
   ]
  },
  {
   "cell_type": "code",
   "execution_count": 125,
   "id": "dd65c3d7-6ef0-49f8-993c-bcdd4b439762",
   "metadata": {
    "tags": []
   },
   "outputs": [
    {
     "name": "stdout",
     "output_type": "stream",
     "text": [
      "Average of t1 is 27.254666666666665\n",
      "Standard deviation of t1 is 0.027994330491771618\n",
      "Average of period1 is 1.8169777777777782\n",
      "Standard deviation of period2 is 0.0018662886994514445\n",
      "Relative uncertainty of t2 is 0.003129649979583809\n",
      "Relative uncertainty of period2 is 0.0002086433319722541\n"
     ]
    }
   ],
   "source": [
    "t2Ave = np.mean(Time20Vec)\n",
    "print(\"Average of t1 is\", t2Ave)\n",
    "ut2Ave = np.std(Time20Vec, ddof=1)/(np.sqrt(15))\n",
    "print(\"Standard deviation of t1 is\", ut2Ave)\n",
    "\n",
    "T2Ave = np.mean(Period20Vec)\n",
    "print(\"Average of period1 is\", T2Ave)\n",
    "uT2Ave = np.std(Period20Vec, ddof=1)/(np.sqrt(15))\n",
    "print(\"Standard deviation of period2 is\", uT2Ave)\n",
    "\n",
    "t2Count = Time20Vec\n",
    "\n",
    "relt2ave = ut1Ave/len(t2Count)\n",
    "print(\"Relative uncertainty of t2 is\", relt2ave)\n",
    "relT2ave = uT1Ave/len(t2Count)\n",
    "print(\"Relative uncertainty of period2 is\", relT2ave)"
   ]
  },
  {
   "cell_type": "markdown",
   "id": "8613b41d-4399-4ab5-ad91-033eb878ccea",
   "metadata": {},
   "source": [
    "## t-score Calculation (Round 1)"
   ]
  },
  {
   "cell_type": "code",
   "execution_count": 126,
   "id": "72d27d05-d05e-47cc-a553-3adb51b84649",
   "metadata": {
    "tags": []
   },
   "outputs": [
    {
     "name": "stdout",
     "output_type": "stream",
     "text": [
      "The t-score value is 5.391103010420984\n"
     ]
    }
   ],
   "source": [
    "tScore = np.abs(T2Ave-T1Ave)/np.sqrt(uT2Ave**2+uT1Ave**2)\n",
    "print(\"The t-score value is\", tScore)"
   ]
  },
  {
   "cell_type": "markdown",
   "id": "45ae3def-3190-4cab-a047-cdff4faa4237",
   "metadata": {},
   "source": [
    "***Reflect on the results of your first round below***"
   ]
  },
  {
   "cell_type": "markdown",
   "id": "2b0b3691-029f-4909-8fd4-eadb93e5a0fa",
   "metadata": {},
   "source": [
    "### Meaning of t-score\n",
    "We got a t-score close to 5 therefore we know that our values are distinct and different. \n",
    "### Final Conclusions of Round 1\n",
    "From the results of round one and round two we can conclude that we are extremely confident that there is a difference because our t-score was 5.39, this is a very reliable measurement because we had really low relative uncertainties of 0.0002 and 0.0002, similar to Cristiana's group that we compared results with.\n",
    "\n",
    "## Relative Uncertainty \n",
    "- Round One: 0.0002 and 0.0002\n",
    "- From Other Group: 0.0005 and 0.0004\n",
    "## t-score\n",
    "- Round One: 5.391\n",
    "- From the Other Group: 6.165"
   ]
  },
  {
   "cell_type": "markdown",
   "id": "0b927feb-0275-446b-98c7-11e7888dc771",
   "metadata": {},
   "source": [
    "# Round Two"
   ]
  },
  {
   "cell_type": "code",
   "execution_count": 127,
   "id": "ed03254e-16c2-4d72-b89f-21d27fd19626",
   "metadata": {
    "tags": []
   },
   "outputs": [
    {
     "name": "stdout",
     "output_type": "stream",
     "text": [
      "Sheet name: lab04_2.csv\n"
     ]
    },
    {
     "data": {
      "application/vnd.jupyter.widget-view+json": {
       "model_id": "eaf5243bcad84098b5bfe3483472226f",
       "version_major": 2,
       "version_minor": 0
      },
      "text/plain": [
       "VBox(children=(HBox(children=(Button(description='Undo', style=ButtonStyle()), Button(description='Redo', styl…"
      ]
     },
     "metadata": {},
     "output_type": "display_data"
    }
   ],
   "source": [
    "de1 = data_entry2.sheet(\"lab04_2\")"
   ]
  },
  {
   "cell_type": "markdown",
   "id": "1c89b6d6-7a4f-4921-b4ec-0dc1136243a1",
   "metadata": {},
   "source": [
    "## Calculations for 10 degrees angle (Round 2)"
   ]
  },
  {
   "cell_type": "code",
   "execution_count": 128,
   "id": "4d13d5fa-d96c-43d8-8a11-fcbbebe85a15",
   "metadata": {
    "tags": []
   },
   "outputs": [
    {
     "name": "stdout",
     "output_type": "stream",
     "text": [
      "Average of t1 is 32.50833333333334\n",
      "Standard deviation of t1 is 0.02544056253745649\n",
      "Average of period1 is 1.8051851851851852\n",
      "Standard deviation of period1 is 0.0011959276228286735\n",
      "Relative uncertainty of t1 is 0.0014133645854142495\n",
      "Relative uncertainty of period1 is 6.644042349048185e-05\n"
     ]
    }
   ],
   "source": [
    "t1Ave = np.mean(Time10Vec)\n",
    "print(\"Average of t1 is\", t1Ave)\n",
    "ut1Ave = np.std(Time10Vec, ddof=1)/(np.sqrt(18))\n",
    "print(\"Standard deviation of t1 is\", ut1Ave)\n",
    "\n",
    "T1Ave = np.mean(Period10Vec)\n",
    "print(\"Average of period1 is\", T1Ave)\n",
    "uT1Ave = np.std(Period10Vec, ddof=1)/(np.sqrt(18))\n",
    "print(\"Standard deviation of period1 is\", uT1Ave)\n",
    "\n",
    "t1Count = Time10Vec\n",
    "\n",
    "relt1ave = ut1Ave/len(t1Count)\n",
    "print(\"Relative uncertainty of t1 is\", relt1ave)\n",
    "relT1ave = uT1Ave/len(t1Count)\n",
    "print(\"Relative uncertainty of period1 is\", relT1ave)"
   ]
  },
  {
   "cell_type": "markdown",
   "id": "b10dffc7-98c5-45fa-9967-384dc9845128",
   "metadata": {},
   "source": [
    "## Calculations for 20 degrees angle (Round 1)"
   ]
  },
  {
   "cell_type": "code",
   "execution_count": 129,
   "id": "c5a72635-e221-49af-b4f4-c378d286f83b",
   "metadata": {
    "tags": []
   },
   "outputs": [
    {
     "name": "stdout",
     "output_type": "stream",
     "text": [
      "Average of t1 is 32.72\n",
      "Standard deviation of t1 is 0.02512712775109023\n",
      "Average of period1 is 1.8178086419753083\n",
      "Standard deviation of period2 is 0.001396292700525169\n",
      "Relative uncertainty of t2 is 0.0014133645854142495\n",
      "Relative uncertainty of period2 is 6.644042349048185e-05\n"
     ]
    }
   ],
   "source": [
    "t2Ave = np.mean(Time20Vec)\n",
    "print(\"Average of t1 is\", t2Ave)\n",
    "ut2Ave = np.std(Time20Vec, ddof=1)/(np.sqrt(18))\n",
    "print(\"Standard deviation of t1 is\", ut2Ave)\n",
    "\n",
    "T2Ave = np.mean(Period20Vec)\n",
    "print(\"Average of period1 is\", T2Ave)\n",
    "uT2Ave = np.std(Period20Vec, ddof=1)/(np.sqrt(18))\n",
    "print(\"Standard deviation of period2 is\", uT2Ave)\n",
    "\n",
    "t2Count = Time20Vec\n",
    "\n",
    "relt2ave = ut1Ave/len(t2Count)\n",
    "print(\"Relative uncertainty of t2 is\", relt2ave)\n",
    "relT2ave = uT1Ave/len(t2Count)\n",
    "print(\"Relative uncertainty of period2 is\", relT2ave)"
   ]
  },
  {
   "cell_type": "markdown",
   "id": "5d63624a-0bce-4d88-bfb4-43022d3a87ad",
   "metadata": {},
   "source": [
    "## t-score Calculation (Round 2)"
   ]
  },
  {
   "cell_type": "code",
   "execution_count": 130,
   "id": "ae51cb74-0b97-41cf-8e88-baa498770df7",
   "metadata": {
    "tags": []
   },
   "outputs": [
    {
     "name": "stdout",
     "output_type": "stream",
     "text": [
      "The t-score value is 6.8663810714246365\n"
     ]
    }
   ],
   "source": [
    "tScore = np.abs(T2Ave-T1Ave)/np.sqrt(uT2Ave**2+uT1Ave**2)\n",
    "print(\"The t-score value is\", tScore)"
   ]
  },
  {
   "cell_type": "markdown",
   "id": "7df7ff5a-0df9-4085-a91e-6d98e4b8d5be",
   "metadata": {},
   "source": [
    "## YOUR SUMMARY OF RESULTS AND SUBMIT"
   ]
  },
  {
   "cell_type": "markdown",
   "id": "8778f9ab-d956-4dfa-9319-daa7fa4611ea",
   "metadata": {},
   "source": [
    "- A brief summary of your key results and key comparisons in 1-2 sentences.\n",
    "\n",
    "Our t-score increased from 5.391 to 6.866 when we increased our cycles from 15 to 18 and trials from 15 to 18. From the results of round one and round two we can conclude that we are extremely confident that there is a difference because our t-score was 5.391 and 6.866, this is a very reliable measurement because we had really low relative uncertainties of (0.0002 and 0.0002) and (0.0014 and 0.0014), similar to Cristiana's group that we compared results with (their values are specified down below).\n",
    "\n",
    "- 1-2 sentences to describe and justify your major improvements and how they proved to be successful or unsuccessful. It may be helpful to use relative uncertainty to quantify your argument.\n",
    "\n",
    "We decided to increase the cycles from 15 to 18 and the trials from 15 to 18 because we hypothesized that an increase in both trials and cycles will increase our accuracy in calculations. Based on the results from the t-scores we are not sure if this is successful. This is due to our relative uncertainties in round two increased compared to round one (0.0002 to 0.0014), and our t-scores (5.391 to 6.866).\n",
    "\n",
    "- 1-2 sentences addressing the experimental goal and describing the conclusions you can make from the results of your comparisons. How do your results from this week compare to Lab 3?\n",
    "\n",
    "From our comparison of t-scores in each round and of the other groups, we can conclude that the period of a pendulum depends on amplitude by comparing the period with initial release angles of 10° and 20°. Last we we concluded that the period a pendulum does not depend on amplitude because the t-score value that we got was very low, 0.39408, even thought our uncertainties were also low. This week we know that the conclusion from last week is incorrect due to us increasing our cycles, and trials and therefore having a higher t-score. "
   ]
  },
  {
   "cell_type": "markdown",
   "id": "28df5d2b-5cb5-4ae4-aceb-ad6c1809c9b0",
   "metadata": {},
   "source": [
    "## Relative Uncertainty \n",
    "- Round One: 0.0002 and 0.0002\n",
    "- Round Two: 0.0014 and 0.0014\n",
    "- From Other Group: 0.0005 and 0.0004\n",
    "## t-score\n",
    "- Round One: 5.391\n",
    "- Round Two: 6.866\n",
    "- From the Other Group: 6.165"
   ]
  },
  {
   "cell_type": "markdown",
   "id": "818f2cae-2811-4d42-8a06-9a1ba2a26da1",
   "metadata": {},
   "source": [
    "# Submit\n",
    "\n",
    "Steps for submission:\n",
    "\n",
    "1. Click: Run => Run_All_Cells\n",
    "2. Read through the notebook to ensure all the cells executed correctly and without error.\n",
    "3. File => Save_and_Export_Notebook_As->HTML\n",
    "4. Upload the HTML document to the lab submission assignment on Canvas."
   ]
  },
  {
   "cell_type": "code",
   "execution_count": null,
   "id": "6fdf957e",
   "metadata": {},
   "outputs": [],
   "source": []
  },
  {
   "cell_type": "code",
   "execution_count": 131,
   "id": "645481c6-3c5c-4813-80a3-7a242297fbba",
   "metadata": {
    "tags": []
   },
   "outputs": [
    {
     "name": "stdout",
     "output_type": "stream",
     "text": [
      "Sheet: de1   File: lab04_2.csv\n"
     ]
    },
    {
     "data": {
      "text/html": [
       "<div>\n",
       "<style scoped>\n",
       "    .dataframe tbody tr th:only-of-type {\n",
       "        vertical-align: middle;\n",
       "    }\n",
       "\n",
       "    .dataframe tbody tr th {\n",
       "        vertical-align: top;\n",
       "    }\n",
       "\n",
       "    .dataframe thead th {\n",
       "        text-align: right;\n",
       "    }\n",
       "</style>\n",
       "<table border=\"1\" class=\"dataframe\">\n",
       "  <thead>\n",
       "    <tr style=\"text-align: right;\">\n",
       "      <th></th>\n",
       "      <th>Time10</th>\n",
       "      <th>Period10</th>\n",
       "      <th>Time20</th>\n",
       "      <th>Period20</th>\n",
       "    </tr>\n",
       "  </thead>\n",
       "  <tbody>\n",
       "    <tr>\n",
       "      <th>Units</th>\n",
       "      <td>s</td>\n",
       "      <td>s</td>\n",
       "      <td>s</td>\n",
       "      <td>s</td>\n",
       "    </tr>\n",
       "    <tr>\n",
       "      <th>0</th>\n",
       "      <td>32.37</td>\n",
       "      <td>1.7983333333333331</td>\n",
       "      <td>32.74</td>\n",
       "      <td>1.818888888888889</td>\n",
       "    </tr>\n",
       "    <tr>\n",
       "      <th>1</th>\n",
       "      <td>32.52</td>\n",
       "      <td>1.8066666666666669</td>\n",
       "      <td>32.92</td>\n",
       "      <td>1.828888888888889</td>\n",
       "    </tr>\n",
       "    <tr>\n",
       "      <th>2</th>\n",
       "      <td>32.47</td>\n",
       "      <td>1.8038888888888889</td>\n",
       "      <td>32.63</td>\n",
       "      <td>1.8127777777777778</td>\n",
       "    </tr>\n",
       "    <tr>\n",
       "      <th>3</th>\n",
       "      <td>32.52</td>\n",
       "      <td>1.8066666666666669</td>\n",
       "      <td>32.69</td>\n",
       "      <td>1.816111111111111</td>\n",
       "    </tr>\n",
       "    <tr>\n",
       "      <th>4</th>\n",
       "      <td>32.74</td>\n",
       "      <td>1.8038888888888889</td>\n",
       "      <td>32.48</td>\n",
       "      <td>1.8044444444444443</td>\n",
       "    </tr>\n",
       "    <tr>\n",
       "      <th>5</th>\n",
       "      <td>32.61</td>\n",
       "      <td>1.8116666666666665</td>\n",
       "      <td>32.69</td>\n",
       "      <td>1.816111111111111</td>\n",
       "    </tr>\n",
       "    <tr>\n",
       "      <th>6</th>\n",
       "      <td>32.43</td>\n",
       "      <td>1.8016666666666667</td>\n",
       "      <td>32.69</td>\n",
       "      <td>1.816111111111111</td>\n",
       "    </tr>\n",
       "    <tr>\n",
       "      <th>7</th>\n",
       "      <td>32.42</td>\n",
       "      <td>1.801111111111111</td>\n",
       "      <td>32.66</td>\n",
       "      <td>1.8144444444444443</td>\n",
       "    </tr>\n",
       "    <tr>\n",
       "      <th>8</th>\n",
       "      <td>32.61</td>\n",
       "      <td>1.8116666666666665</td>\n",
       "      <td>32.73</td>\n",
       "      <td>1.8183333333333331</td>\n",
       "    </tr>\n",
       "    <tr>\n",
       "      <th>9</th>\n",
       "      <td>32.32</td>\n",
       "      <td>1.7955555555555556</td>\n",
       "      <td>32.60</td>\n",
       "      <td>1.8111111111111111</td>\n",
       "    </tr>\n",
       "    <tr>\n",
       "      <th>10</th>\n",
       "      <td>32.59</td>\n",
       "      <td>1.8105555555555557</td>\n",
       "      <td>32.91</td>\n",
       "      <td>1.8283333333333331</td>\n",
       "    </tr>\n",
       "    <tr>\n",
       "      <th>11</th>\n",
       "      <td>32.41</td>\n",
       "      <td>1.8005555555555555</td>\n",
       "      <td>32.83</td>\n",
       "      <td>1.823888888888889</td>\n",
       "    </tr>\n",
       "    <tr>\n",
       "      <th>12</th>\n",
       "      <td>32.54</td>\n",
       "      <td>1.8077777777777777</td>\n",
       "      <td>32.72</td>\n",
       "      <td>1.8183333333333331</td>\n",
       "    </tr>\n",
       "    <tr>\n",
       "      <th>13</th>\n",
       "      <td>32.59</td>\n",
       "      <td>1.8105555555555557</td>\n",
       "      <td>32.76</td>\n",
       "      <td>1.8199999999999998</td>\n",
       "    </tr>\n",
       "    <tr>\n",
       "      <th>14</th>\n",
       "      <td>32.64</td>\n",
       "      <td>1.8133333333333335</td>\n",
       "      <td>32.8</td>\n",
       "      <td>1.822222222222222</td>\n",
       "    </tr>\n",
       "    <tr>\n",
       "      <th>15</th>\n",
       "      <td>32.41</td>\n",
       "      <td>1.8005555555555555</td>\n",
       "      <td>32.65</td>\n",
       "      <td>1.8138888888888889</td>\n",
       "    </tr>\n",
       "    <tr>\n",
       "      <th>16</th>\n",
       "      <td>32.5</td>\n",
       "      <td>1.8055555555555556</td>\n",
       "      <td>32.68</td>\n",
       "      <td>1.8155555555555556</td>\n",
       "    </tr>\n",
       "    <tr>\n",
       "      <th>17</th>\n",
       "      <td>32.46</td>\n",
       "      <td>1.8033333333333335</td>\n",
       "      <td>32.78</td>\n",
       "      <td>1.8211111111111111</td>\n",
       "    </tr>\n",
       "  </tbody>\n",
       "</table>\n",
       "</div>"
      ],
      "text/plain": [
       "      Time10            Period10 Time20            Period20\n",
       "Units      s                   s      s                   s\n",
       "0      32.37  1.7983333333333331  32.74   1.818888888888889\n",
       "1      32.52  1.8066666666666669  32.92   1.828888888888889\n",
       "2      32.47  1.8038888888888889  32.63  1.8127777777777778\n",
       "3      32.52  1.8066666666666669  32.69   1.816111111111111\n",
       "4      32.74  1.8038888888888889  32.48  1.8044444444444443\n",
       "5      32.61  1.8116666666666665  32.69   1.816111111111111\n",
       "6      32.43  1.8016666666666667  32.69   1.816111111111111\n",
       "7      32.42   1.801111111111111  32.66  1.8144444444444443\n",
       "8      32.61  1.8116666666666665  32.73  1.8183333333333331\n",
       "9      32.32  1.7955555555555556  32.60  1.8111111111111111\n",
       "10     32.59  1.8105555555555557  32.91  1.8283333333333331\n",
       "11     32.41  1.8005555555555555  32.83   1.823888888888889\n",
       "12     32.54  1.8077777777777777  32.72  1.8183333333333331\n",
       "13     32.59  1.8105555555555557  32.76  1.8199999999999998\n",
       "14     32.64  1.8133333333333335   32.8   1.822222222222222\n",
       "15     32.41  1.8005555555555555  32.65  1.8138888888888889\n",
       "16      32.5  1.8055555555555556  32.68  1.8155555555555556\n",
       "17     32.46  1.8033333333333335  32.78  1.8211111111111111"
      ]
     },
     "metadata": {},
     "output_type": "display_data"
    }
   ],
   "source": [
    "# trick to display tables in html output\n",
    "display_sheets()"
   ]
  }
 ],
 "metadata": {
  "kernelspec": {
   "display_name": "Python 3 (ipykernel)",
   "language": "python",
   "name": "python3"
  },
  "language_info": {
   "codemirror_mode": {
    "name": "ipython",
    "version": 3
   },
   "file_extension": ".py",
   "mimetype": "text/x-python",
   "name": "python",
   "nbconvert_exporter": "python",
   "pygments_lexer": "ipython3",
   "version": "3.10.8"
  },
  "widgets": {
   "application/vnd.jupyter.widget-state+json": {
    "state": {
     "019990bba433443eadea62728b43d490": {
      "model_module": "@jupyter-widgets/controls",
      "model_module_version": "2.0.0",
      "model_name": "ButtonStyleModel",
      "state": {
       "font_family": null,
       "font_size": null,
       "font_style": null,
       "font_variant": null,
       "font_weight": null,
       "text_color": null,
       "text_decoration": null
      }
     },
     "02c1a3d956624f1ba291e0ce69704815": {
      "model_module": "@jupyter-widgets/controls",
      "model_module_version": "2.0.0",
      "model_name": "ButtonModel",
      "state": {
       "description": "Redo",
       "layout": "IPY_MODEL_ce87475d849a427eb409eb79cf082722",
       "style": "IPY_MODEL_e98461bfb5f947f99dccca425e3825c2",
       "tooltip": null
      }
     },
     "031b488094304358b119c9891fee15b6": {
      "model_module": "ipydatagrid",
      "model_module_version": "^1.2.0",
      "model_name": "VegaExprModel",
      "state": {
       "_model_module_version": "^1.2.0",
       "_view_module": "ipydatagrid",
       "_view_module_version": "^1.2.0",
       "_view_name": "VegaExprView"
      }
     },
     "039d39155b9a482aa69d1e05e147265b": {
      "model_module": "@jupyter-widgets/base",
      "model_module_version": "2.0.0",
      "model_name": "LayoutModel",
      "state": {}
     },
     "03c369cd98ad4d00b70347a2bad0ab2a": {
      "model_module": "@jupyter-widgets/base",
      "model_module_version": "2.0.0",
      "model_name": "LayoutModel",
      "state": {}
     },
     "04275b2d6fa44a8f858582d5b3240702": {
      "model_module": "@jupyter-widgets/controls",
      "model_module_version": "2.0.0",
      "model_name": "ButtonStyleModel",
      "state": {
       "font_family": null,
       "font_size": null,
       "font_style": null,
       "font_variant": null,
       "font_weight": null,
       "text_color": null,
       "text_decoration": null
      }
     },
     "06219ff18985472c99fb513d46721eed": {
      "model_module": "@jupyter-widgets/base",
      "model_module_version": "2.0.0",
      "model_name": "LayoutModel",
      "state": {
       "height": "210px"
      }
     },
     "0699d81e3ed8475191f7601315e076ed": {
      "model_module": "@jupyter-widgets/base",
      "model_module_version": "2.0.0",
      "model_name": "LayoutModel",
      "state": {}
     },
     "0a7482036bb64979a4ddc899700eac7c": {
      "model_module": "@jupyter-widgets/controls",
      "model_module_version": "2.0.0",
      "model_name": "ButtonStyleModel",
      "state": {
       "font_family": null,
       "font_size": null,
       "font_style": null,
       "font_variant": null,
       "font_weight": null,
       "text_color": null,
       "text_decoration": null
      }
     },
     "0adcd73993b643519aa3cd3bdd808e3b": {
      "model_module": "@jupyter-widgets/base",
      "model_module_version": "2.0.0",
      "model_name": "LayoutModel",
      "state": {}
     },
     "0b4ef286abcd4565a2679b0288d90bce": {
      "model_module": "@jupyter-widgets/base",
      "model_module_version": "2.0.0",
      "model_name": "LayoutModel",
      "state": {}
     },
     "0ccdcc1925d54ae7afdc3e257029cb18": {
      "model_module": "ipydatagrid",
      "model_module_version": "^1.2.0",
      "model_name": "VegaExprModel",
      "state": {
       "_model_module_version": "^1.2.0",
       "_view_module": "ipydatagrid",
       "_view_module_version": "^1.2.0",
       "_view_name": "VegaExprView"
      }
     },
     "0cf5ec9b25834708b155075b7cf47b1d": {
      "model_module": "@jupyter-widgets/base",
      "model_module_version": "2.0.0",
      "model_name": "LayoutModel",
      "state": {}
     },
     "0ff27b58e2ca4caf9c81d1dfcda8ee23": {
      "model_module": "@jupyter-widgets/controls",
      "model_module_version": "2.0.0",
      "model_name": "VBoxModel",
      "state": {
       "children": [
        "IPY_MODEL_605c784e6d724b489bfe22e50e4ed6c3",
        "IPY_MODEL_f454c30f42244fd59d6d0da3acdfcae1",
        "IPY_MODEL_3267a551ac2b4733a601823da53d9f6d"
       ],
       "layout": "IPY_MODEL_22ff55fe98cf4f52b6ee1aa3efd683f5"
      }
     },
     "102f87f290264c44b396654ac7248507": {
      "model_module": "@jupyter-widgets/controls",
      "model_module_version": "2.0.0",
      "model_name": "HBoxModel",
      "state": {
       "children": [
        "IPY_MODEL_b6b2b825835d45e4bb25a4313001d137",
        "IPY_MODEL_a9104be81e044712920a20a849ea3d15",
        "IPY_MODEL_60fe1555b4a2494d9bc47c8f8e087dfa",
        "IPY_MODEL_29d53408c88f43c1be70a1083672a5a8",
        "IPY_MODEL_957c41177d3d49b2b488a41fabcc0c7e"
       ],
       "layout": "IPY_MODEL_7e31595097df482da0cfa1602d75370b"
      }
     },
     "10dc86c454524be4b1a3f6ebce43b850": {
      "model_module": "@jupyter-widgets/base",
      "model_module_version": "2.0.0",
      "model_name": "LayoutModel",
      "state": {}
     },
     "11740338052e4047a81cbe8b44a54f7c": {
      "model_module": "@jupyter-widgets/base",
      "model_module_version": "2.0.0",
      "model_name": "LayoutModel",
      "state": {}
     },
     "1200ab9509404e47b0220f8f9c8b56d3": {
      "model_module": "@jupyter-widgets/controls",
      "model_module_version": "2.0.0",
      "model_name": "ButtonModel",
      "state": {
       "description": "Add Row",
       "layout": "IPY_MODEL_b0686bc4a94e41c98111627f938b4237",
       "style": "IPY_MODEL_888f6d60f2234d9398e9bd82623f44ff",
       "tooltip": null
      }
     },
     "120eb106559b46e1a18ef8ec93bc001f": {
      "model_module": "@jupyter-widgets/controls",
      "model_module_version": "2.0.0",
      "model_name": "ButtonStyleModel",
      "state": {
       "font_family": null,
       "font_size": null,
       "font_style": null,
       "font_variant": null,
       "font_weight": null,
       "text_color": null,
       "text_decoration": null
      }
     },
     "12625bcd774c4c68b7df88744b557940": {
      "model_module": "@jupyter-widgets/controls",
      "model_module_version": "2.0.0",
      "model_name": "ButtonStyleModel",
      "state": {
       "font_family": null,
       "font_size": null,
       "font_style": null,
       "font_variant": null,
       "font_weight": null,
       "text_color": null,
       "text_decoration": null
      }
     },
     "12b54701064a4b4aab13747e51c4a28a": {
      "model_module": "@jupyter-widgets/base",
      "model_module_version": "2.0.0",
      "model_name": "LayoutModel",
      "state": {}
     },
     "12fc5496f3364d04b98dc718f6ecc930": {
      "model_module": "@jupyter-widgets/base",
      "model_module_version": "2.0.0",
      "model_name": "LayoutModel",
      "state": {}
     },
     "1386711a3ee04341a97a70486f38da63": {
      "model_module": "@jupyter-widgets/base",
      "model_module_version": "2.0.0",
      "model_name": "LayoutModel",
      "state": {}
     },
     "149debe58be242bfabe8557518c06546": {
      "model_module": "@jupyter-widgets/output",
      "model_module_version": "1.0.0",
      "model_name": "OutputModel",
      "state": {
       "layout": "IPY_MODEL_910b075de60e4f01a6eaaabaf58fea18"
      }
     },
     "14b7bfacaec04a259e425c489d7f12da": {
      "model_module": "@jupyter-widgets/base",
      "model_module_version": "2.0.0",
      "model_name": "LayoutModel",
      "state": {}
     },
     "14cc30323e924800b72d0ff4f06e8675": {
      "model_module": "@jupyter-widgets/controls",
      "model_module_version": "2.0.0",
      "model_name": "ButtonStyleModel",
      "state": {
       "font_family": null,
       "font_size": null,
       "font_style": null,
       "font_variant": null,
       "font_weight": null,
       "text_color": null,
       "text_decoration": null
      }
     },
     "16f81af5780f4e75b99902f2fde88d18": {
      "model_module": "@jupyter-widgets/base",
      "model_module_version": "2.0.0",
      "model_name": "LayoutModel",
      "state": {
       "height": "270px"
      }
     },
     "17abf3a977de49e8b4f38b69508ebac9": {
      "model_module": "@jupyter-widgets/controls",
      "model_module_version": "2.0.0",
      "model_name": "ButtonStyleModel",
      "state": {
       "font_family": null,
       "font_size": null,
       "font_style": null,
       "font_variant": null,
       "font_weight": null,
       "text_color": null,
       "text_decoration": null
      }
     },
     "17ce389a6bf5428eaa5450d2c8983766": {
      "model_module": "@jupyter-widgets/base",
      "model_module_version": "2.0.0",
      "model_name": "LayoutModel",
      "state": {}
     },
     "180acda36a7f4c8ca0050fca4258d3a1": {
      "model_module": "@jupyter-widgets/output",
      "model_module_version": "1.0.0",
      "model_name": "OutputModel",
      "state": {
       "layout": "IPY_MODEL_92a8a71cc3ad4e18be31117736cc5d0b"
      }
     },
     "185841e296744fa3817b29f556a855b1": {
      "model_module": "@jupyter-widgets/base",
      "model_module_version": "2.0.0",
      "model_name": "LayoutModel",
      "state": {
       "height": "250px"
      }
     },
     "1876548a87bc4ce08d67298ba8ab074a": {
      "model_module": "@jupyter-widgets/base",
      "model_module_version": "2.0.0",
      "model_name": "LayoutModel",
      "state": {}
     },
     "18892f357075405bbe5468eb363e0cb3": {
      "model_module": "@jupyter-widgets/controls",
      "model_module_version": "2.0.0",
      "model_name": "VBoxModel",
      "state": {
       "children": [
        "IPY_MODEL_aa55e74720374217a8762615887c46bf",
        "IPY_MODEL_a3df8b74710640488e2744280ca518d7",
        "IPY_MODEL_8b37128eedbb4f8fb9b6f6992db31788"
       ],
       "layout": "IPY_MODEL_039d39155b9a482aa69d1e05e147265b"
      }
     },
     "199da5be3e6c491d817470382ae07e5f": {
      "model_module": "@jupyter-widgets/controls",
      "model_module_version": "2.0.0",
      "model_name": "ButtonStyleModel",
      "state": {
       "font_family": null,
       "font_size": null,
       "font_style": null,
       "font_variant": null,
       "font_weight": null,
       "text_color": null,
       "text_decoration": null
      }
     },
     "1a3500964b3647fcac4863af48a83231": {
      "model_module": "ipydatagrid",
      "model_module_version": "^1.2.0",
      "model_name": "DataGridModel",
      "state": {
       "_data": {
        "data": [
         {
          "0": "Time10",
          "1": "Period10",
          "2": "Time20",
          "3": "Period20",
          "ipydguuid": 0,
          "key": "  Variable:"
         },
         {
          "0": "s",
          "1": "s",
          "2": "s",
          "3": "s",
          "ipydguuid": 1,
          "key": " Units:"
         },
         {
          "0": "27.02",
          "1": "1.8013333333333332",
          "2": "27.12",
          "3": "1.808",
          "ipydguuid": 2,
          "key": 0
         },
         {
          "0": "26.99",
          "1": "1.7993333333333332",
          "2": "27.17",
          "3": "1.8113333333333335",
          "ipydguuid": 3,
          "key": 1
         },
         {
          "0": "27.00",
          "1": "1.8",
          "2": "27.21",
          "3": "1.814",
          "ipydguuid": 4,
          "key": 2
         },
         {
          "0": "26.84",
          "1": "1.7893333333333332",
          "2": "27.13",
          "3": "1.8086666666666666",
          "ipydguuid": 5,
          "key": 3
         },
         {
          "0": "26.62",
          "1": "1.7746666666666668",
          "2": "27.23",
          "3": "1.8153333333333335",
          "ipydguuid": 6,
          "key": 4
         },
         {
          "0": "26.78",
          "1": "1.7853333333333334",
          "2": "27.21",
          "3": "1.814",
          "ipydguuid": 7,
          "key": 5
         },
         {
          "0": "27.29",
          "1": "1.8193333333333332",
          "2": "27.31",
          "3": "1.8206666666666667",
          "ipydguuid": 8,
          "key": 6
         },
         {
          "0": "27.00",
          "1": "1.8",
          "2": "27.26",
          "3": "1.8173333333333335",
          "ipydguuid": 9,
          "key": 7
         },
         {
          "0": "26.80",
          "1": "1.7866666666666666",
          "2": "27.40",
          "3": "1.8266666666666667",
          "ipydguuid": 10,
          "key": 8
         },
         {
          "0": "26.85",
          "1": "1.79",
          "2": "27.47",
          "3": "1.8313333333333333",
          "ipydguuid": 11,
          "key": 9
         },
         {
          "0": "26.96",
          "1": "1.7973333333333334",
          "2": "27.36",
          "3": "1.824",
          "ipydguuid": 12,
          "key": 10
         },
         {
          "0": "26.90",
          "1": "1.7933333333333332",
          "2": "27.39",
          "3": "1.826",
          "ipydguuid": 13,
          "key": 11
         },
         {
          "0": "27.10",
          "1": "1.8066666666666669",
          "2": "27.23",
          "3": "1.8153333333333335",
          "ipydguuid": 14,
          "key": 12
         },
         {
          "0": "27.31",
          "1": "1.8206666666666667",
          "2": "27.20",
          "3": "1.8133333333333332",
          "ipydguuid": 15,
          "key": 13
         },
         {
          "0": "26.94",
          "1": "1.796",
          "2": "27.13",
          "3": "1.8086666666666666",
          "ipydguuid": 16,
          "key": 14
         }
        ],
        "fields": [
         {
          "key": null
         },
         {
          "0": null
         },
         {
          "1": null
         },
         {
          "2": null
         },
         {
          "3": null
         },
         {
          "ipydguuid": null
         }
        ],
        "schema": {
         "fields": [
          {
           "name": "key",
           "type": "string"
          },
          {
           "name": 0,
           "type": "string"
          },
          {
           "name": 1,
           "type": "string"
          },
          {
           "name": 2,
           "type": "string"
          },
          {
           "name": 3,
           "type": "string"
          },
          {
           "name": "ipydguuid",
           "type": "integer"
          }
         ],
         "pandas_version": "1.4.0",
         "primaryKey": [
          "key",
          "ipydguuid"
         ],
         "primaryKeyUuid": "ipydguuid"
        }
       },
       "_model_module_version": "^1.2.0",
       "_model_name": "DataGridModel",
       "_view_module_version": "^1.2.0",
       "_visible_rows": [
        0,
        1,
        2,
        3,
        4,
        5,
        6,
        7,
        8,
        9,
        10,
        11,
        12,
        13,
        14,
        15,
        16
       ],
       "auto_fit_columns": false,
       "auto_fit_params": {
        "area": "all",
        "numCols": null,
        "padding": 30
       },
       "base_column_header_size": 20,
       "base_column_size": 64,
       "base_row_header_size": 64,
       "base_row_size": 20,
       "default_renderer": "IPY_MODEL_5d30ff809e36413884c56fdd2b71c645",
       "editable": true,
       "header_visibility": "all",
       "layout": "IPY_MODEL_bf6e68d00e0f4f45a94481c37458f2da",
       "selection_mode": "cell",
       "selections": [
        {
         "c1": 2,
         "c2": 2,
         "r1": 6,
         "r2": 6
        }
       ]
      }
     },
     "1ae9ca70f35440629a49f824783bd32c": {
      "model_module": "@jupyter-widgets/controls",
      "model_module_version": "2.0.0",
      "model_name": "ButtonStyleModel",
      "state": {
       "font_family": null,
       "font_size": null,
       "font_style": null,
       "font_variant": null,
       "font_weight": null,
       "text_color": null,
       "text_decoration": null
      }
     },
     "1aee5a0705474a33938e8b08961a8b7d": {
      "model_module": "@jupyter-widgets/base",
      "model_module_version": "2.0.0",
      "model_name": "LayoutModel",
      "state": {}
     },
     "1b236abfec6a4eee849a7659f3fc12e8": {
      "model_module": "@jupyter-widgets/base",
      "model_module_version": "2.0.0",
      "model_name": "LayoutModel",
      "state": {}
     },
     "1c2acb20381c4f2f90d81c9e0b9ccfb5": {
      "model_module": "@jupyter-widgets/output",
      "model_module_version": "1.0.0",
      "model_name": "OutputModel",
      "state": {
       "layout": "IPY_MODEL_e58adfaeb92f4ed7a71f40e43249e4e7"
      }
     },
     "1c4706fb2b5b4feb8417134ca386e2c5": {
      "model_module": "@jupyter-widgets/base",
      "model_module_version": "2.0.0",
      "model_name": "LayoutModel",
      "state": {}
     },
     "1c88ab5bf28e4d2383d0d0b2ec1d1781": {
      "model_module": "@jupyter-widgets/base",
      "model_module_version": "2.0.0",
      "model_name": "LayoutModel",
      "state": {}
     },
     "1e97a3178290418e9af1aa0b8c54db13": {
      "model_module": "@jupyter-widgets/output",
      "model_module_version": "1.0.0",
      "model_name": "OutputModel",
      "state": {
       "layout": "IPY_MODEL_cf8aa9c34fd1470aa42ee72281a23fba",
       "outputs": [
        {
         "name": "stdout",
         "output_type": "stream",
         "text": "Data vectors need to be updated\n"
        }
       ]
      }
     },
     "1f468b0b45594c19a975cf553b50527c": {
      "model_module": "ipydatagrid",
      "model_module_version": "^1.2.0",
      "model_name": "VegaExprModel",
      "state": {
       "_model_module_version": "^1.2.0",
       "_view_module": "ipydatagrid",
       "_view_module_version": "^1.2.0",
       "_view_name": "VegaExprView"
      }
     },
     "1f938c3911c74bd5a092480b1855ca77": {
      "model_module": "@jupyter-widgets/base",
      "model_module_version": "2.0.0",
      "model_name": "LayoutModel",
      "state": {}
     },
     "20aedf2a820b4f2ba41d40b3d82a9e81": {
      "model_module": "@jupyter-widgets/controls",
      "model_module_version": "2.0.0",
      "model_name": "ButtonStyleModel",
      "state": {
       "font_family": null,
       "font_size": null,
       "font_style": null,
       "font_variant": null,
       "font_weight": null,
       "text_color": null,
       "text_decoration": null
      }
     },
     "210b57feffa2477c98881028a8692845": {
      "model_module": "ipydatagrid",
      "model_module_version": "^1.2.0",
      "model_name": "VegaExprModel",
      "state": {
       "_model_module_version": "^1.2.0",
       "_view_module": "ipydatagrid",
       "_view_module_version": "^1.2.0",
       "_view_name": "VegaExprView"
      }
     },
     "2158557abc2e48bcadeb0c734df6d1ab": {
      "model_module": "@jupyter-widgets/controls",
      "model_module_version": "2.0.0",
      "model_name": "ButtonStyleModel",
      "state": {
       "font_family": null,
       "font_size": null,
       "font_style": null,
       "font_variant": null,
       "font_weight": null,
       "text_color": null,
       "text_decoration": null
      }
     },
     "215d5d3c58694b1fbe323d61450dba1a": {
      "model_module": "@jupyter-widgets/controls",
      "model_module_version": "2.0.0",
      "model_name": "VBoxModel",
      "state": {
       "children": [
        "IPY_MODEL_b2303881b8c4488bb189dec2e9bda802",
        "IPY_MODEL_7617d4deb98448cda5eb08fab4603483",
        "IPY_MODEL_149debe58be242bfabe8557518c06546"
       ],
       "layout": "IPY_MODEL_82fb632da8a44e2aaf8956f02adfd73e"
      }
     },
     "2244e18573914d46ab98e279542bd944": {
      "model_module": "@jupyter-widgets/base",
      "model_module_version": "2.0.0",
      "model_name": "LayoutModel",
      "state": {
       "height": "310px"
      }
     },
     "22ed171cdd5f423fbacaa7644e699fd0": {
      "model_module": "@jupyter-widgets/base",
      "model_module_version": "2.0.0",
      "model_name": "LayoutModel",
      "state": {
       "height": "450px"
      }
     },
     "22ff55fe98cf4f52b6ee1aa3efd683f5": {
      "model_module": "@jupyter-widgets/base",
      "model_module_version": "2.0.0",
      "model_name": "LayoutModel",
      "state": {}
     },
     "239f3ce343734cc58a34f96416e3851b": {
      "model_module": "@jupyter-widgets/base",
      "model_module_version": "2.0.0",
      "model_name": "LayoutModel",
      "state": {
       "height": "150px"
      }
     },
     "24272c79916347e09c754cbd8637adde": {
      "model_module": "@jupyter-widgets/controls",
      "model_module_version": "2.0.0",
      "model_name": "ButtonModel",
      "state": {
       "description": "Undo",
       "layout": "IPY_MODEL_c2fb7ace77a04270acd10cc900ba2db3",
       "style": "IPY_MODEL_4e4256d724bc4068b510b06f2e1fa07d",
       "tooltip": null
      }
     },
     "24b7879ba2944f68b5c6113b934800bf": {
      "model_module": "@jupyter-widgets/base",
      "model_module_version": "2.0.0",
      "model_name": "LayoutModel",
      "state": {}
     },
     "2540956f93664349a63bf284aa1cff85": {
      "model_module": "@jupyter-widgets/controls",
      "model_module_version": "2.0.0",
      "model_name": "ButtonModel",
      "state": {
       "description": "Add Row",
       "layout": "IPY_MODEL_0adcd73993b643519aa3cd3bdd808e3b",
       "style": "IPY_MODEL_31aab54c53784c49a8a697df71fbec58",
       "tooltip": null
      }
     },
     "25575ca5c85a4b24ac82bf77611e4847": {
      "model_module": "ipydatagrid",
      "model_module_version": "^1.2.0",
      "model_name": "DataGridModel",
      "state": {
       "_data": {
        "data": [
         {
          "0": "Time10",
          "1": "Period10",
          "2": "Time20",
          "3": "Period20",
          "ipydguuid": 0,
          "key": "  Variable:"
         },
         {
          "0": "s",
          "1": "s",
          "2": "s",
          "3": "s",
          "ipydguuid": 1,
          "key": " Units:"
         },
         {
          "0": "27.02",
          "1": "1.8013333333333332",
          "2": "27.12",
          "3": "1.808",
          "ipydguuid": 2,
          "key": 0
         },
         {
          "0": "26.99",
          "1": "1.7993333333333332",
          "2": "27.17",
          "3": "1.8113333333333335",
          "ipydguuid": 3,
          "key": 1
         },
         {
          "0": "27.00",
          "1": "1.8",
          "2": "27.21",
          "3": "1.814",
          "ipydguuid": 4,
          "key": 2
         },
         {
          "0": "26.84",
          "1": "1.7893333333333332",
          "2": "27.13",
          "3": "1.8086666666666666",
          "ipydguuid": 5,
          "key": 3
         },
         {
          "0": "26.62",
          "1": "1.7746666666666668",
          "2": "27.23",
          "3": "1.8153333333333335",
          "ipydguuid": 6,
          "key": 4
         },
         {
          "0": "26.78",
          "1": "1.7853333333333334",
          "2": "27.21",
          "3": "1.814",
          "ipydguuid": 7,
          "key": 5
         },
         {
          "0": "27.29",
          "1": "1.8193333333333332",
          "2": "27.31",
          "3": "1.8206666666666667",
          "ipydguuid": 8,
          "key": 6
         },
         {
          "0": "27.00",
          "1": "1.8",
          "2": "27.26",
          "3": "1.8173333333333335",
          "ipydguuid": 9,
          "key": 7
         },
         {
          "0": "26.80",
          "1": "1.7866666666666666",
          "2": "27.40",
          "3": "1.8266666666666667",
          "ipydguuid": 10,
          "key": 8
         },
         {
          "0": "26.85",
          "1": "1.79",
          "2": "27.47",
          "3": "1.8313333333333333",
          "ipydguuid": 11,
          "key": 9
         },
         {
          "0": "26.96",
          "1": "1.7973333333333334",
          "2": "27.36",
          "3": "1.824",
          "ipydguuid": 12,
          "key": 10
         },
         {
          "0": "26.90",
          "1": "1.7933333333333332",
          "2": "27.39",
          "3": "1.826",
          "ipydguuid": 13,
          "key": 11
         },
         {
          "0": "27.10",
          "1": "1.8066666666666669",
          "2": "27.23",
          "3": "1.8153333333333335",
          "ipydguuid": 14,
          "key": 12
         },
         {
          "0": "27.31",
          "1": "1.8206666666666667",
          "2": "27.20",
          "3": "1.8133333333333332",
          "ipydguuid": 15,
          "key": 13
         },
         {
          "0": "26.94",
          "1": "1.796",
          "2": "27.13",
          "3": "1.8086666666666666",
          "ipydguuid": 16,
          "key": 14
         }
        ],
        "fields": [
         {
          "key": null
         },
         {
          "0": null
         },
         {
          "1": null
         },
         {
          "2": null
         },
         {
          "3": null
         },
         {
          "ipydguuid": null
         }
        ],
        "schema": {
         "fields": [
          {
           "name": "key",
           "type": "string"
          },
          {
           "name": 0,
           "type": "string"
          },
          {
           "name": 1,
           "type": "string"
          },
          {
           "name": 2,
           "type": "string"
          },
          {
           "name": 3,
           "type": "string"
          },
          {
           "name": "ipydguuid",
           "type": "integer"
          }
         ],
         "pandas_version": "1.4.0",
         "primaryKey": [
          "key",
          "ipydguuid"
         ],
         "primaryKeyUuid": "ipydguuid"
        }
       },
       "_model_module_version": "^1.2.0",
       "_model_name": "DataGridModel",
       "_view_module_version": "^1.2.0",
       "auto_fit_columns": false,
       "auto_fit_params": {
        "area": "all",
        "numCols": null,
        "padding": 30
       },
       "base_column_header_size": 20,
       "base_column_size": 64,
       "base_row_header_size": 64,
       "base_row_size": 20,
       "default_renderer": "IPY_MODEL_90073302ea7e4085acc4c08f16ec0d63",
       "editable": true,
       "header_visibility": "all",
       "layout": "IPY_MODEL_7dac0a8bdf204f65a3489efb6b6e3209",
       "selection_mode": "cell"
      }
     },
     "269e75fc78994bfe8ecdd7c86e67667a": {
      "model_module": "@jupyter-widgets/controls",
      "model_module_version": "2.0.0",
      "model_name": "HBoxModel",
      "state": {
       "children": [
        "IPY_MODEL_8417ab152fbb4ed4aeb72f5dc772f567",
        "IPY_MODEL_3d8877ee4bea4ead84e81ba5a829f428",
        "IPY_MODEL_83e15938aead485b9b8173e4648a48b3",
        "IPY_MODEL_76a62d082518433986debd6e59c52d9e",
        "IPY_MODEL_8578cbdb7efa465cb64c72300aabe480"
       ],
       "layout": "IPY_MODEL_a55678b56f1c42c0ac1e5e8fff9ef653"
      }
     },
     "28097968e2df4d46a0ca37b91f4281c5": {
      "model_module": "@jupyter-widgets/base",
      "model_module_version": "2.0.0",
      "model_name": "LayoutModel",
      "state": {
       "height": "310px"
      }
     },
     "280cff14a9e3483fa47d988bff519b45": {
      "model_module": "@jupyter-widgets/base",
      "model_module_version": "2.0.0",
      "model_name": "LayoutModel",
      "state": {}
     },
     "28365fdb60c24c7eb10956b8af557aee": {
      "model_module": "@jupyter-widgets/base",
      "model_module_version": "2.0.0",
      "model_name": "LayoutModel",
      "state": {}
     },
     "287a03c6a03d4a42b74055eedae50e31": {
      "model_module": "@jupyter-widgets/base",
      "model_module_version": "2.0.0",
      "model_name": "LayoutModel",
      "state": {}
     },
     "29301b339bea4be0b57aaa2b085bb2b7": {
      "model_module": "@jupyter-widgets/controls",
      "model_module_version": "2.0.0",
      "model_name": "ButtonStyleModel",
      "state": {
       "font_family": null,
       "font_size": null,
       "font_style": null,
       "font_variant": null,
       "font_weight": null,
       "text_color": null,
       "text_decoration": null
      }
     },
     "297b83e77f4442e09ef44245d59a8133": {
      "model_module": "@jupyter-widgets/base",
      "model_module_version": "2.0.0",
      "model_name": "LayoutModel",
      "state": {}
     },
     "29d53408c88f43c1be70a1083672a5a8": {
      "model_module": "@jupyter-widgets/controls",
      "model_module_version": "2.0.0",
      "model_name": "ButtonModel",
      "state": {
       "description": "Add Column",
       "layout": "IPY_MODEL_6ada6f1170bd4a6fad2648459ce77b94",
       "style": "IPY_MODEL_20aedf2a820b4f2ba41d40b3d82a9e81",
       "tooltip": null
      }
     },
     "2bce1da9ea394f1483f1217b90ff22c5": {
      "model_module": "@jupyter-widgets/base",
      "model_module_version": "2.0.0",
      "model_name": "LayoutModel",
      "state": {}
     },
     "2c31a4e822e347cda0ec15e324f63ada": {
      "model_module": "@jupyter-widgets/controls",
      "model_module_version": "2.0.0",
      "model_name": "ButtonModel",
      "state": {
       "description": "Redo",
       "layout": "IPY_MODEL_0699d81e3ed8475191f7601315e076ed",
       "style": "IPY_MODEL_04275b2d6fa44a8f858582d5b3240702",
       "tooltip": null
      }
     },
     "2c4020198071457aa616acf8d2902070": {
      "model_module": "@jupyter-widgets/controls",
      "model_module_version": "2.0.0",
      "model_name": "ButtonModel",
      "state": {
       "description": "Generate Vectors",
       "layout": "IPY_MODEL_f51644d3f3654f78a243166f28efb803",
       "style": "IPY_MODEL_3ac7bcb6be984b4b8923b29181f5a968",
       "tooltip": null
      }
     },
     "2cab9c2477ff4c1d9f49dee4f0632c53": {
      "model_module": "@jupyter-widgets/base",
      "model_module_version": "2.0.0",
      "model_name": "LayoutModel",
      "state": {}
     },
     "2d3c51acf9b7475c84cf754ff7bae46a": {
      "model_module": "ipydatagrid",
      "model_module_version": "^1.2.0",
      "model_name": "TextRendererModel",
      "state": {
       "_model_module_version": "^1.2.0",
       "_view_module_version": "^1.2.0",
       "background_color": "IPY_MODEL_799a490935624365870895aab012c199",
       "text_color": "IPY_MODEL_92f43507665d4f94bba113e1415768d2"
      }
     },
     "30418c9058654f30b28f2c78ef7a4a7c": {
      "model_module": "@jupyter-widgets/base",
      "model_module_version": "2.0.0",
      "model_name": "LayoutModel",
      "state": {
       "height": "370px"
      }
     },
     "3064be8859e345749ad7ca7a710b85d3": {
      "model_module": "ipydatagrid",
      "model_module_version": "^1.2.0",
      "model_name": "DataGridModel",
      "state": {
       "_data": {
        "data": [
         {
          "0": "Time10",
          "1": "Period10",
          "2": "Time20",
          "3": "Period20",
          "ipydguuid": 0,
          "key": "  Variable:"
         },
         {
          "0": "seconds",
          "1": "seconds",
          "2": "seconds",
          "3": "seconds",
          "ipydguuid": 1,
          "key": " Units:"
         },
         {
          "0": "27.02",
          "1": "1.8013333333333332",
          "2": "",
          "3": "",
          "ipydguuid": 2,
          "key": 0
         },
         {
          "0": "26.99",
          "1": "1.7993333333333332",
          "2": "",
          "3": "",
          "ipydguuid": 3,
          "key": 1
         },
         {
          "0": "27.00",
          "1": "1.8",
          "2": "",
          "3": "",
          "ipydguuid": 4,
          "key": 2
         },
         {
          "0": "26.84",
          "1": "1.7893333333333332",
          "2": "",
          "3": "",
          "ipydguuid": 5,
          "key": 3
         },
         {
          "0": "26.62",
          "1": "1.7746666666666668",
          "2": "",
          "3": "",
          "ipydguuid": 6,
          "key": 4
         },
         {
          "0": "26.78",
          "1": "1.7853333333333334",
          "2": "",
          "3": "",
          "ipydguuid": 7,
          "key": 5
         },
         {
          "0": "27.29",
          "1": "1.8193333333333332",
          "2": "",
          "3": "",
          "ipydguuid": 8,
          "key": 6
         },
         {
          "0": "27.00",
          "1": "1.8",
          "2": "",
          "3": "",
          "ipydguuid": 9,
          "key": 7
         },
         {
          "0": "26.80",
          "1": "1.7866666666666666",
          "2": "",
          "3": "",
          "ipydguuid": 10,
          "key": 8
         },
         {
          "0": "26.85",
          "1": "1.79",
          "2": "",
          "3": "",
          "ipydguuid": 11,
          "key": 9
         },
         {
          "0": "26.96",
          "1": "1.7973333333333334",
          "2": "",
          "3": "",
          "ipydguuid": 12,
          "key": 10
         },
         {
          "0": "26.90",
          "1": "1.7933333333333332",
          "2": "",
          "3": "",
          "ipydguuid": 13,
          "key": 11
         },
         {
          "0": "27.10",
          "1": "1.8066666666666669",
          "2": "",
          "3": "",
          "ipydguuid": 14,
          "key": 12
         },
         {
          "0": "27.31",
          "1": "1.8206666666666667",
          "2": "",
          "3": "",
          "ipydguuid": 15,
          "key": 13
         },
         {
          "0": "26.94",
          "1": "1.796",
          "2": "",
          "3": "",
          "ipydguuid": 16,
          "key": 14
         },
         {
          "0": "",
          "1": "",
          "2": "",
          "3": "",
          "ipydguuid": 17,
          "key": 15
         }
        ],
        "fields": [
         {
          "key": null
         },
         {
          "0": null
         },
         {
          "1": null
         },
         {
          "2": null
         },
         {
          "3": null
         },
         {
          "ipydguuid": null
         }
        ],
        "schema": {
         "fields": [
          {
           "name": "key",
           "type": "string"
          },
          {
           "name": 0,
           "type": "string"
          },
          {
           "name": 1,
           "type": "string"
          },
          {
           "name": 2,
           "type": "string"
          },
          {
           "name": 3,
           "type": "string"
          },
          {
           "name": "ipydguuid",
           "type": "integer"
          }
         ],
         "pandas_version": "1.4.0",
         "primaryKey": [
          "key",
          "ipydguuid"
         ],
         "primaryKeyUuid": "ipydguuid"
        }
       },
       "_model_module_version": "^1.2.0",
       "_model_name": "DataGridModel",
       "_view_module_version": "^1.2.0",
       "_visible_rows": [
        0,
        1,
        2,
        3,
        4,
        5,
        6,
        7,
        8,
        9,
        10,
        11,
        12,
        13,
        14,
        15,
        16,
        17
       ],
       "auto_fit_columns": false,
       "auto_fit_params": {
        "area": "all",
        "numCols": null,
        "padding": 30
       },
       "base_column_header_size": 20,
       "base_column_size": 64,
       "base_row_header_size": 64,
       "base_row_size": 20,
       "default_renderer": "IPY_MODEL_6e3e0287a3b8454cab2a1db43de945f8",
       "editable": true,
       "header_visibility": "all",
       "layout": "IPY_MODEL_51d94bd81b774514a4735b18ca6b9cbb",
       "selection_mode": "cell",
       "selections": [
        {
         "c1": 1,
         "c2": 1,
         "r1": 17,
         "r2": 17
        }
       ]
      }
     },
     "3180fd47526148d881e3a58975ea909d": {
      "model_module": "@jupyter-widgets/controls",
      "model_module_version": "2.0.0",
      "model_name": "ButtonStyleModel",
      "state": {
       "font_family": null,
       "font_size": null,
       "font_style": null,
       "font_variant": null,
       "font_weight": null,
       "text_color": null,
       "text_decoration": null
      }
     },
     "31aab54c53784c49a8a697df71fbec58": {
      "model_module": "@jupyter-widgets/controls",
      "model_module_version": "2.0.0",
      "model_name": "ButtonStyleModel",
      "state": {
       "font_family": null,
       "font_size": null,
       "font_style": null,
       "font_variant": null,
       "font_weight": null,
       "text_color": null,
       "text_decoration": null
      }
     },
     "320c3778437646388df04dcd6dbd12ea": {
      "model_module": "@jupyter-widgets/base",
      "model_module_version": "2.0.0",
      "model_name": "LayoutModel",
      "state": {}
     },
     "3267a551ac2b4733a601823da53d9f6d": {
      "model_module": "@jupyter-widgets/output",
      "model_module_version": "1.0.0",
      "model_name": "OutputModel",
      "state": {
       "layout": "IPY_MODEL_8e1e4866e2ce4e35adb4190572115663",
       "outputs": [
        {
         "name": "stdout",
         "output_type": "stream",
         "text": "Data vectors need to be updated\n"
        }
       ]
      }
     },
     "327648b57d02420d844e4e3175b50e10": {
      "model_module": "@jupyter-widgets/controls",
      "model_module_version": "2.0.0",
      "model_name": "HBoxModel",
      "state": {
       "children": [
        "IPY_MODEL_8ebeb5a71ec54d1aab9ea8446197aadf",
        "IPY_MODEL_3cf6fc39dad64d1bb78ec825fdb62d24",
        "IPY_MODEL_6e68aca3e574497b98cb310fa2d21a93",
        "IPY_MODEL_f223b2ba8fff4375a01e8843e18f5e64",
        "IPY_MODEL_c8eda369f7c14f959da3729a7a275999"
       ],
       "layout": "IPY_MODEL_b24289acc6a94b568e0021ad3d24471e"
      }
     },
     "336f01b00bd84cdda64c472567bf7d29": {
      "model_module": "@jupyter-widgets/controls",
      "model_module_version": "2.0.0",
      "model_name": "ButtonModel",
      "state": {
       "description": "Generate Vectors",
       "layout": "IPY_MODEL_28365fdb60c24c7eb10956b8af557aee",
       "style": "IPY_MODEL_6f47140144704dbd93b1dd216dcd6fde",
       "tooltip": null
      }
     },
     "34258d0848064e5db7530df5420f019a": {
      "model_module": "@jupyter-widgets/controls",
      "model_module_version": "2.0.0",
      "model_name": "ButtonModel",
      "state": {
       "description": "Generate Vectors",
       "layout": "IPY_MODEL_1386711a3ee04341a97a70486f38da63",
       "style": "IPY_MODEL_b5a6428958a04517a7283ee51bb2d73a",
       "tooltip": null
      }
     },
     "34f635626f1a479aac926aa3460e7210": {
      "model_module": "@jupyter-widgets/base",
      "model_module_version": "2.0.0",
      "model_name": "LayoutModel",
      "state": {}
     },
     "367dcb68e551465d82564ae01ec2c6fa": {
      "model_module": "@jupyter-widgets/controls",
      "model_module_version": "2.0.0",
      "model_name": "HBoxModel",
      "state": {
       "children": [
        "IPY_MODEL_e7098e91484344f0807bd497c3f3763e",
        "IPY_MODEL_dc87fd6421154eadac3804c3656b4455",
        "IPY_MODEL_b2a170e98a1c48389710f9f9700f70cd",
        "IPY_MODEL_67f02f2adb8d4df5a0b61563f33bc39f",
        "IPY_MODEL_61b71eaec2004833bcfd12461ea5abc5"
       ],
       "layout": "IPY_MODEL_24b7879ba2944f68b5c6113b934800bf"
      }
     },
     "36a8874170b64102b7ac1e631415823f": {
      "model_module": "ipydatagrid",
      "model_module_version": "^1.2.0",
      "model_name": "DataGridModel",
      "state": {
       "_data": {
        "data": [
         {
          "0": "Time10",
          "1": "Period10",
          "2": "Time20",
          "3": "Period20",
          "ipydguuid": 0,
          "key": "  Variable:"
         },
         {
          "0": "s",
          "1": "s",
          "2": "s",
          "3": "s",
          "ipydguuid": 1,
          "key": " Units:"
         },
         {
          "0": "27.02",
          "1": "1.8013333333333332",
          "2": "27.12",
          "3": "1.808",
          "ipydguuid": 2,
          "key": 0
         },
         {
          "0": "26.99",
          "1": "1.7993333333333332",
          "2": "27.17",
          "3": "1.8113333333333335",
          "ipydguuid": 3,
          "key": 1
         },
         {
          "0": "27.00",
          "1": "1.8",
          "2": "27.21",
          "3": "1.814",
          "ipydguuid": 4,
          "key": 2
         },
         {
          "0": "26.84",
          "1": "1.7893333333333332",
          "2": "27.13",
          "3": "1.8086666666666666",
          "ipydguuid": 5,
          "key": 3
         },
         {
          "0": "26.62",
          "1": "1.7746666666666668",
          "2": "27.23",
          "3": "1.8153333333333335",
          "ipydguuid": 6,
          "key": 4
         },
         {
          "0": "26.78",
          "1": "1.7853333333333334",
          "2": "27.21",
          "3": "1.814",
          "ipydguuid": 7,
          "key": 5
         },
         {
          "0": "27.29",
          "1": "1.8193333333333332",
          "2": "27.31",
          "3": "1.8206666666666667",
          "ipydguuid": 8,
          "key": 6
         },
         {
          "0": "27.00",
          "1": "1.8",
          "2": "27.26",
          "3": "1.8173333333333335",
          "ipydguuid": 9,
          "key": 7
         },
         {
          "0": "26.80",
          "1": "1.7866666666666666",
          "2": "27.40",
          "3": "1.8266666666666667",
          "ipydguuid": 10,
          "key": 8
         },
         {
          "0": "26.85",
          "1": "1.79",
          "2": "27.47",
          "3": "1.8313333333333333",
          "ipydguuid": 11,
          "key": 9
         },
         {
          "0": "26.96",
          "1": "1.7973333333333334",
          "2": "27.36",
          "3": "1.824",
          "ipydguuid": 12,
          "key": 10
         },
         {
          "0": "26.90",
          "1": "1.7933333333333332",
          "2": "27.39",
          "3": "1.826",
          "ipydguuid": 13,
          "key": 11
         },
         {
          "0": "27.10",
          "1": "1.8066666666666669",
          "2": "27.23",
          "3": "1.8153333333333335",
          "ipydguuid": 14,
          "key": 12
         },
         {
          "0": "27.31",
          "1": "1.8206666666666667",
          "2": "27.20",
          "3": "1.8133333333333332",
          "ipydguuid": 15,
          "key": 13
         },
         {
          "0": "26.94",
          "1": "1.796",
          "2": "27.13",
          "3": "1.8086666666666666",
          "ipydguuid": 16,
          "key": 14
         }
        ],
        "fields": [
         {
          "key": null
         },
         {
          "0": null
         },
         {
          "1": null
         },
         {
          "2": null
         },
         {
          "3": null
         },
         {
          "ipydguuid": null
         }
        ],
        "schema": {
         "fields": [
          {
           "name": "key",
           "type": "string"
          },
          {
           "name": 0,
           "type": "string"
          },
          {
           "name": 1,
           "type": "string"
          },
          {
           "name": 2,
           "type": "string"
          },
          {
           "name": 3,
           "type": "string"
          },
          {
           "name": "ipydguuid",
           "type": "integer"
          }
         ],
         "pandas_version": "1.4.0",
         "primaryKey": [
          "key",
          "ipydguuid"
         ],
         "primaryKeyUuid": "ipydguuid"
        }
       },
       "_model_module_version": "^1.2.0",
       "_model_name": "DataGridModel",
       "_view_module_version": "^1.2.0",
       "auto_fit_columns": false,
       "auto_fit_params": {
        "area": "all",
        "numCols": null,
        "padding": 30
       },
       "base_column_header_size": 20,
       "base_column_size": 64,
       "base_row_header_size": 64,
       "base_row_size": 20,
       "default_renderer": "IPY_MODEL_ed83b37772604d21aa04025831517bd7",
       "editable": true,
       "header_visibility": "all",
       "layout": "IPY_MODEL_b914cb7fd4a7411b81817fdd42888157",
       "selection_mode": "cell"
      }
     },
     "3731a810847f4d369d167083068b38e9": {
      "model_module": "@jupyter-widgets/base",
      "model_module_version": "2.0.0",
      "model_name": "LayoutModel",
      "state": {}
     },
     "39555c6833034efa969f8f6511c656f6": {
      "model_module": "@jupyter-widgets/base",
      "model_module_version": "2.0.0",
      "model_name": "LayoutModel",
      "state": {
       "height": "270px"
      }
     },
     "3996d764eb86454d865253786a277af9": {
      "model_module": "@jupyter-widgets/base",
      "model_module_version": "2.0.0",
      "model_name": "LayoutModel",
      "state": {}
     },
     "3ac7bcb6be984b4b8923b29181f5a968": {
      "model_module": "@jupyter-widgets/controls",
      "model_module_version": "2.0.0",
      "model_name": "ButtonStyleModel",
      "state": {
       "font_family": null,
       "font_size": null,
       "font_style": null,
       "font_variant": null,
       "font_weight": null,
       "text_color": null,
       "text_decoration": null
      }
     },
     "3b763076cc6243daaa3b048ab2c65281": {
      "model_module": "@jupyter-widgets/base",
      "model_module_version": "2.0.0",
      "model_name": "LayoutModel",
      "state": {
       "height": "250px"
      }
     },
     "3b89026696bd4f51ba807ca97b6a3bf0": {
      "model_module": "@jupyter-widgets/base",
      "model_module_version": "2.0.0",
      "model_name": "LayoutModel",
      "state": {}
     },
     "3b9b70eb091e45bbb355acae151838f2": {
      "model_module": "@jupyter-widgets/controls",
      "model_module_version": "2.0.0",
      "model_name": "ButtonModel",
      "state": {
       "description": "Add Column",
       "layout": "IPY_MODEL_e16d8ff3557a49fab4240572e371ae84",
       "style": "IPY_MODEL_b8c5c8a2e24f4426ad9244cf75e63a9c",
       "tooltip": null
      }
     },
     "3c7ded1d7c7348b0bb44b7df0afb03bd": {
      "model_module": "@jupyter-widgets/controls",
      "model_module_version": "2.0.0",
      "model_name": "ButtonModel",
      "state": {
       "description": "Generate Vectors",
       "layout": "IPY_MODEL_2cab9c2477ff4c1d9f49dee4f0632c53",
       "style": "IPY_MODEL_b562a88b8a504416955bcdc757eda70d",
       "tooltip": null
      }
     },
     "3cf6fc39dad64d1bb78ec825fdb62d24": {
      "model_module": "@jupyter-widgets/controls",
      "model_module_version": "2.0.0",
      "model_name": "ButtonModel",
      "state": {
       "description": "Redo",
       "layout": "IPY_MODEL_f506a5b1c19b4a658bdb4096bab806a7",
       "style": "IPY_MODEL_91ec7105c77b44e09ea18b476b2b91ba",
       "tooltip": null
      }
     },
     "3d56748930e84980a27fb90ebae9a3b1": {
      "model_module": "@jupyter-widgets/controls",
      "model_module_version": "2.0.0",
      "model_name": "ButtonStyleModel",
      "state": {
       "font_family": null,
       "font_size": null,
       "font_style": null,
       "font_variant": null,
       "font_weight": null,
       "text_color": null,
       "text_decoration": null
      }
     },
     "3d8877ee4bea4ead84e81ba5a829f428": {
      "model_module": "@jupyter-widgets/controls",
      "model_module_version": "2.0.0",
      "model_name": "ButtonModel",
      "state": {
       "description": "Redo",
       "layout": "IPY_MODEL_03c369cd98ad4d00b70347a2bad0ab2a",
       "style": "IPY_MODEL_6dabae829d3b4474b8b8d58c2197c697",
       "tooltip": null
      }
     },
     "3e581b0231f84fa9a2e97fa5cbcdba37": {
      "model_module": "ipydatagrid",
      "model_module_version": "^1.2.0",
      "model_name": "TextRendererModel",
      "state": {
       "_model_module_version": "^1.2.0",
       "_view_module_version": "^1.2.0",
       "background_color": "IPY_MODEL_d7d809c6f02d4bcfb100418de2ec1919",
       "text_color": "IPY_MODEL_1f468b0b45594c19a975cf553b50527c"
      }
     },
     "3e9129b245494f36b482fb92b4afcf68": {
      "model_module": "@jupyter-widgets/base",
      "model_module_version": "2.0.0",
      "model_name": "LayoutModel",
      "state": {
       "height": "370px"
      }
     },
     "3e99cd61a1f14b5e9447ca323047c5b2": {
      "model_module": "@jupyter-widgets/base",
      "model_module_version": "2.0.0",
      "model_name": "LayoutModel",
      "state": {
       "height": "450px"
      }
     },
     "405cfa127d024ceebb4338e0f49d45db": {
      "model_module": "@jupyter-widgets/controls",
      "model_module_version": "2.0.0",
      "model_name": "VBoxModel",
      "state": {
       "children": [
        "IPY_MODEL_327648b57d02420d844e4e3175b50e10",
        "IPY_MODEL_1a3500964b3647fcac4863af48a83231",
        "IPY_MODEL_b71755be07704f93a6f043a22ec72322"
       ],
       "layout": "IPY_MODEL_c7b5716000304375b1694601448879f7"
      }
     },
     "412e11446b8b488d817b7fbcefd4409f": {
      "model_module": "ipydatagrid",
      "model_module_version": "^1.2.0",
      "model_name": "VegaExprModel",
      "state": {
       "_model_module_version": "^1.2.0",
       "_view_module": "ipydatagrid",
       "_view_module_version": "^1.2.0",
       "_view_name": "VegaExprView"
      }
     },
     "4192fb9a42034980b42185485f36e602": {
      "model_module": "@jupyter-widgets/controls",
      "model_module_version": "2.0.0",
      "model_name": "ButtonStyleModel",
      "state": {
       "font_family": null,
       "font_size": null,
       "font_style": null,
       "font_variant": null,
       "font_weight": null,
       "text_color": null,
       "text_decoration": null
      }
     },
     "42601597e8f44cd3be000eae30ef6d3e": {
      "model_module": "ipydatagrid",
      "model_module_version": "^1.2.0",
      "model_name": "VegaExprModel",
      "state": {
       "_model_module_version": "^1.2.0",
       "_view_module": "ipydatagrid",
       "_view_module_version": "^1.2.0",
       "_view_name": "VegaExprView"
      }
     },
     "4262e45e6c104b128836f5443090a02e": {
      "model_module": "@jupyter-widgets/base",
      "model_module_version": "2.0.0",
      "model_name": "LayoutModel",
      "state": {
       "height": "290px"
      }
     },
     "42898012123d463a8f726855709dc0f3": {
      "model_module": "@jupyter-widgets/controls",
      "model_module_version": "2.0.0",
      "model_name": "ButtonModel",
      "state": {
       "description": "Add Column",
       "layout": "IPY_MODEL_34f635626f1a479aac926aa3460e7210",
       "style": "IPY_MODEL_1ae9ca70f35440629a49f824783bd32c",
       "tooltip": null
      }
     },
     "43466801062e4dc9b772b04d40b98084": {
      "model_module": "@jupyter-widgets/base",
      "model_module_version": "2.0.0",
      "model_name": "LayoutModel",
      "state": {}
     },
     "436c08f0f65040e7b01afb6eb3cda4f0": {
      "model_module": "ipydatagrid",
      "model_module_version": "^1.2.0",
      "model_name": "DataGridModel",
      "state": {
       "_data": {
        "data": [
         {
          "0": "Time10",
          "1": "Period10",
          "2": "Time20",
          "3": "Period20",
          "ipydguuid": 0,
          "key": "  Variable:"
         },
         {
          "0": "s",
          "1": "s",
          "2": "s",
          "3": "s",
          "ipydguuid": 1,
          "key": " Units:"
         },
         {
          "0": "32.37",
          "1": "1.7983333333333331",
          "2": "32.74",
          "3": "1.818888888888889",
          "ipydguuid": 2,
          "key": 0
         },
         {
          "0": "32.52",
          "1": "1.8066666666666669",
          "2": "32.92",
          "3": "1.828888888888889",
          "ipydguuid": 3,
          "key": 1
         },
         {
          "0": "32.47",
          "1": "1.8038888888888889",
          "2": "32.63",
          "3": "1.8127777777777778",
          "ipydguuid": 4,
          "key": 2
         },
         {
          "0": "32.52",
          "1": "1.8066666666666669",
          "2": "32.69",
          "3": "1.816111111111111",
          "ipydguuid": 5,
          "key": 3
         },
         {
          "0": "32.74",
          "1": "1.8038888888888889",
          "2": "32.48",
          "3": "1.8044444444444443",
          "ipydguuid": 6,
          "key": 4
         },
         {
          "0": "32.61",
          "1": "1.8116666666666665",
          "2": "32.69",
          "3": "1.816111111111111",
          "ipydguuid": 7,
          "key": 5
         },
         {
          "0": "32.43",
          "1": "1.8016666666666667",
          "2": "32.69",
          "3": "1.816111111111111",
          "ipydguuid": 8,
          "key": 6
         },
         {
          "0": "32.42",
          "1": "1.801111111111111",
          "2": "32.66",
          "3": "1.8144444444444443",
          "ipydguuid": 9,
          "key": 7
         },
         {
          "0": "32.61",
          "1": "1.8116666666666665",
          "2": "32.73",
          "3": "1.8183333333333331",
          "ipydguuid": 10,
          "key": 8
         },
         {
          "0": "32.32",
          "1": "1.7955555555555556",
          "2": "32.60",
          "3": "1.8111111111111111",
          "ipydguuid": 11,
          "key": 9
         },
         {
          "0": "32.59",
          "1": "1.8105555555555557",
          "2": "32.91",
          "3": "1.8283333333333331",
          "ipydguuid": 12,
          "key": 10
         },
         {
          "0": "32.41",
          "1": "1.8005555555555555",
          "2": "32.83",
          "3": "1.823888888888889",
          "ipydguuid": 13,
          "key": 11
         },
         {
          "0": "32.54",
          "1": "1.8077777777777777",
          "2": "32.72",
          "3": "1.8183333333333331",
          "ipydguuid": 14,
          "key": 12
         },
         {
          "0": "32.59",
          "1": "1.8105555555555557",
          "2": "32.76",
          "3": "1.8199999999999998",
          "ipydguuid": 15,
          "key": 13
         },
         {
          "0": "32.64",
          "1": "1.8133333333333335",
          "2": "32.8",
          "3": "1.822222222222222",
          "ipydguuid": 16,
          "key": 14
         },
         {
          "0": "32.41",
          "1": "1.8005555555555555",
          "2": "32.65",
          "3": "1.8138888888888889",
          "ipydguuid": 17,
          "key": 15
         },
         {
          "0": "32.5",
          "1": "1.8055555555555556",
          "2": "32.68",
          "3": "1.8155555555555556",
          "ipydguuid": 18,
          "key": 16
         },
         {
          "0": "32.46",
          "1": "1.8033333333333335",
          "2": "32.78",
          "3": "1.8211111111111111",
          "ipydguuid": 19,
          "key": 17
         }
        ],
        "fields": [
         {
          "key": null
         },
         {
          "0": null
         },
         {
          "1": null
         },
         {
          "2": null
         },
         {
          "3": null
         },
         {
          "ipydguuid": null
         }
        ],
        "schema": {
         "fields": [
          {
           "name": "key",
           "type": "string"
          },
          {
           "name": 0,
           "type": "string"
          },
          {
           "name": 1,
           "type": "string"
          },
          {
           "name": 2,
           "type": "string"
          },
          {
           "name": 3,
           "type": "string"
          },
          {
           "name": "ipydguuid",
           "type": "integer"
          }
         ],
         "pandas_version": "1.4.0",
         "primaryKey": [
          "key",
          "ipydguuid"
         ],
         "primaryKeyUuid": "ipydguuid"
        }
       },
       "_model_module_version": "^1.2.0",
       "_model_name": "DataGridModel",
       "_view_module_version": "^1.2.0",
       "auto_fit_columns": false,
       "auto_fit_params": {
        "area": "all",
        "numCols": null,
        "padding": 30
       },
       "base_column_header_size": 20,
       "base_column_size": 64,
       "base_row_header_size": 64,
       "base_row_size": 20,
       "default_renderer": "IPY_MODEL_b378b4472f8d4167b11b529d4cbc6daa",
       "editable": true,
       "header_visibility": "all",
       "layout": "IPY_MODEL_22ed171cdd5f423fbacaa7644e699fd0",
       "selection_mode": "cell"
      }
     },
     "4388a6542c1245d791fc05cd2b25e910": {
      "model_module": "@jupyter-widgets/base",
      "model_module_version": "2.0.0",
      "model_name": "LayoutModel",
      "state": {}
     },
     "44bbe785258f425cb162af02ae4d7693": {
      "model_module": "@jupyter-widgets/controls",
      "model_module_version": "2.0.0",
      "model_name": "ButtonModel",
      "state": {
       "description": "Add Column",
       "layout": "IPY_MODEL_d21eddcee61449daadb34ba9bad00c73",
       "style": "IPY_MODEL_7cc785d48e4c471a99fad5fdddf6e9d5",
       "tooltip": null
      }
     },
     "44d172e2ccf74a13ad701188b885751c": {
      "model_module": "@jupyter-widgets/controls",
      "model_module_version": "2.0.0",
      "model_name": "ButtonStyleModel",
      "state": {
       "font_family": null,
       "font_size": null,
       "font_style": null,
       "font_variant": null,
       "font_weight": null,
       "text_color": null,
       "text_decoration": null
      }
     },
     "451a5cf0259c4e839c3983db3f485c6b": {
      "model_module": "@jupyter-widgets/base",
      "model_module_version": "2.0.0",
      "model_name": "LayoutModel",
      "state": {
       "height": "270px"
      }
     },
     "4580a85d138842eaacef9fd5395fcbfc": {
      "model_module": "@jupyter-widgets/base",
      "model_module_version": "2.0.0",
      "model_name": "LayoutModel",
      "state": {
       "height": "130px"
      }
     },
     "45a6ad8c97e64dd29c8454ce49f1ee56": {
      "model_module": "@jupyter-widgets/base",
      "model_module_version": "2.0.0",
      "model_name": "LayoutModel",
      "state": {
       "height": "330px"
      }
     },
     "46fc7d2e622b4b33ad6dd6edb56fc7bc": {
      "model_module": "@jupyter-widgets/base",
      "model_module_version": "2.0.0",
      "model_name": "LayoutModel",
      "state": {}
     },
     "473700a0d8714325961fbdfa14e3e7a9": {
      "model_module": "@jupyter-widgets/base",
      "model_module_version": "2.0.0",
      "model_name": "LayoutModel",
      "state": {
       "height": "450px"
      }
     },
     "495790d130ed4cbc82d0e80b4b6f8812": {
      "model_module": "ipydatagrid",
      "model_module_version": "^1.2.0",
      "model_name": "DataGridModel",
      "state": {
       "_data": {
        "data": [
         {
          "0": "Time10",
          "1": "Period10",
          "2": "Time20",
          "3": "Period20",
          "ipydguuid": 0,
          "key": "  Variable:"
         },
         {
          "0": "seconds",
          "1": "seconds",
          "2": "seconds",
          "3": "seconds",
          "ipydguuid": 1,
          "key": " Units:"
         },
         {
          "0": "27.02",
          "1": "1.8013333333333332",
          "2": "",
          "3": "",
          "ipydguuid": 2,
          "key": 0
         },
         {
          "0": "26.99",
          "1": "1.7993333333333332",
          "2": "",
          "3": "",
          "ipydguuid": 3,
          "key": 1
         },
         {
          "0": "27.00",
          "1": "1.8",
          "2": "",
          "3": "",
          "ipydguuid": 4,
          "key": 2
         },
         {
          "0": "26.84",
          "1": "1.7893333333333332",
          "2": "",
          "3": "",
          "ipydguuid": 5,
          "key": 3
         },
         {
          "0": "26.62",
          "1": "",
          "2": "",
          "3": "",
          "ipydguuid": 6,
          "key": 4
         },
         {
          "0": "26.78",
          "1": "",
          "2": "",
          "3": "",
          "ipydguuid": 7,
          "key": 5
         },
         {
          "0": "27.29",
          "1": "",
          "2": "",
          "3": "",
          "ipydguuid": 8,
          "key": 6
         },
         {
          "0": "27.00",
          "1": "1.8",
          "2": "",
          "3": "",
          "ipydguuid": 9,
          "key": 7
         },
         {
          "0": "26.80",
          "1": "",
          "2": "",
          "3": "",
          "ipydguuid": 10,
          "key": 8
         },
         {
          "0": "26.85",
          "1": "",
          "2": "",
          "3": "",
          "ipydguuid": 11,
          "key": 9
         },
         {
          "0": "26.96",
          "1": "",
          "2": "",
          "3": "",
          "ipydguuid": 12,
          "key": 10
         },
         {
          "0": "",
          "1": "",
          "2": "",
          "3": "",
          "ipydguuid": 13,
          "key": 11
         },
         {
          "0": "",
          "1": "",
          "2": "",
          "3": "",
          "ipydguuid": 14,
          "key": 12
         },
         {
          "0": "",
          "1": "",
          "2": "",
          "3": "",
          "ipydguuid": 15,
          "key": 13
         },
         {
          "0": "",
          "1": "",
          "2": "",
          "3": "",
          "ipydguuid": 16,
          "key": 14
         }
        ],
        "fields": [
         {
          "key": null
         },
         {
          "0": null
         },
         {
          "1": null
         },
         {
          "2": null
         },
         {
          "3": null
         },
         {
          "ipydguuid": null
         }
        ],
        "schema": {
         "fields": [
          {
           "name": "key",
           "type": "string"
          },
          {
           "name": 0,
           "type": "string"
          },
          {
           "name": 1,
           "type": "string"
          },
          {
           "name": 2,
           "type": "string"
          },
          {
           "name": 3,
           "type": "string"
          },
          {
           "name": "ipydguuid",
           "type": "integer"
          }
         ],
         "pandas_version": "1.4.0",
         "primaryKey": [
          "key",
          "ipydguuid"
         ],
         "primaryKeyUuid": "ipydguuid"
        }
       },
       "_model_module_version": "^1.2.0",
       "_model_name": "DataGridModel",
       "_view_module_version": "^1.2.0",
       "_visible_rows": [
        0,
        1,
        2,
        3,
        4,
        5,
        6,
        7,
        8,
        9,
        10,
        11,
        12,
        13,
        14,
        15,
        16
       ],
       "auto_fit_columns": false,
       "auto_fit_params": {
        "area": "all",
        "numCols": null,
        "padding": 30
       },
       "base_column_header_size": 20,
       "base_column_size": 64,
       "base_row_header_size": 64,
       "base_row_size": 20,
       "default_renderer": "IPY_MODEL_f669e0dbfd7647fd8f605c5a198ac9f1",
       "editable": true,
       "header_visibility": "all",
       "layout": "IPY_MODEL_5ccbfb9c0a8a43c1b166cb93d05faf5a",
       "selection_mode": "cell",
       "selections": [
        {
         "c1": 0,
         "c2": 0,
         "r1": 12,
         "r2": 12
        }
       ]
      }
     },
     "4c8e8bf22b0e4e9cb4f12b03e99089fc": {
      "model_module": "@jupyter-widgets/base",
      "model_module_version": "2.0.0",
      "model_name": "LayoutModel",
      "state": {
       "height": "310px"
      }
     },
     "4d4a858f87ab4e94b47f762fb6f967de": {
      "model_module": "@jupyter-widgets/controls",
      "model_module_version": "2.0.0",
      "model_name": "HBoxModel",
      "state": {
       "children": [
        "IPY_MODEL_b7ee6922ae214724a77605bbc0434817",
        "IPY_MODEL_da1567df572e40b6b60c75e384001653",
        "IPY_MODEL_de26e94ecc7a46f895504ac446d6679a",
        "IPY_MODEL_ddc500d16fac4c9ba6dfe2bfd854b628",
        "IPY_MODEL_c64a97ab05e5497396b60f6e8f0bd8c7"
       ],
       "layout": "IPY_MODEL_ae78cb3a63ae44869b688acaab792665"
      }
     },
     "4e401a255ffe486fae8fbc882836be18": {
      "model_module": "@jupyter-widgets/base",
      "model_module_version": "2.0.0",
      "model_name": "LayoutModel",
      "state": {}
     },
     "4e4256d724bc4068b510b06f2e1fa07d": {
      "model_module": "@jupyter-widgets/controls",
      "model_module_version": "2.0.0",
      "model_name": "ButtonStyleModel",
      "state": {
       "font_family": null,
       "font_size": null,
       "font_style": null,
       "font_variant": null,
       "font_weight": null,
       "text_color": null,
       "text_decoration": null
      }
     },
     "4f25e0cc3c094857aab1309235711f66": {
      "model_module": "@jupyter-widgets/base",
      "model_module_version": "2.0.0",
      "model_name": "LayoutModel",
      "state": {}
     },
     "50766f33aae44cbdb538f5f4016fe076": {
      "model_module": "@jupyter-widgets/controls",
      "model_module_version": "2.0.0",
      "model_name": "ButtonModel",
      "state": {
       "description": "Redo",
       "layout": "IPY_MODEL_e8cb8cb521cb4908869cbd6dca942164",
       "style": "IPY_MODEL_78e47a16fdde44fa81fd200d8f743216",
       "tooltip": null
      }
     },
     "507cde53e5bc4b9ebbb76929c285b07a": {
      "model_module": "ipydatagrid",
      "model_module_version": "^1.2.0",
      "model_name": "DataGridModel",
      "state": {
       "_data": {
        "data": [
         {
          "0": "Time10",
          "1": "Period10",
          "2": "Time20",
          "3": "Period20",
          "ipydguuid": 0,
          "key": "  Variable:"
         },
         {
          "0": "seconds",
          "1": "seconds",
          "2": "seconds",
          "3": "seconds",
          "ipydguuid": 1,
          "key": " Units:"
         },
         {
          "0": "27.02",
          "1": "",
          "2": "",
          "3": "",
          "ipydguuid": 2,
          "key": 0
         },
         {
          "0": "26.99",
          "1": "",
          "2": "",
          "3": "",
          "ipydguuid": 3,
          "key": 1
         },
         {
          "0": "27",
          "1": "",
          "2": "",
          "3": "",
          "ipydguuid": 4,
          "key": 2
         },
         {
          "0": "26.84",
          "1": "",
          "2": "",
          "3": "",
          "ipydguuid": 5,
          "key": 3
         },
         {
          "0": "26.62",
          "1": "",
          "2": "",
          "3": "",
          "ipydguuid": 6,
          "key": 4
         },
         {
          "0": "26.78",
          "1": "",
          "2": "",
          "3": "",
          "ipydguuid": 7,
          "key": 5
         },
         {
          "0": "",
          "1": "",
          "2": "",
          "3": "",
          "ipydguuid": 8,
          "key": 6
         },
         {
          "0": "",
          "1": "",
          "2": "",
          "3": "",
          "ipydguuid": 9,
          "key": 7
         },
         {
          "0": "",
          "1": "",
          "2": "",
          "3": "",
          "ipydguuid": 10,
          "key": 8
         },
         {
          "0": "",
          "1": "",
          "2": "",
          "3": "",
          "ipydguuid": 11,
          "key": 9
         },
         {
          "0": "",
          "1": "",
          "2": "",
          "3": "",
          "ipydguuid": 12,
          "key": 10
         },
         {
          "0": "",
          "1": "",
          "2": "",
          "3": "",
          "ipydguuid": 13,
          "key": 11
         },
         {
          "0": "",
          "1": "",
          "2": "",
          "3": "",
          "ipydguuid": 14,
          "key": 12
         },
         {
          "0": "",
          "1": "",
          "2": "",
          "3": "",
          "ipydguuid": 15,
          "key": 13
         },
         {
          "0": "",
          "1": "",
          "2": "",
          "3": "",
          "ipydguuid": 16,
          "key": 14
         }
        ],
        "fields": [
         {
          "key": null
         },
         {
          "0": null
         },
         {
          "1": null
         },
         {
          "2": null
         },
         {
          "3": null
         },
         {
          "ipydguuid": null
         }
        ],
        "schema": {
         "fields": [
          {
           "name": "key",
           "type": "string"
          },
          {
           "name": 0,
           "type": "string"
          },
          {
           "name": 1,
           "type": "string"
          },
          {
           "name": 2,
           "type": "string"
          },
          {
           "name": 3,
           "type": "string"
          },
          {
           "name": "ipydguuid",
           "type": "integer"
          }
         ],
         "pandas_version": "1.4.0",
         "primaryKey": [
          "key",
          "ipydguuid"
         ],
         "primaryKeyUuid": "ipydguuid"
        }
       },
       "_model_module_version": "^1.2.0",
       "_model_name": "DataGridModel",
       "_view_module_version": "^1.2.0",
       "_visible_rows": [
        0,
        1,
        2,
        3,
        4,
        5,
        6,
        7,
        8,
        9,
        10,
        11,
        12,
        13,
        14,
        15,
        16
       ],
       "auto_fit_columns": false,
       "auto_fit_params": {
        "area": "all",
        "numCols": null,
        "padding": 30
       },
       "base_column_header_size": 20,
       "base_column_size": 64,
       "base_row_header_size": 64,
       "base_row_size": 20,
       "default_renderer": "IPY_MODEL_2d3c51acf9b7475c84cf754ff7bae46a",
       "editable": true,
       "header_visibility": "all",
       "layout": "IPY_MODEL_ee49bf3d7c2a40b4b990c7130fc09433",
       "selection_mode": "cell",
       "selections": [
        {
         "c1": 0,
         "c2": 0,
         "r1": 8,
         "r2": 8
        }
       ]
      }
     },
     "50d0205d5a684808a010c7702888bc87": {
      "model_module": "@jupyter-widgets/controls",
      "model_module_version": "2.0.0",
      "model_name": "ButtonStyleModel",
      "state": {
       "font_family": null,
       "font_size": null,
       "font_style": null,
       "font_variant": null,
       "font_weight": null,
       "text_color": null,
       "text_decoration": null
      }
     },
     "516a7477f9464273b4be750ff877e1e2": {
      "model_module": "@jupyter-widgets/controls",
      "model_module_version": "2.0.0",
      "model_name": "ButtonModel",
      "state": {
       "description": "Redo",
       "layout": "IPY_MODEL_7f63f8300e764f55a37245c40c2a726a",
       "style": "IPY_MODEL_120eb106559b46e1a18ef8ec93bc001f",
       "tooltip": null
      }
     },
     "5172fbb254eb4e94865998b2481fd20f": {
      "model_module": "@jupyter-widgets/base",
      "model_module_version": "2.0.0",
      "model_name": "LayoutModel",
      "state": {}
     },
     "518c34cfcadc4465bb685b7a21ab97b1": {
      "model_module": "@jupyter-widgets/base",
      "model_module_version": "2.0.0",
      "model_name": "LayoutModel",
      "state": {}
     },
     "51d94bd81b774514a4735b18ca6b9cbb": {
      "model_module": "@jupyter-widgets/base",
      "model_module_version": "2.0.0",
      "model_name": "LayoutModel",
      "state": {
       "height": "410px"
      }
     },
     "521ad4c08e164f08a4553808629b53ee": {
      "model_module": "@jupyter-widgets/controls",
      "model_module_version": "2.0.0",
      "model_name": "VBoxModel",
      "state": {
       "children": [
        "IPY_MODEL_367dcb68e551465d82564ae01ec2c6fa",
        "IPY_MODEL_36a8874170b64102b7ac1e631415823f",
        "IPY_MODEL_180acda36a7f4c8ca0050fca4258d3a1"
       ],
       "layout": "IPY_MODEL_fef5a9624ce94a5dbdea3f8aaec52c0d"
      }
     },
     "524018ef765849ebbb272d0ae82c69fc": {
      "model_module": "@jupyter-widgets/base",
      "model_module_version": "2.0.0",
      "model_name": "LayoutModel",
      "state": {}
     },
     "52a8e2d7b2204ef382956071be335ab3": {
      "model_module": "@jupyter-widgets/controls",
      "model_module_version": "2.0.0",
      "model_name": "ButtonStyleModel",
      "state": {
       "font_family": null,
       "font_size": null,
       "font_style": null,
       "font_variant": null,
       "font_weight": null,
       "text_color": null,
       "text_decoration": null
      }
     },
     "542cdc0e9b3d404ba09878a3a35dc402": {
      "model_module": "@jupyter-widgets/base",
      "model_module_version": "2.0.0",
      "model_name": "LayoutModel",
      "state": {}
     },
     "57f6edb415db401ba6d3bca8ade3c3e5": {
      "model_module": "ipydatagrid",
      "model_module_version": "^1.2.0",
      "model_name": "VegaExprModel",
      "state": {
       "_model_module_version": "^1.2.0",
       "_view_module": "ipydatagrid",
       "_view_module_version": "^1.2.0",
       "_view_name": "VegaExprView"
      }
     },
     "58b3b2cfafbd448cb56f39c0e0d3dc8e": {
      "model_module": "@jupyter-widgets/base",
      "model_module_version": "2.0.0",
      "model_name": "LayoutModel",
      "state": {}
     },
     "5a2db0c290fb4e34b927c5896e89af90": {
      "model_module": "@jupyter-widgets/controls",
      "model_module_version": "2.0.0",
      "model_name": "ButtonModel",
      "state": {
       "description": "Add Column",
       "layout": "IPY_MODEL_8c49212a0dd84374a2cad07b94b69aa8",
       "style": "IPY_MODEL_da7a6aa67e31420c812307be47ec02bd",
       "tooltip": null
      }
     },
     "5afd914b5b934d8791307b96e71c61c3": {
      "model_module": "@jupyter-widgets/base",
      "model_module_version": "2.0.0",
      "model_name": "LayoutModel",
      "state": {}
     },
     "5ba1187e98d946fb80297fed97c283c8": {
      "model_module": "@jupyter-widgets/output",
      "model_module_version": "1.0.0",
      "model_name": "OutputModel",
      "state": {
       "layout": "IPY_MODEL_7e7892bc9ed949d58eeb4675b447d2c5"
      }
     },
     "5c38569f1bea4855b55121432f53d7c6": {
      "model_module": "@jupyter-widgets/controls",
      "model_module_version": "2.0.0",
      "model_name": "HBoxModel",
      "state": {
       "children": [
        "IPY_MODEL_99119aa6d5b94367a815b17b095e0a2f",
        "IPY_MODEL_2c31a4e822e347cda0ec15e324f63ada",
        "IPY_MODEL_b3a53af324f3490498667facec8ac48d",
        "IPY_MODEL_42898012123d463a8f726855709dc0f3",
        "IPY_MODEL_3c7ded1d7c7348b0bb44b7df0afb03bd"
       ],
       "layout": "IPY_MODEL_b5c1841c807a46e9899ac77e93b36769"
      }
     },
     "5ccbfb9c0a8a43c1b166cb93d05faf5a": {
      "model_module": "@jupyter-widgets/base",
      "model_module_version": "2.0.0",
      "model_name": "LayoutModel",
      "state": {
       "height": "390px"
      }
     },
     "5d30ff809e36413884c56fdd2b71c645": {
      "model_module": "ipydatagrid",
      "model_module_version": "^1.2.0",
      "model_name": "TextRendererModel",
      "state": {
       "_model_module_version": "^1.2.0",
       "_view_module_version": "^1.2.0",
       "background_color": "IPY_MODEL_d20310508b974ea4ac5cc3523dd36d29",
       "text_color": "IPY_MODEL_210b57feffa2477c98881028a8692845"
      }
     },
     "5e93f1885c7c4bbcb22f336f24a31576": {
      "model_module": "@jupyter-widgets/controls",
      "model_module_version": "2.0.0",
      "model_name": "ButtonStyleModel",
      "state": {
       "font_family": null,
       "font_size": null,
       "font_style": null,
       "font_variant": null,
       "font_weight": null,
       "text_color": null,
       "text_decoration": null
      }
     },
     "5edb6eba795747eebf6ef4f568c8f70a": {
      "model_module": "@jupyter-widgets/controls",
      "model_module_version": "2.0.0",
      "model_name": "ButtonStyleModel",
      "state": {
       "font_family": null,
       "font_size": null,
       "font_style": null,
       "font_variant": null,
       "font_weight": null,
       "text_color": null,
       "text_decoration": null
      }
     },
     "5ee37807351140c9b9cbde8da0b21a87": {
      "model_module": "@jupyter-widgets/controls",
      "model_module_version": "2.0.0",
      "model_name": "ButtonModel",
      "state": {
       "description": "Undo",
       "layout": "IPY_MODEL_c39f36ecaa36490f841487b5215cfb0d",
       "style": "IPY_MODEL_17abf3a977de49e8b4f38b69508ebac9",
       "tooltip": null
      }
     },
     "5ffb0b3441274963af9891362f06ccef": {
      "model_module": "@jupyter-widgets/base",
      "model_module_version": "2.0.0",
      "model_name": "LayoutModel",
      "state": {}
     },
     "6045174f038245fba292910eafd4ce08": {
      "model_module": "@jupyter-widgets/base",
      "model_module_version": "2.0.0",
      "model_name": "LayoutModel",
      "state": {
       "height": "230px"
      }
     },
     "605c784e6d724b489bfe22e50e4ed6c3": {
      "model_module": "@jupyter-widgets/controls",
      "model_module_version": "2.0.0",
      "model_name": "HBoxModel",
      "state": {
       "children": [
        "IPY_MODEL_5ee37807351140c9b9cbde8da0b21a87",
        "IPY_MODEL_50766f33aae44cbdb538f5f4016fe076",
        "IPY_MODEL_957b311e2f4546fcbbb9ccb743f6d0c8",
        "IPY_MODEL_61bb7d152692496895de5f099a4530f0",
        "IPY_MODEL_ef7ba6ed18ed4b1fb65a1d3b7c74adf3"
       ],
       "layout": "IPY_MODEL_737b8744632b444a9fe82336dfd0be68"
      }
     },
     "60912be9add546dbacea96c79b96221f": {
      "model_module": "@jupyter-widgets/controls",
      "model_module_version": "2.0.0",
      "model_name": "HBoxModel",
      "state": {
       "children": [
        "IPY_MODEL_85a421151ccd4516b38365cdb022dac3",
        "IPY_MODEL_63af88f7349b49ed9dc4a9e4ce3fd2a2",
        "IPY_MODEL_f64da87628bb44a1a1748a5931901725",
        "IPY_MODEL_719162cb87e84bb4889be667c358e902",
        "IPY_MODEL_b8f8fa1877394f598254ca1fe6800d05"
       ],
       "layout": "IPY_MODEL_abc81f1426184ad0a588f521156576df"
      }
     },
     "60fe1555b4a2494d9bc47c8f8e087dfa": {
      "model_module": "@jupyter-widgets/controls",
      "model_module_version": "2.0.0",
      "model_name": "ButtonModel",
      "state": {
       "description": "Add Row",
       "layout": "IPY_MODEL_be5a0864fc454f56867451f8322f4e9d",
       "style": "IPY_MODEL_7206230235274d5e833928e7956c4ef7",
       "tooltip": null
      }
     },
     "61aab646f2a048d7adac228abea131e3": {
      "model_module": "@jupyter-widgets/controls",
      "model_module_version": "2.0.0",
      "model_name": "VBoxModel",
      "state": {
       "children": [
        "IPY_MODEL_4d4a858f87ab4e94b47f762fb6f967de",
        "IPY_MODEL_3064be8859e345749ad7ca7a710b85d3",
        "IPY_MODEL_c0787f0323544631b1f2619edb45a62e"
       ],
       "layout": "IPY_MODEL_bc1539e6e4bf47f3b0c3e542cf904301"
      }
     },
     "61b331ff88b74f42b018fa52cb473cc1": {
      "model_module": "ipydatagrid",
      "model_module_version": "^1.2.0",
      "model_name": "VegaExprModel",
      "state": {
       "_model_module_version": "^1.2.0",
       "_view_module": "ipydatagrid",
       "_view_module_version": "^1.2.0",
       "_view_name": "VegaExprView"
      }
     },
     "61b71eaec2004833bcfd12461ea5abc5": {
      "model_module": "@jupyter-widgets/controls",
      "model_module_version": "2.0.0",
      "model_name": "ButtonModel",
      "state": {
       "description": "Generate Vectors",
       "layout": "IPY_MODEL_5ffb0b3441274963af9891362f06ccef",
       "style": "IPY_MODEL_c8c4fbd3fca34c34b906578be9309d44",
       "tooltip": null
      }
     },
     "61bb7d152692496895de5f099a4530f0": {
      "model_module": "@jupyter-widgets/controls",
      "model_module_version": "2.0.0",
      "model_name": "ButtonModel",
      "state": {
       "description": "Add Column",
       "layout": "IPY_MODEL_10dc86c454524be4b1a3f6ebce43b850",
       "style": "IPY_MODEL_65ee9a47036d4eaf961450080ff15011",
       "tooltip": null
      }
     },
     "63af88f7349b49ed9dc4a9e4ce3fd2a2": {
      "model_module": "@jupyter-widgets/controls",
      "model_module_version": "2.0.0",
      "model_name": "ButtonModel",
      "state": {
       "description": "Redo",
       "layout": "IPY_MODEL_e10f4bb4583448ec8e324659d88d93fd",
       "style": "IPY_MODEL_ee506554d6f340e1b7451a5e56f73dcc",
       "tooltip": null
      }
     },
     "63e139e642cd4b0f852995d3d084ac13": {
      "model_module": "@jupyter-widgets/controls",
      "model_module_version": "2.0.0",
      "model_name": "ButtonStyleModel",
      "state": {
       "font_family": null,
       "font_size": null,
       "font_style": null,
       "font_variant": null,
       "font_weight": null,
       "text_color": null,
       "text_decoration": null
      }
     },
     "647c5e2158984822af8c621861b54df5": {
      "model_module": "@jupyter-widgets/controls",
      "model_module_version": "2.0.0",
      "model_name": "VBoxModel",
      "state": {
       "children": [
        "IPY_MODEL_5c38569f1bea4855b55121432f53d7c6",
        "IPY_MODEL_436c08f0f65040e7b01afb6eb3cda4f0",
        "IPY_MODEL_1c2acb20381c4f2f90d81c9e0b9ccfb5"
       ],
       "layout": "IPY_MODEL_8b45701013f54d3ca8449540159f1914"
      }
     },
     "650a1a3deca54534894acaf03fee194c": {
      "model_module": "@jupyter-widgets/base",
      "model_module_version": "2.0.0",
      "model_name": "LayoutModel",
      "state": {
       "height": "350px"
      }
     },
     "65ee9a47036d4eaf961450080ff15011": {
      "model_module": "@jupyter-widgets/controls",
      "model_module_version": "2.0.0",
      "model_name": "ButtonStyleModel",
      "state": {
       "font_family": null,
       "font_size": null,
       "font_style": null,
       "font_variant": null,
       "font_weight": null,
       "text_color": null,
       "text_decoration": null
      }
     },
     "6706da5bb78b4eb99d0adf0706bb38f2": {
      "model_module": "ipydatagrid",
      "model_module_version": "^1.2.0",
      "model_name": "DataGridModel",
      "state": {
       "_data": {
        "data": [
         {
          "0": "Time10",
          "1": "Period10",
          "2": "Time20",
          "3": "Period20",
          "ipydguuid": 0,
          "key": "  Variable:"
         },
         {
          "0": "s",
          "1": "s",
          "2": "s",
          "3": "s",
          "ipydguuid": 1,
          "key": " Units:"
         },
         {
          "0": "32.37",
          "1": "1.7983333333333331",
          "2": "32.74",
          "3": "1.818888888888889",
          "ipydguuid": 2,
          "key": 0
         },
         {
          "0": "32.52",
          "1": "1.8066666666666669",
          "2": "32.92",
          "3": "1.828888888888889",
          "ipydguuid": 3,
          "key": 1
         },
         {
          "0": "32.47",
          "1": "1.8038888888888889",
          "2": "32.63",
          "3": "1.8127777777777778",
          "ipydguuid": 4,
          "key": 2
         },
         {
          "0": "32.52",
          "1": "1.8066666666666669",
          "2": "32.69",
          "3": "1.816111111111111",
          "ipydguuid": 5,
          "key": 3
         },
         {
          "0": "32.74",
          "1": "1.8038888888888889",
          "2": "32.48",
          "3": "1.8044444444444443",
          "ipydguuid": 6,
          "key": 4
         },
         {
          "0": "32.61",
          "1": "1.8116666666666665",
          "2": "32.69",
          "3": "1.816111111111111",
          "ipydguuid": 7,
          "key": 5
         },
         {
          "0": "32.43",
          "1": "1.8016666666666667",
          "2": "32.69",
          "3": "1.816111111111111",
          "ipydguuid": 8,
          "key": 6
         },
         {
          "0": "32.42",
          "1": "1.801111111111111",
          "2": "32.66",
          "3": "1.8144444444444443",
          "ipydguuid": 9,
          "key": 7
         },
         {
          "0": "32.61",
          "1": "1.8116666666666665",
          "2": "32.73",
          "3": "1.8183333333333331",
          "ipydguuid": 10,
          "key": 8
         },
         {
          "0": "32.32",
          "1": "1.7955555555555556",
          "2": "32.60",
          "3": "1.8111111111111111",
          "ipydguuid": 11,
          "key": 9
         },
         {
          "0": "32.59",
          "1": "1.8105555555555557",
          "2": "32.91",
          "3": "1.8283333333333331",
          "ipydguuid": 12,
          "key": 10
         },
         {
          "0": "32.41",
          "1": "1.8005555555555555",
          "2": "32.83",
          "3": "1.823888888888889",
          "ipydguuid": 13,
          "key": 11
         },
         {
          "0": "32.54",
          "1": "1.8077777777777777",
          "2": "32.72",
          "3": "1.8183333333333331",
          "ipydguuid": 14,
          "key": 12
         },
         {
          "0": "32.59",
          "1": "1.8105555555555557",
          "2": "32.76",
          "3": "1.8199999999999998",
          "ipydguuid": 15,
          "key": 13
         },
         {
          "0": "32.64",
          "1": "1.8133333333333335",
          "2": "32.8",
          "3": "1.822222222222222",
          "ipydguuid": 16,
          "key": 14
         },
         {
          "0": "32.41",
          "1": "1.8005555555555555",
          "2": "32.65",
          "3": "1.8138888888888889",
          "ipydguuid": 17,
          "key": 15
         },
         {
          "0": "32.5",
          "1": "1.8055555555555556",
          "2": "32.68",
          "3": "1.8155555555555556",
          "ipydguuid": 18,
          "key": 16
         },
         {
          "0": "32.46",
          "1": "1.8033333333333335",
          "2": "32.78",
          "3": "1.8211111111111111",
          "ipydguuid": 19,
          "key": 17
         }
        ],
        "fields": [
         {
          "key": null
         },
         {
          "0": null
         },
         {
          "1": null
         },
         {
          "2": null
         },
         {
          "3": null
         },
         {
          "ipydguuid": null
         }
        ],
        "schema": {
         "fields": [
          {
           "name": "key",
           "type": "string"
          },
          {
           "name": 0,
           "type": "string"
          },
          {
           "name": 1,
           "type": "string"
          },
          {
           "name": 2,
           "type": "string"
          },
          {
           "name": 3,
           "type": "string"
          },
          {
           "name": "ipydguuid",
           "type": "integer"
          }
         ],
         "pandas_version": "1.4.0",
         "primaryKey": [
          "key",
          "ipydguuid"
         ],
         "primaryKeyUuid": "ipydguuid"
        }
       },
       "_model_module_version": "^1.2.0",
       "_model_name": "DataGridModel",
       "_view_module_version": "^1.2.0",
       "auto_fit_columns": false,
       "auto_fit_params": {
        "area": "all",
        "numCols": null,
        "padding": 30
       },
       "base_column_header_size": 20,
       "base_column_size": 64,
       "base_row_header_size": 64,
       "base_row_size": 20,
       "default_renderer": "IPY_MODEL_79018222168944dcba9aca1156956e10",
       "editable": true,
       "header_visibility": "all",
       "layout": "IPY_MODEL_f7e6bbf18f3a4f748fb9b93495155d42",
       "selection_mode": "cell"
      }
     },
     "672e43abe42944d9b57065dfb4449ff5": {
      "model_module": "@jupyter-widgets/base",
      "model_module_version": "2.0.0",
      "model_name": "LayoutModel",
      "state": {
       "height": "290px"
      }
     },
     "67f02f2adb8d4df5a0b61563f33bc39f": {
      "model_module": "@jupyter-widgets/controls",
      "model_module_version": "2.0.0",
      "model_name": "ButtonModel",
      "state": {
       "description": "Add Column",
       "layout": "IPY_MODEL_46fc7d2e622b4b33ad6dd6edb56fc7bc",
       "style": "IPY_MODEL_a2d08e66b43b47fba1ed420331e143b7",
       "tooltip": null
      }
     },
     "6857ffc5b79748c3a5177de71492886d": {
      "model_module": "@jupyter-widgets/controls",
      "model_module_version": "2.0.0",
      "model_name": "ButtonStyleModel",
      "state": {
       "font_family": null,
       "font_size": null,
       "font_style": null,
       "font_variant": null,
       "font_weight": null,
       "text_color": null,
       "text_decoration": null
      }
     },
     "6ada6f1170bd4a6fad2648459ce77b94": {
      "model_module": "@jupyter-widgets/base",
      "model_module_version": "2.0.0",
      "model_name": "LayoutModel",
      "state": {}
     },
     "6b4586a02a734e5497ac8038a2bb22d8": {
      "model_module": "ipydatagrid",
      "model_module_version": "^1.2.0",
      "model_name": "VegaExprModel",
      "state": {
       "_model_module_version": "^1.2.0",
       "_view_module": "ipydatagrid",
       "_view_module_version": "^1.2.0",
       "_view_name": "VegaExprView"
      }
     },
     "6b5d498c716642a59a0967f53873eab6": {
      "model_module": "@jupyter-widgets/base",
      "model_module_version": "2.0.0",
      "model_name": "LayoutModel",
      "state": {}
     },
     "6c5a4d727fd44003b356bfdb2fa2d369": {
      "model_module": "@jupyter-widgets/controls",
      "model_module_version": "2.0.0",
      "model_name": "VBoxModel",
      "state": {
       "children": [
        "IPY_MODEL_269e75fc78994bfe8ecdd7c86e67667a",
        "IPY_MODEL_25575ca5c85a4b24ac82bf77611e4847",
        "IPY_MODEL_a8b581bad8dd4a5ba92374a39bbf6f4b"
       ],
       "layout": "IPY_MODEL_5172fbb254eb4e94865998b2481fd20f"
      }
     },
     "6d9712b4a1bb41da9201875780904925": {
      "model_module": "@jupyter-widgets/base",
      "model_module_version": "2.0.0",
      "model_name": "LayoutModel",
      "state": {
       "height": "210px"
      }
     },
     "6dabae829d3b4474b8b8d58c2197c697": {
      "model_module": "@jupyter-widgets/controls",
      "model_module_version": "2.0.0",
      "model_name": "ButtonStyleModel",
      "state": {
       "font_family": null,
       "font_size": null,
       "font_style": null,
       "font_variant": null,
       "font_weight": null,
       "text_color": null,
       "text_decoration": null
      }
     },
     "6dd05237970d4b0b9a56723bc65b3c72": {
      "model_module": "ipydatagrid",
      "model_module_version": "^1.2.0",
      "model_name": "TextRendererModel",
      "state": {
       "_model_module_version": "^1.2.0",
       "_view_module_version": "^1.2.0",
       "background_color": "IPY_MODEL_031b488094304358b119c9891fee15b6",
       "text_color": "IPY_MODEL_c9e2d5161b184919a8158e214cc89d24"
      }
     },
     "6e3e0287a3b8454cab2a1db43de945f8": {
      "model_module": "ipydatagrid",
      "model_module_version": "^1.2.0",
      "model_name": "TextRendererModel",
      "state": {
       "_model_module_version": "^1.2.0",
       "_view_module_version": "^1.2.0",
       "background_color": "IPY_MODEL_7500069e5f664cb6ad21e11988badcfd",
       "text_color": "IPY_MODEL_42601597e8f44cd3be000eae30ef6d3e"
      }
     },
     "6e68aca3e574497b98cb310fa2d21a93": {
      "model_module": "@jupyter-widgets/controls",
      "model_module_version": "2.0.0",
      "model_name": "ButtonModel",
      "state": {
       "description": "Add Row",
       "layout": "IPY_MODEL_14b7bfacaec04a259e425c489d7f12da",
       "style": "IPY_MODEL_e7996e754c814fc8b17f43a7d667c511",
       "tooltip": null
      }
     },
     "6f30cbda5c844331a39759bbbb34da08": {
      "model_module": "@jupyter-widgets/controls",
      "model_module_version": "2.0.0",
      "model_name": "ButtonStyleModel",
      "state": {
       "font_family": null,
       "font_size": null,
       "font_style": null,
       "font_variant": null,
       "font_weight": null,
       "text_color": null,
       "text_decoration": null
      }
     },
     "6f47140144704dbd93b1dd216dcd6fde": {
      "model_module": "@jupyter-widgets/controls",
      "model_module_version": "2.0.0",
      "model_name": "ButtonStyleModel",
      "state": {
       "font_family": null,
       "font_size": null,
       "font_style": null,
       "font_variant": null,
       "font_weight": null,
       "text_color": null,
       "text_decoration": null
      }
     },
     "70261257cb90436fbd2d0ad8a6663d9b": {
      "model_module": "ipydatagrid",
      "model_module_version": "^1.2.0",
      "model_name": "VegaExprModel",
      "state": {
       "_model_module_version": "^1.2.0",
       "_view_module": "ipydatagrid",
       "_view_module_version": "^1.2.0",
       "_view_name": "VegaExprView"
      }
     },
     "709c46c9cd034fe8b246a172eb9ec2b7": {
      "model_module": "ipydatagrid",
      "model_module_version": "^1.2.0",
      "model_name": "VegaExprModel",
      "state": {
       "_model_module_version": "^1.2.0",
       "_view_module": "ipydatagrid",
       "_view_module_version": "^1.2.0",
       "_view_name": "VegaExprView"
      }
     },
     "719162cb87e84bb4889be667c358e902": {
      "model_module": "@jupyter-widgets/controls",
      "model_module_version": "2.0.0",
      "model_name": "ButtonModel",
      "state": {
       "description": "Add Column",
       "layout": "IPY_MODEL_58b3b2cfafbd448cb56f39c0e0d3dc8e",
       "style": "IPY_MODEL_d3ce163ce8814cc8bae4708151601483",
       "tooltip": null
      }
     },
     "71c6837f2baa4c79b1f9f12024489b9b": {
      "model_module": "@jupyter-widgets/base",
      "model_module_version": "2.0.0",
      "model_name": "LayoutModel",
      "state": {}
     },
     "7206230235274d5e833928e7956c4ef7": {
      "model_module": "@jupyter-widgets/controls",
      "model_module_version": "2.0.0",
      "model_name": "ButtonStyleModel",
      "state": {
       "font_family": null,
       "font_size": null,
       "font_style": null,
       "font_variant": null,
       "font_weight": null,
       "text_color": null,
       "text_decoration": null
      }
     },
     "724297ffa83a4365ab0e30f02b1496bb": {
      "model_module": "@jupyter-widgets/base",
      "model_module_version": "2.0.0",
      "model_name": "LayoutModel",
      "state": {
       "height": "410px"
      }
     },
     "737b8744632b444a9fe82336dfd0be68": {
      "model_module": "@jupyter-widgets/base",
      "model_module_version": "2.0.0",
      "model_name": "LayoutModel",
      "state": {}
     },
     "73b3ed00a710447983b5c49f915bb83c": {
      "model_module": "@jupyter-widgets/base",
      "model_module_version": "2.0.0",
      "model_name": "LayoutModel",
      "state": {
       "height": "350px"
      }
     },
     "7414c081da9447ebab24dbc24154846f": {
      "model_module": "@jupyter-widgets/controls",
      "model_module_version": "2.0.0",
      "model_name": "ButtonModel",
      "state": {
       "description": "Add Row",
       "layout": "IPY_MODEL_542cdc0e9b3d404ba09878a3a35dc402",
       "style": "IPY_MODEL_12625bcd774c4c68b7df88744b557940",
       "tooltip": null
      }
     },
     "745bd722d20844bdae5971056de2a351": {
      "model_module": "@jupyter-widgets/base",
      "model_module_version": "2.0.0",
      "model_name": "LayoutModel",
      "state": {}
     },
     "746789ef39cb4f89ad8c4b153a531b55": {
      "model_module": "ipydatagrid",
      "model_module_version": "^1.2.0",
      "model_name": "TextRendererModel",
      "state": {
       "_model_module_version": "^1.2.0",
       "_view_module_version": "^1.2.0",
       "background_color": "IPY_MODEL_57f6edb415db401ba6d3bca8ade3c3e5",
       "text_color": "IPY_MODEL_b626fe451c8f4143bff8b16cd1048c5d"
      }
     },
     "7500069e5f664cb6ad21e11988badcfd": {
      "model_module": "ipydatagrid",
      "model_module_version": "^1.2.0",
      "model_name": "VegaExprModel",
      "state": {
       "_model_module_version": "^1.2.0",
       "_view_module": "ipydatagrid",
       "_view_module_version": "^1.2.0",
       "_view_name": "VegaExprView"
      }
     },
     "7509b44021734a7c82f9f8e7fd144a7b": {
      "model_module": "ipydatagrid",
      "model_module_version": "^1.2.0",
      "model_name": "VegaExprModel",
      "state": {
       "_model_module_version": "^1.2.0",
       "_view_module": "ipydatagrid",
       "_view_module_version": "^1.2.0",
       "_view_name": "VegaExprView"
      }
     },
     "7617d4deb98448cda5eb08fab4603483": {
      "model_module": "ipydatagrid",
      "model_module_version": "^1.2.0",
      "model_name": "DataGridModel",
      "state": {
       "_data": {
        "data": [
         {
          "0": "Time10",
          "1": "Period10",
          "2": "Time20",
          "3": "Period20",
          "ipydguuid": 0,
          "key": "  Variable:"
         },
         {
          "0": "s",
          "1": "s",
          "2": "s",
          "3": "s",
          "ipydguuid": 1,
          "key": " Units:"
         },
         {
          "0": "27.02",
          "1": "1.8013333333333332",
          "2": "27.12",
          "3": "1.808",
          "ipydguuid": 2,
          "key": 0
         },
         {
          "0": "26.99",
          "1": "1.7993333333333332",
          "2": "27.17",
          "3": "1.8113333333333335",
          "ipydguuid": 3,
          "key": 1
         },
         {
          "0": "27.00",
          "1": "1.8",
          "2": "27.21",
          "3": "1.814",
          "ipydguuid": 4,
          "key": 2
         },
         {
          "0": "26.84",
          "1": "1.7893333333333332",
          "2": "27.13",
          "3": "1.8086666666666666",
          "ipydguuid": 5,
          "key": 3
         },
         {
          "0": "26.62",
          "1": "1.7746666666666668",
          "2": "27.23",
          "3": "1.8153333333333335",
          "ipydguuid": 6,
          "key": 4
         },
         {
          "0": "26.78",
          "1": "1.7853333333333334",
          "2": "27.21",
          "3": "1.814",
          "ipydguuid": 7,
          "key": 5
         },
         {
          "0": "27.29",
          "1": "1.8193333333333332",
          "2": "27.31",
          "3": "1.8206666666666667",
          "ipydguuid": 8,
          "key": 6
         },
         {
          "0": "27.00",
          "1": "1.8",
          "2": "27.26",
          "3": "1.8173333333333335",
          "ipydguuid": 9,
          "key": 7
         },
         {
          "0": "26.80",
          "1": "1.7866666666666666",
          "2": "27.40",
          "3": "1.8266666666666667",
          "ipydguuid": 10,
          "key": 8
         },
         {
          "0": "26.85",
          "1": "1.79",
          "2": "27.47",
          "3": "1.8313333333333333",
          "ipydguuid": 11,
          "key": 9
         },
         {
          "0": "26.96",
          "1": "1.7973333333333334",
          "2": "27.36",
          "3": "1.824",
          "ipydguuid": 12,
          "key": 10
         },
         {
          "0": "26.90",
          "1": "1.7933333333333332",
          "2": "27.39",
          "3": "1.826",
          "ipydguuid": 13,
          "key": 11
         },
         {
          "0": "27.10",
          "1": "1.8066666666666669",
          "2": "27.23",
          "3": "1.8153333333333335",
          "ipydguuid": 14,
          "key": 12
         },
         {
          "0": "27.31",
          "1": "1.8206666666666667",
          "2": "27.20",
          "3": "1.8133333333333332",
          "ipydguuid": 15,
          "key": 13
         },
         {
          "0": "26.94",
          "1": "1.796",
          "2": "27.13",
          "3": "1.8086666666666666",
          "ipydguuid": 16,
          "key": 14
         }
        ],
        "fields": [
         {
          "key": null
         },
         {
          "0": null
         },
         {
          "1": null
         },
         {
          "2": null
         },
         {
          "3": null
         },
         {
          "ipydguuid": null
         }
        ],
        "schema": {
         "fields": [
          {
           "name": "key",
           "type": "string"
          },
          {
           "name": 0,
           "type": "string"
          },
          {
           "name": 1,
           "type": "string"
          },
          {
           "name": 2,
           "type": "string"
          },
          {
           "name": 3,
           "type": "string"
          },
          {
           "name": "ipydguuid",
           "type": "integer"
          }
         ],
         "pandas_version": "1.4.0",
         "primaryKey": [
          "key",
          "ipydguuid"
         ],
         "primaryKeyUuid": "ipydguuid"
        }
       },
       "_model_module_version": "^1.2.0",
       "_model_name": "DataGridModel",
       "_view_module_version": "^1.2.0",
       "auto_fit_columns": false,
       "auto_fit_params": {
        "area": "all",
        "numCols": null,
        "padding": 30
       },
       "base_column_header_size": 20,
       "base_column_size": 64,
       "base_row_header_size": 64,
       "base_row_size": 20,
       "default_renderer": "IPY_MODEL_f458589dd43546199ead4a47ff9bda37",
       "editable": true,
       "header_visibility": "all",
       "layout": "IPY_MODEL_f60cf9707cd9444da1dd0f52594f7752",
       "selection_mode": "cell"
      }
     },
     "76a62d082518433986debd6e59c52d9e": {
      "model_module": "@jupyter-widgets/controls",
      "model_module_version": "2.0.0",
      "model_name": "ButtonModel",
      "state": {
       "description": "Add Column",
       "layout": "IPY_MODEL_3b89026696bd4f51ba807ca97b6a3bf0",
       "style": "IPY_MODEL_c8676493802e4cf1aa081316a60e1255",
       "tooltip": null
      }
     },
     "77063afbd23d4f1e9875e2ffe85a7d87": {
      "model_module": "@jupyter-widgets/base",
      "model_module_version": "2.0.0",
      "model_name": "LayoutModel",
      "state": {}
     },
     "78e47a16fdde44fa81fd200d8f743216": {
      "model_module": "@jupyter-widgets/controls",
      "model_module_version": "2.0.0",
      "model_name": "ButtonStyleModel",
      "state": {
       "font_family": null,
       "font_size": null,
       "font_style": null,
       "font_variant": null,
       "font_weight": null,
       "text_color": null,
       "text_decoration": null
      }
     },
     "79018222168944dcba9aca1156956e10": {
      "model_module": "ipydatagrid",
      "model_module_version": "^1.2.0",
      "model_name": "TextRendererModel",
      "state": {
       "_model_module_version": "^1.2.0",
       "_view_module_version": "^1.2.0",
       "background_color": "IPY_MODEL_0ccdcc1925d54ae7afdc3e257029cb18",
       "text_color": "IPY_MODEL_d09a11aadfa14ea0bb2c9250a5e61be1"
      }
     },
     "799a490935624365870895aab012c199": {
      "model_module": "ipydatagrid",
      "model_module_version": "^1.2.0",
      "model_name": "VegaExprModel",
      "state": {
       "_model_module_version": "^1.2.0",
       "_view_module": "ipydatagrid",
       "_view_module_version": "^1.2.0",
       "_view_name": "VegaExprView"
      }
     },
     "79f890f36fe74c669461f4648013973e": {
      "model_module": "@jupyter-widgets/controls",
      "model_module_version": "2.0.0",
      "model_name": "ButtonStyleModel",
      "state": {
       "font_family": null,
       "font_size": null,
       "font_style": null,
       "font_variant": null,
       "font_weight": null,
       "text_color": null,
       "text_decoration": null
      }
     },
     "7b38924efff04eceb303e0c577bf3f3e": {
      "model_module": "@jupyter-widgets/controls",
      "model_module_version": "2.0.0",
      "model_name": "ButtonStyleModel",
      "state": {
       "font_family": null,
       "font_size": null,
       "font_style": null,
       "font_variant": null,
       "font_weight": null,
       "text_color": null,
       "text_decoration": null
      }
     },
     "7c28aa5a5ab0441e9cbdd81e8beb8f12": {
      "model_module": "@jupyter-widgets/base",
      "model_module_version": "2.0.0",
      "model_name": "LayoutModel",
      "state": {}
     },
     "7cc785d48e4c471a99fad5fdddf6e9d5": {
      "model_module": "@jupyter-widgets/controls",
      "model_module_version": "2.0.0",
      "model_name": "ButtonStyleModel",
      "state": {
       "font_family": null,
       "font_size": null,
       "font_style": null,
       "font_variant": null,
       "font_weight": null,
       "text_color": null,
       "text_decoration": null
      }
     },
     "7d0e588699f54b70b525a82a02bd4899": {
      "model_module": "@jupyter-widgets/controls",
      "model_module_version": "2.0.0",
      "model_name": "ButtonStyleModel",
      "state": {
       "font_family": null,
       "font_size": null,
       "font_style": null,
       "font_variant": null,
       "font_weight": null,
       "text_color": null,
       "text_decoration": null
      }
     },
     "7dac0a8bdf204f65a3489efb6b6e3209": {
      "model_module": "@jupyter-widgets/base",
      "model_module_version": "2.0.0",
      "model_name": "LayoutModel",
      "state": {
       "height": "390px"
      }
     },
     "7e31595097df482da0cfa1602d75370b": {
      "model_module": "@jupyter-widgets/base",
      "model_module_version": "2.0.0",
      "model_name": "LayoutModel",
      "state": {}
     },
     "7e399cd56e9c417fb64c572ad08c99b8": {
      "model_module": "@jupyter-widgets/base",
      "model_module_version": "2.0.0",
      "model_name": "LayoutModel",
      "state": {
       "height": "250px"
      }
     },
     "7e7892bc9ed949d58eeb4675b447d2c5": {
      "model_module": "@jupyter-widgets/base",
      "model_module_version": "2.0.0",
      "model_name": "LayoutModel",
      "state": {}
     },
     "7f2dfe7fb5a946ffab57d7521679e16c": {
      "model_module": "@jupyter-widgets/controls",
      "model_module_version": "2.0.0",
      "model_name": "ButtonStyleModel",
      "state": {
       "font_family": null,
       "font_size": null,
       "font_style": null,
       "font_variant": null,
       "font_weight": null,
       "text_color": null,
       "text_decoration": null
      }
     },
     "7f63f8300e764f55a37245c40c2a726a": {
      "model_module": "@jupyter-widgets/base",
      "model_module_version": "2.0.0",
      "model_name": "LayoutModel",
      "state": {}
     },
     "80217bfe6ef6458aa6b72d7663be0351": {
      "model_module": "@jupyter-widgets/controls",
      "model_module_version": "2.0.0",
      "model_name": "ButtonStyleModel",
      "state": {
       "font_family": null,
       "font_size": null,
       "font_style": null,
       "font_variant": null,
       "font_weight": null,
       "text_color": null,
       "text_decoration": null
      }
     },
     "8026862169da4bec9c687536a57d25f4": {
      "model_module": "@jupyter-widgets/base",
      "model_module_version": "2.0.0",
      "model_name": "LayoutModel",
      "state": {
       "height": "430px"
      }
     },
     "816ceb3a0d414d1dad0f67cd5f88fc38": {
      "model_module": "@jupyter-widgets/base",
      "model_module_version": "2.0.0",
      "model_name": "LayoutModel",
      "state": {}
     },
     "81bf60ea7f9e433dba7100eddade98b3": {
      "model_module": "@jupyter-widgets/controls",
      "model_module_version": "2.0.0",
      "model_name": "ButtonModel",
      "state": {
       "description": "Add Column",
       "layout": "IPY_MODEL_6b5d498c716642a59a0967f53873eab6",
       "style": "IPY_MODEL_4192fb9a42034980b42185485f36e602",
       "tooltip": null
      }
     },
     "81dfa109f76f4457b23efae6774c719b": {
      "model_module": "@jupyter-widgets/base",
      "model_module_version": "2.0.0",
      "model_name": "LayoutModel",
      "state": {}
     },
     "820589af4fb14c019cf97f950292723b": {
      "model_module": "@jupyter-widgets/controls",
      "model_module_version": "2.0.0",
      "model_name": "ButtonModel",
      "state": {
       "description": "Generate Vectors",
       "layout": "IPY_MODEL_c2d273633278495baf0e093f58ffa0e9",
       "style": "IPY_MODEL_3180fd47526148d881e3a58975ea909d",
       "tooltip": null
      }
     },
     "82832f40cd0841748265ef788c66c23d": {
      "model_module": "@jupyter-widgets/controls",
      "model_module_version": "2.0.0",
      "model_name": "ButtonStyleModel",
      "state": {
       "font_family": null,
       "font_size": null,
       "font_style": null,
       "font_variant": null,
       "font_weight": null,
       "text_color": null,
       "text_decoration": null
      }
     },
     "82e97d02b9b248f5b3449554193a66c9": {
      "model_module": "@jupyter-widgets/base",
      "model_module_version": "2.0.0",
      "model_name": "LayoutModel",
      "state": {}
     },
     "82fb632da8a44e2aaf8956f02adfd73e": {
      "model_module": "@jupyter-widgets/base",
      "model_module_version": "2.0.0",
      "model_name": "LayoutModel",
      "state": {}
     },
     "837b8347739f449a833032aff4456e6f": {
      "model_module": "@jupyter-widgets/base",
      "model_module_version": "2.0.0",
      "model_name": "LayoutModel",
      "state": {}
     },
     "83e15938aead485b9b8173e4648a48b3": {
      "model_module": "@jupyter-widgets/controls",
      "model_module_version": "2.0.0",
      "model_name": "ButtonModel",
      "state": {
       "description": "Add Row",
       "layout": "IPY_MODEL_837b8347739f449a833032aff4456e6f",
       "style": "IPY_MODEL_95e22992763d42adb320b41074c7a343",
       "tooltip": null
      }
     },
     "8417ab152fbb4ed4aeb72f5dc772f567": {
      "model_module": "@jupyter-widgets/controls",
      "model_module_version": "2.0.0",
      "model_name": "ButtonModel",
      "state": {
       "description": "Undo",
       "layout": "IPY_MODEL_b4fec5af6b0c4162b19d5e87d56fa112",
       "style": "IPY_MODEL_52a8e2d7b2204ef382956071be335ab3",
       "tooltip": null
      }
     },
     "84918f6622bd4abeb177d49f36ae9f93": {
      "model_module": "@jupyter-widgets/controls",
      "model_module_version": "2.0.0",
      "model_name": "ButtonStyleModel",
      "state": {
       "font_family": null,
       "font_size": null,
       "font_style": null,
       "font_variant": null,
       "font_weight": null,
       "text_color": null,
       "text_decoration": null
      }
     },
     "8578cbdb7efa465cb64c72300aabe480": {
      "model_module": "@jupyter-widgets/controls",
      "model_module_version": "2.0.0",
      "model_name": "ButtonModel",
      "state": {
       "description": "Generate Vectors",
       "layout": "IPY_MODEL_71c6837f2baa4c79b1f9f12024489b9b",
       "style": "IPY_MODEL_44d172e2ccf74a13ad701188b885751c",
       "tooltip": null
      }
     },
     "85a421151ccd4516b38365cdb022dac3": {
      "model_module": "@jupyter-widgets/controls",
      "model_module_version": "2.0.0",
      "model_name": "ButtonModel",
      "state": {
       "description": "Undo",
       "layout": "IPY_MODEL_ce4027968f954f0d80daeefa2af1e7db",
       "style": "IPY_MODEL_50d0205d5a684808a010c7702888bc87",
       "tooltip": null
      }
     },
     "879be71522494930896e22d0e6f663e1": {
      "model_module": "@jupyter-widgets/base",
      "model_module_version": "2.0.0",
      "model_name": "LayoutModel",
      "state": {}
     },
     "87e59119be45415f995b88513cc8c056": {
      "model_module": "@jupyter-widgets/base",
      "model_module_version": "2.0.0",
      "model_name": "LayoutModel",
      "state": {
       "height": "290px"
      }
     },
     "8847de52500244be8ae3573bb2353ce1": {
      "model_module": "@jupyter-widgets/base",
      "model_module_version": "2.0.0",
      "model_name": "LayoutModel",
      "state": {
       "height": "330px"
      }
     },
     "888f6d60f2234d9398e9bd82623f44ff": {
      "model_module": "@jupyter-widgets/controls",
      "model_module_version": "2.0.0",
      "model_name": "ButtonStyleModel",
      "state": {
       "font_family": null,
       "font_size": null,
       "font_style": null,
       "font_variant": null,
       "font_weight": null,
       "text_color": null,
       "text_decoration": null
      }
     },
     "8b2afb86c9f4422f97ce62c3ed2e247d": {
      "model_module": "@jupyter-widgets/base",
      "model_module_version": "2.0.0",
      "model_name": "LayoutModel",
      "state": {
       "height": "250px"
      }
     },
     "8b37128eedbb4f8fb9b6f6992db31788": {
      "model_module": "@jupyter-widgets/output",
      "model_module_version": "1.0.0",
      "model_name": "OutputModel",
      "state": {
       "layout": "IPY_MODEL_95f5e9dc72f541559fbe7aecca95ea68",
       "outputs": [
        {
         "name": "stdout",
         "output_type": "stream",
         "text": "Data vectors need to be updated\n"
        }
       ]
      }
     },
     "8b45701013f54d3ca8449540159f1914": {
      "model_module": "@jupyter-widgets/base",
      "model_module_version": "2.0.0",
      "model_name": "LayoutModel",
      "state": {}
     },
     "8c49212a0dd84374a2cad07b94b69aa8": {
      "model_module": "@jupyter-widgets/base",
      "model_module_version": "2.0.0",
      "model_name": "LayoutModel",
      "state": {}
     },
     "8cfcecf69fd74652b61e5bcc1659e675": {
      "model_module": "ipydatagrid",
      "model_module_version": "^1.2.0",
      "model_name": "VegaExprModel",
      "state": {
       "_model_module_version": "^1.2.0",
       "_view_module": "ipydatagrid",
       "_view_module_version": "^1.2.0",
       "_view_name": "VegaExprView"
      }
     },
     "8e16e63612414a9c942a3990049c7013": {
      "model_module": "@jupyter-widgets/base",
      "model_module_version": "2.0.0",
      "model_name": "LayoutModel",
      "state": {}
     },
     "8e1e4866e2ce4e35adb4190572115663": {
      "model_module": "@jupyter-widgets/base",
      "model_module_version": "2.0.0",
      "model_name": "LayoutModel",
      "state": {}
     },
     "8e9c3cdbff67490d91d9cf63235ab9eb": {
      "model_module": "@jupyter-widgets/controls",
      "model_module_version": "2.0.0",
      "model_name": "HBoxModel",
      "state": {
       "children": [
        "IPY_MODEL_24272c79916347e09c754cbd8637adde",
        "IPY_MODEL_9b23f18726c948eb906ea58ec16280ee",
        "IPY_MODEL_1200ab9509404e47b0220f8f9c8b56d3",
        "IPY_MODEL_44bbe785258f425cb162af02ae4d7693",
        "IPY_MODEL_336f01b00bd84cdda64c472567bf7d29"
       ],
       "layout": "IPY_MODEL_d3506c59a2f54c4c950df567ddf00f79"
      }
     },
     "8ea19a87eea04a9da331054d3134375f": {
      "model_module": "@jupyter-widgets/base",
      "model_module_version": "2.0.0",
      "model_name": "LayoutModel",
      "state": {}
     },
     "8ebeb5a71ec54d1aab9ea8446197aadf": {
      "model_module": "@jupyter-widgets/controls",
      "model_module_version": "2.0.0",
      "model_name": "ButtonModel",
      "state": {
       "description": "Undo",
       "layout": "IPY_MODEL_8e16e63612414a9c942a3990049c7013",
       "style": "IPY_MODEL_63e139e642cd4b0f852995d3d084ac13",
       "tooltip": null
      }
     },
     "90073302ea7e4085acc4c08f16ec0d63": {
      "model_module": "ipydatagrid",
      "model_module_version": "^1.2.0",
      "model_name": "TextRendererModel",
      "state": {
       "_model_module_version": "^1.2.0",
       "_view_module_version": "^1.2.0",
       "background_color": "IPY_MODEL_412e11446b8b488d817b7fbcefd4409f",
       "text_color": "IPY_MODEL_7509b44021734a7c82f9f8e7fd144a7b"
      }
     },
     "909f418359fe4a1791e9680e135a6234": {
      "model_module": "@jupyter-widgets/base",
      "model_module_version": "2.0.0",
      "model_name": "LayoutModel",
      "state": {
       "height": "230px"
      }
     },
     "910b075de60e4f01a6eaaabaf58fea18": {
      "model_module": "@jupyter-widgets/base",
      "model_module_version": "2.0.0",
      "model_name": "LayoutModel",
      "state": {}
     },
     "91ec7105c77b44e09ea18b476b2b91ba": {
      "model_module": "@jupyter-widgets/controls",
      "model_module_version": "2.0.0",
      "model_name": "ButtonStyleModel",
      "state": {
       "font_family": null,
       "font_size": null,
       "font_style": null,
       "font_variant": null,
       "font_weight": null,
       "text_color": null,
       "text_decoration": null
      }
     },
     "921f0d92cf54475bb884532d8528ef0c": {
      "model_module": "@jupyter-widgets/controls",
      "model_module_version": "2.0.0",
      "model_name": "ButtonModel",
      "state": {
       "description": "Add Column",
       "layout": "IPY_MODEL_4e401a255ffe486fae8fbc882836be18",
       "style": "IPY_MODEL_b6c34002770e47e3a4a1b447e85f874c",
       "tooltip": null
      }
     },
     "92a8a71cc3ad4e18be31117736cc5d0b": {
      "model_module": "@jupyter-widgets/base",
      "model_module_version": "2.0.0",
      "model_name": "LayoutModel",
      "state": {}
     },
     "92f43507665d4f94bba113e1415768d2": {
      "model_module": "ipydatagrid",
      "model_module_version": "^1.2.0",
      "model_name": "VegaExprModel",
      "state": {
       "_model_module_version": "^1.2.0",
       "_view_module": "ipydatagrid",
       "_view_module_version": "^1.2.0",
       "_view_name": "VegaExprView"
      }
     },
     "93a43d29e94b4384b79459e784f480f5": {
      "model_module": "@jupyter-widgets/controls",
      "model_module_version": "2.0.0",
      "model_name": "HBoxModel",
      "state": {
       "children": [
        "IPY_MODEL_ec39cbe443594f559f22917e3cbf89cf",
        "IPY_MODEL_02c1a3d956624f1ba291e0ce69704815",
        "IPY_MODEL_2540956f93664349a63bf284aa1cff85",
        "IPY_MODEL_3b9b70eb091e45bbb355acae151838f2",
        "IPY_MODEL_2c4020198071457aa616acf8d2902070"
       ],
       "layout": "IPY_MODEL_77063afbd23d4f1e9875e2ffe85a7d87"
      }
     },
     "941512d99ca24e96941697bb3424a21a": {
      "model_module": "@jupyter-widgets/base",
      "model_module_version": "2.0.0",
      "model_name": "LayoutModel",
      "state": {}
     },
     "957b311e2f4546fcbbb9ccb743f6d0c8": {
      "model_module": "@jupyter-widgets/controls",
      "model_module_version": "2.0.0",
      "model_name": "ButtonModel",
      "state": {
       "description": "Add Row",
       "layout": "IPY_MODEL_a155a0cbacbd44f0a5eb12f7e94fd96e",
       "style": "IPY_MODEL_bcf100bd95cb426e843863eea3a06902",
       "tooltip": null
      }
     },
     "957c41177d3d49b2b488a41fabcc0c7e": {
      "model_module": "@jupyter-widgets/controls",
      "model_module_version": "2.0.0",
      "model_name": "ButtonModel",
      "state": {
       "description": "Generate Vectors",
       "layout": "IPY_MODEL_b8ff69f2cd4a4e5198bfebeec315c8a9",
       "style": "IPY_MODEL_29301b339bea4be0b57aaa2b085bb2b7",
       "tooltip": null
      }
     },
     "95e22992763d42adb320b41074c7a343": {
      "model_module": "@jupyter-widgets/controls",
      "model_module_version": "2.0.0",
      "model_name": "ButtonStyleModel",
      "state": {
       "font_family": null,
       "font_size": null,
       "font_style": null,
       "font_variant": null,
       "font_weight": null,
       "text_color": null,
       "text_decoration": null
      }
     },
     "95f5e9dc72f541559fbe7aecca95ea68": {
      "model_module": "@jupyter-widgets/base",
      "model_module_version": "2.0.0",
      "model_name": "LayoutModel",
      "state": {}
     },
     "9825cbdac57d407cb04371ca31b8d089": {
      "model_module": "@jupyter-widgets/controls",
      "model_module_version": "2.0.0",
      "model_name": "VBoxModel",
      "state": {
       "children": [
        "IPY_MODEL_102f87f290264c44b396654ac7248507",
        "IPY_MODEL_495790d130ed4cbc82d0e80b4b6f8812",
        "IPY_MODEL_f0f9921dfb50459e8ea60bde2868b660"
       ],
       "layout": "IPY_MODEL_879be71522494930896e22d0e6f663e1"
      }
     },
     "98384190b72f4e09b5e8ee7721aff1f9": {
      "model_module": "@jupyter-widgets/controls",
      "model_module_version": "2.0.0",
      "model_name": "ButtonStyleModel",
      "state": {
       "font_family": null,
       "font_size": null,
       "font_style": null,
       "font_variant": null,
       "font_weight": null,
       "text_color": null,
       "text_decoration": null
      }
     },
     "99119aa6d5b94367a815b17b095e0a2f": {
      "model_module": "@jupyter-widgets/controls",
      "model_module_version": "2.0.0",
      "model_name": "ButtonModel",
      "state": {
       "description": "Undo",
       "layout": "IPY_MODEL_ce9209f388f54b1a8519e9275e47633c",
       "style": "IPY_MODEL_6857ffc5b79748c3a5177de71492886d",
       "tooltip": null
      }
     },
     "99302f253c134cf1b5f382e07578baad": {
      "model_module": "@jupyter-widgets/base",
      "model_module_version": "2.0.0",
      "model_name": "LayoutModel",
      "state": {}
     },
     "9b23f18726c948eb906ea58ec16280ee": {
      "model_module": "@jupyter-widgets/controls",
      "model_module_version": "2.0.0",
      "model_name": "ButtonModel",
      "state": {
       "description": "Redo",
       "layout": "IPY_MODEL_c8830f1f7794465b91f0c91cb039701f",
       "style": "IPY_MODEL_d072a75689e24c2b985d51bed343401b",
       "tooltip": null
      }
     },
     "9dc5ba4ca1a84eb4ac78d8102b8e9adb": {
      "model_module": "@jupyter-widgets/base",
      "model_module_version": "2.0.0",
      "model_name": "LayoutModel",
      "state": {}
     },
     "9f5956afb10b4fd1884a7cba13e0ec07": {
      "model_module": "@jupyter-widgets/base",
      "model_module_version": "2.0.0",
      "model_name": "LayoutModel",
      "state": {}
     },
     "9f7c181e427a4910850c86dede73c5df": {
      "model_module": "@jupyter-widgets/base",
      "model_module_version": "2.0.0",
      "model_name": "LayoutModel",
      "state": {
       "height": "270px"
      }
     },
     "a064447129b049eeaa62334cf0591913": {
      "model_module": "ipydatagrid",
      "model_module_version": "^1.2.0",
      "model_name": "VegaExprModel",
      "state": {
       "_model_module_version": "^1.2.0",
       "_view_module": "ipydatagrid",
       "_view_module_version": "^1.2.0",
       "_view_name": "VegaExprView"
      }
     },
     "a155a0cbacbd44f0a5eb12f7e94fd96e": {
      "model_module": "@jupyter-widgets/base",
      "model_module_version": "2.0.0",
      "model_name": "LayoutModel",
      "state": {}
     },
     "a29460b08deb4bea97f4f6412bc20b40": {
      "model_module": "@jupyter-widgets/base",
      "model_module_version": "2.0.0",
      "model_name": "LayoutModel",
      "state": {
       "height": "350px"
      }
     },
     "a2d08e66b43b47fba1ed420331e143b7": {
      "model_module": "@jupyter-widgets/controls",
      "model_module_version": "2.0.0",
      "model_name": "ButtonStyleModel",
      "state": {
       "font_family": null,
       "font_size": null,
       "font_style": null,
       "font_variant": null,
       "font_weight": null,
       "text_color": null,
       "text_decoration": null
      }
     },
     "a39c405ee38a45e8b7adca61a05bb795": {
      "model_module": "@jupyter-widgets/controls",
      "model_module_version": "2.0.0",
      "model_name": "ButtonModel",
      "state": {
       "description": "Generate Vectors",
       "layout": "IPY_MODEL_fd2237beca7b49cf8d89d6d00d1b1915",
       "style": "IPY_MODEL_019990bba433443eadea62728b43d490",
       "tooltip": null
      }
     },
     "a3df8b74710640488e2744280ca518d7": {
      "model_module": "ipydatagrid",
      "model_module_version": "^1.2.0",
      "model_name": "DataGridModel",
      "state": {
       "_data": {
        "data": [
         {
          "0": "Time10",
          "1": "Period10",
          "2": "Time20",
          "3": "Period20",
          "ipydguuid": 0,
          "key": "  Variable:"
         },
         {
          "0": "s",
          "1": "s",
          "2": "s",
          "3": "s",
          "ipydguuid": 1,
          "key": " Units:"
         },
         {
          "0": "27.02",
          "1": "1.8013333333333332",
          "2": "27.12",
          "3": "1.808",
          "ipydguuid": 2,
          "key": 0
         },
         {
          "0": "26.99",
          "1": "1.7993333333333332",
          "2": "27.17",
          "3": "1.8113333333333335",
          "ipydguuid": 3,
          "key": 1
         },
         {
          "0": "27.00",
          "1": "1.8",
          "2": "27.21",
          "3": "1.814",
          "ipydguuid": 4,
          "key": 2
         },
         {
          "0": "26.84",
          "1": "1.7893333333333332",
          "2": "27.13",
          "3": "1.8086666666666666",
          "ipydguuid": 5,
          "key": 3
         },
         {
          "0": "26.62",
          "1": "1.7746666666666668",
          "2": "27.23",
          "3": "1.8153333333333335",
          "ipydguuid": 6,
          "key": 4
         },
         {
          "0": "26.78",
          "1": "1.7853333333333334",
          "2": "27.21",
          "3": "1.814",
          "ipydguuid": 7,
          "key": 5
         },
         {
          "0": "27.29",
          "1": "1.8193333333333332",
          "2": "27.31",
          "3": "1.8206666666666667",
          "ipydguuid": 8,
          "key": 6
         },
         {
          "0": "27.00",
          "1": "1.8",
          "2": "27.26",
          "3": "1.8173333333333335",
          "ipydguuid": 9,
          "key": 7
         },
         {
          "0": "26.80",
          "1": "1.7866666666666666",
          "2": "27.40",
          "3": "1.8266666666666667",
          "ipydguuid": 10,
          "key": 8
         },
         {
          "0": "26.85",
          "1": "1.79",
          "2": "",
          "3": "",
          "ipydguuid": 11,
          "key": 9
         },
         {
          "0": "26.96",
          "1": "1.7973333333333334",
          "2": "",
          "3": "",
          "ipydguuid": 12,
          "key": 10
         },
         {
          "0": "26.90",
          "1": "1.7933333333333332",
          "2": "",
          "3": "",
          "ipydguuid": 13,
          "key": 11
         },
         {
          "0": "27.10",
          "1": "1.8066666666666669",
          "2": "",
          "3": "",
          "ipydguuid": 14,
          "key": 12
         },
         {
          "0": "27.31",
          "1": "1.8206666666666667",
          "2": "",
          "3": "",
          "ipydguuid": 15,
          "key": 13
         },
         {
          "0": "26.94",
          "1": "1.796",
          "2": "",
          "3": "",
          "ipydguuid": 16,
          "key": 14
         }
        ],
        "fields": [
         {
          "key": null
         },
         {
          "0": null
         },
         {
          "1": null
         },
         {
          "2": null
         },
         {
          "3": null
         },
         {
          "ipydguuid": null
         }
        ],
        "schema": {
         "fields": [
          {
           "name": "key",
           "type": "string"
          },
          {
           "name": 0,
           "type": "string"
          },
          {
           "name": 1,
           "type": "string"
          },
          {
           "name": 2,
           "type": "string"
          },
          {
           "name": 3,
           "type": "string"
          },
          {
           "name": "ipydguuid",
           "type": "integer"
          }
         ],
         "pandas_version": "1.4.0",
         "primaryKey": [
          "key",
          "ipydguuid"
         ],
         "primaryKeyUuid": "ipydguuid"
        }
       },
       "_model_module_version": "^1.2.0",
       "_model_name": "DataGridModel",
       "_view_module_version": "^1.2.0",
       "_visible_rows": [
        0,
        1,
        2,
        3,
        4,
        5,
        6,
        7,
        8,
        9,
        10,
        11,
        12,
        13,
        14,
        15,
        16
       ],
       "auto_fit_columns": false,
       "auto_fit_params": {
        "area": "all",
        "numCols": null,
        "padding": 30
       },
       "base_column_header_size": 20,
       "base_column_size": 64,
       "base_row_header_size": 64,
       "base_row_size": 20,
       "default_renderer": "IPY_MODEL_6dd05237970d4b0b9a56723bc65b3c72",
       "editable": true,
       "header_visibility": "all",
       "layout": "IPY_MODEL_fb314db345bc48d6bddc8e674cc1e52f",
       "selection_mode": "cell",
       "selections": [
        {
         "c1": 3,
         "c2": 3,
         "r1": 10,
         "r2": 10
        }
       ]
      }
     },
     "a55678b56f1c42c0ac1e5e8fff9ef653": {
      "model_module": "@jupyter-widgets/base",
      "model_module_version": "2.0.0",
      "model_name": "LayoutModel",
      "state": {}
     },
     "a6f6d06403ac490d96bec3bde546d032": {
      "model_module": "@jupyter-widgets/controls",
      "model_module_version": "2.0.0",
      "model_name": "ButtonStyleModel",
      "state": {
       "font_family": null,
       "font_size": null,
       "font_style": null,
       "font_variant": null,
       "font_weight": null,
       "text_color": null,
       "text_decoration": null
      }
     },
     "a8b581bad8dd4a5ba92374a39bbf6f4b": {
      "model_module": "@jupyter-widgets/output",
      "model_module_version": "1.0.0",
      "model_name": "OutputModel",
      "state": {
       "layout": "IPY_MODEL_4f25e0cc3c094857aab1309235711f66"
      }
     },
     "a9104be81e044712920a20a849ea3d15": {
      "model_module": "@jupyter-widgets/controls",
      "model_module_version": "2.0.0",
      "model_name": "ButtonModel",
      "state": {
       "description": "Redo",
       "layout": "IPY_MODEL_f773d7c695414eb3b5ca4529ff35d93f",
       "style": "IPY_MODEL_80217bfe6ef6458aa6b72d7663be0351",
       "tooltip": null
      }
     },
     "aa55e74720374217a8762615887c46bf": {
      "model_module": "@jupyter-widgets/controls",
      "model_module_version": "2.0.0",
      "model_name": "HBoxModel",
      "state": {
       "children": [
        "IPY_MODEL_e603402dc5ce4f52aeac9cf5f324d39c",
        "IPY_MODEL_b8d33cdd76bb4048944695cbbbb85a37",
        "IPY_MODEL_da042a7c1a5e438a8f9047208c5050f4",
        "IPY_MODEL_81bf60ea7f9e433dba7100eddade98b3",
        "IPY_MODEL_34258d0848064e5db7530df5420f019a"
       ],
       "layout": "IPY_MODEL_c012d514a3c74848a83ae82c47b49191"
      }
     },
     "abc81f1426184ad0a588f521156576df": {
      "model_module": "@jupyter-widgets/base",
      "model_module_version": "2.0.0",
      "model_name": "LayoutModel",
      "state": {}
     },
     "ace3206791fa4c35981def83c58c67fc": {
      "model_module": "@jupyter-widgets/base",
      "model_module_version": "2.0.0",
      "model_name": "LayoutModel",
      "state": {
       "height": "330px"
      }
     },
     "adad40e822634fc789f973368677c00c": {
      "model_module": "@jupyter-widgets/base",
      "model_module_version": "2.0.0",
      "model_name": "LayoutModel",
      "state": {
       "height": "330px"
      }
     },
     "ae29c1b4a53d4f848e87e3410c8d5a02": {
      "model_module": "@jupyter-widgets/output",
      "model_module_version": "1.0.0",
      "model_name": "OutputModel",
      "state": {
       "layout": "IPY_MODEL_3996d764eb86454d865253786a277af9",
       "outputs": [
        {
         "name": "stdout",
         "output_type": "stream",
         "text": "Data vectors need to be updated\n"
        }
       ]
      }
     },
     "ae78cb3a63ae44869b688acaab792665": {
      "model_module": "@jupyter-widgets/base",
      "model_module_version": "2.0.0",
      "model_name": "LayoutModel",
      "state": {}
     },
     "aebb3871fe8f4c84a125882c31e3518a": {
      "model_module": "@jupyter-widgets/base",
      "model_module_version": "2.0.0",
      "model_name": "LayoutModel",
      "state": {}
     },
     "b0686bc4a94e41c98111627f938b4237": {
      "model_module": "@jupyter-widgets/base",
      "model_module_version": "2.0.0",
      "model_name": "LayoutModel",
      "state": {}
     },
     "b07c42d741ab469c99db21cbdd201fcc": {
      "model_module": "@jupyter-widgets/output",
      "model_module_version": "1.0.0",
      "model_name": "OutputModel",
      "state": {
       "layout": "IPY_MODEL_c1e26bc2a4324eeb85f889fe9123c223"
      }
     },
     "b1457b2baaa7484fa8c0f1984d29fe9c": {
      "model_module": "@jupyter-widgets/base",
      "model_module_version": "2.0.0",
      "model_name": "LayoutModel",
      "state": {
       "height": "290px"
      }
     },
     "b2303881b8c4488bb189dec2e9bda802": {
      "model_module": "@jupyter-widgets/controls",
      "model_module_version": "2.0.0",
      "model_name": "HBoxModel",
      "state": {
       "children": [
        "IPY_MODEL_fc60fbc90f714d8a95a671a4257de56b",
        "IPY_MODEL_dbe8c2b3680c4d698295422c2bae82e7",
        "IPY_MODEL_b5381da3031c46c68a18e50007506828",
        "IPY_MODEL_921f0d92cf54475bb884532d8528ef0c",
        "IPY_MODEL_820589af4fb14c019cf97f950292723b"
       ],
       "layout": "IPY_MODEL_816ceb3a0d414d1dad0f67cd5f88fc38"
      }
     },
     "b24289acc6a94b568e0021ad3d24471e": {
      "model_module": "@jupyter-widgets/base",
      "model_module_version": "2.0.0",
      "model_name": "LayoutModel",
      "state": {}
     },
     "b2a170e98a1c48389710f9f9700f70cd": {
      "model_module": "@jupyter-widgets/controls",
      "model_module_version": "2.0.0",
      "model_name": "ButtonModel",
      "state": {
       "description": "Add Row",
       "layout": "IPY_MODEL_0b4ef286abcd4565a2679b0288d90bce",
       "style": "IPY_MODEL_d3feb968dd2a404f8130b2db0e240953",
       "tooltip": null
      }
     },
     "b378b4472f8d4167b11b529d4cbc6daa": {
      "model_module": "ipydatagrid",
      "model_module_version": "^1.2.0",
      "model_name": "TextRendererModel",
      "state": {
       "_model_module_version": "^1.2.0",
       "_view_module_version": "^1.2.0",
       "background_color": "IPY_MODEL_8cfcecf69fd74652b61e5bcc1659e675",
       "text_color": "IPY_MODEL_d28f76cf7e3245fe8ddeaee1c7003c6d"
      }
     },
     "b3a53af324f3490498667facec8ac48d": {
      "model_module": "@jupyter-widgets/controls",
      "model_module_version": "2.0.0",
      "model_name": "ButtonModel",
      "state": {
       "description": "Add Row",
       "layout": "IPY_MODEL_fc4d2377aea043b0aae2698dc6c2bb9b",
       "style": "IPY_MODEL_84918f6622bd4abeb177d49f36ae9f93",
       "tooltip": null
      }
     },
     "b48b8349a9c741a8aa767224048c5429": {
      "model_module": "@jupyter-widgets/base",
      "model_module_version": "2.0.0",
      "model_name": "LayoutModel",
      "state": {
       "height": "390px"
      }
     },
     "b4be4b3366ed405e8f052b3681d5a359": {
      "model_module": "@jupyter-widgets/base",
      "model_module_version": "2.0.0",
      "model_name": "LayoutModel",
      "state": {}
     },
     "b4fec5af6b0c4162b19d5e87d56fa112": {
      "model_module": "@jupyter-widgets/base",
      "model_module_version": "2.0.0",
      "model_name": "LayoutModel",
      "state": {}
     },
     "b5381da3031c46c68a18e50007506828": {
      "model_module": "@jupyter-widgets/controls",
      "model_module_version": "2.0.0",
      "model_name": "ButtonModel",
      "state": {
       "description": "Add Row",
       "layout": "IPY_MODEL_d1fb190b50e2415986ed368150903b29",
       "style": "IPY_MODEL_199da5be3e6c491d817470382ae07e5f",
       "tooltip": null
      }
     },
     "b562a88b8a504416955bcdc757eda70d": {
      "model_module": "@jupyter-widgets/controls",
      "model_module_version": "2.0.0",
      "model_name": "ButtonStyleModel",
      "state": {
       "font_family": null,
       "font_size": null,
       "font_style": null,
       "font_variant": null,
       "font_weight": null,
       "text_color": null,
       "text_decoration": null
      }
     },
     "b5a6428958a04517a7283ee51bb2d73a": {
      "model_module": "@jupyter-widgets/controls",
      "model_module_version": "2.0.0",
      "model_name": "ButtonStyleModel",
      "state": {
       "font_family": null,
       "font_size": null,
       "font_style": null,
       "font_variant": null,
       "font_weight": null,
       "text_color": null,
       "text_decoration": null
      }
     },
     "b5c1841c807a46e9899ac77e93b36769": {
      "model_module": "@jupyter-widgets/base",
      "model_module_version": "2.0.0",
      "model_name": "LayoutModel",
      "state": {}
     },
     "b626fe451c8f4143bff8b16cd1048c5d": {
      "model_module": "ipydatagrid",
      "model_module_version": "^1.2.0",
      "model_name": "VegaExprModel",
      "state": {
       "_model_module_version": "^1.2.0",
       "_view_module": "ipydatagrid",
       "_view_module_version": "^1.2.0",
       "_view_name": "VegaExprView"
      }
     },
     "b634fd9cd8394a299584d8e930082f29": {
      "model_module": "@jupyter-widgets/base",
      "model_module_version": "2.0.0",
      "model_name": "LayoutModel",
      "state": {}
     },
     "b6b2b825835d45e4bb25a4313001d137": {
      "model_module": "@jupyter-widgets/controls",
      "model_module_version": "2.0.0",
      "model_name": "ButtonModel",
      "state": {
       "description": "Undo",
       "layout": "IPY_MODEL_b634fd9cd8394a299584d8e930082f29",
       "style": "IPY_MODEL_2158557abc2e48bcadeb0c734df6d1ab",
       "tooltip": null
      }
     },
     "b6c34002770e47e3a4a1b447e85f874c": {
      "model_module": "@jupyter-widgets/controls",
      "model_module_version": "2.0.0",
      "model_name": "ButtonStyleModel",
      "state": {
       "font_family": null,
       "font_size": null,
       "font_style": null,
       "font_variant": null,
       "font_weight": null,
       "text_color": null,
       "text_decoration": null
      }
     },
     "b71755be07704f93a6f043a22ec72322": {
      "model_module": "@jupyter-widgets/output",
      "model_module_version": "1.0.0",
      "model_name": "OutputModel",
      "state": {
       "layout": "IPY_MODEL_7c28aa5a5ab0441e9cbdd81e8beb8f12",
       "outputs": [
        {
         "name": "stdout",
         "output_type": "stream",
         "text": "Found 15 valid rows\n\nCreated array:\n Time10Vec = np.array([27.02, 26.99, 27.0, 26.84, 26.62, 26.78, 27.29, 27.0, 26.8, 26.85, 26.96, 26.9, 27.1, 27.31, 26.94])\n\nCreated array:\n Period10Vec = np.array([1.8013333333333332, 1.7993333333333332, 1.8, 1.7893333333333332, 1.7746666666666668, 1.7853333333333334, 1.8193333333333332, 1.8, 1.7866666666666666, 1.79, 1.7973333333333334, 1.7933333333333332, 1.8066666666666669, 1.8206666666666667, 1.796])\n\nCreated array:\n Time20Vec = np.array([27.12, 27.17, 27.21, 27.13, 27.23, 27.21, 27.31, 27.26, 27.4, 27.47, 27.36, 27.39, 27.23, 27.2, 27.13])\n\nCreated array:\n Period20Vec = np.array([1.808, 1.8113333333333335, 1.814, 1.8086666666666666, 1.8153333333333335, 1.814, 1.8206666666666667, 1.8173333333333335, 1.8266666666666667, 1.8313333333333333, 1.824, 1.826, 1.8153333333333335, 1.8133333333333332, 1.8086666666666666])\n"
        }
       ]
      }
     },
     "b77c2016715d450f9093f280a1ff1d41": {
      "model_module": "@jupyter-widgets/base",
      "model_module_version": "2.0.0",
      "model_name": "LayoutModel",
      "state": {
       "height": "370px"
      }
     },
     "b7ee6922ae214724a77605bbc0434817": {
      "model_module": "@jupyter-widgets/controls",
      "model_module_version": "2.0.0",
      "model_name": "ButtonModel",
      "state": {
       "description": "Undo",
       "layout": "IPY_MODEL_297b83e77f4442e09ef44245d59a8133",
       "style": "IPY_MODEL_7d0e588699f54b70b525a82a02bd4899",
       "tooltip": null
      }
     },
     "b8c5c8a2e24f4426ad9244cf75e63a9c": {
      "model_module": "@jupyter-widgets/controls",
      "model_module_version": "2.0.0",
      "model_name": "ButtonStyleModel",
      "state": {
       "font_family": null,
       "font_size": null,
       "font_style": null,
       "font_variant": null,
       "font_weight": null,
       "text_color": null,
       "text_decoration": null
      }
     },
     "b8d33cdd76bb4048944695cbbbb85a37": {
      "model_module": "@jupyter-widgets/controls",
      "model_module_version": "2.0.0",
      "model_name": "ButtonModel",
      "state": {
       "description": "Redo",
       "layout": "IPY_MODEL_8ea19a87eea04a9da331054d3134375f",
       "style": "IPY_MODEL_e14f1bc5a44b48ef94bc6653e5839d4b",
       "tooltip": null
      }
     },
     "b8f8fa1877394f598254ca1fe6800d05": {
      "model_module": "@jupyter-widgets/controls",
      "model_module_version": "2.0.0",
      "model_name": "ButtonModel",
      "state": {
       "description": "Generate Vectors",
       "layout": "IPY_MODEL_12fc5496f3364d04b98dc718f6ecc930",
       "style": "IPY_MODEL_0a7482036bb64979a4ddc899700eac7c",
       "tooltip": null
      }
     },
     "b8ff69f2cd4a4e5198bfebeec315c8a9": {
      "model_module": "@jupyter-widgets/base",
      "model_module_version": "2.0.0",
      "model_name": "LayoutModel",
      "state": {}
     },
     "b914cb7fd4a7411b81817fdd42888157": {
      "model_module": "@jupyter-widgets/base",
      "model_module_version": "2.0.0",
      "model_name": "LayoutModel",
      "state": {
       "height": "390px"
      }
     },
     "bc1539e6e4bf47f3b0c3e542cf904301": {
      "model_module": "@jupyter-widgets/base",
      "model_module_version": "2.0.0",
      "model_name": "LayoutModel",
      "state": {}
     },
     "bcf100bd95cb426e843863eea3a06902": {
      "model_module": "@jupyter-widgets/controls",
      "model_module_version": "2.0.0",
      "model_name": "ButtonStyleModel",
      "state": {
       "font_family": null,
       "font_size": null,
       "font_style": null,
       "font_variant": null,
       "font_weight": null,
       "text_color": null,
       "text_decoration": null
      }
     },
     "be5a0864fc454f56867451f8322f4e9d": {
      "model_module": "@jupyter-widgets/base",
      "model_module_version": "2.0.0",
      "model_name": "LayoutModel",
      "state": {}
     },
     "becfd8b9be2a463fb571b49b23e00894": {
      "model_module": "@jupyter-widgets/controls",
      "model_module_version": "2.0.0",
      "model_name": "VBoxModel",
      "state": {
       "children": [
        "IPY_MODEL_8e9c3cdbff67490d91d9cf63235ab9eb",
        "IPY_MODEL_eddb24e6e1aa479c9968bd4dfa624392",
        "IPY_MODEL_1e97a3178290418e9af1aa0b8c54db13"
       ],
       "layout": "IPY_MODEL_aebb3871fe8f4c84a125882c31e3518a"
      }
     },
     "bf6e68d00e0f4f45a94481c37458f2da": {
      "model_module": "@jupyter-widgets/base",
      "model_module_version": "2.0.0",
      "model_name": "LayoutModel",
      "state": {
       "height": "390px"
      }
     },
     "c012d514a3c74848a83ae82c47b49191": {
      "model_module": "@jupyter-widgets/base",
      "model_module_version": "2.0.0",
      "model_name": "LayoutModel",
      "state": {}
     },
     "c0787f0323544631b1f2619edb45a62e": {
      "model_module": "@jupyter-widgets/output",
      "model_module_version": "1.0.0",
      "model_name": "OutputModel",
      "state": {
       "layout": "IPY_MODEL_d4d00425b29c4ce2b87a2b8f34ba3e96",
       "outputs": [
        {
         "name": "stdout",
         "output_type": "stream",
         "text": "Data vectors need to be updated\n"
        }
       ]
      }
     },
     "c1d95db0fa2d45e1957b35d3b42141dd": {
      "model_module": "@jupyter-widgets/base",
      "model_module_version": "2.0.0",
      "model_name": "LayoutModel",
      "state": {}
     },
     "c1e26bc2a4324eeb85f889fe9123c223": {
      "model_module": "@jupyter-widgets/base",
      "model_module_version": "2.0.0",
      "model_name": "LayoutModel",
      "state": {}
     },
     "c2d273633278495baf0e093f58ffa0e9": {
      "model_module": "@jupyter-widgets/base",
      "model_module_version": "2.0.0",
      "model_name": "LayoutModel",
      "state": {}
     },
     "c2fb7ace77a04270acd10cc900ba2db3": {
      "model_module": "@jupyter-widgets/base",
      "model_module_version": "2.0.0",
      "model_name": "LayoutModel",
      "state": {}
     },
     "c33b7a7ae23b4c25a00c0dee100179a6": {
      "model_module": "@jupyter-widgets/controls",
      "model_module_version": "2.0.0",
      "model_name": "ButtonStyleModel",
      "state": {
       "font_family": null,
       "font_size": null,
       "font_style": null,
       "font_variant": null,
       "font_weight": null,
       "text_color": null,
       "text_decoration": null
      }
     },
     "c39f36ecaa36490f841487b5215cfb0d": {
      "model_module": "@jupyter-widgets/base",
      "model_module_version": "2.0.0",
      "model_name": "LayoutModel",
      "state": {}
     },
     "c403e264d72541969cce53354937817e": {
      "model_module": "@jupyter-widgets/base",
      "model_module_version": "2.0.0",
      "model_name": "LayoutModel",
      "state": {}
     },
     "c64a97ab05e5497396b60f6e8f0bd8c7": {
      "model_module": "@jupyter-widgets/controls",
      "model_module_version": "2.0.0",
      "model_name": "ButtonModel",
      "state": {
       "description": "Generate Vectors",
       "layout": "IPY_MODEL_9dc5ba4ca1a84eb4ac78d8102b8e9adb",
       "style": "IPY_MODEL_c33b7a7ae23b4c25a00c0dee100179a6",
       "tooltip": null
      }
     },
     "c7b5716000304375b1694601448879f7": {
      "model_module": "@jupyter-widgets/base",
      "model_module_version": "2.0.0",
      "model_name": "LayoutModel",
      "state": {}
     },
     "c8676493802e4cf1aa081316a60e1255": {
      "model_module": "@jupyter-widgets/controls",
      "model_module_version": "2.0.0",
      "model_name": "ButtonStyleModel",
      "state": {
       "font_family": null,
       "font_size": null,
       "font_style": null,
       "font_variant": null,
       "font_weight": null,
       "text_color": null,
       "text_decoration": null
      }
     },
     "c8830f1f7794465b91f0c91cb039701f": {
      "model_module": "@jupyter-widgets/base",
      "model_module_version": "2.0.0",
      "model_name": "LayoutModel",
      "state": {}
     },
     "c8c4fbd3fca34c34b906578be9309d44": {
      "model_module": "@jupyter-widgets/controls",
      "model_module_version": "2.0.0",
      "model_name": "ButtonStyleModel",
      "state": {
       "font_family": null,
       "font_size": null,
       "font_style": null,
       "font_variant": null,
       "font_weight": null,
       "text_color": null,
       "text_decoration": null
      }
     },
     "c8eda369f7c14f959da3729a7a275999": {
      "model_module": "@jupyter-widgets/controls",
      "model_module_version": "2.0.0",
      "model_name": "ButtonModel",
      "state": {
       "description": "Generate Vectors",
       "layout": "IPY_MODEL_0cf5ec9b25834708b155075b7cf47b1d",
       "style": "IPY_MODEL_f8c71a29eca64b04935026bc0d350e8f",
       "tooltip": null
      }
     },
     "c9e2d5161b184919a8158e214cc89d24": {
      "model_module": "ipydatagrid",
      "model_module_version": "^1.2.0",
      "model_name": "VegaExprModel",
      "state": {
       "_model_module_version": "^1.2.0",
       "_view_module": "ipydatagrid",
       "_view_module_version": "^1.2.0",
       "_view_name": "VegaExprView"
      }
     },
     "ce4027968f954f0d80daeefa2af1e7db": {
      "model_module": "@jupyter-widgets/base",
      "model_module_version": "2.0.0",
      "model_name": "LayoutModel",
      "state": {}
     },
     "ce46a07e5bef4f5cbb3f0b64249ad0ca": {
      "model_module": "@jupyter-widgets/controls",
      "model_module_version": "2.0.0",
      "model_name": "ButtonStyleModel",
      "state": {
       "font_family": null,
       "font_size": null,
       "font_style": null,
       "font_variant": null,
       "font_weight": null,
       "text_color": null,
       "text_decoration": null
      }
     },
     "ce87475d849a427eb409eb79cf082722": {
      "model_module": "@jupyter-widgets/base",
      "model_module_version": "2.0.0",
      "model_name": "LayoutModel",
      "state": {}
     },
     "ce9209f388f54b1a8519e9275e47633c": {
      "model_module": "@jupyter-widgets/base",
      "model_module_version": "2.0.0",
      "model_name": "LayoutModel",
      "state": {}
     },
     "cf8aa9c34fd1470aa42ee72281a23fba": {
      "model_module": "@jupyter-widgets/base",
      "model_module_version": "2.0.0",
      "model_name": "LayoutModel",
      "state": {}
     },
     "d072a75689e24c2b985d51bed343401b": {
      "model_module": "@jupyter-widgets/controls",
      "model_module_version": "2.0.0",
      "model_name": "ButtonStyleModel",
      "state": {
       "font_family": null,
       "font_size": null,
       "font_style": null,
       "font_variant": null,
       "font_weight": null,
       "text_color": null,
       "text_decoration": null
      }
     },
     "d09a11aadfa14ea0bb2c9250a5e61be1": {
      "model_module": "ipydatagrid",
      "model_module_version": "^1.2.0",
      "model_name": "VegaExprModel",
      "state": {
       "_model_module_version": "^1.2.0",
       "_view_module": "ipydatagrid",
       "_view_module_version": "^1.2.0",
       "_view_name": "VegaExprView"
      }
     },
     "d1fb190b50e2415986ed368150903b29": {
      "model_module": "@jupyter-widgets/base",
      "model_module_version": "2.0.0",
      "model_name": "LayoutModel",
      "state": {}
     },
     "d20310508b974ea4ac5cc3523dd36d29": {
      "model_module": "ipydatagrid",
      "model_module_version": "^1.2.0",
      "model_name": "VegaExprModel",
      "state": {
       "_model_module_version": "^1.2.0",
       "_view_module": "ipydatagrid",
       "_view_module_version": "^1.2.0",
       "_view_name": "VegaExprView"
      }
     },
     "d21eddcee61449daadb34ba9bad00c73": {
      "model_module": "@jupyter-widgets/base",
      "model_module_version": "2.0.0",
      "model_name": "LayoutModel",
      "state": {}
     },
     "d28f76cf7e3245fe8ddeaee1c7003c6d": {
      "model_module": "ipydatagrid",
      "model_module_version": "^1.2.0",
      "model_name": "VegaExprModel",
      "state": {
       "_model_module_version": "^1.2.0",
       "_view_module": "ipydatagrid",
       "_view_module_version": "^1.2.0",
       "_view_name": "VegaExprView"
      }
     },
     "d331f6767eae456191c662cfc1e8b6af": {
      "model_module": "ipydatagrid",
      "model_module_version": "^1.2.0",
      "model_name": "VegaExprModel",
      "state": {
       "_model_module_version": "^1.2.0",
       "_view_module": "ipydatagrid",
       "_view_module_version": "^1.2.0",
       "_view_name": "VegaExprView"
      }
     },
     "d3506c59a2f54c4c950df567ddf00f79": {
      "model_module": "@jupyter-widgets/base",
      "model_module_version": "2.0.0",
      "model_name": "LayoutModel",
      "state": {}
     },
     "d3ce163ce8814cc8bae4708151601483": {
      "model_module": "@jupyter-widgets/controls",
      "model_module_version": "2.0.0",
      "model_name": "ButtonStyleModel",
      "state": {
       "font_family": null,
       "font_size": null,
       "font_style": null,
       "font_variant": null,
       "font_weight": null,
       "text_color": null,
       "text_decoration": null
      }
     },
     "d3feb968dd2a404f8130b2db0e240953": {
      "model_module": "@jupyter-widgets/controls",
      "model_module_version": "2.0.0",
      "model_name": "ButtonStyleModel",
      "state": {
       "font_family": null,
       "font_size": null,
       "font_style": null,
       "font_variant": null,
       "font_weight": null,
       "text_color": null,
       "text_decoration": null
      }
     },
     "d4618bdc11f74341964c60fa8677e293": {
      "model_module": "@jupyter-widgets/base",
      "model_module_version": "2.0.0",
      "model_name": "LayoutModel",
      "state": {
       "height": "190px"
      }
     },
     "d4d00425b29c4ce2b87a2b8f34ba3e96": {
      "model_module": "@jupyter-widgets/base",
      "model_module_version": "2.0.0",
      "model_name": "LayoutModel",
      "state": {}
     },
     "d7d809c6f02d4bcfb100418de2ec1919": {
      "model_module": "ipydatagrid",
      "model_module_version": "^1.2.0",
      "model_name": "VegaExprModel",
      "state": {
       "_model_module_version": "^1.2.0",
       "_view_module": "ipydatagrid",
       "_view_module_version": "^1.2.0",
       "_view_name": "VegaExprView"
      }
     },
     "da042a7c1a5e438a8f9047208c5050f4": {
      "model_module": "@jupyter-widgets/controls",
      "model_module_version": "2.0.0",
      "model_name": "ButtonModel",
      "state": {
       "description": "Add Row",
       "layout": "IPY_MODEL_b4be4b3366ed405e8f052b3681d5a359",
       "style": "IPY_MODEL_e58201f4be074de589b34b15782fe0e3",
       "tooltip": null
      }
     },
     "da1567df572e40b6b60c75e384001653": {
      "model_module": "@jupyter-widgets/controls",
      "model_module_version": "2.0.0",
      "model_name": "ButtonModel",
      "state": {
       "description": "Redo",
       "layout": "IPY_MODEL_280cff14a9e3483fa47d988bff519b45",
       "style": "IPY_MODEL_5edb6eba795747eebf6ef4f568c8f70a",
       "tooltip": null
      }
     },
     "da2395ad9e904e2a96028d10d21b9b3c": {
      "model_module": "@jupyter-widgets/controls",
      "model_module_version": "2.0.0",
      "model_name": "HBoxModel",
      "state": {
       "children": [
        "IPY_MODEL_e96f78b7ffe444fbb00a28e57a01ee00",
        "IPY_MODEL_516a7477f9464273b4be750ff877e1e2",
        "IPY_MODEL_7414c081da9447ebab24dbc24154846f",
        "IPY_MODEL_5a2db0c290fb4e34b927c5896e89af90",
        "IPY_MODEL_a39c405ee38a45e8b7adca61a05bb795"
       ],
       "layout": "IPY_MODEL_524018ef765849ebbb272d0ae82c69fc"
      }
     },
     "da7a6aa67e31420c812307be47ec02bd": {
      "model_module": "@jupyter-widgets/controls",
      "model_module_version": "2.0.0",
      "model_name": "ButtonStyleModel",
      "state": {
       "font_family": null,
       "font_size": null,
       "font_style": null,
       "font_variant": null,
       "font_weight": null,
       "text_color": null,
       "text_decoration": null
      }
     },
     "dabe4cc8c7124d21a5d39fcf03d486df": {
      "model_module": "@jupyter-widgets/base",
      "model_module_version": "2.0.0",
      "model_name": "LayoutModel",
      "state": {
       "height": "390px"
      }
     },
     "dbe8c2b3680c4d698295422c2bae82e7": {
      "model_module": "@jupyter-widgets/controls",
      "model_module_version": "2.0.0",
      "model_name": "ButtonModel",
      "state": {
       "description": "Redo",
       "layout": "IPY_MODEL_11740338052e4047a81cbe8b44a54f7c",
       "style": "IPY_MODEL_7f2dfe7fb5a946ffab57d7521679e16c",
       "tooltip": null
      }
     },
     "dc1e791955264a80b941500dc7656b4c": {
      "model_module": "ipydatagrid",
      "model_module_version": "^1.2.0",
      "model_name": "VegaExprModel",
      "state": {
       "_model_module_version": "^1.2.0",
       "_view_module": "ipydatagrid",
       "_view_module_version": "^1.2.0",
       "_view_name": "VegaExprView"
      }
     },
     "dc87fd6421154eadac3804c3656b4455": {
      "model_module": "@jupyter-widgets/controls",
      "model_module_version": "2.0.0",
      "model_name": "ButtonModel",
      "state": {
       "description": "Redo",
       "layout": "IPY_MODEL_1c88ab5bf28e4d2383d0d0b2ec1d1781",
       "style": "IPY_MODEL_5e93f1885c7c4bbcb22f336f24a31576",
       "tooltip": null
      }
     },
     "dcb3d0c6154246499500e481b1fc4f7c": {
      "model_module": "@jupyter-widgets/controls",
      "model_module_version": "2.0.0",
      "model_name": "ButtonStyleModel",
      "state": {
       "font_family": null,
       "font_size": null,
       "font_style": null,
       "font_variant": null,
       "font_weight": null,
       "text_color": null,
       "text_decoration": null
      }
     },
     "ddc500d16fac4c9ba6dfe2bfd854b628": {
      "model_module": "@jupyter-widgets/controls",
      "model_module_version": "2.0.0",
      "model_name": "ButtonModel",
      "state": {
       "description": "Add Column",
       "layout": "IPY_MODEL_c1d95db0fa2d45e1957b35d3b42141dd",
       "style": "IPY_MODEL_a6f6d06403ac490d96bec3bde546d032",
       "tooltip": null
      }
     },
     "de26e94ecc7a46f895504ac446d6679a": {
      "model_module": "@jupyter-widgets/controls",
      "model_module_version": "2.0.0",
      "model_name": "ButtonModel",
      "state": {
       "description": "Add Row",
       "layout": "IPY_MODEL_ee9fb5c199174caf9c5f03653b25dc4a",
       "style": "IPY_MODEL_7b38924efff04eceb303e0c577bf3f3e",
       "tooltip": null
      }
     },
     "df738506ce194647904e6b15ec7d047c": {
      "model_module": "ipydatagrid",
      "model_module_version": "^1.2.0",
      "model_name": "VegaExprModel",
      "state": {
       "_model_module_version": "^1.2.0",
       "_view_module": "ipydatagrid",
       "_view_module_version": "^1.2.0",
       "_view_name": "VegaExprView"
      }
     },
     "e087e874218f4e1d8ebe10ce58dcf21a": {
      "model_module": "@jupyter-widgets/base",
      "model_module_version": "2.0.0",
      "model_name": "LayoutModel",
      "state": {
       "height": "170px"
      }
     },
     "e10f4bb4583448ec8e324659d88d93fd": {
      "model_module": "@jupyter-widgets/base",
      "model_module_version": "2.0.0",
      "model_name": "LayoutModel",
      "state": {}
     },
     "e14f1bc5a44b48ef94bc6653e5839d4b": {
      "model_module": "@jupyter-widgets/controls",
      "model_module_version": "2.0.0",
      "model_name": "ButtonStyleModel",
      "state": {
       "font_family": null,
       "font_size": null,
       "font_style": null,
       "font_variant": null,
       "font_weight": null,
       "text_color": null,
       "text_decoration": null
      }
     },
     "e16d8ff3557a49fab4240572e371ae84": {
      "model_module": "@jupyter-widgets/base",
      "model_module_version": "2.0.0",
      "model_name": "LayoutModel",
      "state": {}
     },
     "e4d8d7388d8e46c0a8b19af434186355": {
      "model_module": "@jupyter-widgets/base",
      "model_module_version": "2.0.0",
      "model_name": "LayoutModel",
      "state": {}
     },
     "e58201f4be074de589b34b15782fe0e3": {
      "model_module": "@jupyter-widgets/controls",
      "model_module_version": "2.0.0",
      "model_name": "ButtonStyleModel",
      "state": {
       "font_family": null,
       "font_size": null,
       "font_style": null,
       "font_variant": null,
       "font_weight": null,
       "text_color": null,
       "text_decoration": null
      }
     },
     "e58adfaeb92f4ed7a71f40e43249e4e7": {
      "model_module": "@jupyter-widgets/base",
      "model_module_version": "2.0.0",
      "model_name": "LayoutModel",
      "state": {}
     },
     "e603402dc5ce4f52aeac9cf5f324d39c": {
      "model_module": "@jupyter-widgets/controls",
      "model_module_version": "2.0.0",
      "model_name": "ButtonModel",
      "state": {
       "description": "Undo",
       "layout": "IPY_MODEL_320c3778437646388df04dcd6dbd12ea",
       "style": "IPY_MODEL_ce46a07e5bef4f5cbb3f0b64249ad0ca",
       "tooltip": null
      }
     },
     "e7098e91484344f0807bd497c3f3763e": {
      "model_module": "@jupyter-widgets/controls",
      "model_module_version": "2.0.0",
      "model_name": "ButtonModel",
      "state": {
       "description": "Undo",
       "layout": "IPY_MODEL_941512d99ca24e96941697bb3424a21a",
       "style": "IPY_MODEL_82832f40cd0841748265ef788c66c23d",
       "tooltip": null
      }
     },
     "e755d860756046dba63987b14d95583b": {
      "model_module": "@jupyter-widgets/controls",
      "model_module_version": "2.0.0",
      "model_name": "VBoxModel",
      "state": {
       "children": [
        "IPY_MODEL_da2395ad9e904e2a96028d10d21b9b3c",
        "IPY_MODEL_f6c479ee6992482984bcb5f12c6adbca",
        "IPY_MODEL_5ba1187e98d946fb80297fed97c283c8"
       ],
       "layout": "IPY_MODEL_f5a951a82ced40f59321c38887aa2c89"
      }
     },
     "e7996e754c814fc8b17f43a7d667c511": {
      "model_module": "@jupyter-widgets/controls",
      "model_module_version": "2.0.0",
      "model_name": "ButtonStyleModel",
      "state": {
       "font_family": null,
       "font_size": null,
       "font_style": null,
       "font_variant": null,
       "font_weight": null,
       "text_color": null,
       "text_decoration": null
      }
     },
     "e8cb8cb521cb4908869cbd6dca942164": {
      "model_module": "@jupyter-widgets/base",
      "model_module_version": "2.0.0",
      "model_name": "LayoutModel",
      "state": {}
     },
     "e913f802dc2242cf8d16d689202239e8": {
      "model_module": "@jupyter-widgets/base",
      "model_module_version": "2.0.0",
      "model_name": "LayoutModel",
      "state": {
       "height": "370px"
      }
     },
     "e96f78b7ffe444fbb00a28e57a01ee00": {
      "model_module": "@jupyter-widgets/controls",
      "model_module_version": "2.0.0",
      "model_name": "ButtonModel",
      "state": {
       "description": "Undo",
       "layout": "IPY_MODEL_12b54701064a4b4aab13747e51c4a28a",
       "style": "IPY_MODEL_3d56748930e84980a27fb90ebae9a3b1",
       "tooltip": null
      }
     },
     "e98461bfb5f947f99dccca425e3825c2": {
      "model_module": "@jupyter-widgets/controls",
      "model_module_version": "2.0.0",
      "model_name": "ButtonStyleModel",
      "state": {
       "font_family": null,
       "font_size": null,
       "font_style": null,
       "font_variant": null,
       "font_weight": null,
       "text_color": null,
       "text_decoration": null
      }
     },
     "e9e4176d93bd43c98df35f5bca3ae05d": {
      "model_module": "@jupyter-widgets/base",
      "model_module_version": "2.0.0",
      "model_name": "LayoutModel",
      "state": {
       "height": "350px"
      }
     },
     "eaf5243bcad84098b5bfe3483472226f": {
      "model_module": "@jupyter-widgets/controls",
      "model_module_version": "2.0.0",
      "model_name": "VBoxModel",
      "state": {
       "children": [
        "IPY_MODEL_93a43d29e94b4384b79459e784f480f5",
        "IPY_MODEL_6706da5bb78b4eb99d0adf0706bb38f2",
        "IPY_MODEL_b07c42d741ab469c99db21cbdd201fcc"
       ],
       "layout": "IPY_MODEL_81dfa109f76f4457b23efae6774c719b"
      }
     },
     "ec39cbe443594f559f22917e3cbf89cf": {
      "model_module": "@jupyter-widgets/controls",
      "model_module_version": "2.0.0",
      "model_name": "ButtonModel",
      "state": {
       "description": "Undo",
       "layout": "IPY_MODEL_2bce1da9ea394f1483f1217b90ff22c5",
       "style": "IPY_MODEL_6f30cbda5c844331a39759bbbb34da08",
       "tooltip": null
      }
     },
     "ed83b37772604d21aa04025831517bd7": {
      "model_module": "ipydatagrid",
      "model_module_version": "^1.2.0",
      "model_name": "TextRendererModel",
      "state": {
       "_model_module_version": "^1.2.0",
       "_view_module_version": "^1.2.0",
       "background_color": "IPY_MODEL_6b4586a02a734e5497ac8038a2bb22d8",
       "text_color": "IPY_MODEL_70261257cb90436fbd2d0ad8a6663d9b"
      }
     },
     "eddb24e6e1aa479c9968bd4dfa624392": {
      "model_module": "ipydatagrid",
      "model_module_version": "^1.2.0",
      "model_name": "DataGridModel",
      "state": {
       "_data": {
        "data": [
         {
          "0": "Time10",
          "1": "",
          "2": "",
          "ipydguuid": 0,
          "key": "  Variable:"
         },
         {
          "0": "",
          "1": "",
          "2": "",
          "ipydguuid": 1,
          "key": " Units:"
         },
         {
          "0": "",
          "1": "",
          "2": "",
          "ipydguuid": 2,
          "key": 0
         },
         {
          "0": "",
          "1": "",
          "2": "",
          "ipydguuid": 3,
          "key": 1
         },
         {
          "0": "",
          "1": "",
          "2": "",
          "ipydguuid": 4,
          "key": 2
         },
         {
          "0": "",
          "1": "",
          "2": "",
          "ipydguuid": 5,
          "key": 3
         },
         {
          "0": "",
          "1": "",
          "2": "",
          "ipydguuid": 6,
          "key": 4
         },
         {
          "0": "",
          "1": "",
          "2": "",
          "ipydguuid": 7,
          "key": 5
         },
         {
          "0": "",
          "1": "",
          "2": "",
          "ipydguuid": 8,
          "key": 6
         },
         {
          "0": "",
          "1": "",
          "2": "",
          "ipydguuid": 9,
          "key": 7
         },
         {
          "0": "",
          "1": "",
          "2": "",
          "ipydguuid": 10,
          "key": 8
         },
         {
          "0": "",
          "1": "",
          "2": "",
          "ipydguuid": 11,
          "key": 9
         }
        ],
        "fields": [
         {
          "key": null
         },
         {
          "0": null
         },
         {
          "1": null
         },
         {
          "2": null
         },
         {
          "ipydguuid": null
         }
        ],
        "schema": {
         "fields": [
          {
           "name": "key",
           "type": "string"
          },
          {
           "name": 0,
           "type": "string"
          },
          {
           "name": 1,
           "type": "string"
          },
          {
           "name": 2,
           "type": "string"
          },
          {
           "name": "ipydguuid",
           "type": "integer"
          }
         ],
         "pandas_version": "1.4.0",
         "primaryKey": [
          "key",
          "ipydguuid"
         ],
         "primaryKeyUuid": "ipydguuid"
        }
       },
       "_model_module_version": "^1.2.0",
       "_model_name": "DataGridModel",
       "_view_module_version": "^1.2.0",
       "_visible_rows": [
        0,
        1,
        2,
        3,
        4,
        5,
        6,
        7,
        8,
        9,
        10,
        11
       ],
       "auto_fit_columns": false,
       "auto_fit_params": {
        "area": "all",
        "numCols": null,
        "padding": 30
       },
       "base_column_header_size": 20,
       "base_column_size": 64,
       "base_row_header_size": 64,
       "base_row_size": 20,
       "default_renderer": "IPY_MODEL_f5011628d28f423d8889b0bc97478c7b",
       "editable": true,
       "header_visibility": "all",
       "layout": "IPY_MODEL_4262e45e6c104b128836f5443090a02e",
       "selection_mode": "cell",
       "selections": [
        {
         "c1": 1,
         "c2": 1,
         "r1": 0,
         "r2": 0
        }
       ]
      }
     },
     "ee49bf3d7c2a40b4b990c7130fc09433": {
      "model_module": "@jupyter-widgets/base",
      "model_module_version": "2.0.0",
      "model_name": "LayoutModel",
      "state": {
       "height": "390px"
      }
     },
     "ee506554d6f340e1b7451a5e56f73dcc": {
      "model_module": "@jupyter-widgets/controls",
      "model_module_version": "2.0.0",
      "model_name": "ButtonStyleModel",
      "state": {
       "font_family": null,
       "font_size": null,
       "font_style": null,
       "font_variant": null,
       "font_weight": null,
       "text_color": null,
       "text_decoration": null
      }
     },
     "ee9fb5c199174caf9c5f03653b25dc4a": {
      "model_module": "@jupyter-widgets/base",
      "model_module_version": "2.0.0",
      "model_name": "LayoutModel",
      "state": {}
     },
     "eef81909608a42f5914cc5d641f6403b": {
      "model_module": "@jupyter-widgets/controls",
      "model_module_version": "2.0.0",
      "model_name": "VBoxModel",
      "state": {
       "children": [
        "IPY_MODEL_60912be9add546dbacea96c79b96221f",
        "IPY_MODEL_507cde53e5bc4b9ebbb76929c285b07a",
        "IPY_MODEL_ae29c1b4a53d4f848e87e3410c8d5a02"
       ],
       "layout": "IPY_MODEL_518c34cfcadc4465bb685b7a21ab97b1"
      }
     },
     "ef7ba6ed18ed4b1fb65a1d3b7c74adf3": {
      "model_module": "@jupyter-widgets/controls",
      "model_module_version": "2.0.0",
      "model_name": "ButtonModel",
      "state": {
       "description": "Generate Vectors",
       "layout": "IPY_MODEL_1876548a87bc4ce08d67298ba8ab074a",
       "style": "IPY_MODEL_98384190b72f4e09b5e8ee7721aff1f9",
       "tooltip": null
      }
     },
     "f0f9921dfb50459e8ea60bde2868b660": {
      "model_module": "@jupyter-widgets/output",
      "model_module_version": "1.0.0",
      "model_name": "OutputModel",
      "state": {
       "layout": "IPY_MODEL_1c4706fb2b5b4feb8417134ca386e2c5",
       "outputs": [
        {
         "name": "stdout",
         "output_type": "stream",
         "text": "Data vectors need to be updated\n"
        }
       ]
      }
     },
     "f223b2ba8fff4375a01e8843e18f5e64": {
      "model_module": "@jupyter-widgets/controls",
      "model_module_version": "2.0.0",
      "model_name": "ButtonModel",
      "state": {
       "description": "Add Column",
       "layout": "IPY_MODEL_9f5956afb10b4fd1884a7cba13e0ec07",
       "style": "IPY_MODEL_14cc30323e924800b72d0ff4f06e8675",
       "tooltip": null
      }
     },
     "f2b1b7dcbc93459b9cd6031ad2ef2706": {
      "model_module": "@jupyter-widgets/base",
      "model_module_version": "2.0.0",
      "model_name": "LayoutModel",
      "state": {
       "height": "310px"
      }
     },
     "f454c30f42244fd59d6d0da3acdfcae1": {
      "model_module": "ipydatagrid",
      "model_module_version": "^1.2.0",
      "model_name": "DataGridModel",
      "state": {
       "_data": {
        "data": [
         {
          "0": "Time10",
          "1": "Period10",
          "2": "Time20",
          "3": "Period20",
          "ipydguuid": 0,
          "key": "  Variable:"
         },
         {
          "0": "s",
          "1": "s",
          "2": "s",
          "3": "s",
          "ipydguuid": 1,
          "key": " Units:"
         },
         {
          "0": "32.37",
          "1": "1.7983333333333331",
          "2": "32.74",
          "3": "1.818888888888889",
          "ipydguuid": 2,
          "key": 0
         },
         {
          "0": "32.52",
          "1": "1.8066666666666669",
          "2": "32.92",
          "3": "1.828888888888889",
          "ipydguuid": 3,
          "key": 1
         },
         {
          "0": "32.47",
          "1": "1.8038888888888889",
          "2": "32.63",
          "3": "1.8127777777777778",
          "ipydguuid": 4,
          "key": 2
         },
         {
          "0": "32.52",
          "1": "1.8066666666666669",
          "2": "32.69",
          "3": "1.816111111111111",
          "ipydguuid": 5,
          "key": 3
         },
         {
          "0": "32.74",
          "1": "1.8038888888888889",
          "2": "32.48",
          "3": "1.8044444444444443",
          "ipydguuid": 6,
          "key": 4
         },
         {
          "0": "32.61",
          "1": "1.8116666666666665",
          "2": "32.69",
          "3": "1.816111111111111",
          "ipydguuid": 7,
          "key": 5
         },
         {
          "0": "32.43",
          "1": "1.8016666666666667",
          "2": "32.69",
          "3": "1.816111111111111",
          "ipydguuid": 8,
          "key": 6
         },
         {
          "0": "32.42",
          "1": "1.801111111111111",
          "2": "32.66",
          "3": "1.8144444444444443",
          "ipydguuid": 9,
          "key": 7
         },
         {
          "0": "32.61",
          "1": "1.8116666666666665",
          "2": "32.73",
          "3": "1.8183333333333331",
          "ipydguuid": 10,
          "key": 8
         },
         {
          "0": "32.32",
          "1": "1.7955555555555556",
          "2": "32.60",
          "3": "1.8111111111111111",
          "ipydguuid": 11,
          "key": 9
         },
         {
          "0": "32.59",
          "1": "1.8105555555555557",
          "2": "32.91",
          "3": "1.8283333333333331",
          "ipydguuid": 12,
          "key": 10
         },
         {
          "0": "32.41",
          "1": "1.8005555555555555",
          "2": "32.83",
          "3": "1.823888888888889",
          "ipydguuid": 13,
          "key": 11
         },
         {
          "0": "32.54",
          "1": "1.8077777777777777",
          "2": "32.72",
          "3": "1.8183333333333331",
          "ipydguuid": 14,
          "key": 12
         },
         {
          "0": "32.59",
          "1": "1.8105555555555557",
          "2": "32.76",
          "3": "1.8199999999999998",
          "ipydguuid": 15,
          "key": 13
         },
         {
          "0": "32.64",
          "1": "1.8133333333333335",
          "2": "32.8",
          "3": "1.822222222222222",
          "ipydguuid": 16,
          "key": 14
         },
         {
          "0": "32.41",
          "1": "1.8005555555555555",
          "2": "32.65",
          "3": "1.8138888888888889",
          "ipydguuid": 17,
          "key": 15
         },
         {
          "0": "32.5",
          "1": "1.8055555555555556",
          "2": "32.68",
          "3": "1.8155555555555556",
          "ipydguuid": 18,
          "key": 16
         },
         {
          "0": "32.46",
          "1": "1.8033333333333335",
          "2": "32.78",
          "3": "1.8211111111111111",
          "ipydguuid": 19,
          "key": 17
         }
        ],
        "fields": [
         {
          "key": null
         },
         {
          "0": null
         },
         {
          "1": null
         },
         {
          "2": null
         },
         {
          "3": null
         },
         {
          "ipydguuid": null
         }
        ],
        "schema": {
         "fields": [
          {
           "name": "key",
           "type": "string"
          },
          {
           "name": 0,
           "type": "string"
          },
          {
           "name": 1,
           "type": "string"
          },
          {
           "name": 2,
           "type": "string"
          },
          {
           "name": 3,
           "type": "string"
          },
          {
           "name": "ipydguuid",
           "type": "integer"
          }
         ],
         "pandas_version": "1.4.0",
         "primaryKey": [
          "key",
          "ipydguuid"
         ],
         "primaryKeyUuid": "ipydguuid"
        }
       },
       "_model_module_version": "^1.2.0",
       "_model_name": "DataGridModel",
       "_view_module_version": "^1.2.0",
       "_visible_rows": [
        0,
        1,
        2,
        3,
        4,
        5,
        6,
        7,
        8,
        9,
        10,
        11,
        12,
        13,
        14,
        15,
        16,
        17,
        18,
        19
       ],
       "auto_fit_columns": false,
       "auto_fit_params": {
        "area": "all",
        "numCols": null,
        "padding": 30
       },
       "base_column_header_size": 20,
       "base_column_size": 64,
       "base_row_header_size": 64,
       "base_row_size": 20,
       "default_renderer": "IPY_MODEL_746789ef39cb4f89ad8c4b153a531b55",
       "editable": true,
       "header_visibility": "all",
       "layout": "IPY_MODEL_3e99cd61a1f14b5e9447ca323047c5b2",
       "selection_mode": "cell",
       "selections": [
        {
         "c1": 3,
         "c2": 3,
         "r1": 19,
         "r2": 19
        }
       ]
      }
     },
     "f458589dd43546199ead4a47ff9bda37": {
      "model_module": "ipydatagrid",
      "model_module_version": "^1.2.0",
      "model_name": "TextRendererModel",
      "state": {
       "_model_module_version": "^1.2.0",
       "_view_module_version": "^1.2.0",
       "background_color": "IPY_MODEL_a064447129b049eeaa62334cf0591913",
       "text_color": "IPY_MODEL_709c46c9cd034fe8b246a172eb9ec2b7"
      }
     },
     "f4bef5893b464d6991e881115bf6fb3b": {
      "model_module": "@jupyter-widgets/base",
      "model_module_version": "2.0.0",
      "model_name": "LayoutModel",
      "state": {}
     },
     "f5011628d28f423d8889b0bc97478c7b": {
      "model_module": "ipydatagrid",
      "model_module_version": "^1.2.0",
      "model_name": "TextRendererModel",
      "state": {
       "_model_module_version": "^1.2.0",
       "_view_module_version": "^1.2.0",
       "background_color": "IPY_MODEL_d331f6767eae456191c662cfc1e8b6af",
       "text_color": "IPY_MODEL_dc1e791955264a80b941500dc7656b4c"
      }
     },
     "f506a5b1c19b4a658bdb4096bab806a7": {
      "model_module": "@jupyter-widgets/base",
      "model_module_version": "2.0.0",
      "model_name": "LayoutModel",
      "state": {}
     },
     "f51644d3f3654f78a243166f28efb803": {
      "model_module": "@jupyter-widgets/base",
      "model_module_version": "2.0.0",
      "model_name": "LayoutModel",
      "state": {}
     },
     "f5a951a82ced40f59321c38887aa2c89": {
      "model_module": "@jupyter-widgets/base",
      "model_module_version": "2.0.0",
      "model_name": "LayoutModel",
      "state": {}
     },
     "f60cf9707cd9444da1dd0f52594f7752": {
      "model_module": "@jupyter-widgets/base",
      "model_module_version": "2.0.0",
      "model_name": "LayoutModel",
      "state": {
       "height": "390px"
      }
     },
     "f64da87628bb44a1a1748a5931901725": {
      "model_module": "@jupyter-widgets/controls",
      "model_module_version": "2.0.0",
      "model_name": "ButtonModel",
      "state": {
       "description": "Add Row",
       "layout": "IPY_MODEL_c403e264d72541969cce53354937817e",
       "style": "IPY_MODEL_79f890f36fe74c669461f4648013973e",
       "tooltip": null
      }
     },
     "f669e0dbfd7647fd8f605c5a198ac9f1": {
      "model_module": "ipydatagrid",
      "model_module_version": "^1.2.0",
      "model_name": "TextRendererModel",
      "state": {
       "_model_module_version": "^1.2.0",
       "_view_module_version": "^1.2.0",
       "background_color": "IPY_MODEL_61b331ff88b74f42b018fa52cb473cc1",
       "text_color": "IPY_MODEL_df738506ce194647904e6b15ec7d047c"
      }
     },
     "f6c479ee6992482984bcb5f12c6adbca": {
      "model_module": "ipydatagrid",
      "model_module_version": "^1.2.0",
      "model_name": "DataGridModel",
      "state": {
       "_data": {
        "data": [
         {
          "0": "Time10",
          "1": "Period10",
          "2": "Time20",
          "3": "Period20",
          "ipydguuid": 0,
          "key": "  Variable:"
         },
         {
          "0": "s",
          "1": "s",
          "2": "s",
          "3": "s",
          "ipydguuid": 1,
          "key": " Units:"
         },
         {
          "0": "32.37",
          "1": "1.7983333333333331",
          "2": "32.74",
          "3": "1.818888888888889",
          "ipydguuid": 2,
          "key": 0
         },
         {
          "0": "32.52",
          "1": "1.8066666666666669",
          "2": "32.92",
          "3": "1.828888888888889",
          "ipydguuid": 3,
          "key": 1
         },
         {
          "0": "32.47",
          "1": "1.8038888888888889",
          "2": "32.63",
          "3": "1.8127777777777778",
          "ipydguuid": 4,
          "key": 2
         },
         {
          "0": "32.52",
          "1": "1.8066666666666669",
          "2": "32.69",
          "3": "1.816111111111111",
          "ipydguuid": 5,
          "key": 3
         },
         {
          "0": "32.74",
          "1": "1.8038888888888889",
          "2": "32.48",
          "3": "1.8044444444444443",
          "ipydguuid": 6,
          "key": 4
         },
         {
          "0": "32.61",
          "1": "1.8116666666666665",
          "2": "32.69",
          "3": "1.816111111111111",
          "ipydguuid": 7,
          "key": 5
         },
         {
          "0": "32.43",
          "1": "1.8016666666666667",
          "2": "32.69",
          "3": "1.816111111111111",
          "ipydguuid": 8,
          "key": 6
         },
         {
          "0": "32.42",
          "1": "1.801111111111111",
          "2": "32.66",
          "3": "1.8144444444444443",
          "ipydguuid": 9,
          "key": 7
         },
         {
          "0": "32.61",
          "1": "1.8116666666666665",
          "2": "32.73",
          "3": "1.8183333333333331",
          "ipydguuid": 10,
          "key": 8
         },
         {
          "0": "32.32",
          "1": "1.7955555555555556",
          "2": "32.60",
          "3": "1.8111111111111111",
          "ipydguuid": 11,
          "key": 9
         },
         {
          "0": "32.59",
          "1": "1.8105555555555557",
          "2": "32.91",
          "3": "1.8283333333333331",
          "ipydguuid": 12,
          "key": 10
         },
         {
          "0": "32.41",
          "1": "1.8005555555555555",
          "2": "32.83",
          "3": "1.823888888888889",
          "ipydguuid": 13,
          "key": 11
         },
         {
          "0": "32.54",
          "1": "1.8077777777777777",
          "2": "32.72",
          "3": "1.8183333333333331",
          "ipydguuid": 14,
          "key": 12
         },
         {
          "0": "32.59",
          "1": "1.8105555555555557",
          "2": "32.76",
          "3": "1.8199999999999998",
          "ipydguuid": 15,
          "key": 13
         },
         {
          "0": "32.64",
          "1": "1.8133333333333335",
          "2": "32.8",
          "3": "1.822222222222222",
          "ipydguuid": 16,
          "key": 14
         },
         {
          "0": "32.41",
          "1": "1.8005555555555555",
          "2": "32.65",
          "3": "1.8138888888888889",
          "ipydguuid": 17,
          "key": 15
         },
         {
          "0": "32.5",
          "1": "1.8055555555555556",
          "2": "32.68",
          "3": "1.8155555555555556",
          "ipydguuid": 18,
          "key": 16
         },
         {
          "0": "32.46",
          "1": "1.8033333333333335",
          "2": "32.78",
          "3": "1.8211111111111111",
          "ipydguuid": 19,
          "key": 17
         }
        ],
        "fields": [
         {
          "key": null
         },
         {
          "0": null
         },
         {
          "1": null
         },
         {
          "2": null
         },
         {
          "3": null
         },
         {
          "ipydguuid": null
         }
        ],
        "schema": {
         "fields": [
          {
           "name": "key",
           "type": "string"
          },
          {
           "name": 0,
           "type": "string"
          },
          {
           "name": 1,
           "type": "string"
          },
          {
           "name": 2,
           "type": "string"
          },
          {
           "name": 3,
           "type": "string"
          },
          {
           "name": "ipydguuid",
           "type": "integer"
          }
         ],
         "pandas_version": "1.4.0",
         "primaryKey": [
          "key",
          "ipydguuid"
         ],
         "primaryKeyUuid": "ipydguuid"
        }
       },
       "_model_module_version": "^1.2.0",
       "_model_name": "DataGridModel",
       "_view_module_version": "^1.2.0",
       "auto_fit_columns": false,
       "auto_fit_params": {
        "area": "all",
        "numCols": null,
        "padding": 30
       },
       "base_column_header_size": 20,
       "base_column_size": 64,
       "base_row_header_size": 64,
       "base_row_size": 20,
       "default_renderer": "IPY_MODEL_3e581b0231f84fa9a2e97fa5cbcdba37",
       "editable": true,
       "header_visibility": "all",
       "layout": "IPY_MODEL_473700a0d8714325961fbdfa14e3e7a9",
       "selection_mode": "cell"
      }
     },
     "f773d7c695414eb3b5ca4529ff35d93f": {
      "model_module": "@jupyter-widgets/base",
      "model_module_version": "2.0.0",
      "model_name": "LayoutModel",
      "state": {}
     },
     "f7e6bbf18f3a4f748fb9b93495155d42": {
      "model_module": "@jupyter-widgets/base",
      "model_module_version": "2.0.0",
      "model_name": "LayoutModel",
      "state": {
       "height": "450px"
      }
     },
     "f8c71a29eca64b04935026bc0d350e8f": {
      "model_module": "@jupyter-widgets/controls",
      "model_module_version": "2.0.0",
      "model_name": "ButtonStyleModel",
      "state": {
       "font_family": null,
       "font_size": null,
       "font_style": null,
       "font_variant": null,
       "font_weight": null,
       "text_color": null,
       "text_decoration": null
      }
     },
     "fb314db345bc48d6bddc8e674cc1e52f": {
      "model_module": "@jupyter-widgets/base",
      "model_module_version": "2.0.0",
      "model_name": "LayoutModel",
      "state": {
       "height": "390px"
      }
     },
     "fc4d2377aea043b0aae2698dc6c2bb9b": {
      "model_module": "@jupyter-widgets/base",
      "model_module_version": "2.0.0",
      "model_name": "LayoutModel",
      "state": {}
     },
     "fc60fbc90f714d8a95a671a4257de56b": {
      "model_module": "@jupyter-widgets/controls",
      "model_module_version": "2.0.0",
      "model_name": "ButtonModel",
      "state": {
       "description": "Undo",
       "layout": "IPY_MODEL_1f938c3911c74bd5a092480b1855ca77",
       "style": "IPY_MODEL_dcb3d0c6154246499500e481b1fc4f7c",
       "tooltip": null
      }
     },
     "fd2237beca7b49cf8d89d6d00d1b1915": {
      "model_module": "@jupyter-widgets/base",
      "model_module_version": "2.0.0",
      "model_name": "LayoutModel",
      "state": {}
     },
     "fef5a9624ce94a5dbdea3f8aaec52c0d": {
      "model_module": "@jupyter-widgets/base",
      "model_module_version": "2.0.0",
      "model_name": "LayoutModel",
      "state": {}
     }
    },
    "version_major": 2,
    "version_minor": 0
   }
  }
 },
 "nbformat": 4,
 "nbformat_minor": 5
}
