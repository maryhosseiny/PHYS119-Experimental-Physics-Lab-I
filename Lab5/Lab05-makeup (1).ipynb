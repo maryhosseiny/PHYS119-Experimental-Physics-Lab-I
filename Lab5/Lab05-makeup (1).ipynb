{
 "cells": [
  {
   "cell_type": "markdown",
   "id": "61ed9912-a3b5-4024-b62b-49c912b1aa25",
   "metadata": {
    "id": "61ed9912-a3b5-4024-b62b-49c912b1aa25"
   },
   "source": [
    "# Lab 05 - Ohm's Law (Make-Up Version)"
   ]
  },
  {
   "cell_type": "markdown",
   "id": "355521ea-d050-45f2-93d5-988f72f018a2",
   "metadata": {
    "id": "355521ea-d050-45f2-93d5-988f72f018a2"
   },
   "source": [
    "Edit this cell and provide the information requested:\n",
    "\n",
    "- Your name: Mary Hosseini\n",
    "- Your student number: 41004235"
   ]
  },
  {
   "cell_type": "code",
   "execution_count": 1,
   "id": "b795858f-a049-496e-a9bb-8128e61d49c3",
   "metadata": {
    "id": "b795858f-a049-496e-a9bb-8128e61d49c3"
   },
   "outputs": [],
   "source": [
    "%reset -f\n",
    "import numpy as np\n",
    "import data_entry2\n",
    "import matplotlib.pyplot as plt"
   ]
  },
  {
   "cell_type": "markdown",
   "id": "cce406b4-a6d8-4783-b05f-e1265070ed8e",
   "metadata": {},
   "source": [
    "## Part A: Discussion of Residuals"
   ]
  },
  {
   "cell_type": "markdown",
   "id": "00565bf7-0be3-4088-922a-5d4c8bab572d",
   "metadata": {},
   "source": [
    "*Your notes on how residuals are useful and what properties of a residuals graph inform us about the quality of a fit of a model to data.*"
   ]
  },
  {
   "cell_type": "markdown",
   "id": "6d00f9c8-15c4-4754-be16-e211a5af4a5d",
   "metadata": {},
   "source": [
    "#### General Notes + Usefulness\n",
    "- Residuals are a plot of difference between the individual points and the model. They are useful because they help us evaluate the fitness of our model fit and whether we need to apply improvements to the model\n",
    "- A good residual graph has the following properties:\n",
    "  - Residuals are scattered equals above and below 0\n",
    "  - There is no obvious trend in the residuals\n",
    "  - two-thirds of the residual are within one deviation of 0 and almost all are within two deviations of 0\n",
    "#### Properties\n",
    "- Fitting: knowing how to improve the fit\n",
    "- Targeting improvements: can easily see which measurements need to be investigated\n",
    "- Checking model validity: is the model a good choice for the data\n",
    "- Assessing uncertainty: how does the size of the uncertainties compare to the size of the scatter? two-thirds of the residual are within one deviation of 0 and almost all are within two deviations of 0\n",
    "#### Tutorial Notes\n",
    "- Need xmin(minimum of x measured x values) and xmax(maximum of measured x values), they determine the span/range of data\n",
    "- linspace function: creates a set of linearly spaced values using xmin, xmax and the number of values in the set\n",
    "- Guess our initial slope to calculate the y values\n",
    "- Creating residuals plot: multiply the initial slope by dxVec which is the x data to get the y model at those x points\n",
    "- Calculating the residuals: subtracting the ymodel from our Fvec (our actual data)\n",
    "- Plotting Residuals: use x datapoints, the residuals at those x data points, and uncertainty of y"
   ]
  },
  {
   "cell_type": "markdown",
   "id": "2921ad5c-8305-4d1e-996d-03d62735438c",
   "metadata": {
    "id": "2921ad5c-8305-4d1e-996d-03d62735438c"
   },
   "source": [
    "## Part B - Familiarize, Part 1 (Build your circuit)"
   ]
  },
  {
   "cell_type": "markdown",
   "id": "a94f87ad-829c-4566-b2e7-92ad2dafe042",
   "metadata": {
    "id": "a94f87ad-829c-4566-b2e7-92ad2dafe042"
   },
   "source": [
    "*Your notes on Ohm's law, multimeters, and anything else useful for building the circuit. Record the experimental goal.*"
   ]
  },
  {
   "cell_type": "markdown",
   "id": "e6ae7d17-4c81-4eda-82f6-29b223f7d9b0",
   "metadata": {
    "id": "e6ae7d17-4c81-4eda-82f6-29b223f7d9b0"
   },
   "source": [
    "#### Experimental Goal\n",
    "Determine the resistance of a resistor, and whether it obeys Ohm’s law.\n",
    "#### Ohm's Law\n",
    "- States that the current through a device is proportional to the voltage applied to it $V = IR$\n",
    "- An empirical rule, not a law of nature\n",
    "- Measurement:\n",
    "    - I(V), I as a function of V\n",
    "    - I = V/R\n",
    "    - Slope = m = 1/R\n",
    "    - $u_R = R \\times u_m/m$\n",
    "#### Uncertainty in Slope\n",
    "1) Find the m_best that gives you a good fit\n",
    "2) Increase m to find m_max, which is the maximum slope that gives a reasonable fit\n",
    "3) Decrease m to find m_min, which is the minimum slope that gives a reasonable fit\n",
    "4) Calculate the uncertainty on m using $u_m = (m_max - m_min)/2$\n",
    "#### Side Notes to self for data measurements\n",
    "- Make sure to double check battery colour so that it's gold and not silver\n",
    "- Make sure to select and use the correct resistor"
   ]
  },
  {
   "cell_type": "markdown",
   "id": "f2f0940c-266b-429c-bf4f-93ee502dd067",
   "metadata": {
    "id": "f2f0940c-266b-429c-bf4f-93ee502dd067"
   },
   "source": [
    "## Part C - Familiarize, Part 2 (Explore the Equipment and Develop a Measurement Strategy)"
   ]
  },
  {
   "cell_type": "markdown",
   "id": "36361425-9e9c-46fc-85ec-97d880f53ca2",
   "metadata": {
    "id": "36361425-9e9c-46fc-85ec-97d880f53ca2"
   },
   "source": [
    "#### What effect does changing the voltage have on the circuit?\n",
    "- Increasing the voltage also increases the value of current in the circuit\n",
    "- Decreasing the voltage also decreases the value of current in the circuite?"
   ]
  },
  {
   "cell_type": "markdown",
   "id": "4f315391-4768-43e9-9cac-76a2bb28bf7a",
   "metadata": {},
   "source": [
    "#### What range of voltage seems reasonable to use? What happens at the extremes of the voltage settings?\n",
    "- Range between 9 volts to 81 volts is reasonable to use because it compares a large difference of voltages but it does not go in the extreme (the current increases speed) - this is a guess\n",
    "- At extremes of the voltage settings, the value of current also increases (visually this can be seen as the blue dots increasing their speed when circulating the circuit)"
   ]
  },
  {
   "cell_type": "markdown",
   "id": "2a6f92f4-5251-46ff-9ff4-f0da300d35aa",
   "metadata": {
    "id": "2a6f92f4-5251-46ff-9ff4-f0da300d35aa"
   },
   "source": [
    "#### What effect does changing the resistance have on the circuit?\n",
    "- As we decrease resistance, the value for current increases and the voltage stays the same\n",
    "- As we increase resistance, the value for current decreases and the voltage stays the same"
   ]
  },
  {
   "cell_type": "markdown",
   "id": "77e8b504-75a0-437e-a928-698d3fd3ea64",
   "metadata": {},
   "source": [
    "#### Measurement Strategy\n",
    "- Build circuit as instructed in the lab instructions\n",
    "- Since this is a digital reading of values online, we need to be mindful of the value for reading itself. Eg 14.3 volts can be from 14.25 V to 14.34 V.\n",
    "- Because of the mentioned reason above we need to use the rectangular probability distribution function"
   ]
  },
  {
   "cell_type": "markdown",
   "id": "1d593d35-14aa-4543-9107-77488aa1c0d9",
   "metadata": {
    "id": "1d593d35-14aa-4543-9107-77488aa1c0d9"
   },
   "source": [
    "## Part D - Measure and Analyze (Collect Data and Make a Scatter Plot)"
   ]
  },
  {
   "cell_type": "code",
   "execution_count": 6,
   "id": "1f977bad-af13-4b9d-8787-9377d261725f",
   "metadata": {
    "colab": {
     "referenced_widgets": [
      "cadbae5e287a41a7a6481c21fe362640"
     ]
    },
    "id": "1f977bad-af13-4b9d-8787-9377d261725f",
    "outputId": "3501ebc8-7925-4118-ee46-2591e8d85f79"
   },
   "outputs": [
    {
     "name": "stdout",
     "output_type": "stream",
     "text": [
      "Sheet name: lab05_lab_ohms_law.csv\n"
     ]
    },
    {
     "data": {
      "application/vnd.jupyter.widget-view+json": {
       "model_id": "28c5c19196ed4beca28c07b1f69c308c",
       "version_major": 2,
       "version_minor": 0
      },
      "text/plain": [
       "VBox(children=(HBox(children=(Button(description='Undo', style=ButtonStyle()), Button(description='Redo', styl…"
      ]
     },
     "metadata": {},
     "output_type": "display_data"
    }
   ],
   "source": [
    "# Run me to load the Ohm's Law data\n",
    "# Make sure to press \"Generate Vectors\" afterward\n",
    "\n",
    "de2 = data_entry2.sheet(\"lab05_lab_ohms_law\")"
   ]
  },
  {
   "cell_type": "code",
   "execution_count": 7,
   "id": "3bef3e30-4540-4332-8573-ed9079e4c84b",
   "metadata": {},
   "outputs": [
    {
     "data": {
      "image/png": "[encoded data removed]",
      "text/plain": [
       "<Figure size 640x480 with 1 Axes>"
      ]
     },
     "metadata": {},
     "output_type": "display_data"
    }
   ],
   "source": [
    "# Scatter Plot\n",
    "\n",
    "# 1: find the limits of the data:\n",
    "xmin = np.min(VVec) \n",
    "xmax = np.max(VVec)\n",
    "\n",
    "# 2: generate a bunch of x points between xmin and xmax\n",
    "xpoints = np.linspace(xmin, xmax, 100) \n",
    "\n",
    "# 3: calculate the model values:\n",
    "slope = 0.077 # Our initial estimate of the slope\n",
    "ypoints = xpoints * slope \n",
    "\n",
    "# 4: plot the curve. We plot this as a red line \"r-\" :\n",
    "plt.plot(xpoints, ypoints, \"r-\", label = \"V = IR\")\n",
    "\n",
    "# 5: plot the data:\n",
    "plt.errorbar(VVec, IVec, uIVec, fmt=\"bo\", markersize = 3, label=\"Experimental data\")\n",
    "plt.title(\"Current vs. Voltage\")\n",
    "plt.xlabel(\"Voltage (V)\")\n",
    "plt.ylabel(\"Current (amp)\")\n",
    "plt.legend()\n",
    "plt.show()"
   ]
  },
  {
   "cell_type": "code",
   "execution_count": 8,
   "id": "205778d4-f8fb-4cac-8013-44544b5653c9",
   "metadata": {},
   "outputs": [
    {
     "data": {
      "image/png": "[encoded data removed]",
      "text/plain": [
       "<Figure size 640x480 with 1 Axes>"
      ]
     },
     "metadata": {},
     "output_type": "display_data"
    }
   ],
   "source": [
    "# Residuals plot\n",
    "# Residuals step 1: Calculate the model at each x-datapoint\n",
    "ymodel = slope * VVec # y = mx at each x_i\n",
    "\n",
    "# Residuals step 2: Calcualte the residual vector\n",
    "RVec = IVec - ymodel\n",
    "\n",
    "# Resoduals step 3: Plot the residual vector against the x-data vector\n",
    "plt.errorbar(VVec, RVec, uIVec, fmt=\"bo\", markersize = 3)\n",
    "\n",
    "# Residuals step 4: Add a R = 0 x-axis (horizontal line) to the plot\n",
    "plt.hlines(y=0, xmin=xmin, xmax=xmax, color='k') # draw axis at y = 0.\n",
    "\n",
    "# Residuals step 5: Add axis labels and title, and show the graph\n",
    "plt.title(\"Residuals for Current vs. Voltage\")\n",
    "plt.xlabel(\"Voltage (V)\")\n",
    "plt.ylabel(\"Residual = data - model (N)\")\n",
    "plt.show()"
   ]
  },
  {
   "cell_type": "markdown",
   "id": "e011d06e-afc2-490c-9940-bd66e3ac8f11",
   "metadata": {
    "id": "9433b047-f5d8-404b-9217-284c0d6645ab"
   },
   "source": [
    "## Part E - IMPROVE, COMPARE, SUMMARIZE, REFLECT"
   ]
  },
  {
   "cell_type": "markdown",
   "id": "922d14a2-9478-4900-89de-7f794f74da4d",
   "metadata": {},
   "source": [
    "### Calculations for the Spreadsheet"
   ]
  },
  {
   "cell_type": "code",
   "execution_count": 10,
   "id": "7d8e9ea6-e8f2-4316-8a70-036a7eaa6bd7",
   "metadata": {},
   "outputs": [
    {
     "name": "stdout",
     "output_type": "stream",
     "text": [
      "The model slope is with 68% confidence interval: 0.0770+/-0.0003 N/m\n"
     ]
    },
    {
     "data": {
      "text/plain": [
       "12.987012987012987"
      ]
     },
     "execution_count": 10,
     "metadata": {},
     "output_type": "execute_result"
    }
   ],
   "source": [
    "# slope and u[slope]\n",
    "slope_max = 0.0771\n",
    "slope_min = 0.0765\n",
    "slope_best = 0.077\n",
    "u_slope = (slope_max-slope_min)/2\n",
    "print(\"The model slope is with 68% confidence interval: {:.4f}+/-{:.4f} N/m\".format(slope_best, u_slope)) \n",
    "# u[slope]/slope\n",
    "uSlopebySlope = u_slope/slope_best\n",
    "# R and u_R\n",
    "R = 1/slope\n",
    "u_R = R* (u_slope/slope)\n",
    "# u[R]/R\n",
    "uRbyR = u_R/R \n",
    "R"
   ]
  },
  {
   "cell_type": "markdown",
   "id": "d7b62755-c1f4-45fa-98e8-ebdd1bce45b6",
   "metadata": {},
   "source": [
    "#### Does the Ohm’s law model describe your data?\n",
    "Yes. Ohm's law states that the current through a device is proportional to the voltage applied to it $V = IR$. At the beginning of the lab, we set the resistance to be 13 Ω. The result I got from my data collection and calculations is R = 12.99 Ω. Since the value for my resistance is very close to the actual predetermined resistance. I can conclude that the Ohm's law model describes my data.?)"
   ]
  },
  {
   "cell_type": "markdown",
   "id": "9b37deb1-c9f6-447f-ac5c-b6df70948f26",
   "metadata": {},
   "source": [
    "#### Does the resistance you found match the expected resistance (13.00 Ω)?\n",
    "Yes, the resistance I found from my data is 12.99 Ω and the expected resistance is 13.00 Ω."
   ]
  },
  {
   "cell_type": "markdown",
   "id": "c60efcf5-ee32-49e1-8b01-dbf9e70e9484",
   "metadata": {},
   "source": [
    "#### Compare with at least one other student. Does your resistance match their resistance (how do we make quantitative comparisons between two values in this course?)\n",
    "Comparing my results to Niloy, we can see that our value for slope is the same (0.077), and the value we got for R is also very similar. I got 12.99 Ω, whereas he got 13.00 Ω. We can also conclude that Niloy has a more accurate result because his u[slope] and u[R] values are lower than mine. Whereas he got 0.0001 and 0.017 for u[slope] and u[R], respectively, I got 0.0003 and 0.0505."
   ]
  },
  {
   "cell_type": "markdown",
   "id": "5a7d84ec-e02f-4eae-84d4-0d4042471ffa",
   "metadata": {},
   "source": [
    "## Part F - IMPROVE, COMPARE, SUMMARIZE, REFLECT"
   ]
  },
  {
   "cell_type": "markdown",
   "id": "dbfc9e34-7705-41d9-81bb-6e89bf700a6b",
   "metadata": {},
   "source": [
    "#### Improvements\n",
    "- I could increase the interval of my voltage measurements so that I have a much bigger range of values instead of 9 to 16 volts, I could try to do 10 to 45 volts with 5-volt increases starting from 10 volts.\n",
    "- I could also increase my number of measurements so that I have more data that could help calculate a more informed result. "
   ]
  },
  {
   "cell_type": "markdown",
   "id": "d84d9a3a-e23b-4fe8-aa0d-45f60b9cb41f",
   "metadata": {},
   "source": [
    "Had left over time so decided to do a second round of measurements with both brainstormed improvements."
   ]
  },
  {
   "cell_type": "code",
   "execution_count": 4,
   "id": "c2f74551-55f0-4988-9ceb-da37dd324f33",
   "metadata": {},
   "outputs": [
    {
     "name": "stdout",
     "output_type": "stream",
     "text": [
      "Sheet name: lab05_lab2_ohms_law.csv\n"
     ]
    },
    {
     "data": {
      "application/vnd.jupyter.widget-view+json": {
       "model_id": "72789496edc640a4a0353cb5102ff348",
       "version_major": 2,
       "version_minor": 0
      },
      "text/plain": [
       "VBox(children=(HBox(children=(Button(description='Undo', style=ButtonStyle()), Button(description='Redo', styl…"
      ]
     },
     "metadata": {},
     "output_type": "display_data"
    },
    {
     "data": {
      "text/plain": [
       "<data_entry2.sheet at 0x7ff00c5f38e0>"
      ]
     },
     "execution_count": 4,
     "metadata": {},
     "output_type": "execute_result"
    }
   ],
   "source": [
    "data_entry2.sheet_copy(\"lab05_lab_ohms_law\", \"lab05_lab2_ohms_law\")"
   ]
  },
  {
   "cell_type": "code",
   "execution_count": 130,
   "id": "0a8cae20-8911-41ac-9832-7d49279f5eb1",
   "metadata": {},
   "outputs": [
    {
     "data": {
      "image/png": "[encoded data removed]",
      "text/plain": [
       "<Figure size 640x480 with 1 Axes>"
      ]
     },
     "metadata": {},
     "output_type": "display_data"
    },
    {
     "data": {
      "image/png": "[encoded data removed]",
      "text/plain": [
       "<Figure size 640x480 with 1 Axes>"
      ]
     },
     "metadata": {},
     "output_type": "display_data"
    }
   ],
   "source": [
    "# Scatter Plot\n",
    "\n",
    "# 1: find the limits of the data:\n",
    "xmin = np.min(VVec) \n",
    "xmax = np.max(VVec)\n",
    "\n",
    "# 2: generate a bunch of x points between xmin and xmax\n",
    "xpoints = np.linspace(xmin, xmax, 100) \n",
    "\n",
    "# 3: calculate the model values:\n",
    "slope = 0.0769 # Our initial estimate of the slope\n",
    "ypoints = xpoints * slope \n",
    "\n",
    "# 4: plot the curve. We plot this as a red line \"r-\" :\n",
    "plt.plot(xpoints, ypoints, \"r-\", label = \"V = IR\")\n",
    "\n",
    "# 5: plot the data:\n",
    "plt.errorbar(VVec, IVec, uIVec, fmt=\"bo\", markersize = 3, label=\"Experimental data\")\n",
    "plt.title(\"Current vs. Voltage\")\n",
    "plt.xlabel(\"Voltage (V)\")\n",
    "plt.ylabel(\"Current (amp)\")\n",
    "plt.legend()\n",
    "plt.show()\n",
    "\n",
    "# Residuals plot\n",
    "# Residuals step 1: Calculate the model at each x-datapoint\n",
    "ymodel = slope * VVec # y = mx at each x_i\n",
    "\n",
    "# Residuals step 2: Calcualte the residual vector\n",
    "RVec = IVec - ymodel\n",
    "\n",
    "# Resoduals step 3: Plot the residual vector against the x-data vector\n",
    "plt.errorbar(VVec, RVec, uIVec, fmt=\"bo\", markersize = 3)\n",
    "\n",
    "# Residuals step 4: Add a R = 0 x-axis (horizontal line) to the plot\n",
    "plt.hlines(y=0, xmin=xmin, xmax=xmax, color='k') # draw axis at y = 0.\n",
    "\n",
    "# Residuals step 5: Add axis labels and title, and show the graph\n",
    "plt.title(\"Residuals for Current vs. Voltage\")\n",
    "plt.xlabel(\"Voltage (V)\")\n",
    "plt.ylabel(\"Residual = data - model (N)\")\n",
    "plt.show()"
   ]
  },
  {
   "cell_type": "code",
   "execution_count": 133,
   "id": "1b12c5e9-a42b-4c52-b4a0-af661716ac1f",
   "metadata": {},
   "outputs": [
    {
     "name": "stdout",
     "output_type": "stream",
     "text": [
      "The model slope is with 68% confidence interval: 0.0769+/-0.0001 N/m\n"
     ]
    }
   ],
   "source": [
    "# slope and u[slope]\n",
    "slope_max = 0.077\n",
    "slope_min = 0.07689\n",
    "slope_best = 0.0769\n",
    "u_slope = (slope_max-slope_min)/2\n",
    "print(\"The model slope is with 68% confidence interval: {:.4f}+/-{:.4f} N/m\".format(slope_best, u_slope)) \n",
    "# u[slope]/slope\n",
    "uSlopebySlope = u_slope/slope_best\n",
    "# R and u_R\n",
    "R = 1/slope\n",
    "u_R = R* (u_slope/slope)\n",
    "# u[R]/R\n",
    "uRbyR = u_R/R "
   ]
  },
  {
   "cell_type": "markdown",
   "id": "e43b002e-5def-40bf-bb93-cf01abfe2abf",
   "metadata": {},
   "source": [
    "## Part G - Summary"
   ]
  },
  {
   "cell_type": "markdown",
   "id": "13657467-93fa-4ab6-98ed-0f5ad84d2840",
   "metadata": {},
   "source": [
    "### Summary of how your key results and the results of your analysis and comparisons evolved throughout the lab.\r",
    "From the first and second rounds of results, I can conclude that I am extremely confident that the experiment goal obeys Ohm's law. Using the collected results in round one of data collection I concluded that the resistance 12.99 Ω with an uncertainty of 0.0505 Ω. I also found the slope to be 0.07700 +/- 0.0003 N/m. Using improvement methods for data collection, from my second round of results I concluded that the resistance 13.00 Ω with an uncertainty of 5.499e-05 Ω. I also found the slope to be 0.07690 +/- 0.0001 N/m. do next?"
   ]
  },
  {
   "cell_type": "markdown",
   "id": "319a0b40-efe2-41bf-9ff2-e2d54be7d2b3",
   "metadata": {},
   "source": [
    "\n",
    "- Slope value with uncertainty round one: 0.07700 +/- 0.0003 N/m with 68% confidence interval\n",
    "- Slope value with uncertainty round two: 0.07690 +/- 0.0001 N/m with 68% confidence interval\n",
    "- Resistance value of First Round: 12.99 Ω\n",
    "- Resistance value of Second round: 13.00 Ω"
   ]
  },
  {
   "cell_type": "markdown",
   "id": "3f94baee-e871-4650-804c-fba593027207",
   "metadata": {},
   "source": [
    "### Describe and justify your major improvements and how they proved to be successful or unsuccessful (if performed). It may be helpful to use relative uncertainty to quantify your argument.\n",
    "I increased my number of measurements and my range of measurements which proved to be successful. My first round of measurements was 7 measurements ranging from 9 to 16 volts with 1 volt increase between each value. My second round of data was 12 measurements ranging from 10 to 70 volts with 5 volt increase between each value. My final result in my first round was the model slope being 0.0770 +/- 0.000300 N/m with 68% confidence interval. My second round results were the model slope being 0.0769 +/- 0.000100 N/m with 68% confidence interval. It can be observed that the second round results are more accurate since they have a low uncertainty compared to my first round ($0.000100 < 0.000300$). "
   ]
  },
  {
   "cell_type": "markdown",
   "id": "15782871-35d9-42b9-8608-c95fb62e2cb9",
   "metadata": {},
   "source": [
    "### Addressing the experimental goal and describing the conclusions you can make from the results of your comparisons.\n",
    "Ohm's Law states that the current through a device is proportional to the voltage applied to it $V = IR$. The experimental goal of this lab was to determine the resistance of a resistor, and whether it obeys Ohm’s law. Using the collected data and the results stated above, I determined the resistance of the resistor which was 13.00Ω (the same value as the expected resistance of 13Ω). Therefore, i can conclude that the experiment goal obeys Ohm's law. "
   ]
  },
  {
   "cell_type": "markdown",
   "id": "934d4c18-f217-486e-a6db-8efb9a67ca6c",
   "metadata": {},
   "source": [
    "### Thoughts for further investigation. If you were to spend more time with this experiment, what would you plan to do next?\n",
    "I would try to collect more data with small value increases. In my second round of data, I measured from 10 volts to 70 volts with 5-volt increases. I f I were to spend more time with this experiment, I would decrease my voltage measurement range and decrease my voltage increase (eg. 10 to 40, with 2 volt increases)"
   ]
  },
  {
   "cell_type": "markdown",
   "id": "ae72fa9f-b9b0-43a5-bd8a-158e958dff84",
   "metadata": {},
   "source": [
    "# Submit\n",
    "\n",
    "Steps for submission:\n",
    "\n",
    "1. Click: Run => Run_All_Cells\n",
    "2. Read through the notebook to ensure all the cells executed correctly and without error.\n",
    "3. File => Save_and_Export_Notebook_As->HTML\n",
    "4. Upload the HTML document to the lab submission assignment on Canvas."
   ]
  },
  {
   "cell_type": "code",
   "execution_count": null,
   "id": "1becd694",
   "metadata": {},
   "outputs": [],
   "source": []
  },
  {
   "cell_type": "code",
   "execution_count": 132,
   "id": "a3fd3f45-5d5d-4b87-b33b-95029b220448",
   "metadata": {},
   "outputs": [
    {
     "name": "stdout",
     "output_type": "stream",
     "text": [
      "Sheet: de2   File: lab05_lab_ohms_law.csv\n"
     ]
    },
    {
     "data": {
      "text/html": [
       "<div>\n",
       "<style scoped>\n",
       "    .dataframe tbody tr th:only-of-type {\n",
       "        vertical-align: middle;\n",
       "    }\n",
       "\n",
       "    .dataframe tbody tr th {\n",
       "        vertical-align: top;\n",
       "    }\n",
       "\n",
       "    .dataframe thead th {\n",
       "        text-align: right;\n",
       "    }\n",
       "</style>\n",
       "<table border=\"1\" class=\"dataframe\">\n",
       "  <thead>\n",
       "    <tr style=\"text-align: right;\">\n",
       "      <th></th>\n",
       "      <th>V</th>\n",
       "      <th>u[v]</th>\n",
       "      <th>I</th>\n",
       "      <th>u[I]</th>\n",
       "    </tr>\n",
       "  </thead>\n",
       "  <tbody>\n",
       "    <tr>\n",
       "      <th>Units</th>\n",
       "      <td>V</td>\n",
       "      <td>V</td>\n",
       "      <td>A</td>\n",
       "      <td>A</td>\n",
       "    </tr>\n",
       "    <tr>\n",
       "      <th>0</th>\n",
       "      <td>9</td>\n",
       "      <td>0.03</td>\n",
       "      <td>0.690</td>\n",
       "      <td>0.002</td>\n",
       "    </tr>\n",
       "    <tr>\n",
       "      <th>1</th>\n",
       "      <td>10</td>\n",
       "      <td>0.01</td>\n",
       "      <td>0.770</td>\n",
       "      <td>0.001</td>\n",
       "    </tr>\n",
       "    <tr>\n",
       "      <th>2</th>\n",
       "      <td>11</td>\n",
       "      <td>0.05</td>\n",
       "      <td>0.850</td>\n",
       "      <td>0.004</td>\n",
       "    </tr>\n",
       "    <tr>\n",
       "      <th>3</th>\n",
       "      <td>12</td>\n",
       "      <td>0.04</td>\n",
       "      <td>0.920</td>\n",
       "      <td>0.003</td>\n",
       "    </tr>\n",
       "    <tr>\n",
       "      <th>4</th>\n",
       "      <td>13</td>\n",
       "      <td>0</td>\n",
       "      <td>1</td>\n",
       "      <td>0</td>\n",
       "    </tr>\n",
       "    <tr>\n",
       "      <th>5</th>\n",
       "      <td>14</td>\n",
       "      <td>0.04</td>\n",
       "      <td>1.080</td>\n",
       "      <td>0.003</td>\n",
       "    </tr>\n",
       "    <tr>\n",
       "      <th>6</th>\n",
       "      <td>15</td>\n",
       "      <td>0.05</td>\n",
       "      <td>1.150</td>\n",
       "      <td>0.003</td>\n",
       "    </tr>\n",
       "    <tr>\n",
       "      <th>7</th>\n",
       "      <td>16</td>\n",
       "      <td>0.01</td>\n",
       "      <td>1.230</td>\n",
       "      <td>0.0007</td>\n",
       "    </tr>\n",
       "  </tbody>\n",
       "</table>\n",
       "</div>"
      ],
      "text/plain": [
       "        V  u[v]      I    u[I]\n",
       "Units   V     V      A       A\n",
       "0       9  0.03  0.690   0.002\n",
       "1      10  0.01  0.770   0.001\n",
       "2      11  0.05  0.850   0.004\n",
       "3      12  0.04  0.920   0.003\n",
       "4      13     0      1       0\n",
       "5      14  0.04  1.080   0.003\n",
       "6      15  0.05  1.150   0.003\n",
       "7      16  0.01  1.230  0.0007"
      ]
     },
     "metadata": {},
     "output_type": "display_data"
    },
    {
     "name": "stdout",
     "output_type": "stream",
     "text": [
      "Sheet: __   File: lab05_lab2_ohms_law.csv\n"
     ]
    },
    {
     "data": {
      "text/html": [
       "<div>\n",
       "<style scoped>\n",
       "    .dataframe tbody tr th:only-of-type {\n",
       "        vertical-align: middle;\n",
       "    }\n",
       "\n",
       "    .dataframe tbody tr th {\n",
       "        vertical-align: top;\n",
       "    }\n",
       "\n",
       "    .dataframe thead th {\n",
       "        text-align: right;\n",
       "    }\n",
       "</style>\n",
       "<table border=\"1\" class=\"dataframe\">\n",
       "  <thead>\n",
       "    <tr style=\"text-align: right;\">\n",
       "      <th></th>\n",
       "      <th>V</th>\n",
       "      <th>u[v]</th>\n",
       "      <th>I</th>\n",
       "      <th>u[I]</th>\n",
       "    </tr>\n",
       "  </thead>\n",
       "  <tbody>\n",
       "    <tr>\n",
       "      <th>Units</th>\n",
       "      <td>V</td>\n",
       "      <td>V</td>\n",
       "      <td>A</td>\n",
       "      <td>A</td>\n",
       "    </tr>\n",
       "    <tr>\n",
       "      <th>0</th>\n",
       "      <td>10</td>\n",
       "      <td>0.01</td>\n",
       "      <td>0.770</td>\n",
       "      <td>0.001</td>\n",
       "    </tr>\n",
       "    <tr>\n",
       "      <th>1</th>\n",
       "      <td>15</td>\n",
       "      <td>0.05</td>\n",
       "      <td>1.15</td>\n",
       "      <td>0.003</td>\n",
       "    </tr>\n",
       "    <tr>\n",
       "      <th>2</th>\n",
       "      <td>20</td>\n",
       "      <td>0.02</td>\n",
       "      <td>1.54</td>\n",
       "      <td>0.002</td>\n",
       "    </tr>\n",
       "    <tr>\n",
       "      <th>3</th>\n",
       "      <td>25</td>\n",
       "      <td>0.04</td>\n",
       "      <td>1.92</td>\n",
       "      <td>0.003</td>\n",
       "    </tr>\n",
       "    <tr>\n",
       "      <th>4</th>\n",
       "      <td>30</td>\n",
       "      <td>0.03</td>\n",
       "      <td>2.31</td>\n",
       "      <td>0.004</td>\n",
       "    </tr>\n",
       "    <tr>\n",
       "      <th>5</th>\n",
       "      <td>35</td>\n",
       "      <td>0.03</td>\n",
       "      <td>2.69</td>\n",
       "      <td>0.002</td>\n",
       "    </tr>\n",
       "    <tr>\n",
       "      <th>6</th>\n",
       "      <td>40</td>\n",
       "      <td>0.04</td>\n",
       "      <td>3.08</td>\n",
       "      <td>0.003</td>\n",
       "    </tr>\n",
       "    <tr>\n",
       "      <th>7</th>\n",
       "      <td>45</td>\n",
       "      <td>0.02</td>\n",
       "      <td>3.46</td>\n",
       "      <td>0.002</td>\n",
       "    </tr>\n",
       "    <tr>\n",
       "      <th>8</th>\n",
       "      <td>50</td>\n",
       "      <td>0.05</td>\n",
       "      <td>3.85</td>\n",
       "      <td>0.004</td>\n",
       "    </tr>\n",
       "    <tr>\n",
       "      <th>9</th>\n",
       "      <td>55</td>\n",
       "      <td>0.01</td>\n",
       "      <td>4.23</td>\n",
       "      <td>0.0007</td>\n",
       "    </tr>\n",
       "    <tr>\n",
       "      <th>10</th>\n",
       "      <td>60</td>\n",
       "      <td>0.06</td>\n",
       "      <td>4.62</td>\n",
       "      <td>0.005</td>\n",
       "    </tr>\n",
       "    <tr>\n",
       "      <th>11</th>\n",
       "      <td>65</td>\n",
       "      <td>0</td>\n",
       "      <td>5</td>\n",
       "      <td>0</td>\n",
       "    </tr>\n",
       "    <tr>\n",
       "      <th>12</th>\n",
       "      <td>70</td>\n",
       "      <td>0.06</td>\n",
       "      <td>5.38</td>\n",
       "      <td>0.004</td>\n",
       "    </tr>\n",
       "  </tbody>\n",
       "</table>\n",
       "</div>"
      ],
      "text/plain": [
       "        V  u[v]      I    u[I]\n",
       "Units   V     V      A       A\n",
       "0      10  0.01  0.770   0.001\n",
       "1      15  0.05   1.15   0.003\n",
       "2      20  0.02   1.54   0.002\n",
       "3      25  0.04   1.92   0.003\n",
       "4      30  0.03   2.31   0.004\n",
       "5      35  0.03   2.69   0.002\n",
       "6      40  0.04   3.08   0.003\n",
       "7      45  0.02   3.46   0.002\n",
       "8      50  0.05   3.85   0.004\n",
       "9      55  0.01   4.23  0.0007\n",
       "10     60  0.06   4.62   0.005\n",
       "11     65     0      5       0\n",
       "12     70  0.06   5.38   0.004"
      ]
     },
     "metadata": {},
     "output_type": "display_data"
    },
    {
     "name": "stdout",
     "output_type": "stream",
     "text": [
      "Sheet: _129   File: lab05_lab2_ohms_law.csv\n"
     ]
    },
    {
     "data": {
      "text/html": [
       "<div>\n",
       "<style scoped>\n",
       "    .dataframe tbody tr th:only-of-type {\n",
       "        vertical-align: middle;\n",
       "    }\n",
       "\n",
       "    .dataframe tbody tr th {\n",
       "        vertical-align: top;\n",
       "    }\n",
       "\n",
       "    .dataframe thead th {\n",
       "        text-align: right;\n",
       "    }\n",
       "</style>\n",
       "<table border=\"1\" class=\"dataframe\">\n",
       "  <thead>\n",
       "    <tr style=\"text-align: right;\">\n",
       "      <th></th>\n",
       "      <th>V</th>\n",
       "      <th>u[v]</th>\n",
       "      <th>I</th>\n",
       "      <th>u[I]</th>\n",
       "    </tr>\n",
       "  </thead>\n",
       "  <tbody>\n",
       "    <tr>\n",
       "      <th>Units</th>\n",
       "      <td>V</td>\n",
       "      <td>V</td>\n",
       "      <td>A</td>\n",
       "      <td>A</td>\n",
       "    </tr>\n",
       "    <tr>\n",
       "      <th>0</th>\n",
       "      <td>10</td>\n",
       "      <td>0.01</td>\n",
       "      <td>0.770</td>\n",
       "      <td>0.001</td>\n",
       "    </tr>\n",
       "    <tr>\n",
       "      <th>1</th>\n",
       "      <td>15</td>\n",
       "      <td>0.05</td>\n",
       "      <td>1.15</td>\n",
       "      <td>0.003</td>\n",
       "    </tr>\n",
       "    <tr>\n",
       "      <th>2</th>\n",
       "      <td>20</td>\n",
       "      <td>0.02</td>\n",
       "      <td>1.54</td>\n",
       "      <td>0.002</td>\n",
       "    </tr>\n",
       "    <tr>\n",
       "      <th>3</th>\n",
       "      <td>25</td>\n",
       "      <td>0.04</td>\n",
       "      <td>1.92</td>\n",
       "      <td>0.003</td>\n",
       "    </tr>\n",
       "    <tr>\n",
       "      <th>4</th>\n",
       "      <td>30</td>\n",
       "      <td>0.03</td>\n",
       "      <td>2.31</td>\n",
       "      <td>0.004</td>\n",
       "    </tr>\n",
       "    <tr>\n",
       "      <th>5</th>\n",
       "      <td>35</td>\n",
       "      <td>0.03</td>\n",
       "      <td>2.69</td>\n",
       "      <td>0.002</td>\n",
       "    </tr>\n",
       "    <tr>\n",
       "      <th>6</th>\n",
       "      <td>40</td>\n",
       "      <td>0.04</td>\n",
       "      <td>3.08</td>\n",
       "      <td>0.003</td>\n",
       "    </tr>\n",
       "    <tr>\n",
       "      <th>7</th>\n",
       "      <td>45</td>\n",
       "      <td>0.02</td>\n",
       "      <td>3.46</td>\n",
       "      <td>0.002</td>\n",
       "    </tr>\n",
       "    <tr>\n",
       "      <th>8</th>\n",
       "      <td>50</td>\n",
       "      <td>0.05</td>\n",
       "      <td>3.85</td>\n",
       "      <td>0.004</td>\n",
       "    </tr>\n",
       "    <tr>\n",
       "      <th>9</th>\n",
       "      <td>55</td>\n",
       "      <td>0.01</td>\n",
       "      <td>4.23</td>\n",
       "      <td>0.0007</td>\n",
       "    </tr>\n",
       "    <tr>\n",
       "      <th>10</th>\n",
       "      <td>60</td>\n",
       "      <td>0.06</td>\n",
       "      <td>4.62</td>\n",
       "      <td>0.005</td>\n",
       "    </tr>\n",
       "    <tr>\n",
       "      <th>11</th>\n",
       "      <td>65</td>\n",
       "      <td>0</td>\n",
       "      <td>5</td>\n",
       "      <td>0</td>\n",
       "    </tr>\n",
       "    <tr>\n",
       "      <th>12</th>\n",
       "      <td>70</td>\n",
       "      <td>0.06</td>\n",
       "      <td>5.38</td>\n",
       "      <td>0.004</td>\n",
       "    </tr>\n",
       "  </tbody>\n",
       "</table>\n",
       "</div>"
      ],
      "text/plain": [
       "        V  u[v]      I    u[I]\n",
       "Units   V     V      A       A\n",
       "0      10  0.01  0.770   0.001\n",
       "1      15  0.05   1.15   0.003\n",
       "2      20  0.02   1.54   0.002\n",
       "3      25  0.04   1.92   0.003\n",
       "4      30  0.03   2.31   0.004\n",
       "5      35  0.03   2.69   0.002\n",
       "6      40  0.04   3.08   0.003\n",
       "7      45  0.02   3.46   0.002\n",
       "8      50  0.05   3.85   0.004\n",
       "9      55  0.01   4.23  0.0007\n",
       "10     60  0.06   4.62   0.005\n",
       "11     65     0      5       0\n",
       "12     70  0.06   5.38   0.004"
      ]
     },
     "metadata": {},
     "output_type": "display_data"
    }
   ],
   "source": [
    "display_sheets()"
   ]
  },
  {
   "cell_type": "code",
   "execution_count": null,
   "id": "a68100a3-dde2-474f-bb4f-826bfe675b84",
   "metadata": {},
   "outputs": [],
   "source": []
  }
 ],
 "metadata": {
  "colab": {
   "collapsed_sections": [],
   "name": "lab05_TAversion.ipynb",
   "provenance": []
  },
  "kernelspec": {
   "display_name": "Python 3 (ipykernel)",
   "language": "python",
   "name": "python3"
  },
  "language_info": {
   "codemirror_mode": {
    "name": "ipython",
    "version": 3
   },
   "file_extension": ".py",
   "mimetype": "text/x-python",
   "name": "python",
   "nbconvert_exporter": "python",
   "pygments_lexer": "ipython3",
   "version": "3.10.10"
  },
  "widgets": {
   "application/vnd.jupyter.widget-state+json": {
    "state": {
     "02287c76e35c46f780c081b72f8ca9b9": {
      "model_module": "@jupyter-widgets/controls",
      "model_module_version": "2.0.0",
      "model_name": "ButtonStyleModel",
      "state": {
       "font_family": null,
       "font_size": null,
       "font_style": null,
       "font_variant": null,
       "font_weight": null,
       "text_color": null,
       "text_decoration": null
      }
     },
     "08b6ae2ab868469fb9ee99c455cf7376": {
      "model_module": "@jupyter-widgets/controls",
      "model_module_version": "2.0.0",
      "model_name": "ButtonModel",
      "state": {
       "description": "Undo",
       "layout": "IPY_MODEL_46d52b6833d64a7ba1740d260569fbb0",
       "style": "IPY_MODEL_3c884401489545d9bd7985b4cd65904e",
       "tooltip": null
      }
     },
     "0be10b028acb4a0f9bd04de7f4d381fd": {
      "model_module": "@jupyter-widgets/base",
      "model_module_version": "2.0.0",
      "model_name": "LayoutModel",
      "state": {}
     },
     "14c4df88fc86472097357fbb57a71016": {
      "model_module": "@jupyter-widgets/controls",
      "model_module_version": "2.0.0",
      "model_name": "ButtonStyleModel",
      "state": {
       "font_family": null,
       "font_size": null,
       "font_style": null,
       "font_variant": null,
       "font_weight": null,
       "text_color": null,
       "text_decoration": null
      }
     },
     "14e1b781d58c4abd9cb096cc2d559bc3": {
      "model_module": "@jupyter-widgets/output",
      "model_module_version": "1.0.0",
      "model_name": "OutputModel",
      "state": {
       "layout": "IPY_MODEL_27647f6eb5d04f9f95094fc82c377bee"
      }
     },
     "157cea36d4e248628305f1672844565d": {
      "model_module": "@jupyter-widgets/base",
      "model_module_version": "2.0.0",
      "model_name": "LayoutModel",
      "state": {}
     },
     "177af3c07a7d4012ac877c1638db3fd2": {
      "model_module": "@jupyter-widgets/base",
      "model_module_version": "2.0.0",
      "model_name": "LayoutModel",
      "state": {
       "height": "350px"
      }
     },
     "1ab12d7b9ea749d0ae9696ba9da3cf86": {
      "model_module": "@jupyter-widgets/base",
      "model_module_version": "2.0.0",
      "model_name": "LayoutModel",
      "state": {}
     },
     "1af116d030d746cbb111e28f4fb69106": {
      "model_module": "@jupyter-widgets/controls",
      "model_module_version": "2.0.0",
      "model_name": "ButtonStyleModel",
      "state": {
       "font_family": null,
       "font_size": null,
       "font_style": null,
       "font_variant": null,
       "font_weight": null,
       "text_color": null,
       "text_decoration": null
      }
     },
     "1ebb894c5a244e15a477447e6c449cfc": {
      "model_module": "@jupyter-widgets/base",
      "model_module_version": "2.0.0",
      "model_name": "LayoutModel",
      "state": {}
     },
     "1fb8645c62cc474ead4f1a1797d59752": {
      "model_module": "@jupyter-widgets/base",
      "model_module_version": "2.0.0",
      "model_name": "LayoutModel",
      "state": {}
     },
     "25a4da7afd464167bead501aa34c724e": {
      "model_module": "@jupyter-widgets/controls",
      "model_module_version": "2.0.0",
      "model_name": "ButtonStyleModel",
      "state": {
       "font_family": null,
       "font_size": null,
       "font_style": null,
       "font_variant": null,
       "font_weight": null,
       "text_color": null,
       "text_decoration": null
      }
     },
     "27647f6eb5d04f9f95094fc82c377bee": {
      "model_module": "@jupyter-widgets/base",
      "model_module_version": "2.0.0",
      "model_name": "LayoutModel",
      "state": {}
     },
     "27ac8e366b7d406c8e36fae0cce72945": {
      "model_module": "@jupyter-widgets/controls",
      "model_module_version": "2.0.0",
      "model_name": "ButtonStyleModel",
      "state": {
       "font_family": null,
       "font_size": null,
       "font_style": null,
       "font_variant": null,
       "font_weight": null,
       "text_color": null,
       "text_decoration": null
      }
     },
     "28c5c19196ed4beca28c07b1f69c308c": {
      "model_module": "@jupyter-widgets/controls",
      "model_module_version": "2.0.0",
      "model_name": "VBoxModel",
      "state": {
       "children": [
        "IPY_MODEL_e2aeec84706c4afa8f824cf196f49ca3",
        "IPY_MODEL_7e2f6d0e5d3a4e28a1a4205ed629734e",
        "IPY_MODEL_78592f9b9a6c477fa6dc4aeadb631335"
       ],
       "layout": "IPY_MODEL_7a4c9b31ac074443814afccc12a34152"
      }
     },
     "2ad55e27f46f4e58a28893ae15cd48e2": {
      "model_module": "@jupyter-widgets/base",
      "model_module_version": "2.0.0",
      "model_name": "LayoutModel",
      "state": {}
     },
     "2f48c9b00727448b87503637ef5f28af": {
      "model_module": "@jupyter-widgets/output",
      "model_module_version": "1.0.0",
      "model_name": "OutputModel",
      "state": {
       "layout": "IPY_MODEL_7053f6e4a28547c1ad0800f9f58b9fc2"
      }
     },
     "322927bb563d43b98a9bd87555702e78": {
      "model_module": "@jupyter-widgets/controls",
      "model_module_version": "2.0.0",
      "model_name": "ButtonStyleModel",
      "state": {
       "font_family": null,
       "font_size": null,
       "font_style": null,
       "font_variant": null,
       "font_weight": null,
       "text_color": null,
       "text_decoration": null
      }
     },
     "34d73441eb6b4280aa2ea878c0b32b3d": {
      "model_module": "@jupyter-widgets/controls",
      "model_module_version": "2.0.0",
      "model_name": "ButtonModel",
      "state": {
       "description": "Undo",
       "layout": "IPY_MODEL_0be10b028acb4a0f9bd04de7f4d381fd",
       "style": "IPY_MODEL_6524780c2de24ae6b38fa74ed448e097",
       "tooltip": null
      }
     },
     "38fbf8bb717f432f9e396bafe9305c3f": {
      "model_module": "@jupyter-widgets/base",
      "model_module_version": "2.0.0",
      "model_name": "LayoutModel",
      "state": {}
     },
     "3c250c9096d14bf6a382b2aace41b802": {
      "model_module": "@jupyter-widgets/base",
      "model_module_version": "2.0.0",
      "model_name": "LayoutModel",
      "state": {}
     },
     "3c884401489545d9bd7985b4cd65904e": {
      "model_module": "@jupyter-widgets/controls",
      "model_module_version": "2.0.0",
      "model_name": "ButtonStyleModel",
      "state": {
       "font_family": null,
       "font_size": null,
       "font_style": null,
       "font_variant": null,
       "font_weight": null,
       "text_color": null,
       "text_decoration": null
      }
     },
     "3e51ce0d350e411d9693f2523fe91c66": {
      "model_module": "ipydatagrid",
      "model_module_version": "^1.1.16",
      "model_name": "TextRendererModel",
      "state": {
       "_model_module_version": "^1.1.16",
       "_view_module_version": "^1.1.16",
       "background_color": "IPY_MODEL_9be930df369145bd868e88f44088a9dc",
       "text_color": "IPY_MODEL_739de25e1d23424294c90de68cf5b3cd"
      }
     },
     "413b4f5edffd4ee9a62211966a6a017c": {
      "model_module": "@jupyter-widgets/base",
      "model_module_version": "2.0.0",
      "model_name": "LayoutModel",
      "state": {}
     },
     "41889d5f60f941338c281de3e83e133d": {
      "model_module": "ipydatagrid",
      "model_module_version": "^1.1.16",
      "model_name": "DataGridModel",
      "state": {
       "_data": {
        "data": [
         {
          "0": "V",
          "1": "u[v]",
          "2": "I",
          "3": "u[I]",
          "ipydguuid": 0,
          "key": "  Variable:"
         },
         {
          "0": "V",
          "1": "V",
          "2": "A",
          "3": "A",
          "ipydguuid": 1,
          "key": " Units:"
         },
         {
          "0": "9",
          "1": "0.03",
          "2": "0.690",
          "3": "0.002",
          "ipydguuid": 2,
          "key": 0
         },
         {
          "0": "10",
          "1": "0.01",
          "2": "0.770",
          "3": "0.001",
          "ipydguuid": 3,
          "key": 1
         },
         {
          "0": "11",
          "1": "0.05",
          "2": "0.850",
          "3": "0.004",
          "ipydguuid": 4,
          "key": 2
         },
         {
          "0": "12",
          "1": "0.04",
          "2": "0.920",
          "3": "0.003",
          "ipydguuid": 5,
          "key": 3
         },
         {
          "0": "13",
          "1": "0",
          "2": "1",
          "3": "0",
          "ipydguuid": 6,
          "key": 4
         },
         {
          "0": "14",
          "1": "0.04",
          "2": "1.080",
          "3": "0.003",
          "ipydguuid": 7,
          "key": 5
         },
         {
          "0": "15",
          "1": "0.05",
          "2": "1.150",
          "3": "0.003",
          "ipydguuid": 8,
          "key": 6
         },
         {
          "0": "16",
          "1": "0.01",
          "2": "1.230",
          "3": "0.0007",
          "ipydguuid": 9,
          "key": 7
         }
        ],
        "fields": [
         {
          "key": null
         },
         {
          "0": null
         },
         {
          "1": null
         },
         {
          "2": null
         },
         {
          "3": null
         },
         {
          "ipydguuid": null
         }
        ],
        "schema": {
         "fields": [
          {
           "name": "key",
           "type": "string"
          },
          {
           "name": 0,
           "type": "string"
          },
          {
           "name": 1,
           "type": "string"
          },
          {
           "name": 2,
           "type": "string"
          },
          {
           "name": 3,
           "type": "string"
          },
          {
           "name": "ipydguuid",
           "type": "integer"
          }
         ],
         "pandas_version": "1.4.0",
         "primaryKey": [
          "key",
          "ipydguuid"
         ],
         "primaryKeyUuid": "ipydguuid"
        }
       },
       "_model_module_version": "^1.1.16",
       "_model_name": "DataGridModel",
       "_view_module_version": "^1.1.16",
       "auto_fit_columns": false,
       "auto_fit_params": {
        "area": "all",
        "numCols": null,
        "padding": 30
       },
       "base_column_header_size": 20,
       "base_column_size": 64,
       "base_row_header_size": 64,
       "base_row_size": 20,
       "default_renderer": "IPY_MODEL_3e51ce0d350e411d9693f2523fe91c66",
       "editable": true,
       "header_visibility": "all",
       "layout": "IPY_MODEL_a6631b4ca1ef43769d223c68548417f2",
       "selection_mode": "cell"
      }
     },
     "427568603c9d4e85ac4df396a377ba37": {
      "model_module": "@jupyter-widgets/controls",
      "model_module_version": "2.0.0",
      "model_name": "ButtonStyleModel",
      "state": {
       "font_family": null,
       "font_size": null,
       "font_style": null,
       "font_variant": null,
       "font_weight": null,
       "text_color": null,
       "text_decoration": null
      }
     },
     "46d52b6833d64a7ba1740d260569fbb0": {
      "model_module": "@jupyter-widgets/base",
      "model_module_version": "2.0.0",
      "model_name": "LayoutModel",
      "state": {}
     },
     "47887c57a87043b2ab09fcb86d7d4e85": {
      "model_module": "ipydatagrid",
      "model_module_version": "^1.1.16",
      "model_name": "VegaExprModel",
      "state": {
       "_model_module_version": "^1.1.16",
       "_view_module": "ipydatagrid",
       "_view_module_version": "^1.1.16",
       "_view_name": "VegaExprView"
      }
     },
     "53f4702f0b534f01907bf1f2d45ff318": {
      "model_module": "@jupyter-widgets/controls",
      "model_module_version": "2.0.0",
      "model_name": "ButtonModel",
      "state": {
       "description": "Add Row",
       "layout": "IPY_MODEL_74aa8b78639e476381ec3f5e8fe7d1b5",
       "style": "IPY_MODEL_668e502fde3d4c51a87fe328959872c9",
       "tooltip": null
      }
     },
     "584fa91c61ed49ceab86b6da268da304": {
      "model_module": "@jupyter-widgets/base",
      "model_module_version": "2.0.0",
      "model_name": "LayoutModel",
      "state": {
       "height": "250px"
      }
     },
     "5970956c15da4a8ab35ecea384e994e7": {
      "model_module": "@jupyter-widgets/controls",
      "model_module_version": "2.0.0",
      "model_name": "ButtonModel",
      "state": {
       "description": "Redo",
       "layout": "IPY_MODEL_eb889f1d9ebf4bbca3573f70f81ec917",
       "style": "IPY_MODEL_9726a8876dd0459f9ac43967ef8bb595",
       "tooltip": null
      }
     },
     "5bdb93442c7f4f9d811e869864109b27": {
      "model_module": "@jupyter-widgets/base",
      "model_module_version": "2.0.0",
      "model_name": "LayoutModel",
      "state": {}
     },
     "5dc9c09064294cc6acd6786f725a9425": {
      "model_module": "@jupyter-widgets/base",
      "model_module_version": "2.0.0",
      "model_name": "LayoutModel",
      "state": {}
     },
     "5ec0f3ba71bf45fca9e235f9c0b2e306": {
      "model_module": "@jupyter-widgets/base",
      "model_module_version": "2.0.0",
      "model_name": "LayoutModel",
      "state": {}
     },
     "6153b137f8104c2db3de53feb9388036": {
      "model_module": "@jupyter-widgets/controls",
      "model_module_version": "2.0.0",
      "model_name": "ButtonModel",
      "state": {
       "description": "Generate Vectors",
       "layout": "IPY_MODEL_e303526820e44381aebfeac689a2c216",
       "style": "IPY_MODEL_9b67a4693ce04ca2a2e947542eac10c0",
       "tooltip": null
      }
     },
     "6194e71df0b14a06a77e14ecf007b186": {
      "model_module": "@jupyter-widgets/controls",
      "model_module_version": "2.0.0",
      "model_name": "ButtonModel",
      "state": {
       "description": "Undo",
       "layout": "IPY_MODEL_1ebb894c5a244e15a477447e6c449cfc",
       "style": "IPY_MODEL_7296588047ac43988cd918172f5fd465",
       "tooltip": null
      }
     },
     "62cdaae204fc414e9f4ce964fabfc555": {
      "model_module": "@jupyter-widgets/controls",
      "model_module_version": "2.0.0",
      "model_name": "VBoxModel",
      "state": {
       "children": [
        "IPY_MODEL_e601568b3e9c42ef996711a6a672f280",
        "IPY_MODEL_41889d5f60f941338c281de3e83e133d",
        "IPY_MODEL_2f48c9b00727448b87503637ef5f28af"
       ],
       "layout": "IPY_MODEL_5ec0f3ba71bf45fca9e235f9c0b2e306"
      }
     },
     "6524780c2de24ae6b38fa74ed448e097": {
      "model_module": "@jupyter-widgets/controls",
      "model_module_version": "2.0.0",
      "model_name": "ButtonStyleModel",
      "state": {
       "font_family": null,
       "font_size": null,
       "font_style": null,
       "font_variant": null,
       "font_weight": null,
       "text_color": null,
       "text_decoration": null
      }
     },
     "668e502fde3d4c51a87fe328959872c9": {
      "model_module": "@jupyter-widgets/controls",
      "model_module_version": "2.0.0",
      "model_name": "ButtonStyleModel",
      "state": {
       "font_family": null,
       "font_size": null,
       "font_style": null,
       "font_variant": null,
       "font_weight": null,
       "text_color": null,
       "text_decoration": null
      }
     },
     "676dce9951714f0da3037d04396317f8": {
      "model_module": "ipydatagrid",
      "model_module_version": "^1.1.16",
      "model_name": "VegaExprModel",
      "state": {
       "_model_module_version": "^1.1.16",
       "_view_module": "ipydatagrid",
       "_view_module_version": "^1.1.16",
       "_view_name": "VegaExprView"
      }
     },
     "67f6cde833ba4e2287a87daa6c44d829": {
      "model_module": "@jupyter-widgets/base",
      "model_module_version": "2.0.0",
      "model_name": "LayoutModel",
      "state": {}
     },
     "688339d1983d455c84c6bee391e8ab71": {
      "model_module": "@jupyter-widgets/controls",
      "model_module_version": "2.0.0",
      "model_name": "ButtonStyleModel",
      "state": {
       "font_family": null,
       "font_size": null,
       "font_style": null,
       "font_variant": null,
       "font_weight": null,
       "text_color": null,
       "text_decoration": null
      }
     },
     "6b54a4b1694c4720b649884666540cfb": {
      "model_module": "@jupyter-widgets/base",
      "model_module_version": "2.0.0",
      "model_name": "LayoutModel",
      "state": {}
     },
     "6d3d48e184704867b0cf8a74ff0a4ada": {
      "model_module": "@jupyter-widgets/controls",
      "model_module_version": "2.0.0",
      "model_name": "HBoxModel",
      "state": {
       "children": [
        "IPY_MODEL_34d73441eb6b4280aa2ea878c0b32b3d",
        "IPY_MODEL_e44d84bde5a74678b8198701258a541d",
        "IPY_MODEL_e297e40c17d94dc3a27912957408f05f",
        "IPY_MODEL_eb297e94752d4d05b985fb469874a9d7",
        "IPY_MODEL_6153b137f8104c2db3de53feb9388036"
       ],
       "layout": "IPY_MODEL_6da5c29b9913438c89cad619aa13ac46"
      }
     },
     "6da5c29b9913438c89cad619aa13ac46": {
      "model_module": "@jupyter-widgets/base",
      "model_module_version": "2.0.0",
      "model_name": "LayoutModel",
      "state": {}
     },
     "7053f6e4a28547c1ad0800f9f58b9fc2": {
      "model_module": "@jupyter-widgets/base",
      "model_module_version": "2.0.0",
      "model_name": "LayoutModel",
      "state": {}
     },
     "70e33588d1f84b1c839264d3ef342d22": {
      "model_module": "@jupyter-widgets/output",
      "model_module_version": "1.0.0",
      "model_name": "OutputModel",
      "state": {
       "layout": "IPY_MODEL_75b8ee16c3e545198e8a9b5218c62ea8"
      }
     },
     "72789496edc640a4a0353cb5102ff348": {
      "model_module": "@jupyter-widgets/controls",
      "model_module_version": "2.0.0",
      "model_name": "VBoxModel",
      "state": {
       "children": [
        "IPY_MODEL_e65b442c03e940c9b20e24dd8d5bfbaf",
        "IPY_MODEL_e178fc6ba0b84c25a4a959b014177420",
        "IPY_MODEL_14e1b781d58c4abd9cb096cc2d559bc3"
       ],
       "layout": "IPY_MODEL_ade6b5045dac4a8dbf10e38d1141b579"
      }
     },
     "7296588047ac43988cd918172f5fd465": {
      "model_module": "@jupyter-widgets/controls",
      "model_module_version": "2.0.0",
      "model_name": "ButtonStyleModel",
      "state": {
       "font_family": null,
       "font_size": null,
       "font_style": null,
       "font_variant": null,
       "font_weight": null,
       "text_color": null,
       "text_decoration": null
      }
     },
     "739de25e1d23424294c90de68cf5b3cd": {
      "model_module": "ipydatagrid",
      "model_module_version": "^1.1.16",
      "model_name": "VegaExprModel",
      "state": {
       "_model_module_version": "^1.1.16",
       "_view_module": "ipydatagrid",
       "_view_module_version": "^1.1.16",
       "_view_name": "VegaExprView"
      }
     },
     "73a155c9e71e43e4bc1051d4c08c476b": {
      "model_module": "ipydatagrid",
      "model_module_version": "^1.1.16",
      "model_name": "VegaExprModel",
      "state": {
       "_model_module_version": "^1.1.16",
       "_view_module": "ipydatagrid",
       "_view_module_version": "^1.1.16",
       "_view_name": "VegaExprView"
      }
     },
     "74650a89e0b64661acd17dfabec22286": {
      "model_module": "@jupyter-widgets/base",
      "model_module_version": "2.0.0",
      "model_name": "LayoutModel",
      "state": {}
     },
     "74aa8b78639e476381ec3f5e8fe7d1b5": {
      "model_module": "@jupyter-widgets/base",
      "model_module_version": "2.0.0",
      "model_name": "LayoutModel",
      "state": {}
     },
     "7564f7c618c94188842db34f46d7e6e3": {
      "model_module": "ipydatagrid",
      "model_module_version": "^1.1.16",
      "model_name": "TextRendererModel",
      "state": {
       "_model_module_version": "^1.1.16",
       "_view_module_version": "^1.1.16",
       "background_color": "IPY_MODEL_47887c57a87043b2ab09fcb86d7d4e85",
       "text_color": "IPY_MODEL_d8f8e9fb836b44698bfdaa2efa28b28a"
      }
     },
     "75b8ee16c3e545198e8a9b5218c62ea8": {
      "model_module": "@jupyter-widgets/base",
      "model_module_version": "2.0.0",
      "model_name": "LayoutModel",
      "state": {}
     },
     "783637f4233c4b949c6a23a3c61f764a": {
      "model_module": "ipydatagrid",
      "model_module_version": "^1.1.16",
      "model_name": "VegaExprModel",
      "state": {
       "_model_module_version": "^1.1.16",
       "_view_module": "ipydatagrid",
       "_view_module_version": "^1.1.16",
       "_view_name": "VegaExprView"
      }
     },
     "78592f9b9a6c477fa6dc4aeadb631335": {
      "model_module": "@jupyter-widgets/output",
      "model_module_version": "1.0.0",
      "model_name": "OutputModel",
      "state": {
       "layout": "IPY_MODEL_d1bcebcd296b4a34b9c596be8288d11a"
      }
     },
     "78f2a166b908454abb27e907ac569da0": {
      "model_module": "@jupyter-widgets/controls",
      "model_module_version": "2.0.0",
      "model_name": "VBoxModel",
      "state": {
       "children": [
        "IPY_MODEL_6d3d48e184704867b0cf8a74ff0a4ada",
        "IPY_MODEL_d1ef738a69754bac9cb61bee6511ca59",
        "IPY_MODEL_70e33588d1f84b1c839264d3ef342d22"
       ],
       "layout": "IPY_MODEL_5bdb93442c7f4f9d811e869864109b27"
      }
     },
     "7906b03ba9dd4672b578e8d5715f807f": {
      "model_module": "@jupyter-widgets/controls",
      "model_module_version": "2.0.0",
      "model_name": "ButtonModel",
      "state": {
       "description": "Undo",
       "layout": "IPY_MODEL_157cea36d4e248628305f1672844565d",
       "style": "IPY_MODEL_fe365b53b0e14c45b2a5dc98294bcac9",
       "tooltip": null
      }
     },
     "7a4c9b31ac074443814afccc12a34152": {
      "model_module": "@jupyter-widgets/base",
      "model_module_version": "2.0.0",
      "model_name": "LayoutModel",
      "state": {}
     },
     "7bda4de80e6b4e0fabfce48cf2e47934": {
      "model_module": "@jupyter-widgets/base",
      "model_module_version": "2.0.0",
      "model_name": "LayoutModel",
      "state": {}
     },
     "7e2f6d0e5d3a4e28a1a4205ed629734e": {
      "model_module": "ipydatagrid",
      "model_module_version": "^1.1.16",
      "model_name": "DataGridModel",
      "state": {
       "_data": {
        "data": [
         {
          "0": "V",
          "1": "u[v]",
          "2": "I",
          "3": "u[I]",
          "ipydguuid": 0,
          "key": "  Variable:"
         },
         {
          "0": "V",
          "1": "V",
          "2": "A",
          "3": "A",
          "ipydguuid": 1,
          "key": " Units:"
         },
         {
          "0": "9",
          "1": "0.03",
          "2": "0.690",
          "3": "0.002",
          "ipydguuid": 2,
          "key": 0
         },
         {
          "0": "10",
          "1": "0.01",
          "2": "0.770",
          "3": "0.001",
          "ipydguuid": 3,
          "key": 1
         },
         {
          "0": "11",
          "1": "0.05",
          "2": "0.850",
          "3": "0.004",
          "ipydguuid": 4,
          "key": 2
         },
         {
          "0": "12",
          "1": "0.04",
          "2": "0.920",
          "3": "0.003",
          "ipydguuid": 5,
          "key": 3
         },
         {
          "0": "13",
          "1": "0",
          "2": "1",
          "3": "0",
          "ipydguuid": 6,
          "key": 4
         },
         {
          "0": "14",
          "1": "0.04",
          "2": "1.080",
          "3": "0.003",
          "ipydguuid": 7,
          "key": 5
         },
         {
          "0": "15",
          "1": "0.05",
          "2": "1.150",
          "3": "0.003",
          "ipydguuid": 8,
          "key": 6
         },
         {
          "0": "16",
          "1": "0.01",
          "2": "1.230",
          "3": "0.0007",
          "ipydguuid": 9,
          "key": 7
         }
        ],
        "fields": [
         {
          "key": null
         },
         {
          "0": null
         },
         {
          "1": null
         },
         {
          "2": null
         },
         {
          "3": null
         },
         {
          "ipydguuid": null
         }
        ],
        "schema": {
         "fields": [
          {
           "name": "key",
           "type": "string"
          },
          {
           "name": 0,
           "type": "string"
          },
          {
           "name": 1,
           "type": "string"
          },
          {
           "name": 2,
           "type": "string"
          },
          {
           "name": 3,
           "type": "string"
          },
          {
           "name": "ipydguuid",
           "type": "integer"
          }
         ],
         "pandas_version": "1.4.0",
         "primaryKey": [
          "key",
          "ipydguuid"
         ],
         "primaryKeyUuid": "ipydguuid"
        }
       },
       "_model_module_version": "^1.1.16",
       "_model_name": "DataGridModel",
       "_view_module_version": "^1.1.16",
       "auto_fit_columns": false,
       "auto_fit_params": {
        "area": "all",
        "numCols": null,
        "padding": 30
       },
       "base_column_header_size": 20,
       "base_column_size": 64,
       "base_row_header_size": 64,
       "base_row_size": 20,
       "default_renderer": "IPY_MODEL_7564f7c618c94188842db34f46d7e6e3",
       "editable": true,
       "header_visibility": "all",
       "layout": "IPY_MODEL_584fa91c61ed49ceab86b6da268da304",
       "selection_mode": "cell"
      }
     },
     "815e9d363a334a7cb81c3523c1fb03bd": {
      "model_module": "@jupyter-widgets/controls",
      "model_module_version": "2.0.0",
      "model_name": "ButtonModel",
      "state": {
       "description": "Add Column",
       "layout": "IPY_MODEL_7bda4de80e6b4e0fabfce48cf2e47934",
       "style": "IPY_MODEL_a717826a5ea24c008e47b6af1b586bf8",
       "tooltip": null
      }
     },
     "8ffcf0344c594f8d8717eba67f93dac0": {
      "model_module": "ipydatagrid",
      "model_module_version": "^1.1.16",
      "model_name": "TextRendererModel",
      "state": {
       "_model_module_version": "^1.1.16",
       "_view_module_version": "^1.1.16",
       "background_color": "IPY_MODEL_676dce9951714f0da3037d04396317f8",
       "text_color": "IPY_MODEL_783637f4233c4b949c6a23a3c61f764a"
      }
     },
     "91fa329d7145414db49624496ac39164": {
      "model_module": "@jupyter-widgets/controls",
      "model_module_version": "2.0.0",
      "model_name": "ButtonStyleModel",
      "state": {
       "font_family": null,
       "font_size": null,
       "font_style": null,
       "font_variant": null,
       "font_weight": null,
       "text_color": null,
       "text_decoration": null
      }
     },
     "958b4a1139a84310ac49ab1d95f07547": {
      "model_module": "@jupyter-widgets/base",
      "model_module_version": "2.0.0",
      "model_name": "LayoutModel",
      "state": {}
     },
     "9726a8876dd0459f9ac43967ef8bb595": {
      "model_module": "@jupyter-widgets/controls",
      "model_module_version": "2.0.0",
      "model_name": "ButtonStyleModel",
      "state": {
       "font_family": null,
       "font_size": null,
       "font_style": null,
       "font_variant": null,
       "font_weight": null,
       "text_color": null,
       "text_decoration": null
      }
     },
     "982e44f77b4944eda0011b617d1cd8f6": {
      "model_module": "@jupyter-widgets/base",
      "model_module_version": "2.0.0",
      "model_name": "LayoutModel",
      "state": {}
     },
     "99759bb1616b45d199b449a411e4aab6": {
      "model_module": "@jupyter-widgets/controls",
      "model_module_version": "2.0.0",
      "model_name": "ButtonModel",
      "state": {
       "description": "Generate Vectors",
       "layout": "IPY_MODEL_f349bd052dda4468801f33770bf7593b",
       "style": "IPY_MODEL_1af116d030d746cbb111e28f4fb69106",
       "tooltip": null
      }
     },
     "9b67a4693ce04ca2a2e947542eac10c0": {
      "model_module": "@jupyter-widgets/controls",
      "model_module_version": "2.0.0",
      "model_name": "ButtonStyleModel",
      "state": {
       "font_family": null,
       "font_size": null,
       "font_style": null,
       "font_variant": null,
       "font_weight": null,
       "text_color": null,
       "text_decoration": null
      }
     },
     "9be930df369145bd868e88f44088a9dc": {
      "model_module": "ipydatagrid",
      "model_module_version": "^1.1.16",
      "model_name": "VegaExprModel",
      "state": {
       "_model_module_version": "^1.1.16",
       "_view_module": "ipydatagrid",
       "_view_module_version": "^1.1.16",
       "_view_name": "VegaExprView"
      }
     },
     "a2a415f2eef54153ad2e31e98e95b663": {
      "model_module": "@jupyter-widgets/base",
      "model_module_version": "2.0.0",
      "model_name": "LayoutModel",
      "state": {
       "height": "350px"
      }
     },
     "a32e6c531fd04591966cf9ac77bb97b6": {
      "model_module": "@jupyter-widgets/controls",
      "model_module_version": "2.0.0",
      "model_name": "ButtonModel",
      "state": {
       "description": "Add Row",
       "layout": "IPY_MODEL_bbd5ce593ada48db93c398e302bf9f70",
       "style": "IPY_MODEL_14c4df88fc86472097357fbb57a71016",
       "tooltip": null
      }
     },
     "a653c3fcd21242588db00336238078ea": {
      "model_module": "@jupyter-widgets/controls",
      "model_module_version": "2.0.0",
      "model_name": "ButtonStyleModel",
      "state": {
       "font_family": null,
       "font_size": null,
       "font_style": null,
       "font_variant": null,
       "font_weight": null,
       "text_color": null,
       "text_decoration": null
      }
     },
     "a6631b4ca1ef43769d223c68548417f2": {
      "model_module": "@jupyter-widgets/base",
      "model_module_version": "2.0.0",
      "model_name": "LayoutModel",
      "state": {
       "height": "250px"
      }
     },
     "a717826a5ea24c008e47b6af1b586bf8": {
      "model_module": "@jupyter-widgets/controls",
      "model_module_version": "2.0.0",
      "model_name": "ButtonStyleModel",
      "state": {
       "font_family": null,
       "font_size": null,
       "font_style": null,
       "font_variant": null,
       "font_weight": null,
       "text_color": null,
       "text_decoration": null
      }
     },
     "aa85aa93df5a40e1b1c92738ac07ee94": {
      "model_module": "@jupyter-widgets/controls",
      "model_module_version": "2.0.0",
      "model_name": "ButtonModel",
      "state": {
       "description": "Add Column",
       "layout": "IPY_MODEL_74650a89e0b64661acd17dfabec22286",
       "style": "IPY_MODEL_688339d1983d455c84c6bee391e8ab71",
       "tooltip": null
      }
     },
     "ad37611d8cec4582ab33f01dfffdfadc": {
      "model_module": "@jupyter-widgets/controls",
      "model_module_version": "2.0.0",
      "model_name": "ButtonModel",
      "state": {
       "description": "Generate Vectors",
       "layout": "IPY_MODEL_982e44f77b4944eda0011b617d1cd8f6",
       "style": "IPY_MODEL_b07e0ca6090449ec848fd34c05de9086",
       "tooltip": null
      }
     },
     "ade6b5045dac4a8dbf10e38d1141b579": {
      "model_module": "@jupyter-widgets/base",
      "model_module_version": "2.0.0",
      "model_name": "LayoutModel",
      "state": {}
     },
     "ae57be0f5dc648a0972a9337ce2ddd83": {
      "model_module": "@jupyter-widgets/controls",
      "model_module_version": "2.0.0",
      "model_name": "ButtonModel",
      "state": {
       "description": "Add Row",
       "layout": "IPY_MODEL_958b4a1139a84310ac49ab1d95f07547",
       "style": "IPY_MODEL_427568603c9d4e85ac4df396a377ba37",
       "tooltip": null
      }
     },
     "aff57e1e56e9447abb5360a9aa3f7ee3": {
      "model_module": "@jupyter-widgets/controls",
      "model_module_version": "2.0.0",
      "model_name": "ButtonStyleModel",
      "state": {
       "font_family": null,
       "font_size": null,
       "font_style": null,
       "font_variant": null,
       "font_weight": null,
       "text_color": null,
       "text_decoration": null
      }
     },
     "b07e0ca6090449ec848fd34c05de9086": {
      "model_module": "@jupyter-widgets/controls",
      "model_module_version": "2.0.0",
      "model_name": "ButtonStyleModel",
      "state": {
       "font_family": null,
       "font_size": null,
       "font_style": null,
       "font_variant": null,
       "font_weight": null,
       "text_color": null,
       "text_decoration": null
      }
     },
     "b5783286baed4e94b5a3c4581eede57d": {
      "model_module": "ipydatagrid",
      "model_module_version": "^1.1.16",
      "model_name": "TextRendererModel",
      "state": {
       "_model_module_version": "^1.1.16",
       "_view_module_version": "^1.1.16",
       "background_color": "IPY_MODEL_e5b1aacab5494ebbb4065fb5ab2bcf02",
       "text_color": "IPY_MODEL_73a155c9e71e43e4bc1051d4c08c476b"
      }
     },
     "b83f987d94874c45a3835caf583e9282": {
      "model_module": "@jupyter-widgets/base",
      "model_module_version": "2.0.0",
      "model_name": "LayoutModel",
      "state": {}
     },
     "b8ff47266b424dfbb1f31f4d7e0088b5": {
      "model_module": "@jupyter-widgets/controls",
      "model_module_version": "2.0.0",
      "model_name": "ButtonModel",
      "state": {
       "description": "Generate Vectors",
       "layout": "IPY_MODEL_b83f987d94874c45a3835caf583e9282",
       "style": "IPY_MODEL_27ac8e366b7d406c8e36fae0cce72945",
       "tooltip": null
      }
     },
     "bbd5ce593ada48db93c398e302bf9f70": {
      "model_module": "@jupyter-widgets/base",
      "model_module_version": "2.0.0",
      "model_name": "LayoutModel",
      "state": {}
     },
     "bc8557f80304411b97113d0e2c795843": {
      "model_module": "@jupyter-widgets/controls",
      "model_module_version": "2.0.0",
      "model_name": "ButtonModel",
      "state": {
       "description": "Redo",
       "layout": "IPY_MODEL_f869aea8088b4abcad8267a55e55c0a5",
       "style": "IPY_MODEL_02287c76e35c46f780c081b72f8ca9b9",
       "tooltip": null
      }
     },
     "bcb18bc0c3934da9993b21f10bd9d090": {
      "model_module": "@jupyter-widgets/base",
      "model_module_version": "2.0.0",
      "model_name": "LayoutModel",
      "state": {}
     },
     "d1bcebcd296b4a34b9c596be8288d11a": {
      "model_module": "@jupyter-widgets/base",
      "model_module_version": "2.0.0",
      "model_name": "LayoutModel",
      "state": {}
     },
     "d1ef738a69754bac9cb61bee6511ca59": {
      "model_module": "ipydatagrid",
      "model_module_version": "^1.1.16",
      "model_name": "DataGridModel",
      "state": {
       "_data": {
        "data": [
         {
          "0": "V",
          "1": "u[v]",
          "2": "I",
          "3": "u[I]",
          "ipydguuid": 0,
          "key": "  Variable:"
         },
         {
          "0": "V",
          "1": "V",
          "2": "A",
          "3": "A",
          "ipydguuid": 1,
          "key": " Units:"
         },
         {
          "0": "10",
          "1": "0.01",
          "2": "0.770",
          "3": "0.001",
          "ipydguuid": 2,
          "key": 0
         },
         {
          "0": "15",
          "1": "0.05",
          "2": "1.15",
          "3": "0.003",
          "ipydguuid": 3,
          "key": 1
         },
         {
          "0": "20",
          "1": "0.02",
          "2": "1.54",
          "3": "0.002",
          "ipydguuid": 4,
          "key": 2
         },
         {
          "0": "25",
          "1": "0.04",
          "2": "1.92",
          "3": "0.003",
          "ipydguuid": 5,
          "key": 3
         },
         {
          "0": "30",
          "1": "0.03",
          "2": "2.31",
          "3": "0.004",
          "ipydguuid": 6,
          "key": 4
         },
         {
          "0": "35",
          "1": "0.03",
          "2": "2.69",
          "3": "0.002",
          "ipydguuid": 7,
          "key": 5
         },
         {
          "0": "40",
          "1": "0.04",
          "2": "3.08",
          "3": "0.003",
          "ipydguuid": 8,
          "key": 6
         },
         {
          "0": "45",
          "1": "0.02",
          "2": "3.46",
          "3": "0.002",
          "ipydguuid": 9,
          "key": 7
         },
         {
          "0": "50",
          "1": "0.05",
          "2": "3.85",
          "3": "0.004",
          "ipydguuid": 10,
          "key": 8
         },
         {
          "0": "55",
          "1": "0.01",
          "2": "4.23",
          "3": "0.0007",
          "ipydguuid": 11,
          "key": 9
         },
         {
          "0": "60",
          "1": "0.06",
          "2": "4.62",
          "3": "0.005",
          "ipydguuid": 12,
          "key": 10
         },
         {
          "0": "65",
          "1": "0",
          "2": "5",
          "3": "0",
          "ipydguuid": 13,
          "key": 11
         },
         {
          "0": "70",
          "1": "0.06",
          "2": "5.38",
          "3": "0.004",
          "ipydguuid": 14,
          "key": 12
         }
        ],
        "fields": [
         {
          "key": null
         },
         {
          "0": null
         },
         {
          "1": null
         },
         {
          "2": null
         },
         {
          "3": null
         },
         {
          "ipydguuid": null
         }
        ],
        "schema": {
         "fields": [
          {
           "name": "key",
           "type": "string"
          },
          {
           "name": 0,
           "type": "string"
          },
          {
           "name": 1,
           "type": "string"
          },
          {
           "name": 2,
           "type": "string"
          },
          {
           "name": 3,
           "type": "string"
          },
          {
           "name": "ipydguuid",
           "type": "integer"
          }
         ],
         "pandas_version": "1.4.0",
         "primaryKey": [
          "key",
          "ipydguuid"
         ],
         "primaryKeyUuid": "ipydguuid"
        }
       },
       "_model_module_version": "^1.1.16",
       "_model_name": "DataGridModel",
       "_view_module_version": "^1.1.16",
       "auto_fit_columns": false,
       "auto_fit_params": {
        "area": "all",
        "numCols": null,
        "padding": 30
       },
       "base_column_header_size": 20,
       "base_column_size": 64,
       "base_row_header_size": 64,
       "base_row_size": 20,
       "default_renderer": "IPY_MODEL_b5783286baed4e94b5a3c4581eede57d",
       "editable": true,
       "header_visibility": "all",
       "layout": "IPY_MODEL_a2a415f2eef54153ad2e31e98e95b663",
       "selection_mode": "cell"
      }
     },
     "d8f8e9fb836b44698bfdaa2efa28b28a": {
      "model_module": "ipydatagrid",
      "model_module_version": "^1.1.16",
      "model_name": "VegaExprModel",
      "state": {
       "_model_module_version": "^1.1.16",
       "_view_module": "ipydatagrid",
       "_view_module_version": "^1.1.16",
       "_view_name": "VegaExprView"
      }
     },
     "e178fc6ba0b84c25a4a959b014177420": {
      "model_module": "ipydatagrid",
      "model_module_version": "^1.1.16",
      "model_name": "DataGridModel",
      "state": {
       "_data": {
        "data": [
         {
          "0": "V",
          "1": "u[v]",
          "2": "I",
          "3": "u[I]",
          "ipydguuid": 0,
          "key": "  Variable:"
         },
         {
          "0": "V",
          "1": "V",
          "2": "A",
          "3": "A",
          "ipydguuid": 1,
          "key": " Units:"
         },
         {
          "0": "10",
          "1": "0.01",
          "2": "0.770",
          "3": "0.001",
          "ipydguuid": 2,
          "key": 0
         },
         {
          "0": "15",
          "1": "0.05",
          "2": "1.15",
          "3": "0.003",
          "ipydguuid": 3,
          "key": 1
         },
         {
          "0": "20",
          "1": "0.02",
          "2": "1.54",
          "3": "0.002",
          "ipydguuid": 4,
          "key": 2
         },
         {
          "0": "25",
          "1": "0.04",
          "2": "1.92",
          "3": "0.003",
          "ipydguuid": 5,
          "key": 3
         },
         {
          "0": "30",
          "1": "0.03",
          "2": "2.31",
          "3": "0.004",
          "ipydguuid": 6,
          "key": 4
         },
         {
          "0": "35",
          "1": "0.03",
          "2": "2.69",
          "3": "0.002",
          "ipydguuid": 7,
          "key": 5
         },
         {
          "0": "40",
          "1": "0.04",
          "2": "3.08",
          "3": "0.003",
          "ipydguuid": 8,
          "key": 6
         },
         {
          "0": "45",
          "1": "0.02",
          "2": "3.46",
          "3": "0.002",
          "ipydguuid": 9,
          "key": 7
         },
         {
          "0": "50",
          "1": "0.05",
          "2": "3.85",
          "3": "0.004",
          "ipydguuid": 10,
          "key": 8
         },
         {
          "0": "55",
          "1": "0.01",
          "2": "4.23",
          "3": "0.0007",
          "ipydguuid": 11,
          "key": 9
         },
         {
          "0": "60",
          "1": "0.06",
          "2": "4.62",
          "3": "0.005",
          "ipydguuid": 12,
          "key": 10
         },
         {
          "0": "65",
          "1": "0",
          "2": "5",
          "3": "0",
          "ipydguuid": 13,
          "key": 11
         },
         {
          "0": "70",
          "1": "0.06",
          "2": "5.38",
          "3": "0.004",
          "ipydguuid": 14,
          "key": 12
         }
        ],
        "fields": [
         {
          "key": null
         },
         {
          "0": null
         },
         {
          "1": null
         },
         {
          "2": null
         },
         {
          "3": null
         },
         {
          "ipydguuid": null
         }
        ],
        "schema": {
         "fields": [
          {
           "name": "key",
           "type": "string"
          },
          {
           "name": 0,
           "type": "string"
          },
          {
           "name": 1,
           "type": "string"
          },
          {
           "name": 2,
           "type": "string"
          },
          {
           "name": 3,
           "type": "string"
          },
          {
           "name": "ipydguuid",
           "type": "integer"
          }
         ],
         "pandas_version": "1.4.0",
         "primaryKey": [
          "key",
          "ipydguuid"
         ],
         "primaryKeyUuid": "ipydguuid"
        }
       },
       "_model_module_version": "^1.1.16",
       "_model_name": "DataGridModel",
       "_view_module_version": "^1.1.16",
       "auto_fit_columns": false,
       "auto_fit_params": {
        "area": "all",
        "numCols": null,
        "padding": 30
       },
       "base_column_header_size": 20,
       "base_column_size": 64,
       "base_row_header_size": 64,
       "base_row_size": 20,
       "default_renderer": "IPY_MODEL_8ffcf0344c594f8d8717eba67f93dac0",
       "editable": true,
       "header_visibility": "all",
       "layout": "IPY_MODEL_177af3c07a7d4012ac877c1638db3fd2",
       "selection_mode": "cell"
      }
     },
     "e297e40c17d94dc3a27912957408f05f": {
      "model_module": "@jupyter-widgets/controls",
      "model_module_version": "2.0.0",
      "model_name": "ButtonModel",
      "state": {
       "description": "Add Row",
       "layout": "IPY_MODEL_fd181c41fb91490b8ee3213ae4a23e68",
       "style": "IPY_MODEL_91fa329d7145414db49624496ac39164",
       "tooltip": null
      }
     },
     "e2aeec84706c4afa8f824cf196f49ca3": {
      "model_module": "@jupyter-widgets/controls",
      "model_module_version": "2.0.0",
      "model_name": "HBoxModel",
      "state": {
       "children": [
        "IPY_MODEL_7906b03ba9dd4672b578e8d5715f807f",
        "IPY_MODEL_ff36f9a59bb84060856514608e2f0162",
        "IPY_MODEL_a32e6c531fd04591966cf9ac77bb97b6",
        "IPY_MODEL_815e9d363a334a7cb81c3523c1fb03bd",
        "IPY_MODEL_ad37611d8cec4582ab33f01dfffdfadc"
       ],
       "layout": "IPY_MODEL_1fb8645c62cc474ead4f1a1797d59752"
      }
     },
     "e303526820e44381aebfeac689a2c216": {
      "model_module": "@jupyter-widgets/base",
      "model_module_version": "2.0.0",
      "model_name": "LayoutModel",
      "state": {}
     },
     "e44d84bde5a74678b8198701258a541d": {
      "model_module": "@jupyter-widgets/controls",
      "model_module_version": "2.0.0",
      "model_name": "ButtonModel",
      "state": {
       "description": "Redo",
       "layout": "IPY_MODEL_bcb18bc0c3934da9993b21f10bd9d090",
       "style": "IPY_MODEL_aff57e1e56e9447abb5360a9aa3f7ee3",
       "tooltip": null
      }
     },
     "e5b1aacab5494ebbb4065fb5ab2bcf02": {
      "model_module": "ipydatagrid",
      "model_module_version": "^1.1.16",
      "model_name": "VegaExprModel",
      "state": {
       "_model_module_version": "^1.1.16",
       "_view_module": "ipydatagrid",
       "_view_module_version": "^1.1.16",
       "_view_name": "VegaExprView"
      }
     },
     "e601568b3e9c42ef996711a6a672f280": {
      "model_module": "@jupyter-widgets/controls",
      "model_module_version": "2.0.0",
      "model_name": "HBoxModel",
      "state": {
       "children": [
        "IPY_MODEL_6194e71df0b14a06a77e14ecf007b186",
        "IPY_MODEL_bc8557f80304411b97113d0e2c795843",
        "IPY_MODEL_53f4702f0b534f01907bf1f2d45ff318",
        "IPY_MODEL_fe51f6dc03b84ff182d1b252855154e8",
        "IPY_MODEL_b8ff47266b424dfbb1f31f4d7e0088b5"
       ],
       "layout": "IPY_MODEL_6b54a4b1694c4720b649884666540cfb"
      }
     },
     "e65b442c03e940c9b20e24dd8d5bfbaf": {
      "model_module": "@jupyter-widgets/controls",
      "model_module_version": "2.0.0",
      "model_name": "HBoxModel",
      "state": {
       "children": [
        "IPY_MODEL_08b6ae2ab868469fb9ee99c455cf7376",
        "IPY_MODEL_5970956c15da4a8ab35ecea384e994e7",
        "IPY_MODEL_ae57be0f5dc648a0972a9337ce2ddd83",
        "IPY_MODEL_aa85aa93df5a40e1b1c92738ac07ee94",
        "IPY_MODEL_99759bb1616b45d199b449a411e4aab6"
       ],
       "layout": "IPY_MODEL_2ad55e27f46f4e58a28893ae15cd48e2"
      }
     },
     "e6f5ab7ab4ed41b7a06bb159fd51fb23": {
      "model_module": "@jupyter-widgets/base",
      "model_module_version": "2.0.0",
      "model_name": "LayoutModel",
      "state": {}
     },
     "eb297e94752d4d05b985fb469874a9d7": {
      "model_module": "@jupyter-widgets/controls",
      "model_module_version": "2.0.0",
      "model_name": "ButtonModel",
      "state": {
       "description": "Add Column",
       "layout": "IPY_MODEL_38fbf8bb717f432f9e396bafe9305c3f",
       "style": "IPY_MODEL_a653c3fcd21242588db00336238078ea",
       "tooltip": null
      }
     },
     "eb889f1d9ebf4bbca3573f70f81ec917": {
      "model_module": "@jupyter-widgets/base",
      "model_module_version": "2.0.0",
      "model_name": "LayoutModel",
      "state": {}
     },
     "f349bd052dda4468801f33770bf7593b": {
      "model_module": "@jupyter-widgets/base",
      "model_module_version": "2.0.0",
      "model_name": "LayoutModel",
      "state": {}
     },
     "f869aea8088b4abcad8267a55e55c0a5": {
      "model_module": "@jupyter-widgets/base",
      "model_module_version": "2.0.0",
      "model_name": "LayoutModel",
      "state": {}
     },
     "fd181c41fb91490b8ee3213ae4a23e68": {
      "model_module": "@jupyter-widgets/base",
      "model_module_version": "2.0.0",
      "model_name": "LayoutModel",
      "state": {}
     },
     "fe365b53b0e14c45b2a5dc98294bcac9": {
      "model_module": "@jupyter-widgets/controls",
      "model_module_version": "2.0.0",
      "model_name": "ButtonStyleModel",
      "state": {
       "font_family": null,
       "font_size": null,
       "font_style": null,
       "font_variant": null,
       "font_weight": null,
       "text_color": null,
       "text_decoration": null
      }
     },
     "fe51f6dc03b84ff182d1b252855154e8": {
      "model_module": "@jupyter-widgets/controls",
      "model_module_version": "2.0.0",
      "model_name": "ButtonModel",
      "state": {
       "description": "Add Column",
       "layout": "IPY_MODEL_413b4f5edffd4ee9a62211966a6a017c",
       "style": "IPY_MODEL_322927bb563d43b98a9bd87555702e78",
       "tooltip": null
      }
     },
     "ff36f9a59bb84060856514608e2f0162": {
      "model_module": "@jupyter-widgets/controls",
      "model_module_version": "2.0.0",
      "model_name": "ButtonModel",
      "state": {
       "description": "Redo",
       "layout": "IPY_MODEL_67f6cde833ba4e2287a87daa6c44d829",
       "style": "IPY_MODEL_25a4da7afd464167bead501aa34c724e",
       "tooltip": null
      }
     }
    },
    "version_major": 2,
    "version_minor": 0
   }
  }
 },
 "nbformat": 4,
 "nbformat_minor": 5
}
