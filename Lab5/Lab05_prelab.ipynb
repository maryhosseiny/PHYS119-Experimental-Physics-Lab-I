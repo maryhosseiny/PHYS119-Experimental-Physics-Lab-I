{
 "cells": [
  {
   "cell_type": "markdown",
   "id": "88c0f1e3-21cb-420a-bfb2-079c3fbc1796",
   "metadata": {
    "id": "88c0f1e3-21cb-420a-bfb2-079c3fbc1796"
   },
   "source": [
    "# Lab 05 Prelab"
   ]
  },
  {
   "cell_type": "markdown",
   "id": "7c0d45fd-730f-49fe-9336-872e5a629a17",
   "metadata": {
    "id": "7c0d45fd-730f-49fe-9336-872e5a629a17"
   },
   "source": [
    "## Ohm's Law, Plots, and Models"
   ]
  },
  {
   "cell_type": "markdown",
   "id": "e8882a35-29d6-4fda-9909-d4760729c62a",
   "metadata": {
    "id": "e8882a35-29d6-4fda-9909-d4760729c62a"
   },
   "source": [
    "Ohm's law relates the electrical potential applied across a device ($V$) to the current that passes through it, $I$.\n",
    "Like Hooke's law, Ohm's law isn't really a physical law, rather it is an empirical relation that does a good job of describing many devices or materials under specific ranges of circumstances. Ohm's law takes the form:\n",
    "\n",
    "$$\n",
    "V = IR.\n",
    "$$\n",
    "\n",
    "An example related to this lab is as follows. Consider the circuit below, where we have a voltage source (battery) with an adjustable voltage $V.$ The battery is connected to a resistor of unknown, but fixed resistance $R$. We have access to tools to measure the voltage $V$ (using a voltmeter) across the resistor as well as the current $I$ (using an ammeter) in the circuit. Knowing that we can vary the voltage $V$, how can we go about extracting the resistance $R$?\n",
    "\n",
    "<center><img src=\"circuit.png\" width=\"180\" height=\"240\"/></center>"
   ]
  },
  {
   "cell_type": "markdown",
   "id": "cadf25d0-c00b-4ed9-891d-91324ca43a69",
   "metadata": {
    "id": "cadf25d0-c00b-4ed9-891d-91324ca43a69"
   },
   "source": [
    "Given multiple datapoints $(V_1 \\pm u\\_V_1, I_1 \\pm u\\_I_1)$, $(V_2 \\pm u\\_V_2, I_2 \\pm u\\_I_2)$, $\\ldots (V_n \\pm u\\_V_n, I_n \\pm u\\_I_n)$, a useful way to visualize the relationship (and extract information from the relationship) is by plotting the two variables against each other. We have done so below for a mock dataset of voltages and currents. It is worth noting that this issue is one of great general interest in science. We may have two variables which are related---in this case the current $I$ through the resistor as a result of the voltage of the potential across the resistor $V_R$) and a model that describes how they may be related (here, Ohm's law). What we can do as experimental scientists is to collect data of the two variables and try to fit a model to them; from this we may extract parameters of interest (here, the resistance of our circuit), as well as evaluate how good the model is at describing the phenomena we see.\n",
    "\n",
    "<center><img src=\"CurrentvsVoltage.png\" width=\"500\" height=\"325\"/></center>"
   ]
  },
  {
   "cell_type": "markdown",
   "id": "b5c92029-d0be-404a-a483-0a26bdc7214b",
   "metadata": {
    "tags": []
   },
   "source": [
    "**Your turn #1 (short answer questions):** If you get stuck or want to make sure you are on the right track in this question sequence, the answers are provided below."
   ]
  },
  {
   "cell_type": "markdown",
   "id": "ed2e527b-f2af-40cd-a884-95938f6bff32",
   "metadata": {
    "id": "ed2e527b-f2af-40cd-a884-95938f6bff32"
   },
   "source": [
    "**Your turn #1a:** What is the relationship between voltage and current as shown in the experimental data above?"
   ]
  },
  {
   "cell_type": "markdown",
   "id": "b73b5355-cb7b-4229-8e8a-c6629a2c52c0",
   "metadata": {},
   "source": [
    "linear"
   ]
  },
  {
   "cell_type": "markdown",
   "id": "4ad16914-180e-4b3e-b9bb-8003266a05d7",
   "metadata": {},
   "source": [
    "**Your turn #1b:** What is the relationship theoretically predicted by Ohm's law? "
   ]
  },
  {
   "cell_type": "markdown",
   "id": "93d7de4a-06b9-4038-b8cd-5bc61206b98c",
   "metadata": {},
   "source": [
    "I=V/R"
   ]
  },
  {
   "cell_type": "markdown",
   "id": "20e944b3-81ea-4f8f-9636-2fef3fba5df8",
   "metadata": {},
   "source": [
    "**Your turn #1c:** How is the slope of the above plot related to the resistance $R$ of the resistor?"
   ]
  },
  {
   "cell_type": "markdown",
   "id": "d7587abd-3fb3-48df-a646-fd45795f070c",
   "metadata": {},
   "source": [
    "Slope is m=1/R"
   ]
  },
  {
   "cell_type": "markdown",
   "id": "fd75dd82-56ab-42b4-9660-1069214e8e44",
   "metadata": {},
   "source": [
    "**Your turn #1d:** Finally, estimate the resistance $R$ of the resistor by estimating the slope of the experimental data above."
   ]
  },
  {
   "cell_type": "markdown",
   "id": "02ba46b2-ec00-422a-95e7-8fc517e501f7",
   "metadata": {},
   "source": [
    "1/(0.08/0.8) = 10 ohms"
   ]
  },
  {
   "cell_type": "markdown",
   "id": "520e0466-245e-4220-9fa1-446804c2b65a",
   "metadata": {},
   "source": [
    "**Answers (uncollapse to reveal):**"
   ]
  },
  {
   "cell_type": "markdown",
   "id": "4e3b6f5f-a857-4011-8c6e-6d2870a91237",
   "metadata": {
    "tags": []
   },
   "source": [
    "##### **A1a:**"
   ]
  },
  {
   "cell_type": "markdown",
   "id": "ae60aa38-6df6-4d71-b96f-6e92e690518f",
   "metadata": {
    "id": "ae60aa38-6df6-4d71-b96f-6e92e690518f"
   },
   "source": [
    "**A1a:** The relationship between current and voltage appears linear."
   ]
  },
  {
   "cell_type": "markdown",
   "id": "f8e6a5ab-0778-43c6-8006-414456338f88",
   "metadata": {
    "tags": []
   },
   "source": [
    "##### **A1b:**"
   ]
  },
  {
   "cell_type": "markdown",
   "id": "d406791c-8b79-45e7-ad39-1ea71a72917b",
   "metadata": {},
   "source": [
    "**A1b:** The relationship predicted by Ohm's law is $I = (1/R)V$, i.e. the two are linearly related via the resistance."
   ]
  },
  {
   "cell_type": "markdown",
   "id": "ad94b8f7-ed11-42f3-80c2-c9bc09dac5a2",
   "metadata": {
    "tags": []
   },
   "source": [
    "##### **A1c:**"
   ]
  },
  {
   "cell_type": "markdown",
   "id": "aab744a7-c1e3-49c3-a975-b014872f5f3c",
   "metadata": {},
   "source": [
    "**A1c:** The slope of the above plot is related to the resistance of the resistor via Ohm's law to be $m = 1/R$."
   ]
  },
  {
   "cell_type": "markdown",
   "id": "51a32250-e728-4e60-88da-a560dc22f411",
   "metadata": {
    "tags": []
   },
   "source": [
    "##### **A1d:**"
   ]
  },
  {
   "cell_type": "markdown",
   "id": "c57679a2-3425-4cf5-8a8c-6d793cebd426",
   "metadata": {},
   "source": [
    "**A1d:** The slope of the above plot looks to be roughly $m = \\frac{0.08A - 0A}{0.8V - 0V} = 0.1$, and so the resistance is approximately $R = \\frac{1}{m} = 10\\Omega$."
   ]
  },
  {
   "cell_type": "markdown",
   "id": "4cd844cb-940e-4221-82dd-ab63dd9098cf",
   "metadata": {
    "id": "4cd844cb-940e-4221-82dd-ab63dd9098cf"
   },
   "source": [
    "## Plotting with Python"
   ]
  },
  {
   "cell_type": "markdown",
   "id": "54e187fc-d7de-435e-a599-8d56fa45054c",
   "metadata": {
    "id": "54e187fc-d7de-435e-a599-8d56fa45054c"
   },
   "source": [
    "An important first step to finding relationships between variables is data visualization; such as through producing plots of data. Fortunately, python is an excellent medium for this task. The rest of this pre-lab will be walking through how to produce a scatter plot of experimental data and extract useful information, which we will be doing time and time again for future experiments in this lab.\n",
    "\n",
    "Much like with the case of recording data in tables, plotting is not a native functionality of python; instead, we import a library which carries this functionality. In this case, the library of interest is `matplotlib`. You can import it (along with the data_entry2 and numpy libraries we have been using) by running the cell below."
   ]
  },
  {
   "cell_type": "code",
   "execution_count": 2,
   "id": "42b044bd-b81d-41fa-bbb7-0844e410cc87",
   "metadata": {
    "id": "42b044bd-b81d-41fa-bbb7-0844e410cc87"
   },
   "outputs": [],
   "source": [
    "%reset -f\n",
    "# Run me to import the relevant libraries\n",
    "import data_entry2\n",
    "import numpy as np\n",
    "import matplotlib.pyplot as plt"
   ]
  },
  {
   "cell_type": "markdown",
   "id": "eb4a120b-3707-4391-befe-4c756c6d971c",
   "metadata": {
    "id": "eb4a120b-3707-4391-befe-4c756c6d971c"
   },
   "source": [
    "We will go through an example together of creating a scatter plot, and then at the end we will ask you to take what you've learned to recreate the scatter plot we showed in the beginning of the notebook. For our example together, we consider an example akin to the very first experiment in the lab. We suppose that we have some spring, and we have measured the force the spring exerts $F$ for a variety of compressions $\\Delta x$. The data are given in the spreadsheet below:"
   ]
  },
  {
   "cell_type": "code",
   "execution_count": 3,
   "id": "b9605911-aeae-4c75-bc35-f22211ef3733",
   "metadata": {
    "colab": {
     "referenced_widgets": [
      "bf03e00bffc94ba6a62158c354a404d2"
     ]
    },
    "id": "b9605911-aeae-4c75-bc35-f22211ef3733",
    "outputId": "cbbddd51-108a-4dfa-f82c-f3dc3543a812"
   },
   "outputs": [
    {
     "name": "stdout",
     "output_type": "stream",
     "text": [
      "Sheet name: lab05_prelab_hookes_law.csv\n"
     ]
    },
    {
     "data": {
      "application/vnd.jupyter.widget-view+json": {
       "model_id": "35787cbe6742419ea0add9e11b2dac85",
       "version_major": 2,
       "version_minor": 0
      },
      "text/plain": [
       "VBox(children=(HBox(children=(Button(description='Undo', style=ButtonStyle()), Button(description='Redo', styl…"
      ]
     },
     "metadata": {},
     "output_type": "display_data"
    }
   ],
   "source": [
    "# Run me to import example data\n",
    "de1 = data_entry2.sheet(\"lab05_prelab_hookes_law\")"
   ]
  },
  {
   "cell_type": "markdown",
   "id": "6037a75c-7a65-4881-97ae-348cf0adce7f",
   "metadata": {
    "id": "6037a75c-7a65-4881-97ae-348cf0adce7f"
   },
   "source": [
    "**Your turn #2:** We will want to work with vectors of this data, so click the `Generate Vectors` button in the spreadsheet. \n",
    "\n",
    "Next, let's create an initial plot of the datapoints of force vs displacement and nothing else."
   ]
  },
  {
   "cell_type": "code",
   "execution_count": 4,
   "id": "b3124ee2-1163-46e0-ae0d-26540771bf0d",
   "metadata": {
    "id": "b3124ee2-1163-46e0-ae0d-26540771bf0d",
    "outputId": "5edcc8a5-73a6-4533-d844-a34da0448569"
   },
   "outputs": [
    {
     "data": {
      "image/png": "[encoded data removed]",
      "text/plain": [
       "<Figure size 640x480 with 1 Axes>"
      ]
     },
     "metadata": {},
     "output_type": "display_data"
    }
   ],
   "source": [
    "# Run me to create a simple ply of FVec vs dxVec wuth y-uncertainties uFVec\n",
    "plt.errorbar(dxVec, FVec, uFVec, fmt='bo')\n",
    "plt.show()"
   ]
  },
  {
   "cell_type": "markdown",
   "id": "161a66c3-1079-4c08-b125-16b6793cd255",
   "metadata": {
    "id": "161a66c3-1079-4c08-b125-16b6793cd255"
   },
   "source": [
    "We use `plt` to specify that we want to be using the `matplotlib` plotting library. We then use the `plt.errorbar` function to specify that we want a plot with error bars. The first argument we give it (`dxVec`) provides data for the x-axis, the second argument (`FVec`) provides the data for the y-axis, and the third argument (`uFVec`) provides the error bars for the y-axis data (we will often find that the errors in the y-values are more significant than those on the x-values, so the x errors can often be neglected). The final argument (`fmt='bo'`) specifies that we want blue (`b`) circles (`o`) for the datapoints. Finally, the `plt.show()` at the end displays the plot.\n",
    "\n",
    "**Your turn #3:** Try replacing the blue dot symbol with a red x symbol using `fmt='rx'` above. \n",
    "\n",
    "Let's start adding further important information to our plot, such as axis labels and a title. We will also show how to adjust the size of the markers in the plot and then add a legend (though this plot doesn't really need one)."
   ]
  },
  {
   "cell_type": "code",
   "execution_count": 5,
   "id": "49b800a9-f253-4699-a652-c79d163ce468",
   "metadata": {
    "id": "49b800a9-f253-4699-a652-c79d163ce468",
    "outputId": "c6a829b6-adb0-4d7a-db9b-f47a26682f3b"
   },
   "outputs": [
    {
     "data": {
      "image/png": "[encoded data removed]",
      "text/plain": [
       "<Figure size 640x480 with 1 Axes>"
      ]
     },
     "metadata": {},
     "output_type": "display_data"
    }
   ],
   "source": [
    "# Run me to reproduce the previous plot and add further detail\n",
    "plt.errorbar(dxVec, FVec, uFVec, fmt=\"bo\", markersize = 3, label=\"Experimental data\")\n",
    "plt.title(\"Force vs. Displacement for spring\")\n",
    "plt.xlabel(\"Displacement of spring from equilibrium (m)\")\n",
    "plt.ylabel(\"Force (N)\")\n",
    "plt.legend()\n",
    "plt.show()"
   ]
  },
  {
   "cell_type": "markdown",
   "id": "80d2c14b-e1f4-4e63-acf6-e9f94ff13b4c",
   "metadata": {
    "id": "80d2c14b-e1f4-4e63-acf6-e9f94ff13b4c"
   },
   "source": [
    "We now have a complete plot! Notice that the plot title describes what is being plotted against what (y quantity plotted vs. x quantity), and the axis labels describe the quantities (with the units). Experiment with the title and axis labels by changing the text inside `plt.title(\"...\"), plt.xlabel(\"...\"),` and `plt.ylabel(\"...\")`functions in the cell above.\n",
    "\n",
    "The `markersize = ...` argument in `plt.errorbar` specifies how large the markers in the plot are. In the first version of the plot above, the error bars of the first datapoint were hidden behind the marker so here we shrink the size of the markers to make the small error bars more visible.\n",
    "\n",
    "Finally, by providing a `label=\"...\"` argument to `plt.errorbar`, we can specify the label for the plot when we include a legend with `plt.legend()`. We don't really need a legend here as we are only plotting a single dataset, but later on when we have multiple things on the same plot, a legend will become very useful.\n",
    "\n",
    "Note that the plot will (usually) automatically give reasonable axis tick marks (the specific numbers displayed along each axis), and set appropriate limits for the plot so all datapoints are displayed. If you find the defaults aren't suitable, there are ways to control these (eg `plt.xlim([min, max])` and `plt.xticks([.1, .2, .3])`), though you probably won't need those in this course."
   ]
  },
  {
   "cell_type": "markdown",
   "id": "0b861a5f-04a4-47f0-9d74-3e94b9c4a43c",
   "metadata": {
    "id": "0b861a5f-04a4-47f0-9d74-3e94b9c4a43c"
   },
   "source": [
    "**Your turn #4:** Recall that Hooke's law tells us that $F = k \\Delta x$. Is the slope of this graph equal to $k$, $1/k$ or some other quantity?"
   ]
  },
  {
   "cell_type": "markdown",
   "id": "3f177284-419e-4225-a281-3f8b9c0de6f6",
   "metadata": {
    "id": "3f177284-419e-4225-a281-3f8b9c0de6f6"
   },
   "source": [
    "equals to k"
   ]
  },
  {
   "cell_type": "markdown",
   "id": "f2f5d3a8-9004-4936-ac27-1b3683f3984a",
   "metadata": {
    "tags": []
   },
   "source": [
    "##### Answer"
   ]
  },
  {
   "cell_type": "markdown",
   "id": "2507103f-f8d0-4517-b2f0-fbc0ab387b0b",
   "metadata": {},
   "source": [
    "**A:** The slope of the above plot can be identified as the spring constant $k$ of the spring via Hooke's law."
   ]
  },
  {
   "cell_type": "markdown",
   "id": "d14c6250-b163-4154-ae98-c7e2b579eeb7",
   "metadata": {
    "id": "d3931412-cc62-4538-86f0-7d56d807a61a",
    "outputId": "19324d4a-2237-4a7d-b6a5-5e16c0d43724",
    "tags": []
   },
   "source": [
    "## Adding a model to our graph"
   ]
  },
  {
   "cell_type": "markdown",
   "id": "f8aca172-f710-4fdf-b434-3fd22f7191bb",
   "metadata": {},
   "source": [
    "We've seen how to plot data. We will often want to add a line or curve to a plot to judge how well a model describes the experimental results. To do this, we break the process into four steps:\n",
    "1. Find the range of x-values that the data span\n",
    "2. Generate many x-values over the range of values for which we want to determine the model predictions. Why do we need many points? For a straight line the number of points used doesn't matter much, but if the model predicts a more complicated function, using many points will give a curve that looks smooth to the eye.\n",
    "3. Calculate the model prediction (model y-values) at each of the x-values\n",
    "4. Plot the model prediction on the graph.\n",
    "\n",
    "Here, our model is the linear model of $F = kx$. In order to create our model prediction, we will need a value for the model parameter $k$ (the spring constant of the spring, and the slope of the model). To start with, we can estimate this value by inspection; we have points at approximately $(0\\,\\text{m}, 0\\,\\text{N})$ and $(0.6\\,\\text{m}, 1.2\\,\\text{N})$, so a reasonable estimate of the slope (which corresponds to $k$) would be $\\text{slope} = \\frac{1.2 \\text{N} - 0 \\text{N}}{0.6 \\text{m} - 0 \\text{m}} = 2\\,\\text{N/m}$. \n",
    "\n",
    "Let's use this value to add an initial estimate of our model to our graph:"
   ]
  },
  {
   "cell_type": "code",
   "execution_count": 6,
   "id": "c425f695-a24f-4bc3-9106-af45b87305c0",
   "metadata": {},
   "outputs": [
    {
     "data": {
      "image/png": "[encoded data removed]",
      "text/plain": [
       "<Figure size 640x480 with 1 Axes>"
      ]
     },
     "metadata": {},
     "output_type": "display_data"
    }
   ],
   "source": [
    "# Run me to plot our model as a straight line and our data points, both on the same graph\n",
    "\n",
    "# Scatter step 1: find the limits of the data:\n",
    "xmin = np.min(dxVec) # use the np.min function to find the smallest x-value\n",
    "xmax = np.max(dxVec) # same for max\n",
    "# print (xmin, xmax)  # uncomment to see what the limits are\n",
    "\n",
    "# Scatter step 2: generate a bunch of x points between xmin and xmax\n",
    "xpoints = np.linspace(xmin, xmax, 200) # gives 200 evenly spaced points between xmin and xmax\n",
    "# print(xpoints) # uncomment to see the x values that were generated.\n",
    "\n",
    "# Scatter step 3: calculate the model values:\n",
    "slope = 2 # Our initial estimate of the slope from above (units: N/m).\n",
    "ypoints = xpoints * slope # this calculates the model y-values at all 200 points.\n",
    "\n",
    "# Scatter step 4: plot the curve. We plot this as a red line \"r-\" :\n",
    "plt.plot(xpoints, ypoints, \"r-\", label = \"F = kx\")\n",
    "\n",
    "# Scatter step 5: Add all the previous details from before\n",
    "plt.errorbar(dxVec, FVec, uFVec, fmt=\"bo\", markersize = 3, label=\"Experimental data\")\n",
    "plt.title(\"Force vs. Displacement for spring\")\n",
    "plt.xlabel(\"Displacement of spring from equilibrium (m)\")\n",
    "plt.ylabel(\"Force (N)\")\n",
    "plt.legend()\n",
    "plt.show()"
   ]
  },
  {
   "cell_type": "markdown",
   "id": "cbe5d92a-bfa8-4b94-8f6c-741996cfd69f",
   "metadata": {},
   "source": [
    "A few things to note:\n",
    "1. `plt.show()` helps ensure that `plt.plot()`, `plt.errorbar()` and the other `plt.` functions will appear on the same plot\n",
    "2. The syntax for `plt.plot()` is a little different from `plt.errorbar()`. For `plt.errorbar()` you need `fmt='bo'`, but for `plt.plot()` the format for plotting can't include the `fmt=` piece (annoying, but this is just how it is)."
   ]
  },
  {
   "cell_type": "markdown",
   "id": "dcfbe785-cb24-40bc-855c-9ec4a1910056",
   "metadata": {},
   "source": [
    "## Residuals - what they area and how to plot them"
   ]
  },
  {
   "cell_type": "markdown",
   "id": "a9bec124-6f7d-4d80-a99e-493a962fefbb",
   "metadata": {},
   "source": [
    "This fit of the model to our data looks pretty good to the eye, but we are going to introduce a new tool, a residuals plot, which we will use in lab 5 (and future labs) as a tool to help improve the quality of our fits and to estimate uncertainty in the fitting parameters, which in this case is the slope, which is often given the symbol $m$). For now, we will introduce what it is and how to create the plot.\n",
    "\n",
    "A residual is a measure of how far a data point lies from the best fit line (the model) along the y-direction. So for a given data point on the graph $(x_i, y_i)$, the residual $(R_i)$ is given by:\n",
    "\n",
    "$$R_i = y_i - \\text{model}(x_i)$$\n",
    "\n",
    "where $\\text{model}(x_i)$ represents the $y$-value that our model, $y = mx$, predicts at the point $x_i$. Let’s build a graph of the residuals that correspond to each $x$-value and then we will spend a bit more time learning about how they are useful. We will break this process down into a few steps:\n",
    "\n",
    "1. Calculate the model prediction $\\text{model}(x_i)$ points at all of the $x$-data values\n",
    "2. Calculate the residual vector $[R_1, R_2, \\ldots R_n]$ as the difference of the $y$-data vector $[y_1, y_2, \\ldots, y_n]$ and the model vector $[\\text{model}(x_1), \\text{model}(x_2), \\ldots, \\text{model}(x_n)]$. \n",
    "3. Plot the residual vector against the $x$-data vector.\n",
    "4. Add a $R = 0$ x-axis to the plot.\n",
    "\n",
    "Let's create the residuals plot for our current model of the Hooke's law dataset."
   ]
  },
  {
   "cell_type": "code",
   "execution_count": 7,
   "id": "7d376812-1abf-4f67-a3ae-c67480096337",
   "metadata": {},
   "outputs": [
    {
     "data": {
      "image/png": "[encoded data removed]",
      "text/plain": [
       "<Figure size 640x480 with 1 Axes>"
      ]
     },
     "metadata": {},
     "output_type": "display_data"
    }
   ],
   "source": [
    "# Run me to calculate residuals and create a well-labelled residuals plot\n",
    "\n",
    "# Residuals step 1: Calculate the model prediction for each our data points from dxVec\n",
    "ymodel = slope * dxVec # y = mx at each x_i\n",
    "\n",
    "# Residuals step 2: Calcualte the residuals vector\n",
    "RVec = FVec - ymodel\n",
    "\n",
    "# Residuals step 3: Plot the residuals vector against the x-data vector\n",
    "plt.errorbar(dxVec, RVec, uFVec, fmt=\"bo\", markersize = 3)\n",
    "\n",
    "# Residuals step 4: Add a horizontal line at R=0 to the plot\n",
    "plt.hlines(y=0, xmin=xmin, xmax=xmax, color='k') # draw a black axis at y = 0.\n",
    "\n",
    "# Residuals step 5: Add axis labels and title, and show the graph\n",
    "plt.title(\"Residuals for Force vs. displacement for spring\")\n",
    "plt.xlabel(\"Displacement (m)\")\n",
    "plt.ylabel(\"Residual = data - model (N)\")\n",
    "plt.show()"
   ]
  },
  {
   "cell_type": "markdown",
   "id": "80308ec9-2ef2-4fd4-adf8-f7ed7a6091bf",
   "metadata": {},
   "source": [
    "Note that we use use `plt.errorbar()` to plot the residuals, and we use the **same** uncertainties as our $y$-data uncertainties, `ufVec`. This is because there are no uncertainties associated with the model predictions, thus the uncertainties in the residuals (the difference of data and model) are just the uncertainties in the data y-values. We also modify the labelling of the plot (axis labels, title) to make sure what is being plotted is more clear.\n",
    "\n",
    "Looking at the residuals (difference between model and data) gives us more resolving power than looking our original scatter plot that included the data and model. In this case, we can see from the residuals plot that the residuals trend upward as we go to the right. This suggests that we could improve out model to better fit to the data. In this case, we will want to increase the slope of the model to account for the current upward trend in the residuals. \n",
    "\n",
    "Usually, it is standard to plot the data/model and residual plot in the same cell, for ease of viewing. We do this below."
   ]
  },
  {
   "cell_type": "code",
   "execution_count": 8,
   "id": "9e03dee0-65f1-4285-ae96-2ba1942b2868",
   "metadata": {},
   "outputs": [
    {
     "data": {
      "image/png": "[encoded data removed]",
      "text/plain": [
       "<Figure size 640x480 with 1 Axes>"
      ]
     },
     "metadata": {},
     "output_type": "display_data"
    },
    {
     "data": {
      "image/png": "[encoded data removed]",
      "text/plain": [
       "<Figure size 640x480 with 1 Axes>"
      ]
     },
     "metadata": {},
     "output_type": "display_data"
    }
   ],
   "source": [
    "# Run me to make our two plots together (this is all the same code from before)\n",
    "\n",
    "# Scatter step 1: find the limits of the data:\n",
    "xmin = np.min(dxVec) # use the np.min function to find the smallest x value\n",
    "xmax = np.max(dxVec) # same for max\n",
    "#print (xmin, xmax)  # uncomment to see what the limits are\n",
    "\n",
    "# Scatter step 2: generate a bunch of x points between xmin and xmax\n",
    "xpoints = np.linspace(xmin, xmax, 200) # gives 200 evenly spaced points between xmin and xmax\n",
    "#print(xpoints) # uncomment to see the x values that were generated.\n",
    "\n",
    "# Scatter step 3: calculate the model values:\n",
    "slope = 2 # Our initial estimate of the slope from above (units: N/m).\n",
    "ypoints = xpoints * slope # this calculates the yvalues at all 200 points.\n",
    "\n",
    "# Scatter step 4: plot the curve. We plot this as a red line \"r-\" :\n",
    "plt.plot(xpoints, ypoints, \"r-\", label = \"F = kx\")\n",
    "\n",
    "# Scatter step 5: plot the data:\n",
    "plt.errorbar(dxVec, FVec, uFVec, fmt=\"bo\", markersize = 3, label=\"Experimental data\")\n",
    "plt.title(\"Force vs. Displacement for spring\")\n",
    "plt.xlabel(\"Displacement of spring from equilibrium (m)\")\n",
    "plt.ylabel(\"Force (N)\")\n",
    "plt.legend()\n",
    "plt.show()\n",
    "\n",
    "# Residuals step 1: Calculate the model at each x-datapoint\n",
    "ymodel = slope * dxVec # y = mx at each x_i\n",
    "\n",
    "# Residuals step 2: Calcualte the residual vector\n",
    "RVec = FVec - ymodel\n",
    "\n",
    "# Resoduals step 3: Plot the residual vector against the x-data vector\n",
    "plt.errorbar(dxVec, RVec, uFVec, fmt=\"bo\", markersize = 3)\n",
    "\n",
    "# Residuals step 4: Add a R = 0 x-axis (horizontal line) to the plot\n",
    "plt.hlines(y=0, xmin=xmin, xmax=xmax, color='k') # draw axis at y = 0.\n",
    "\n",
    "# Residuals step 5: Add axis labels and title, and show the graph\n",
    "plt.title(\"Residuals for Force vs. displacement for spring\")\n",
    "plt.xlabel(\"Displacement of spring from equilibrium (m)\")\n",
    "plt.ylabel(\"Residual = data - model (N)\")\n",
    "plt.show()"
   ]
  },
  {
   "cell_type": "markdown",
   "id": "e2a788e3-1f7e-4da1-81f4-9f59cd9ab254",
   "metadata": {},
   "source": [
    "Let’s take a moment to see how these two graphs each present the same overall information, but with different emphases. \n",
    "\n",
    "- The main scatter-plot, on top, shows our data points and the model. We can see that, within their uncertainties, all of our data points lie along the model line or above it.\n",
    "- The residuals plot, on the bottom, shows how far each data point is away from the model, thus we can see a bit more clearly that the left-most data point lies exactly at R = 0 (the model predicts this data point exactly) and all of the other data points have positive residuals (data - model), meaning that model is providing a lower prediction than the actual data. The residuals graph can be thought of as a zoomed-in representation of the data points as seen from the perspective of the model line.\n",
    "\n",
    "The zoomed-in nature of the residual plot (in comparison to the raw scatterplot and model) allows us to better analyze the agreement between the two. This makes residual plots an extremely useful tool for evaluating the quality of fits and for modifying models, which you are now going to do below. "
   ]
  },
  {
   "cell_type": "markdown",
   "id": "3ae2b490-a046-4407-86fb-855914e86bf0",
   "metadata": {},
   "source": [
    "**Your turn #5:** Let's see if we can improve the fit of our model to the data. Using the plots directly above, try out slopes of 1.7, 1.8, 1.9, 2.0, 2.1, 2.2 and 2.3 (N/m). Categorize each of the slopes as _best fits_ (fits where it seems like there is little room for improvement), _decent fits_ (reasonable fits where there is still room for small obvious improvements) or _poor fits_ using the list below.\n",
    "\n",
    "_Hints:_\n",
    "\n",
    "* For a good fit we are looking to have approximately equal scatter of the residuals above and below the R=0 horizontal line, which would also correspond to an approximately equal scatter of the data points above and below the model on the scatter plot.\n",
    "* For a good fit, there should be no obvious trends in the residuals. An example of an obvious trend is the small but noticeable upward trend we saw for slope = 2.0.\n",
    "* Finally, if the uncertainties are well-characterized (neither overestimated or underestimated) and we are using an appropriate model, we will expect that approximately 68% of the residuals will have their error bars touch the horizontal R=0 line."
   ]
  },
  {
   "cell_type": "markdown",
   "id": "c57f0b7c-4d88-4760-afd2-24b63e5d1867",
   "metadata": {},
   "source": [
    "Categorize the slopes 1.7, 1.8, 1.9, 2.0, 2.1, 2.2 and 2.3 (N/m) here:\n",
    "\n",
    "* Best fits: 2.1\n",
    "* Decent fits: 2, 2.2\n",
    "* Poor fits: 1.7,1.8,1.9,2.3"
   ]
  },
  {
   "cell_type": "markdown",
   "id": "7696d494-183e-4615-b955-dbac96d49272",
   "metadata": {
    "tags": []
   },
   "source": [
    "##### **Answer:**"
   ]
  },
  {
   "cell_type": "markdown",
   "id": "0f388a9a-ea10-430c-8bad-7e22eff6640e",
   "metadata": {},
   "source": [
    "* Best fits: 2.1\n",
    "* Decent fits: 2.0, 2.2\n",
    "* Poor fits: 1.7, 1.8, 1.9, 2.3 "
   ]
  },
  {
   "cell_type": "markdown",
   "id": "41a9826c-109e-4cee-98c9-da580c27d156",
   "metadata": {
    "id": "41a9826c-109e-4cee-98c9-da580c27d156"
   },
   "source": [
    "## Plotting with Python - Your turn! "
   ]
  },
  {
   "cell_type": "markdown",
   "id": "85c5b89b-3108-4226-8b97-48e17db8b3e2",
   "metadata": {
    "id": "85c5b89b-3108-4226-8b97-48e17db8b3e2"
   },
   "source": [
    "**Your turn #6:** Now that we've gone through an example together, it is your turn to follow the steps above to create the current vs. voltage plot (including labels and title) that we saw at the beginning of the notebook. The data you need is provided below.\n",
    "\n",
    "_Hint: Instead of starting from scratch, you can copy the last code cell in the *Plotting with Python* section and modify the names of the vectors being plotted, as well as the axis labels/title to fit the Current vs. Voltage plot._"
   ]
  },
  {
   "cell_type": "code",
   "execution_count": 9,
   "id": "a8d147d6-04b5-4130-a471-23e846931304",
   "metadata": {
    "colab": {
     "referenced_widgets": [
      "aaee5e8d7dee4449a629908207959bbd"
     ]
    },
    "id": "a8d147d6-04b5-4130-a471-23e846931304",
    "outputId": "ed4702f8-d2fc-420d-e313-d7d909f3e099"
   },
   "outputs": [
    {
     "name": "stdout",
     "output_type": "stream",
     "text": [
      "Sheet name: lab05_prelab_ohms_law.csv\n"
     ]
    },
    {
     "data": {
      "application/vnd.jupyter.widget-view+json": {
       "model_id": "40a0b93cf2034927a42c0fe867652b83",
       "version_major": 2,
       "version_minor": 0
      },
      "text/plain": [
       "VBox(children=(HBox(children=(Button(description='Undo', style=ButtonStyle()), Button(description='Redo', styl…"
      ]
     },
     "metadata": {},
     "output_type": "display_data"
    }
   ],
   "source": [
    "# Run me to load the Ohm's Law data\n",
    "# Make sure to press \"Generate Vectors\" afterward\n",
    "\n",
    "de2 = data_entry2.sheet(\"lab05_prelab_ohms_law\")"
   ]
  },
  {
   "cell_type": "code",
   "execution_count": 10,
   "id": "4901a695-d5bb-4d89-8edc-c0b1394f8ee1",
   "metadata": {},
   "outputs": [
    {
     "data": {
      "image/png": "[encoded data removed]",
      "text/plain": [
       "<Figure size 640x480 with 1 Axes>"
      ]
     },
     "metadata": {},
     "output_type": "display_data"
    }
   ],
   "source": [
    "# Run me to make our two plots together (this is all the same code from before)\n",
    "\n",
    "# Scatter step 1: find the limits of the data:\n",
    "xmin = np.min(VVec) # use the np.min function to find the smallest x value\n",
    "xmax = np.max(VVec) # same for max\n",
    "#print (xmin, xmax)  # uncomment to see what the limits are\n",
    "\n",
    "# Scatter step 2: generate a bunch of x points between xmin and xmax\n",
    "xpoints = np.linspace(xmin, xmax, 200) # gives 200 evenly spaced points between xmin and xmax\n",
    "#print(xpoints) # uncomment to see the x values that were generated.\n",
    "\n",
    "# Scatter step 3: calculate the model values:\n",
    "slope = 0.1 # Our initial estimate of the slope from above (units: N/m).\n",
    "ypoints = xpoints * slope # this calculates the yvalues at all 200 points.\n",
    "\n",
    "# Scatter step 4: plot the curve. We plot this as a red line \"r-\" :\n",
    "plt.plot(xpoints, ypoints, \"r-\", label = \"V = IR\")\n",
    "\n",
    "# Scatter step 5: plot the data:\n",
    "plt.errorbar(VVec, IVec, uIVec, fmt=\"bo\", markersize = 3, label=\"Experimental data\")\n",
    "plt.title(\"Current vs. Voltage\")\n",
    "plt.xlabel(\"Voltage (V)\")\n",
    "plt.ylabel(\"Current (amp)\")\n",
    "plt.legend()\n",
    "plt.show()"
   ]
  },
  {
   "cell_type": "markdown",
   "id": "2289082f-47f5-4c14-975a-ffbeea794e26",
   "metadata": {},
   "source": [
    "**Your turn #7:** Finally, plot a linear model on top of the current vs. voltage scatterplot in the cell below and add a residuals plot. Adjust the slope until your scatter plot and residuals plot both show a good fit of the model to the data.\n",
    "\n",
    "_Hints_\n",
    "\n",
    "* You can use Your turn #1d to get a good initial estimate of the slope $m$ for the model \n",
    "* You will likely find it convenient to copy and paste the last code cell in the *Residuals - Making a plot* section and modify the variable names/plot elements accordingly."
   ]
  },
  {
   "cell_type": "code",
   "execution_count": 11,
   "id": "8343ada5-36cf-4feb-a829-f659ee4bca22",
   "metadata": {},
   "outputs": [
    {
     "data": {
      "image/png": "[encoded data removed]",
      "text/plain": [
       "<Figure size 640x480 with 1 Axes>"
      ]
     },
     "metadata": {},
     "output_type": "display_data"
    }
   ],
   "source": [
    "# Use this cell to create your scatter plot with model, and your residuals plot\n",
    "# Residuals step 1: Calculate the model at each x-datapoint\n",
    "ymodel = slope * VVec # y = mx at each x_i\n",
    "\n",
    "# Residuals step 2: Calcualte the residual vector\n",
    "RVec = IVec - ymodel\n",
    "\n",
    "# Resoduals step 3: Plot the residual vector against the x-data vector\n",
    "plt.errorbar(VVec, RVec, uIVec, fmt=\"bo\", markersize = 3)\n",
    "\n",
    "# Residuals step 4: Add a R = 0 x-axis (horizontal line) to the plot\n",
    "plt.hlines(y=0, xmin=xmin, xmax=xmax, color='k') # draw axis at y = 0.\n",
    "\n",
    "# Residuals step 5: Add axis labels and title, and show the graph\n",
    "plt.title(\"Residuals for Current vs. Voltage\")\n",
    "plt.xlabel(\"Voltage (V)\")\n",
    "plt.ylabel(\"Residual = data - model (N)\")\n",
    "plt.show()"
   ]
  },
  {
   "cell_type": "markdown",
   "id": "93eff06a-d152-4b75-9d45-0049e07cb48c",
   "metadata": {},
   "source": [
    "## Estimating uncertainty of the slope"
   ]
  },
  {
   "cell_type": "markdown",
   "id": "851bc830-d07c-4333-bfae-75d97c4c8055",
   "metadata": {},
   "source": [
    "Now that we have a linear model, we can also estimate the uncertainty of the slope. \n",
    "\n",
    "To estimate uncertainties in fitting parameters, we will use the method of looking at the range of reasonable best-fit lines and treating that as a confidence interval. We will make the steepest possible best-fit line \"Max\" (as in maximum slope) that still does a reasonable job of fitting the data and a least steep \"Min\" (as in minimum slope) that also does a reasonable job of fitting the data. We will call our original model line \"Best\". Use the \"Best\" parameters for the starting guesses for the \"Max\" and \"Min\" fit parameters.\n",
    "\n",
    "To calculate the uncertainty of the slope, the range between the maximum and minimum slope is our 68% confidence interval for the slope, and so the uncertainty is that 68% confidence interval divided by 2.\n"
   ]
  },
  {
   "cell_type": "markdown",
   "id": "a5d14f54-9b0c-481a-b847-fe981635218c",
   "metadata": {},
   "source": [
    "In the Hooke's Law data set we found in \"your turn #5\" that the graph has decent fits for slopes in the range 2.0-2.2. So this would be the 68% confidence interval for the slope."
   ]
  },
  {
   "cell_type": "code",
   "execution_count": 12,
   "id": "143022fc-d4b2-4ce7-b758-d85c06f37826",
   "metadata": {
    "tags": []
   },
   "outputs": [
    {
     "name": "stdout",
     "output_type": "stream",
     "text": [
      "The model slope is: 2.100+/-0.100 N/m\n"
     ]
    }
   ],
   "source": [
    "slope_max = 2.2\n",
    "slope_min = 2.0\n",
    "slope_best = 2.1\n",
    "u_slope = (slope_max-slope_min)/2\n",
    "print(\"The model slope is: {:.3f}+/-{:.3f} N/m\".format(slope_best, u_slope))"
   ]
  },
  {
   "cell_type": "markdown",
   "id": "61dfadb6-0bc0-4edb-aa54-67eee5d7cd4b",
   "metadata": {},
   "source": [
    "**Your turn #8:** Find the uncertainty of the slope of the Ohm's law data, by adjusting the slope to find the models that correspond to the maximum and minimum slopes that still correspond to reasonable fits.\n",
    "\n",
    "_Hints_\n",
    "\n",
    "* To find the maximum slope, increase the slope from your best slope until the model no longer fits the data."
   ]
  },
  {
   "cell_type": "code",
   "execution_count": 13,
   "id": "a5adbc98-0462-4341-9588-825f17508c87",
   "metadata": {
    "tags": []
   },
   "outputs": [],
   "source": [
    "# Copy and paste your code from the code cell above for #7 where you plotted your model and residual plot\n",
    "# and adjust your slope variable"
   ]
  },
  {
   "cell_type": "code",
   "execution_count": 14,
   "id": "350df0e7-700b-4520-bc62-60ea880eba46",
   "metadata": {},
   "outputs": [
    {
     "name": "stdout",
     "output_type": "stream",
     "text": [
      "The model slope is: 0.101+/--0.046 N/m\n"
     ]
    }
   ],
   "source": [
    "slope_max = 0/111\n",
    "slope_min = 0.092\n",
    "slope_best = 0.101\n",
    "u_slope = (slope_max-slope_min)/2\n",
    "print(\"The model slope is: {:.3f}+/-{:.3f} N/m\".format(slope_best, u_slope))"
   ]
  },
  {
   "cell_type": "markdown",
   "id": "c6bba0ef-a1ac-499e-b6f0-b0c2abbf6726",
   "metadata": {
    "tags": []
   },
   "source": [
    "##### Answer"
   ]
  },
  {
   "cell_type": "code",
   "execution_count": 15,
   "id": "30cef8d3-638a-4e5d-b4ca-ac77d2de54f8",
   "metadata": {
    "tags": []
   },
   "outputs": [
    {
     "name": "stdout",
     "output_type": "stream",
     "text": [
      "The model slope is: 0.101+/-0.010 N/m\n"
     ]
    }
   ],
   "source": [
    "slope_max = 0.111\n",
    "slope_min = 0.092\n",
    "slope_best = 0.101\n",
    "u_slope = (slope_max-slope_min)/2\n",
    "print(\"The model slope is: {:.3f}+/-{:.3f} N/m\".format(slope_best, u_slope))"
   ]
  },
  {
   "cell_type": "markdown",
   "id": "33d3ab63-1b3a-4741-9b53-84d1acdee6ee",
   "metadata": {
    "tags": []
   },
   "source": [
    "Since we are approximating the slope uncertainty, your answer might be slightly different. Your uncertainty should be within 10% of the answer above."
   ]
  },
  {
   "cell_type": "markdown",
   "id": "65020937-116c-456b-98b1-6bbfae74c937",
   "metadata": {},
   "source": [
    "# Submit\n",
    "\n",
    "Steps for submission:\n",
    "\n",
    "1. Click: Run => Run_All_Cells\n",
    "2. Read through the notebook to ensure all the cells executed correctly and without error.\n",
    "3. File => Save_and_Export_Notebook_As->HTML\n",
    "4. Upload the HTML document to the lab submission assignment on Canvas."
   ]
  },
  {
   "cell_type": "code",
   "execution_count": null,
   "id": "c54ea406",
   "metadata": {},
   "outputs": [],
   "source": []
  },
  {
   "cell_type": "code",
   "execution_count": 68,
   "id": "7844200d-d11b-4c16-83a6-793aa8f22e90",
   "metadata": {},
   "outputs": [
    {
     "name": "stdout",
     "output_type": "stream",
     "text": [
      "Sheet: de1   File: lab05_prelab_hookes_law.csv\n"
     ]
    },
    {
     "data": {
      "text/html": [
       "<div>\n",
       "<style scoped>\n",
       "    .dataframe tbody tr th:only-of-type {\n",
       "        vertical-align: middle;\n",
       "    }\n",
       "\n",
       "    .dataframe tbody tr th {\n",
       "        vertical-align: top;\n",
       "    }\n",
       "\n",
       "    .dataframe thead th {\n",
       "        text-align: right;\n",
       "    }\n",
       "</style>\n",
       "<table border=\"1\" class=\"dataframe\">\n",
       "  <thead>\n",
       "    <tr style=\"text-align: right;\">\n",
       "      <th></th>\n",
       "      <th>dx</th>\n",
       "      <th>u[dx]</th>\n",
       "      <th>F</th>\n",
       "      <th>u[F]</th>\n",
       "    </tr>\n",
       "  </thead>\n",
       "  <tbody>\n",
       "    <tr>\n",
       "      <th>Units</th>\n",
       "      <td>m</td>\n",
       "      <td>m</td>\n",
       "      <td>N</td>\n",
       "      <td>N</td>\n",
       "    </tr>\n",
       "    <tr>\n",
       "      <th>0</th>\n",
       "      <td>0</td>\n",
       "      <td>0.01</td>\n",
       "      <td>0</td>\n",
       "      <td>0.02</td>\n",
       "    </tr>\n",
       "    <tr>\n",
       "      <th>1</th>\n",
       "      <td>0.12</td>\n",
       "      <td>0.01</td>\n",
       "      <td>0.26</td>\n",
       "      <td>0.02</td>\n",
       "    </tr>\n",
       "    <tr>\n",
       "      <th>2</th>\n",
       "      <td>0.21</td>\n",
       "      <td>0.01</td>\n",
       "      <td>0.43</td>\n",
       "      <td>0.03</td>\n",
       "    </tr>\n",
       "    <tr>\n",
       "      <th>3</th>\n",
       "      <td>0.29</td>\n",
       "      <td>0.01</td>\n",
       "      <td>0.63</td>\n",
       "      <td>0.03</td>\n",
       "    </tr>\n",
       "    <tr>\n",
       "      <th>4</th>\n",
       "      <td>0.40</td>\n",
       "      <td>0.01</td>\n",
       "      <td>0.81</td>\n",
       "      <td>0.03</td>\n",
       "    </tr>\n",
       "    <tr>\n",
       "      <th>5</th>\n",
       "      <td>0.48</td>\n",
       "      <td>0.01</td>\n",
       "      <td>1.05</td>\n",
       "      <td>0.04</td>\n",
       "    </tr>\n",
       "    <tr>\n",
       "      <th>6</th>\n",
       "      <td>0.60</td>\n",
       "      <td>0.01</td>\n",
       "      <td>1.23</td>\n",
       "      <td>0.04</td>\n",
       "    </tr>\n",
       "  </tbody>\n",
       "</table>\n",
       "</div>"
      ],
      "text/plain": [
       "         dx u[dx]     F  u[F]\n",
       "Units     m     m     N     N\n",
       "0         0  0.01     0  0.02\n",
       "1      0.12  0.01  0.26  0.02\n",
       "2      0.21  0.01  0.43  0.03\n",
       "3      0.29  0.01  0.63  0.03\n",
       "4      0.40  0.01  0.81  0.03\n",
       "5      0.48  0.01  1.05  0.04\n",
       "6      0.60  0.01  1.23  0.04"
      ]
     },
     "metadata": {},
     "output_type": "display_data"
    },
    {
     "name": "stdout",
     "output_type": "stream",
     "text": [
      "Sheet: de2   File: lab05_prelab_ohms_law.csv\n"
     ]
    },
    {
     "data": {
      "text/html": [
       "<div>\n",
       "<style scoped>\n",
       "    .dataframe tbody tr th:only-of-type {\n",
       "        vertical-align: middle;\n",
       "    }\n",
       "\n",
       "    .dataframe tbody tr th {\n",
       "        vertical-align: top;\n",
       "    }\n",
       "\n",
       "    .dataframe thead th {\n",
       "        text-align: right;\n",
       "    }\n",
       "</style>\n",
       "<table border=\"1\" class=\"dataframe\">\n",
       "  <thead>\n",
       "    <tr style=\"text-align: right;\">\n",
       "      <th></th>\n",
       "      <th>V</th>\n",
       "      <th>u[V]</th>\n",
       "      <th>I</th>\n",
       "      <th>u[I]</th>\n",
       "    </tr>\n",
       "  </thead>\n",
       "  <tbody>\n",
       "    <tr>\n",
       "      <th>Units</th>\n",
       "      <td>V</td>\n",
       "      <td>V</td>\n",
       "      <td>A</td>\n",
       "      <td>A</td>\n",
       "    </tr>\n",
       "    <tr>\n",
       "      <th>0</th>\n",
       "      <td>0</td>\n",
       "      <td>0.02</td>\n",
       "      <td>0</td>\n",
       "      <td>0.005</td>\n",
       "    </tr>\n",
       "    <tr>\n",
       "      <th>1</th>\n",
       "      <td>0.11</td>\n",
       "      <td>0.02</td>\n",
       "      <td>0.009</td>\n",
       "      <td>0.005</td>\n",
       "    </tr>\n",
       "    <tr>\n",
       "      <th>2</th>\n",
       "      <td>0.19</td>\n",
       "      <td>0.02</td>\n",
       "      <td>0.020</td>\n",
       "      <td>0.01</td>\n",
       "    </tr>\n",
       "    <tr>\n",
       "      <th>3</th>\n",
       "      <td>0.28</td>\n",
       "      <td>0.02</td>\n",
       "      <td>0.029</td>\n",
       "      <td>0.005</td>\n",
       "    </tr>\n",
       "    <tr>\n",
       "      <th>4</th>\n",
       "      <td>0.41</td>\n",
       "      <td>0.02</td>\n",
       "      <td>0.043</td>\n",
       "      <td>0.015</td>\n",
       "    </tr>\n",
       "    <tr>\n",
       "      <th>5</th>\n",
       "      <td>0.53</td>\n",
       "      <td>0.02</td>\n",
       "      <td>0.053</td>\n",
       "      <td>0.01</td>\n",
       "    </tr>\n",
       "    <tr>\n",
       "      <th>6</th>\n",
       "      <td>0.67</td>\n",
       "      <td>0.02</td>\n",
       "      <td>0.070</td>\n",
       "      <td>0.015</td>\n",
       "    </tr>\n",
       "    <tr>\n",
       "      <th>7</th>\n",
       "      <td>0.80</td>\n",
       "      <td>0.02</td>\n",
       "      <td>0.078</td>\n",
       "      <td>0.02</td>\n",
       "    </tr>\n",
       "  </tbody>\n",
       "</table>\n",
       "</div>"
      ],
      "text/plain": [
       "          V  u[V]      I   u[I]\n",
       "Units     V     V      A      A\n",
       "0         0  0.02      0  0.005\n",
       "1      0.11  0.02  0.009  0.005\n",
       "2      0.19  0.02  0.020   0.01\n",
       "3      0.28  0.02  0.029  0.005\n",
       "4      0.41  0.02  0.043  0.015\n",
       "5      0.53  0.02  0.053   0.01\n",
       "6      0.67  0.02  0.070  0.015\n",
       "7      0.80  0.02  0.078   0.02"
      ]
     },
     "metadata": {},
     "output_type": "display_data"
    }
   ],
   "source": [
    "display_sheets()"
   ]
  },
  {
   "cell_type": "code",
   "execution_count": null,
   "id": "8f853610-becc-4584-a770-dee2e789f808",
   "metadata": {},
   "outputs": [],
   "source": []
  }
 ],
 "metadata": {
  "colab": {
   "collapsed_sections": [],
   "name": "lab05_prelab.ipynb",
   "provenance": []
  },
  "kernelspec": {
   "display_name": "Python 3 (ipykernel)",
   "language": "python",
   "name": "python3"
  },
  "language_info": {
   "codemirror_mode": {
    "name": "ipython",
    "version": 3
   },
   "file_extension": ".py",
   "mimetype": "text/x-python",
   "name": "python",
   "nbconvert_exporter": "python",
   "pygments_lexer": "ipython3",
   "version": "3.10.10"
  },
  "widgets": {
   "application/vnd.jupyter.widget-state+json": {
    "state": {
     "026d5bd0ef4344ad97774439f4b38896": {
      "model_module": "@jupyter-widgets/controls",
      "model_module_version": "2.0.0",
      "model_name": "ButtonModel",
      "state": {
       "description": "Generate Vectors",
       "layout": "IPY_MODEL_75d7ef80901d43b9a28b4e2adf4d751f",
       "style": "IPY_MODEL_3a85d1a64d654cd7878e700f708daa01",
       "tooltip": null
      }
     },
     "081381ab9fc047ffa5328e3559654ec4": {
      "model_module": "@jupyter-widgets/controls",
      "model_module_version": "2.0.0",
      "model_name": "ButtonModel",
      "state": {
       "description": "Undo",
       "layout": "IPY_MODEL_d1a846d62dfa4419b7d2bb3db9f646d2",
       "style": "IPY_MODEL_e49faa9f26ea46b081d2182c07c9ba2b",
       "tooltip": null
      }
     },
     "0a5a94a4cccd4c21858f84bacdcdb96d": {
      "model_module": "ipydatagrid",
      "model_module_version": "^1.1.16",
      "model_name": "DataGridModel",
      "state": {
       "_data": {
        "data": [
         {
          "0": "dx",
          "1": "u[dx]",
          "2": "F",
          "3": "u[F]",
          "ipydguuid": 0,
          "key": "  Variable:"
         },
         {
          "0": "m",
          "1": "m",
          "2": "N",
          "3": "N",
          "ipydguuid": 1,
          "key": " Units:"
         },
         {
          "0": "0",
          "1": "0.01",
          "2": "0",
          "3": "0.02",
          "ipydguuid": 2,
          "key": 0
         },
         {
          "0": "0.12",
          "1": "0.01",
          "2": "0.26",
          "3": "0.02",
          "ipydguuid": 3,
          "key": 1
         },
         {
          "0": "0.21",
          "1": "0.01",
          "2": "0.43",
          "3": "0.03",
          "ipydguuid": 4,
          "key": 2
         },
         {
          "0": "0.29",
          "1": "0.01",
          "2": "0.63",
          "3": "0.03",
          "ipydguuid": 5,
          "key": 3
         },
         {
          "0": "0.40",
          "1": "0.01",
          "2": "0.81",
          "3": "0.03",
          "ipydguuid": 6,
          "key": 4
         },
         {
          "0": "0.48",
          "1": "0.01",
          "2": "1.05",
          "3": "0.04",
          "ipydguuid": 7,
          "key": 5
         },
         {
          "0": "0.60",
          "1": "0.01",
          "2": "1.23",
          "3": "0.04",
          "ipydguuid": 8,
          "key": 6
         }
        ],
        "fields": [
         {
          "key": null
         },
         {
          "0": null
         },
         {
          "1": null
         },
         {
          "2": null
         },
         {
          "3": null
         },
         {
          "ipydguuid": null
         }
        ],
        "schema": {
         "fields": [
          {
           "name": "key",
           "type": "string"
          },
          {
           "name": 0,
           "type": "string"
          },
          {
           "name": 1,
           "type": "string"
          },
          {
           "name": 2,
           "type": "string"
          },
          {
           "name": 3,
           "type": "string"
          },
          {
           "name": "ipydguuid",
           "type": "integer"
          }
         ],
         "pandas_version": "1.4.0",
         "primaryKey": [
          "key",
          "ipydguuid"
         ],
         "primaryKeyUuid": "ipydguuid"
        }
       },
       "_model_module_version": "^1.1.16",
       "_model_name": "DataGridModel",
       "_view_module_version": "^1.1.16",
       "auto_fit_columns": false,
       "auto_fit_params": {
        "area": "all",
        "numCols": null,
        "padding": 30
       },
       "base_column_header_size": 20,
       "base_column_size": 64,
       "base_row_header_size": 64,
       "base_row_size": 20,
       "default_renderer": "IPY_MODEL_51e170ee58bd40ae829b9bc21acae446",
       "editable": true,
       "header_visibility": "all",
       "layout": "IPY_MODEL_46381c47c28746c1b8383feb03a6f2a7",
       "selection_mode": "cell"
      }
     },
     "2508a4202320471cabf96546e5554806": {
      "model_module": "@jupyter-widgets/base",
      "model_module_version": "2.0.0",
      "model_name": "LayoutModel",
      "state": {}
     },
     "2b472492538a4c16b27e40eae3ce5561": {
      "model_module": "@jupyter-widgets/base",
      "model_module_version": "2.0.0",
      "model_name": "LayoutModel",
      "state": {}
     },
     "2c19e4388ca64f859f12ff562b0d7b07": {
      "model_module": "@jupyter-widgets/base",
      "model_module_version": "2.0.0",
      "model_name": "LayoutModel",
      "state": {}
     },
     "2e4e7d9cca18440bb68d6df81ec4210d": {
      "model_module": "@jupyter-widgets/controls",
      "model_module_version": "2.0.0",
      "model_name": "ButtonModel",
      "state": {
       "description": "Redo",
       "layout": "IPY_MODEL_b6a44cf5e0d942b7b1f0f5edf161cc4e",
       "style": "IPY_MODEL_e86eaefa37d8489d8d23452cfb8c6ad5",
       "tooltip": null
      }
     },
     "338e4ec57ea243a2804d5e679d049e4e": {
      "model_module": "ipydatagrid",
      "model_module_version": "^1.1.16",
      "model_name": "VegaExprModel",
      "state": {
       "_model_module_version": "^1.1.16",
       "_view_module": "ipydatagrid",
       "_view_module_version": "^1.1.16",
       "_view_name": "VegaExprView"
      }
     },
     "35787cbe6742419ea0add9e11b2dac85": {
      "model_module": "@jupyter-widgets/controls",
      "model_module_version": "2.0.0",
      "model_name": "VBoxModel",
      "state": {
       "children": [
        "IPY_MODEL_b6b6e020f4f247e8a00be2901b93244f",
        "IPY_MODEL_0a5a94a4cccd4c21858f84bacdcdb96d",
        "IPY_MODEL_843930a820004a00947d3d8211fed472"
       ],
       "layout": "IPY_MODEL_45f005b3492646c698dcf3d57224ee9c"
      }
     },
     "3a761b83638a4d0e9cae2c0cf55f5ab4": {
      "model_module": "ipydatagrid",
      "model_module_version": "^1.1.16",
      "model_name": "VegaExprModel",
      "state": {
       "_model_module_version": "^1.1.16",
       "_view_module": "ipydatagrid",
       "_view_module_version": "^1.1.16",
       "_view_name": "VegaExprView"
      }
     },
     "3a85d1a64d654cd7878e700f708daa01": {
      "model_module": "@jupyter-widgets/controls",
      "model_module_version": "2.0.0",
      "model_name": "ButtonStyleModel",
      "state": {
       "font_family": null,
       "font_size": null,
       "font_style": null,
       "font_variant": null,
       "font_weight": null,
       "text_color": null,
       "text_decoration": null
      }
     },
     "3c51bf3c36b945f881e73530ae4225f3": {
      "model_module": "@jupyter-widgets/controls",
      "model_module_version": "2.0.0",
      "model_name": "ButtonModel",
      "state": {
       "description": "Undo",
       "layout": "IPY_MODEL_5bbdb502705040ad8a3c1de60b91e321",
       "style": "IPY_MODEL_90eb3208f6314116a44db1a2d9f10ee6",
       "tooltip": null
      }
     },
     "3f8a0fd4ac1a46068f2483ccacaa263e": {
      "model_module": "@jupyter-widgets/controls",
      "model_module_version": "2.0.0",
      "model_name": "ButtonStyleModel",
      "state": {
       "font_family": null,
       "font_size": null,
       "font_style": null,
       "font_variant": null,
       "font_weight": null,
       "text_color": null,
       "text_decoration": null
      }
     },
     "40a0b93cf2034927a42c0fe867652b83": {
      "model_module": "@jupyter-widgets/controls",
      "model_module_version": "2.0.0",
      "model_name": "VBoxModel",
      "state": {
       "children": [
        "IPY_MODEL_846ec854128042168396b58755d1b240",
        "IPY_MODEL_5e10e62ec9334476aad377a96590e09e",
        "IPY_MODEL_a436808cb49e416eb952651353168ea3"
       ],
       "layout": "IPY_MODEL_60b9a466386741958123bd6ef083b0e2"
      }
     },
     "456577efcfb14fc184c36400472d6542": {
      "model_module": "@jupyter-widgets/base",
      "model_module_version": "2.0.0",
      "model_name": "LayoutModel",
      "state": {}
     },
     "45f005b3492646c698dcf3d57224ee9c": {
      "model_module": "@jupyter-widgets/base",
      "model_module_version": "2.0.0",
      "model_name": "LayoutModel",
      "state": {}
     },
     "46381c47c28746c1b8383feb03a6f2a7": {
      "model_module": "@jupyter-widgets/base",
      "model_module_version": "2.0.0",
      "model_name": "LayoutModel",
      "state": {
       "height": "230px"
      }
     },
     "51e170ee58bd40ae829b9bc21acae446": {
      "model_module": "ipydatagrid",
      "model_module_version": "^1.1.16",
      "model_name": "TextRendererModel",
      "state": {
       "_model_module_version": "^1.1.16",
       "_view_module_version": "^1.1.16",
       "background_color": "IPY_MODEL_3a761b83638a4d0e9cae2c0cf55f5ab4",
       "text_color": "IPY_MODEL_338e4ec57ea243a2804d5e679d049e4e"
      }
     },
     "529808629bfe430690bb2a15f4fd1e02": {
      "model_module": "@jupyter-widgets/controls",
      "model_module_version": "2.0.0",
      "model_name": "ButtonModel",
      "state": {
       "description": "Generate Vectors",
       "layout": "IPY_MODEL_fb61036c6e924fa8acdfec4c9055472e",
       "style": "IPY_MODEL_3f8a0fd4ac1a46068f2483ccacaa263e",
       "tooltip": null
      }
     },
     "5bbdb502705040ad8a3c1de60b91e321": {
      "model_module": "@jupyter-widgets/base",
      "model_module_version": "2.0.0",
      "model_name": "LayoutModel",
      "state": {}
     },
     "5e10e62ec9334476aad377a96590e09e": {
      "model_module": "ipydatagrid",
      "model_module_version": "^1.1.16",
      "model_name": "DataGridModel",
      "state": {
       "_data": {
        "data": [
         {
          "0": "V",
          "1": "u[V]",
          "2": "I",
          "3": "u[I]",
          "ipydguuid": 0,
          "key": "  Variable:"
         },
         {
          "0": "V",
          "1": "V",
          "2": "A",
          "3": "A",
          "ipydguuid": 1,
          "key": " Units:"
         },
         {
          "0": "0",
          "1": "0.02",
          "2": "0",
          "3": "0.005",
          "ipydguuid": 2,
          "key": 0
         },
         {
          "0": "0.11",
          "1": "0.02",
          "2": "0.009",
          "3": "0.005",
          "ipydguuid": 3,
          "key": 1
         },
         {
          "0": "0.19",
          "1": "0.02",
          "2": "0.020",
          "3": "0.01",
          "ipydguuid": 4,
          "key": 2
         },
         {
          "0": "0.28",
          "1": "0.02",
          "2": "0.029",
          "3": "0.005",
          "ipydguuid": 5,
          "key": 3
         },
         {
          "0": "0.41",
          "1": "0.02",
          "2": "0.043",
          "3": "0.015",
          "ipydguuid": 6,
          "key": 4
         },
         {
          "0": "0.53",
          "1": "0.02",
          "2": "0.053",
          "3": "0.01",
          "ipydguuid": 7,
          "key": 5
         },
         {
          "0": "0.67",
          "1": "0.02",
          "2": "0.070",
          "3": "0.015",
          "ipydguuid": 8,
          "key": 6
         },
         {
          "0": "0.80",
          "1": "0.02",
          "2": "0.078",
          "3": "0.02",
          "ipydguuid": 9,
          "key": 7
         }
        ],
        "fields": [
         {
          "key": null
         },
         {
          "0": null
         },
         {
          "1": null
         },
         {
          "2": null
         },
         {
          "3": null
         },
         {
          "ipydguuid": null
         }
        ],
        "schema": {
         "fields": [
          {
           "name": "key",
           "type": "string"
          },
          {
           "name": 0,
           "type": "string"
          },
          {
           "name": 1,
           "type": "string"
          },
          {
           "name": 2,
           "type": "string"
          },
          {
           "name": 3,
           "type": "string"
          },
          {
           "name": "ipydguuid",
           "type": "integer"
          }
         ],
         "pandas_version": "1.4.0",
         "primaryKey": [
          "key",
          "ipydguuid"
         ],
         "primaryKeyUuid": "ipydguuid"
        }
       },
       "_model_module_version": "^1.1.16",
       "_model_name": "DataGridModel",
       "_view_module_version": "^1.1.16",
       "auto_fit_columns": false,
       "auto_fit_params": {
        "area": "all",
        "numCols": null,
        "padding": 30
       },
       "base_column_header_size": 20,
       "base_column_size": 64,
       "base_row_header_size": 64,
       "base_row_size": 20,
       "default_renderer": "IPY_MODEL_724e1ce4ae5949a9b35f2f729c83fffc",
       "editable": true,
       "header_visibility": "all",
       "layout": "IPY_MODEL_666e2c542c694052a02415b1f2c19f32",
       "selection_mode": "cell"
      }
     },
     "6018d6ebf85c476d882c44ddb7ff02aa": {
      "model_module": "@jupyter-widgets/controls",
      "model_module_version": "2.0.0",
      "model_name": "ButtonModel",
      "state": {
       "description": "Redo",
       "layout": "IPY_MODEL_6080901a89024d308e938158eab1dfc7",
       "style": "IPY_MODEL_e3949b8688a64665b606604f55a106f6",
       "tooltip": null
      }
     },
     "6080901a89024d308e938158eab1dfc7": {
      "model_module": "@jupyter-widgets/base",
      "model_module_version": "2.0.0",
      "model_name": "LayoutModel",
      "state": {}
     },
     "60b9a466386741958123bd6ef083b0e2": {
      "model_module": "@jupyter-widgets/base",
      "model_module_version": "2.0.0",
      "model_name": "LayoutModel",
      "state": {}
     },
     "62bc9da735d74091ba1afe67b79182bd": {
      "model_module": "ipydatagrid",
      "model_module_version": "^1.1.16",
      "model_name": "VegaExprModel",
      "state": {
       "_model_module_version": "^1.1.16",
       "_view_module": "ipydatagrid",
       "_view_module_version": "^1.1.16",
       "_view_name": "VegaExprView"
      }
     },
     "666e2c542c694052a02415b1f2c19f32": {
      "model_module": "@jupyter-widgets/base",
      "model_module_version": "2.0.0",
      "model_name": "LayoutModel",
      "state": {
       "height": "250px"
      }
     },
     "673c65a1db5449f795fa9377e342cf13": {
      "model_module": "@jupyter-widgets/controls",
      "model_module_version": "2.0.0",
      "model_name": "ButtonModel",
      "state": {
       "description": "Add Row",
       "layout": "IPY_MODEL_dfca80517af049629e165f920567ceb2",
       "style": "IPY_MODEL_7af160bd0e8c489786c14403dfebb9b6",
       "tooltip": null
      }
     },
     "6a2e404a392c4baa9354270c368465b5": {
      "model_module": "@jupyter-widgets/base",
      "model_module_version": "2.0.0",
      "model_name": "LayoutModel",
      "state": {}
     },
     "6dfcc2744481419f8de9d2968c2acf8e": {
      "model_module": "@jupyter-widgets/controls",
      "model_module_version": "2.0.0",
      "model_name": "ButtonStyleModel",
      "state": {
       "font_family": null,
       "font_size": null,
       "font_style": null,
       "font_variant": null,
       "font_weight": null,
       "text_color": null,
       "text_decoration": null
      }
     },
     "72006bdbf04444649091621520f87f45": {
      "model_module": "@jupyter-widgets/controls",
      "model_module_version": "2.0.0",
      "model_name": "ButtonModel",
      "state": {
       "description": "Add Row",
       "layout": "IPY_MODEL_456577efcfb14fc184c36400472d6542",
       "style": "IPY_MODEL_6dfcc2744481419f8de9d2968c2acf8e",
       "tooltip": null
      }
     },
     "724e1ce4ae5949a9b35f2f729c83fffc": {
      "model_module": "ipydatagrid",
      "model_module_version": "^1.1.16",
      "model_name": "TextRendererModel",
      "state": {
       "_model_module_version": "^1.1.16",
       "_view_module_version": "^1.1.16",
       "background_color": "IPY_MODEL_e9e7b3c5b41d4abf99147ad5f624f999",
       "text_color": "IPY_MODEL_62bc9da735d74091ba1afe67b79182bd"
      }
     },
     "75d7ef80901d43b9a28b4e2adf4d751f": {
      "model_module": "@jupyter-widgets/base",
      "model_module_version": "2.0.0",
      "model_name": "LayoutModel",
      "state": {}
     },
     "7af160bd0e8c489786c14403dfebb9b6": {
      "model_module": "@jupyter-widgets/controls",
      "model_module_version": "2.0.0",
      "model_name": "ButtonStyleModel",
      "state": {
       "font_family": null,
       "font_size": null,
       "font_style": null,
       "font_variant": null,
       "font_weight": null,
       "text_color": null,
       "text_decoration": null
      }
     },
     "843930a820004a00947d3d8211fed472": {
      "model_module": "@jupyter-widgets/output",
      "model_module_version": "1.0.0",
      "model_name": "OutputModel",
      "state": {
       "layout": "IPY_MODEL_2c19e4388ca64f859f12ff562b0d7b07"
      }
     },
     "846ec854128042168396b58755d1b240": {
      "model_module": "@jupyter-widgets/controls",
      "model_module_version": "2.0.0",
      "model_name": "HBoxModel",
      "state": {
       "children": [
        "IPY_MODEL_3c51bf3c36b945f881e73530ae4225f3",
        "IPY_MODEL_6018d6ebf85c476d882c44ddb7ff02aa",
        "IPY_MODEL_72006bdbf04444649091621520f87f45",
        "IPY_MODEL_a2dcf20185804c38bcd51353ee478a21",
        "IPY_MODEL_529808629bfe430690bb2a15f4fd1e02"
       ],
       "layout": "IPY_MODEL_6a2e404a392c4baa9354270c368465b5"
      }
     },
     "8a276537532042a88e097d8f1fcc0afa": {
      "model_module": "@jupyter-widgets/controls",
      "model_module_version": "2.0.0",
      "model_name": "ButtonStyleModel",
      "state": {
       "font_family": null,
       "font_size": null,
       "font_style": null,
       "font_variant": null,
       "font_weight": null,
       "text_color": null,
       "text_decoration": null
      }
     },
     "8f3059163ec04fe88448987a093cbfd6": {
      "model_module": "@jupyter-widgets/base",
      "model_module_version": "2.0.0",
      "model_name": "LayoutModel",
      "state": {}
     },
     "90eb3208f6314116a44db1a2d9f10ee6": {
      "model_module": "@jupyter-widgets/controls",
      "model_module_version": "2.0.0",
      "model_name": "ButtonStyleModel",
      "state": {
       "font_family": null,
       "font_size": null,
       "font_style": null,
       "font_variant": null,
       "font_weight": null,
       "text_color": null,
       "text_decoration": null
      }
     },
     "a2dcf20185804c38bcd51353ee478a21": {
      "model_module": "@jupyter-widgets/controls",
      "model_module_version": "2.0.0",
      "model_name": "ButtonModel",
      "state": {
       "description": "Add Column",
       "layout": "IPY_MODEL_2508a4202320471cabf96546e5554806",
       "style": "IPY_MODEL_a6aed52c60f64e4fb2b43a15f2abc747",
       "tooltip": null
      }
     },
     "a436808cb49e416eb952651353168ea3": {
      "model_module": "@jupyter-widgets/output",
      "model_module_version": "1.0.0",
      "model_name": "OutputModel",
      "state": {
       "layout": "IPY_MODEL_2b472492538a4c16b27e40eae3ce5561"
      }
     },
     "a68c389fbbd84493a2ae363258ccf1f4": {
      "model_module": "@jupyter-widgets/base",
      "model_module_version": "2.0.0",
      "model_name": "LayoutModel",
      "state": {}
     },
     "a6aed52c60f64e4fb2b43a15f2abc747": {
      "model_module": "@jupyter-widgets/controls",
      "model_module_version": "2.0.0",
      "model_name": "ButtonStyleModel",
      "state": {
       "font_family": null,
       "font_size": null,
       "font_style": null,
       "font_variant": null,
       "font_weight": null,
       "text_color": null,
       "text_decoration": null
      }
     },
     "af641d7f0d514cdc9566eabcb0d06b8a": {
      "model_module": "@jupyter-widgets/base",
      "model_module_version": "2.0.0",
      "model_name": "LayoutModel",
      "state": {}
     },
     "b6a44cf5e0d942b7b1f0f5edf161cc4e": {
      "model_module": "@jupyter-widgets/base",
      "model_module_version": "2.0.0",
      "model_name": "LayoutModel",
      "state": {}
     },
     "b6b6e020f4f247e8a00be2901b93244f": {
      "model_module": "@jupyter-widgets/controls",
      "model_module_version": "2.0.0",
      "model_name": "HBoxModel",
      "state": {
       "children": [
        "IPY_MODEL_081381ab9fc047ffa5328e3559654ec4",
        "IPY_MODEL_2e4e7d9cca18440bb68d6df81ec4210d",
        "IPY_MODEL_673c65a1db5449f795fa9377e342cf13",
        "IPY_MODEL_f6cfc82cc5a84c5f9bd26612daf54b09",
        "IPY_MODEL_026d5bd0ef4344ad97774439f4b38896"
       ],
       "layout": "IPY_MODEL_c26ffe49a1294f34b186a2df3f225d3c"
      }
     },
     "c26ffe49a1294f34b186a2df3f225d3c": {
      "model_module": "@jupyter-widgets/base",
      "model_module_version": "2.0.0",
      "model_name": "LayoutModel",
      "state": {}
     },
     "d1a846d62dfa4419b7d2bb3db9f646d2": {
      "model_module": "@jupyter-widgets/base",
      "model_module_version": "2.0.0",
      "model_name": "LayoutModel",
      "state": {}
     },
     "dfca80517af049629e165f920567ceb2": {
      "model_module": "@jupyter-widgets/base",
      "model_module_version": "2.0.0",
      "model_name": "LayoutModel",
      "state": {}
     },
     "e3949b8688a64665b606604f55a106f6": {
      "model_module": "@jupyter-widgets/controls",
      "model_module_version": "2.0.0",
      "model_name": "ButtonStyleModel",
      "state": {
       "font_family": null,
       "font_size": null,
       "font_style": null,
       "font_variant": null,
       "font_weight": null,
       "text_color": null,
       "text_decoration": null
      }
     },
     "e49faa9f26ea46b081d2182c07c9ba2b": {
      "model_module": "@jupyter-widgets/controls",
      "model_module_version": "2.0.0",
      "model_name": "ButtonStyleModel",
      "state": {
       "font_family": null,
       "font_size": null,
       "font_style": null,
       "font_variant": null,
       "font_weight": null,
       "text_color": null,
       "text_decoration": null
      }
     },
     "e86eaefa37d8489d8d23452cfb8c6ad5": {
      "model_module": "@jupyter-widgets/controls",
      "model_module_version": "2.0.0",
      "model_name": "ButtonStyleModel",
      "state": {
       "font_family": null,
       "font_size": null,
       "font_style": null,
       "font_variant": null,
       "font_weight": null,
       "text_color": null,
       "text_decoration": null
      }
     },
     "e9e7b3c5b41d4abf99147ad5f624f999": {
      "model_module": "ipydatagrid",
      "model_module_version": "^1.1.16",
      "model_name": "VegaExprModel",
      "state": {
       "_model_module_version": "^1.1.16",
       "_view_module": "ipydatagrid",
       "_view_module_version": "^1.1.16",
       "_view_name": "VegaExprView"
      }
     },
     "f6cfc82cc5a84c5f9bd26612daf54b09": {
      "model_module": "@jupyter-widgets/controls",
      "model_module_version": "2.0.0",
      "model_name": "ButtonModel",
      "state": {
       "description": "Add Column",
       "layout": "IPY_MODEL_a68c389fbbd84493a2ae363258ccf1f4",
       "style": "IPY_MODEL_8a276537532042a88e097d8f1fcc0afa",
       "tooltip": null
      }
     },
     "fb61036c6e924fa8acdfec4c9055472e": {
      "model_module": "@jupyter-widgets/base",
      "model_module_version": "2.0.0",
      "model_name": "LayoutModel",
      "state": {}
     }
    },
    "version_major": 2,
    "version_minor": 0
   }
  }
 },
 "nbformat": 4,
 "nbformat_minor": 5
}
